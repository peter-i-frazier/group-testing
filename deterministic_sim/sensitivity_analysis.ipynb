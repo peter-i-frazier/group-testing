{
 "cells": [
  {
   "cell_type": "code",
   "execution_count": 57,
   "id": "5486cbe5",
   "metadata": {},
   "outputs": [],
   "source": [
    "# imports\n",
    "import yaml\n",
    "import json\n",
    "import numpy as np\n",
    "from groups import population\n",
    "from strategy import Strategy\n",
    "from testing_regime import TestingRegime\n",
    "from transform import transform\n",
    "from sim_helper import sim_test_strategy\n",
    "import plotting"
   ]
  },
  {
   "cell_type": "code",
   "execution_count": 52,
   "id": "bf310167",
   "metadata": {},
   "outputs": [],
   "source": [
    "# get parameters\n",
    "nominal_scenario = yaml.safe_load(open(\"nominal.yaml\", \"r\"))\n",
    "json_params = json.load(open(nominal_scenario[\"json_path\"]))\n",
    "nominal_scenario.update(json_params)\n",
    "\n",
    "nominal_scenario[\"meta_matrix\"] = \\\n",
    "    np.array([list(row.values()) for row in nominal_scenario[\"meta_matrix\"].values()])"
   ]
  },
  {
   "cell_type": "code",
   "execution_count": 53,
   "id": "6b26fa75",
   "metadata": {},
   "outputs": [],
   "source": [
    "T = nominal_scenario['T']\n",
    "CLASSWORK_TRANSMISSION_MULTIPLIER = \\\n",
    "    list(nominal_scenario['classwork_transmission_multiplier'].values())"
   ]
  },
  {
   "cell_type": "code",
   "execution_count": 54,
   "id": "60fdcb3f",
   "metadata": {},
   "outputs": [],
   "source": [
    "popul = population.from_scenario(nominal_scenario)\n",
    "\n",
    "no_testing_testing_regime=TestingRegime(popul=popul, tests_per_week=0,\n",
    "                                        test_delay=1, params=nominal_scenario)\n",
    "\n",
    "ug_prof_2x_week_testing_regime= \\\n",
    "    TestingRegime(popul=popul, tests_per_week={ 'UG':2, 'GR':0, 'PR':2, 'FS':0},\n",
    "                  test_delay=1, params=nominal_scenario)\n",
    "\n",
    "surge_testing_strategy = \\\n",
    "    Strategy(name=\"UG+Prof. 2x/wk in Virtual Instr. Only\",\n",
    "         # pct_discovered_in_pre_departure=0.5,   # Using Scenario 1\n",
    "         # pct_discovered_in_arrival_test=0.335,  # Using Scenario 1\n",
    "         pct_discovered_in_pre_departure=0.25,  # Using Scenario 2\n",
    "         pct_discovered_in_arrival_test=0.38,  # Using Scenario 2\n",
    "         testing_regimes=[ug_prof_2x_week_testing_regime,\n",
    "                          ug_prof_2x_week_testing_regime,\n",
    "                          no_testing_testing_regime],\n",
    "         transmission_multipliers=[1, CLASSWORK_TRANSMISSION_MULTIPLIER,\n",
    "                                   CLASSWORK_TRANSMISSION_MULTIPLIER],\n",
    "         period_lengths=[3,3,T-6-1])"
   ]
  },
  {
   "cell_type": "code",
   "execution_count": 55,
   "id": "8ba7c4ff",
   "metadata": {},
   "outputs": [],
   "source": [
    "trajectories = []\n",
    "for i in np.linspace(0,1,10):\n",
    "    scenario = transform(nominal_scenario, {\"winter_break_infections_global\": i})\n",
    "    trajectories.append(sim_test_strategy(scenario, popul, surge_testing_strategy, 'black'))"
   ]
  },
  {
   "cell_type": "code",
   "execution_count": 59,
   "id": "8336d55b",
   "metadata": {},
   "outputs": [
    {
     "data": {
      "text/plain": [
       "<plotting.Trajectory at 0x7fd624314f10>"
      ]
     },
     "execution_count": 59,
     "metadata": {},
     "output_type": "execute_result"
    }
   ],
   "source": [
    "trajectories[0]"
   ]
  },
  {
   "cell_type": "code",
   "execution_count": null,
   "id": "a205e9af",
   "metadata": {},
   "outputs": [],
   "source": []
  }
 ],
 "metadata": {
  "kernelspec": {
   "display_name": "Python 3",
   "language": "python",
   "name": "python3"
  },
  "language_info": {
   "codemirror_mode": {
    "name": "ipython",
    "version": 3
   },
   "file_extension": ".py",
   "mimetype": "text/x-python",
   "name": "python",
   "nbconvert_exporter": "python",
   "pygments_lexer": "ipython3",
   "version": "3.8.8"
  }
 },
 "nbformat": 4,
 "nbformat_minor": 5
}
