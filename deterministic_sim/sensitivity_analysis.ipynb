{
 "cells": [
  {
   "cell_type": "code",
   "execution_count": 4,
   "id": "1e692fa1",
   "metadata": {},
   "outputs": [],
   "source": [
    "# imports\n",
    "import yaml\n",
    "import json"
   ]
  },
  {
   "cell_type": "code",
   "execution_count": 10,
   "id": "8b0f44e1",
   "metadata": {},
   "outputs": [],
   "source": [
    "# get parameters\n",
    "nominal_scenario = yaml.safe_load(open(\"nominal.yaml\", \"r\"))\n",
    "json_params = json.load(open(nominal_scenario[\"json_path\"]))\n",
    "nominal_scenario.update(json_params)"
   ]
  },
  {
   "cell_type": "code",
   "execution_count": 11,
   "id": "1e1b8858",
   "metadata": {},
   "outputs": [
    {
     "data": {
      "text/plain": [
       "{'metagroups': ['UG', 'GR', 'PR', 'FS'],\n",
       " 'metagroup_names': {'UG': 'UG',\n",
       "  'GR': 'Grad-Research',\n",
       "  'PR': 'Professional',\n",
       "  'FS': 'Employees'},\n",
       " 'population_count': {'UG': 16000, 'GR': 8000, 'PR': 3000, 'FS': 10000},\n",
       " 'dec_surge_infections': {'UG': 1900, 'GR': 0, 'PR': 0, 'FS': 0},\n",
       " 'winter_break_infections': {'UG': 2506, 'GR': 627, 'PR': 235, 'FS': 600},\n",
       " 'active_infections': {'UG': 965, 'GR': 241, 'PR': 90, 'FS': 45},\n",
       " 'hospitalization_rates': {'UG': 0.00025,\n",
       "  'GR': 0.00025,\n",
       "  'PR': 0.00025,\n",
       "  'FS': 0.005},\n",
       " 'outside_rates': {'UG': 0.8, 'GR': 0.4, 'PR': 0.15, 'FS': 5},\n",
       " 'classwork_transmission_multiplier': {'UG': 0.85,\n",
       "  'GR': 1,\n",
       "  'PR': 0.85,\n",
       "  'FS': 1},\n",
       " 'infections_per_day_per_contact_unit': {'UG': 0.28,\n",
       "  'GR': 0.1,\n",
       "  'PR': 0.1,\n",
       "  'FS': 0.015},\n",
       " 'T': 28,\n",
       " 'symptomatic_rate': 0.525,\n",
       " 'no_surveillance_test_rate': 0.01,\n",
       " 'booster_effectiveness': 0.5,\n",
       " 'generation_time': 4,\n",
       " 'on_campus_frac': 0.41875,\n",
       " 'isolation_durations': [5, 10],\n",
       " 'isolation_fracs': [0.8, 0.2],\n",
       " 'max_infectious_days': 6,\n",
       " 'pcr_sensitivity': 0.9,\n",
       " 'json_path': 'nominal.json',\n",
       " 'pop_fracs': [[0.3771077769,\n",
       "   0.1744692313,\n",
       "   0.2130738259,\n",
       "   0.07227578963,\n",
       "   0.05147885598,\n",
       "   0.04364552029,\n",
       "   0.02718384893,\n",
       "   0.01451678525,\n",
       "   0.02624836593],\n",
       "  [0.5790258783,\n",
       "   0.1683859957,\n",
       "   0.05712348893,\n",
       "   0.04359733917,\n",
       "   0.03548852695,\n",
       "   0.0451325654,\n",
       "   0.03935404056,\n",
       "   0.01167552257,\n",
       "   0.01055548401,\n",
       "   0.009661158416],\n",
       "  [0.472724139,\n",
       "   0.1443461065,\n",
       "   0.03264544331,\n",
       "   0.1245769902,\n",
       "   0.04056260275,\n",
       "   0.03439035051,\n",
       "   0.04498079947,\n",
       "   0.01334486452,\n",
       "   0.04825874066,\n",
       "   0.04416996305],\n",
       "  [0.5559842653,\n",
       "   0.1914068446,\n",
       "   0.09034172148,\n",
       "   0.07325926546,\n",
       "   0.03157069457,\n",
       "   0.02081854892,\n",
       "   0.01296646907,\n",
       "   0.01615689928,\n",
       "   0,\n",
       "   0.005729729349,\n",
       "   0.00176556195]],\n",
       " 'meta_matrix': [[0.8351648352, 0.03296703297, 0.05054945055, 0.08131868132],\n",
       "  [0.02033898305, 0.9593220339, 0.02033898305, 0.0],\n",
       "  [0.1634615385, 0.1057692308, 0.6923076923, 0.03846153846],\n",
       "  [0.06875, 0.0125, 0.05, 0.86875]]}"
      ]
     },
     "execution_count": 11,
     "metadata": {},
     "output_type": "execute_result"
    }
   ],
   "source": [
    "nominal_scenario"
   ]
  },
  {
   "cell_type": "code",
   "execution_count": null,
   "id": "621f47d4",
   "metadata": {},
   "outputs": [],
   "source": []
  }
 ],
 "metadata": {
  "kernelspec": {
   "display_name": "Python 3",
   "language": "python",
   "name": "python3"
  },
  "language_info": {
   "codemirror_mode": {
    "name": "ipython",
    "version": 3
   },
   "file_extension": ".py",
   "mimetype": "text/x-python",
   "name": "python",
   "nbconvert_exporter": "python",
   "pygments_lexer": "ipython3",
   "version": "3.8.8"
  }
 },
 "nbformat": 4,
 "nbformat_minor": 5
}
