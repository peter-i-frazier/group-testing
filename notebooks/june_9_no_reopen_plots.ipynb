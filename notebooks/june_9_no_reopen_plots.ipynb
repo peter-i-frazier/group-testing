{
 "cells": [
  {
   "cell_type": "code",
   "execution_count": 23,
   "metadata": {},
   "outputs": [],
   "source": [
    "import sys\n",
    "import os\n",
    "import numpy as np\n",
    "module_path = os.path.abspath(os.path.join('..'))\n",
    "if module_path not in sys.path:\n",
    "    sys.path.append(module_path + \"/src/simulations_v2\")\n",
    "from multiparam_output_loader import MultiParamOutputLoader"
   ]
  },
  {
   "cell_type": "markdown",
   "metadata": {},
   "source": [
    "Load results from running one simulation that represents no reopening of University"
   ]
  },
  {
   "cell_type": "code",
   "execution_count": 33,
   "metadata": {
    "scrolled": true
   },
   "outputs": [],
   "source": [
    "output = MultiParamOutputLoader(\"/Users/stevewangen/projects/COVID/uw_reopening/src/simulations_v2/sim_output/1595359110.991767-asymptomatic_daily_self_report_p\")"
   ]
  },
  {
   "cell_type": "code",
   "execution_count": 34,
   "metadata": {},
   "outputs": [
    {
     "data": {
      "text/plain": [
       "['Pessimistic Faculty and Staff Parameters',\n",
       " 'Optimistic Student Parameters',\n",
       " 'Optimistic Faculty and Staff Parameters',\n",
       " 'Pessimistic Student Parameters',\n",
       " 'Nominal Student Parameters',\n",
       " 'Nominal Faculty and Staff Parameters']"
      ]
     },
     "execution_count": 34,
     "metadata": {},
     "output_type": "execute_result"
    }
   ],
   "source": [
    "output.param_scenarios"
   ]
  },
  {
   "cell_type": "markdown",
   "metadata": {},
   "source": [
    "Load results from running one simulation that represents one reopening strategy of University"
   ]
  },
  {
   "cell_type": "code",
   "execution_count": 35,
   "metadata": {},
   "outputs": [],
   "source": [
    "reopen_output = MultiParamOutputLoader(\"/Users/stevewangen/projects/COVID/uw_reopening/src/simulations_v2/sim_output/1595359062.49771-test_protocol_QFNR\")"
   ]
  },
  {
   "cell_type": "code",
   "execution_count": 36,
   "metadata": {},
   "outputs": [
    {
     "data": {
      "text/plain": [
       "['Optimistic Parameters', 'Nominal Parameters', 'Pessimistic Parameters']"
      ]
     },
     "execution_count": 36,
     "metadata": {},
     "output_type": "execute_result"
    }
   ],
   "source": [
    "reopen_output.param_scenarios"
   ]
  },
  {
   "cell_type": "code",
   "execution_count": 37,
   "metadata": {},
   "outputs": [],
   "source": [
    "def get_cum_hosp(df):\n",
    "    return df[['severity_3', 'severity_2']].iloc[df.shape[0] - 1].sum()\n",
    "\n",
    "def get_hosp_counts(scenario, noreopen_output, reopen_output):\n",
    "    # scenario must be one of [Nominal, Optimistic, Pessimistic]\n",
    "    \n",
    "    # noreopen - non-student population\n",
    "    nonstudent_key = '{} Faculty and Staff Parameters'.format(scenario)\n",
    "    nonstudent_counts = [get_cum_hosp(df) for df in \n",
    "                         noreopen_output.sim_results[nonstudent_key][(0.0,)]]\n",
    "    \n",
    "    # noreopen - student population\n",
    "    student_key = '{} Student Parameters'.format(scenario)\n",
    "    student_counts = [get_cum_hosp(df) for df in \n",
    "                         noreopen_output.sim_results[student_key][(0.0,)]]\n",
    "    \n",
    "    noreopen_counts = [a + b for a,b in zip(nonstudent_counts, student_counts)]\n",
    "    \n",
    "    # reopen population\n",
    "    key = '{} Parameters'.format(scenario)\n",
    "    reopen_counts = [get_cum_hosp(df) for df in \n",
    "                    reopen_output.sim_results[key][(0.1,)]]\n",
    "    \n",
    "    return noreopen_counts, reopen_counts"
   ]
  },
  {
   "cell_type": "code",
   "execution_count": 38,
   "metadata": {},
   "outputs": [],
   "source": [
    "def get_cum_outside_infections(df):\n",
    "    return df['cumulative_outside_infections'].iloc[df.shape[0] - 1].sum()\n",
    "\n",
    "def get_outside_infection_counts(scenario, noreopen_output, reopen_output):\n",
    "    # scenario must be one of [Nominal, Optimistic, Pessimistic]\n",
    "    \n",
    "    # noreopen - non-student population\n",
    "    nonstudent_key = '{} Faculty and Staff Parameters'.format(scenario)\n",
    "    nonstudent_counts = [get_cum_outside_infections(df) for df in \n",
    "                         noreopen_output.sim_results[nonstudent_key][(0.0,)]]\n",
    "    \n",
    "    # noreopen - student population\n",
    "    student_key = '{} Student Parameters'.format(scenario)\n",
    "    student_counts = [get_cum_outside_infections(df) for df in \n",
    "                         noreopen_output.sim_results[student_key][(0.0,)]]\n",
    "    \n",
    "    \n",
    "    noreopen_counts = [a + b for a,b in zip(nonstudent_counts, student_counts)]\n",
    "    \n",
    "    # reopen population\n",
    "    key = '{} Parameters'.format(scenario)\n",
    "    reopen_counts = [get_cum_outside_infections(df) for df in \n",
    "                    reopen_output.sim_results[key][(0.1,)]]\n",
    "    \n",
    "    return noreopen_counts, reopen_counts\n",
    "\n",
    "\n",
    "    \n",
    "    "
   ]
  },
  {
   "cell_type": "code",
   "execution_count": 39,
   "metadata": {},
   "outputs": [],
   "source": [
    "def get_cum_infections(df):\n",
    "    return df[['cumulative_mild', 'cumulative_severe']].iloc[df.shape[0] - 1].sum()\n",
    "\n",
    "def get_infection_counts(scenario, noreopen_output, reopen_output):\n",
    "    # scenario must be one of [Nominal, Optimistic, Pessimistic]\n",
    "    \n",
    "    # noreopen - non-student population\n",
    "    nonstudent_key = '{} Faculty and Staff Parameters'.format(scenario)\n",
    "    nonstudent_counts = [get_cum_infections(df) for df in \n",
    "                         noreopen_output.sim_results[nonstudent_key][(0.0,)]]\n",
    "    \n",
    "    # noreopen - student population\n",
    "    student_key = '{} Student Parameters'.format(scenario)\n",
    "    student_counts = [get_cum_infections(df) for df in \n",
    "                         noreopen_output.sim_results[student_key][(0.0,)]]\n",
    "    \n",
    "    noreopen_counts = [a + b for a,b in zip(nonstudent_counts, student_counts)]\n",
    "    \n",
    "    # reopen population\n",
    "    key = '{} Parameters'.format(scenario)\n",
    "    reopen_counts = [get_cum_infections(df) for df in \n",
    "                    reopen_output.sim_results[key][(0.1,)]]\n",
    "    \n",
    "    return noreopen_counts, reopen_counts\n",
    "\n",
    "\n",
    "    \n",
    "    "
   ]
  },
  {
   "cell_type": "code",
   "execution_count": 40,
   "metadata": {},
   "outputs": [
    {
     "data": {
      "text/plain": [
       "dict_keys(['Optimistic Parameters', 'Nominal Parameters', 'Pessimistic Parameters'])"
      ]
     },
     "execution_count": 40,
     "metadata": {},
     "output_type": "execute_result"
    }
   ],
   "source": [
    "reopen_output.sim_results.keys()"
   ]
  },
  {
   "cell_type": "code",
   "execution_count": 42,
   "metadata": {},
   "outputs": [
    {
     "data": {
      "image/png": "[encoded data removed]",
      "text/plain": [
       "<Figure size 720x432 with 1 Axes>"
      ]
     },
     "metadata": {
      "needs_background": "light"
     },
     "output_type": "display_data"
    }
   ],
   "source": [
    "import matplotlib.pyplot as plt\n",
    "%matplotlib inline\n",
    "\n",
    "scenario = 'Nominal'\n",
    "plt.figure(figsize=(10,6))\n",
    "noreopen_counts, reopen_counts = get_infection_counts(scenario, output, reopen_output)\n",
    "plt.hist(noreopen_counts, label=\"No-Reopen Infection Counts\")\n",
    "plt.hist(reopen_counts, label=\"Reopen Infection Counts\")\n",
    "plt.legend(loc='best')\n",
    "plt.title('Reopen vs. No-Reopen Infection Counts Under {} Parameters'.format(scenario))\n",
    "plt.show()"
   ]
  },
  {
   "cell_type": "code",
   "execution_count": 43,
   "metadata": {},
   "outputs": [
    {
     "data": {
      "image/png": "[encoded data removed]",
      "text/plain": [
       "<Figure size 720x432 with 1 Axes>"
      ]
     },
     "metadata": {
      "needs_background": "light"
     },
     "output_type": "display_data"
    }
   ],
   "source": [
    "scenario = 'Optimistic'\n",
    "plt.figure(figsize=(10,6))\n",
    "noreopen_counts, reopen_counts = get_infection_counts(scenario, output, reopen_output)\n",
    "plt.hist(noreopen_counts, label=\"No-Reopen Infection Counts\")\n",
    "plt.hist(reopen_counts, label=\"Reopen Infection Counts\")\n",
    "plt.legend(loc='best')\n",
    "plt.title('Reopen vs. No-Reopen Infection Counts Under {} Parameters'.format(scenario))\n",
    "plt.show()"
   ]
  },
  {
   "cell_type": "code",
   "execution_count": 44,
   "metadata": {},
   "outputs": [
    {
     "data": {
      "image/png": "[encoded data removed]",
      "text/plain": [
       "<Figure size 720x432 with 1 Axes>"
      ]
     },
     "metadata": {
      "needs_background": "light"
     },
     "output_type": "display_data"
    }
   ],
   "source": [
    "scenario = 'Pessimistic'\n",
    "plt.figure(figsize=(10,6))\n",
    "noreopen_counts, reopen_counts = get_infection_counts(scenario, output, reopen_output)\n",
    "plt.hist(noreopen_counts, label=\"No-Reopen Infection Counts\")\n",
    "plt.hist(reopen_counts, label=\"Reopen Infection Counts\")\n",
    "plt.legend(loc='best')\n",
    "plt.title('Reopen vs. No-Reopen Infection Counts Under {} Parameters'.format(scenario))\n",
    "plt.show()"
   ]
  },
  {
   "cell_type": "code",
   "execution_count": 45,
   "metadata": {},
   "outputs": [
    {
     "ename": "FileNotFoundError",
     "evalue": "[Errno 2] No such file or directory: '/nfs01/covid_sims/1591748288.36406-asymptomatic_daily_self_report_p'",
     "output_type": "error",
     "traceback": [
      "\u001b[0;31m---------------------------------------------------------------------------\u001b[0m",
      "\u001b[0;31mFileNotFoundError\u001b[0m                         Traceback (most recent call last)",
      "\u001b[0;32m<ipython-input-45-ee18f0a88569>\u001b[0m in \u001b[0;36m<module>\u001b[0;34m\u001b[0m\n\u001b[0;32m----> 1\u001b[0;31m \u001b[0magedist_output\u001b[0m \u001b[0;34m=\u001b[0m \u001b[0mMultiParamOutputLoader\u001b[0m\u001b[0;34m(\u001b[0m\u001b[0;34m\"/nfs01/covid_sims/1591748288.36406-asymptomatic_daily_self_report_p\"\u001b[0m\u001b[0;34m)\u001b[0m\u001b[0;34m\u001b[0m\u001b[0m\n\u001b[0m",
      "\u001b[0;32m~/projects/COVID/uw_reopening/src/simulations_v2/multiparam_output_loader.py\u001b[0m in \u001b[0;36m__init__\u001b[0;34m(self, sim_dir)\u001b[0m\n\u001b[1;32m     40\u001b[0m         \u001b[0mself\u001b[0m\u001b[0;34m.\u001b[0m\u001b[0mscn_params\u001b[0m \u001b[0;34m=\u001b[0m \u001b[0;34m{\u001b[0m\u001b[0;34m}\u001b[0m\u001b[0;34m\u001b[0m\u001b[0m\n\u001b[1;32m     41\u001b[0m         \u001b[0mself\u001b[0m\u001b[0;34m.\u001b[0m\u001b[0mvarying_params\u001b[0m \u001b[0;34m=\u001b[0m \u001b[0;32mNone\u001b[0m\u001b[0;34m\u001b[0m\u001b[0m\n\u001b[0;32m---> 42\u001b[0;31m         \u001b[0msubfolders\u001b[0m \u001b[0;34m=\u001b[0m \u001b[0;34m[\u001b[0m\u001b[0mf\u001b[0m\u001b[0;34m.\u001b[0m\u001b[0mpath\u001b[0m \u001b[0;32mfor\u001b[0m \u001b[0mf\u001b[0m \u001b[0;32min\u001b[0m \u001b[0mos\u001b[0m\u001b[0;34m.\u001b[0m\u001b[0mscandir\u001b[0m\u001b[0;34m(\u001b[0m\u001b[0msim_dir\u001b[0m\u001b[0;34m)\u001b[0m \u001b[0;32mif\u001b[0m \u001b[0mf\u001b[0m\u001b[0;34m.\u001b[0m\u001b[0mis_dir\u001b[0m\u001b[0;34m(\u001b[0m\u001b[0;34m)\u001b[0m\u001b[0;34m]\u001b[0m\u001b[0;34m\u001b[0m\u001b[0m\n\u001b[0m\u001b[1;32m     43\u001b[0m         \u001b[0;32mfor\u001b[0m \u001b[0mfolder\u001b[0m \u001b[0;32min\u001b[0m \u001b[0msubfolders\u001b[0m\u001b[0;34m:\u001b[0m\u001b[0;34m\u001b[0m\u001b[0m\n\u001b[1;32m     44\u001b[0m             \u001b[0mscn_name\u001b[0m \u001b[0;34m=\u001b[0m \u001b[0mfolder\u001b[0m\u001b[0;34m.\u001b[0m\u001b[0msplit\u001b[0m\u001b[0;34m(\u001b[0m\u001b[0;34m'/'\u001b[0m\u001b[0;34m)\u001b[0m\u001b[0;34m[\u001b[0m\u001b[0;34m-\u001b[0m\u001b[0;36m1\u001b[0m\u001b[0;34m]\u001b[0m\u001b[0;34m\u001b[0m\u001b[0m\n",
      "\u001b[0;31mFileNotFoundError\u001b[0m: [Errno 2] No such file or directory: '/nfs01/covid_sims/1591748288.36406-asymptomatic_daily_self_report_p'"
     ]
    }
   ],
   "source": [
    "agedist_output = MultiParamOutputLoader(\"/nfs01/covid_sims/1591748288.36406-asymptomatic_daily_self_report_p\")"
   ]
  },
  {
   "cell_type": "code",
   "execution_count": 46,
   "metadata": {},
   "outputs": [
    {
     "ename": "NameError",
     "evalue": "name 'agedist_output' is not defined",
     "output_type": "error",
     "traceback": [
      "\u001b[0;31m---------------------------------------------------------------------------\u001b[0m",
      "\u001b[0;31mNameError\u001b[0m                                 Traceback (most recent call last)",
      "\u001b[0;32m<ipython-input-46-9ca53a65eb68>\u001b[0m in \u001b[0;36m<module>\u001b[0;34m\u001b[0m\n\u001b[1;32m      4\u001b[0m \u001b[0mscenario\u001b[0m \u001b[0;34m=\u001b[0m \u001b[0;34m'Nominal'\u001b[0m\u001b[0;34m\u001b[0m\u001b[0m\n\u001b[1;32m      5\u001b[0m \u001b[0mplt\u001b[0m\u001b[0;34m.\u001b[0m\u001b[0mfigure\u001b[0m\u001b[0;34m(\u001b[0m\u001b[0mfigsize\u001b[0m\u001b[0;34m=\u001b[0m\u001b[0;34m(\u001b[0m\u001b[0;36m10\u001b[0m\u001b[0;34m,\u001b[0m\u001b[0;36m6\u001b[0m\u001b[0;34m)\u001b[0m\u001b[0;34m)\u001b[0m\u001b[0;34m\u001b[0m\u001b[0m\n\u001b[0;32m----> 6\u001b[0;31m \u001b[0mnoreopen_counts\u001b[0m\u001b[0;34m,\u001b[0m \u001b[0mreopen_counts\u001b[0m \u001b[0;34m=\u001b[0m \u001b[0mget_infection_counts\u001b[0m\u001b[0;34m(\u001b[0m\u001b[0mscenario\u001b[0m\u001b[0;34m,\u001b[0m \u001b[0magedist_output\u001b[0m\u001b[0;34m,\u001b[0m \u001b[0mreopen_output\u001b[0m\u001b[0;34m)\u001b[0m\u001b[0;34m\u001b[0m\u001b[0m\n\u001b[0m\u001b[1;32m      7\u001b[0m \u001b[0mplt\u001b[0m\u001b[0;34m.\u001b[0m\u001b[0mhist\u001b[0m\u001b[0;34m(\u001b[0m\u001b[0mnoreopen_counts\u001b[0m\u001b[0;34m,\u001b[0m \u001b[0mlabel\u001b[0m\u001b[0;34m=\u001b[0m\u001b[0;34m\"No-Reopen Infection Counts\"\u001b[0m\u001b[0;34m,\u001b[0m \u001b[0mnormed\u001b[0m\u001b[0;34m=\u001b[0m\u001b[0;32mTrue\u001b[0m\u001b[0;34m)\u001b[0m\u001b[0;34m\u001b[0m\u001b[0m\n\u001b[1;32m      8\u001b[0m \u001b[0mplt\u001b[0m\u001b[0;34m.\u001b[0m\u001b[0mhist\u001b[0m\u001b[0;34m(\u001b[0m\u001b[0mreopen_counts\u001b[0m\u001b[0;34m,\u001b[0m \u001b[0mlabel\u001b[0m\u001b[0;34m=\u001b[0m\u001b[0;34m\"Reopen Infection Counts\"\u001b[0m\u001b[0;34m,\u001b[0m \u001b[0mnormed\u001b[0m\u001b[0;34m=\u001b[0m\u001b[0;32mTrue\u001b[0m\u001b[0;34m)\u001b[0m\u001b[0;34m\u001b[0m\u001b[0m\n",
      "\u001b[0;31mNameError\u001b[0m: name 'agedist_output' is not defined"
     ]
    },
    {
     "data": {
      "text/plain": [
       "<Figure size 720x432 with 0 Axes>"
      ]
     },
     "metadata": {},
     "output_type": "display_data"
    }
   ],
   "source": [
    "import matplotlib.pyplot as plt\n",
    "%matplotlib inline\n",
    "\n",
    "scenario = 'Nominal'\n",
    "plt.figure(figsize=(10,6))\n",
    "noreopen_counts, reopen_counts = get_infection_counts(scenario, agedist_output, reopen_output)\n",
    "plt.hist(noreopen_counts, label=\"No-Reopen Infection Counts\", normed=True)\n",
    "plt.hist(reopen_counts, label=\"Reopen Infection Counts\", normed=True)\n",
    "plt.legend(loc='best')\n",
    "plt.title('Reopen vs. No-Reopen Infection Counts Under {} Parameters'.format(scenario))\n",
    "plt.show()"
   ]
  },
  {
   "cell_type": "code",
   "execution_count": 43,
   "metadata": {},
   "outputs": [
    {
     "data": {
      "image/png": "[encoded data removed]",
      "text/plain": [
       "<matplotlib.figure.Figure at 0x7f188a400860>"
      ]
     },
     "metadata": {},
     "output_type": "display_data"
    }
   ],
   "source": [
    "scenario = 'Optimistic'\n",
    "plt.figure(figsize=(10,6))\n",
    "noreopen_counts, reopen_counts = get_infection_counts(scenario, agedist_output, reopen_output)\n",
    "plt.hist(noreopen_counts, label=\"No-Reopen Infection Counts\", normed=True)\n",
    "plt.hist(reopen_counts, label=\"Reopen Infection Counts\", normed=True)\n",
    "plt.legend(loc='best')\n",
    "plt.title('Reopen vs. No-Reopen Infection Counts Under {} Parameters'.format(scenario))\n",
    "plt.show()"
   ]
  },
  {
   "cell_type": "code",
   "execution_count": 44,
   "metadata": {},
   "outputs": [
    {
     "data": {
      "image/png": "[encoded data removed]",
      "text/plain": [
       "<matplotlib.figure.Figure at 0x7f188a400940>"
      ]
     },
     "metadata": {},
     "output_type": "display_data"
    }
   ],
   "source": [
    "scenario = 'Pessimistic'\n",
    "plt.figure(figsize=(10,6))\n",
    "noreopen_counts, reopen_counts = get_infection_counts(scenario, agedist_output, reopen_output)\n",
    "plt.hist(noreopen_counts, label=\"No-Reopen Infection Counts\", normed=True)\n",
    "plt.hist(reopen_counts, label=\"Reopen Infection Counts\", normed=True)\n",
    "plt.legend(loc='best')\n",
    "plt.title('Reopen vs. No-Reopen Infection Counts Under {} Parameters'.format(scenario))\n",
    "plt.show()"
   ]
  },
  {
   "cell_type": "code",
   "execution_count": null,
   "metadata": {
    "collapsed": true
   },
   "outputs": [],
   "source": []
  },
  {
   "cell_type": "code",
   "execution_count": null,
   "metadata": {
    "collapsed": true
   },
   "outputs": [],
   "source": []
  },
  {
   "cell_type": "code",
   "execution_count": null,
   "metadata": {
    "collapsed": true
   },
   "outputs": [],
   "source": []
  },
  {
   "cell_type": "code",
   "execution_count": null,
   "metadata": {
    "collapsed": true
   },
   "outputs": [],
   "source": []
  },
  {
   "cell_type": "code",
   "execution_count": 45,
   "metadata": {},
   "outputs": [
    {
     "data": {
      "image/png": "[encoded data removed]",
      "text/plain": [
       "<matplotlib.figure.Figure at 0x7f188a400ba8>"
      ]
     },
     "metadata": {},
     "output_type": "display_data"
    }
   ],
   "source": [
    "import matplotlib.pyplot as plt\n",
    "%matplotlib inline\n",
    "\n",
    "scenario = 'Nominal'\n",
    "plt.figure(figsize=(10,6))\n",
    "noreopen_counts, reopen_counts = get_hosp_counts(scenario, agedist_output, reopen_output)\n",
    "plt.hist(noreopen_counts, label=\"No-Reopen Hospitalization Counts\", normed=True)\n",
    "plt.hist(reopen_counts, label=\"Reopen Hospitalization Counts\", normed=True)\n",
    "plt.legend(loc='best')\n",
    "plt.title('Reopen vs. No-Reopen Hospitalization Counts Under {} Parameters'.format(scenario))\n",
    "plt.show()"
   ]
  },
  {
   "cell_type": "code",
   "execution_count": 46,
   "metadata": {},
   "outputs": [
    {
     "data": {
      "image/png": "[encoded data removed]",
      "text/plain": [
       "<matplotlib.figure.Figure at 0x7f189e196eb8>"
      ]
     },
     "metadata": {},
     "output_type": "display_data"
    }
   ],
   "source": [
    "import matplotlib.pyplot as plt\n",
    "%matplotlib inline\n",
    "\n",
    "scenario = 'Pessimistic'\n",
    "plt.figure(figsize=(10,6))\n",
    "noreopen_counts, reopen_counts = get_hosp_counts(scenario, agedist_output, reopen_output)\n",
    "plt.hist(noreopen_counts, label=\"No-Reopen Hospitalization Counts\", normed=True)\n",
    "plt.hist(reopen_counts, label=\"Reopen Hospitalization Counts\", normed=True)\n",
    "plt.legend(loc='best')\n",
    "plt.title('Reopen vs. No-Reopen Hospitalization Counts Under {} Parameters'.format(scenario))\n",
    "plt.show()"
   ]
  },
  {
   "cell_type": "code",
   "execution_count": 47,
   "metadata": {},
   "outputs": [
    {
     "data": {
      "image/png": "[encoded data removed]",
      "text/plain": [
       "<matplotlib.figure.Figure at 0x7f188ad56c88>"
      ]
     },
     "metadata": {},
     "output_type": "display_data"
    }
   ],
   "source": [
    "import matplotlib.pyplot as plt\n",
    "%matplotlib inline\n",
    "\n",
    "scenario = 'Optimistic'\n",
    "plt.figure(figsize=(10,6))\n",
    "noreopen_counts, reopen_counts = get_hosp_counts(scenario, agedist_output, reopen_output)\n",
    "plt.hist(noreopen_counts, label=\"No-Reopen Hospitalization Counts\", normed=True)\n",
    "plt.hist(reopen_counts, label=\"Reopen Hospitalization Counts\", normed=True)\n",
    "plt.legend(loc='best')\n",
    "plt.title('Reopen vs. No-Reopen Hospitalization Counts Under {} Parameters'.format(scenario))\n",
    "plt.show()"
   ]
  },
  {
   "cell_type": "code",
   "execution_count": 34,
   "metadata": {},
   "outputs": [
    {
     "data": {
      "text/plain": [
       "Index(['S', 'QS', 'QI', 'R', 'E_0', 'E_1', 'E_2', 'E_3', 'E_4', 'E_5', 'E_6',\n",
       "       'pre_ID_0', 'pre_ID_1', 'pre_ID_2', 'pre_ID_3', 'ID_0', 'ID_1', 'ID_2',\n",
       "       'ID_3', 'ID_4', 'ID_5', 'ID_6', 'ID_7', 'SyID_mild_0', 'SyID_mild_1',\n",
       "       'SyID_mild_2', 'SyID_mild_3', 'SyID_mild_4', 'SyID_mild_5',\n",
       "       'SyID_mild_6', 'SyID_mild_7', 'SyID_mild_8', 'SyID_mild_9',\n",
       "       'SyID_mild_10', 'SyID_mild_11', 'SyID_mild_12', 'SyID_mild_13',\n",
       "       'SyID_mild_14', 'SyID_mild_15', 'SyID_mild_16', 'SyID_mild_17',\n",
       "       'SyID_severe_0', 'SyID_severe_1', 'SyID_severe_2', 'SyID_severe_3',\n",
       "       'SyID_severe_4', 'SyID_severe_5', 'SyID_severe_6', 'SyID_severe_7',\n",
       "       'SyID_severe_8', 'SyID_severe_9', 'SyID_severe_10', 'SyID_severe_11',\n",
       "       'SyID_severe_12', 'SyID_severe_13', 'SyID_severe_14', 'SyID_severe_15',\n",
       "       'SyID_severe_16', 'SyID_severe_17', 'cumulative_mild',\n",
       "       'cumulative_severe', 'cumulative_outside_infections', 'severity_0',\n",
       "       'severity_1', 'severity_2', 'severity_3'],\n",
       "      dtype='object')"
      ]
     },
     "execution_count": 34,
     "metadata": {},
     "output_type": "execute_result"
    }
   ],
   "source": [
    "output.sim_results['Optimistic Faculty and Staff Parameters'][(0.0,)][0].columns"
   ]
  },
  {
   "cell_type": "code",
   "execution_count": 51,
   "metadata": {},
   "outputs": [
    {
     "data": {
      "text/plain": [
       "<matplotlib.axes._subplots.AxesSubplot at 0x7f189f4d24a8>"
      ]
     },
     "execution_count": 51,
     "metadata": {},
     "output_type": "execute_result"
    },
    {
     "data": {
      "image/png": "[encoded data removed]",
      "text/plain": [
       "<matplotlib.figure.Figure at 0x7f189e0ae4e0>"
      ]
     },
     "metadata": {},
     "output_type": "display_data"
    }
   ],
   "source": [
    "reopen_output.sim_results['Nominal Parameters'][(0.1,)][0][['QS','QI']].plot()"
   ]
  },
  {
   "cell_type": "code",
   "execution_count": 69,
   "metadata": {},
   "outputs": [
    {
     "data": {
      "text/plain": [
       "Index(['S', 'QS', 'QI', 'R', 'E_0', 'E_1', 'E_2', 'E_3', 'E_4', 'E_5', 'E_6',\n",
       "       'pre_ID_0', 'pre_ID_1', 'pre_ID_2', 'pre_ID_3', 'ID_0', 'ID_1', 'ID_2',\n",
       "       'ID_3', 'ID_4', 'ID_5', 'ID_6', 'ID_7', 'SyID_mild_0', 'SyID_mild_1',\n",
       "       'SyID_mild_2', 'SyID_mild_3', 'SyID_mild_4', 'SyID_mild_5',\n",
       "       'SyID_mild_6', 'SyID_mild_7', 'SyID_mild_8', 'SyID_mild_9',\n",
       "       'SyID_mild_10', 'SyID_mild_11', 'SyID_mild_12', 'SyID_mild_13',\n",
       "       'SyID_mild_14', 'SyID_mild_15', 'SyID_mild_16', 'SyID_mild_17',\n",
       "       'SyID_mild_18', 'SyID_mild_19', 'SyID_severe_0', 'SyID_severe_1',\n",
       "       'SyID_severe_2', 'SyID_severe_3', 'SyID_severe_4', 'SyID_severe_5',\n",
       "       'SyID_severe_6', 'SyID_severe_7', 'SyID_severe_8', 'SyID_severe_9',\n",
       "       'SyID_severe_10', 'SyID_severe_11', 'SyID_severe_12', 'SyID_severe_13',\n",
       "       'SyID_severe_14', 'SyID_severe_15', 'SyID_severe_16', 'SyID_severe_17',\n",
       "       'SyID_severe_18', 'SyID_severe_19', 'cumulative_mild',\n",
       "       'cumulative_severe', 'cumulative_outside_infections', 'severity_0',\n",
       "       'severity_1', 'severity_2', 'severity_3'],\n",
       "      dtype='object')"
      ]
     },
     "execution_count": 69,
     "metadata": {},
     "output_type": "execute_result"
    }
   ],
   "source": [
    "reopen_output.sim_results['Nominal Parameters'][(0.1,)][1].keys()"
   ]
  },
  {
   "cell_type": "code",
   "execution_count": 72,
   "metadata": {},
   "outputs": [
    {
     "data": {
      "text/plain": [
       "<matplotlib.axes._subplots.AxesSubplot at 0x7f189dfcae80>"
      ]
     },
     "execution_count": 72,
     "metadata": {},
     "output_type": "execute_result"
    },
    {
     "data": {
      "image/png": "[encoded data removed]",
      "text/plain": [
       "<matplotlib.figure.Figure at 0x7f18a2559048>"
      ]
     },
     "metadata": {},
     "output_type": "display_data"
    }
   ],
   "source": [
    "reopen_output.sim_results['Nominal Parameters'][(0.1,)][1][['severity_0', 'severity_1', 'severity_2', 'severity_3']].sum(axis=1).plot()"
   ]
  },
  {
   "cell_type": "code",
   "execution_count": 75,
   "metadata": {
    "collapsed": true
   },
   "outputs": [],
   "source": [
    "severe_infections = []\n",
    "total_infections = []\n",
    "for df in reopen_output.sim_results['Nominal Parameters'][(0.1,)]:\n",
    "    severe_infections.append(df['cumulative_severe'].iloc[df.shape[0] - 1])\n",
    "    total_infections.append(df[['cumulative_mild', 'cumulative_severe']].sum(axis=1).iloc[df.shape[0] - 1])"
   ]
  },
  {
   "cell_type": "code",
   "execution_count": 76,
   "metadata": {},
   "outputs": [
    {
     "data": {
      "text/plain": [
       "656.5"
      ]
     },
     "execution_count": 76,
     "metadata": {},
     "output_type": "execute_result"
    }
   ],
   "source": [
    "np.quantile(severe_infections, 0.5)"
   ]
  },
  {
   "cell_type": "code",
   "execution_count": 77,
   "metadata": {},
   "outputs": [
    {
     "data": {
      "text/plain": [
       "1254.0"
      ]
     },
     "execution_count": 77,
     "metadata": {},
     "output_type": "execute_result"
    }
   ],
   "source": [
    "np.quantile(total_infections, 0.5)"
   ]
  },
  {
   "cell_type": "code",
   "execution_count": 71,
   "metadata": {},
   "outputs": [
    {
     "data": {
      "text/plain": [
       "<matplotlib.axes._subplots.AxesSubplot at 0x7f188ad526d8>"
      ]
     },
     "execution_count": 71,
     "metadata": {},
     "output_type": "execute_result"
    },
    {
     "data": {
      "image/png": "[encoded data removed]",
      "text/plain": [
       "<matplotlib.figure.Figure at 0x7f18a24bbb38>"
      ]
     },
     "metadata": {},
     "output_type": "display_data"
    }
   ],
   "source": [
    "reopen_output.sim_results['Nominal Parameters'][(0.1,)][1][['cumulative_mild','cumulative_severe']].sum(axis=1).plot()"
   ]
  },
  {
   "cell_type": "code",
   "execution_count": 52,
   "metadata": {},
   "outputs": [
    {
     "data": {
      "text/plain": [
       "<matplotlib.axes._subplots.AxesSubplot at 0x7f18a2a87240>"
      ]
     },
     "execution_count": 52,
     "metadata": {},
     "output_type": "execute_result"
    },
    {
     "data": {
      "image/png": "[encoded data removed]",
      "text/plain": [
       "<matplotlib.figure.Figure at 0x7f18a2b153c8>"
      ]
     },
     "metadata": {},
     "output_type": "display_data"
    }
   ],
   "source": [
    "reopen_output.sim_results['Nominal Parameters'][(0.1,)][1][['QS','QI']].plot()"
   ]
  },
  {
   "cell_type": "code",
   "execution_count": 53,
   "metadata": {},
   "outputs": [
    {
     "data": {
      "text/plain": [
       "<matplotlib.axes._subplots.AxesSubplot at 0x7f18a2b2c438>"
      ]
     },
     "execution_count": 53,
     "metadata": {},
     "output_type": "execute_result"
    },
    {
     "data": {
      "image/png": "[encoded data removed]",
      "text/plain": [
       "<matplotlib.figure.Figure at 0x7f18a2a78780>"
      ]
     },
     "metadata": {},
     "output_type": "display_data"
    }
   ],
   "source": [
    "reopen_output.sim_results['Nominal Parameters'][(0.1,)][2][['QS','QI']].plot()"
   ]
  },
  {
   "cell_type": "code",
   "execution_count": 54,
   "metadata": {
    "collapsed": true
   },
   "outputs": [],
   "source": [
    "agedist_output = MultiParamOutputLoader(\"/nfs01/covid_sims/1591800602.9895172-asymptomatic_daily_self_report_p\")"
   ]
  },
  {
   "cell_type": "code",
   "execution_count": 55,
   "metadata": {},
   "outputs": [
    {
     "data": {
      "image/png": "[encoded data removed]",
      "text/plain": [
       "<matplotlib.figure.Figure at 0x7f189f55f940>"
      ]
     },
     "metadata": {},
     "output_type": "display_data"
    }
   ],
   "source": [
    "import matplotlib.pyplot as plt\n",
    "%matplotlib inline\n",
    "\n",
    "scenario = 'Nominal'\n",
    "plt.figure(figsize=(10,6))\n",
    "noreopen_counts, reopen_counts = get_infection_counts(scenario, agedist_output, reopen_output)\n",
    "plt.hist(noreopen_counts, label=\"No-Reopen Infection Counts\", normed=True)\n",
    "plt.hist(reopen_counts, label=\"Reopen Infection Counts\", normed=True)\n",
    "plt.legend(loc='best')\n",
    "plt.title('Reopen vs. No-Reopen Infection Counts Under {} Parameters'.format(scenario))\n",
    "plt.show()"
   ]
  },
  {
   "cell_type": "code",
   "execution_count": 56,
   "metadata": {},
   "outputs": [
    {
     "data": {
      "image/png": "[encoded data removed]",
      "text/plain": [
       "<matplotlib.figure.Figure at 0x7f189f5caf60>"
      ]
     },
     "metadata": {},
     "output_type": "display_data"
    }
   ],
   "source": [
    "import matplotlib.pyplot as plt\n",
    "%matplotlib inline\n",
    "\n",
    "scenario = 'Optimistic'\n",
    "plt.figure(figsize=(10,6))\n",
    "noreopen_counts, reopen_counts = get_infection_counts(scenario, agedist_output, reopen_output)\n",
    "plt.hist(noreopen_counts, label=\"No-Reopen Infection Counts\", normed=True)\n",
    "plt.hist(reopen_counts, label=\"Reopen Infection Counts\", normed=True)\n",
    "plt.legend(loc='best')\n",
    "plt.title('Reopen vs. No-Reopen Infection Counts Under {} Parameters'.format(scenario))\n",
    "plt.show()"
   ]
  },
  {
   "cell_type": "code",
   "execution_count": 57,
   "metadata": {},
   "outputs": [
    {
     "data": {
      "image/png": "[encoded data removed]",
      "text/plain": [
       "<matplotlib.figure.Figure at 0x7f188a674978>"
      ]
     },
     "metadata": {},
     "output_type": "display_data"
    }
   ],
   "source": [
    "import matplotlib.pyplot as plt\n",
    "%matplotlib inline\n",
    "\n",
    "scenario = 'Pessimistic'\n",
    "plt.figure(figsize=(10,6))\n",
    "noreopen_counts, reopen_counts = get_infection_counts(scenario, agedist_output, reopen_output)\n",
    "plt.hist(noreopen_counts, label=\"No-Reopen Infection Counts\", normed=True)\n",
    "plt.hist(reopen_counts, label=\"Reopen Infection Counts\", normed=True)\n",
    "plt.legend(loc='best')\n",
    "plt.title('Reopen vs. No-Reopen Infection Counts Under {} Parameters'.format(scenario))\n",
    "plt.show()"
   ]
  },
  {
   "cell_type": "code",
   "execution_count": null,
   "metadata": {
    "collapsed": true
   },
   "outputs": [],
   "source": []
  },
  {
   "cell_type": "code",
   "execution_count": null,
   "metadata": {
    "collapsed": true
   },
   "outputs": [],
   "source": []
  },
  {
   "cell_type": "code",
   "execution_count": null,
   "metadata": {
    "collapsed": true
   },
   "outputs": [],
   "source": []
  },
  {
   "cell_type": "code",
   "execution_count": 58,
   "metadata": {},
   "outputs": [
    {
     "data": {
      "image/png": "[encoded data removed]",
      "text/plain": [
       "<matplotlib.figure.Figure at 0x7f188acd84a8>"
      ]
     },
     "metadata": {},
     "output_type": "display_data"
    }
   ],
   "source": [
    "import matplotlib.pyplot as plt\n",
    "%matplotlib inline\n",
    "\n",
    "scenario = 'Nominal'\n",
    "plt.figure(figsize=(10,6))\n",
    "noreopen_counts, reopen_counts = get_hosp_counts(scenario, agedist_output, reopen_output)\n",
    "plt.hist(noreopen_counts, label=\"No-Reopen Hospitalization Counts\", normed=True)\n",
    "plt.hist(reopen_counts, label=\"Reopen Hospitalization Counts\", normed=True)\n",
    "plt.legend(loc='best')\n",
    "plt.title('Reopen vs. No-Reopen Hospitalization Counts Under {} Parameters'.format(scenario))\n",
    "plt.show()"
   ]
  },
  {
   "cell_type": "code",
   "execution_count": 59,
   "metadata": {},
   "outputs": [
    {
     "data": {
      "image/png": "[encoded data removed]",
      "text/plain": [
       "<matplotlib.figure.Figure at 0x7f189fa0c4e0>"
      ]
     },
     "metadata": {},
     "output_type": "display_data"
    }
   ],
   "source": [
    "import matplotlib.pyplot as plt\n",
    "%matplotlib inline\n",
    "\n",
    "scenario = 'Optimistic'\n",
    "plt.figure(figsize=(10,6))\n",
    "noreopen_counts, reopen_counts = get_hosp_counts(scenario, agedist_output, reopen_output)\n",
    "plt.hist(noreopen_counts, label=\"No-Reopen Hospitalization Counts\", normed=True)\n",
    "plt.hist(reopen_counts, label=\"Reopen Hospitalization Counts\", normed=True)\n",
    "plt.legend(loc='best')\n",
    "plt.title('Reopen vs. No-Reopen Hospitalization Counts Under {} Parameters'.format(scenario))\n",
    "plt.show()"
   ]
  },
  {
   "cell_type": "code",
   "execution_count": 60,
   "metadata": {},
   "outputs": [
    {
     "data": {
      "image/png": "[encoded data removed]",
      "text/plain": [
       "<matplotlib.figure.Figure at 0x7f188a8eb240>"
      ]
     },
     "metadata": {},
     "output_type": "display_data"
    }
   ],
   "source": [
    "import matplotlib.pyplot as plt\n",
    "%matplotlib inline\n",
    "\n",
    "scenario = 'Pessimistic'\n",
    "plt.figure(figsize=(10,6))\n",
    "noreopen_counts, reopen_counts = get_hosp_counts(scenario, agedist_output, reopen_output)\n",
    "plt.hist(noreopen_counts, label=\"No-Reopen Hospitalization Counts\", normed=True)\n",
    "plt.hist(reopen_counts, label=\"Reopen Hospitalization Counts\", normed=True)\n",
    "plt.legend(loc='best')\n",
    "plt.title('Reopen vs. No-Reopen Hospitalization Counts Under {} Parameters'.format(scenario))\n",
    "plt.show()"
   ]
  },
  {
   "cell_type": "code",
   "execution_count": null,
   "metadata": {
    "collapsed": true
   },
   "outputs": [],
   "source": []
  },
  {
   "cell_type": "code",
   "execution_count": null,
   "metadata": {
    "collapsed": true
   },
   "outputs": [],
   "source": []
  },
  {
   "cell_type": "code",
   "execution_count": null,
   "metadata": {
    "collapsed": true
   },
   "outputs": [],
   "source": []
  },
  {
   "cell_type": "code",
   "execution_count": null,
   "metadata": {
    "collapsed": true
   },
   "outputs": [],
   "source": []
  },
  {
   "cell_type": "code",
   "execution_count": null,
   "metadata": {
    "collapsed": true
   },
   "outputs": [],
   "source": []
  },
  {
   "cell_type": "code",
   "execution_count": null,
   "metadata": {
    "collapsed": true
   },
   "outputs": [],
   "source": []
  },
  {
   "cell_type": "code",
   "execution_count": null,
   "metadata": {
    "collapsed": true
   },
   "outputs": [],
   "source": []
  },
  {
   "cell_type": "code",
   "execution_count": null,
   "metadata": {
    "collapsed": true
   },
   "outputs": [],
   "source": []
  },
  {
   "cell_type": "code",
   "execution_count": null,
   "metadata": {
    "collapsed": true
   },
   "outputs": [],
   "source": [
    "\"/nfs01/covid_sims//1591813794.7398381-asymptomatic_daily_self_report_p\""
   ]
  },
  {
   "cell_type": "code",
   "execution_count": 61,
   "metadata": {
    "collapsed": true
   },
   "outputs": [],
   "source": [
    "agedist_output = MultiParamOutputLoader(\"/nfs01/covid_sims//1591813794.7398381-asymptomatic_daily_self_report_p\")"
   ]
  },
  {
   "cell_type": "code",
   "execution_count": 62,
   "metadata": {},
   "outputs": [
    {
     "data": {
      "image/png": "[encoded data removed]",
      "text/plain": [
       "<matplotlib.figure.Figure at 0x7f189f715128>"
      ]
     },
     "metadata": {},
     "output_type": "display_data"
    }
   ],
   "source": [
    "import matplotlib.pyplot as plt\n",
    "%matplotlib inline\n",
    "\n",
    "scenario = 'Nominal'\n",
    "plt.figure(figsize=(10,6))\n",
    "noreopen_counts, reopen_counts = get_infection_counts(scenario, agedist_output, reopen_output)\n",
    "plt.hist(noreopen_counts, label=\"No-Reopen Infection Counts\", normed=True)\n",
    "plt.hist(reopen_counts, label=\"Reopen Infection Counts\", normed=True)\n",
    "plt.legend(loc='best')\n",
    "plt.title('Reopen vs. No-Reopen Infection Counts Under {} Parameters'.format(scenario))\n",
    "plt.show()"
   ]
  },
  {
   "cell_type": "code",
   "execution_count": 63,
   "metadata": {},
   "outputs": [
    {
     "data": {
      "image/png": "[encoded data removed]",
      "text/plain": [
       "<matplotlib.figure.Figure at 0x7f189f8be320>"
      ]
     },
     "metadata": {},
     "output_type": "display_data"
    }
   ],
   "source": [
    "import matplotlib.pyplot as plt\n",
    "%matplotlib inline\n",
    "\n",
    "scenario = 'Optimistic'\n",
    "plt.figure(figsize=(10,6))\n",
    "noreopen_counts, reopen_counts = get_infection_counts(scenario, agedist_output, reopen_output)\n",
    "plt.hist(noreopen_counts, label=\"No-Reopen Infection Counts\", normed=True)\n",
    "plt.hist(reopen_counts, label=\"Reopen Infection Counts\", normed=True)\n",
    "plt.legend(loc='best')\n",
    "plt.title('Reopen vs. No-Reopen Infection Counts Under {} Parameters'.format(scenario))\n",
    "plt.show()"
   ]
  },
  {
   "cell_type": "code",
   "execution_count": 64,
   "metadata": {},
   "outputs": [
    {
     "data": {
      "image/png": "[encoded data removed]",
      "text/plain": [
       "<matplotlib.figure.Figure at 0x7f18a0626b38>"
      ]
     },
     "metadata": {},
     "output_type": "display_data"
    }
   ],
   "source": [
    "import matplotlib.pyplot as plt\n",
    "%matplotlib inline\n",
    "\n",
    "scenario = 'Pessimistic'\n",
    "plt.figure(figsize=(10,6))\n",
    "noreopen_counts, reopen_counts = get_infection_counts(scenario, agedist_output, reopen_output)\n",
    "plt.hist(noreopen_counts, label=\"No-Reopen Infection Counts\", normed=True)\n",
    "plt.hist(reopen_counts, label=\"Reopen Infection Counts\", normed=True)\n",
    "plt.legend(loc='best')\n",
    "plt.title('Reopen vs. No-Reopen Infection Counts Under {} Parameters'.format(scenario))\n",
    "plt.show()"
   ]
  },
  {
   "cell_type": "code",
   "execution_count": 65,
   "metadata": {},
   "outputs": [
    {
     "data": {
      "image/png": "[encoded data removed]",
      "text/plain": [
       "<matplotlib.figure.Figure at 0x7f18a26ce080>"
      ]
     },
     "metadata": {},
     "output_type": "display_data"
    }
   ],
   "source": [
    "import matplotlib.pyplot as plt\n",
    "%matplotlib inline\n",
    "\n",
    "scenario = 'Nominal'\n",
    "plt.figure(figsize=(10,6))\n",
    "noreopen_counts, reopen_counts = get_hosp_counts(scenario, agedist_output, reopen_output)\n",
    "plt.hist(noreopen_counts, label=\"No-Reopen Hospitalization Counts\", normed=True)\n",
    "plt.hist(reopen_counts, label=\"Reopen Hospitalization Counts\", normed=True)\n",
    "plt.legend(loc='best')\n",
    "plt.title('Reopen vs. No-Reopen Hospitalization Counts Under {} Parameters'.format(scenario))\n",
    "plt.show()"
   ]
  },
  {
   "cell_type": "code",
   "execution_count": 66,
   "metadata": {},
   "outputs": [
    {
     "data": {
      "image/png": "[encoded data removed]",
      "text/plain": [
       "<matplotlib.figure.Figure at 0x7f189f8bed30>"
      ]
     },
     "metadata": {},
     "output_type": "display_data"
    }
   ],
   "source": [
    "import matplotlib.pyplot as plt\n",
    "%matplotlib inline\n",
    "\n",
    "scenario = 'Optimistic'\n",
    "plt.figure(figsize=(10,6))\n",
    "noreopen_counts, reopen_counts = get_hosp_counts(scenario, agedist_output, reopen_output)\n",
    "plt.hist(noreopen_counts, label=\"No-Reopen Hospitalization Counts\", normed=True)\n",
    "plt.hist(reopen_counts, label=\"Reopen Hospitalization Counts\", normed=True)\n",
    "plt.legend(loc='best')\n",
    "plt.title('Reopen vs. No-Reopen Hospitalization Counts Under {} Parameters'.format(scenario))\n",
    "plt.show()"
   ]
  },
  {
   "cell_type": "code",
   "execution_count": 67,
   "metadata": {},
   "outputs": [
    {
     "data": {
      "image/png": "[encoded data removed]",
      "text/plain": [
       "<matplotlib.figure.Figure at 0x7f189f7923c8>"
      ]
     },
     "metadata": {},
     "output_type": "display_data"
    }
   ],
   "source": [
    "import matplotlib.pyplot as plt\n",
    "%matplotlib inline\n",
    "\n",
    "scenario = 'Pessimistic'\n",
    "plt.figure(figsize=(10,6))\n",
    "noreopen_counts, reopen_counts = get_hosp_counts(scenario, agedist_output, reopen_output)\n",
    "plt.hist(noreopen_counts, label=\"No-Reopen Hospitalization Counts\", normed=True)\n",
    "plt.hist(reopen_counts, label=\"Reopen Hospitalization Counts\", normed=True)\n",
    "plt.legend(loc='best')\n",
    "plt.title('Reopen vs. No-Reopen Hospitalization Counts Under {} Parameters'.format(scenario))\n",
    "plt.show()"
   ]
  },
  {
   "cell_type": "code",
   "execution_count": 79,
   "metadata": {
    "collapsed": true
   },
   "outputs": [],
   "source": [
    "noreopen_counts, reopen_counts = get_hosp_counts('Nominal', agedist_output, reopen_output)"
   ]
  },
  {
   "cell_type": "code",
   "execution_count": 80,
   "metadata": {},
   "outputs": [
    {
     "data": {
      "text/plain": [
       "65.48306622696632"
      ]
     },
     "execution_count": 80,
     "metadata": {},
     "output_type": "execute_result"
    }
   ],
   "source": [
    "np.quantile(noreopen_counts, 0.5)"
   ]
  },
  {
   "cell_type": "code",
   "execution_count": 81,
   "metadata": {},
   "outputs": [
    {
     "data": {
      "text/plain": [
       "17.393939466537926"
      ]
     },
     "execution_count": 81,
     "metadata": {},
     "output_type": "execute_result"
    }
   ],
   "source": [
    "np.quantile(noreopen_counts, 0.5) * 0.34 / ( 0.94 + 0.34) "
   ]
  },
  {
   "cell_type": "code",
   "execution_count": 94,
   "metadata": {
    "collapsed": true
   },
   "outputs": [],
   "source": [
    "noreopen_counts, reopen_counts = get_outside_infection_counts('Nominal', agedist_output, reopen_output)"
   ]
  },
  {
   "cell_type": "code",
   "execution_count": 95,
   "metadata": {},
   "outputs": [
    {
     "data": {
      "text/plain": [
       "573.0"
      ]
     },
     "execution_count": 95,
     "metadata": {},
     "output_type": "execute_result"
    }
   ],
   "source": [
    "np.quantile(reopen_counts, 0.5)"
   ]
  },
  {
   "cell_type": "code",
   "execution_count": 96,
   "metadata": {},
   "outputs": [
    {
     "data": {
      "text/plain": [
       "335.0"
      ]
     },
     "execution_count": 96,
     "metadata": {},
     "output_type": "execute_result"
    }
   ],
   "source": [
    "np.quantile(noreopen_counts, 0.5)"
   ]
  },
  {
   "cell_type": "code",
   "execution_count": null,
   "metadata": {
    "collapsed": true
   },
   "outputs": [],
   "source": []
  },
  {
   "cell_type": "code",
   "execution_count": 92,
   "metadata": {},
   "outputs": [
    {
     "data": {
      "text/plain": [
       "Index(['S', 'QS', 'QI', 'R', 'E_0', 'E_1', 'E_2', 'E_3', 'E_4', 'E_5', 'E_6',\n",
       "       'pre_ID_0', 'pre_ID_1', 'pre_ID_2', 'pre_ID_3', 'ID_0', 'ID_1', 'ID_2',\n",
       "       'ID_3', 'ID_4', 'ID_5', 'ID_6', 'ID_7', 'SyID_mild_0', 'SyID_mild_1',\n",
       "       'SyID_mild_2', 'SyID_mild_3', 'SyID_mild_4', 'SyID_mild_5',\n",
       "       'SyID_mild_6', 'SyID_mild_7', 'SyID_mild_8', 'SyID_mild_9',\n",
       "       'SyID_mild_10', 'SyID_mild_11', 'SyID_mild_12', 'SyID_mild_13',\n",
       "       'SyID_mild_14', 'SyID_mild_15', 'SyID_mild_16', 'SyID_mild_17',\n",
       "       'SyID_mild_18', 'SyID_mild_19', 'SyID_severe_0', 'SyID_severe_1',\n",
       "       'SyID_severe_2', 'SyID_severe_3', 'SyID_severe_4', 'SyID_severe_5',\n",
       "       'SyID_severe_6', 'SyID_severe_7', 'SyID_severe_8', 'SyID_severe_9',\n",
       "       'SyID_severe_10', 'SyID_severe_11', 'SyID_severe_12', 'SyID_severe_13',\n",
       "       'SyID_severe_14', 'SyID_severe_15', 'SyID_severe_16', 'SyID_severe_17',\n",
       "       'SyID_severe_18', 'SyID_severe_19', 'cumulative_mild',\n",
       "       'cumulative_severe', 'cumulative_outside_infections', 'severity_0',\n",
       "       'severity_1', 'severity_2', 'severity_3'],\n",
       "      dtype='object')"
      ]
     },
     "execution_count": 92,
     "metadata": {},
     "output_type": "execute_result"
    }
   ],
   "source": [
    "agedist_output.sim_results['Nominal Student Parameters'][(0.0,)][0].columns"
   ]
  },
  {
   "cell_type": "markdown",
   "metadata": {
    "collapsed": true
   },
   "source": [
    "# Additional plots for Martha\n"
   ]
  },
  {
   "cell_type": "code",
   "execution_count": 101,
   "metadata": {
    "collapsed": true
   },
   "outputs": [],
   "source": [
    "agedist_output = MultiParamOutputLoader(\"/nfs01/covid_sims//1592071092.1757104-asymptomatic_daily_self_report_p\")\n"
   ]
  },
  {
   "cell_type": "code",
   "execution_count": 102,
   "metadata": {},
   "outputs": [
    {
     "data": {
      "image/png": "[encoded data removed]",
      "text/plain": [
       "<matplotlib.figure.Figure at 0x7f189f87ff60>"
      ]
     },
     "metadata": {},
     "output_type": "display_data"
    }
   ],
   "source": [
    "import matplotlib.pyplot as plt\n",
    "%matplotlib inline\n",
    "\n",
    "scenario = 'Nominal'\n",
    "plt.figure(figsize=(10,6))\n",
    "noreopen_counts, reopen_counts = get_infection_counts(scenario, agedist_output, reopen_output)\n",
    "plt.hist(noreopen_counts, label=\"No-Reopen Infection Counts\", normed=True)\n",
    "plt.hist(reopen_counts, label=\"Reopen Infection Counts\", normed=True)\n",
    "plt.legend(loc='best')\n",
    "plt.title('Reopen vs. No-Reopen Infection Counts Under {} Parameters'.format(scenario))\n",
    "plt.show()"
   ]
  },
  {
   "cell_type": "code",
   "execution_count": 103,
   "metadata": {},
   "outputs": [
    {
     "data": {
      "image/png": "[encoded data removed]",
      "text/plain": [
       "<matplotlib.figure.Figure at 0x7f189f8a3cf8>"
      ]
     },
     "metadata": {},
     "output_type": "display_data"
    }
   ],
   "source": [
    "import matplotlib.pyplot as plt\n",
    "%matplotlib inline\n",
    "\n",
    "scenario = 'Nominal'\n",
    "plt.figure(figsize=(10,6))\n",
    "noreopen_counts, reopen_counts = get_hosp_counts(scenario, agedist_output, reopen_output)\n",
    "plt.hist(noreopen_counts, label=\"No-Reopen Hospitalization Counts\", normed=True)\n",
    "plt.hist(reopen_counts, label=\"Reopen Hospitalization Counts\", normed=True)\n",
    "plt.legend(loc='best')\n",
    "plt.title('Reopen vs. No-Reopen Hospitalization Counts Under {} Parameters'.format(scenario))\n",
    "plt.show()"
   ]
  },
  {
   "cell_type": "markdown",
   "metadata": {
    "collapsed": true
   },
   "source": []
  },
  {
   "cell_type": "code",
   "execution_count": null,
   "metadata": {
    "collapsed": true
   },
   "outputs": [],
   "source": []
  },
  {
   "cell_type": "code",
   "execution_count": null,
   "metadata": {
    "collapsed": true
   },
   "outputs": [],
   "source": []
  },
  {
   "cell_type": "code",
   "execution_count": null,
   "metadata": {
    "collapsed": true
   },
   "outputs": [],
   "source": []
  },
  {
   "cell_type": "code",
   "execution_count": null,
   "metadata": {
    "collapsed": true
   },
   "outputs": [],
   "source": []
  },
  {
   "cell_type": "code",
   "execution_count": null,
   "metadata": {
    "collapsed": true
   },
   "outputs": [],
   "source": []
  },
  {
   "cell_type": "code",
   "execution_count": null,
   "metadata": {
    "collapsed": true
   },
   "outputs": [],
   "source": []
  },
  {
   "cell_type": "code",
   "execution_count": null,
   "metadata": {
    "collapsed": true
   },
   "outputs": [],
   "source": []
  },
  {
   "cell_type": "code",
   "execution_count": null,
   "metadata": {
    "collapsed": true
   },
   "outputs": [],
   "source": []
  },
  {
   "cell_type": "code",
   "execution_count": null,
   "metadata": {
    "collapsed": true
   },
   "outputs": [],
   "source": []
  },
  {
   "cell_type": "code",
   "execution_count": null,
   "metadata": {
    "collapsed": true
   },
   "outputs": [],
   "source": []
  },
  {
   "cell_type": "code",
   "execution_count": 111,
   "metadata": {
    "scrolled": true
   },
   "outputs": [
    {
     "name": "stdout",
     "output_type": "stream",
     "text": [
      "594.268\n"
     ]
    },
    {
     "data": {
      "text/plain": [
       "([4206,\n",
       "  4178,\n",
       "  4109,\n",
       "  4416,\n",
       "  4096,\n",
       "  4131,\n",
       "  4171,\n",
       "  4224,\n",
       "  4067,\n",
       "  4067,\n",
       "  4117,\n",
       "  4096,\n",
       "  4234,\n",
       "  4186,\n",
       "  4152,\n",
       "  4153,\n",
       "  4082,\n",
       "  4030,\n",
       "  4047,\n",
       "  4120,\n",
       "  4107,\n",
       "  4347,\n",
       "  4219,\n",
       "  4079,\n",
       "  4032,\n",
       "  4253,\n",
       "  4247,\n",
       "  4181,\n",
       "  4111,\n",
       "  4047,\n",
       "  4157,\n",
       "  3955,\n",
       "  4365,\n",
       "  4131,\n",
       "  4219,\n",
       "  4275,\n",
       "  4111,\n",
       "  4077,\n",
       "  4281,\n",
       "  4155,\n",
       "  4049,\n",
       "  4153,\n",
       "  4178,\n",
       "  4209,\n",
       "  4191,\n",
       "  4080,\n",
       "  4151,\n",
       "  4237,\n",
       "  4071,\n",
       "  4046,\n",
       "  4078,\n",
       "  4204,\n",
       "  4210,\n",
       "  4239,\n",
       "  4065,\n",
       "  4095,\n",
       "  4224,\n",
       "  4141,\n",
       "  4111,\n",
       "  4124,\n",
       "  4117,\n",
       "  4060,\n",
       "  4103,\n",
       "  4189,\n",
       "  4064,\n",
       "  4105,\n",
       "  4235,\n",
       "  4107,\n",
       "  4107,\n",
       "  4155,\n",
       "  4090,\n",
       "  4007,\n",
       "  4023,\n",
       "  4085,\n",
       "  4176,\n",
       "  3995,\n",
       "  4078,\n",
       "  4236,\n",
       "  4044,\n",
       "  4235,\n",
       "  4155,\n",
       "  4175,\n",
       "  4038,\n",
       "  4162,\n",
       "  4220,\n",
       "  4078,\n",
       "  4042,\n",
       "  4280,\n",
       "  4167,\n",
       "  4122,\n",
       "  4223,\n",
       "  4284,\n",
       "  4091,\n",
       "  4120,\n",
       "  4155,\n",
       "  4186,\n",
       "  4151,\n",
       "  4228,\n",
       "  4172,\n",
       "  4234,\n",
       "  4112,\n",
       "  4172,\n",
       "  4142,\n",
       "  4177,\n",
       "  4202,\n",
       "  4162,\n",
       "  4235,\n",
       "  4203,\n",
       "  4261,\n",
       "  4266,\n",
       "  4189,\n",
       "  4192,\n",
       "  4051,\n",
       "  4185,\n",
       "  4208,\n",
       "  4134,\n",
       "  4035,\n",
       "  4202,\n",
       "  4077,\n",
       "  4096,\n",
       "  4080,\n",
       "  4260,\n",
       "  4187,\n",
       "  4248,\n",
       "  4175,\n",
       "  4182,\n",
       "  4148,\n",
       "  3985,\n",
       "  4036,\n",
       "  4146,\n",
       "  4090,\n",
       "  4051,\n",
       "  4275,\n",
       "  4044,\n",
       "  4141,\n",
       "  4090,\n",
       "  4275,\n",
       "  3927,\n",
       "  4150,\n",
       "  4104,\n",
       "  4132,\n",
       "  4345,\n",
       "  4040,\n",
       "  4106,\n",
       "  4048,\n",
       "  4158,\n",
       "  4307,\n",
       "  4082,\n",
       "  3998,\n",
       "  4044,\n",
       "  4105,\n",
       "  4267,\n",
       "  4064,\n",
       "  4200,\n",
       "  4187,\n",
       "  4272,\n",
       "  4157,\n",
       "  4146,\n",
       "  4056,\n",
       "  4239,\n",
       "  4248,\n",
       "  4116,\n",
       "  4329,\n",
       "  4128,\n",
       "  4240,\n",
       "  4076,\n",
       "  4017,\n",
       "  4214,\n",
       "  4167,\n",
       "  4069,\n",
       "  4137,\n",
       "  4042,\n",
       "  4176,\n",
       "  4060,\n",
       "  4198,\n",
       "  4103,\n",
       "  4145,\n",
       "  4166,\n",
       "  4108,\n",
       "  4193,\n",
       "  4282,\n",
       "  4174,\n",
       "  4074,\n",
       "  4045,\n",
       "  3929,\n",
       "  4193,\n",
       "  4221,\n",
       "  4209,\n",
       "  4072,\n",
       "  4213,\n",
       "  4158,\n",
       "  4220,\n",
       "  4229,\n",
       "  4056,\n",
       "  4187,\n",
       "  4221,\n",
       "  4021,\n",
       "  3989,\n",
       "  4001,\n",
       "  4112,\n",
       "  4297,\n",
       "  4021,\n",
       "  3958,\n",
       "  4053,\n",
       "  3980,\n",
       "  4194,\n",
       "  4072,\n",
       "  4063,\n",
       "  4080,\n",
       "  4110,\n",
       "  4136,\n",
       "  4036,\n",
       "  4124,\n",
       "  4116,\n",
       "  4074,\n",
       "  4199,\n",
       "  3904,\n",
       "  4173,\n",
       "  4123,\n",
       "  4136,\n",
       "  4166,\n",
       "  4058,\n",
       "  4102,\n",
       "  4058,\n",
       "  4101,\n",
       "  4249,\n",
       "  4036,\n",
       "  4164,\n",
       "  4181,\n",
       "  4224,\n",
       "  4303,\n",
       "  4162,\n",
       "  4233,\n",
       "  4182,\n",
       "  4029,\n",
       "  4197,\n",
       "  4232,\n",
       "  4084,\n",
       "  4127,\n",
       "  4196,\n",
       "  4050,\n",
       "  4096,\n",
       "  4122,\n",
       "  4132,\n",
       "  4086,\n",
       "  4151,\n",
       "  4022,\n",
       "  4180,\n",
       "  4073,\n",
       "  4180,\n",
       "  4142,\n",
       "  4162,\n",
       "  4170,\n",
       "  4128,\n",
       "  4053,\n",
       "  4254,\n",
       "  3967,\n",
       "  4107,\n",
       "  4177,\n",
       "  4203,\n",
       "  4287,\n",
       "  4034,\n",
       "  4088,\n",
       "  4019,\n",
       "  4175,\n",
       "  4129,\n",
       "  4126,\n",
       "  4182,\n",
       "  4079,\n",
       "  4154,\n",
       "  4136,\n",
       "  4159,\n",
       "  4009,\n",
       "  4163,\n",
       "  4180,\n",
       "  4110,\n",
       "  4042,\n",
       "  4048,\n",
       "  4177,\n",
       "  4039,\n",
       "  4199,\n",
       "  4175,\n",
       "  4189,\n",
       "  4085,\n",
       "  4210,\n",
       "  4131,\n",
       "  4186,\n",
       "  4100,\n",
       "  4004,\n",
       "  4067,\n",
       "  4092,\n",
       "  4190,\n",
       "  4213,\n",
       "  4133,\n",
       "  4217,\n",
       "  4287,\n",
       "  4189,\n",
       "  4155,\n",
       "  4025,\n",
       "  4178,\n",
       "  4016,\n",
       "  4244,\n",
       "  4078,\n",
       "  4295,\n",
       "  4009,\n",
       "  4108,\n",
       "  4208,\n",
       "  4195,\n",
       "  4225,\n",
       "  3988,\n",
       "  4260,\n",
       "  4195,\n",
       "  4147,\n",
       "  4216,\n",
       "  4113,\n",
       "  4315,\n",
       "  4076,\n",
       "  4150,\n",
       "  4179,\n",
       "  4058,\n",
       "  4075,\n",
       "  4191,\n",
       "  4213,\n",
       "  4088,\n",
       "  4180,\n",
       "  4147,\n",
       "  4048,\n",
       "  4156,\n",
       "  4190,\n",
       "  4130,\n",
       "  4254,\n",
       "  4039,\n",
       "  4026,\n",
       "  4118,\n",
       "  4149,\n",
       "  4142,\n",
       "  4110,\n",
       "  4158,\n",
       "  4044,\n",
       "  4161,\n",
       "  4061,\n",
       "  4172,\n",
       "  4163,\n",
       "  4092,\n",
       "  4193,\n",
       "  4191,\n",
       "  4015,\n",
       "  4138,\n",
       "  4118,\n",
       "  4197,\n",
       "  4192,\n",
       "  4102,\n",
       "  4138,\n",
       "  4156,\n",
       "  4244,\n",
       "  4206,\n",
       "  4083,\n",
       "  4208,\n",
       "  4007,\n",
       "  4156,\n",
       "  4025,\n",
       "  4185,\n",
       "  4037,\n",
       "  4078,\n",
       "  4184,\n",
       "  4114,\n",
       "  4179,\n",
       "  4298,\n",
       "  4149,\n",
       "  4043,\n",
       "  4107,\n",
       "  4109,\n",
       "  4185,\n",
       "  4223,\n",
       "  4216,\n",
       "  4102,\n",
       "  4201,\n",
       "  4297,\n",
       "  4036,\n",
       "  4208,\n",
       "  4186,\n",
       "  4167,\n",
       "  4175,\n",
       "  4162,\n",
       "  4151,\n",
       "  4028,\n",
       "  4196,\n",
       "  4136,\n",
       "  4254,\n",
       "  4006,\n",
       "  4167,\n",
       "  4214,\n",
       "  4076,\n",
       "  4190,\n",
       "  4237,\n",
       "  4308,\n",
       "  4121,\n",
       "  4076,\n",
       "  4131,\n",
       "  4199,\n",
       "  4276,\n",
       "  3967,\n",
       "  3975,\n",
       "  4036,\n",
       "  4184,\n",
       "  4034,\n",
       "  4220,\n",
       "  4112,\n",
       "  4252,\n",
       "  3971,\n",
       "  4126,\n",
       "  3898,\n",
       "  4050,\n",
       "  4191,\n",
       "  4148,\n",
       "  4269,\n",
       "  3925,\n",
       "  4217,\n",
       "  4096,\n",
       "  4131,\n",
       "  4250,\n",
       "  4167,\n",
       "  4050,\n",
       "  4076,\n",
       "  4106,\n",
       "  4153,\n",
       "  4166,\n",
       "  4240,\n",
       "  4266,\n",
       "  4039,\n",
       "  4297,\n",
       "  4170,\n",
       "  4216,\n",
       "  4190,\n",
       "  4195,\n",
       "  4056,\n",
       "  4192,\n",
       "  4180,\n",
       "  3970,\n",
       "  4018,\n",
       "  4095,\n",
       "  3994,\n",
       "  4325,\n",
       "  4088,\n",
       "  4209,\n",
       "  4200,\n",
       "  4106,\n",
       "  4216,\n",
       "  4169,\n",
       "  4222,\n",
       "  3961,\n",
       "  4155,\n",
       "  4179,\n",
       "  4043,\n",
       "  4093,\n",
       "  4020,\n",
       "  4094,\n",
       "  4117,\n",
       "  4080,\n",
       "  4179,\n",
       "  3998,\n",
       "  4171,\n",
       "  4232,\n",
       "  4140,\n",
       "  4253,\n",
       "  4291,\n",
       "  4219,\n",
       "  4225,\n",
       "  4249,\n",
       "  4098,\n",
       "  4220,\n",
       "  4110,\n",
       "  4270,\n",
       "  4128,\n",
       "  4271,\n",
       "  4098,\n",
       "  4250,\n",
       "  4066,\n",
       "  4111,\n",
       "  4203,\n",
       "  3905,\n",
       "  4111,\n",
       "  4401,\n",
       "  4213,\n",
       "  4211,\n",
       "  4019,\n",
       "  4053,\n",
       "  4041,\n",
       "  4097,\n",
       "  4184,\n",
       "  4106,\n",
       "  4094,\n",
       "  4121,\n",
       "  4195,\n",
       "  4182,\n",
       "  4031,\n",
       "  4135,\n",
       "  4155,\n",
       "  4083,\n",
       "  4086],\n",
       " [1180,\n",
       "  1185,\n",
       "  1202,\n",
       "  1163,\n",
       "  1357,\n",
       "  1323,\n",
       "  1332,\n",
       "  1391,\n",
       "  1230,\n",
       "  1281,\n",
       "  1377,\n",
       "  1226,\n",
       "  1175,\n",
       "  1231,\n",
       "  1207,\n",
       "  1177,\n",
       "  1311,\n",
       "  1289,\n",
       "  1313,\n",
       "  1224,\n",
       "  1247,\n",
       "  1264,\n",
       "  1296,\n",
       "  1385,\n",
       "  1250,\n",
       "  1290,\n",
       "  1204,\n",
       "  1154,\n",
       "  1209,\n",
       "  1253,\n",
       "  1245,\n",
       "  1410,\n",
       "  1292,\n",
       "  1211,\n",
       "  1165,\n",
       "  1197,\n",
       "  1181,\n",
       "  1375,\n",
       "  1266,\n",
       "  1344,\n",
       "  1156,\n",
       "  1303,\n",
       "  1246,\n",
       "  1411,\n",
       "  1298,\n",
       "  1388,\n",
       "  1229,\n",
       "  1297,\n",
       "  1249,\n",
       "  1282,\n",
       "  1284,\n",
       "  1329,\n",
       "  1210,\n",
       "  1161,\n",
       "  1115,\n",
       "  1306,\n",
       "  1330,\n",
       "  1250,\n",
       "  1457,\n",
       "  1259,\n",
       "  1255,\n",
       "  1160,\n",
       "  1385,\n",
       "  1100,\n",
       "  1187,\n",
       "  1337,\n",
       "  1436,\n",
       "  1256,\n",
       "  1350,\n",
       "  1265,\n",
       "  1230,\n",
       "  1180,\n",
       "  1204,\n",
       "  1236,\n",
       "  1136,\n",
       "  1254,\n",
       "  1266,\n",
       "  1285,\n",
       "  1224,\n",
       "  1412,\n",
       "  1238,\n",
       "  1228,\n",
       "  1281,\n",
       "  1254,\n",
       "  1341,\n",
       "  1254,\n",
       "  1273,\n",
       "  1264,\n",
       "  1219,\n",
       "  1302,\n",
       "  1389,\n",
       "  1175,\n",
       "  1346,\n",
       "  1235,\n",
       "  1251,\n",
       "  1249,\n",
       "  1230,\n",
       "  1258,\n",
       "  1321,\n",
       "  1200])"
      ]
     },
     "execution_count": 111,
     "metadata": {},
     "output_type": "execute_result"
    }
   ],
   "source": [
    "def get_cum_infections(df):\n",
    "    return df[['cumulative_mild', 'cumulative_severe']].iloc[df.shape[0] - 1].sum()\n",
    "\n",
    "def get_infection_counts(scenario, noreopen_output, reopen_output):\n",
    "    # scenario must be one of [Nominal, Optimistic, Pessimistic]\n",
    "    \n",
    "    # noreopen - non-student population\n",
    "    nonstudent_key = '{} Faculty and Staff Parameters'.format(scenario)\n",
    "    nonstudent_counts = [get_cum_infections(df) for df in \n",
    "                         noreopen_output.sim_results[nonstudent_key][(0.0,)]]\n",
    "    \n",
    "    # noreopen - student population\n",
    "    student_key = '{} Student Parameters'.format(scenario)\n",
    "    student_counts = [get_cum_infections(df) for df in \n",
    "                         noreopen_output.sim_results[student_key][(0.0,)]]\n",
    "    \n",
    "    #print(np.quantile(nonstudent_counts, 0.5))\n",
    "    print(np.mean(nonstudent_counts))\n",
    "    noreopen_counts = [a + b for a,b in zip(nonstudent_counts, student_counts)]\n",
    "    \n",
    "    # reopen population\n",
    "    key = '{} Parameters'.format(scenario)\n",
    "    reopen_counts = [get_cum_infections(df) for df in \n",
    "                    reopen_output.sim_results[key][(0.1,)]]\n",
    "    \n",
    "    return noreopen_counts, reopen_counts\n",
    "\n",
    "\n",
    "    \n",
    "    \n",
    "\n",
    "\n",
    "    \n",
    "get_infection_counts(scenario, agedist_output, reopen_output)"
   ]
  },
  {
   "cell_type": "code",
   "execution_count": 112,
   "metadata": {},
   "outputs": [
    {
     "data": {
      "text/plain": [
       "'Nominal'"
      ]
     },
     "execution_count": 112,
     "metadata": {},
     "output_type": "execute_result"
    }
   ],
   "source": [
    "scenario"
   ]
  },
  {
   "cell_type": "code",
   "execution_count": 110,
   "metadata": {},
   "outputs": [
    {
     "name": "stdout",
     "output_type": "stream",
     "text": [
      "12.692226371571905\n"
     ]
    },
    {
     "data": {
      "text/plain": [
       "([40.494143847343636,\n",
       "  41.4123280048598,\n",
       "  40.7841070894868,\n",
       "  45.48449182317372,\n",
       "  40.36365312886585,\n",
       "  43.043011090181054,\n",
       "  40.490736998296626,\n",
       "  43.48467990123754,\n",
       "  39.45134227912458,\n",
       "  40.167440422820135,\n",
       "  41.11535869777917,\n",
       "  41.40551001798615,\n",
       "  42.63941187429059,\n",
       "  41.38751822731345,\n",
       "  40.54016847532552,\n",
       "  41.71725234475631,\n",
       "  40.03713778240616,\n",
       "  38.595468971349675,\n",
       "  38.671415794838246,\n",
       "  40.542630645273775,\n",
       "  40.73600073646395,\n",
       "  44.96593150952991,\n",
       "  43.18865527325566,\n",
       "  40.581456841474726,\n",
       "  40.414221651836954,\n",
       "  42.541117443203916,\n",
       "  41.73202536444583,\n",
       "  41.76895791366964,\n",
       "  41.17388225356614,\n",
       "  39.789599952354415,\n",
       "  39.70834834406205,\n",
       "  39.11819702385507,\n",
       "  44.339604241134055,\n",
       "  40.79073699829663,\n",
       "  41.70058567808964,\n",
       "  41.92274520762392,\n",
       "  41.50399681591629,\n",
       "  41.530888318503614,\n",
       "  43.248503953048676,\n",
       "  40.852479325066795,\n",
       "  39.29168167739539,\n",
       "  40.250017155118535,\n",
       "  41.08031979553251,\n",
       "  43.47861851539882,\n",
       "  42.58429945633026,\n",
       "  41.24130552126773,\n",
       "  40.14831158620521,\n",
       "  41.56043435788266,\n",
       "  39.88050787359633,\n",
       "  39.15020523318236,\n",
       "  40.26365312886584,\n",
       "  43.13676162627851,\n",
       "  43.35191509087532,\n",
       "  41.26270844976709,\n",
       "  40.12975127256141,\n",
       "  40.73088831850362,\n",
       "  41.55285976997408,\n",
       "  39.77312136375157,\n",
       "  41.83619310330741,\n",
       "  40.682025364445835,\n",
       "  41.57142008361788,\n",
       "  40.7943362141871,\n",
       "  39.27009067083222,\n",
       "  40.73770630537727,\n",
       "  41.30607854095726,\n",
       "  41.98808675028455,\n",
       "  42.487518227313444,\n",
       "  41.08088831850361,\n",
       "  40.77785762558426,\n",
       "  42.106078540957256,\n",
       "  40.80816026599823,\n",
       "  39.982213442509654,\n",
       "  38.02652821279858,\n",
       "  39.34641793922807,\n",
       "  40.77520737757219,\n",
       "  39.780888318503614,\n",
       "  39.28978803041824,\n",
       "  42.53429945633026,\n",
       "  38.77122771677443,\n",
       "  42.50721558689948,\n",
       "  41.21100288085377,\n",
       "  39.79660601729189,\n",
       "  41.12350180865886,\n",
       "  41.59755498517028,\n",
       "  41.36346505080202,\n",
       "  40.8666838217852,\n",
       "  40.23031979553251,\n",
       "  43.74339153508835,\n",
       "  41.0797512725614,\n",
       "  40.08107639656744,\n",
       "  42.17748146945661,\n",
       "  45.43941616307023,\n",
       "  39.52558353369983,\n",
       "  40.131644919538545,\n",
       "  41.73013171746869,\n",
       "  39.16251608292363,\n",
       "  41.59168596617502,\n",
       "  40.95191080209568,\n",
       "  43.078049992427715,\n",
       "  42.49301109018106,\n",
       "  40.43713778240616,\n",
       "  41.30607854095726,\n",
       "  40.433350488451865,\n",
       "  43.36441401868041,\n",
       "  41.76649574372138,\n",
       "  39.7928187233376,\n",
       "  42.87615634545057,\n",
       "  43.24661030607153,\n",
       "  41.83316241038804,\n",
       "  41.68486797930137,\n",
       "  42.00967775684772,\n",
       "  41.82994363940486,\n",
       "  40.38770630537727,\n",
       "  40.89206212230267,\n",
       "  41.27463885460107,\n",
       "  41.23827482834838,\n",
       "  42.44850395304867,\n",
       "  40.93467561245791,\n",
       "  39.88221344250965,\n",
       "  39.24546897134968,\n",
       "  41.87577590054329,\n",
       "  42.209865834911554,\n",
       "  42.25664706392837,\n",
       "  41.17842614855536,\n",
       "  42.86517061971534,\n",
       "  41.21460209674423,\n",
       "  39.186188814527775,\n",
       "  38.796225572384614,\n",
       "  38.2058861741138,\n",
       "  38.728045703648085,\n",
       "  40.32293328568775,\n",
       "  40.539599952354415,\n",
       "  43.87123200555406,\n",
       "  40.173501808658855,\n",
       "  42.11649574372138,\n",
       "  40.134107089486804,\n",
       "  44.70362065978864,\n",
       "  37.63562029155666,\n",
       "  42.05039760002582,\n",
       "  40.081832997602376,\n",
       "  41.26308460589473,\n",
       "  45.38562886911593,\n",
       "  39.63145684147473,\n",
       "  41.18959995235441,\n",
       "  40.44338724630871,\n",
       "  41.71422165183695,\n",
       "  44.156839430771825,\n",
       "  38.77993935062523,\n",
       "  38.275203088792544,\n",
       "  39.612516082923634,\n",
       "  41.13694970434234,\n",
       "  42.79661030607153,\n",
       "  41.399260554083604,\n",
       "  41.47634442351439,\n",
       "  41.3617594818887,\n",
       "  43.02804999242772,\n",
       "  40.7248269326649,\n",
       "  40.51308460589473,\n",
       "  39.508916867033165,\n",
       "  42.93543650227248,\n",
       "  41.667252344756314,\n",
       "  42.23202536444583,\n",
       "  43.22293757446738,\n",
       "  40.94263064527377,\n",
       "  44.28657354821469,\n",
       "  39.16687189984903,\n",
       "  38.799068187240145,\n",
       "  41.761571403824874,\n",
       "  40.268008945791244,\n",
       "  40.51914599173345,\n",
       "  40.48429516755063,\n",
       "  40.60191080209569,\n",
       "  40.73353856651569,\n",
       "  41.30532193992232,\n",
       "  41.12861422661919,\n",
       "  40.009485390004265,\n",
       "  38.560810514010306,\n",
       "  40.68391901142297,\n",
       "  41.92463885460107,\n",
       "  42.33013171746869,\n",
       "  42.526344423514395,\n",
       "  41.98202536444583,\n",
       "  41.481456841474724,\n",
       "  39.735620291556664,\n",
       "  39.549824788275075,\n",
       "  43.09793543007757,\n",
       "  41.27160816168171,\n",
       "  43.06611958759373,\n",
       "  39.13675733749888,\n",
       "  41.7986920311125,\n",
       "  41.423313730595034,\n",
       "  40.99641793922807,\n",
       "  42.346798384135354,\n",
       "  40.65361637100901,\n",
       "  41.643199168244884,\n",
       "  41.99301109018106,\n",
       "  39.229182749590294,\n",
       "  37.67274091884429,\n",
       "  37.741869755459206,\n",
       "  39.5108105140103,\n",
       "  43.11327697273819,\n",
       "  39.91630337687792,\n",
       "  40.525775900543294,\n",
       "  39.402667403130614,\n",
       "  39.90512957307887,\n",
       "  42.27463885460107,\n",
       "  39.713084605894736,\n",
       "  40.969145991733456,\n",
       "  40.49016847532552,\n",
       "  40.76005391297538,\n",
       "  40.801342279124576,\n",
       "  38.863272683958556,\n",
       "  40.44641793922807,\n",
       "  40.158160265998234,\n",
       "  41.09604178310042,\n",
       "  40.67482693266489,\n",
       "  39.41933406979728,\n",
       "  40.87842614855536,\n",
       "  40.81782086772742,\n",
       "  40.91289652783091,\n",
       "  42.17766954752043,\n",
       "  40.2704711157395,\n",
       "  40.36990259276839,\n",
       "  39.29736261832683,\n",
       "  40.09888010917632,\n",
       "  42.709677756847725,\n",
       "  40.06800894579124,\n",
       "  41.04376769121599,\n",
       "  40.11744042282014,\n",
       "  42.5551338618585,\n",
       "  42.1074036649633,\n",
       "  41.52520737757219,\n",
       "  42.19850395304867,\n",
       "  41.453616371009005,\n",
       "  39.547174540263,\n",
       "  41.34016847532553,\n",
       "  44.51668811056484,\n",
       "  40.68088831850362,\n",
       "  39.82425840969378,\n",
       "  41.459677756847725,\n",
       "  39.80645469708491,\n",
       "  40.026720579642046,\n",
       "  40.87596397860711,\n",
       "  41.60115420106075,\n",
       "  39.80948539000426,\n",
       "  40.9943362141871,\n",
       "  40.124826932664895,\n",
       "  40.5710396387106,\n",
       "  40.46630337687792,\n",
       "  41.10077375615347,\n",
       "  40.8617594818887,\n",
       "  39.295280893285856,\n",
       "  42.1812687634109,\n",
       "  41.022933285687756,\n",
       "  40.83827482834838,\n",
       "  41.19812350814139,\n",
       "  39.28372664457952,\n",
       "  41.584487534394086,\n",
       "  41.173501808658855,\n",
       "  42.10551001798615,\n",
       "  43.17729339139278,\n",
       "  40.34528089328585,\n",
       "  40.42236476271664,\n",
       "  38.03334619967224,\n",
       "  41.72899467152647,\n",
       "  42.26270844976709,\n",
       "  40.542630645273775,\n",
       "  42.088655273255654,\n",
       "  40.9986920311125,\n",
       "  42.70039760002582,\n",
       "  40.11554677584299,\n",
       "  40.566683821785205,\n",
       "  40.96043435788266,\n",
       "  40.42482693266489,\n",
       "  41.95494149501505,\n",
       "  40.82293328568775,\n",
       "  40.07217668465282,\n",
       "  41.026344423514395,\n",
       "  42.56952643664074,\n",
       "  38.63997610848207,\n",
       "  41.49679838413535,\n",
       "  40.76668382178521,\n",
       "  43.29471665909438,\n",
       "  38.86270416098745,\n",
       "  42.93108068534707,\n",
       "  41.86857746876235,\n",
       "  41.04073699829663,\n",
       "  41.277101024549324,\n",
       "  40.23467561245791,\n",
       "  41.79357961315216,\n",
       "  40.50247932506679,\n",
       "  40.72728910261315,\n",
       "  41.33467561245791,\n",
       "  39.86687189984903,\n",
       "  42.715739142686445,\n",
       "  42.45096612299693,\n",
       "  41.32766954752043,\n",
       "  40.95134227912458,\n",
       "  39.72122771677442,\n",
       "  41.59736690710646,\n",
       "  38.68050787359633,\n",
       "  43.032405809353115,\n",
       "  41.05607854095726,\n",
       "  41.95721558689947,\n",
       "  38.58069595166016,\n",
       "  40.533350488451866,\n",
       "  42.709677756847725,\n",
       "  41.40854071090551,\n",
       "  42.47880659346265,\n",
       "  39.17804570364808,\n",
       "  43.19964099899089,\n",
       "  40.87766954752043,\n",
       "  43.3138454957093,\n",
       "  40.917440422820135,\n",
       "  41.58694970434234,\n",
       "  43.648315874984846,\n",
       "  40.1030478480379,\n",
       "  39.976152056670934,\n",
       "  40.4704711157395,\n",
       "  40.49263064527378,\n",
       "  39.82368988672268,\n",
       "  41.24944863214743,\n",
       "  42.58429945633026,\n",
       "  40.66990259276839,\n",
       "  42.39073699829663,\n",
       "  41.452859769974076,\n",
       "  40.167440422820135,\n",
       "  41.30607854095726,\n",
       "  43.06706426669248,\n",
       "  41.22710102454933,\n",
       "  42.73733014924962,\n",
       "  39.047174540263,\n",
       "  38.574634565821434,\n",
       "  40.639599952354416,\n",
       "  40.37596397860711,\n",
       "  39.86630337687792,\n",
       "  40.935812658400124,\n",
       "  41.29736690710646,\n",
       "  39.98959995235441,\n",
       "  41.34263064527377,\n",
       "  40.13221344250965,\n",
       "  42.054184893980114,\n",
       "  41.30929731194045,\n",
       "  39.0835385665157,\n",
       "  41.475207377572175,\n",
       "  42.65039760002582,\n",
       "  40.46800894579124,\n",
       "  40.65494149501505,\n",
       "  40.96971451470456,\n",
       "  41.79376769121599,\n",
       "  41.2079721879344,\n",
       "  39.862516082923634,\n",
       "  40.78278196548076,\n",
       "  41.39736690710646,\n",
       "  42.67501929950835,\n",
       "  40.58164491953855,\n",
       "  40.9530478480379,\n",
       "  41.36289652783091,\n",
       "  39.64414384734364,\n",
       "  41.02122771677443,\n",
       "  39.255698096049976,\n",
       "  40.158728788969334,\n",
       "  40.116115298814094,\n",
       "  39.46819702385507,\n",
       "  40.8579721879344,\n",
       "  41.01043435788266,\n",
       "  41.92766954752043,\n",
       "  43.15210316893914,\n",
       "  40.03543221349284,\n",
       "  38.676908657705866,\n",
       "  39.79963671021125,\n",
       "  41.39073699829663,\n",
       "  41.9943362141871,\n",
       "  41.952291247002975,\n",
       "  42.739792319197875,\n",
       "  38.903424004165544,\n",
       "  40.444524292250925,\n",
       "  42.69907247601978,\n",
       "  40.195280893285855,\n",
       "  42.11952643664074,\n",
       "  42.036381181371226,\n",
       "  41.69982907705471,\n",
       "  41.15607854095725,\n",
       "  39.9428187233376,\n",
       "  42.19357961315217,\n",
       "  39.920471115739495,\n",
       "  40.85115420106075,\n",
       "  41.80607854095726,\n",
       "  43.087330149249624,\n",
       "  40.69641793922807,\n",
       "  41.3079721879344,\n",
       "  40.92274520762392,\n",
       "  41.12350180865886,\n",
       "  42.73429945633026,\n",
       "  41.87880659346265,\n",
       "  44.65740795374293,\n",
       "  39.83467561245791,\n",
       "  39.75399252713665,\n",
       "  41.51289652783091,\n",
       "  41.43694970434234,\n",
       "  42.49793543007757,\n",
       "  38.23921950744713,\n",
       "  38.9238779647865,\n",
       "  39.03562029155666,\n",
       "  41.22350180865885,\n",
       "  38.8520988801595,\n",
       "  42.21895791366964,\n",
       "  41.36422165183695,\n",
       "  42.37198860658899,\n",
       "  39.399636710211254,\n",
       "  40.500017155118535,\n",
       "  39.38978803041824,\n",
       "  39.81800894579124,\n",
       "  41.37596397860711,\n",
       "  41.49509281522203,\n",
       "  41.64073699829663,\n",
       "  39.98694970434234,\n",
       "  41.29622986116424,\n",
       "  41.11592722075027,\n",
       "  40.536569259435055,\n",
       "  42.74907247601978,\n",
       "  42.01895791366964,\n",
       "  40.018765546826174,\n",
       "  40.18031979553251,\n",
       "  40.53600073646395,\n",
       "  42.38373093335916,\n",
       "  40.647174540263,\n",
       "  41.00986583491155,\n",
       "  41.82937511643375,\n",
       "  38.47634013473476,\n",
       "  44.78335477723151,\n",
       "  39.19603749432079,\n",
       "  42.11289652783091,\n",
       "  40.0204711157395,\n",
       "  41.622176684652814,\n",
       "  41.61346505080202,\n",
       "  42.51592722075027,\n",
       "  40.395849416256965,\n",
       "  38.302286958223334,\n",
       "  41.36895791366963,\n",
       "  40.84584941625696,\n",
       "  38.96762850088396,\n",
       "  43.46252037170326,\n",
       "  40.68391901142297,\n",
       "  43.57558782247946,\n",
       "  41.07823807049154,\n",
       "  41.21990259276839,\n",
       "  40.71365312886584,\n",
       "  41.003616371009,\n",
       "  41.94604178310042,\n",
       "  38.1913012324881,\n",
       "  40.44016847532552,\n",
       "  40.97596397860711,\n",
       "  38.661567115045244,\n",
       "  40.28145684147473,\n",
       "  40.375395455636,\n",
       "  39.94774306323411,\n",
       "  40.234863690521735,\n",
       "  40.28543221349284,\n",
       "  39.863272683958556,\n",
       "  39.74206212230267,\n",
       "  40.82728910261315,\n",
       "  41.83827482834838,\n",
       "  40.68959995235441,\n",
       "  42.69604178310042,\n",
       "  43.791685966175024,\n",
       "  41.9769129464855,\n",
       "  42.258352632841685,\n",
       "  41.93505605736519,\n",
       "  40.49244256720995,\n",
       "  44.00551430676578,\n",
       "  40.645849416256965,\n",
       "  41.867632789663595,\n",
       "  41.94547326012931,\n",
       "  41.53751822731345,\n",
       "  39.49300680140142,\n",
       "  41.92388225356614,\n",
       "  39.59584941625696,\n",
       "  41.676344423514394,\n",
       "  40.90134227912458,\n",
       "  39.01554677584299,\n",
       "  40.243387246308714,\n",
       "  44.458733077748974,\n",
       "  40.25759174302712,\n",
       "  42.31763278966359,\n",
       "  39.51137903698142,\n",
       "  39.96630337687792,\n",
       "  39.62122771677443,\n",
       "  40.56119095891759,\n",
       "  41.596798384135354,\n",
       "  39.29774306323411,\n",
       "  41.62463885460107,\n",
       "  41.018008945791244,\n",
       "  40.84187404423885,\n",
       "  40.94566133819314,\n",
       "  39.25228695822333,\n",
       "  40.017252344756315,\n",
       "  41.874070331629966,\n",
       "  39.368765546826175,\n",
       "  39.67804570364808],\n",
       " [14.905091921415725,\n",
       "  15.028071227698032,\n",
       "  15.667563620366034,\n",
       "  15.151050533980342,\n",
       "  17.14331529575373,\n",
       "  17.31548632454896,\n",
       "  17.807403549678195,\n",
       "  16.995740128214962,\n",
       "  16.208672568008186,\n",
       "  17.659828382139423,\n",
       "  17.95497871721696,\n",
       "  15.815138787904804,\n",
       "  15.790542926648342,\n",
       "  15.642967759109572,\n",
       "  15.470796730314342,\n",
       "  14.782112615133418,\n",
       "  17.635232520882962,\n",
       "  16.454631180572804,\n",
       "  16.774377376906806,\n",
       "  15.642967759109572,\n",
       "  15.839734649161265,\n",
       "  16.454631180572804,\n",
       "  16.749781515650348,\n",
       "  17.586040798370036,\n",
       "  15.716755342878958,\n",
       "  16.700589793137418,\n",
       "  15.569180175340186,\n",
       "  14.806708476389877,\n",
       "  15.470796730314342,\n",
       "  16.67599393188096,\n",
       "  15.569180175340186,\n",
       "  18.053362162242806,\n",
       "  16.774377376906806,\n",
       "  14.560749863825261,\n",
       "  15.101858811467416,\n",
       "  15.347817424032032,\n",
       "  15.569180175340186,\n",
       "  17.68442424339589,\n",
       "  16.577610486855114,\n",
       "  17.856595272191115,\n",
       "  15.495392591570804,\n",
       "  16.626802209368037,\n",
       "  15.397009146544953,\n",
       "  17.6106366596265,\n",
       "  16.257864290521113,\n",
       "  17.659828382139423,\n",
       "  15.200242256493265,\n",
       "  17.04493185072788,\n",
       "  15.765947065391885,\n",
       "  15.839734649161265,\n",
       "  16.55301462559865,\n",
       "  17.14331529575373,\n",
       "  15.151050533980342,\n",
       "  14.954283643928648,\n",
       "  14.363982973773568,\n",
       "  16.40543945805988,\n",
       "  16.257864290521113,\n",
       "  15.519988452827263,\n",
       "  18.323916636063885,\n",
       "  16.257864290521113,\n",
       "  16.184076706751725,\n",
       "  15.569180175340186,\n",
       "  17.14331529575373,\n",
       "  13.970449193670184,\n",
       "  15.741351204135416,\n",
       "  16.38084359680342,\n",
       "  19.135580057527118,\n",
       "  15.88892637167419,\n",
       "  17.48765735334419,\n",
       "  16.798973238163263,\n",
       "  15.716755342878958,\n",
       "  14.339387112517107,\n",
       "  15.987309816700034,\n",
       "  15.569180175340186,\n",
       "  14.265599528747725,\n",
       "  16.257864290521113,\n",
       "  16.749781515650348,\n",
       "  16.479227041829265,\n",
       "  14.8559001989028,\n",
       "  18.496087664859115,\n",
       "  16.356247735546958,\n",
       "  15.151050533980342,\n",
       "  16.03650153921296,\n",
       "  15.741351204135416,\n",
       "  16.67599393188096,\n",
       "  15.864330510417723,\n",
       "  16.55301462559865,\n",
       "  16.061097400469418,\n",
       "  15.42160500780142,\n",
       "  16.479227041829265,\n",
       "  17.905786994704037,\n",
       "  14.659133308851107,\n",
       "  16.921952544445574,\n",
       "  15.962713955443572,\n",
       "  16.159480845495267,\n",
       "  15.88892637167419,\n",
       "  16.356247735546958,\n",
       "  16.134884984238802,\n",
       "  16.38084359680342,\n",
       "  15.569180175340186])"
      ]
     },
     "execution_count": 110,
     "metadata": {},
     "output_type": "execute_result"
    }
   ],
   "source": [
    "def get_cum_hosp(df):\n",
    "    return df[['severity_3', 'severity_2']].iloc[df.shape[0] - 1].sum()\n",
    "\n",
    "def get_hosp_counts(scenario, noreopen_output, reopen_output):\n",
    "    # scenario must be one of [Nominal, Optimistic, Pessimistic]\n",
    "    \n",
    "    # noreopen - non-student population\n",
    "    nonstudent_key = '{} Faculty and Staff Parameters'.format(scenario)\n",
    "    nonstudent_counts = [get_cum_hosp(df) for df in \n",
    "                         noreopen_output.sim_results[nonstudent_key][(0.0,)]]\n",
    "    \n",
    "    # noreopen - student population\n",
    "    student_key = '{} Student Parameters'.format(scenario)\n",
    "    student_counts = [get_cum_hosp(df) for df in \n",
    "                         noreopen_output.sim_results[student_key][(0.0,)]]\n",
    "    \n",
    "    #print(np.quantile(nonstudent_counts, 0.5))\n",
    "    print(np.mean(nonstudent_counts))\n",
    "    noreopen_counts = [a + b for a,b in zip(nonstudent_counts, student_counts)]\n",
    "    \n",
    "    # reopen population\n",
    "    key = '{} Parameters'.format(scenario)\n",
    "    reopen_counts = [get_cum_hosp(df) for df in \n",
    "                    reopen_output.sim_results[key][(0.1,)]]\n",
    "    \n",
    "    return noreopen_counts, reopen_counts\n",
    "\n",
    "\n",
    "get_hosp_counts(scenario, agedist_output, reopen_output)"
   ]
  },
  {
   "cell_type": "code",
   "execution_count": 109,
   "metadata": {},
   "outputs": [
    {
     "name": "stdout",
     "output_type": "stream",
     "text": [
      "250.5\n"
     ]
    },
    {
     "data": {
      "text/plain": [
       "([297,\n",
       "  319,\n",
       "  311,\n",
       "  314,\n",
       "  290,\n",
       "  271,\n",
       "  288,\n",
       "  302,\n",
       "  300,\n",
       "  294,\n",
       "  317,\n",
       "  315,\n",
       "  263,\n",
       "  306,\n",
       "  292,\n",
       "  276,\n",
       "  298,\n",
       "  300,\n",
       "  267,\n",
       "  295,\n",
       "  275,\n",
       "  292,\n",
       "  276,\n",
       "  305,\n",
       "  300,\n",
       "  324,\n",
       "  315,\n",
       "  315,\n",
       "  299,\n",
       "  286,\n",
       "  276,\n",
       "  308,\n",
       "  301,\n",
       "  280,\n",
       "  294,\n",
       "  286,\n",
       "  307,\n",
       "  297,\n",
       "  307,\n",
       "  308,\n",
       "  286,\n",
       "  296,\n",
       "  297,\n",
       "  294,\n",
       "  292,\n",
       "  312,\n",
       "  303,\n",
       "  290,\n",
       "  312,\n",
       "  283,\n",
       "  276,\n",
       "  293,\n",
       "  320,\n",
       "  307,\n",
       "  295,\n",
       "  278,\n",
       "  305,\n",
       "  272,\n",
       "  299,\n",
       "  321,\n",
       "  297,\n",
       "  302,\n",
       "  269,\n",
       "  315,\n",
       "  285,\n",
       "  290,\n",
       "  321,\n",
       "  277,\n",
       "  293,\n",
       "  325,\n",
       "  288,\n",
       "  307,\n",
       "  274,\n",
       "  298,\n",
       "  308,\n",
       "  295,\n",
       "  301,\n",
       "  316,\n",
       "  289,\n",
       "  299,\n",
       "  309,\n",
       "  299,\n",
       "  275,\n",
       "  290,\n",
       "  305,\n",
       "  287,\n",
       "  305,\n",
       "  355,\n",
       "  274,\n",
       "  306,\n",
       "  269,\n",
       "  307,\n",
       "  293,\n",
       "  291,\n",
       "  306,\n",
       "  295,\n",
       "  305,\n",
       "  304,\n",
       "  317,\n",
       "  299,\n",
       "  318,\n",
       "  278,\n",
       "  296,\n",
       "  333,\n",
       "  295,\n",
       "  264,\n",
       "  299,\n",
       "  326,\n",
       "  314,\n",
       "  300,\n",
       "  285,\n",
       "  316,\n",
       "  291,\n",
       "  286,\n",
       "  320,\n",
       "  264,\n",
       "  330,\n",
       "  298,\n",
       "  286,\n",
       "  295,\n",
       "  297,\n",
       "  313,\n",
       "  300,\n",
       "  312,\n",
       "  280,\n",
       "  319,\n",
       "  282,\n",
       "  273,\n",
       "  283,\n",
       "  292,\n",
       "  305,\n",
       "  290,\n",
       "  324,\n",
       "  294,\n",
       "  299,\n",
       "  260,\n",
       "  307,\n",
       "  270,\n",
       "  304,\n",
       "  273,\n",
       "  288,\n",
       "  342,\n",
       "  334,\n",
       "  274,\n",
       "  311,\n",
       "  314,\n",
       "  315,\n",
       "  271,\n",
       "  254,\n",
       "  293,\n",
       "  278,\n",
       "  290,\n",
       "  304,\n",
       "  321,\n",
       "  308,\n",
       "  294,\n",
       "  279,\n",
       "  286,\n",
       "  266,\n",
       "  302,\n",
       "  314,\n",
       "  326,\n",
       "  307,\n",
       "  292,\n",
       "  320,\n",
       "  292,\n",
       "  263,\n",
       "  282,\n",
       "  310,\n",
       "  273,\n",
       "  281,\n",
       "  280,\n",
       "  300,\n",
       "  313,\n",
       "  275,\n",
       "  298,\n",
       "  306,\n",
       "  296,\n",
       "  311,\n",
       "  293,\n",
       "  297,\n",
       "  300,\n",
       "  297,\n",
       "  283,\n",
       "  268,\n",
       "  294,\n",
       "  289,\n",
       "  299,\n",
       "  285,\n",
       "  311,\n",
       "  305,\n",
       "  300,\n",
       "  294,\n",
       "  298,\n",
       "  302,\n",
       "  330,\n",
       "  285,\n",
       "  303,\n",
       "  256,\n",
       "  304,\n",
       "  299,\n",
       "  284,\n",
       "  330,\n",
       "  309,\n",
       "  287,\n",
       "  296,\n",
       "  324,\n",
       "  290,\n",
       "  267,\n",
       "  304,\n",
       "  279,\n",
       "  295,\n",
       "  282,\n",
       "  283,\n",
       "  291,\n",
       "  282,\n",
       "  285,\n",
       "  299,\n",
       "  287,\n",
       "  280,\n",
       "  271,\n",
       "  273,\n",
       "  298,\n",
       "  270,\n",
       "  273,\n",
       "  290,\n",
       "  316,\n",
       "  284,\n",
       "  280,\n",
       "  305,\n",
       "  296,\n",
       "  283,\n",
       "  337,\n",
       "  287,\n",
       "  305,\n",
       "  295,\n",
       "  308,\n",
       "  277,\n",
       "  283,\n",
       "  301,\n",
       "  272,\n",
       "  300,\n",
       "  268,\n",
       "  298,\n",
       "  280,\n",
       "  317,\n",
       "  319,\n",
       "  286,\n",
       "  254,\n",
       "  288,\n",
       "  306,\n",
       "  275,\n",
       "  265,\n",
       "  283,\n",
       "  313,\n",
       "  309,\n",
       "  261,\n",
       "  308,\n",
       "  317,\n",
       "  286,\n",
       "  309,\n",
       "  264,\n",
       "  299,\n",
       "  253,\n",
       "  307,\n",
       "  279,\n",
       "  307,\n",
       "  318,\n",
       "  295,\n",
       "  277,\n",
       "  284,\n",
       "  295,\n",
       "  306,\n",
       "  261,\n",
       "  288,\n",
       "  301,\n",
       "  299,\n",
       "  294,\n",
       "  301,\n",
       "  256,\n",
       "  270,\n",
       "  332,\n",
       "  283,\n",
       "  284,\n",
       "  295,\n",
       "  295,\n",
       "  316,\n",
       "  290,\n",
       "  295,\n",
       "  339,\n",
       "  294,\n",
       "  307,\n",
       "  262,\n",
       "  311,\n",
       "  296,\n",
       "  297,\n",
       "  278,\n",
       "  301,\n",
       "  313,\n",
       "  288,\n",
       "  298,\n",
       "  310,\n",
       "  325,\n",
       "  324,\n",
       "  273,\n",
       "  296,\n",
       "  273,\n",
       "  315,\n",
       "  307,\n",
       "  319,\n",
       "  299,\n",
       "  335,\n",
       "  317,\n",
       "  259,\n",
       "  313,\n",
       "  327,\n",
       "  285,\n",
       "  278,\n",
       "  293,\n",
       "  277,\n",
       "  262,\n",
       "  285,\n",
       "  293,\n",
       "  311,\n",
       "  283,\n",
       "  296,\n",
       "  310,\n",
       "  292,\n",
       "  316,\n",
       "  301,\n",
       "  310,\n",
       "  273,\n",
       "  311,\n",
       "  270,\n",
       "  314,\n",
       "  324,\n",
       "  268,\n",
       "  315,\n",
       "  299,\n",
       "  287,\n",
       "  303,\n",
       "  280,\n",
       "  290,\n",
       "  275,\n",
       "  284,\n",
       "  302,\n",
       "  279,\n",
       "  316,\n",
       "  300,\n",
       "  307,\n",
       "  305,\n",
       "  284,\n",
       "  268,\n",
       "  337,\n",
       "  292,\n",
       "  301,\n",
       "  308,\n",
       "  271,\n",
       "  275,\n",
       "  285,\n",
       "  277,\n",
       "  280,\n",
       "  309,\n",
       "  288,\n",
       "  288,\n",
       "  323,\n",
       "  302,\n",
       "  305,\n",
       "  267,\n",
       "  295,\n",
       "  262,\n",
       "  304,\n",
       "  290,\n",
       "  306,\n",
       "  306,\n",
       "  287,\n",
       "  278,\n",
       "  299,\n",
       "  284,\n",
       "  298,\n",
       "  319,\n",
       "  264,\n",
       "  322,\n",
       "  292,\n",
       "  285,\n",
       "  299,\n",
       "  275,\n",
       "  300,\n",
       "  318,\n",
       "  297,\n",
       "  296,\n",
       "  319,\n",
       "  318,\n",
       "  315,\n",
       "  301,\n",
       "  318,\n",
       "  278,\n",
       "  288,\n",
       "  268,\n",
       "  311,\n",
       "  343,\n",
       "  279,\n",
       "  301,\n",
       "  285,\n",
       "  286,\n",
       "  271,\n",
       "  333,\n",
       "  298,\n",
       "  316,\n",
       "  279,\n",
       "  284,\n",
       "  254,\n",
       "  294,\n",
       "  263,\n",
       "  299,\n",
       "  288,\n",
       "  311,\n",
       "  299,\n",
       "  291,\n",
       "  302,\n",
       "  298,\n",
       "  290,\n",
       "  294,\n",
       "  286,\n",
       "  307,\n",
       "  295,\n",
       "  305,\n",
       "  284,\n",
       "  298,\n",
       "  275,\n",
       "  295,\n",
       "  291,\n",
       "  292,\n",
       "  292,\n",
       "  277,\n",
       "  294,\n",
       "  305,\n",
       "  299,\n",
       "  291,\n",
       "  319,\n",
       "  269,\n",
       "  281,\n",
       "  290,\n",
       "  295,\n",
       "  302,\n",
       "  313,\n",
       "  271,\n",
       "  292,\n",
       "  286,\n",
       "  327,\n",
       "  256,\n",
       "  270,\n",
       "  293,\n",
       "  265,\n",
       "  304,\n",
       "  280,\n",
       "  301,\n",
       "  294,\n",
       "  265,\n",
       "  283,\n",
       "  307,\n",
       "  287,\n",
       "  291,\n",
       "  277,\n",
       "  318,\n",
       "  308,\n",
       "  289,\n",
       "  298,\n",
       "  277,\n",
       "  296,\n",
       "  317,\n",
       "  288,\n",
       "  296,\n",
       "  304,\n",
       "  300,\n",
       "  278,\n",
       "  298,\n",
       "  293,\n",
       "  287,\n",
       "  297,\n",
       "  285,\n",
       "  298,\n",
       "  297,\n",
       "  319,\n",
       "  303,\n",
       "  280,\n",
       "  293,\n",
       "  295,\n",
       "  287,\n",
       "  305,\n",
       "  272,\n",
       "  310,\n",
       "  275,\n",
       "  287,\n",
       "  286,\n",
       "  306,\n",
       "  297,\n",
       "  312,\n",
       "  264,\n",
       "  284],\n",
       " [572,\n",
       "  568,\n",
       "  537,\n",
       "  546,\n",
       "  600,\n",
       "  599,\n",
       "  614,\n",
       "  580,\n",
       "  598,\n",
       "  594,\n",
       "  594,\n",
       "  542,\n",
       "  577,\n",
       "  541,\n",
       "  534,\n",
       "  563,\n",
       "  560,\n",
       "  604,\n",
       "  598,\n",
       "  606,\n",
       "  571,\n",
       "  595,\n",
       "  575,\n",
       "  577,\n",
       "  605,\n",
       "  600,\n",
       "  572,\n",
       "  556,\n",
       "  562,\n",
       "  581,\n",
       "  542,\n",
       "  594,\n",
       "  642,\n",
       "  600,\n",
       "  541,\n",
       "  560,\n",
       "  581,\n",
       "  600,\n",
       "  565,\n",
       "  588,\n",
       "  517,\n",
       "  589,\n",
       "  593,\n",
       "  550,\n",
       "  573,\n",
       "  566,\n",
       "  556,\n",
       "  564,\n",
       "  576,\n",
       "  573,\n",
       "  599,\n",
       "  582,\n",
       "  573,\n",
       "  555,\n",
       "  538,\n",
       "  607,\n",
       "  551,\n",
       "  566,\n",
       "  597,\n",
       "  554,\n",
       "  543,\n",
       "  556,\n",
       "  603,\n",
       "  514,\n",
       "  569,\n",
       "  620,\n",
       "  587,\n",
       "  553,\n",
       "  597,\n",
       "  621,\n",
       "  572,\n",
       "  552,\n",
       "  566,\n",
       "  595,\n",
       "  530,\n",
       "  575,\n",
       "  602,\n",
       "  551,\n",
       "  541,\n",
       "  608,\n",
       "  579,\n",
       "  606,\n",
       "  584,\n",
       "  579,\n",
       "  607,\n",
       "  570,\n",
       "  557,\n",
       "  575,\n",
       "  564,\n",
       "  565,\n",
       "  611,\n",
       "  553,\n",
       "  624,\n",
       "  560,\n",
       "  550,\n",
       "  574,\n",
       "  606,\n",
       "  564,\n",
       "  569,\n",
       "  549])"
      ]
     },
     "execution_count": 109,
     "metadata": {},
     "output_type": "execute_result"
    }
   ],
   "source": [
    "def get_cum_outside_infections(df):\n",
    "    return df['cumulative_outside_infections'].iloc[df.shape[0] - 1].sum()\n",
    "\n",
    "def get_outside_infection_counts(scenario, noreopen_output, reopen_output):\n",
    "    # scenario must be one of [Nominal, Optimistic, Pessimistic]\n",
    "    \n",
    "    # noreopen - non-student population\n",
    "    nonstudent_key = '{} Faculty and Staff Parameters'.format(scenario)\n",
    "    nonstudent_counts = [get_cum_outside_infections(df) for df in \n",
    "                         noreopen_output.sim_results[nonstudent_key][(0.0,)]]\n",
    "    \n",
    "    # noreopen - student population\n",
    "    student_key = '{} Student Parameters'.format(scenario)\n",
    "    student_counts = [get_cum_outside_infections(df) for df in \n",
    "                         noreopen_output.sim_results[student_key][(0.0,)]]\n",
    "    \n",
    "    print(np.quantile(nonstudent_counts, 0.5))\n",
    "    noreopen_counts = [a + b for a,b in zip(nonstudent_counts, student_counts)]\n",
    "    \n",
    "    # reopen population\n",
    "    key = '{} Parameters'.format(scenario)\n",
    "    reopen_counts = [get_cum_outside_infections(df) for df in \n",
    "                    reopen_output.sim_results[key][(0.1,)]]\n",
    "    \n",
    "    return noreopen_counts, reopen_counts\n",
    "\n",
    "\n",
    "get_outside_infection_counts(scenario, agedist_output, reopen_output)\n",
    "    "
   ]
  },
  {
   "cell_type": "code",
   "execution_count": null,
   "metadata": {
    "collapsed": true
   },
   "outputs": [],
   "source": []
  }
 ],
 "metadata": {
  "kernelspec": {
   "display_name": "IPython (Python 3)",
   "language": "python",
   "name": "python3"
  },
  "language_info": {
   "codemirror_mode": {
    "name": "ipython",
    "version": 3
   },
   "file_extension": ".py",
   "mimetype": "text/x-python",
   "name": "python",
   "nbconvert_exporter": "python",
   "pygments_lexer": "ipython3",
   "version": "3.6.2"
  }
 },
 "nbformat": 4,
 "nbformat_minor": 2
}
