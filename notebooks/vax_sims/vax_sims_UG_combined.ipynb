{
 "cells": [
  {
   "cell_type": "code",
   "execution_count": 1,
   "metadata": {},
   "outputs": [],
   "source": [
    "import sys\n",
    "import os\n",
    "import yaml\n",
    "import matplotlib.pyplot as plt\n",
    "import numpy as np\n",
    "module_path = os.path.abspath(os.path.join('../..'))\n",
    "if module_path + \"/src/simulations_v2\" not in sys.path:\n",
    "    sys.path.append(module_path + \"/src/simulations_v2\")\n",
    "    \n",
    "from load_params import load_params\n",
    "from analysis_helpers import get_cumulative_infection_cols\n",
    "\n",
    "from multi_group_simulation import MultiGroupSimulation\n",
    "from vax_sim_utils import load_vax_group_configs, create_multigrp_vax_sim"
   ]
  },
  {
   "cell_type": "code",
   "execution_count": 2,
   "metadata": {},
   "outputs": [
    {
     "name": "stderr",
     "output_type": "stream",
     "text": [
      "/home/aaj54/group-testing/src/simulations_v2/vax_sim_utils.py:28: YAMLLoadWarning: calling yaml.load() without Loader=... is deprecated, as the default Loader is unsafe. Please read https://msg.pyyaml.org/load for full details.\n",
      "  vax_config = yaml.load(f)\n",
      "/home/aaj54/group-testing/src/simulations_v2/load_params.py:136: YAMLLoadWarning: calling yaml.load() without Loader=... is deprecated, as the default Loader is unsafe. Please read https://msg.pyyaml.org/load for full details.\n",
      "  params = yaml.load(f)\n",
      "/home/aaj54/group-testing/src/simulations_v2/load_params.py:45: YAMLLoadWarning: calling yaml.load() without Loader=... is deprecated, as the default Loader is unsafe. Please read https://msg.pyyaml.org/load for full details.\n",
      "  age_sev_params = yaml.load(f)\n"
     ]
    }
   ],
   "source": [
    "UG_GA_vax_config = load_vax_group_configs(os.getcwd() + \"/vax_sim_nominal_params/ug_greek_athlete_vax_config.yaml\")\n",
    "UG_other_vax_config = load_vax_group_configs(os.getcwd() + \"/vax_sim_nominal_params/ug_other_vax_config.yaml\")"
   ]
  },
  {
   "cell_type": "code",
   "execution_count": 3,
   "metadata": {},
   "outputs": [],
   "source": [
    "contact_matrix = 10 * np.array([[92/125, 1/44],\n",
    "                           [3.5/125, 6.5/44]]) # Calibrated contact matrix for UG groups\n",
    "\n",
    "UG_group_params = UG_GA_vax_config[0] + UG_other_vax_config[0]\n",
    "UG_vax_status = UG_GA_vax_config[1] + UG_other_vax_config[1]\n",
    "GA_vax_perc = UG_GA_vax_config[0][0]['population_size'] / (UG_GA_vax_config[0][0]['population_size'] + UG_GA_vax_config[0][1]['population_size'])\n",
    "other_vax_perc = UG_other_vax_config[0][0]['population_size'] / (UG_other_vax_config[0][0]['population_size'] + UG_other_vax_config[0][1]['population_size'])\n",
    "UG_contact_matrix = np.zeros((4,4))\n",
    "\n",
    "for row in range(4):\n",
    "    if row < 2:\n",
    "        UG_contact_matrix[row,:] = 10 * np.array([92/125 * GA_vax_perc, 92/125 * (1-GA_vax_perc), 1/44 * other_vax_perc, 1/44 * (1-other_vax_perc)])\n",
    "    else:\n",
    "        UG_contact_matrix[row,:] = 10 * np.array([3.5/125 * GA_vax_perc, 3.5/125 * (1-GA_vax_perc), 6.5/44 * other_vax_perc, 6.5/44 * (1-other_vax_perc)])\n",
    "\n",
    "# Double contacts per day\n",
    "UG_contact_matrix *= 2\n",
    "for i in range(4):\n",
    "    UG_group_params[i]['expected_contacts_per_day'] = UG_contact_matrix[i,i]\n",
    "\n",
    "sim = create_multigrp_vax_sim(UG_group_params, UG_vax_status, UG_contact_matrix, 1, 0.3)"
   ]
  },
  {
   "cell_type": "code",
   "execution_count": 10,
   "metadata": {},
   "outputs": [
    {
     "data": {
      "text/plain": [
       "6620.0"
      ]
     },
     "execution_count": 10,
     "metadata": {},
     "output_type": "execute_result"
    }
   ],
   "source": [
    "cum_inf_cols = get_cumulative_infection_cols(sim.run_new_trajectory(T=1)[1])\n",
    "np.array(sim.run_new_trajectory(T=30)[1][cum_inf_cols].sum(axis=1))[-1]"
   ]
  },
  {
   "cell_type": "code",
   "execution_count": null,
   "metadata": {},
   "outputs": [],
   "source": []
  },
  {
   "cell_type": "code",
   "execution_count": null,
   "metadata": {},
   "outputs": [],
   "source": [
    "# Graph. Scenario 1: 50% transmission mult for vax, Scenario 2: 100% tranmission mult for vax\n",
    "# x-axis: Scaling contacts per day relative to Fall 2020 (1 -> 2)\n",
    "# y-axis: Number of UG cases\n",
    "# color: Masking vs non-masking"
   ]
  },
  {
   "cell_type": "code",
   "execution_count": 3,
   "metadata": {},
   "outputs": [],
   "source": [
    "def get_sim(contact_mult, masking):\n",
    "    contact_matrix = 10 * np.array([[92/125, 1/44],\n",
    "                               [3.5/125, 6.5/44]]) # Calibrated contact matrix for UG groups\n",
    "\n",
    "    UG_group_params = UG_GA_vax_config[0] + UG_other_vax_config[0]\n",
    "    UG_vax_status = UG_GA_vax_config[1] + UG_other_vax_config[1]\n",
    "    GA_vax_perc = UG_GA_vax_config[0][0]['population_size'] / (UG_GA_vax_config[0][0]['population_size'] + UG_GA_vax_config[0][1]['population_size'])\n",
    "    other_vax_perc = UG_other_vax_config[0][0]['population_size'] / (UG_other_vax_config[0][0]['population_size'] + UG_other_vax_config[0][1]['population_size'])\n",
    "    UG_contact_matrix = np.zeros((4,4))\n",
    "\n",
    "    for row in range(4):\n",
    "        if row < 2:\n",
    "            UG_contact_matrix[row,:] = 10 * np.array([92/125 * GA_vax_perc, 92/125 * (1-GA_vax_perc), 1/44 * other_vax_perc, 1/44 * (1-other_vax_perc)])\n",
    "        else:\n",
    "            UG_contact_matrix[row,:] = 10 * np.array([3.5/125 * GA_vax_perc, 3.5/125 * (1-GA_vax_perc), 6.5/44 * other_vax_perc, 6.5/44 * (1-other_vax_perc)])\n",
    "\n",
    "    # Double contacts per day\n",
    "    UG_contact_matrix *= contact_mult\n",
    "    if masking == True:\n",
    "        UG_contact_matrix *= 0.8\n",
    "    for i in range(4):\n",
    "        UG_group_params[i]['expected_contacts_per_day'] = UG_contact_matrix[i,i]\n",
    "        \n",
    "    return UG_group_params, UG_vax_status, UG_contact_matrix\n",
    "\n",
    "def get_case_counts(sim, N=50, T=30):\n",
    "    inf_count = list()\n",
    "    cum_inf_cols = get_cumulative_infection_cols(sim.run_new_trajectory(T=1)[1])\n",
    "    for _ in range(N):\n",
    "        inf_count.append(np.array(sim.run_new_trajectory(T)[1][cum_inf_cols].sum(axis=1))[-1])\n",
    "    return np.quantile(inf_count, 0.1), np.quantile(inf_count, 0.5), np.quantile(inf_count, 0.9)\n",
    "#     sim = create_multigrp_vax_sim(UG_group_params, UG_vax_status, UG_contact_matrix, 1, 0.3)"
   ]
  },
  {
   "cell_type": "code",
   "execution_count": 4,
   "metadata": {},
   "outputs": [
    {
     "data": {
      "image/png": "[encoded data removed]",
      "text/plain": [
       "<Figure size 720x432 with 1 Axes>"
      ]
     },
     "metadata": {
      "needs_background": "light"
     },
     "output_type": "display_data"
    }
   ],
   "source": [
    "np.random.seed(2021)\n",
    "# Scenario 1 graph\n",
    "plt.figure(figsize=(10,6))\n",
    "contacts_per_day_mults = [1, 1.2, 1.4, 1.6, 1.8, 2]\n",
    "\n",
    "mask_med = list()\n",
    "unmask_med = list()\n",
    "\n",
    "mask_LB = list()\n",
    "mask_UB = list()\n",
    "unmask_LB = list()\n",
    "unmask_UB = list()\n",
    "\n",
    "label=True\n",
    "\n",
    "for contact_mult in contacts_per_day_mults:\n",
    "    UG_group_params, UG_vax_status, UG_contact_matrix = get_sim(contact_mult, True)\n",
    "    sim = create_multigrp_vax_sim(UG_group_params, UG_vax_status, UG_contact_matrix, 0.5, 0.21)\n",
    "    mask_inf_10, mask_inf_50, mask_inf_90 = get_case_counts(sim)\n",
    "    mask_med.append(mask_inf_50)\n",
    "    mask_LB.append(mask_inf_10)\n",
    "    mask_UB.append(mask_inf_90)\n",
    "\n",
    "    UG_group_params, UG_vax_status, UG_contact_matrix = get_sim(contact_mult, False)\n",
    "    sim = create_multigrp_vax_sim(UG_group_params, UG_vax_status, UG_contact_matrix, 0.5, 0.21)\n",
    "    unmask_inf_10, unmask_inf_50, unmask_inf_90 = get_case_counts(sim)\n",
    "    unmask_med.append(unmask_inf_50)\n",
    "    unmask_LB.append(unmask_inf_10)\n",
    "    unmask_UB.append(unmask_inf_90)\n",
    "#     if label:\n",
    "#         print(mask_inf_10, mask_inf_50, mask_inf_90, [mask_inf_50 - mask_inf_10, mask_inf_90 - mask_inf_50])\n",
    "#         plt.errorbar([contact_mult], [mask_inf_50], yerr=[mask_inf_50 - mask_inf_10, mask_inf_90 - mask_inf_50], color='blue', label='Mask')\n",
    "#         plt.errorbar(contact_mult, unmask_inf_50, yerr=[unmask_inf_50-unmask_inf_10, unmask_inf_90-unmask_inf_50], color='red', label='Unmask')\n",
    "#         label = False\n",
    "\n",
    "mask_med = np.array(mask_med)\n",
    "unmask_med = np.array(unmask_med)\n",
    "\n",
    "mask_LB = np.array(mask_LB)\n",
    "mask_UB = np.array(mask_UB)\n",
    "unmask_LB = np.array(unmask_LB)\n",
    "unmask_UB = np.array(unmask_UB)\n",
    "\n",
    "plt.errorbar(contacts_per_day_mults, mask_med, yerr = [mask_med-mask_LB, mask_UB-mask_med], color='blue', label='Mask')\n",
    "plt.errorbar(contacts_per_day_mults, unmask_med, yerr = [unmask_med-unmask_LB, unmask_UB-unmask_med], color='red', label='Unmask')\n",
    "\n",
    "plt.title('Scenario 1: Vax Transmission reduced by 50%')\n",
    "plt.xlabel('Contact Multiplier relative to Fall 2020')\n",
    "plt.ylabel('UG Cases in the first month')\n",
    "plt.legend()\n",
    "plt.show()"
   ]
  },
  {
   "cell_type": "code",
   "execution_count": null,
   "metadata": {},
   "outputs": [],
   "source": []
  },
  {
   "cell_type": "code",
   "execution_count": 5,
   "metadata": {},
   "outputs": [
    {
     "data": {
      "image/png": "[encoded data removed]",
      "text/plain": [
       "<Figure size 720x432 with 1 Axes>"
      ]
     },
     "metadata": {
      "needs_background": "light"
     },
     "output_type": "display_data"
    }
   ],
   "source": [
    "np.random.seed(2021)\n",
    "# Scenario 1 graph\n",
    "plt.figure(figsize=(10,6))\n",
    "contacts_per_day_mults = [1, 1.2, 1.4, 1.6, 1.8, 2]\n",
    "\n",
    "mask_med = list()\n",
    "unmask_med = list()\n",
    "\n",
    "mask_LB = list()\n",
    "mask_UB = list()\n",
    "unmask_LB = list()\n",
    "unmask_UB = list()\n",
    "\n",
    "label=True\n",
    "\n",
    "for contact_mult in contacts_per_day_mults:\n",
    "    UG_group_params, UG_vax_status, UG_contact_matrix = get_sim(contact_mult, True)\n",
    "    sim = create_multigrp_vax_sim(UG_group_params, UG_vax_status, UG_contact_matrix, 1, 0.21)\n",
    "    mask_inf_10, mask_inf_50, mask_inf_90 = get_case_counts(sim)\n",
    "    mask_med.append(mask_inf_50)\n",
    "    mask_LB.append(mask_inf_10)\n",
    "    mask_UB.append(mask_inf_90)\n",
    "\n",
    "    UG_group_params, UG_vax_status, UG_contact_matrix = get_sim(contact_mult, False)\n",
    "    sim = create_multigrp_vax_sim(UG_group_params, UG_vax_status, UG_contact_matrix, 1, 0.21)\n",
    "    unmask_inf_10, unmask_inf_50, unmask_inf_90 = get_case_counts(sim)\n",
    "    unmask_med.append(unmask_inf_50)\n",
    "    unmask_LB.append(unmask_inf_10)\n",
    "    unmask_UB.append(unmask_inf_90)\n",
    "#     if label:\n",
    "#         print(mask_inf_10, mask_inf_50, mask_inf_90, [mask_inf_50 - mask_inf_10, mask_inf_90 - mask_inf_50])\n",
    "#         plt.errorbar([contact_mult], [mask_inf_50], yerr=[mask_inf_50 - mask_inf_10, mask_inf_90 - mask_inf_50], color='blue', label='Mask')\n",
    "#         plt.errorbar(contact_mult, unmask_inf_50, yerr=[unmask_inf_50-unmask_inf_10, unmask_inf_90-unmask_inf_50], color='red', label='Unmask')\n",
    "#         label = False\n",
    "\n",
    "mask_med = np.array(mask_med)\n",
    "unmask_med = np.array(unmask_med)\n",
    "\n",
    "mask_LB = np.array(mask_LB)\n",
    "mask_UB = np.array(mask_UB)\n",
    "unmask_LB = np.array(unmask_LB)\n",
    "unmask_UB = np.array(unmask_UB)\n",
    "\n",
    "plt.errorbar(contacts_per_day_mults, mask_med, yerr = [mask_med-mask_LB, mask_UB-mask_med], color='blue', label='Mask')\n",
    "plt.errorbar(contacts_per_day_mults, unmask_med, yerr = [unmask_med-unmask_LB, unmask_UB-unmask_med], color='red', label='Unmask')\n",
    "\n",
    "plt.title('Scenario 1: No Reduction in Vax Transmission')\n",
    "plt.xlabel('Contact Multiplier relative to Fall 2020')\n",
    "plt.ylabel('UG Cases in the first month')\n",
    "plt.legend()\n",
    "plt.show()"
   ]
  },
  {
   "cell_type": "code",
   "execution_count": null,
   "metadata": {},
   "outputs": [],
   "source": []
  },
  {
   "cell_type": "code",
   "execution_count": null,
   "metadata": {},
   "outputs": [],
   "source": []
  },
  {
   "cell_type": "code",
   "execution_count": 8,
   "metadata": {},
   "outputs": [
    {
     "data": {
      "text/plain": [
       "11971"
      ]
     },
     "execution_count": 8,
     "metadata": {},
     "output_type": "execute_result"
    }
   ],
   "source": [
    "UG_GA_vax_config[0][0]['population_size'] + UG_GA_vax_config[0][1]['population_size'] + UG_other_vax_config[0][0]['population_size'] + UG_other_vax_config[0][1]['population_size']"
   ]
  },
  {
   "cell_type": "code",
   "execution_count": null,
   "metadata": {},
   "outputs": [],
   "source": []
  },
  {
   "cell_type": "code",
   "execution_count": null,
   "metadata": {},
   "outputs": [],
   "source": []
  },
  {
   "cell_type": "code",
   "execution_count": null,
   "metadata": {},
   "outputs": [],
   "source": [
    "UG_vax_config_matrix = 2 * UG_vax_config[2]\n",
    "UG_vax_config[0][0]['expected_contacts_per_day'] *= 2\n",
    "UG_vax_config[0][1]['expected_contacts_per_day'] *= 2\n",
    "\n",
    "sim_pess = create_multigrp_vax_sim(UG_vax_config[0], UG_vax_config[1], UG_vax_config_matrix, 1, 0.3)\n",
    "sim_opt = create_multigrp_vax_sim(UG_vax_config[0], UG_vax_config[1], UG_vax_config_matrix, 0.5, 0.3)\n",
    "\n",
    "cum_inf_cols = get_cumulative_infection_cols(sim_pess.run_new_trajectory(T=1)[1])\n",
    "\n",
    "# Plotting trajectories\n",
    "n_trajs = 20\n",
    "plt.figure(figsize=(10,6))\n",
    "label = True\n",
    "for _ in range(n_trajs):\n",
    "    if label:\n",
    "        plt.plot(sim_pess.run_new_trajectory(T=120)[1][cum_inf_cols].sum(axis=1), alpha=0.4, color='red', label='Pessimistic')\n",
    "        plt.plot(sim_pess.run_new_trajectory(T=120)[1][cum_inf_cols].sum(axis=1), alpha=0.4, color='blue', label='Optimisitic')\n",
    "        label = False\n",
    "    else:\n",
    "        plt.plot(sim_pess.run_new_trajectory(T=120)[1][cum_inf_cols].sum(axis=1), alpha=0.4, color='red')\n",
    "        plt.plot(sim_pess.run_new_trajectory(T=120)[1][cum_inf_cols].sum(axis=1), alpha=0.4, color='blue')\n",
    "\n",
    "plt.xlabel('Days in the Semester')\n",
    "plt.ylabel('Cumulative Cases')\n",
    "plt.title('UG Greek and Athlete Cases')\n",
    "plt.legend()\n",
    "plt.show()"
   ]
  },
  {
   "cell_type": "code",
   "execution_count": null,
   "metadata": {},
   "outputs": [],
   "source": []
  },
  {
   "cell_type": "code",
   "execution_count": null,
   "metadata": {},
   "outputs": [],
   "source": []
  }
 ],
 "metadata": {
  "kernelspec": {
   "display_name": "Python 3",
   "language": "python",
   "name": "python3"
  },
  "language_info": {
   "codemirror_mode": {
    "name": "ipython",
    "version": 3
   },
   "file_extension": ".py",
   "mimetype": "text/x-python",
   "name": "python",
   "nbconvert_exporter": "python",
   "pygments_lexer": "ipython3",
   "version": "3.7.6"
  }
 },
 "nbformat": 4,
 "nbformat_minor": 4
}
