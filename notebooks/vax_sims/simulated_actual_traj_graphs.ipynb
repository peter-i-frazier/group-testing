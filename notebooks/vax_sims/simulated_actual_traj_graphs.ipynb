{
 "cells": [
  {
   "cell_type": "code",
   "execution_count": 1,
   "metadata": {},
   "outputs": [],
   "source": [
    "import sys\n",
    "import os\n",
    "import numpy as np\n",
    "import multiprocessing\n",
    "import dill\n",
    "import matplotlib.pyplot as plt\n",
    "import matplotlib.dates as mdates\n",
    "import pandas as pd\n",
    "import numpy as np\n",
    "from statsmodels.api import OLS, add_constant\n",
    "import time\n",
    "from scipy.stats import norm\n",
    "import datetime as dt\n",
    "\n",
    "from vax_sims_LHS_samples import *\n",
    "from plot_utils import *"
   ]
  },
  {
   "cell_type": "code",
   "execution_count": 2,
   "metadata": {},
   "outputs": [],
   "source": [
    "def load_sim_output(folder, npoints, lb=0):\n",
    "    scenario_data = pd.DataFrame(columns=UNCERTAINTY_PARAMS+['student_inf_10','student_inf_50','student_inf_90']+\\\n",
    "                                ['staff_inf_10', 'staff_inf_50', 'staff_inf_90'])\n",
    "    for idx in range(lb, npoints):\n",
    "        inf_file = folder + '/list_of_infs_by_group_{}.dill'.format(idx)\n",
    "        point_file = folder + '/lhs_point_{}.dill'.format(idx)\n",
    "        with open(inf_file, 'rb') as fhandle:\n",
    "            inf_matrix = np.array(dill.load(fhandle))\n",
    "            student_infxns = np.sum(inf_matrix[:,:-2], axis=1)\n",
    "            staff_infxns = np.sum(inf_matrix[:,-2:], axis=1)\n",
    "        with open(point_file, 'rb') as fhandle:\n",
    "            uncertainty_point = dill.load(fhandle)\n",
    "\n",
    "        new_row = dict()\n",
    "        for index, col_name in enumerate(UNCERTAINTY_PARAMS):\n",
    "            if type(uncertainty_point) == dict:\n",
    "                new_row[col_name] = uncertainty_point[col_name]\n",
    "            else:\n",
    "                new_row[col_name] = uncertainty_point[index]\n",
    "        new_row['student_inf_10'] = np.quantile(student_infxns, 0.1)\n",
    "        new_row['student_inf_50'] = np.quantile(student_infxns, 0.5)\n",
    "        new_row['student_inf_90'] = np.quantile(student_infxns, 0.9)\n",
    "        new_row['staff_inf_10'] = np.quantile(staff_infxns, 0.1)\n",
    "        new_row['staff_inf_50'] = np.quantile(staff_infxns, 0.5)\n",
    "        new_row['staff_inf_90'] = np.quantile(staff_infxns, 0.9)\n",
    "        new_row['cornell_inf_10'] = np.quantile(student_infxns + staff_infxns, 0.1)\n",
    "        new_row['cornell_inf_50'] = np.quantile(student_infxns + staff_infxns, 0.5)\n",
    "        new_row['cornell_inf_90'] = np.quantile(student_infxns + staff_infxns, 0.9)\n",
    "        \n",
    "        scenario_data = scenario_data.append(new_row, ignore_index=True)\n",
    "\n",
    "    return scenario_data\n",
    "\n",
    "def residential_regression_student(scenario_data):\n",
    "    columns = scenario_data.columns[0:5]\n",
    "    target = 'student_inf_50'\n",
    "    X_res = scenario_data[columns]\n",
    "    Y_res_outcomes = np.array(scenario_data[[target]])\n",
    "\n",
    "    X = add_constant(X_res)\n",
    "    model = OLS(Y_res_outcomes,X)\n",
    "    results = model.fit()\n",
    "    return results\n",
    "\n",
    "def residential_regression_staff(scenario_data):\n",
    "    columns = scenario_data.columns[0:5]\n",
    "    target = 'staff_inf_50'\n",
    "    X_res = scenario_data[columns]\n",
    "    Y_res_outcomes = np.array(scenario_data[[target]])\n",
    "\n",
    "    X = add_constant(X_res)\n",
    "    model = OLS(Y_res_outcomes,X)\n",
    "    results = model.fit()\n",
    "    return results\n"
   ]
  },
  {
   "cell_type": "code",
   "execution_count": 3,
   "metadata": {},
   "outputs": [],
   "source": [
    "def calculate_pessimistic_scenario(results, q=0.99, beta=1.96):\n",
    "    # the keys in dict(results.params) specify whether this is for residential\n",
    "    # or virtual vs. residential\n",
    "    lr_results = dict(results.params)\n",
    "    sd_dict = dict()\n",
    "    pess_direction = dict()\n",
    "    params = set(lr_results.keys()) - set(['const'])\n",
    "    centre_infections = lr_results['const']\n",
    "\n",
    "    invquantile = norm.ppf(q)\n",
    "\n",
    "    for param in params:\n",
    "        sd_dict[param] = (UNCERTAINTY_PARAM_RANGES[param][1] - UNCERTAINTY_PARAM_RANGES[param][0])/(2*beta)\n",
    "        centre_infections += np.mean(UNCERTAINTY_PARAM_RANGES[param]) * lr_results[param]\n",
    "\n",
    "    sum_squares_Sigma_1 = 0\n",
    "\n",
    "    for param in params:\n",
    "        sum_squares_Sigma_1 += (lr_results[param]*sd_dict[param]) ** 2\n",
    "\n",
    "    for param in params:\n",
    "        pess_direction[param] = lr_results[param]*(sd_dict[param])**2 / np.sqrt(sum_squares_Sigma_1)\n",
    "\n",
    "    mp_pess_scenario = dict()\n",
    "    for param in params:\n",
    "        mp_pess_scenario[param] = np.mean(UNCERTAINTY_PARAM_RANGES[param]) + invquantile * pess_direction[param]\n",
    "\n",
    "    return mp_pess_scenario"
   ]
  },
  {
   "cell_type": "code",
   "execution_count": 4,
   "metadata": {},
   "outputs": [],
   "source": [
    "LHS_data = load_sim_output('/home/aaj54/group-testing/notebooks/vax_sims/lhs_vax_sims_test_delay:1631153818.0076091', 200)"
   ]
  },
  {
   "cell_type": "code",
   "execution_count": 5,
   "metadata": {},
   "outputs": [],
   "source": [
    "lr_results = residential_regression_student(LHS_data)\n",
    "pess_95_scenario_student = calculate_pessimistic_scenario(lr_results, q=0.95)\n",
    "pess_90_scenario_student = calculate_pessimistic_scenario(lr_results, q=0.9)\n",
    "opt_10_scenario_student = calculate_pessimistic_scenario(lr_results, q=0.10)\n",
    "opt_5_scenario_student = calculate_pessimistic_scenario(lr_results, q=0.05)"
   ]
  },
  {
   "cell_type": "code",
   "execution_count": 6,
   "metadata": {},
   "outputs": [],
   "source": [
    "param_modifiers = {'ug_ga_vax_test_frequency': 2/7, 'ug_ga_unvax_test_frequency': 2/7,\n",
    "            'ug_other_vax_test_frequency': 1/7, 'ug_other_unvax_test_frequency': 2/7,\n",
    "            'grad_vax_test_frequency': 1/7, 'grad_unvax_test_frequency': 2/7,\n",
    "            'employee_vax_test_frequency': 1/7, 'employee_unvax_test_frequency': 2/7,\n",
    "            'test_delay': 1}"
   ]
  },
  {
   "cell_type": "code",
   "execution_count": 7,
   "metadata": {},
   "outputs": [],
   "source": [
    "def get_cum_infections(df):\n",
    "    return df[['cumulative_mild', 'cumulative_severe']].iloc[df.shape[0]-1].sum()\n",
    "\n",
    "\n",
    "def get_cum_inf_trajectory(df):\n",
    "    return np.sum(df[['cumulative_mild', 'cumulative_severe']], axis=1)\n",
    "\n",
    "\n",
    "def run_multigroup_sim(sim, T):\n",
    "    sim.run_new_trajectory(T)\n",
    "    inf_trajs_by_group = []\n",
    "    for group in sim.sims:\n",
    "        df = group.sim_df\n",
    "        inf_trajs_by_group.append(get_cum_inf_trajectory(df))\n",
    "    return inf_trajs_by_group\n",
    "\n",
    "\n",
    "def get_centre_point():\n",
    "    centre = {}\n",
    "    for param in UNCERTAINTY_PARAM_RANGES:\n",
    "        lb, ub = UNCERTAINTY_PARAM_RANGES[param]\n",
    "        centre[param] = (lb + ub) / 2\n",
    "    return centre\n",
    "\n",
    "\n",
    "def run_multiple_trajs(sim, T, n):\n",
    "    infs_by_group_list = []\n",
    "    for _ in range(n):\n",
    "        infs_by_group = run_multigroup_sim(sim,T)\n",
    "        infs_by_group_list.append(infs_by_group)\n",
    "    return infs_by_group_list"
   ]
  },
  {
   "cell_type": "code",
   "execution_count": 8,
   "metadata": {},
   "outputs": [
    {
     "name": "stderr",
     "output_type": "stream",
     "text": [
      "/home/aaj54/group-testing/src/simulations_v2/load_params.py:136: YAMLLoadWarning: calling yaml.load() without Loader=... is deprecated, as the default Loader is unsafe. Please read https://msg.pyyaml.org/load for full details.\n",
      "  params = yaml.load(f)\n",
      "/home/aaj54/group-testing/src/simulations_v2/load_params.py:45: YAMLLoadWarning: calling yaml.load() without Loader=... is deprecated, as the default Loader is unsafe. Please read https://msg.pyyaml.org/load for full details.\n",
      "  age_sev_params = yaml.load(f)\n"
     ]
    },
    {
     "name": "stdout",
     "output_type": "stream",
     "text": [
      "Running Pessimistic (95%-ile)\n",
      "Running Pessimistic (90%-ile)\n",
      "Running Optimistic (10%-ile)\n",
      "Running Optimistic (5%-ile)\n"
     ]
    }
   ],
   "source": [
    "# point is either center or pessimistic\n",
    "center_dict = get_centre_point()\n",
    "center_point = [center_dict['vax_susc_mult'], center_dict['vax_transmission_mult'], center_dict['contacts_per_day_mult'],\n",
    "                center_dict['outside_infection_rate_mult'], center_dict['cases_isolated_per_contact_trace']]\n",
    "center_vax_sim = map_lhs_point_to_vax_sim(center_point, param_modifiers)\n",
    "center_inf_trajs_by_group = run_multiple_trajs(center_vax_sim, T=112, n=50)\n",
    "# run multiple trajectories (and get trajectories back)\n",
    "\n",
    "print('Running Pessimistic (95%-ile)')\n",
    "pess_95_point = [pess_95_scenario_student['vax_susc_mult'], pess_95_scenario_student['vax_transmission_mult'],\n",
    "              pess_95_scenario_student['contacts_per_day_mult'], pess_95_scenario_student['outside_infection_rate_mult'],\n",
    "              pess_95_scenario_student['cases_isolated_per_contact_trace']]\n",
    "pess_95_vax_sim = map_lhs_point_to_vax_sim(pess_95_point, param_modifiers)\n",
    "pess_95_inf_trajs_by_group = run_multiple_trajs(pess_95_vax_sim, T=112, n=50)\n",
    "\n",
    "print('Running Pessimistic (90%-ile)')\n",
    "pess_90_point = [pess_90_scenario_student['vax_susc_mult'], pess_90_scenario_student['vax_transmission_mult'],\n",
    "              pess_90_scenario_student['contacts_per_day_mult'], pess_90_scenario_student['outside_infection_rate_mult'],\n",
    "              pess_90_scenario_student['cases_isolated_per_contact_trace']]\n",
    "pess_90_vax_sim = map_lhs_point_to_vax_sim(pess_90_point, param_modifiers)\n",
    "pess_90_inf_trajs_by_group = run_multiple_trajs(pess_90_vax_sim, T=112, n=50)\n",
    "\n",
    "print('Running Optimistic (10%-ile)')\n",
    "opt_10_point = [opt_10_scenario_student['vax_susc_mult'], opt_10_scenario_student['vax_transmission_mult'],\n",
    "              opt_10_scenario_student['contacts_per_day_mult'], opt_10_scenario_student['outside_infection_rate_mult'],\n",
    "              opt_10_scenario_student['cases_isolated_per_contact_trace']]\n",
    "opt_10_vax_sim = map_lhs_point_to_vax_sim(opt_10_point, param_modifiers)\n",
    "opt_10_inf_trajs_by_group = run_multiple_trajs(opt_10_vax_sim, T=112, n=50)\n",
    "\n",
    "print('Running Optimistic (5%-ile)')\n",
    "opt_5_point = [opt_5_scenario_student['vax_susc_mult'], opt_5_scenario_student['vax_transmission_mult'],\n",
    "              opt_5_scenario_student['contacts_per_day_mult'], opt_5_scenario_student['outside_infection_rate_mult'],\n",
    "              opt_5_scenario_student['cases_isolated_per_contact_trace']]\n",
    "opt_5_vax_sim = map_lhs_point_to_vax_sim(opt_5_point, param_modifiers)\n",
    "opt_5_inf_trajs_by_group = run_multiple_trajs(opt_5_vax_sim, T=112, n=50)"
   ]
  },
  {
   "cell_type": "code",
   "execution_count": 139,
   "metadata": {},
   "outputs": [],
   "source": [
    "hd_notify_date_traj = [2,2,11,23,42,57,55,39,31,48,42,25,29,4,9,8,13,14,8,8,1,7,8,5,3,6,3,0,3,4,9,3,8,1,0,0,2,1,0,0,0,0,1,1,3,2,1,0,0,0,0,2,7,3,2,0,2,2,1,1,3,0,0,3,2,0,3]\n",
    "# hd_notify_date_since_aug_28 = [57,55,39,31,48]\n",
    "\n",
    "start_date = dt.date(2021, 8, 23)\n",
    "plotting_dates = list()\n",
    "plotting_dates.append(start_date)\n",
    "for _ in range(112):\n",
    "    plotting_dates.append(plotting_dates[-1] + dt.timedelta(days=1))"
   ]
  },
  {
   "cell_type": "code",
   "execution_count": 52,
   "metadata": {},
   "outputs": [],
   "source": [
    "center_inf_trajs = list()\n",
    "for idx in range(50):\n",
    "    center_inf_trajs.append(np.array(center_inf_trajs_by_group[idx][:-2]).sum(axis=0))\n",
    "\n",
    "pess_95_inf_trajs = list()\n",
    "for idx in range(50):\n",
    "    pess_95_inf_trajs.append(np.array(pess_95_inf_trajs_by_group[idx][:-2]).sum(axis=0))\n",
    "    \n",
    "pess_90_inf_trajs = list()\n",
    "for idx in range(50):\n",
    "    pess_90_inf_trajs.append(np.array(pess_90_inf_trajs_by_group[idx][:-2]).sum(axis=0))\n",
    "\n",
    "opt_10_inf_trajs = list()\n",
    "for idx in range(50):\n",
    "    opt_10_inf_trajs.append(np.array(opt_10_inf_trajs_by_group[idx][:-2]).sum(axis=0))\n",
    "    \n",
    "opt_5_inf_trajs = list()\n",
    "for idx in range(50):\n",
    "    opt_5_inf_trajs.append(np.array(opt_5_inf_trajs_by_group[idx][:-2]).sum(axis=0))"
   ]
  },
  {
   "cell_type": "code",
   "execution_count": 140,
   "metadata": {},
   "outputs": [
    {
     "data": {
      "image/png": "[encoded data removed]",
      "text/plain": [
       "<Figure size 720x432 with 1 Axes>"
      ]
     },
     "metadata": {
      "needs_background": "light"
     },
     "output_type": "display_data"
    }
   ],
   "source": [
    "fig = plt.figure(figsize=(10,6))\n",
    "\n",
    "plt.plot(plotting_dates, np.median(np.array(center_inf_trajs), axis=0), color='blue', label='Nominal (50%-ile)')\n",
    "plt.fill_between(x=plotting_dates, y1=np.quantile(np.array(center_inf_trajs), 0.1, axis=0), y2=np.quantile(np.array(center_inf_trajs), 0.9, axis=0), alpha=0.1, color='blue')\n",
    "\n",
    "plt.plot(plotting_dates, np.median(np.array(pess_95_inf_trajs), axis=0), color='darkred', label='Pessimistic (95%-ile)')\n",
    "plt.fill_between(x=plotting_dates, y1=np.quantile(np.array(pess_95_inf_trajs), 0.1, axis=0), y2=np.quantile(np.array(pess_95_inf_trajs), 0.9, axis=0), alpha=0.1, color='darkred')\n",
    "\n",
    "plt.plot(plotting_dates, np.median(np.array(pess_90_inf_trajs), axis=0), color='red', label='Pessimistic (90%-ile)')\n",
    "plt.fill_between(x=plotting_dates, y1=np.quantile(np.array(pess_90_inf_trajs), 0.1, axis=0), y2=np.quantile(np.array(pess_90_inf_trajs), 0.9, axis=0), alpha=0.1, color='red')\n",
    "\n",
    "plt.plot(plotting_dates, np.median(np.array(opt_10_inf_trajs), axis=0), color='mediumseagreen', label='Optimistic (10%-ile)')\n",
    "plt.fill_between(x=plotting_dates, y1=np.quantile(np.array(opt_10_inf_trajs), 0.1, axis=0), y2=np.quantile(np.array(opt_10_inf_trajs), 0.9, axis=0), alpha=0.1, color='mediumseagreen')\n",
    "\n",
    "plt.plot(plotting_dates, np.median(np.array(opt_5_inf_trajs), axis=0), color='darkgreen', label='Optimistic (5%-ile)')\n",
    "plt.fill_between(x=plotting_dates, y1=np.quantile(np.array(opt_5_inf_trajs), 0.1, axis=0), y2=np.quantile(np.array(opt_5_inf_trajs), 0.9, axis=0), alpha=0.1, color='darkgreen')\n",
    "\n",
    "plt.plot(plotting_dates[:len(hd_notify_date_traj)], np.cumsum(hd_notify_date_traj), marker='o', color='purple', label='Fall 2021')\n",
    "\n",
    "ax = plt.gca()\n",
    "formatter = mdates.DateFormatter(\"%b-%d\")\n",
    "ax.xaxis.set_major_formatter(formatter)\n",
    "\n",
    "# plt.xlim([dt.date(2021,8,23), dt.date(2021,11,15)])\n",
    "# plt.ylim([0, 2000])\n",
    "\n",
    "fig.autofmt_xdate()\n",
    "plt.title('Fall 2021', fontsize=18)\n",
    "plt.xlabel('Date', fontsize=14)\n",
    "plt.ylabel('Student Infections', fontsize=14)\n",
    "plt.legend(loc='upper left')\n",
    "plt.show()"
   ]
  },
  {
   "cell_type": "code",
   "execution_count": 85,
   "metadata": {},
   "outputs": [],
   "source": [
    "nominal_df = pd.DataFrame({'date': plotting_dates, 'inf_median': np.median(np.array(center_inf_trajs), axis=0), 'inf_10_%ile': np.quantile(np.array(center_inf_trajs), 0.1, axis=0), 'inf_90_%ile': np.quantile(np.array(center_inf_trajs), 0.9, axis=0)})\n",
    "pess_95_df = pd.DataFrame({'date': plotting_dates, 'inf_median': np.median(np.array(pess_95_inf_trajs), axis=0), 'inf_10_%ile': np.quantile(np.array(pess_95_inf_trajs), 0.1, axis=0), 'inf_90_%ile': np.quantile(np.array(pess_95_inf_trajs), 0.9, axis=0)})\n",
    "pess_90_df = pd.DataFrame({'date': plotting_dates, 'inf_median': np.median(np.array(pess_90_inf_trajs), axis=0), 'inf_10_%ile': np.quantile(np.array(pess_90_inf_trajs), 0.1, axis=0), 'inf_90_%ile': np.quantile(np.array(pess_90_inf_trajs), 0.9, axis=0)})\n",
    "opt_10_df = pd.DataFrame({'date': plotting_dates, 'inf_median': np.median(np.array(opt_10_inf_trajs), axis=0), 'inf_10_%ile': np.quantile(np.array(opt_10_inf_trajs), 0.1, axis=0), 'inf_90_%ile': np.quantile(np.array(opt_10_inf_trajs), 0.9, axis=0)})\n",
    "opt_5_df = pd.DataFrame({'date': plotting_dates, 'inf_median': np.median(np.array(opt_5_inf_trajs), axis=0), 'inf_10_%ile': np.quantile(np.array(opt_5_inf_trajs), 0.1, axis=0), 'inf_90_%ile': np.quantile(np.array(opt_5_inf_trajs), 0.9, axis=0)})\n",
    "\n",
    "nominal_df.to_csv('nominal_fall_21_scenarios.csv')\n",
    "pess_95_df.to_csv('pess_95_fall_21_scenarios.csv')\n",
    "pess_90_df.to_csv('pess_90_fall_21_scenarios.csv')\n",
    "opt_10_df.to_csv('opt_10_fall_21_scenarios.csv')\n",
    "opt_5_df.to_csv('opt_5_fall_21_scenarios.csv')\n",
    "\n",
    "# plt.plot(plotting_dates, np.median(np.array(center_inf_trajs), axis=0), color='blue', label='Nominal (50%-ile)')\n",
    "# plt.fill_between(x=plotting_dates, y1=np.quantile(np.array(center_inf_trajs), 0.1, axis=0), y2=np.quantile(np.array(center_inf_trajs), 0.9, axis=0), alpha=0.1, color='blue')"
   ]
  }
 ],
 "metadata": {
  "kernelspec": {
   "display_name": "Python 3",
   "language": "python",
   "name": "python3"
  },
  "language_info": {
   "codemirror_mode": {
    "name": "ipython",
    "version": 3
   },
   "file_extension": ".py",
   "mimetype": "text/x-python",
   "name": "python",
   "nbconvert_exporter": "python",
   "pygments_lexer": "ipython3",
   "version": "3.7.6"
  }
 },
 "nbformat": 4,
 "nbformat_minor": 4
}
