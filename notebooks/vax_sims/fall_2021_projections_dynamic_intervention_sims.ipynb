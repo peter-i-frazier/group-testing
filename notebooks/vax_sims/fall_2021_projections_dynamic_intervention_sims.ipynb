{
 "cells": [
  {
   "cell_type": "code",
   "execution_count": 1,
   "metadata": {},
   "outputs": [],
   "source": [
    "import sys\n",
    "import os\n",
    "import numpy as np\n",
    "import multiprocessing\n",
    "import dill\n",
    "import matplotlib.pyplot as plt\n",
    "import matplotlib.dates as mdates\n",
    "import pandas as pd\n",
    "import numpy as np\n",
    "from statsmodels.api import OLS, add_constant\n",
    "import time\n",
    "from scipy.stats import norm\n",
    "import datetime as dt\n",
    "\n",
    "from vax_sims_LHS_samples import *\n",
    "from plot_utils import *"
   ]
  },
  {
   "cell_type": "code",
   "execution_count": 2,
   "metadata": {},
   "outputs": [],
   "source": [
    "def load_sim_output(folder, npoints, lb=0):\n",
    "    scenario_data = pd.DataFrame(columns=UNCERTAINTY_PARAMS+['student_inf_10','student_inf_50','student_inf_90']+\\\n",
    "                                ['staff_inf_10', 'staff_inf_50', 'staff_inf_90'])\n",
    "    for idx in range(lb, npoints):\n",
    "        inf_file = folder + '/list_of_infs_by_group_{}.dill'.format(idx)\n",
    "        point_file = folder + '/lhs_point_{}.dill'.format(idx)\n",
    "        with open(inf_file, 'rb') as fhandle:\n",
    "            inf_matrix = np.array(dill.load(fhandle))\n",
    "            student_infxns = np.sum(inf_matrix[:,:-2], axis=1)\n",
    "            staff_infxns = np.sum(inf_matrix[:,-2:], axis=1)\n",
    "        with open(point_file, 'rb') as fhandle:\n",
    "            uncertainty_point = dill.load(fhandle)\n",
    "\n",
    "        new_row = dict()\n",
    "        for index, col_name in enumerate(UNCERTAINTY_PARAMS):\n",
    "            if type(uncertainty_point) == dict:\n",
    "                new_row[col_name] = uncertainty_point[col_name]\n",
    "            else:\n",
    "                new_row[col_name] = uncertainty_point[index]\n",
    "        new_row['student_inf_10'] = np.quantile(student_infxns, 0.1)\n",
    "        new_row['student_inf_50'] = np.quantile(student_infxns, 0.5)\n",
    "        new_row['student_inf_90'] = np.quantile(student_infxns, 0.9)\n",
    "        new_row['staff_inf_10'] = np.quantile(staff_infxns, 0.1)\n",
    "        new_row['staff_inf_50'] = np.quantile(staff_infxns, 0.5)\n",
    "        new_row['staff_inf_90'] = np.quantile(staff_infxns, 0.9)\n",
    "        new_row['cornell_inf_10'] = np.quantile(student_infxns + staff_infxns, 0.1)\n",
    "        new_row['cornell_inf_50'] = np.quantile(student_infxns + staff_infxns, 0.5)\n",
    "        new_row['cornell_inf_90'] = np.quantile(student_infxns + staff_infxns, 0.9)\n",
    "        \n",
    "        scenario_data = scenario_data.append(new_row, ignore_index=True)\n",
    "\n",
    "    return scenario_data\n",
    "\n",
    "def residential_regression_student(scenario_data):\n",
    "    columns = scenario_data.columns[0:5]\n",
    "    target = 'student_inf_50'\n",
    "    X_res = scenario_data[columns]\n",
    "    Y_res_outcomes = np.array(scenario_data[[target]])\n",
    "\n",
    "    X = add_constant(X_res)\n",
    "    model = OLS(Y_res_outcomes,X)\n",
    "    results = model.fit()\n",
    "    return results\n",
    "\n",
    "def residential_regression_staff(scenario_data):\n",
    "    columns = scenario_data.columns[0:5]\n",
    "    target = 'staff_inf_50'\n",
    "    X_res = scenario_data[columns]\n",
    "    Y_res_outcomes = np.array(scenario_data[[target]])\n",
    "\n",
    "    X = add_constant(X_res)\n",
    "    model = OLS(Y_res_outcomes,X)\n",
    "    results = model.fit()\n",
    "    return results\n"
   ]
  },
  {
   "cell_type": "code",
   "execution_count": 3,
   "metadata": {},
   "outputs": [],
   "source": [
    "def calculate_pessimistic_scenario(results, q=0.99, beta=1.96):\n",
    "    # the keys in dict(results.params) specify whether this is for residential\n",
    "    # or virtual vs. residential\n",
    "    lr_results = dict(results.params)\n",
    "    sd_dict = dict()\n",
    "    pess_direction = dict()\n",
    "    params = set(lr_results.keys()) - set(['const'])\n",
    "    centre_infections = lr_results['const']\n",
    "\n",
    "    invquantile = norm.ppf(q)\n",
    "\n",
    "    for param in params:\n",
    "        sd_dict[param] = (UNCERTAINTY_PARAM_RANGES[param][1] - UNCERTAINTY_PARAM_RANGES[param][0])/(2*beta)\n",
    "        centre_infections += np.mean(UNCERTAINTY_PARAM_RANGES[param]) * lr_results[param]\n",
    "\n",
    "    sum_squares_Sigma_1 = 0\n",
    "\n",
    "    for param in params:\n",
    "        sum_squares_Sigma_1 += (lr_results[param]*sd_dict[param]) ** 2\n",
    "\n",
    "    for param in params:\n",
    "        pess_direction[param] = lr_results[param]*(sd_dict[param])**2 / np.sqrt(sum_squares_Sigma_1)\n",
    "\n",
    "    mp_pess_scenario = dict()\n",
    "    for param in params:\n",
    "        mp_pess_scenario[param] = np.mean(UNCERTAINTY_PARAM_RANGES[param]) + invquantile * pess_direction[param]\n",
    "\n",
    "    return mp_pess_scenario"
   ]
  },
  {
   "cell_type": "code",
   "execution_count": 4,
   "metadata": {},
   "outputs": [],
   "source": [
    "LHS_data = load_sim_output('/home/jmc678/covid_data/group-testing/notebooks/vax_sims/lhs_vax_sims_test_delay:1631153818.0076091', 200)"
   ]
  },
  {
   "cell_type": "code",
   "execution_count": 28,
   "metadata": {},
   "outputs": [],
   "source": [
    "lr_results = residential_regression_student(LHS_data)\n",
    "pess_95_scenario_student = calculate_pessimistic_scenario(lr_results, q=0.95)\n",
    "pess_90_scenario_student = calculate_pessimistic_scenario(lr_results, q=0.9)\n",
    "opt_10_scenario_student = calculate_pessimistic_scenario(lr_results, q=0.10)\n",
    "opt_5_scenario_student = calculate_pessimistic_scenario(lr_results, q=0.05)\n",
    "opt_30_scenario_student = calculate_pessimistic_scenario(lr_results, q=0.3)"
   ]
  },
  {
   "cell_type": "code",
   "execution_count": 6,
   "metadata": {},
   "outputs": [],
   "source": [
    "PARAMS_POST_MOVEIN = {'ug_ga_vax_test_frequency': 2/7, 'ug_ga_unvax_test_frequency': 2/7,\n",
    "            'ug_other_vax_test_frequency': 1/7, 'ug_other_unvax_test_frequency': 2/7,\n",
    "            'grad_vax_test_frequency': 1/7, 'grad_unvax_test_frequency': 2/7,\n",
    "            'employee_vax_test_frequency': 1/7, 'employee_unvax_test_frequency': 2/7,\n",
    "            'test_delay': 1, 'max_time_pre_ID': 2}\n",
    "\n",
    "PARAMS_PRE_MOVEIN = {'ug_ga_vax_test_frequency': 1/7, 'ug_ga_unvax_test_frequency': 2/7,\n",
    "            'ug_other_vax_test_frequency': 1/7, 'ug_other_unvax_test_frequency': 2/7,\n",
    "            'grad_vax_test_frequency': 1/7, 'grad_unvax_test_frequency': 2/7,\n",
    "            'employee_vax_test_frequency': 1/7, 'employee_unvax_test_frequency': 2/7,\n",
    "            'test_delay': 2, 'max_time_pre_ID': 2}"
   ]
  },
  {
   "cell_type": "code",
   "execution_count": 13,
   "metadata": {},
   "outputs": [],
   "source": [
    "def get_cum_infections(df):\n",
    "    return df[['cumulative_mild', 'cumulative_severe']].iloc[df.shape[0]-1].sum()\n",
    "\n",
    "\n",
    "def get_cum_inf_trajectory(df):\n",
    "    return np.sum(df[['cumulative_mild', 'cumulative_severe']], axis=1)\n",
    "\n",
    "\n",
    "def run_new_trajectory(sim, T, change_t, override_premovein_params=None):\n",
    "    sim.reset_initial_state()\n",
    "    if override_premovein_params != None:\n",
    "        update_vax_sim_params(sim, override_premovein_params)\n",
    "    else:\n",
    "        update_vax_sim_params(sim, PARAMS_PRE_MOVEIN)\n",
    "        \n",
    "    for t in range(T):\n",
    "        sim.step()\n",
    "        if t == change_t:\n",
    "            update_vax_sim_params(sim, PARAMS_POST_MOVEIN)\n",
    "\n",
    "    for single_group_sim in sim.sims:\n",
    "        single_group_sim.update_severity_levels()\n",
    "\n",
    "    sim_df = sim.sims[0].sim_df\n",
    "    for sim in sim.sims[1:]:\n",
    "        sim_df = sim_df.add(sim.sim_df)\n",
    "    return sim_df\n",
    "\n",
    "CHANGE_T = 4 # start of simulation is aug 23, code yellow reached aug 27\n",
    "def run_multigroup_sim(sim, T, override_premovein_params=None):\n",
    "    run_new_trajectory(sim, T, CHANGE_T, override_premovein_params)\n",
    "    inf_trajs_by_group = []\n",
    "    for group in sim.sims:\n",
    "        df = group.sim_df\n",
    "        inf_trajs_by_group.append(get_cum_inf_trajectory(df))\n",
    "    return inf_trajs_by_group\n",
    "\n",
    "\n",
    "def get_centre_point():\n",
    "    centre = {}\n",
    "    for param in UNCERTAINTY_PARAM_RANGES:\n",
    "        lb, ub = UNCERTAINTY_PARAM_RANGES[param]\n",
    "        centre[param] = (lb + ub) / 2\n",
    "    return centre\n",
    "\n",
    "\n",
    "def run_multiple_trajs(sim, T, n, override_premovein_params=None):\n",
    "    infs_by_group_list = []\n",
    "    for _ in range(n):\n",
    "        infs_by_group = run_multigroup_sim(sim,T, override_premovein_params)\n",
    "        infs_by_group_list.append(infs_by_group)\n",
    "    return infs_by_group_list"
   ]
  },
  {
   "cell_type": "code",
   "execution_count": 8,
   "metadata": {},
   "outputs": [
    {
     "name": "stdout",
     "output_type": "stream",
     "text": [
      "Running Pessimistic (95%-ile)\n",
      "Running Pessimistic (90%-ile)\n",
      "Running Optimistic (10%-ile)\n",
      "Running Optimistic (5%-ile)\n"
     ]
    }
   ],
   "source": [
    "param_modifiers= PARAMS_PRE_MOVEIN\n",
    "\n",
    "\n",
    "nsamples = 5\n",
    "\n",
    "# point is either center or pessimistic\n",
    "center_dict = get_centre_point()\n",
    "center_point = [center_dict['vax_susc_mult'], center_dict['vax_transmission_mult'], center_dict['contacts_per_day_mult'],\n",
    "                center_dict['outside_infection_rate_mult'], center_dict['cases_isolated_per_contact_trace']]\n",
    "center_vax_sim = map_lhs_point_to_vax_sim(center_point, param_modifiers)\n",
    "center_inf_trajs_by_group = run_multiple_trajs(center_vax_sim, T=112, n=nsamples)\n",
    "# run multiple trajectories (and get trajectories back)\n",
    "\n",
    "print('Running Pessimistic (95%-ile)')\n",
    "pess_95_point = [pess_95_scenario_student['vax_susc_mult'], pess_95_scenario_student['vax_transmission_mult'],\n",
    "              pess_95_scenario_student['contacts_per_day_mult'], pess_95_scenario_student['outside_infection_rate_mult'],\n",
    "              pess_95_scenario_student['cases_isolated_per_contact_trace']]\n",
    "pess_95_vax_sim = map_lhs_point_to_vax_sim(pess_95_point, param_modifiers)\n",
    "pess_95_inf_trajs_by_group = run_multiple_trajs(pess_95_vax_sim, T=112, n=nsamples)\n",
    "\n",
    "print('Running Pessimistic (90%-ile)')\n",
    "pess_90_point = [pess_90_scenario_student['vax_susc_mult'], pess_90_scenario_student['vax_transmission_mult'],\n",
    "              pess_90_scenario_student['contacts_per_day_mult'], pess_90_scenario_student['outside_infection_rate_mult'],\n",
    "              pess_90_scenario_student['cases_isolated_per_contact_trace']]\n",
    "pess_90_vax_sim = map_lhs_point_to_vax_sim(pess_90_point, param_modifiers)\n",
    "pess_90_inf_trajs_by_group = run_multiple_trajs(pess_90_vax_sim, T=112, n=nsamples)\n",
    "\n",
    "print('Running Optimistic (10%-ile)')\n",
    "opt_10_point = [opt_10_scenario_student['vax_susc_mult'], opt_10_scenario_student['vax_transmission_mult'],\n",
    "              opt_10_scenario_student['contacts_per_day_mult'], opt_10_scenario_student['outside_infection_rate_mult'],\n",
    "              opt_10_scenario_student['cases_isolated_per_contact_trace']]\n",
    "opt_10_vax_sim = map_lhs_point_to_vax_sim(opt_10_point, param_modifiers)\n",
    "opt_10_inf_trajs_by_group = run_multiple_trajs(opt_10_vax_sim, T=112, n=nsamples)\n",
    "\n",
    "print('Running Optimistic (5%-ile)')\n",
    "opt_5_point = [opt_5_scenario_student['vax_susc_mult'], opt_5_scenario_student['vax_transmission_mult'],\n",
    "              opt_5_scenario_student['contacts_per_day_mult'], opt_5_scenario_student['outside_infection_rate_mult'],\n",
    "              opt_5_scenario_student['cases_isolated_per_contact_trace']]\n",
    "opt_5_vax_sim = map_lhs_point_to_vax_sim(opt_5_point, param_modifiers)\n",
    "opt_5_inf_trajs_by_group = run_multiple_trajs(opt_5_vax_sim, T=112, n=nsamples)"
   ]
  },
  {
   "cell_type": "code",
   "execution_count": 29,
   "metadata": {},
   "outputs": [],
   "source": [
    "opt_30_point = [opt_30_scenario_student['vax_susc_mult'], opt_30_scenario_student['vax_transmission_mult'],\n",
    "              opt_30_scenario_student['contacts_per_day_mult'], opt_30_scenario_student['outside_infection_rate_mult'],\n",
    "              opt_30_scenario_student['cases_isolated_per_contact_trace']]\n",
    "opt_30_vax_sim = map_lhs_point_to_vax_sim(opt_30_point, param_modifiers)\n",
    "opt_30_inf_trajs_by_group = run_multiple_trajs(opt_30_vax_sim, T=112, n=nsamples)"
   ]
  },
  {
   "cell_type": "code",
   "execution_count": 14,
   "metadata": {},
   "outputs": [],
   "source": [
    "premovein_copy = PARAMS_PRE_MOVEIN.copy()\n",
    "premovein_copy['test_delay'] = 1\n",
    "center_point = [center_dict['vax_susc_mult'], center_dict['vax_transmission_mult'], center_dict['contacts_per_day_mult'],\n",
    "                center_dict['outside_infection_rate_mult'], center_dict['cases_isolated_per_contact_trace']]\n",
    "center_vax_sim = map_lhs_point_to_vax_sim(center_point, premovein_copy)\n",
    "center_inf_trajs_by_group_non_dynamic_delay = run_multiple_trajs(center_vax_sim, T=112, n=nsamples, override_premovein_params=premovein_copy)"
   ]
  },
  {
   "cell_type": "code",
   "execution_count": 25,
   "metadata": {},
   "outputs": [],
   "source": [
    "hd_notify_date_traj = [2,2,11,23,42,57,55,39,31,48,42,25,29,4,9,8,13,14,8,8,1,7,8,5,3,6,3,0,3,4,9,3,8,1,0,0]\n",
    "# hd_notify_date_since_aug_28 = [57,55,39,31,48]\n",
    "\n",
    "start_date = dt.date(2021, 8, 23)\n",
    "plotting_dates = list()\n",
    "plotting_dates.append(start_date)\n",
    "#for _ in range(112):\n",
    "for _ in range(40):\n",
    "    plotting_dates.append(plotting_dates[-1] + dt.timedelta(days=1))"
   ]
  },
  {
   "cell_type": "code",
   "execution_count": 26,
   "metadata": {},
   "outputs": [],
   "source": [
    "num_dates = len(plotting_dates)\n",
    "\n",
    "center_inf_trajs = list()\n",
    "for idx in range(nsamples):\n",
    "    center_inf_trajs.append(np.array(center_inf_trajs_by_group[idx][:-2]).sum(axis=0)[0:num_dates])\n",
    "    \n",
    "center_inf_trajs2 = list()\n",
    "for idx in range(nsamples):\n",
    "    center_inf_trajs2.append(np.array(center_inf_trajs_by_group_non_dynamic_delay[idx][:-2]).sum(axis=0)[0:num_dates])\n",
    "\n",
    "pess_95_inf_trajs = list()\n",
    "for idx in range(nsamples):\n",
    "    pess_95_inf_trajs.append(np.array(pess_95_inf_trajs_by_group[idx][:-2]).sum(axis=0)[0:num_dates])\n",
    "    \n",
    "pess_90_inf_trajs = list()\n",
    "for idx in range(nsamples):\n",
    "    pess_90_inf_trajs.append(np.array(pess_90_inf_trajs_by_group[idx][:-2]).sum(axis=0)[0:num_dates])\n",
    "\n",
    "opt_10_inf_trajs = list()\n",
    "for idx in range(nsamples):\n",
    "    opt_10_inf_trajs.append(np.array(opt_10_inf_trajs_by_group[idx][:-2]).sum(axis=0)[0:num_dates])\n",
    "    \n",
    "opt_5_inf_trajs = list()\n",
    "for idx in range(nsamples):\n",
    "    opt_5_inf_trajs.append(np.array(opt_5_inf_trajs_by_group[idx][:-2]).sum(axis=0)[0:num_dates])"
   ]
  },
  {
   "cell_type": "code",
   "execution_count": 30,
   "metadata": {},
   "outputs": [],
   "source": [
    "opt_30_inf_trajs = list()\n",
    "for idx in range(nsamples):\n",
    "    opt_30_inf_trajs.append(np.array(opt_30_inf_trajs_by_group[idx][:-2]).sum(axis=0)[0:num_dates])"
   ]
  },
  {
   "cell_type": "code",
   "execution_count": 31,
   "metadata": {},
   "outputs": [
    {
     "data": {
      "image/png": "[encoded data removed]",
      "text/plain": [
       "<matplotlib.figure.Figure at 0x7f57482eb908>"
      ]
     },
     "metadata": {},
     "output_type": "display_data"
    }
   ],
   "source": [
    "fig = plt.figure(figsize=(10,6))\n",
    "\n",
    "plt.plot(plotting_dates, np.median(np.array(center_inf_trajs), axis=0), color='blue', label='Nominal (50%-ile)')\n",
    "plt.fill_between(x=plotting_dates, y1=np.quantile(np.array(center_inf_trajs), 0.1, axis=0), y2=np.quantile(np.array(center_inf_trajs), 0.9, axis=0), alpha=0.1, color='blue')\n",
    "\n",
    "plt.plot(plotting_dates, np.median(np.array(center_inf_trajs2), axis=0), color='blue', label='Nominal (50%-ile), Non-dynamic test delay')\n",
    "plt.fill_between(x=plotting_dates, y1=np.quantile(np.array(center_inf_trajs2), 0.1, axis=0), \n",
    "                 y2=np.quantile(np.array(center_inf_trajs2), 0.9, axis=0), alpha=0.1, color='orange')\n",
    "\n",
    "\n",
    "plt.plot(plotting_dates, np.median(np.array(pess_95_inf_trajs), axis=0), color='darkred', label='Pessimistic (95%-ile)')\n",
    "plt.fill_between(x=plotting_dates, y1=np.quantile(np.array(pess_95_inf_trajs), 0.1, axis=0), y2=np.quantile(np.array(pess_95_inf_trajs), 0.9, axis=0), alpha=0.1, color='darkred')\n",
    "\n",
    "plt.plot(plotting_dates, np.median(np.array(pess_90_inf_trajs), axis=0), color='red', label='Pessimistic (90%-ile)')\n",
    "plt.fill_between(x=plotting_dates, y1=np.quantile(np.array(pess_90_inf_trajs), 0.1, axis=0), y2=np.quantile(np.array(pess_90_inf_trajs), 0.9, axis=0), alpha=0.1, color='red')\n",
    "\n",
    "plt.plot(plotting_dates, np.median(np.array(opt_10_inf_trajs), axis=0), color='mediumseagreen', label='Optimistic (10%-ile)')\n",
    "plt.fill_between(x=plotting_dates, y1=np.quantile(np.array(opt_10_inf_trajs), 0.1, axis=0), y2=np.quantile(np.array(opt_10_inf_trajs), 0.9, axis=0), alpha=0.1, color='mediumseagreen')\n",
    "\n",
    "plt.plot(plotting_dates, np.median(np.array(opt_5_inf_trajs), axis=0), color='darkgreen', label='Optimistic (5%-ile)')\n",
    "plt.fill_between(x=plotting_dates, y1=np.quantile(np.array(opt_5_inf_trajs), 0.1, axis=0), y2=np.quantile(np.array(opt_5_inf_trajs), 0.9, axis=0), alpha=0.1, color='darkgreen')\n",
    "\n",
    "plt.plot(plotting_dates, np.median(np.array(opt_30_inf_trajs), axis=0), color='darkgreen', label='Optimistic (5%-ile)')\n",
    "plt.fill_between(x=plotting_dates, y1=np.quantile(np.array(opt_30_inf_trajs), 0.1, axis=0), y2=np.quantile(np.array(opt_30_inf_trajs), 0.9, axis=0), alpha=0.1, color='darkgreen')\n",
    "\n",
    "\n",
    "plt.plot(plotting_dates[:len(hd_notify_date_traj)], np.cumsum(hd_notify_date_traj), marker='o', color='purple', label='Fall 2021')\n",
    "\n",
    "ax = plt.gca()\n",
    "formatter = mdates.DateFormatter(\"%b-%d\")\n",
    "ax.xaxis.set_major_formatter(formatter)\n",
    "\n",
    "# plt.xlim([dt.date(2021,8,23), dt.date(2021,10,5)])\n",
    "# plt.ylim([0, 2000])\n",
    "\n",
    "fig.autofmt_xdate()\n",
    "plt.title('Fall 2021', fontsize=18)\n",
    "plt.xlabel('Date', fontsize=14)\n",
    "plt.ylabel('Student Infections', fontsize=14)\n",
    "plt.legend(loc='upper left')\n",
    "plt.show()"
   ]
  },
  {
   "cell_type": "code",
   "execution_count": 32,
   "metadata": {},
   "outputs": [
    {
     "data": {
      "text/plain": [
       "5"
      ]
     },
     "execution_count": 32,
     "metadata": {},
     "output_type": "execute_result"
    }
   ],
   "source": [
    "len(opt_30_inf_trajs)"
   ]
  },
  {
   "cell_type": "code",
   "execution_count": 33,
   "metadata": {},
   "outputs": [],
   "source": [
    "mean_traj = np.mean(np.array(opt_30_inf_trajs), axis=0)"
   ]
  },
  {
   "cell_type": "code",
   "execution_count": 34,
   "metadata": {},
   "outputs": [
    {
     "data": {
      "text/plain": [
       "array([   2. ,   13.6,   28.8,   44. ,   57. ,   76.4,   94.6,  122.8,\n",
       "        160.2,  203.6,  257.4,  306.8,  362.8,  427.8,  495. ,  546.6,\n",
       "        610.8,  674.4,  731. ,  790. ,  855.4,  925.4,  989.2, 1054. ,\n",
       "       1116.2, 1174. , 1231.2, 1285.6, 1345.6, 1390. , 1432.4, 1467. ,\n",
       "       1499.4, 1524.8, 1548.6, 1563.6, 1584. , 1600.2, 1622.6, 1647.2,\n",
       "       1671.4])"
      ]
     },
     "execution_count": 34,
     "metadata": {},
     "output_type": "execute_result"
    }
   ],
   "source": [
    "mean_traj"
   ]
  },
  {
   "cell_type": "code",
   "execution_count": 36,
   "metadata": {},
   "outputs": [],
   "source": [
    "from scipy.stats import poisson"
   ]
  },
  {
   "cell_type": "code",
   "execution_count": 37,
   "metadata": {},
   "outputs": [
    {
     "data": {
      "text/plain": [
       "0.26397769225620155"
      ]
     },
     "execution_count": 37,
     "metadata": {},
     "output_type": "execute_result"
    }
   ],
   "source": [
    "poisson.pmf(2, 1.7)"
   ]
  },
  {
   "cell_type": "code",
   "execution_count": 41,
   "metadata": {},
   "outputs": [
    {
     "data": {
      "text/plain": [
       "6"
      ]
     },
     "execution_count": 41,
     "metadata": {},
     "output_type": "execute_result"
    }
   ],
   "source": [
    "np.product([1,2,3])"
   ]
  },
  {
   "cell_type": "code",
   "execution_count": 49,
   "metadata": {},
   "outputs": [
    {
     "name": "stdout",
     "output_type": "stream",
     "text": [
      "2 3.0\n",
      "2 9.2\n",
      "11 19.6\n",
      "23 14.400000000000002\n",
      "42 15.199999999999996\n",
      "57 15.199999999999996\n",
      "55 16.0\n",
      "39 21.80000000000001\n",
      "31 21.19999999999999\n",
      "48 24.200000000000017\n",
      "42 23.0\n",
      "25 14.799999999999983\n",
      "29 13.599999999999994\n",
      "4 8.400000000000006\n",
      "9 4.0\n",
      "8 4.200000000000017\n",
      "13 6.799999999999983\n",
      "14 3.5999999999999943\n",
      "8 2.8000000000000114\n",
      "8 3.5999999999999943\n",
      "1 4.400000000000006\n",
      "7 7.399999999999977\n",
      "8 7.2000000000000455\n",
      "5 6.7999999999999545\n",
      "3 6.0\n",
      "6 5.600000000000023\n",
      "3 8.399999999999977\n",
      "0 5.2000000000000455\n",
      "3 3.0\n",
      "4 4.399999999999977\n",
      "9 1.0\n",
      "3 1.0\n",
      "8 0.8000000000000114\n",
      "1 0.0\n",
      "0 0.39999999999997726\n",
      "0 1.0\n",
      "[0.22404180765538775, 0.004275987485745793, 0.012632497518036289, 0.00946242282264279, 7.735285604445693e-09, 1.4324015890229261e-16, 1.4935048060950378e-14, 0.0002646052570315299, 0.009870676159992807, 6.596329127764019e-06, 0.00011379359387205308, 0.004348493986923001, 0.00010463682868230399, 0.046647916878534944, 0.013231191691050305, 0.03601114876939736, 0.011888664513192834, 1.9247154116378883e-05, 0.005697957137585598, 0.019117863121189068, 0.05402029557350089, 0.14737110353462787, 0.13372702354142887, 0.13494625622131182, 0.08923507835998894, 0.1583968595988028, 0.022213293751683693, 0.005516564420760522, 0.22404180765538775, 0.19173603575554704, 1.013777119630298e-06, 0.06131324019524039, 1.8696649518977294e-06, 0.0, 0.6703200460356545, 0.36787944117144233]\n"
     ]
    },
    {
     "name": "stderr",
     "output_type": "stream",
     "text": [
      "/home/jmc678/anaconda3/lib/python3.6/site-packages/ipykernel_launcher.py:19: RuntimeWarning: divide by zero encountered in log\n"
     ]
    },
    {
     "data": {
      "text/plain": [
       "-inf"
      ]
     },
     "execution_count": 49,
     "metadata": {},
     "output_type": "execute_result"
    }
   ],
   "source": [
    "from scipy.stats import poisson\n",
    "\n",
    "def compute_log_likelihood(true_positives_by_day, simulated_cumulative_trajs):\n",
    "    simulated_mean_traj = np.mean(np.array(simulated_cumulative_trajs), axis=0)\n",
    "    \n",
    "    num_days = min(len(true_positives_by_day), len(simulated_mean_traj))\n",
    "    \n",
    "    simulated_positives_by_day = [simulated_mean_traj[0]]\n",
    "    day = 1\n",
    "    while day < num_days:\n",
    "        simulated_positives_by_day.append(simulated_mean_traj[day] - simulated_mean_traj[day - 1])\n",
    "        day += 1\n",
    "    \n",
    "    pmf_values = []\n",
    "    loglik = 0\n",
    "    for true_positives, simulated_positives in zip(true_positives_by_day, simulated_positives_by_day):\n",
    "        print(true_positives, simulated_positives)\n",
    "        pmf_values.append(poisson.pmf(true_positives, simulated_positives))\n",
    "        loglik += np.log(pmf_values[-1])\n",
    "    \n",
    "    print(pmf_values)\n",
    "    return loglik\n",
    "\n",
    "compute_log_likelihood(hd_notify_date_traj, opt_10_inf_trajs)"
   ]
  },
  {
   "cell_type": "code",
   "execution_count": null,
   "metadata": {},
   "outputs": [],
   "source": []
  }
 ],
 "metadata": {
  "kernelspec": {
   "display_name": "Python 3",
   "language": "python",
   "name": "python3"
  },
  "language_info": {
   "codemirror_mode": {
    "name": "ipython",
    "version": 3
   },
   "file_extension": ".py",
   "mimetype": "text/x-python",
   "name": "python",
   "nbconvert_exporter": "python",
   "pygments_lexer": "ipython3",
   "version": "3.6.3"
  }
 },
 "nbformat": 4,
 "nbformat_minor": 2
}
