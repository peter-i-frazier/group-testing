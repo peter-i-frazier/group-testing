{
 "cells": [
  {
   "cell_type": "code",
   "execution_count": 11,
   "metadata": {},
   "outputs": [],
   "source": [
    "import sys\n",
    "import os\n",
    "import numpy as np\n",
    "import multiprocessing\n",
    "import dill\n",
    "import matplotlib.pyplot as plt\n",
    "import pandas as pd\n",
    "import numpy as np\n",
    "from statsmodels.api import OLS, add_constant\n",
    "import time\n",
    "from scipy.stats import norm\n",
    "\n",
    "from vax_sims_LHS_samples import *\n",
    "from plot_utils import *\n",
    "# from util_functions import *\n",
    "# from uncertainty_analysis import *\n",
    "# from sim_helper_functions import *"
   ]
  },
  {
   "cell_type": "code",
   "execution_count": 12,
   "metadata": {},
   "outputs": [],
   "source": [
    "base_folders = [\n",
    "    'oct_6_posterior_sims_test_frequencies_1633556966/policy_1/',\n",
    "    'oct_6_posterior_sims_test_frequencies_1633556966/policy_2/',\n",
    "    'oct_6_posterior_sims_test_frequencies_1633557121/policy_3/',\n",
    "    'oct_6_posterior_sims_test_frequencies_1633557121/policy_4/',\n",
    "    'oct_6_posterior_sims_test_frequencies_1633557424/policy_5/',\n",
    "    'oct_6_posterior_sims_test_frequencies_1633557424/policy_6/',\n",
    "    'oct_6_posterior_sims_test_frequencies_1633557424/policy_7/'\n",
    "]\n",
    "\n",
    "vax_subfolder_names = ['vax_rates_0/', 'vax_rates_1/', 'vax_rates_2/', 'vax_rates_3/']"
   ]
  },
  {
   "cell_type": "code",
   "execution_count": 19,
   "metadata": {},
   "outputs": [],
   "source": [
    "def load_sim_output(folder, npoints, lb=0):\n",
    "    scenario_data = pd.DataFrame(columns=UNCERTAINTY_PARAMS+['student_inf_10','student_inf_50','student_inf_90']+\\\n",
    "                                ['staff_inf_10', 'staff_inf_50', 'staff_inf_90'])\n",
    "    for idx in range(lb, npoints):\n",
    "        inf_file = folder + '/list_of_infs_by_group_{}.dill'.format(idx)\n",
    "        point_file = folder + '/lhs_point_{}.dill'.format(idx)\n",
    "        if not os.path.isfile(inf_file):\n",
    "            continue\n",
    "        with open(inf_file, 'rb') as fhandle:\n",
    "            inf_matrix = np.array(dill.load(fhandle))\n",
    "            student_infxns = np.sum(inf_matrix[:,:-2], axis=1)\n",
    "            staff_infxns = np.sum(inf_matrix[:,-2:], axis=1)\n",
    "        with open(point_file, 'rb') as fhandle:\n",
    "            uncertainty_point = dill.load(fhandle)\n",
    "\n",
    "        new_row = dict()\n",
    "        for index, col_name in enumerate(UNCERTAINTY_PARAMS):\n",
    "            if type(uncertainty_point) == dict:\n",
    "                new_row[col_name] = uncertainty_point[col_name]\n",
    "            else:\n",
    "                new_row[col_name] = uncertainty_point[index]\n",
    "        new_row['student_inf_10'] = np.quantile(student_infxns, 0.1)\n",
    "        new_row['student_inf_50'] = np.quantile(student_infxns, 0.5)\n",
    "        new_row['student_inf_90'] = np.quantile(student_infxns, 0.9)\n",
    "        new_row['staff_inf_10'] = np.quantile(staff_infxns, 0.1)\n",
    "        new_row['staff_inf_50'] = np.quantile(staff_infxns, 0.5)\n",
    "        new_row['staff_inf_90'] = np.quantile(staff_infxns, 0.9)\n",
    "        new_row['cornell_inf_10'] = np.quantile(student_infxns + staff_infxns, 0.1)\n",
    "        new_row['cornell_inf_50'] = np.quantile(student_infxns + staff_infxns, 0.5)\n",
    "        new_row['cornell_inf_90'] = np.quantile(student_infxns + staff_infxns, 0.9)\n",
    "        \n",
    "        scenario_data = scenario_data.append(new_row, ignore_index=True)\n",
    "\n",
    "    return scenario_data"
   ]
  },
  {
   "cell_type": "code",
   "execution_count": 20,
   "metadata": {},
   "outputs": [
    {
     "data": {
      "text/plain": [
       "(1, 1)"
      ]
     },
     "execution_count": 20,
     "metadata": {},
     "output_type": "execute_result"
    }
   ],
   "source": [
    "base_folder_idx, vax_rate_idx"
   ]
  },
  {
   "cell_type": "code",
   "execution_count": 23,
   "metadata": {},
   "outputs": [
    {
     "name": "stdout",
     "output_type": "stream",
     "text": [
      "for policy 1 and vax rate 0, loaded 105 data points\n",
      "for policy 1 and vax rate 1, loaded 105 data points\n",
      "for policy 1 and vax rate 2, loaded 105 data points\n",
      "for policy 1 and vax rate 3, loaded 105 data points\n",
      "for policy 2 and vax rate 0, loaded 105 data points\n",
      "for policy 2 and vax rate 1, loaded 22 data points\n",
      "for policy 2 and vax rate 2, loaded 0 data points\n",
      "for policy 2 and vax rate 3, loaded 0 data points\n",
      "for policy 3 and vax rate 0, loaded 105 data points\n",
      "for policy 3 and vax rate 1, loaded 105 data points\n",
      "for policy 3 and vax rate 2, loaded 105 data points\n",
      "for policy 3 and vax rate 3, loaded 105 data points\n",
      "for policy 4 and vax rate 0, loaded 105 data points\n",
      "for policy 4 and vax rate 1, loaded 105 data points\n",
      "for policy 4 and vax rate 2, loaded 105 data points\n",
      "for policy 4 and vax rate 3, loaded 105 data points\n",
      "for policy 5 and vax rate 0, loaded 105 data points\n",
      "for policy 5 and vax rate 1, loaded 105 data points\n",
      "for policy 5 and vax rate 2, loaded 105 data points\n",
      "for policy 5 and vax rate 3, loaded 105 data points\n",
      "for policy 6 and vax rate 0, loaded 105 data points\n",
      "for policy 6 and vax rate 1, loaded 105 data points\n",
      "for policy 6 and vax rate 2, loaded 105 data points\n",
      "for policy 6 and vax rate 3, loaded 105 data points\n",
      "for policy 7 and vax rate 0, loaded 105 data points\n",
      "for policy 7 and vax rate 1, loaded 19 data points\n",
      "for policy 7 and vax rate 2, loaded 0 data points\n",
      "for policy 7 and vax rate 3, loaded 0 data points\n"
     ]
    }
   ],
   "source": [
    "sim_data = {}\n",
    "for base_folder_idx in range(len(base_folders)):\n",
    "    for vax_rate_idx in range(len(vax_subfolder_names)):\n",
    "        sim_data[base_folder_idx, vax_rate_idx] = \\\n",
    "        load_sim_output(base_folders[base_folder_idx] + vax_subfolder_names[vax_rate_idx], 106, lb=1)\n",
    "        print(\"for policy {} and vax rate {}, loaded {} data points\".format(\n",
    "        base_folder_idx+1, vax_rate_idx, sim_data[base_folder_idx, vax_rate_idx].shape[0]))\n",
    "\n"
   ]
  },
  {
   "cell_type": "code",
   "execution_count": 53,
   "metadata": {},
   "outputs": [],
   "source": [
    "import pandas as pd\n",
    "posterior_df = pd.read_csv(\"posterior_csvs/test_frequency_vax_sims_posterior.csv\")\n",
    "posterior_df['normalized_posterior'] = posterior_df['posterior'] / posterior_df['posterior'].sum()\n",
    "\n",
    "def posterior_weighted_stats(scenario_data):\n",
    "    weighted_median_infs = []\n",
    "    for idx in range(scenario_data.shape[0]):\n",
    "        median_infs = scenario_data['student_inf_50'].iloc[idx]\n",
    "        weight = posterior_df['normalized_posterior'].iloc[idx]\n",
    "        weighted_median_infs.append((median_infs, weight))\n",
    "\n",
    "    sorted_weighted_median_infs = sorted(weighted_median_infs, key=lambda x: x[0])\n",
    "    p10_idx = -1 # want cumulative_posterior(p10_idx) < 0.1 and cumulative_posterior(p10_idx+1) >= 0.1\n",
    "    p50_idx = -1 # same as above but with 0.5\n",
    "    p90_idx = -1 # cum_posterior(p90_dx - 1) < 0.9 and cum_posterior(p90_idx) >= 0.9\n",
    "\n",
    "    cum_weight = 0\n",
    "    for idx in range(len(sorted_weighted_median_infs)):\n",
    "        median_infs, weight = sorted_weighted_median_infs[idx]\n",
    "\n",
    "        prev_cum_weight = cum_weight\n",
    "        cum_weight += weight\n",
    "\n",
    "        if cum_weight >= 0.1 and prev_cum_weight < 0.1:\n",
    "            p10_idx = idx - 1\n",
    "\n",
    "        if cum_weight >= 0.5 and prev_cum_weight < 0.5:\n",
    "            p50_idx = idx - 1\n",
    "\n",
    "        if cum_weight >= 0.9 and prev_cum_weight < 0.9:\n",
    "            p90_idx = idx \n",
    "\n",
    "    p10_val = sorted_weighted_median_infs[p10_idx][0]\n",
    "    p50_val = sorted_weighted_median_infs[p50_idx][0]\n",
    "    p90_val = sorted_weighted_median_infs[p90_idx][0]\n",
    "\n",
    "    return p10_val, p50_val, p90_val\n",
    "        "
   ]
  },
  {
   "cell_type": "code",
   "execution_count": 54,
   "metadata": {},
   "outputs": [],
   "source": [
    "policy_labels = {1: '0x/week vax, 1x/week unvax',\n",
    "                2: '0x/week vax, 2x/week unvax',\n",
    "                3: '1x/week vax, 1x/week unvax',\n",
    "                4: '1x/week vax, 2x/week unvax',\n",
    "                5: '2x/week vax, 2x/week unvax', \n",
    "                6: '1x/week others, 2x/week greek, unvax',\n",
    "                7: '3x/week greek, 2x/week unvax, 1x/week vax',\n",
    "                8: 'No testing'}\n",
    "\n",
    "fully_simulated_policies = [1, 3, 4, 5, 6]\n",
    "median_inf_10 = {policy_idx: [] for policy_idx in fully_simulated_policies}\n",
    "median_inf_50 = {policy_idx: [] for policy_idx in fully_simulated_policies}\n",
    "median_inf_90 = {policy_idx: [] for policy_idx in fully_simulated_policies}\n",
    "\n",
    "for policy_idx in fully_simulated_policies:\n",
    "    base_folder_idx = policy_idx - 1\n",
    "    for vax_rate_idx in range(4):\n",
    "        scenario_data = sim_data[base_folder_idx, vax_rate_idx]\n",
    "        p10_val, p50_val, p90_val = posterior_weighted_stats(scenario_data)\n",
    "        median_inf_10[policy_idx].append(p10_val)\n",
    "        median_inf_50[policy_idx].append(p50_val)\n",
    "        median_inf_90[policy_idx].append(p90_val)"
   ]
  },
  {
   "cell_type": "code",
   "execution_count": 58,
   "metadata": {},
   "outputs": [],
   "source": [
    "purple_policy = 5\n",
    "black_policy = 6\n",
    "\n",
    "black_99_vax_scenario = sim_data[black_policy-1, 3]\n",
    "black_75_vax_scenario = sim_data[black_policy-1, 2]"
   ]
  },
  {
   "cell_type": "code",
   "execution_count": 67,
   "metadata": {},
   "outputs": [
    {
     "data": {
      "text/plain": [
       "[4141.0, 2691.0, 347.5, 624.0]"
      ]
     },
     "execution_count": 67,
     "metadata": {},
     "output_type": "execute_result"
    }
   ],
   "source": [
    "median_inf_50[black_policy]"
   ]
  },
  {
   "cell_type": "code",
   "execution_count": 68,
   "metadata": {},
   "outputs": [
    {
     "data": {
      "text/plain": [
       "[4192.0, 2563.5, 359.5, 617.0]"
      ]
     },
     "execution_count": 68,
     "metadata": {},
     "output_type": "execute_result"
    }
   ],
   "source": [
    "median_inf_50[purple_policy]"
   ]
  },
  {
   "cell_type": "code",
   "execution_count": 64,
   "metadata": {},
   "outputs": [
    {
     "data": {
      "text/plain": [
       "0       377.0\n",
       "1     -1159.0\n",
       "2       365.0\n",
       "3       369.0\n",
       "4       238.5\n",
       "        ...  \n",
       "100    -180.0\n",
       "101     245.0\n",
       "102     272.0\n",
       "103     189.5\n",
       "104     300.0\n",
       "Name: student_inf_50, Length: 105, dtype: float64"
      ]
     },
     "execution_count": 64,
     "metadata": {},
     "output_type": "execute_result"
    }
   ],
   "source": [
    "black_99_vax_scenario['student_inf_50'] - black_75_vax_scenario['student_inf_50']"
   ]
  },
  {
   "cell_type": "code",
   "execution_count": 65,
   "metadata": {},
   "outputs": [
    {
     "data": {
      "text/plain": [
       "vax_susc_mult                          0.494898\n",
       "vax_transmission_mult                  0.643708\n",
       "contacts_per_day_mult                  1.165605\n",
       "outside_infection_rate_mult            1.500197\n",
       "cases_isolated_per_contact_trace       1.175453\n",
       "student_inf_10                       298.800000\n",
       "student_inf_50                       730.000000\n",
       "student_inf_90                      1350.200000\n",
       "staff_inf_10                         416.600000\n",
       "staff_inf_50                         637.000000\n",
       "staff_inf_90                         956.100000\n",
       "cornell_inf_10                       945.700000\n",
       "cornell_inf_50                      1330.500000\n",
       "cornell_inf_90                      1878.600000\n",
       "Name: 0, dtype: float64"
      ]
     },
     "execution_count": 65,
     "metadata": {},
     "output_type": "execute_result"
    }
   ],
   "source": [
    "black_99_vax_scenario.iloc[0]"
   ]
  },
  {
   "cell_type": "code",
   "execution_count": 66,
   "metadata": {},
   "outputs": [
    {
     "data": {
      "text/plain": [
       "vax_susc_mult                          0.494898\n",
       "vax_transmission_mult                  0.643708\n",
       "contacts_per_day_mult                  1.165605\n",
       "outside_infection_rate_mult            1.500197\n",
       "cases_isolated_per_contact_trace       1.175453\n",
       "student_inf_10                       155.900000\n",
       "student_inf_50                       353.000000\n",
       "student_inf_90                       720.800000\n",
       "staff_inf_10                         410.800000\n",
       "staff_inf_50                         526.500000\n",
       "staff_inf_90                         625.900000\n",
       "cornell_inf_10                       666.500000\n",
       "cornell_inf_50                       894.000000\n",
       "cornell_inf_90                      1315.100000\n",
       "Name: 0, dtype: float64"
      ]
     },
     "execution_count": 66,
     "metadata": {},
     "output_type": "execute_result"
    }
   ],
   "source": [
    "black_75_vax_scenario.iloc[0]"
   ]
  },
  {
   "cell_type": "code",
   "execution_count": null,
   "metadata": {},
   "outputs": [],
   "source": []
  },
  {
   "cell_type": "code",
   "execution_count": 63,
   "metadata": {},
   "outputs": [
    {
     "name": "stdout",
     "output_type": "stream",
     "text": [
      "0 377.0\n",
      "2 365.0\n",
      "3 369.0\n",
      "4 238.5\n",
      "5 339.0\n",
      "6 451.5\n",
      "8 494.5\n",
      "9 238.0\n",
      "10 420.0\n",
      "11 222.5\n",
      "12 515.0\n",
      "14 318.0\n",
      "15 375.5\n",
      "16 70.5\n",
      "19 290.5\n",
      "20 250.0\n",
      "21 158.0\n",
      "23 362.5\n",
      "24 80.5\n",
      "25 52.0\n",
      "27 254.5\n",
      "28 350.0\n",
      "29 172.5\n",
      "30 215.0\n",
      "34 230.0\n",
      "36 327.5\n",
      "37 68.0\n",
      "39 297.0\n",
      "40 471.5\n",
      "41 116.0\n",
      "42 182.5\n",
      "44 410.5\n",
      "45 198.5\n",
      "46 517.0\n",
      "48 544.0\n",
      "50 302.5\n",
      "52 205.5\n",
      "53 381.0\n",
      "54 114.0\n",
      "56 429.5\n",
      "57 118.0\n",
      "60 7.0\n",
      "61 130.5\n",
      "63 278.0\n",
      "64 350.0\n",
      "67 280.0\n",
      "68 451.5\n",
      "69 289.0\n",
      "71 395.5\n",
      "72 319.5\n",
      "75 240.0\n",
      "76 333.0\n",
      "77 481.5\n",
      "84 133.0\n",
      "85 98.5\n",
      "88 205.5\n",
      "90 292.0\n",
      "91 68.0\n",
      "92 265.5\n",
      "93 271.5\n",
      "94 228.5\n",
      "96 417.0\n",
      "99 290.0\n",
      "101 245.0\n",
      "102 272.0\n",
      "103 189.5\n",
      "104 300.0\n",
      "67\n"
     ]
    }
   ],
   "source": [
    "num_where_75_worse_than_99 = 0\n",
    "num_where_99_worse_than_75 = 0\n",
    "for idx, difference in enumerate(black_99_vax_scenario['student_inf_50'] - black_75_vax_scenario['student_inf_50']):\n",
    "    if difference > 0:\n",
    "        print(idx, difference)\n",
    "        \n",
    "        if difference > 0:\n",
    "            num_where_99_worse_than_75 += 1\n",
    "        else:\n",
    "            num_where_75_worse_than_99 += 1\n",
    "\n",
    "print(num_where_99_worse_than_75)"
   ]
  },
  {
   "cell_type": "code",
   "execution_count": 56,
   "metadata": {},
   "outputs": [
    {
     "data": {
      "image/png": "[encoded data removed]",
      "text/plain": [
       "<matplotlib.figure.Figure at 0x7f94742d6400>"
      ]
     },
     "metadata": {},
     "output_type": "display_data"
    }
   ],
   "source": [
    "import matplotlib.pyplot as plt\n",
    "%matplotlib inline\n",
    "\n",
    "plt.figure(figsize=(10,6))\n",
    "\n",
    "vax_rates_x = [25, 50, 75, 99]\n",
    "colours = ['orange', 'green', 'blue', 'purple', 'black']\n",
    "\n",
    "for policy_idx, colour in zip(fully_simulated_policies, colours):\n",
    "    plt.plot(vax_rates_x, median_inf_50[policy_idx], color=colour, \n",
    "             marker='o', label=policy_labels[policy_idx])\n",
    "    plt.fill_between(vax_rates_x, \n",
    "                     y1=median_inf_10[policy_idx], \n",
    "                     y2=median_inf_90[policy_idx],\n",
    "                     color=colour, alpha=0.1)\n",
    "\n",
    "plt.xlabel(\"Percentage of Student Population Vaccinated\")\n",
    "plt.ylabel(\"Median Student Infections\")\n",
    "plt.legend()\n",
    "plt.show()"
   ]
  },
  {
   "cell_type": "code",
   "execution_count": 24,
   "metadata": {},
   "outputs": [],
   "source": [
    "scenario_data = sim_data[0,0]"
   ]
  },
  {
   "cell_type": "code",
   "execution_count": 25,
   "metadata": {},
   "outputs": [
    {
     "data": {
      "text/plain": [
       "(105, 14)"
      ]
     },
     "execution_count": 25,
     "metadata": {},
     "output_type": "execute_result"
    }
   ],
   "source": [
    "scenario_data.shape"
   ]
  },
  {
   "cell_type": "code",
   "execution_count": null,
   "metadata": {},
   "outputs": [],
   "source": [
    "for base_folder_idx, "
   ]
  },
  {
   "cell_type": "code",
   "execution_count": 32,
   "metadata": {},
   "outputs": [
    {
     "data": {
      "text/plain": [
       "6378.3"
      ]
     },
     "execution_count": 32,
     "metadata": {},
     "output_type": "execute_result"
    }
   ],
   "source": [
    "scenario_data['student_inf_10'].median()"
   ]
  },
  {
   "cell_type": "code",
   "execution_count": 57,
   "metadata": {},
   "outputs": [
    {
     "data": {
      "text/plain": [
       "80"
      ]
     },
     "execution_count": 57,
     "metadata": {},
     "output_type": "execute_result"
    }
   ],
   "source": [
    "import multiprocessing\n",
    "multiprocessing.cpu_count()"
   ]
  },
  {
   "cell_type": "code",
   "execution_count": null,
   "metadata": {},
   "outputs": [],
   "source": []
  }
 ],
 "metadata": {
  "kernelspec": {
   "display_name": "Python 3",
   "language": "python",
   "name": "python3"
  },
  "language_info": {
   "codemirror_mode": {
    "name": "ipython",
    "version": 3
   },
   "file_extension": ".py",
   "mimetype": "text/x-python",
   "name": "python",
   "nbconvert_exporter": "python",
   "pygments_lexer": "ipython3",
   "version": "3.6.3"
  }
 },
 "nbformat": 4,
 "nbformat_minor": 2
}
