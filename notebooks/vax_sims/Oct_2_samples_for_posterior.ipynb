{
 "cells": [
  {
   "cell_type": "code",
   "execution_count": 1,
   "metadata": {},
   "outputs": [],
   "source": [
    "import sys\n",
    "import os\n",
    "import numpy as np\n",
    "import multiprocessing\n",
    "import pickle\n",
    "import matplotlib.pyplot as plt\n",
    "import matplotlib.dates as mdates\n",
    "import pandas as pd\n",
    "import numpy as np\n",
    "from statsmodels.api import OLS, add_constant\n",
    "import time\n",
    "from scipy.stats import norm\n",
    "import datetime as dt\n",
    "\n",
    "from vax_sims_LHS_samples import *\n",
    "from plot_utils import *"
   ]
  },
  {
   "cell_type": "code",
   "execution_count": 2,
   "metadata": {},
   "outputs": [],
   "source": [
    "UNCERTAINTY_PARAMS = ['vax_susc_mult', 'vax_transmission_mult', 'contacts_per_day_mult', 'outside_infection_rate_mult',\n",
    "                      'cases_isolated_per_contact_trace', 'initial_ID_prevalence']\n",
    "\n",
    "UNCERTAINTY_PARAM_RANGES = {\n",
    "    'vax_susc_mult': (0.097608, 0.941192), # 0.5194 +/- 1.96 * 0.2152\n",
    "    'vax_transmission_mult': (0.25, 1),\n",
    "    'contacts_per_day_mult': (0.9,2.7),\n",
    "    'outside_infection_rate_mult': (1, 5),\n",
    "    'cases_isolated_per_contact_trace': (0.5,1.5),\n",
    "    'initial_ID_prevalence': (0.003, 0.0054)\n",
    "}\n",
    "\n",
    "def sample_from_prior():\n",
    "    return_point = list()\n",
    "    for param in UNCERTAINTY_PARAMS:\n",
    "        mean = np.mean(UNCERTAINTY_PARAM_RANGES[param])\n",
    "        sd = (UNCERTAINTY_PARAM_RANGES[param][1] - UNCERTAINTY_PARAM_RANGES[param][0])/(2*1.96)\n",
    "        return_point.append(np.random.normal(mean, sd))\n",
    "    return return_point"
   ]
  },
  {
   "cell_type": "code",
   "execution_count": 3,
   "metadata": {},
   "outputs": [],
   "source": [
    "def map_lhs_point_to_vax_sim(lhs_point, param_modifiers=None):\n",
    "    base_params, base_group_names, contact_matrix, vax_rates = load_calibrated_params()\n",
    "\n",
    "    vax_susc_mult = lhs_point[0]\n",
    "    vax_trans_mult = lhs_point[1]\n",
    "\n",
    "    contact_matrix = contact_matrix * lhs_point[2]\n",
    "\n",
    "    for params in base_params:\n",
    "        params['daily_outside_infection_p'] = params['daily_outside_infection_p'] * lhs_point[3]\n",
    "\n",
    "\n",
    "    base_params[0]['cases_isolated_per_contact'] *= lhs_point[4]\n",
    "    base_params[1]['cases_isolated_per_contact'] *= lhs_point[4]\n",
    "    base_params[2]['cases_isolated_per_contact'] *= lhs_point[4]\n",
    "    \n",
    "    base_params[0]['initial_ID_prevalence'] = lhs_point[5]\n",
    "    base_params[1]['initial_ID_prevalence'] = lhs_point[5]\n",
    "    base_params[2]['initial_ID_prevalence'] = lhs_point[5]\n",
    "    \n",
    "    vax_sim = generate_vax_unvax_multigroup_sim(base_params, base_group_names,\n",
    "                                    vax_rates, contact_matrix,\n",
    "                                    vax_trans_mult, vax_susc_mult)\n",
    "\n",
    "    update_vax_sim_params(vax_sim, param_modifiers)\n",
    "\n",
    "    return vax_sim"
   ]
  },
  {
   "cell_type": "code",
   "execution_count": null,
   "metadata": {},
   "outputs": [],
   "source": [
    "# def load_sim_output(folder, npoints, lb=0):\n",
    "#     scenario_data = pd.DataFrame(columns=UNCERTAINTY_PARAMS+['student_inf_10','student_inf_50','student_inf_90']+\\\n",
    "#                                 ['staff_inf_10', 'staff_inf_50', 'staff_inf_90'])\n",
    "#     for idx in range(lb, npoints):\n",
    "#         inf_file = folder + '/list_of_infs_by_group_{}.dill'.format(idx)\n",
    "#         point_file = folder + '/lhs_point_{}.dill'.format(idx)\n",
    "#         with open(inf_file, 'rb') as fhandle:\n",
    "#             inf_matrix = np.array(dill.load(fhandle))\n",
    "#             student_infxns = np.sum(inf_matrix[:,:-2], axis=1)\n",
    "#             staff_infxns = np.sum(inf_matrix[:,-2:], axis=1)\n",
    "#         with open(point_file, 'rb') as fhandle:\n",
    "#             uncertainty_point = dill.load(fhandle)\n",
    "\n",
    "#         new_row = dict()\n",
    "#         for index, col_name in enumerate(UNCERTAINTY_PARAMS):\n",
    "#             if type(uncertainty_point) == dict:\n",
    "#                 new_row[col_name] = uncertainty_point[col_name]\n",
    "#             else:\n",
    "#                 new_row[col_name] = uncertainty_point[index]\n",
    "#         new_row['student_inf_10'] = np.quantile(student_infxns, 0.1)\n",
    "#         new_row['student_inf_50'] = np.quantile(student_infxns, 0.5)\n",
    "#         new_row['student_inf_90'] = np.quantile(student_infxns, 0.9)\n",
    "#         new_row['staff_inf_10'] = np.quantile(staff_infxns, 0.1)\n",
    "#         new_row['staff_inf_50'] = np.quantile(staff_infxns, 0.5)\n",
    "#         new_row['staff_inf_90'] = np.quantile(staff_infxns, 0.9)\n",
    "#         new_row['cornell_inf_10'] = np.quantile(student_infxns + staff_infxns, 0.1)\n",
    "#         new_row['cornell_inf_50'] = np.quantile(student_infxns + staff_infxns, 0.5)\n",
    "#         new_row['cornell_inf_90'] = np.quantile(student_infxns + staff_infxns, 0.9)\n",
    "        \n",
    "#         scenario_data = scenario_data.append(new_row, ignore_index=True)\n",
    "\n",
    "#     return scenario_data\n",
    "\n",
    "# def residential_regression_student(scenario_data):\n",
    "#     columns = scenario_data.columns[0:5]\n",
    "#     target = 'student_inf_50'\n",
    "#     X_res = scenario_data[columns]\n",
    "#     Y_res_outcomes = np.array(scenario_data[[target]])\n",
    "\n",
    "#     X = add_constant(X_res)\n",
    "#     model = OLS(Y_res_outcomes,X)\n",
    "#     results = model.fit()\n",
    "#     return results\n",
    "\n",
    "# def residential_regression_staff(scenario_data):\n",
    "#     columns = scenario_data.columns[0:5]\n",
    "#     target = 'staff_inf_50'\n",
    "#     X_res = scenario_data[columns]\n",
    "#     Y_res_outcomes = np.array(scenario_data[[target]])\n",
    "\n",
    "#     X = add_constant(X_res)\n",
    "#     model = OLS(Y_res_outcomes,X)\n",
    "#     results = model.fit()\n",
    "#     return results\n"
   ]
  },
  {
   "cell_type": "code",
   "execution_count": null,
   "metadata": {},
   "outputs": [],
   "source": [
    "# def calculate_pessimistic_scenario(results, q=0.99, beta=1.96):\n",
    "#     # the keys in dict(results.params) specify whether this is for residential\n",
    "#     # or virtual vs. residential\n",
    "#     lr_results = dict(results.params)\n",
    "#     sd_dict = dict()\n",
    "#     pess_direction = dict()\n",
    "#     params = set(lr_results.keys()) - set(['const'])\n",
    "#     centre_infections = lr_results['const']\n",
    "\n",
    "#     invquantile = norm.ppf(q)\n",
    "\n",
    "#     for param in params:\n",
    "#         sd_dict[param] = (UNCERTAINTY_PARAM_RANGES[param][1] - UNCERTAINTY_PARAM_RANGES[param][0])/(2*beta)\n",
    "#         centre_infections += np.mean(UNCERTAINTY_PARAM_RANGES[param]) * lr_results[param]\n",
    "\n",
    "#     sum_squares_Sigma_1 = 0\n",
    "\n",
    "#     for param in params:\n",
    "#         sum_squares_Sigma_1 += (lr_results[param]*sd_dict[param]) ** 2\n",
    "\n",
    "#     for param in params:\n",
    "#         pess_direction[param] = lr_results[param]*(sd_dict[param])**2 / np.sqrt(sum_squares_Sigma_1)\n",
    "\n",
    "#     mp_pess_scenario = dict()\n",
    "#     for param in params:\n",
    "#         mp_pess_scenario[param] = np.mean(UNCERTAINTY_PARAM_RANGES[param]) + invquantile * pess_direction[param]\n",
    "\n",
    "#     return mp_pess_scenario"
   ]
  },
  {
   "cell_type": "code",
   "execution_count": null,
   "metadata": {},
   "outputs": [],
   "source": [
    "# LHS_data = load_sim_output('/home/aaj54/group-testing/notebooks/vax_sims/lhs_vax_sims_test_delay:1631153818.0076091', 200)"
   ]
  },
  {
   "cell_type": "code",
   "execution_count": 4,
   "metadata": {},
   "outputs": [],
   "source": [
    "PARAMS_POST_MOVEIN = {'ug_ga_vax_test_frequency': 2/7, 'ug_ga_unvax_test_frequency': 2/7,\n",
    "            'ug_other_vax_test_frequency': 1/7, 'ug_other_unvax_test_frequency': 2/7,\n",
    "            'grad_vax_test_frequency': 1/7, 'grad_unvax_test_frequency': 2/7,\n",
    "            'employee_vax_test_frequency': 1/7, 'employee_unvax_test_frequency': 2/7,\n",
    "            'test_delay': 1, 'max_time_pre_ID': 2}\n",
    "\n",
    "PARAMS_PRE_MOVEIN = {'ug_ga_vax_test_frequency': 1/7, 'ug_ga_unvax_test_frequency': 2/7,\n",
    "            'ug_other_vax_test_frequency': 1/7, 'ug_other_unvax_test_frequency': 2/7,\n",
    "            'grad_vax_test_frequency': 1/7, 'grad_unvax_test_frequency': 2/7,\n",
    "            'employee_vax_test_frequency': 1/7, 'employee_unvax_test_frequency': 2/7,\n",
    "            'test_delay': 2, 'max_time_pre_ID': 2}"
   ]
  },
  {
   "cell_type": "code",
   "execution_count": 5,
   "metadata": {},
   "outputs": [],
   "source": [
    "def get_cum_infections(df):\n",
    "    return df[['cumulative_mild', 'cumulative_severe']].iloc[df.shape[0]-1].sum()\n",
    "\n",
    "\n",
    "def get_cum_inf_trajectory(df):\n",
    "    return np.sum(df[['cumulative_mild', 'cumulative_severe']], axis=1)\n",
    "\n",
    "\n",
    "def run_new_trajectory(sim, T, change_t, override_premovein_params=None):\n",
    "    sim.reset_initial_state()\n",
    "    if override_premovein_params != None:\n",
    "        update_vax_sim_params(sim, override_premovein_params)\n",
    "    else:\n",
    "        update_vax_sim_params(sim, PARAMS_PRE_MOVEIN)\n",
    "        \n",
    "    for t in range(T):\n",
    "        sim.step()\n",
    "        if t == change_t:\n",
    "            update_vax_sim_params(sim, PARAMS_POST_MOVEIN)\n",
    "\n",
    "    for single_group_sim in sim.sims:\n",
    "        single_group_sim.update_severity_levels()\n",
    "\n",
    "    sim_df = sim.sims[0].sim_df\n",
    "    for sim in sim.sims[1:]:\n",
    "        sim_df = sim_df.add(sim.sim_df)\n",
    "    return sim_df\n",
    "\n",
    "CHANGE_T = 6 # start of simulation is aug 23, assume changes occur on Aug 29\n",
    "def run_multigroup_sim(sim, T, override_premovein_params=None):\n",
    "    run_new_trajectory(sim, T, CHANGE_T, override_premovein_params)\n",
    "    inf_trajs_by_group = []\n",
    "    for group in sim.sims:\n",
    "        df = group.sim_df\n",
    "        inf_trajs_by_group.append(get_cum_inf_trajectory(df))\n",
    "    return inf_trajs_by_group\n",
    "\n",
    "\n",
    "def get_centre_point():\n",
    "    centre = {}\n",
    "    for param in UNCERTAINTY_PARAM_RANGES:\n",
    "        lb, ub = UNCERTAINTY_PARAM_RANGES[param]\n",
    "        centre[param] = (lb + ub) / 2\n",
    "    return centre\n",
    "\n",
    "\n",
    "def run_multiple_trajs(sim, T, n, override_premovein_params=None):\n",
    "    infs_by_group_list = []\n",
    "    for _ in range(n):\n",
    "        infs_by_group = run_multigroup_sim(sim,T, override_premovein_params)\n",
    "        infs_by_group_list.append(infs_by_group)\n",
    "    return infs_by_group_list\n",
    "\n",
    "def get_timestamp():\n",
    "    return str(time.time()).split('.')[0]"
   ]
  },
  {
   "cell_type": "code",
   "execution_count": 12,
   "metadata": {},
   "outputs": [
    {
     "ename": "IndexError",
     "evalue": "list index out of range",
     "output_type": "error",
     "traceback": [
      "\u001b[0;31m---------------------------------------------------------------------------\u001b[0m",
      "\u001b[0;31mIndexError\u001b[0m                                Traceback (most recent call last)",
      "\u001b[0;32m<ipython-input-12-f8dfeef03cd3>\u001b[0m in \u001b[0;36m<module>\u001b[0;34m\u001b[0m\n\u001b[1;32m      8\u001b[0m center_point = [center_dict['vax_susc_mult'], center_dict['vax_transmission_mult'], center_dict['contacts_per_day_mult'],\n\u001b[1;32m      9\u001b[0m                 center_dict['outside_infection_rate_mult'], center_dict['cases_isolated_per_contact_trace']]\n\u001b[0;32m---> 10\u001b[0;31m \u001b[0mcenter_vax_sim\u001b[0m \u001b[0;34m=\u001b[0m \u001b[0mmap_lhs_point_to_vax_sim\u001b[0m\u001b[0;34m(\u001b[0m\u001b[0mcenter_point\u001b[0m\u001b[0;34m,\u001b[0m \u001b[0mparam_modifiers\u001b[0m\u001b[0;34m)\u001b[0m\u001b[0;34m\u001b[0m\u001b[0;34m\u001b[0m\u001b[0m\n\u001b[0m\u001b[1;32m     11\u001b[0m \u001b[0mcenter_inf_trajs_by_group\u001b[0m \u001b[0;34m=\u001b[0m \u001b[0mrun_multiple_trajs\u001b[0m\u001b[0;34m(\u001b[0m\u001b[0mcenter_vax_sim\u001b[0m\u001b[0;34m,\u001b[0m \u001b[0mT\u001b[0m\u001b[0;34m=\u001b[0m\u001b[0;36m112\u001b[0m\u001b[0;34m,\u001b[0m \u001b[0mn\u001b[0m\u001b[0;34m=\u001b[0m\u001b[0mnsamples\u001b[0m\u001b[0;34m)\u001b[0m\u001b[0;34m\u001b[0m\u001b[0;34m\u001b[0m\u001b[0m\n",
      "\u001b[0;32m<ipython-input-11-e17596dbb993>\u001b[0m in \u001b[0;36mmap_lhs_point_to_vax_sim\u001b[0;34m(lhs_point, param_modifiers)\u001b[0m\n\u001b[1;32m     15\u001b[0m     \u001b[0mbase_params\u001b[0m\u001b[0;34m[\u001b[0m\u001b[0;36m2\u001b[0m\u001b[0;34m]\u001b[0m\u001b[0;34m[\u001b[0m\u001b[0;34m'cases_isolated_per_contact'\u001b[0m\u001b[0;34m]\u001b[0m \u001b[0;34m*=\u001b[0m \u001b[0mlhs_point\u001b[0m\u001b[0;34m[\u001b[0m\u001b[0;36m4\u001b[0m\u001b[0;34m]\u001b[0m\u001b[0;34m\u001b[0m\u001b[0;34m\u001b[0m\u001b[0m\n\u001b[1;32m     16\u001b[0m \u001b[0;34m\u001b[0m\u001b[0m\n\u001b[0;32m---> 17\u001b[0;31m     \u001b[0mbase_params\u001b[0m\u001b[0;34m[\u001b[0m\u001b[0;36m0\u001b[0m\u001b[0;34m]\u001b[0m\u001b[0;34m[\u001b[0m\u001b[0;34m'initial_ID_prevalence'\u001b[0m\u001b[0;34m]\u001b[0m \u001b[0;34m=\u001b[0m \u001b[0mlhs_point\u001b[0m\u001b[0;34m[\u001b[0m\u001b[0;36m5\u001b[0m\u001b[0;34m]\u001b[0m\u001b[0;34m\u001b[0m\u001b[0;34m\u001b[0m\u001b[0m\n\u001b[0m\u001b[1;32m     18\u001b[0m     \u001b[0mbase_params\u001b[0m\u001b[0;34m[\u001b[0m\u001b[0;36m1\u001b[0m\u001b[0;34m]\u001b[0m\u001b[0;34m[\u001b[0m\u001b[0;34m'initial_ID_prevalence'\u001b[0m\u001b[0;34m]\u001b[0m \u001b[0;34m=\u001b[0m \u001b[0mlhs_point\u001b[0m\u001b[0;34m[\u001b[0m\u001b[0;36m5\u001b[0m\u001b[0;34m]\u001b[0m\u001b[0;34m\u001b[0m\u001b[0;34m\u001b[0m\u001b[0m\n\u001b[1;32m     19\u001b[0m     \u001b[0mbase_params\u001b[0m\u001b[0;34m[\u001b[0m\u001b[0;36m2\u001b[0m\u001b[0;34m]\u001b[0m\u001b[0;34m[\u001b[0m\u001b[0;34m'initial_ID_prevalence'\u001b[0m\u001b[0;34m]\u001b[0m \u001b[0;34m=\u001b[0m \u001b[0mlhs_point\u001b[0m\u001b[0;34m[\u001b[0m\u001b[0;36m5\u001b[0m\u001b[0;34m]\u001b[0m\u001b[0;34m\u001b[0m\u001b[0;34m\u001b[0m\u001b[0m\n",
      "\u001b[0;31mIndexError\u001b[0m: list index out of range"
     ]
    }
   ],
   "source": [
    "# param_modifiers= PARAMS_PRE_MOVEIN\n",
    "\n",
    "\n",
    "# nsamples = 5\n",
    "\n",
    "# # point is either center or pessimistic\n",
    "# center_dict = get_centre_point()\n",
    "# center_point = [center_dict['vax_susc_mult'], center_dict['vax_transmission_mult'], center_dict['contacts_per_day_mult'],\n",
    "#                 center_dict['outside_infection_rate_mult'], center_dict['cases_isolated_per_contact_trace']]\n",
    "# center_vax_sim = map_lhs_point_to_vax_sim(center_point, param_modifiers)\n",
    "# center_inf_trajs_by_group = run_multiple_trajs(center_vax_sim, T=112, n=nsamples)\n"
   ]
  },
  {
   "cell_type": "code",
   "execution_count": 6,
   "metadata": {},
   "outputs": [],
   "source": [
    "def sample_and_save(point_id, save_folder, nsamples=100, T=50):\n",
    "    prior_point = sample_from_prior()\n",
    "    prior_sim = map_lhs_point_to_vax_sim(prior_point, param_modifiers)\n",
    "    inf_trajs_by_group = run_multiple_trajs(prior_sim, T=T, n=nsamples, override_premovein_params=override_params)\n",
    "    pickle.dump([prior_point, inf_trajs_by_group], open(save_folder+'point_{}'.format(point_id), 'wb'))\n",
    "    return [prior_point, inf_trajs_by_group]\n",
    "\n",
    "    \n",
    "# for i in range(5):\n",
    "#     # sample from prior\n",
    "#     prior_point = sample_from_prior()\n",
    "#     prior_sim = map_lhs_point_to_vax_sim(prior_point, param_modifiers)\n",
    "#     inf_trajs_by_group = run_multiple_trajs(prior_sim, T=50, n=nsamples, override_premovein_params=override_params)\n",
    "#     pickle.dump([prior_point, inf_trajs_by_group], open(save_folder+'point_{}'.format(i), 'wb'))"
   ]
  },
  {
   "cell_type": "code",
   "execution_count": 7,
   "metadata": {},
   "outputs": [
    {
     "ename": "ValueError",
     "evalue": "lam < 0 or lam is NaN",
     "output_type": "error",
     "traceback": [
      "\u001b[0;31m---------------------------------------------------------------------------\u001b[0m",
      "\u001b[0;31m_RemoteTraceback\u001b[0m                          Traceback (most recent call last)",
      "\u001b[0;31m_RemoteTraceback\u001b[0m: \n\"\"\"\nTraceback (most recent call last):\n  File \"/home/aaj54/anaconda3/lib/python3.7/site-packages/joblib/externals/loky/process_executor.py\", line 418, in _process_worker\n    r = call_item()\n  File \"/home/aaj54/anaconda3/lib/python3.7/site-packages/joblib/externals/loky/process_executor.py\", line 272, in __call__\n    return self.fn(*self.args, **self.kwargs)\n  File \"/home/aaj54/anaconda3/lib/python3.7/site-packages/joblib/_parallel_backends.py\", line 608, in __call__\n    return self.func(*args, **kwargs)\n  File \"/home/aaj54/anaconda3/lib/python3.7/site-packages/joblib/parallel.py\", line 256, in __call__\n    for func, args, kwargs in self.items]\n  File \"/home/aaj54/anaconda3/lib/python3.7/site-packages/joblib/parallel.py\", line 256, in <listcomp>\n    for func, args, kwargs in self.items]\n  File \"<ipython-input-6-4620f4b1d73d>\", line 4, in sample_and_save\n  File \"<ipython-input-5-9444c05f6324>\", line 50, in run_multiple_trajs\n  File \"<ipython-input-5-9444c05f6324>\", line 31, in run_multigroup_sim\n  File \"<ipython-input-5-9444c05f6324>\", line 17, in run_new_trajectory\n  File \"/home/aaj54/group-testing/src/simulations_v2/multi_group_simulation.py\", line 204, in step\n    n_susceptible_infectious_contacts = np.random.poisson(poisson_param)\n  File \"mtrand.pyx\", line 3556, in numpy.random.mtrand.RandomState.poisson\n  File \"_common.pyx\", line 815, in numpy.random._common.disc\n  File \"_common.pyx\", line 377, in numpy.random._common.check_constraint\nValueError: lam < 0 or lam is NaN\n\"\"\"",
      "\nThe above exception was the direct cause of the following exception:\n",
      "\u001b[0;31mValueError\u001b[0m                                Traceback (most recent call last)",
      "\u001b[0;32m<ipython-input-7-374a642454e9>\u001b[0m in \u001b[0;36m<module>\u001b[0;34m\u001b[0m\n\u001b[1;32m     20\u001b[0m \u001b[0;34m\u001b[0m\u001b[0m\n\u001b[1;32m     21\u001b[0m \u001b[0mnum_cores\u001b[0m \u001b[0;34m=\u001b[0m \u001b[0mmultiprocessing\u001b[0m\u001b[0;34m.\u001b[0m\u001b[0mcpu_count\u001b[0m\u001b[0;34m(\u001b[0m\u001b[0;34m)\u001b[0m\u001b[0;34m\u001b[0m\u001b[0;34m\u001b[0m\u001b[0m\n\u001b[0;32m---> 22\u001b[0;31m \u001b[0mresults\u001b[0m \u001b[0;34m=\u001b[0m \u001b[0mParallel\u001b[0m\u001b[0;34m(\u001b[0m\u001b[0mn_jobs\u001b[0m\u001b[0;34m=\u001b[0m\u001b[0mnum_cores\u001b[0m\u001b[0;34m)\u001b[0m\u001b[0;34m(\u001b[0m\u001b[0mdelayed\u001b[0m\u001b[0;34m(\u001b[0m\u001b[0msample_and_save\u001b[0m\u001b[0;34m)\u001b[0m\u001b[0;34m(\u001b[0m\u001b[0mi\u001b[0m\u001b[0;34m,\u001b[0m \u001b[0msave_folder\u001b[0m\u001b[0;34m,\u001b[0m \u001b[0mnsamples\u001b[0m\u001b[0;34m=\u001b[0m\u001b[0mnsamples\u001b[0m\u001b[0;34m,\u001b[0m \u001b[0mT\u001b[0m\u001b[0;34m=\u001b[0m\u001b[0mT\u001b[0m\u001b[0;34m)\u001b[0m \u001b[0;32mfor\u001b[0m \u001b[0mi\u001b[0m \u001b[0;32min\u001b[0m \u001b[0mrange\u001b[0m\u001b[0;34m(\u001b[0m\u001b[0;36m1000\u001b[0m\u001b[0;34m)\u001b[0m\u001b[0;34m)\u001b[0m\u001b[0;34m\u001b[0m\u001b[0;34m\u001b[0m\u001b[0m\n\u001b[0m",
      "\u001b[0;32m~/anaconda3/lib/python3.7/site-packages/joblib/parallel.py\u001b[0m in \u001b[0;36m__call__\u001b[0;34m(self, iterable)\u001b[0m\n\u001b[1;32m   1015\u001b[0m \u001b[0;34m\u001b[0m\u001b[0m\n\u001b[1;32m   1016\u001b[0m             \u001b[0;32mwith\u001b[0m \u001b[0mself\u001b[0m\u001b[0;34m.\u001b[0m\u001b[0m_backend\u001b[0m\u001b[0;34m.\u001b[0m\u001b[0mretrieval_context\u001b[0m\u001b[0;34m(\u001b[0m\u001b[0;34m)\u001b[0m\u001b[0;34m:\u001b[0m\u001b[0;34m\u001b[0m\u001b[0;34m\u001b[0m\u001b[0m\n\u001b[0;32m-> 1017\u001b[0;31m                 \u001b[0mself\u001b[0m\u001b[0;34m.\u001b[0m\u001b[0mretrieve\u001b[0m\u001b[0;34m(\u001b[0m\u001b[0;34m)\u001b[0m\u001b[0;34m\u001b[0m\u001b[0;34m\u001b[0m\u001b[0m\n\u001b[0m\u001b[1;32m   1018\u001b[0m             \u001b[0;31m# Make sure that we get a last message telling us we are done\u001b[0m\u001b[0;34m\u001b[0m\u001b[0;34m\u001b[0m\u001b[0;34m\u001b[0m\u001b[0m\n\u001b[1;32m   1019\u001b[0m             \u001b[0melapsed_time\u001b[0m \u001b[0;34m=\u001b[0m \u001b[0mtime\u001b[0m\u001b[0;34m.\u001b[0m\u001b[0mtime\u001b[0m\u001b[0;34m(\u001b[0m\u001b[0;34m)\u001b[0m \u001b[0;34m-\u001b[0m \u001b[0mself\u001b[0m\u001b[0;34m.\u001b[0m\u001b[0m_start_time\u001b[0m\u001b[0;34m\u001b[0m\u001b[0;34m\u001b[0m\u001b[0m\n",
      "\u001b[0;32m~/anaconda3/lib/python3.7/site-packages/joblib/parallel.py\u001b[0m in \u001b[0;36mretrieve\u001b[0;34m(self)\u001b[0m\n\u001b[1;32m    907\u001b[0m             \u001b[0;32mtry\u001b[0m\u001b[0;34m:\u001b[0m\u001b[0;34m\u001b[0m\u001b[0;34m\u001b[0m\u001b[0m\n\u001b[1;32m    908\u001b[0m                 \u001b[0;32mif\u001b[0m \u001b[0mgetattr\u001b[0m\u001b[0;34m(\u001b[0m\u001b[0mself\u001b[0m\u001b[0;34m.\u001b[0m\u001b[0m_backend\u001b[0m\u001b[0;34m,\u001b[0m \u001b[0;34m'supports_timeout'\u001b[0m\u001b[0;34m,\u001b[0m \u001b[0;32mFalse\u001b[0m\u001b[0;34m)\u001b[0m\u001b[0;34m:\u001b[0m\u001b[0;34m\u001b[0m\u001b[0;34m\u001b[0m\u001b[0m\n\u001b[0;32m--> 909\u001b[0;31m                     \u001b[0mself\u001b[0m\u001b[0;34m.\u001b[0m\u001b[0m_output\u001b[0m\u001b[0;34m.\u001b[0m\u001b[0mextend\u001b[0m\u001b[0;34m(\u001b[0m\u001b[0mjob\u001b[0m\u001b[0;34m.\u001b[0m\u001b[0mget\u001b[0m\u001b[0;34m(\u001b[0m\u001b[0mtimeout\u001b[0m\u001b[0;34m=\u001b[0m\u001b[0mself\u001b[0m\u001b[0;34m.\u001b[0m\u001b[0mtimeout\u001b[0m\u001b[0;34m)\u001b[0m\u001b[0;34m)\u001b[0m\u001b[0;34m\u001b[0m\u001b[0;34m\u001b[0m\u001b[0m\n\u001b[0m\u001b[1;32m    910\u001b[0m                 \u001b[0;32melse\u001b[0m\u001b[0;34m:\u001b[0m\u001b[0;34m\u001b[0m\u001b[0;34m\u001b[0m\u001b[0m\n\u001b[1;32m    911\u001b[0m                     \u001b[0mself\u001b[0m\u001b[0;34m.\u001b[0m\u001b[0m_output\u001b[0m\u001b[0;34m.\u001b[0m\u001b[0mextend\u001b[0m\u001b[0;34m(\u001b[0m\u001b[0mjob\u001b[0m\u001b[0;34m.\u001b[0m\u001b[0mget\u001b[0m\u001b[0;34m(\u001b[0m\u001b[0;34m)\u001b[0m\u001b[0;34m)\u001b[0m\u001b[0;34m\u001b[0m\u001b[0;34m\u001b[0m\u001b[0m\n",
      "\u001b[0;32m~/anaconda3/lib/python3.7/site-packages/joblib/_parallel_backends.py\u001b[0m in \u001b[0;36mwrap_future_result\u001b[0;34m(future, timeout)\u001b[0m\n\u001b[1;32m    560\u001b[0m         AsyncResults.get from multiprocessing.\"\"\"\n\u001b[1;32m    561\u001b[0m         \u001b[0;32mtry\u001b[0m\u001b[0;34m:\u001b[0m\u001b[0;34m\u001b[0m\u001b[0;34m\u001b[0m\u001b[0m\n\u001b[0;32m--> 562\u001b[0;31m             \u001b[0;32mreturn\u001b[0m \u001b[0mfuture\u001b[0m\u001b[0;34m.\u001b[0m\u001b[0mresult\u001b[0m\u001b[0;34m(\u001b[0m\u001b[0mtimeout\u001b[0m\u001b[0;34m=\u001b[0m\u001b[0mtimeout\u001b[0m\u001b[0;34m)\u001b[0m\u001b[0;34m\u001b[0m\u001b[0;34m\u001b[0m\u001b[0m\n\u001b[0m\u001b[1;32m    563\u001b[0m         \u001b[0;32mexcept\u001b[0m \u001b[0mLokyTimeoutError\u001b[0m\u001b[0;34m:\u001b[0m\u001b[0;34m\u001b[0m\u001b[0;34m\u001b[0m\u001b[0m\n\u001b[1;32m    564\u001b[0m             \u001b[0;32mraise\u001b[0m \u001b[0mTimeoutError\u001b[0m\u001b[0;34m(\u001b[0m\u001b[0;34m)\u001b[0m\u001b[0;34m\u001b[0m\u001b[0;34m\u001b[0m\u001b[0m\n",
      "\u001b[0;32m~/anaconda3/lib/python3.7/concurrent/futures/_base.py\u001b[0m in \u001b[0;36mresult\u001b[0;34m(self, timeout)\u001b[0m\n\u001b[1;32m    426\u001b[0m                 \u001b[0;32mraise\u001b[0m \u001b[0mCancelledError\u001b[0m\u001b[0;34m(\u001b[0m\u001b[0;34m)\u001b[0m\u001b[0;34m\u001b[0m\u001b[0;34m\u001b[0m\u001b[0m\n\u001b[1;32m    427\u001b[0m             \u001b[0;32melif\u001b[0m \u001b[0mself\u001b[0m\u001b[0;34m.\u001b[0m\u001b[0m_state\u001b[0m \u001b[0;34m==\u001b[0m \u001b[0mFINISHED\u001b[0m\u001b[0;34m:\u001b[0m\u001b[0;34m\u001b[0m\u001b[0;34m\u001b[0m\u001b[0m\n\u001b[0;32m--> 428\u001b[0;31m                 \u001b[0;32mreturn\u001b[0m \u001b[0mself\u001b[0m\u001b[0;34m.\u001b[0m\u001b[0m__get_result\u001b[0m\u001b[0;34m(\u001b[0m\u001b[0;34m)\u001b[0m\u001b[0;34m\u001b[0m\u001b[0;34m\u001b[0m\u001b[0m\n\u001b[0m\u001b[1;32m    429\u001b[0m \u001b[0;34m\u001b[0m\u001b[0m\n\u001b[1;32m    430\u001b[0m             \u001b[0mself\u001b[0m\u001b[0;34m.\u001b[0m\u001b[0m_condition\u001b[0m\u001b[0;34m.\u001b[0m\u001b[0mwait\u001b[0m\u001b[0;34m(\u001b[0m\u001b[0mtimeout\u001b[0m\u001b[0;34m)\u001b[0m\u001b[0;34m\u001b[0m\u001b[0;34m\u001b[0m\u001b[0m\n",
      "\u001b[0;32m~/anaconda3/lib/python3.7/concurrent/futures/_base.py\u001b[0m in \u001b[0;36m__get_result\u001b[0;34m(self)\u001b[0m\n\u001b[1;32m    382\u001b[0m     \u001b[0;32mdef\u001b[0m \u001b[0m__get_result\u001b[0m\u001b[0;34m(\u001b[0m\u001b[0mself\u001b[0m\u001b[0;34m)\u001b[0m\u001b[0;34m:\u001b[0m\u001b[0;34m\u001b[0m\u001b[0;34m\u001b[0m\u001b[0m\n\u001b[1;32m    383\u001b[0m         \u001b[0;32mif\u001b[0m \u001b[0mself\u001b[0m\u001b[0;34m.\u001b[0m\u001b[0m_exception\u001b[0m\u001b[0;34m:\u001b[0m\u001b[0;34m\u001b[0m\u001b[0;34m\u001b[0m\u001b[0m\n\u001b[0;32m--> 384\u001b[0;31m             \u001b[0;32mraise\u001b[0m \u001b[0mself\u001b[0m\u001b[0;34m.\u001b[0m\u001b[0m_exception\u001b[0m\u001b[0;34m\u001b[0m\u001b[0;34m\u001b[0m\u001b[0m\n\u001b[0m\u001b[1;32m    385\u001b[0m         \u001b[0;32melse\u001b[0m\u001b[0;34m:\u001b[0m\u001b[0;34m\u001b[0m\u001b[0;34m\u001b[0m\u001b[0m\n\u001b[1;32m    386\u001b[0m             \u001b[0;32mreturn\u001b[0m \u001b[0mself\u001b[0m\u001b[0;34m.\u001b[0m\u001b[0m_result\u001b[0m\u001b[0;34m\u001b[0m\u001b[0;34m\u001b[0m\u001b[0m\n",
      "\u001b[0;31mValueError\u001b[0m: lam < 0 or lam is NaN"
     ]
    }
   ],
   "source": [
    "\n",
    "import multiprocessing as mp\n",
    "import gc\n",
    "from joblib import Parallel, delayed\n",
    "import multiprocessing\n",
    "\n",
    "\n",
    "param_modifiers = PARAMS_PRE_MOVEIN\n",
    "override_params = PARAMS_POST_MOVEIN\n",
    "nsamples = 100\n",
    "T = 50\n",
    "\n",
    "save_folder = 'samples_for_posterior:{}/'.format(get_timestamp())\n",
    "os.mkdir(save_folder)\n",
    "\n",
    "# inputs = np.arange(0.2,.8,.01)\n",
    "# def processInput(i):\n",
    "#     gc.collect()\n",
    "#     spring_calib = SpringCalibration(i)\n",
    "#     return spring_calib.run_and_score_trajectories(100)\n",
    "\n",
    "num_cores = multiprocessing.cpu_count()\n",
    "results = Parallel(n_jobs=num_cores)(delayed(sample_and_save)(i, save_folder, nsamples=nsamples, T=T) for i in range(1000))"
   ]
  },
  {
   "cell_type": "code",
   "execution_count": null,
   "metadata": {},
   "outputs": [],
   "source": []
  },
  {
   "cell_type": "code",
   "execution_count": null,
   "metadata": {},
   "outputs": [],
   "source": []
  },
  {
   "cell_type": "code",
   "execution_count": 17,
   "metadata": {},
   "outputs": [
    {
     "name": "stdout",
     "output_type": "stream",
     "text": [
      "[0.485951281822694, 0.531009453873859, 0.8977920248555161, 2.5890114749868807, 1.2607966744668109, 0.001472496499359138]\n",
      "[0.2574845964104294, 0.8643226554477552, 0.7798119753456287, 2.9627762910006195, 1.4420773570813532, 0.0038408993674479484]\n",
      "[0.8435744309192734, 0.7429582260272233, 1.4343537968582898, 1.4442732048378428, 0.7812572174117213, 0.004295421386675876]\n",
      "[0.6948566001322769, 0.7902078026537211, 0.5318534953515408, 1.8138732291999664, 1.0002946042236507, 0.0031307268087275323]\n",
      "[0.4795219404600336, 0.748161653429301, 2.236011393006872, 0.5418889713026527, 1.5115949369280584, 0.003723865068663194]\n"
     ]
    }
   ],
   "source": [
    "output_folder = 'samples_for_posterior:1633228635'\n",
    "for i in range(5):\n",
    "    [prior_point, inf_trajs_by_group] = pickle.load(open(save_folder+'point_{}'.format(i), 'rb'))\n",
    "    print(prior_point)"
   ]
  },
  {
   "cell_type": "code",
   "execution_count": null,
   "metadata": {},
   "outputs": [],
   "source": []
  },
  {
   "cell_type": "code",
   "execution_count": null,
   "metadata": {},
   "outputs": [],
   "source": []
  },
  {
   "cell_type": "code",
   "execution_count": null,
   "metadata": {},
   "outputs": [],
   "source": []
  },
  {
   "cell_type": "code",
   "execution_count": 8,
   "metadata": {},
   "outputs": [],
   "source": [
    "base_params, base_group_names, contact_matrix, vax_rates = load_calibrated_params()"
   ]
  },
  {
   "cell_type": "code",
   "execution_count": 28,
   "metadata": {},
   "outputs": [
    {
     "data": {
      "text/plain": [
       "6.45e-06"
      ]
     },
     "execution_count": 28,
     "metadata": {},
     "output_type": "execute_result"
    }
   ],
   "source": [
    "# base_params[0]\n",
    "base_params[2]['daily_outside_infection_p']"
   ]
  },
  {
   "cell_type": "code",
   "execution_count": null,
   "metadata": {},
   "outputs": [],
   "source": []
  }
 ],
 "metadata": {
  "kernelspec": {
   "display_name": "Python 3",
   "language": "python",
   "name": "python3"
  },
  "language_info": {
   "codemirror_mode": {
    "name": "ipython",
    "version": 3
   },
   "file_extension": ".py",
   "mimetype": "text/x-python",
   "name": "python",
   "nbconvert_exporter": "python",
   "pygments_lexer": "ipython3",
   "version": "3.7.6"
  }
 },
 "nbformat": 4,
 "nbformat_minor": 4
}
