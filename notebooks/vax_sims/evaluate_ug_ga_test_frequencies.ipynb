{
 "cells": [
  {
   "cell_type": "code",
   "execution_count": 1,
   "metadata": {},
   "outputs": [],
   "source": [
    "from vax_sims_LHS_samples import nominal_params_vax_sim, update_vax_sim_params, run_multiple_trajectories"
   ]
  },
  {
   "cell_type": "code",
   "execution_count": 2,
   "metadata": {},
   "outputs": [],
   "source": [
    "nominal_vax_sim = nominal_params_vax_sim()\n",
    "\n",
    "import copy\n",
    "current_test_policy = {\n",
    "    'ug_ga_vax_test_frequency':1/7, \n",
    "    'ug_ga_unvax_test_frequency': 2/7,\n",
    "    'ug_other_vax_test_frequency': 1/7, \n",
    "    'ug_other_unvax_test_frequency': 2/7,\n",
    "    'grad_vax_test_frequency': 1/7, \n",
    "    'grad_unvax_test_frequency': 2/7,\n",
    "    'employee_vax_test_frequency':1/7, \n",
    "    'employee_unvax_test_frequency':2/7\n",
    "}\n",
    "\n",
    "proposed_test_policy = current_test_policy.copy()\n",
    "proposed_test_policy['ug_ga_vax_test_frequency'] = 2/7\n",
    "\n",
    "update_vax_sim_params(nominal_vax_sim, current_test_policy)\n",
    "\n",
    "alternate_vax_sim = copy.deepcopy(nominal_vax_sim)\n",
    "update_vax_sim_params(alternate_vax_sim, proposed_test_policy)"
   ]
  },
  {
   "cell_type": "code",
   "execution_count": 3,
   "metadata": {},
   "outputs": [],
   "source": [
    "nominal_list_of_infs_by_group = run_multiple_trajectories(nominal_vax_sim, 112, 10)"
   ]
  },
  {
   "cell_type": "code",
   "execution_count": 4,
   "metadata": {},
   "outputs": [],
   "source": [
    "alternate_list_of_infs_by_group = run_multiple_trajectories(alternate_vax_sim, 112, 10)"
   ]
  },
  {
   "cell_type": "code",
   "execution_count": 7,
   "metadata": {},
   "outputs": [
    {
     "name": "stdout",
     "output_type": "stream",
     "text": [
      "742.5\n"
     ]
    }
   ],
   "source": [
    "nominal = 0\n",
    "import numpy as np\n",
    "for idx in range(10):\n",
    "    nominal += np.mean(nominal_list_of_infs_by_group[idx][0:6])\n",
    "print(nominal/10)"
   ]
  },
  {
   "cell_type": "code",
   "execution_count": 8,
   "metadata": {},
   "outputs": [
    {
     "name": "stdout",
     "output_type": "stream",
     "text": [
      "393.83333333333337\n"
     ]
    }
   ],
   "source": [
    "alternate = 0\n",
    "import numpy as np\n",
    "for idx in range(10):\n",
    "    alternate += np.mean(alternate_list_of_infs_by_group[idx][0:6])\n",
    "print(alternate/10)"
   ]
  },
  {
   "cell_type": "code",
   "execution_count": null,
   "metadata": {},
   "outputs": [],
   "source": []
  }
 ],
 "metadata": {
  "kernelspec": {
   "display_name": "Python 3",
   "language": "python",
   "name": "python3"
  },
  "language_info": {
   "codemirror_mode": {
    "name": "ipython",
    "version": 3
   },
   "file_extension": ".py",
   "mimetype": "text/x-python",
   "name": "python",
   "nbconvert_exporter": "python",
   "pygments_lexer": "ipython3",
   "version": "3.6.3"
  }
 },
 "nbformat": 4,
 "nbformat_minor": 2
}
