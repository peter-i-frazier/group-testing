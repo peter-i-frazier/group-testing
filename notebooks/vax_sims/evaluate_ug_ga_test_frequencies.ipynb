{
 "cells": [
  {
   "cell_type": "code",
   "execution_count": 8,
   "metadata": {},
   "outputs": [],
   "source": [
    "from vax_sims_LHS_samples import nominal_params_vax_sim, update_vax_sim_params, run_multiple_trajectories, run_multiple_trajs\n",
    "import numpy as np"
   ]
  },
  {
   "cell_type": "code",
   "execution_count": 34,
   "metadata": {},
   "outputs": [],
   "source": [
    "nominal_vax_sim = nominal_params_vax_sim()\n",
    "\n",
    "import copy\n",
    "current_test_policy = {\n",
    "    'ug_ga_vax_test_frequency':1/7, \n",
    "    'ug_ga_unvax_test_frequency': 2/7,\n",
    "    'ug_other_vax_test_frequency': 1/7, \n",
    "    'ug_other_unvax_test_frequency': 2/7,\n",
    "    'grad_vax_test_frequency': 1/7, \n",
    "    'grad_unvax_test_frequency': 2/7,\n",
    "    'employee_vax_test_frequency':1/7, \n",
    "    'employee_unvax_test_frequency':2/7\n",
    "}\n",
    "\n",
    "proposed_test_policy = current_test_policy.copy()\n",
    "proposed_test_policy['ug_ga_vax_test_frequency'] = 2/7\n",
    "\n",
    "proposed_test_policy2 = current_test_policy.copy()\n",
    "proposed_test_policy2['ug_ga_vax_test_frequency'] = 3/7\n",
    "\n",
    "update_vax_sim_params(nominal_vax_sim, current_test_policy)\n",
    "\n",
    "alternate_vax_sim = copy.deepcopy(nominal_vax_sim)\n",
    "update_vax_sim_params(alternate_vax_sim, proposed_test_policy)\n",
    "\n",
    "alternate_vax_sim2 = copy.deepcopy(nominal_vax_sim)\n",
    "update_vax_sim_params(alternate_vax_sim2, proposed_test_policy2)"
   ]
  },
  {
   "cell_type": "code",
   "execution_count": 19,
   "metadata": {},
   "outputs": [],
   "source": [
    "nominal_list_of_infs_by_group = run_multiple_trajs(nominal_vax_sim, 112, 10)"
   ]
  },
  {
   "cell_type": "code",
   "execution_count": 4,
   "metadata": {},
   "outputs": [],
   "source": [
    "alternate_list_of_infs_by_group = run_multiple_trajs(alternate_vax_sim, 112, 10)"
   ]
  },
  {
   "cell_type": "code",
   "execution_count": 35,
   "metadata": {},
   "outputs": [],
   "source": [
    "alternate_list_of_infs_by_group2 = run_multiple_trajs(alternate_vax_sim2, 112, 10)"
   ]
  },
  {
   "cell_type": "code",
   "execution_count": 41,
   "metadata": {},
   "outputs": [
    {
     "data": {
      "text/plain": [
       "1529.2"
      ]
     },
     "execution_count": 41,
     "metadata": {},
     "output_type": "execute_result"
    }
   ],
   "source": [
    "infxns = list()\n",
    "for i in range(10):\n",
    "    infxns.append(np.sum(alternate_list_of_infs_by_group2[i][:-2], axis=0)[-1])\n",
    "np.mean(infxns)"
   ]
  },
  {
   "cell_type": "code",
   "execution_count": 27,
   "metadata": {},
   "outputs": [
    {
     "data": {
      "text/plain": [
       "[0         0.0\n",
       " 1         0.0\n",
       " 2         7.0\n",
       " 3        16.0\n",
       " 4        26.0\n",
       "         ...  \n",
       " 108    3009.0\n",
       " 109    3009.0\n",
       " 110    3009.0\n",
       " 111    3009.0\n",
       " 112    3009.0\n",
       " Length: 113, dtype: float64,\n",
       " 0        0.0\n",
       " 1        0.0\n",
       " 2        2.0\n",
       " 3        3.0\n",
       " 4        3.0\n",
       "        ...  \n",
       " 108    174.0\n",
       " 109    174.0\n",
       " 110    174.0\n",
       " 111    174.0\n",
       " 112    174.0\n",
       " Length: 113, dtype: float64,\n",
       " 0         2.0\n",
       " 1         9.0\n",
       " 2        37.0\n",
       " 3        44.0\n",
       " 4        49.0\n",
       "         ...  \n",
       " 108    1174.0\n",
       " 109    1174.0\n",
       " 110    1174.0\n",
       " 111    1174.0\n",
       " 112    1177.0\n",
       " Length: 113, dtype: float64,\n",
       " 0       0.0\n",
       " 1       0.0\n",
       " 2       1.0\n",
       " 3       2.0\n",
       " 4       3.0\n",
       "        ... \n",
       " 108    36.0\n",
       " 109    36.0\n",
       " 110    36.0\n",
       " 111    36.0\n",
       " 112    36.0\n",
       " Length: 113, dtype: float64,\n",
       " 0       0.0\n",
       " 1       2.0\n",
       " 2       2.0\n",
       " 3       2.0\n",
       " 4       3.0\n",
       "        ... \n",
       " 108    39.0\n",
       " 109    39.0\n",
       " 110    39.0\n",
       " 111    39.0\n",
       " 112    39.0\n",
       " Length: 113, dtype: float64,\n",
       " 0      0.0\n",
       " 1      0.0\n",
       " 2      1.0\n",
       " 3      1.0\n",
       " 4      1.0\n",
       "       ... \n",
       " 108    2.0\n",
       " 109    2.0\n",
       " 110    2.0\n",
       " 111    2.0\n",
       " 112    2.0\n",
       " Length: 113, dtype: float64]"
      ]
     },
     "execution_count": 27,
     "metadata": {},
     "output_type": "execute_result"
    }
   ],
   "source": [
    "nominal_list_of_infs_by_group[1][:-2]\n",
    "# np.sum(nominal_list_of_infs_by_group[0][:-2], axis=0)"
   ]
  },
  {
   "cell_type": "code",
   "execution_count": null,
   "metadata": {},
   "outputs": [],
   "source": []
  },
  {
   "cell_type": "code",
   "execution_count": null,
   "metadata": {},
   "outputs": [],
   "source": []
  },
  {
   "cell_type": "code",
   "execution_count": 28,
   "metadata": {},
   "outputs": [],
   "source": [
    "massey_nominal_list_of_infs_by_group = run_multiple_trajectories(nominal_vax_sim, 112, 10)"
   ]
  },
  {
   "cell_type": "code",
   "execution_count": 29,
   "metadata": {},
   "outputs": [
    {
     "data": {
      "text/plain": [
       "[3029, 175, 1270, 31, 44, 2, 2469, 375]"
      ]
     },
     "execution_count": 29,
     "metadata": {},
     "output_type": "execute_result"
    }
   ],
   "source": [
    "massey_nominal_list_of_infs_by_group[0]"
   ]
  },
  {
   "cell_type": "code",
   "execution_count": 30,
   "metadata": {},
   "outputs": [
    {
     "name": "stdout",
     "output_type": "stream",
     "text": [
      "4417.9\n"
     ]
    }
   ],
   "source": [
    "nominal = 0\n",
    "import numpy as np\n",
    "for idx in range(10):\n",
    "    nominal += np.sum(massey_nominal_list_of_infs_by_group[idx][0:6])\n",
    "print(nominal/10)"
   ]
  },
  {
   "cell_type": "code",
   "execution_count": 31,
   "metadata": {},
   "outputs": [],
   "source": [
    "massey_alternate_list_of_infs_by_group = run_multiple_trajectories(alternate_vax_sim, 112, 10)"
   ]
  },
  {
   "cell_type": "code",
   "execution_count": 33,
   "metadata": {},
   "outputs": [
    {
     "data": {
      "text/plain": [
       "[1873, 75, 563, 13, 25, 1, 2215, 337]"
      ]
     },
     "execution_count": 33,
     "metadata": {},
     "output_type": "execute_result"
    }
   ],
   "source": [
    "massey_alternate_list_of_infs_by_group[0]"
   ]
  },
  {
   "cell_type": "code",
   "execution_count": null,
   "metadata": {},
   "outputs": [],
   "source": []
  },
  {
   "cell_type": "code",
   "execution_count": null,
   "metadata": {},
   "outputs": [],
   "source": []
  },
  {
   "cell_type": "code",
   "execution_count": null,
   "metadata": {},
   "outputs": [],
   "source": []
  },
  {
   "cell_type": "code",
   "execution_count": 16,
   "metadata": {},
   "outputs": [
    {
     "data": {
      "text/plain": [
       "array([1.000e+00, 9.000e+00, 2.300e+01, 5.100e+01, 6.900e+01, 1.020e+02,\n",
       "       1.320e+02, 1.720e+02, 2.110e+02, 2.520e+02, 2.900e+02, 3.440e+02,\n",
       "       4.330e+02, 5.100e+02, 6.370e+02, 7.420e+02, 8.750e+02, 1.066e+03,\n",
       "       1.262e+03, 1.495e+03, 1.773e+03, 2.076e+03, 2.461e+03, 2.866e+03,\n",
       "       3.202e+03, 3.494e+03, 3.792e+03, 3.961e+03, 4.102e+03, 4.231e+03,\n",
       "       4.327e+03, 4.386e+03, 4.418e+03, 4.431e+03, 4.440e+03, 4.443e+03,\n",
       "       4.453e+03, 4.459e+03, 4.460e+03, 4.462e+03, 4.464e+03, 4.464e+03,\n",
       "       4.464e+03, 4.464e+03, 4.464e+03, 4.464e+03, 4.464e+03, 4.464e+03,\n",
       "       4.464e+03, 4.464e+03, 4.465e+03, 4.467e+03, 4.468e+03, 4.469e+03,\n",
       "       4.469e+03, 4.470e+03, 4.471e+03, 4.471e+03, 4.471e+03, 4.471e+03,\n",
       "       4.471e+03, 4.471e+03, 4.471e+03, 4.471e+03, 4.471e+03, 4.471e+03,\n",
       "       4.471e+03, 4.472e+03, 4.472e+03, 4.472e+03, 4.473e+03, 4.473e+03,\n",
       "       4.473e+03, 4.474e+03, 4.474e+03, 4.474e+03, 4.474e+03, 4.474e+03,\n",
       "       4.474e+03, 4.474e+03, 4.474e+03, 4.474e+03, 4.474e+03, 4.474e+03,\n",
       "       4.474e+03, 4.474e+03, 4.474e+03, 4.474e+03, 4.474e+03, 4.474e+03,\n",
       "       4.474e+03, 4.475e+03, 4.475e+03, 4.477e+03, 4.479e+03, 4.482e+03,\n",
       "       4.485e+03, 4.486e+03, 4.487e+03, 4.488e+03, 4.491e+03, 4.491e+03,\n",
       "       4.491e+03, 4.491e+03, 4.491e+03, 4.491e+03, 4.491e+03, 4.491e+03,\n",
       "       4.491e+03, 4.491e+03, 4.491e+03, 4.491e+03, 4.491e+03])"
      ]
     },
     "execution_count": 16,
     "metadata": {},
     "output_type": "execute_result"
    }
   ],
   "source": [
    "np.sum(nominal_list_of_infs_by_group[4][:-2], axis=0)"
   ]
  },
  {
   "cell_type": "code",
   "execution_count": null,
   "metadata": {},
   "outputs": [],
   "source": []
  },
  {
   "cell_type": "code",
   "execution_count": null,
   "metadata": {},
   "outputs": [],
   "source": []
  },
  {
   "cell_type": "code",
   "execution_count": 7,
   "metadata": {},
   "outputs": [
    {
     "name": "stdout",
     "output_type": "stream",
     "text": [
      "742.5\n"
     ]
    }
   ],
   "source": [
    "nominal = 0\n",
    "import numpy as np\n",
    "for idx in range(10):\n",
    "    nominal += np.mean(nominal_list_of_infs_by_group[idx][0:6])\n",
    "print(nominal/10)"
   ]
  },
  {
   "cell_type": "code",
   "execution_count": 8,
   "metadata": {},
   "outputs": [
    {
     "name": "stdout",
     "output_type": "stream",
     "text": [
      "393.83333333333337\n"
     ]
    }
   ],
   "source": [
    "alternate = 0\n",
    "import numpy as np\n",
    "for idx in range(10):\n",
    "    alternate += np.mean(alternate_list_of_infs_by_group[idx][0:6])\n",
    "print(alternate/10)"
   ]
  },
  {
   "cell_type": "code",
   "execution_count": null,
   "metadata": {},
   "outputs": [],
   "source": []
  }
 ],
 "metadata": {
  "kernelspec": {
   "display_name": "Python 3",
   "language": "python",
   "name": "python3"
  },
  "language_info": {
   "codemirror_mode": {
    "name": "ipython",
    "version": 3
   },
   "file_extension": ".py",
   "mimetype": "text/x-python",
   "name": "python",
   "nbconvert_exporter": "python",
   "pygments_lexer": "ipython3",
   "version": "3.7.6"
  }
 },
 "nbformat": 4,
 "nbformat_minor": 2
}
