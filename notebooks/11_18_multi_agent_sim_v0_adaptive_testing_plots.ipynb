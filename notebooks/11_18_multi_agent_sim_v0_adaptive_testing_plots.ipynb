{
 "cells": [
  {
   "cell_type": "code",
   "execution_count": 1,
   "metadata": {
    "collapsed": true
   },
   "outputs": [],
   "source": [
    "import sys\n",
    "import os\n",
    "import numpy as np\n",
    "module_path = os.path.abspath(os.path.join('..'))\n",
    "if module_path not in sys.path:\n",
    "    sys.path.append(module_path + \"/src/multi_agent_sim\")\n",
    "from multi_agent_sim import MultiAgentSim"
   ]
  },
  {
   "cell_type": "code",
   "execution_count": 2,
   "metadata": {
    "collapsed": true
   },
   "outputs": [],
   "source": [
    "infection_dynamics_params = {\n",
    "    'forward_gen_alpha': 8,\n",
    "    'forward_gen_beta_hyperparams': (5,5),\n",
    "    'detectability_curve_type': 'optimistic',\n",
    "    'self_reporting_multiplier': 0.8,\n",
    "    'self_reporting_delay': 3,\n",
    "    'init_infection_rate': 0.001,\n",
    "    'use_deterministic_infection_counts': True,\n",
    "}\n",
    "\n",
    "social_network_params_high_var = {\n",
    "    'location_vec_dim': 2,\n",
    "    'network_gamma': 3,\n",
    "    'daily_contacts_distn_type': 'negative_binomial',\n",
    "    'neg_bin_r': 2,\n",
    "    'neg_bin_p_hyperparams': (2,3),\n",
    "}\n",
    "\n",
    "n_agents = 1000\n",
    "main_params = {\n",
    "    'n_agents': 1000,\n",
    "    'use_contact_tracing': False,\n",
    "    'use_adaptive_testing': True,\n",
    "    'use_surveillance_testing': True\n",
    "}\n",
    "\n",
    "ct_params = {\n",
    "    'ct_recall_window': 8,\n",
    "    'ct_delay_distribution': [1/3,1/3,1/3], # uniform over 0, 1, 2 days delay\n",
    "    'ct_recall_rate': 0.5\n",
    "}\n",
    "\n",
    "at_params = {\n",
    "    'at_delay_distribution': [1/5] * 5,\n",
    "    'at_net_size_contact_multiplier': 10,\n",
    "    'at_recall_rate': 0.9\n",
    "}\n",
    "\n",
    "st_params = {\n",
    "    'st_testing_window': 3,\n",
    "    'st_missed_test_rate': 0.1\n",
    "}\n",
    "\n",
    "def init_high_var_sim(R0):\n",
    "    social_network_params_high_var['neg_bin_r'] = R0 / 0.9\n",
    "    return MultiAgentSim(main_params, infection_dynamics_params, social_network_params_high_var, \n",
    "                         ct_params, at_params, st_params)\n",
    "\n",
    "social_network_params_low_var = {\n",
    "    'location_vec_dim': 2,\n",
    "    'network_gamma': 3,\n",
    "    'daily_contacts_distn_type': 'negative_binomial',\n",
    "    'neg_bin_r': 2,\n",
    "    'neg_bin_p_hyperparams': (5,6),\n",
    "}\n",
    "\n",
    "def init_low_var_sim(R0):\n",
    "    social_network_params_low_var['neg_bin_r'] = R0 / 0.9\n",
    "    return MultiAgentSim(main_params, infection_dynamics_params, social_network_params_low_var, \n",
    "                         ct_params, at_params, st_params)"
   ]
  },
  {
   "cell_type": "code",
   "execution_count": 3,
   "metadata": {
    "collapsed": true
   },
   "outputs": [],
   "source": [
    "def sample_trajectory(R0, at_multiplier, st_testing_window):\n",
    "    st_params['st_testing_window'] = st_testing_window\n",
    "    at_params['at_net_size_contact_multiplier'] = at_multiplier\n",
    "    sim = init_low_var_sim(R0)\n",
    "    infection_counts = [len(sim.infection.get_cum_infected_agent_ids())]\n",
    "    init_infection_counts = infection_counts[0]\n",
    "    for _ in range(7*12):\n",
    "        sim.step()\n",
    "        infection_counts.append(len(sim.infection.get_cum_infected_agent_ids()))\n",
    "    total_tests = sim.get_total_tests()\n",
    "    return total_tests, infection_counts, init_infection_counts, infection_counts[-1]"
   ]
  },
  {
   "cell_type": "markdown",
   "metadata": {},
   "source": [
    "# look at R0 vs. at_multiplier"
   ]
  },
  {
   "cell_type": "code",
   "execution_count": null,
   "metadata": {
    "scrolled": true
   },
   "outputs": [
    {
     "name": "stdout",
     "output_type": "stream",
     "text": [
      "on pair (1.5, 2)\n",
      "Timestamp: 2020-11-18 14:51:07.512599\n",
      "\n",
      "on pair (1.5, 4)\n",
      "Timestamp: 2020-11-18 14:57:09.768530\n",
      "\n",
      "on pair (1.5, 6)\n",
      "Timestamp: 2020-11-18 15:03:10.362387\n",
      "\n",
      "on pair (1.5, 8)\n",
      "Timestamp: 2020-11-18 15:09:10.792369\n",
      "\n",
      "on pair (1.5, 10)\n",
      "Timestamp: 2020-11-18 15:15:12.421307\n",
      "\n",
      "on pair (1.5, 12)\n",
      "Timestamp: 2020-11-18 15:21:06.209968\n",
      "\n",
      "on pair (1.5, 14)\n",
      "Timestamp: 2020-11-18 15:27:01.888130\n",
      "\n",
      "on pair (2, 2)\n",
      "Timestamp: 2020-11-18 15:32:57.973589\n",
      "\n",
      "on pair (2, 4)\n",
      "Timestamp: 2020-11-18 15:40:18.743800\n",
      "\n",
      "on pair (2, 6)\n",
      "Timestamp: 2020-11-18 15:47:08.559060\n",
      "\n",
      "on pair (2, 8)\n",
      "Timestamp: 2020-11-18 15:53:56.431945\n",
      "\n",
      "on pair (2, 10)\n",
      "Timestamp: 2020-11-18 16:00:27.868440\n",
      "\n",
      "on pair (2, 12)\n",
      "Timestamp: 2020-11-18 16:06:50.284169\n",
      "\n",
      "on pair (2, 14)\n",
      "Timestamp: 2020-11-18 16:12:56.931412\n",
      "\n",
      "on pair (2.5, 2)\n",
      "Timestamp: 2020-11-18 16:19:10.433848\n",
      "\n",
      "on pair (2.5, 4)\n",
      "Timestamp: 2020-11-18 16:27:55.978210\n",
      "\n",
      "on pair (2.5, 6)\n",
      "Timestamp: 2020-11-18 16:35:29.085716\n",
      "\n",
      "on pair (2.5, 8)\n",
      "Timestamp: 2020-11-18 16:42:42.850910\n",
      "\n",
      "on pair (2.5, 10)\n",
      "Timestamp: 2020-11-18 16:49:34.148486\n",
      "\n",
      "on pair (2.5, 12)\n",
      "Timestamp: 2020-11-18 16:56:24.534755\n",
      "\n",
      "on pair (2.5, 14)\n",
      "Timestamp: 2020-11-18 17:03:09.822176\n",
      "\n",
      "on pair (3, 2)\n",
      "Timestamp: 2020-11-18 17:09:27.646649\n",
      "\n",
      "on pair (3, 4)\n",
      "Timestamp: 2020-11-18 17:18:50.631377\n",
      "\n",
      "on pair (3, 6)\n",
      "Timestamp: 2020-11-18 17:27:35.408169\n",
      "\n",
      "on pair (3, 8)\n",
      "Timestamp: 2020-11-18 17:35:54.563522\n",
      "\n",
      "on pair (3, 10)\n",
      "Timestamp: 2020-11-18 17:43:52.303008\n",
      "\n",
      "on pair (3, 12)\n",
      "Timestamp: 2020-11-18 17:51:13.583914\n",
      "\n",
      "on pair (3, 14)\n",
      "Timestamp: 2020-11-18 17:58:30.819416\n",
      "\n",
      "on pair (3.5, 2)\n",
      "Timestamp: 2020-11-18 18:05:31.042083\n",
      "\n",
      "on pair (3.5, 4)\n",
      "Timestamp: 2020-11-18 18:15:43.855676\n",
      "\n",
      "on pair (3.5, 6)\n",
      "Timestamp: 2020-11-18 18:25:07.764143\n",
      "\n",
      "on pair (3.5, 8)\n",
      "Timestamp: 2020-11-18 18:33:52.052145\n",
      "\n",
      "on pair (3.5, 10)\n",
      "Timestamp: 2020-11-18 18:42:08.895145\n",
      "\n",
      "on pair (3.5, 12)\n",
      "Timestamp: 2020-11-18 18:49:53.478957\n",
      "\n"
     ]
    }
   ],
   "source": [
    "R0s_to_try = [1.5, 2, 2.5, 3, 3.5]\n",
    "\n",
    "at_multipliers_to_try = [2, 4, 6, 8, 10, 12, 14]\n",
    "\n",
    "at_pareto_results = {}\n",
    "\n",
    "main_params['use_surveillance_testing'] = False\n",
    "main_params['use_contact_tracing'] = False\n",
    "\n",
    "ntrajectories = 20\n",
    "\n",
    "from datetime import datetime\n",
    "\n",
    "for R0 in R0s_to_try:\n",
    "    for mult in at_multipliers_to_try:\n",
    "        print(\"on pair {}\".format((R0, mult)))\n",
    "        print(\"Timestamp: {}\\n\".format(datetime.now()))\n",
    "        at_pareto_results[(R0, mult)] = [sample_trajectory(R0, mult, 1) for _ in range(ntrajectories)]"
   ]
  },
  {
   "cell_type": "markdown",
   "metadata": {},
   "source": [
    "# look at adaptive test pareto results"
   ]
  },
  {
   "cell_type": "code",
   "execution_count": 49,
   "metadata": {},
   "outputs": [
    {
     "name": "stdout",
     "output_type": "stream",
     "text": [
      "(1.5,2): total tests 110.6, total infxns 82.4\n",
      "(1.5,4): total tests 195.25, total infxns 60.95\n",
      "(1.5,6): total tests 297.45, total infxns 57.35\n",
      "(1.5,8): total tests 441.9, total infxns 70.2\n",
      "(1.5,10): total tests 358.0, total infxns 39.4\n",
      "(1.5,12): total tests 446.45, total infxns 40.25\n",
      "(1.5,14): total tests 756.15, total infxns 57.0\n",
      "(2,2): total tests 640.95, total infxns 353.9\n",
      "(2,4): total tests 977.45, total infxns 243.75\n",
      "(2,6): total tests 1603.9, total infxns 247.15\n",
      "(2,8): total tests 1692.6, total infxns 189.2\n",
      "(2,10): total tests 1685.75, total infxns 157.4\n",
      "(2,12): total tests 1293.35, total infxns 98.15\n",
      "(2,14): total tests 2003.15, total infxns 125.2\n",
      "(2.5,2): total tests 1541.95, total infxns 636.6\n",
      "(2.5,4): total tests 2225.0, total infxns 416.75\n",
      "(2.5,6): total tests 2740.35, total infxns 349.75\n",
      "(2.5,8): total tests 2827.85, total infxns 266.15\n",
      "(2.5,10): total tests 3760.15, total infxns 264.8\n",
      "(2.5,12): total tests 3989.45, total infxns 240.95\n",
      "(2.5,14): total tests 2870.2, total infxns 136.75\n",
      "(3,2): total tests 2555.4, total infxns 745.85\n",
      "(3,4): total tests 4632.95, total infxns 664.7\n",
      "(3,6): total tests 5697.85, total infxns 589.35\n",
      "(3,8): total tests 7157.1, total infxns 514.1\n",
      "(3,10): total tests 6395.3, total infxns 375.4\n",
      "(3,12): total tests 7602.2, total infxns 356.9\n",
      "(3,14): total tests 6778.4, total infxns 285.1\n",
      "(3.5,2): total tests 3857.4, total infxns 905.7\n",
      "(3.5,4): total tests 6966.15, total infxns 808.15\n",
      "(3.5,6): total tests 9159.7, total infxns 690.05\n",
      "(3.5,8): total tests 9947.15, total infxns 585.35\n",
      "(3.5,10): total tests 9901.55, total infxns 466.8\n",
      "(3.5,12): total tests 8495.85, total infxns 337.2\n",
      "(3.5,14): total tests 12841.2, total infxns 444.4\n"
     ]
    }
   ],
   "source": [
    "for R0 in R0s_to_try:\n",
    "    for at_mult in at_multipliers_to_try:\n",
    "        results = at_pareto_results[(R0, at_mult)]\n",
    "        avg_total_tests = np.mean([r[0] for r in results])\n",
    "        avg_total_infxns = np.mean([r[-1] for r in results])\n",
    "        print(\"({},{}): total tests {}, total infxns {}\".format(R0, at_mult, avg_total_tests, avg_total_infxns))"
   ]
  },
  {
   "cell_type": "code",
   "execution_count": 51,
   "metadata": {},
   "outputs": [
    {
     "name": "stdout",
     "output_type": "stream",
     "text": [
      "(1.5,2): total tests 110.6, total infxns 82.4\n",
      "(1.5,4): total tests 195.25, total infxns 60.95\n",
      "(1.5,6): total tests 297.45, total infxns 57.35\n",
      "(1.5,8): total tests 441.9, total infxns 70.2\n",
      "(1.5,10): total tests 358.0, total infxns 39.4\n",
      "(1.5,12): total tests 446.45, total infxns 40.25\n",
      "(1.5,14): total tests 756.15, total infxns 57.0\n"
     ]
    },
    {
     "data": {
      "text/plain": [
       "<matplotlib.collections.PathCollection at 0x7ff799e49518>"
      ]
     },
     "execution_count": 51,
     "metadata": {},
     "output_type": "execute_result"
    },
    {
     "data": {
      "image/png": "[encoded data removed]",
      "text/plain": [
       "<matplotlib.figure.Figure at 0x7ff79e262d68>"
      ]
     },
     "metadata": {},
     "output_type": "display_data"
    }
   ],
   "source": [
    "R0 = 1.5\n",
    "tests = []\n",
    "infxns = []\n",
    "for at_mult in at_multipliers_to_try:\n",
    "    results = at_pareto_results[(R0, at_mult)]\n",
    "    avg_total_tests = np.mean([r[0] for r in results])\n",
    "    avg_total_infxns = np.mean([r[-1] for r in results])\n",
    "    tests.append(avg_total_tests)\n",
    "    infxns.append(avg_total_infxns)\n",
    "    print(\"({},{}): total tests {}, total infxns {}\".format(R0, at_mult, avg_total_tests, avg_total_infxns))\n",
    "\n",
    "import matplotlib.pyplot as plt\n",
    "%matplotlib inline\n",
    "plt.scatter(tests, infxns)"
   ]
  },
  {
   "cell_type": "code",
   "execution_count": 52,
   "metadata": {
    "collapsed": true
   },
   "outputs": [],
   "source": [
    "import pickle\n",
    "pickle.dump(at_pareto_results, open(\"at_pareto_results.pickle\", \"wb\"))"
   ]
  },
  {
   "cell_type": "code",
   "execution_count": null,
   "metadata": {
    "collapsed": true
   },
   "outputs": [],
   "source": []
  }
 ],
 "metadata": {
  "kernelspec": {
   "display_name": "Python 3",
   "language": "python",
   "name": "python3"
  },
  "language_info": {
   "codemirror_mode": {
    "name": "ipython",
    "version": 3
   },
   "file_extension": ".py",
   "mimetype": "text/x-python",
   "name": "python",
   "nbconvert_exporter": "python",
   "pygments_lexer": "ipython3",
   "version": "3.6.3"
  }
 },
 "nbformat": 4,
 "nbformat_minor": 2
}
