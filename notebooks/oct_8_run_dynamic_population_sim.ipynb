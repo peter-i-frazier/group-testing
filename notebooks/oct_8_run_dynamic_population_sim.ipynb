{
 "cells": [
  {
   "cell_type": "code",
   "execution_count": 1,
   "metadata": {
    "collapsed": true
   },
   "outputs": [],
   "source": [
    "import sys\n",
    "import os\n",
    "import numpy as np\n",
    "module_path = os.path.abspath(os.path.join('..'))\n",
    "if module_path not in sys.path:\n",
    "    sys.path.append(module_path + \"/src/simulations_v2\")\n",
    "from load_params import load_multigroup_params, load_params\n",
    "from multi_group_simulation import MultiGroupSimulation"
   ]
  },
  {
   "cell_type": "code",
   "execution_count": 2,
   "metadata": {},
   "outputs": [],
   "source": [
    "base_params = load_params('../src/simulations_v2/params/quarantine_analysis/aug9quarantine/move_in_weekend/nominal_option_{}/ug_dorm.yaml'.format(1))[1]"
   ]
  },
  {
   "cell_type": "code",
   "execution_count": 3,
   "metadata": {},
   "outputs": [],
   "source": [
    "from dynamic_population_sim import DynamicPopulationSim\n",
    "\n",
    "movein_free_params = base_params.copy()\n",
    "movein_selfiso_params = base_params.copy()\n",
    "post_movein_params = base_params.copy()\n",
    "\n",
    "daily_selfiso_to_free_contacts_pp = 1\n",
    "daily_free_to_selfiso_contacts_pp = daily_selfiso_to_free_contacts_pp * \\\n",
    "                                    movein_selfiso_params['population_size'] / movein_free_params['population_size']\n",
    "\n",
    "movein_contact_matrix = np.matrix(\n",
    "    [[movein_free_params['expected_contacts_per_day'], daily_selfiso_to_free_contacts_pp],\n",
    "    [daily_free_to_selfiso_contacts_pp, movein_selfiso_params['expected_contacts_per_day']]])\n",
    "\n",
    "movein_time_horizon = 5\n",
    "\n",
    "free_group_population_dynamics = {\n",
    "    0: {'S': 4, 'pre_ID': 2},\n",
    "    2: {'SyID_mild': 1},\n",
    "    4: {'ID': 10}\n",
    "}\n",
    "\n",
    "selfiso_group_population_dynamics = {\n",
    "    1: {'E': 50},\n",
    "    2: {'QS': 5, 'QI': 1, 'R': 1, 'SyID_severe': 10}\n",
    "}\n",
    "\n",
    "dynamic_pop_sim = DynamicPopulationSim(\n",
    "    movein_free_params,\n",
    "    movein_selfiso_params,\n",
    "    post_movein_params,\n",
    "    movein_contact_matrix,\n",
    "    movein_time_horizon,\n",
    "    free_group_population_dynamics,\n",
    "    selfiso_group_population_dynamics\n",
    ")"
   ]
  },
  {
   "cell_type": "code",
   "execution_count": 4,
   "metadata": {},
   "outputs": [
    {
     "name": "stdout",
     "output_type": "stream",
     "text": [
      "Initial population sizes: 4167 free, 4167 self-isolated\n",
      "After time 0, population sizes: 4173 free, 4167 self-isolated\n",
      "After time 1, population sizes: 4173 free, 4217 self-isolated\n",
      "After time 2, population sizes: 4174 free, 4233 self-isolated\n",
      "After time 3, population sizes: 4174 free, 4233 self-isolated\n",
      "After time 4, population sizes: 4184 free, 4233 self-isolated\n",
      "At end of time 4, initialized post-movein simulation with population 8417\n"
     ]
    }
   ],
   "source": [
    "sims = dynamic_pop_sim.movein_sim.sims\n",
    "\n",
    "print(\"Initial population sizes: {} free, {} self-isolated\".format(sims[0].pop_size, \n",
    "                                                                    sims[1].pop_size))\n",
    "for t in range(movein_time_horizon):\n",
    "    dynamic_pop_sim.step()\n",
    "    print(\"After time {}, population sizes: {} free, {} self-isolated\".format(t,\n",
    "                                                                    sims[0].pop_size, \n",
    "                                                                    sims[1].pop_size))\n",
    "\n",
    "print(\"At end of time {}, initialized post-movein simulation with population {}\".format(t, dynamic_pop_sim.post_movein_sim.pop_size))"
   ]
  },
  {
   "cell_type": "code",
   "execution_count": null,
   "metadata": {
    "collapsed": true
   },
   "outputs": [],
   "source": []
  }
 ],
 "metadata": {
  "kernelspec": {
   "display_name": "Python 3",
   "language": "python",
   "name": "python3"
  },
  "language_info": {
   "codemirror_mode": {
    "name": "ipython",
    "version": 3
   },
   "file_extension": ".py",
   "mimetype": "text/x-python",
   "name": "python",
   "nbconvert_exporter": "python",
   "pygments_lexer": "ipython3",
   "version": "3.6.3"
  }
 },
 "nbformat": 4,
 "nbformat_minor": 2
}
