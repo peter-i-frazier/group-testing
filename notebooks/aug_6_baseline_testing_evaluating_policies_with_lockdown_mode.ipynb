{
 "cells": [
  {
   "cell_type": "markdown",
   "metadata": {},
   "source": [
    "# Notebook for running multi-group sim with 8 groups for Cornell re-open"
   ]
  },
  {
   "cell_type": "code",
   "execution_count": 1,
   "metadata": {},
   "outputs": [],
   "source": [
    "import sys\n",
    "import os\n",
    "import numpy as np\n",
    "import multiprocessing\n",
    "import dill\n",
    "import matplotlib.pyplot as plt\n",
    "import pandas as pd\n",
    "\n",
    "module_path = os.path.abspath(os.path.join('..'))\n",
    "if module_path not in sys.path:\n",
    "    sys.path.append(module_path + \"/src/simulations_v2\")\n",
    "from load_params import load_params\n",
    "\n",
    "from multi_group_simulation import MultiGroupSimulation"
   ]
  },
  {
   "cell_type": "markdown",
   "metadata": {},
   "source": [
    "## Importing Params, setting up group sim"
   ]
  },
  {
   "cell_type": "code",
   "execution_count": 2,
   "metadata": {},
   "outputs": [
    {
     "name": "stderr",
     "output_type": "stream",
     "text": [
      "/Users/stevewangen/projects/COVID/uw_reopening/src/simulations_v2/load_params.py:132: YAMLLoadWarning: calling yaml.load() without Loader=... is deprecated, as the default Loader is unsafe. Please read https://msg.pyyaml.org/load for full details.\n",
      "  params = yaml.load(f)\n",
      "/Users/stevewangen/projects/COVID/uw_reopening/src/simulations_v2/load_params.py:46: YAMLLoadWarning: calling yaml.load() without Loader=... is deprecated, as the default Loader is unsafe. Please read https://msg.pyyaml.org/load for full details.\n",
      "  age_sev_params = yaml.load(f)\n"
     ]
    }
   ],
   "source": [
    "ug_dorm_params = load_params('../src/simulations_v2/params/baseline_testing/august_5/ug_dorm.yaml')[1]\n",
    "ug_off_campus_params = load_params('../src/simulations_v2/params/baseline_testing/august_5/ug_off_campus.yaml')[1]\n",
    "gs_research_params = load_params('../src/simulations_v2/params/baseline_testing/august_5/grad_research.yaml')[1]\n",
    "gs_other_params = load_params('../src/simulations_v2/params/baseline_testing/august_5/grad_other.yaml')[1]\n",
    "faculty_staff_student_params = load_params('../src/simulations_v2/params/baseline_testing/august_5/faculty_staff_student_same_age.yaml')[1]\n",
    "faculty_staff_non_student_params = load_params('../src/simulations_v2/params/baseline_testing/august_5/faculty_staff_non_student_same_age.yaml')[1]\n",
    "faculty_staff_off_campus_params = load_params('../src/simulations_v2/params/baseline_testing/august_5/faculty_staff_off_campus_same_age.yaml')[1]\n",
    "ithaca_community_params = load_params('../src/simulations_v2/params/baseline_testing/august_5/ithaca_community.yaml')[1]"
   ]
  },
  {
   "cell_type": "code",
   "execution_count": 3,
   "metadata": {},
   "outputs": [],
   "source": [
    "interaction_matrix = np.array([[12.5,4,0.1,0.1,1,0.05,0.05,0.1],\n",
    "                               [3.41,8,0.1,0.1,1,0.05,0.05,0.2],\n",
    "                               [0.19,0.22,4,0.1,1.2,0.05,0.2,1.8],\n",
    "                               [0.14,0.17,0.07,9,1,0.05,0.05,0.2],\n",
    "                               [1.92,2.26,1.22,1.37,1,0.15,0.3,1.56],\n",
    "                               [0.18,0.21,0.1,0.13,0.28,1.8,0.2,1.56],\n",
    "                               [0.07,0.09,0.15,0.05,0.23,0.08,1.8,1.56],\n",
    "                               [0.011,0.026,0.106,0.016,0.091,0.048,0.12,3.5]])\n",
    "\n",
    "group_names = ['UG (campus)', 'UG (off campus)', 'GS (research)', 'GS (other)', 'Faculty/Staff (student facing)', 'Faculty/Staff (non student facing)', 'Faculty/Staff (off campus)', 'Ithaca Community']"
   ]
  },
  {
   "cell_type": "code",
   "execution_count": 4,
   "metadata": {},
   "outputs": [],
   "source": [
    "def get_cum_hosp(df):\n",
    "    return df[['severity_3', 'severity_2']].iloc[df.shape[0] - 1].sum()\n",
    "\n",
    "def get_cum_outside_infections(df):\n",
    "    return df['cumulative_outside_infections'].iloc[df.shape[0] - 1].sum()\n",
    "\n",
    "def get_cum_infections(df):\n",
    "    return df[['cumulative_mild', 'cumulative_severe']].iloc[df.shape[0] - 1].sum()\n",
    "\n",
    "def total_infections(list_sim_dfs):\n",
    "    total = 0\n",
    "    for sim_df in list_sim_dfs:\n",
    "        total += get_cum_infections(sim_df)\n",
    "    return total\n",
    "\n",
    "def total_hosp(list_sim_dfs):\n",
    "    total = 0\n",
    "    for sim_df in list_sim_dfs:\n",
    "        total += get_cum_hosp(sim_df)\n",
    "    return total\n",
    "\n",
    "def cornell_infections(list_sim_dfs):\n",
    "    total = 0\n",
    "    for sim_df in list_sim_dfs[:-1]:\n",
    "        total += get_cum_infections(sim_df)\n",
    "    return total\n",
    "\n",
    "def cornell_hosp(list_sim_dfs):\n",
    "    total = 0\n",
    "    for sim_df in list_sim_dfs[:-1]:\n",
    "        total += get_cum_hosp(sim_df)\n",
    "    return total"
   ]
  },
  {
   "cell_type": "code",
   "execution_count": 5,
   "metadata": {},
   "outputs": [],
   "source": [
    "def run_multigroup_sim(sim, T):\n",
    "    lockdown_statuses, sim_df = sim.run_new_trajectory(112)\n",
    "    popsize = sim.get_total_population()\n",
    "    infection_counts = sim_df[['S', 'QS']].apply(lambda x: (popsize - sum(x)) / popsize * 100, axis=1)\n",
    "    inf_list = list()\n",
    "    hosp_list = list()\n",
    "    for group in sim.sims:\n",
    "        df = group.sim_df\n",
    "        inf_list.append(get_cum_infections(df))\n",
    "        hosp_list.append(get_cum_hosp(df))\n",
    "    return inf_list, hosp_list, lockdown_statuses, list(infection_counts)\n",
    "\n",
    "def run_multiple_trajectories(sim, T, n):\n",
    "    inf_matrix = list()\n",
    "    hosp_matrix = list()\n",
    "    lockdown_trajectories = []\n",
    "    infection_trajectories = []\n",
    "    for _ in range(n):\n",
    "        inf, hosp, lockdowns, infections = run_multigroup_sim(sim, T)\n",
    "        inf_matrix.append(inf)\n",
    "        hosp_matrix.append(hosp)\n",
    "        lockdown_trajectories.append(lockdowns)\n",
    "        infection_trajectories.append(infections)\n",
    "    return inf_matrix, hosp_matrix, lockdown_trajectories, infection_trajectories"
   ]
  },
  {
   "cell_type": "code",
   "execution_count": 6,
   "metadata": {},
   "outputs": [],
   "source": [
    "def evaluate_testing_policy(params_list, interaction_matrix, group_names, test_frac, T, n,\n",
    "                           post_lockdown_matrix, new_cases_threshold, new_cases_time_window,\n",
    "                           procnum, return_dict):\n",
    "    assert len(params_list) == len(test_frac)\n",
    "    \n",
    "    sim = MultiGroupSimulation(params_list, interaction_matrix, group_names)\n",
    "\n",
    "    sim.configure_lockdown(post_lockdown_matrix, new_cases_threshold, new_cases_time_window)\n",
    "    \n",
    "    inf_matrix, hosp_matrix, lockdown_trajectories, infection_trajectories = run_multiple_trajectories(sim, T, n)\n",
    "    \n",
    "    return_dict[procnum] = {\n",
    "        'inf_matrix': inf_matrix,\n",
    "        'hosp_matrix': hosp_matrix,\n",
    "        'lockdown_trajectories': lockdown_trajectories,\n",
    "        'infection_trajectories': infection_trajectories\n",
    "    }"
   ]
  },
  {
   "cell_type": "markdown",
   "metadata": {},
   "source": [
    "Note total population is 95892"
   ]
  },
  {
   "cell_type": "code",
   "execution_count": 7,
   "metadata": {},
   "outputs": [],
   "source": [
    "def get_params_list_copy():\n",
    "    return [ug_dorm_params.copy(), \n",
    "            ug_off_campus_params.copy(), \n",
    "            gs_research_params.copy(), \n",
    "            gs_other_params.copy(), \n",
    "            faculty_staff_student_params.copy(), \n",
    "            faculty_staff_non_student_params.copy(), \n",
    "            faculty_staff_off_campus_params.copy(), \n",
    "            ithaca_community_params.copy()]"
   ]
  },
  {
   "cell_type": "code",
   "execution_count": 8,
   "metadata": {
    "scrolled": false
   },
   "outputs": [
    {
     "name": "stderr",
     "output_type": "stream",
     "text": [
      "Process Process-2:\n",
      "Traceback (most recent call last):\n",
      "  File \"/Library/Frameworks/Python.framework/Versions/3.6/lib/python3.6/multiprocessing/process.py\", line 249, in _bootstrap\n",
      "    self.run()\n",
      "  File \"/Library/Frameworks/Python.framework/Versions/3.6/lib/python3.6/multiprocessing/process.py\", line 93, in run\n",
      "    self._target(*self._args, **self._kwargs)\n",
      "  File \"<ipython-input-6-d5e6fd566cc3>\", line 8, in evaluate_testing_policy\n",
      "    sim.configure_lockdown(post_lockdown_matrix, new_cases_threshold, new_cases_time_window)\n",
      "TypeError: configure_lockdown() missing 1 required positional argument: 'new_cases_time_window'\n",
      "Process Process-3:\n",
      "Process Process-5:\n",
      "Traceback (most recent call last):\n",
      "Traceback (most recent call last):\n",
      "  File \"/Library/Frameworks/Python.framework/Versions/3.6/lib/python3.6/multiprocessing/process.py\", line 249, in _bootstrap\n",
      "    self.run()\n",
      "  File \"/Library/Frameworks/Python.framework/Versions/3.6/lib/python3.6/multiprocessing/process.py\", line 249, in _bootstrap\n",
      "    self.run()\n",
      "  File \"/Library/Frameworks/Python.framework/Versions/3.6/lib/python3.6/multiprocessing/process.py\", line 93, in run\n",
      "    self._target(*self._args, **self._kwargs)\n",
      "  File \"/Library/Frameworks/Python.framework/Versions/3.6/lib/python3.6/multiprocessing/process.py\", line 93, in run\n",
      "    self._target(*self._args, **self._kwargs)\n",
      "  File \"<ipython-input-6-d5e6fd566cc3>\", line 8, in evaluate_testing_policy\n",
      "    sim.configure_lockdown(post_lockdown_matrix, new_cases_threshold, new_cases_time_window)\n",
      "  File \"<ipython-input-6-d5e6fd566cc3>\", line 8, in evaluate_testing_policy\n",
      "    sim.configure_lockdown(post_lockdown_matrix, new_cases_threshold, new_cases_time_window)\n",
      "TypeError: configure_lockdown() missing 1 required positional argument: 'new_cases_time_window'\n",
      "TypeError: configure_lockdown() missing 1 required positional argument: 'new_cases_time_window'\n",
      "Process Process-6:\n",
      "Traceback (most recent call last):\n",
      "  File \"/Library/Frameworks/Python.framework/Versions/3.6/lib/python3.6/multiprocessing/process.py\", line 249, in _bootstrap\n",
      "    self.run()\n",
      "  File \"/Library/Frameworks/Python.framework/Versions/3.6/lib/python3.6/multiprocessing/process.py\", line 93, in run\n",
      "    self._target(*self._args, **self._kwargs)\n",
      "  File \"<ipython-input-6-d5e6fd566cc3>\", line 8, in evaluate_testing_policy\n",
      "    sim.configure_lockdown(post_lockdown_matrix, new_cases_threshold, new_cases_time_window)\n",
      "TypeError: configure_lockdown() missing 1 required positional argument: 'new_cases_time_window'\n",
      "Process Process-7:\n",
      "Traceback (most recent call last):\n",
      "  File \"/Library/Frameworks/Python.framework/Versions/3.6/lib/python3.6/multiprocessing/process.py\", line 249, in _bootstrap\n",
      "    self.run()\n",
      "  File \"/Library/Frameworks/Python.framework/Versions/3.6/lib/python3.6/multiprocessing/process.py\", line 93, in run\n",
      "    self._target(*self._args, **self._kwargs)\n",
      "  File \"<ipython-input-6-d5e6fd566cc3>\", line 8, in evaluate_testing_policy\n",
      "    sim.configure_lockdown(post_lockdown_matrix, new_cases_threshold, new_cases_time_window)\n",
      "TypeError: configure_lockdown() missing 1 required positional argument: 'new_cases_time_window'\n",
      "Process Process-4:\n",
      "Traceback (most recent call last):\n",
      "  File \"/Library/Frameworks/Python.framework/Versions/3.6/lib/python3.6/multiprocessing/process.py\", line 249, in _bootstrap\n",
      "    self.run()\n",
      "Process Process-8:\n",
      "Traceback (most recent call last):\n",
      "  File \"/Library/Frameworks/Python.framework/Versions/3.6/lib/python3.6/multiprocessing/process.py\", line 249, in _bootstrap\n",
      "    self.run()\n",
      "  File \"/Library/Frameworks/Python.framework/Versions/3.6/lib/python3.6/multiprocessing/process.py\", line 93, in run\n",
      "    self._target(*self._args, **self._kwargs)\n",
      "  File \"<ipython-input-6-d5e6fd566cc3>\", line 8, in evaluate_testing_policy\n",
      "    sim.configure_lockdown(post_lockdown_matrix, new_cases_threshold, new_cases_time_window)\n",
      "TypeError: configure_lockdown() missing 1 required positional argument: 'new_cases_time_window'\n",
      "  File \"/Library/Frameworks/Python.framework/Versions/3.6/lib/python3.6/multiprocessing/process.py\", line 93, in run\n",
      "    self._target(*self._args, **self._kwargs)\n",
      "  File \"<ipython-input-6-d5e6fd566cc3>\", line 8, in evaluate_testing_policy\n",
      "    sim.configure_lockdown(post_lockdown_matrix, new_cases_threshold, new_cases_time_window)\n",
      "TypeError: configure_lockdown() missing 1 required positional argument: 'new_cases_time_window'\n",
      "Process Process-13:\n",
      "Process Process-12:\n",
      "Process Process-9:\n",
      "Traceback (most recent call last):\n",
      "Traceback (most recent call last):\n",
      "Traceback (most recent call last):\n",
      "  File \"/Library/Frameworks/Python.framework/Versions/3.6/lib/python3.6/multiprocessing/process.py\", line 249, in _bootstrap\n",
      "    self.run()\n",
      "  File \"/Library/Frameworks/Python.framework/Versions/3.6/lib/python3.6/multiprocessing/process.py\", line 249, in _bootstrap\n",
      "    self.run()\n",
      "  File \"/Library/Frameworks/Python.framework/Versions/3.6/lib/python3.6/multiprocessing/process.py\", line 93, in run\n",
      "    self._target(*self._args, **self._kwargs)\n",
      "  File \"/Library/Frameworks/Python.framework/Versions/3.6/lib/python3.6/multiprocessing/process.py\", line 249, in _bootstrap\n",
      "    self.run()\n",
      "  File \"/Library/Frameworks/Python.framework/Versions/3.6/lib/python3.6/multiprocessing/process.py\", line 93, in run\n",
      "    self._target(*self._args, **self._kwargs)\n",
      "  File \"<ipython-input-6-d5e6fd566cc3>\", line 8, in evaluate_testing_policy\n",
      "    sim.configure_lockdown(post_lockdown_matrix, new_cases_threshold, new_cases_time_window)\n",
      "  File \"<ipython-input-6-d5e6fd566cc3>\", line 8, in evaluate_testing_policy\n",
      "    sim.configure_lockdown(post_lockdown_matrix, new_cases_threshold, new_cases_time_window)\n",
      "  File \"/Library/Frameworks/Python.framework/Versions/3.6/lib/python3.6/multiprocessing/process.py\", line 93, in run\n",
      "    self._target(*self._args, **self._kwargs)\n",
      "TypeError: configure_lockdown() missing 1 required positional argument: 'new_cases_time_window'\n",
      "TypeError: configure_lockdown() missing 1 required positional argument: 'new_cases_time_window'\n",
      "  File \"<ipython-input-6-d5e6fd566cc3>\", line 8, in evaluate_testing_policy\n",
      "    sim.configure_lockdown(post_lockdown_matrix, new_cases_threshold, new_cases_time_window)\n",
      "TypeError: configure_lockdown() missing 1 required positional argument: 'new_cases_time_window'\n",
      "Process Process-11:\n",
      "Process Process-15:\n",
      "Process Process-10:\n",
      "Traceback (most recent call last):\n",
      "Traceback (most recent call last):\n",
      "Traceback (most recent call last):\n",
      "  File \"/Library/Frameworks/Python.framework/Versions/3.6/lib/python3.6/multiprocessing/process.py\", line 249, in _bootstrap\n",
      "    self.run()\n",
      "  File \"/Library/Frameworks/Python.framework/Versions/3.6/lib/python3.6/multiprocessing/process.py\", line 249, in _bootstrap\n",
      "    self.run()\n",
      "  File \"/Library/Frameworks/Python.framework/Versions/3.6/lib/python3.6/multiprocessing/process.py\", line 249, in _bootstrap\n",
      "    self.run()\n",
      "  File \"/Library/Frameworks/Python.framework/Versions/3.6/lib/python3.6/multiprocessing/process.py\", line 93, in run\n",
      "    self._target(*self._args, **self._kwargs)\n",
      "  File \"/Library/Frameworks/Python.framework/Versions/3.6/lib/python3.6/multiprocessing/process.py\", line 93, in run\n",
      "    self._target(*self._args, **self._kwargs)\n",
      "  File \"/Library/Frameworks/Python.framework/Versions/3.6/lib/python3.6/multiprocessing/process.py\", line 93, in run\n",
      "    self._target(*self._args, **self._kwargs)\n",
      "  File \"<ipython-input-6-d5e6fd566cc3>\", line 8, in evaluate_testing_policy\n",
      "    sim.configure_lockdown(post_lockdown_matrix, new_cases_threshold, new_cases_time_window)\n",
      "  File \"<ipython-input-6-d5e6fd566cc3>\", line 8, in evaluate_testing_policy\n",
      "    sim.configure_lockdown(post_lockdown_matrix, new_cases_threshold, new_cases_time_window)\n",
      "  File \"<ipython-input-6-d5e6fd566cc3>\", line 8, in evaluate_testing_policy\n",
      "    sim.configure_lockdown(post_lockdown_matrix, new_cases_threshold, new_cases_time_window)\n",
      "TypeError: configure_lockdown() missing 1 required positional argument: 'new_cases_time_window'\n",
      "TypeError: configure_lockdown() missing 1 required positional argument: 'new_cases_time_window'\n",
      "TypeError: configure_lockdown() missing 1 required positional argument: 'new_cases_time_window'\n",
      "Process Process-16:\n",
      "Traceback (most recent call last):\n",
      "  File \"/Library/Frameworks/Python.framework/Versions/3.6/lib/python3.6/multiprocessing/process.py\", line 249, in _bootstrap\n",
      "    self.run()\n"
     ]
    },
    {
     "name": "stderr",
     "output_type": "stream",
     "text": [
      "  File \"/Library/Frameworks/Python.framework/Versions/3.6/lib/python3.6/multiprocessing/process.py\", line 93, in run\n",
      "    self._target(*self._args, **self._kwargs)\n",
      "  File \"<ipython-input-6-d5e6fd566cc3>\", line 8, in evaluate_testing_policy\n",
      "    sim.configure_lockdown(post_lockdown_matrix, new_cases_threshold, new_cases_time_window)\n",
      "TypeError: configure_lockdown() missing 1 required positional argument: 'new_cases_time_window'\n",
      "Process Process-18:\n",
      "Traceback (most recent call last):\n",
      "  File \"/Library/Frameworks/Python.framework/Versions/3.6/lib/python3.6/multiprocessing/process.py\", line 249, in _bootstrap\n",
      "    self.run()\n",
      "  File \"/Library/Frameworks/Python.framework/Versions/3.6/lib/python3.6/multiprocessing/process.py\", line 93, in run\n",
      "    self._target(*self._args, **self._kwargs)\n",
      "  File \"<ipython-input-6-d5e6fd566cc3>\", line 8, in evaluate_testing_policy\n",
      "    sim.configure_lockdown(post_lockdown_matrix, new_cases_threshold, new_cases_time_window)\n",
      "TypeError: configure_lockdown() missing 1 required positional argument: 'new_cases_time_window'\n",
      "Process Process-20:\n",
      "Traceback (most recent call last):\n",
      "Process Process-17:\n",
      "Process Process-14:\n",
      "Process Process-19:\n",
      "Traceback (most recent call last):\n",
      "  File \"/Library/Frameworks/Python.framework/Versions/3.6/lib/python3.6/multiprocessing/process.py\", line 249, in _bootstrap\n",
      "    self.run()\n",
      "Traceback (most recent call last):\n",
      "Traceback (most recent call last):\n",
      "  File \"/Library/Frameworks/Python.framework/Versions/3.6/lib/python3.6/multiprocessing/process.py\", line 249, in _bootstrap\n",
      "    self.run()\n",
      "  File \"/Library/Frameworks/Python.framework/Versions/3.6/lib/python3.6/multiprocessing/process.py\", line 249, in _bootstrap\n",
      "    self.run()\n",
      "  File \"/Library/Frameworks/Python.framework/Versions/3.6/lib/python3.6/multiprocessing/process.py\", line 93, in run\n",
      "    self._target(*self._args, **self._kwargs)\n",
      "  File \"/Library/Frameworks/Python.framework/Versions/3.6/lib/python3.6/multiprocessing/process.py\", line 93, in run\n",
      "    self._target(*self._args, **self._kwargs)\n",
      "  File \"/Library/Frameworks/Python.framework/Versions/3.6/lib/python3.6/multiprocessing/process.py\", line 93, in run\n",
      "    self._target(*self._args, **self._kwargs)\n",
      "  File \"<ipython-input-6-d5e6fd566cc3>\", line 8, in evaluate_testing_policy\n",
      "    sim.configure_lockdown(post_lockdown_matrix, new_cases_threshold, new_cases_time_window)\n",
      "  File \"<ipython-input-6-d5e6fd566cc3>\", line 8, in evaluate_testing_policy\n",
      "    sim.configure_lockdown(post_lockdown_matrix, new_cases_threshold, new_cases_time_window)\n",
      "  File \"<ipython-input-6-d5e6fd566cc3>\", line 8, in evaluate_testing_policy\n",
      "    sim.configure_lockdown(post_lockdown_matrix, new_cases_threshold, new_cases_time_window)\n",
      "TypeError: configure_lockdown() missing 1 required positional argument: 'new_cases_time_window'\n",
      "TypeError: configure_lockdown() missing 1 required positional argument: 'new_cases_time_window'\n",
      "TypeError: configure_lockdown() missing 1 required positional argument: 'new_cases_time_window'\n",
      "  File \"/Library/Frameworks/Python.framework/Versions/3.6/lib/python3.6/multiprocessing/process.py\", line 249, in _bootstrap\n",
      "    self.run()\n",
      "Process Process-24:\n",
      "Process Process-23:\n",
      "Process Process-21:\n",
      "Process Process-27:\n",
      "Traceback (most recent call last):\n",
      "Traceback (most recent call last):\n",
      "Traceback (most recent call last):\n",
      "  File \"/Library/Frameworks/Python.framework/Versions/3.6/lib/python3.6/multiprocessing/process.py\", line 93, in run\n",
      "    self._target(*self._args, **self._kwargs)\n",
      "  File \"/Library/Frameworks/Python.framework/Versions/3.6/lib/python3.6/multiprocessing/process.py\", line 249, in _bootstrap\n",
      "    self.run()\n",
      "  File \"<ipython-input-6-d5e6fd566cc3>\", line 8, in evaluate_testing_policy\n",
      "    sim.configure_lockdown(post_lockdown_matrix, new_cases_threshold, new_cases_time_window)\n",
      "  File \"/Library/Frameworks/Python.framework/Versions/3.6/lib/python3.6/multiprocessing/process.py\", line 249, in _bootstrap\n",
      "    self.run()\n",
      "  File \"/Library/Frameworks/Python.framework/Versions/3.6/lib/python3.6/multiprocessing/process.py\", line 249, in _bootstrap\n",
      "    self.run()\n",
      "TypeError: configure_lockdown() missing 1 required positional argument: 'new_cases_time_window'\n",
      "  File \"/Library/Frameworks/Python.framework/Versions/3.6/lib/python3.6/multiprocessing/process.py\", line 93, in run\n",
      "    self._target(*self._args, **self._kwargs)\n",
      "  File \"<ipython-input-6-d5e6fd566cc3>\", line 8, in evaluate_testing_policy\n",
      "    sim.configure_lockdown(post_lockdown_matrix, new_cases_threshold, new_cases_time_window)\n",
      "TypeError: configure_lockdown() missing 1 required positional argument: 'new_cases_time_window'\n",
      "  File \"/Library/Frameworks/Python.framework/Versions/3.6/lib/python3.6/multiprocessing/process.py\", line 93, in run\n",
      "    self._target(*self._args, **self._kwargs)\n",
      "  File \"<ipython-input-6-d5e6fd566cc3>\", line 8, in evaluate_testing_policy\n",
      "    sim.configure_lockdown(post_lockdown_matrix, new_cases_threshold, new_cases_time_window)\n",
      "Traceback (most recent call last):\n",
      "  File \"/Library/Frameworks/Python.framework/Versions/3.6/lib/python3.6/multiprocessing/process.py\", line 249, in _bootstrap\n",
      "    self.run()\n",
      "TypeError: configure_lockdown() missing 1 required positional argument: 'new_cases_time_window'\n",
      "  File \"/Library/Frameworks/Python.framework/Versions/3.6/lib/python3.6/multiprocessing/process.py\", line 93, in run\n",
      "    self._target(*self._args, **self._kwargs)\n",
      "Process Process-26:\n",
      "Traceback (most recent call last):\n",
      "  File \"<ipython-input-6-d5e6fd566cc3>\", line 8, in evaluate_testing_policy\n",
      "    sim.configure_lockdown(post_lockdown_matrix, new_cases_threshold, new_cases_time_window)\n",
      "  File \"/Library/Frameworks/Python.framework/Versions/3.6/lib/python3.6/multiprocessing/process.py\", line 249, in _bootstrap\n",
      "    self.run()\n",
      "TypeError: configure_lockdown() missing 1 required positional argument: 'new_cases_time_window'\n",
      "  File \"/Library/Frameworks/Python.framework/Versions/3.6/lib/python3.6/multiprocessing/process.py\", line 93, in run\n",
      "    self._target(*self._args, **self._kwargs)\n",
      "  File \"<ipython-input-6-d5e6fd566cc3>\", line 8, in evaluate_testing_policy\n",
      "    sim.configure_lockdown(post_lockdown_matrix, new_cases_threshold, new_cases_time_window)\n",
      "TypeError: configure_lockdown() missing 1 required positional argument: 'new_cases_time_window'\n",
      "  File \"/Library/Frameworks/Python.framework/Versions/3.6/lib/python3.6/multiprocessing/process.py\", line 93, in run\n",
      "    self._target(*self._args, **self._kwargs)\n",
      "Process Process-22:\n",
      "  File \"<ipython-input-6-d5e6fd566cc3>\", line 8, in evaluate_testing_policy\n",
      "    sim.configure_lockdown(post_lockdown_matrix, new_cases_threshold, new_cases_time_window)\n",
      "TypeError: configure_lockdown() missing 1 required positional argument: 'new_cases_time_window'\n",
      "Traceback (most recent call last):\n",
      "  File \"/Library/Frameworks/Python.framework/Versions/3.6/lib/python3.6/multiprocessing/process.py\", line 249, in _bootstrap\n",
      "    self.run()\n",
      "  File \"/Library/Frameworks/Python.framework/Versions/3.6/lib/python3.6/multiprocessing/process.py\", line 93, in run\n",
      "    self._target(*self._args, **self._kwargs)\n",
      "  File \"<ipython-input-6-d5e6fd566cc3>\", line 8, in evaluate_testing_policy\n",
      "    sim.configure_lockdown(post_lockdown_matrix, new_cases_threshold, new_cases_time_window)\n",
      "TypeError: configure_lockdown() missing 1 required positional argument: 'new_cases_time_window'\n",
      "Process Process-28:\n",
      "Traceback (most recent call last):\n",
      "Process Process-31:\n",
      "Process Process-25:\n",
      "Traceback (most recent call last):\n",
      "  File \"/Library/Frameworks/Python.framework/Versions/3.6/lib/python3.6/multiprocessing/process.py\", line 249, in _bootstrap\n",
      "    self.run()\n",
      "Traceback (most recent call last):\n",
      "  File \"/Library/Frameworks/Python.framework/Versions/3.6/lib/python3.6/multiprocessing/process.py\", line 249, in _bootstrap\n",
      "    self.run()\n",
      "  File \"/Library/Frameworks/Python.framework/Versions/3.6/lib/python3.6/multiprocessing/process.py\", line 93, in run\n",
      "    self._target(*self._args, **self._kwargs)\n",
      "  File \"/Library/Frameworks/Python.framework/Versions/3.6/lib/python3.6/multiprocessing/process.py\", line 249, in _bootstrap\n",
      "    self.run()\n",
      "  File \"/Library/Frameworks/Python.framework/Versions/3.6/lib/python3.6/multiprocessing/process.py\", line 93, in run\n",
      "    self._target(*self._args, **self._kwargs)\n",
      "  File \"<ipython-input-6-d5e6fd566cc3>\", line 8, in evaluate_testing_policy\n",
      "    sim.configure_lockdown(post_lockdown_matrix, new_cases_threshold, new_cases_time_window)\n"
     ]
    },
    {
     "name": "stderr",
     "output_type": "stream",
     "text": [
      "  File \"/Library/Frameworks/Python.framework/Versions/3.6/lib/python3.6/multiprocessing/process.py\", line 93, in run\n",
      "    self._target(*self._args, **self._kwargs)\n",
      "TypeError: configure_lockdown() missing 1 required positional argument: 'new_cases_time_window'\n",
      "  File \"<ipython-input-6-d5e6fd566cc3>\", line 8, in evaluate_testing_policy\n",
      "    sim.configure_lockdown(post_lockdown_matrix, new_cases_threshold, new_cases_time_window)\n",
      "  File \"<ipython-input-6-d5e6fd566cc3>\", line 8, in evaluate_testing_policy\n",
      "    sim.configure_lockdown(post_lockdown_matrix, new_cases_threshold, new_cases_time_window)\n",
      "TypeError: configure_lockdown() missing 1 required positional argument: 'new_cases_time_window'\n",
      "TypeError: configure_lockdown() missing 1 required positional argument: 'new_cases_time_window'\n",
      "Process Process-33:\n",
      "Traceback (most recent call last):\n",
      "  File \"/Library/Frameworks/Python.framework/Versions/3.6/lib/python3.6/multiprocessing/process.py\", line 249, in _bootstrap\n",
      "    self.run()\n",
      "  File \"/Library/Frameworks/Python.framework/Versions/3.6/lib/python3.6/multiprocessing/process.py\", line 93, in run\n",
      "    self._target(*self._args, **self._kwargs)\n",
      "  File \"<ipython-input-6-d5e6fd566cc3>\", line 8, in evaluate_testing_policy\n",
      "    sim.configure_lockdown(post_lockdown_matrix, new_cases_threshold, new_cases_time_window)\n",
      "TypeError: configure_lockdown() missing 1 required positional argument: 'new_cases_time_window'\n",
      "Process Process-32:\n",
      "Traceback (most recent call last):\n",
      "Process Process-29:\n",
      "Process Process-34:\n",
      "  File \"/Library/Frameworks/Python.framework/Versions/3.6/lib/python3.6/multiprocessing/process.py\", line 249, in _bootstrap\n",
      "    self.run()\n",
      "Traceback (most recent call last):\n",
      "  File \"/Library/Frameworks/Python.framework/Versions/3.6/lib/python3.6/multiprocessing/process.py\", line 93, in run\n",
      "    self._target(*self._args, **self._kwargs)\n",
      "  File \"/Library/Frameworks/Python.framework/Versions/3.6/lib/python3.6/multiprocessing/process.py\", line 249, in _bootstrap\n",
      "    self.run()\n",
      "Traceback (most recent call last):\n",
      "  File \"<ipython-input-6-d5e6fd566cc3>\", line 8, in evaluate_testing_policy\n",
      "    sim.configure_lockdown(post_lockdown_matrix, new_cases_threshold, new_cases_time_window)\n",
      "  File \"/Library/Frameworks/Python.framework/Versions/3.6/lib/python3.6/multiprocessing/process.py\", line 249, in _bootstrap\n",
      "    self.run()\n",
      "  File \"/Library/Frameworks/Python.framework/Versions/3.6/lib/python3.6/multiprocessing/process.py\", line 93, in run\n",
      "    self._target(*self._args, **self._kwargs)\n",
      "  File \"/Library/Frameworks/Python.framework/Versions/3.6/lib/python3.6/multiprocessing/process.py\", line 93, in run\n",
      "    self._target(*self._args, **self._kwargs)\n",
      "  File \"<ipython-input-6-d5e6fd566cc3>\", line 8, in evaluate_testing_policy\n",
      "    sim.configure_lockdown(post_lockdown_matrix, new_cases_threshold, new_cases_time_window)\n",
      "TypeError: configure_lockdown() missing 1 required positional argument: 'new_cases_time_window'\n",
      "TypeError: configure_lockdown() missing 1 required positional argument: 'new_cases_time_window'\n",
      "  File \"<ipython-input-6-d5e6fd566cc3>\", line 8, in evaluate_testing_policy\n",
      "    sim.configure_lockdown(post_lockdown_matrix, new_cases_threshold, new_cases_time_window)\n",
      "TypeError: configure_lockdown() missing 1 required positional argument: 'new_cases_time_window'\n",
      "Process Process-30:\n",
      "Process Process-36:\n",
      "Traceback (most recent call last):\n",
      "Traceback (most recent call last):\n",
      "  File \"/Library/Frameworks/Python.framework/Versions/3.6/lib/python3.6/multiprocessing/process.py\", line 249, in _bootstrap\n",
      "    self.run()\n",
      "  File \"/Library/Frameworks/Python.framework/Versions/3.6/lib/python3.6/multiprocessing/process.py\", line 249, in _bootstrap\n",
      "    self.run()\n",
      "  File \"/Library/Frameworks/Python.framework/Versions/3.6/lib/python3.6/multiprocessing/process.py\", line 93, in run\n",
      "    self._target(*self._args, **self._kwargs)\n",
      "  File \"/Library/Frameworks/Python.framework/Versions/3.6/lib/python3.6/multiprocessing/process.py\", line 93, in run\n",
      "    self._target(*self._args, **self._kwargs)\n",
      "  File \"<ipython-input-6-d5e6fd566cc3>\", line 8, in evaluate_testing_policy\n",
      "    sim.configure_lockdown(post_lockdown_matrix, new_cases_threshold, new_cases_time_window)\n",
      "  File \"<ipython-input-6-d5e6fd566cc3>\", line 8, in evaluate_testing_policy\n",
      "    sim.configure_lockdown(post_lockdown_matrix, new_cases_threshold, new_cases_time_window)\n",
      "TypeError: configure_lockdown() missing 1 required positional argument: 'new_cases_time_window'\n",
      "TypeError: configure_lockdown() missing 1 required positional argument: 'new_cases_time_window'\n",
      "Process Process-45:\n",
      "Process Process-35:\n",
      "Traceback (most recent call last):\n"
     ]
    }
   ],
   "source": [
    "import multiprocessing, time, itertools\n",
    "\n",
    "# multiprocessing-tracking variables\n",
    "manager = multiprocessing.Manager()\n",
    "return_dict = manager.dict()\n",
    "procnum = 0\n",
    "procnum_to_params = {}\n",
    "params_to_procnum = {}\n",
    "jobs = []\n",
    "\n",
    "# parameters to be simulated across each subprocess\n",
    "test_policies = [[1/7,1/7,1/7,1/7,1/7,1/7,1/7,0]]\n",
    "post_lockdown_matrix = 0.1 * interaction_matrix\n",
    "new_cases_thresholds = [0.001, 0.004, 0.007, 0.01, 0.013, 0.016, 0.02] # total population is 95892\n",
    "new_cases_time_windows = [7, 14, 21, 28]\n",
    "interaction_matrix_multipliers = [0.7, 0.8, 0.9, 1, 1.1, 1.2, 1.3] # I am going to vary interaction matrix to get a sense of lockdown-sensitivity\n",
    "\n",
    "# additional sim parameters\n",
    "T = 112\n",
    "nreps = 5 # bump this up if error bars are too large\n",
    "\n",
    "# kick of new process for all combinations of above parameters\n",
    "\n",
    "start_time = time.time()\n",
    "\n",
    "for test_policy_idx, new_cases_thresh, new_cases_time, interaction_mult in itertools.product(\n",
    "                                                                                range(len(test_policies)),\n",
    "                                                                                new_cases_thresholds,\n",
    "                                                                                new_cases_time_windows,\n",
    "                                                                                interaction_matrix_multipliers):\n",
    "    \n",
    "    procnum_to_params[procnum] = (test_policy_idx, new_cases_thresh, new_cases_time, interaction_mult)\n",
    "    params_to_procnum[(test_policy_idx, new_cases_thresh, new_cases_time, interaction_mult)] = procnum\n",
    "    \n",
    "    test_policy = test_policies[test_policy_idx]\n",
    "    \n",
    "    p = multiprocessing.Process(target = evaluate_testing_policy,\n",
    "                               args = (get_params_list_copy(),\n",
    "                                      interaction_mult * interaction_matrix,\n",
    "                                      group_names,\n",
    "                                      test_policy,\n",
    "                                      T, \n",
    "                                      nreps,\n",
    "                                      post_lockdown_matrix,\n",
    "                                      new_cases_thresh,\n",
    "                                      new_cases_time,\n",
    "                                      procnum,\n",
    "                                      return_dict))\n",
    "    \n",
    "    jobs.append(p)\n",
    "    p.start()\n",
    "    procnum += 1\n",
    "\n",
    "print(\"Running simulations across {} processes\".format(len(jobs)))\n",
    "for proc in jobs:\n",
    "    proc.join()\n",
    "end_time = time.time()\n",
    "print(\"Done running simulations. Elapsed time {:.2f} seconds\".format(end_time - start_time))\n"
   ]
  },
  {
   "cell_type": "markdown",
   "metadata": {},
   "source": [
    "# below here is scrap and old code"
   ]
  },
  {
   "cell_type": "code",
   "execution_count": null,
   "metadata": {
    "collapsed": true
   },
   "outputs": [],
   "source": []
  },
  {
   "cell_type": "code",
   "execution_count": null,
   "metadata": {
    "collapsed": true
   },
   "outputs": [],
   "source": []
  },
  {
   "cell_type": "code",
   "execution_count": 19,
   "metadata": {},
   "outputs": [
    {
     "ename": "TypeError",
     "evalue": "unhashable type: 'list'",
     "output_type": "error",
     "traceback": [
      "\u001b[0;31m---------------------------------------------------------------------------\u001b[0m",
      "\u001b[0;31mTypeError\u001b[0m                                 Traceback (most recent call last)",
      "\u001b[0;32m<ipython-input-19-b9a93419b874>\u001b[0m in \u001b[0;36m<module>\u001b[0;34m()\u001b[0m\n\u001b[1;32m      4\u001b[0m \u001b[0mlist\u001b[0m\u001b[0;34m(\u001b[0m\u001b[0mitertools\u001b[0m\u001b[0;34m.\u001b[0m\u001b[0mproduct\u001b[0m\u001b[0;34m(\u001b[0m\u001b[0ma\u001b[0m\u001b[0;34m,\u001b[0m\u001b[0mb\u001b[0m\u001b[0;34m)\u001b[0m\u001b[0;34m)\u001b[0m\u001b[0;34m\u001b[0m\u001b[0m\n\u001b[1;32m      5\u001b[0m \u001b[0mc\u001b[0m \u001b[0;34m=\u001b[0m \u001b[0;34m{\u001b[0m\u001b[0;34m}\u001b[0m\u001b[0;34m\u001b[0m\u001b[0m\n\u001b[0;32m----> 6\u001b[0;31m \u001b[0mc\u001b[0m\u001b[0;34m[\u001b[0m\u001b[0;34m(\u001b[0m\u001b[0;34m[\u001b[0m\u001b[0;36m1\u001b[0m\u001b[0;34m]\u001b[0m\u001b[0;34m,\u001b[0m\u001b[0;36m1\u001b[0m\u001b[0;34m)\u001b[0m\u001b[0;34m]\u001b[0m \u001b[0;34m=\u001b[0m \u001b[0;36m23\u001b[0m\u001b[0;34m\u001b[0m\u001b[0m\n\u001b[0m",
      "\u001b[0;31mTypeError\u001b[0m: unhashable type: 'list'"
     ]
    }
   ],
   "source": [
    "a = [[1],[2]]\n",
    "b = [1,2]\n",
    "import itertools\n",
    "list(itertools.product(a,b))\n",
    "c = {}\n",
    "c[([1],1)] = 23"
   ]
  },
  {
   "cell_type": "code",
   "execution_count": null,
   "metadata": {
    "collapsed": true
   },
   "outputs": [],
   "source": []
  },
  {
   "cell_type": "code",
   "execution_count": null,
   "metadata": {
    "collapsed": true
   },
   "outputs": [],
   "source": []
  },
  {
   "cell_type": "code",
   "execution_count": null,
   "metadata": {
    "collapsed": true
   },
   "outputs": [],
   "source": []
  },
  {
   "cell_type": "code",
   "execution_count": 11,
   "metadata": {
    "collapsed": true
   },
   "outputs": [],
   "source": [
    "sim = MultiGroupSimulation(params_list, interaction_matrix)"
   ]
  },
  {
   "cell_type": "code",
   "execution_count": 12,
   "metadata": {
    "collapsed": true
   },
   "outputs": [],
   "source": [
    "lockdown_statuses, sim_df = sim.run_new_trajectory(10)"
   ]
  },
  {
   "cell_type": "code",
   "execution_count": 14,
   "metadata": {},
   "outputs": [
    {
     "data": {
      "text/plain": [
       "0     0.108455\n",
       "1     0.117841\n",
       "2     0.135569\n",
       "3     0.154340\n",
       "4     0.164769\n",
       "5     0.178326\n",
       "6     0.191883\n",
       "7     0.206482\n",
       "8     0.223168\n",
       "9     0.245067\n",
       "10    0.271138\n",
       "dtype: float64"
      ]
     },
     "execution_count": 14,
     "metadata": {},
     "output_type": "execute_result"
    }
   ],
   "source": [
    "popsize = sim.get_total_population()\n",
    "infection_counts = sim_df[['S', 'QS']].apply(lambda x: (popsize - sum(x)) / popsize * 100, axis=1)\n",
    "infection_counts"
   ]
  },
  {
   "cell_type": "code",
   "execution_count": 15,
   "metadata": {},
   "outputs": [
    {
     "data": {
      "text/plain": [
       "[0.10845534559713012,\n",
       " 0.1178409043507279,\n",
       " 0.13556918199641263,\n",
       " 0.15434029950360822,\n",
       " 0.1647686981187169,\n",
       " 0.17832561631835814,\n",
       " 0.19188253451799941,\n",
       " 0.20648229257915154,\n",
       " 0.2231677303633254,\n",
       " 0.24506736745505361,\n",
       " 0.27113836399282526]"
      ]
     },
     "execution_count": 15,
     "metadata": {},
     "output_type": "execute_result"
    }
   ],
   "source": [
    "list(infection_counts)"
   ]
  },
  {
   "cell_type": "code",
   "execution_count": 10,
   "metadata": {},
   "outputs": [
    {
     "name": "stdout",
     "output_type": "stream",
     "text": [
      "Evaluating this policy:  [0.14285714285714285, 0.14285714285714285, 0.14285714285714285, 0.14285714285714285, 0.14285714285714285, 0.14285714285714285, 0.14285714285714285, 0]\n",
      "> <ipython-input-9-07e74144e0b8>(18)evaluate_testing_policy()\n",
      "-> inf_matrix, hosp_matrix = run_multiple_trajectories(sim, T, n)\n",
      "(Pdb) sim.get_total_population()\n",
      "95892\n",
      "(Pdb) exit()\n"
     ]
    },
    {
     "ename": "BdbQuit",
     "evalue": "",
     "output_type": "error",
     "traceback": [
      "\u001b[0;31m---------------------------------------------------------------------------\u001b[0m",
      "\u001b[0;31mBdbQuit\u001b[0m                                   Traceback (most recent call last)",
      "\u001b[0;32m<ipython-input-10-82a8e9d86edd>\u001b[0m in \u001b[0;36m<module>\u001b[0;34m()\u001b[0m\n\u001b[1;32m      3\u001b[0m     \u001b[0mprint\u001b[0m\u001b[0;34m(\u001b[0m\u001b[0;34m'Evaluating this policy: '\u001b[0m\u001b[0;34m,\u001b[0m \u001b[0mpolicy\u001b[0m\u001b[0;34m)\u001b[0m\u001b[0;34m\u001b[0m\u001b[0m\n\u001b[1;32m      4\u001b[0m     \u001b[0mparams_list\u001b[0m \u001b[0;34m=\u001b[0m \u001b[0;34m[\u001b[0m\u001b[0mug_dorm_params\u001b[0m\u001b[0;34m.\u001b[0m\u001b[0mcopy\u001b[0m\u001b[0;34m(\u001b[0m\u001b[0;34m)\u001b[0m\u001b[0;34m,\u001b[0m \u001b[0mug_off_campus_params\u001b[0m\u001b[0;34m.\u001b[0m\u001b[0mcopy\u001b[0m\u001b[0;34m(\u001b[0m\u001b[0;34m)\u001b[0m\u001b[0;34m,\u001b[0m \u001b[0mgs_research_params\u001b[0m\u001b[0;34m.\u001b[0m\u001b[0mcopy\u001b[0m\u001b[0;34m(\u001b[0m\u001b[0;34m)\u001b[0m\u001b[0;34m,\u001b[0m \u001b[0mgs_other_params\u001b[0m\u001b[0;34m.\u001b[0m\u001b[0mcopy\u001b[0m\u001b[0;34m(\u001b[0m\u001b[0;34m)\u001b[0m\u001b[0;34m,\u001b[0m \u001b[0mfaculty_staff_student_params\u001b[0m\u001b[0;34m.\u001b[0m\u001b[0mcopy\u001b[0m\u001b[0;34m(\u001b[0m\u001b[0;34m)\u001b[0m\u001b[0;34m,\u001b[0m \u001b[0mfaculty_staff_non_student_params\u001b[0m\u001b[0;34m.\u001b[0m\u001b[0mcopy\u001b[0m\u001b[0;34m(\u001b[0m\u001b[0;34m)\u001b[0m\u001b[0;34m,\u001b[0m \u001b[0mfaculty_staff_off_campus_params\u001b[0m\u001b[0;34m.\u001b[0m\u001b[0mcopy\u001b[0m\u001b[0;34m(\u001b[0m\u001b[0;34m)\u001b[0m\u001b[0;34m,\u001b[0m \u001b[0mithaca_community_params\u001b[0m\u001b[0;34m.\u001b[0m\u001b[0mcopy\u001b[0m\u001b[0;34m(\u001b[0m\u001b[0;34m)\u001b[0m\u001b[0;34m]\u001b[0m\u001b[0;34m\u001b[0m\u001b[0m\n\u001b[0;32m----> 5\u001b[0;31m     \u001b[0mtests_per_day\u001b[0m\u001b[0;34m,\u001b[0m \u001b[0minf_matrix\u001b[0m\u001b[0;34m,\u001b[0m \u001b[0mhosp_matrix\u001b[0m \u001b[0;34m=\u001b[0m \u001b[0mevaluate_testing_policy\u001b[0m\u001b[0;34m(\u001b[0m\u001b[0mparams_list\u001b[0m\u001b[0;34m,\u001b[0m \u001b[0minteraction_matrix\u001b[0m\u001b[0;34m,\u001b[0m \u001b[0mgroup_names\u001b[0m\u001b[0;34m,\u001b[0m \u001b[0mpolicy\u001b[0m\u001b[0;34m,\u001b[0m \u001b[0;36m112\u001b[0m\u001b[0;34m,\u001b[0m \u001b[0;36m5\u001b[0m\u001b[0;34m)\u001b[0m\u001b[0;34m\u001b[0m\u001b[0m\n\u001b[0m\u001b[1;32m      6\u001b[0m     \u001b[0mtesting_results\u001b[0m\u001b[0;34m.\u001b[0m\u001b[0mappend\u001b[0m\u001b[0;34m(\u001b[0m\u001b[0;34m{\u001b[0m\u001b[0;34m'test_policy'\u001b[0m\u001b[0;34m:\u001b[0m \u001b[0mpolicy\u001b[0m\u001b[0;34m,\u001b[0m \u001b[0;34m'tests_per_day'\u001b[0m\u001b[0;34m:\u001b[0m \u001b[0mtests_per_day\u001b[0m\u001b[0;34m,\u001b[0m \u001b[0;34m'inf_matrix'\u001b[0m\u001b[0;34m:\u001b[0m \u001b[0minf_matrix\u001b[0m\u001b[0;34m,\u001b[0m \u001b[0;34m'hosp_matrix'\u001b[0m\u001b[0;34m:\u001b[0m \u001b[0mhosp_matrix\u001b[0m\u001b[0;34m}\u001b[0m\u001b[0;34m)\u001b[0m\u001b[0;34m\u001b[0m\u001b[0m\n",
      "\u001b[0;32m<ipython-input-9-07e74144e0b8>\u001b[0m in \u001b[0;36mevaluate_testing_policy\u001b[0;34m(params_list, interaction_matrix, group_names, test_frac, T, n)\u001b[0m\n\u001b[1;32m     16\u001b[0m     \u001b[0msim\u001b[0m \u001b[0;34m=\u001b[0m \u001b[0mMultiGroupSimulation\u001b[0m\u001b[0;34m(\u001b[0m\u001b[0mparams_list\u001b[0m\u001b[0;34m,\u001b[0m \u001b[0minteraction_matrix\u001b[0m\u001b[0;34m,\u001b[0m \u001b[0mgroup_names\u001b[0m\u001b[0;34m)\u001b[0m\u001b[0;34m\u001b[0m\u001b[0m\n\u001b[1;32m     17\u001b[0m     \u001b[0;32mimport\u001b[0m \u001b[0mpdb\u001b[0m\u001b[0;34m;\u001b[0m \u001b[0mpdb\u001b[0m\u001b[0;34m.\u001b[0m\u001b[0mset_trace\u001b[0m\u001b[0;34m(\u001b[0m\u001b[0;34m)\u001b[0m\u001b[0;34m\u001b[0m\u001b[0m\n\u001b[0;32m---> 18\u001b[0;31m     \u001b[0minf_matrix\u001b[0m\u001b[0;34m,\u001b[0m \u001b[0mhosp_matrix\u001b[0m \u001b[0;34m=\u001b[0m \u001b[0mrun_multiple_trajectories\u001b[0m\u001b[0;34m(\u001b[0m\u001b[0msim\u001b[0m\u001b[0;34m,\u001b[0m \u001b[0mT\u001b[0m\u001b[0;34m,\u001b[0m \u001b[0mn\u001b[0m\u001b[0;34m)\u001b[0m\u001b[0;34m\u001b[0m\u001b[0m\n\u001b[0m\u001b[1;32m     19\u001b[0m     \u001b[0;32mreturn\u001b[0m \u001b[0mtests_per_day\u001b[0m\u001b[0;34m,\u001b[0m \u001b[0minf_matrix\u001b[0m\u001b[0;34m,\u001b[0m \u001b[0mhosp_matrix\u001b[0m\u001b[0;34m\u001b[0m\u001b[0m\n",
      "\u001b[0;32m<ipython-input-9-07e74144e0b8>\u001b[0m in \u001b[0;36mevaluate_testing_policy\u001b[0;34m(params_list, interaction_matrix, group_names, test_frac, T, n)\u001b[0m\n\u001b[1;32m     16\u001b[0m     \u001b[0msim\u001b[0m \u001b[0;34m=\u001b[0m \u001b[0mMultiGroupSimulation\u001b[0m\u001b[0;34m(\u001b[0m\u001b[0mparams_list\u001b[0m\u001b[0;34m,\u001b[0m \u001b[0minteraction_matrix\u001b[0m\u001b[0;34m,\u001b[0m \u001b[0mgroup_names\u001b[0m\u001b[0;34m)\u001b[0m\u001b[0;34m\u001b[0m\u001b[0m\n\u001b[1;32m     17\u001b[0m     \u001b[0;32mimport\u001b[0m \u001b[0mpdb\u001b[0m\u001b[0;34m;\u001b[0m \u001b[0mpdb\u001b[0m\u001b[0;34m.\u001b[0m\u001b[0mset_trace\u001b[0m\u001b[0;34m(\u001b[0m\u001b[0;34m)\u001b[0m\u001b[0;34m\u001b[0m\u001b[0m\n\u001b[0;32m---> 18\u001b[0;31m     \u001b[0minf_matrix\u001b[0m\u001b[0;34m,\u001b[0m \u001b[0mhosp_matrix\u001b[0m \u001b[0;34m=\u001b[0m \u001b[0mrun_multiple_trajectories\u001b[0m\u001b[0;34m(\u001b[0m\u001b[0msim\u001b[0m\u001b[0;34m,\u001b[0m \u001b[0mT\u001b[0m\u001b[0;34m,\u001b[0m \u001b[0mn\u001b[0m\u001b[0;34m)\u001b[0m\u001b[0;34m\u001b[0m\u001b[0m\n\u001b[0m\u001b[1;32m     19\u001b[0m     \u001b[0;32mreturn\u001b[0m \u001b[0mtests_per_day\u001b[0m\u001b[0;34m,\u001b[0m \u001b[0minf_matrix\u001b[0m\u001b[0;34m,\u001b[0m \u001b[0mhosp_matrix\u001b[0m\u001b[0;34m\u001b[0m\u001b[0m\n",
      "\u001b[0;32m~/anaconda3/lib/python3.6/bdb.py\u001b[0m in \u001b[0;36mtrace_dispatch\u001b[0;34m(self, frame, event, arg)\u001b[0m\n\u001b[1;32m     46\u001b[0m             \u001b[0;32mreturn\u001b[0m \u001b[0;31m# None\u001b[0m\u001b[0;34m\u001b[0m\u001b[0m\n\u001b[1;32m     47\u001b[0m         \u001b[0;32mif\u001b[0m \u001b[0mevent\u001b[0m \u001b[0;34m==\u001b[0m \u001b[0;34m'line'\u001b[0m\u001b[0;34m:\u001b[0m\u001b[0;34m\u001b[0m\u001b[0m\n\u001b[0;32m---> 48\u001b[0;31m             \u001b[0;32mreturn\u001b[0m \u001b[0mself\u001b[0m\u001b[0;34m.\u001b[0m\u001b[0mdispatch_line\u001b[0m\u001b[0;34m(\u001b[0m\u001b[0mframe\u001b[0m\u001b[0;34m)\u001b[0m\u001b[0;34m\u001b[0m\u001b[0m\n\u001b[0m\u001b[1;32m     49\u001b[0m         \u001b[0;32mif\u001b[0m \u001b[0mevent\u001b[0m \u001b[0;34m==\u001b[0m \u001b[0;34m'call'\u001b[0m\u001b[0;34m:\u001b[0m\u001b[0;34m\u001b[0m\u001b[0m\n\u001b[1;32m     50\u001b[0m             \u001b[0;32mreturn\u001b[0m \u001b[0mself\u001b[0m\u001b[0;34m.\u001b[0m\u001b[0mdispatch_call\u001b[0m\u001b[0;34m(\u001b[0m\u001b[0mframe\u001b[0m\u001b[0;34m,\u001b[0m \u001b[0marg\u001b[0m\u001b[0;34m)\u001b[0m\u001b[0;34m\u001b[0m\u001b[0m\n",
      "\u001b[0;32m~/anaconda3/lib/python3.6/bdb.py\u001b[0m in \u001b[0;36mdispatch_line\u001b[0;34m(self, frame)\u001b[0m\n\u001b[1;32m     65\u001b[0m         \u001b[0;32mif\u001b[0m \u001b[0mself\u001b[0m\u001b[0;34m.\u001b[0m\u001b[0mstop_here\u001b[0m\u001b[0;34m(\u001b[0m\u001b[0mframe\u001b[0m\u001b[0;34m)\u001b[0m \u001b[0;32mor\u001b[0m \u001b[0mself\u001b[0m\u001b[0;34m.\u001b[0m\u001b[0mbreak_here\u001b[0m\u001b[0;34m(\u001b[0m\u001b[0mframe\u001b[0m\u001b[0;34m)\u001b[0m\u001b[0;34m:\u001b[0m\u001b[0;34m\u001b[0m\u001b[0m\n\u001b[1;32m     66\u001b[0m             \u001b[0mself\u001b[0m\u001b[0;34m.\u001b[0m\u001b[0muser_line\u001b[0m\u001b[0;34m(\u001b[0m\u001b[0mframe\u001b[0m\u001b[0;34m)\u001b[0m\u001b[0;34m\u001b[0m\u001b[0m\n\u001b[0;32m---> 67\u001b[0;31m             \u001b[0;32mif\u001b[0m \u001b[0mself\u001b[0m\u001b[0;34m.\u001b[0m\u001b[0mquitting\u001b[0m\u001b[0;34m:\u001b[0m \u001b[0;32mraise\u001b[0m \u001b[0mBdbQuit\u001b[0m\u001b[0;34m\u001b[0m\u001b[0m\n\u001b[0m\u001b[1;32m     68\u001b[0m         \u001b[0;32mreturn\u001b[0m \u001b[0mself\u001b[0m\u001b[0;34m.\u001b[0m\u001b[0mtrace_dispatch\u001b[0m\u001b[0;34m\u001b[0m\u001b[0m\n\u001b[1;32m     69\u001b[0m \u001b[0;34m\u001b[0m\u001b[0m\n",
      "\u001b[0;31mBdbQuit\u001b[0m: "
     ]
    }
   ],
   "source": [
    "testing_results = list()\n",
    "for policy in [[1/7,1/7,1/7,1/7,1/7,1/7,1/7,0]]:\n",
    "    print('Evaluating this policy: ', policy)\n",
    "    params_list = [ug_dorm_params.copy(), ug_off_campus_params.copy(), gs_research_params.copy(), gs_other_params.copy(), faculty_staff_student_params.copy(), faculty_staff_non_student_params.copy(), faculty_staff_off_campus_params.copy(), ithaca_community_params.copy()]\n",
    "    tests_per_day, inf_matrix, hosp_matrix = evaluate_testing_policy(params_list, interaction_matrix, group_names, policy, 112, 5)\n",
    "    testing_results.append({'test_policy': policy, 'tests_per_day': tests_per_day, 'inf_matrix': inf_matrix, 'hosp_matrix': hosp_matrix})"
   ]
  },
  {
   "cell_type": "code",
   "execution_count": null,
   "metadata": {
    "collapsed": true
   },
   "outputs": [],
   "source": []
  },
  {
   "cell_type": "code",
   "execution_count": null,
   "metadata": {
    "collapsed": true
   },
   "outputs": [],
   "source": []
  },
  {
   "cell_type": "code",
   "execution_count": null,
   "metadata": {
    "collapsed": true
   },
   "outputs": [],
   "source": []
  },
  {
   "cell_type": "code",
   "execution_count": null,
   "metadata": {
    "collapsed": true
   },
   "outputs": [],
   "source": []
  },
  {
   "cell_type": "code",
   "execution_count": null,
   "metadata": {
    "collapsed": true
   },
   "outputs": [],
   "source": []
  },
  {
   "cell_type": "code",
   "execution_count": null,
   "metadata": {
    "collapsed": true
   },
   "outputs": [],
   "source": []
  },
  {
   "cell_type": "code",
   "execution_count": null,
   "metadata": {
    "collapsed": true
   },
   "outputs": [],
   "source": []
  },
  {
   "cell_type": "code",
   "execution_count": 7,
   "metadata": {
    "collapsed": true
   },
   "outputs": [],
   "source": [
    "def generate_plotting_matrix(results_list):\n",
    "    daily_tests = list()\n",
    "    inf = list()\n",
    "    inf_low = list()\n",
    "    inf_high = list()\n",
    "    hosp = list()\n",
    "    hosp_low = list()\n",
    "    hosp_high = list()\n",
    "    cornell_inf = list()\n",
    "    cornell_inf_low = list()\n",
    "    cornell_inf_high = list()\n",
    "    cornell_hosp = list()\n",
    "    cornell_hosp_low = list()\n",
    "    cornell_hosp_high = list()\n",
    "\n",
    "    policy_ug_dorm = list()\n",
    "    policy_ug_off_campus = list()\n",
    "    policy_grad_research = list()\n",
    "    policy_grad_other = list()\n",
    "    policy_staff_student = list()\n",
    "    policy_staff_non_student = list()\n",
    "    policy_staff_off_campus = list()\n",
    "    \n",
    "    policies = list()\n",
    "    \n",
    "    for policy_dict in results_list:\n",
    "        daily_tests.append(policy_dict['tests_per_day'])\n",
    "        inf.append(np.quantile(np.sum(policy_dict['inf_matrix'], axis=1), 0.5, axis=0))\n",
    "        inf_low.append(np.quantile(np.sum(policy_dict['inf_matrix'], axis=1), 0.1, axis=0))\n",
    "        inf_high.append(np.quantile(np.sum(policy_dict['inf_matrix'], axis=1), 0.9, axis=0))\n",
    "        hosp.append(np.quantile(np.sum(policy_dict['hosp_matrix'], axis=1), 0.5, axis=0))\n",
    "        hosp_low.append(np.quantile(np.sum(policy_dict['hosp_matrix'], axis=1), 0.1, axis=0))\n",
    "        hosp_high.append(np.quantile(np.sum(policy_dict['hosp_matrix'], axis=1), 0.9, axis=0))\n",
    "\n",
    "        cornell_inf.append(np.quantile(np.sum(np.array(policy_dict['inf_matrix'])[:,:-1], axis=1), 0.5, axis=0))\n",
    "        cornell_inf_low.append(np.quantile(np.sum(np.array(policy_dict['inf_matrix'])[:,:-1], axis=1), 0.1, axis=0))\n",
    "        cornell_inf_high.append(np.quantile(np.sum(np.array(policy_dict['inf_matrix'])[:,:-1], axis=1), 0.9, axis=0))\n",
    "        cornell_hosp.append(np.quantile(np.sum(np.array(policy_dict['hosp_matrix'])[:,:-1], axis=1), 0.5, axis=0))\n",
    "        cornell_hosp_low.append(np.quantile(np.sum(np.array(policy_dict['hosp_matrix'])[:,:-1], axis=1), 0.1, axis=0))\n",
    "        cornell_hosp_high.append(np.quantile(np.sum(np.array(policy_dict['hosp_matrix'])[:,:-1], axis=1), 0.9, axis=0))\n",
    "\n",
    "        policy_ug_dorm.append(int(policy_dict['test_policy'][0]*7))\n",
    "        policy_ug_off_campus.append(int(policy_dict['test_policy'][1]*7))\n",
    "        policy_grad_research.append(int(policy_dict['test_policy'][2]*7))\n",
    "        policy_grad_other.append(int(policy_dict['test_policy'][3]*7))\n",
    "        policy_staff_student.append(int(policy_dict['test_policy'][4]*7))\n",
    "        policy_staff_non_student.append(int(policy_dict['test_policy'][5]*7))\n",
    "        policy_staff_off_campus.append(policy_dict['test_policy'][6]*7)\n",
    "        \n",
    "        test_policy_string = '['\n",
    "        for frequency in policy_dict['test_policy'][:-2]:\n",
    "            test_policy_string += str(int(frequency * 7)) + ','\n",
    "        test_policy_string += str(np.round(policy[-2] * 7, 2))\n",
    "        test_policy_string += ']'\n",
    "        policies.append(test_policy_string)\n",
    "\n",
    "    plotting_data = pd.DataFrame({'daily_tests': daily_tests, 'inf': inf, 'inf_low': inf_low, 'inf_high': inf_high, 'hosp': hosp,\n",
    "                  'hosp_low': hosp_low, 'hosp_high': hosp_high, 'cornell_inf': cornell_inf, 'cornell_inf_low': cornell_inf_low,\n",
    "                  'cornell_inf_high': cornell_inf_high, 'cornell_hosp': cornell_hosp, 'cornell_hosp_low': cornell_hosp_low,\n",
    "                  'cornell_hosp_high': cornell_hosp_high, 'test_policy_ug_dorm': policy_ug_dorm,\n",
    "                  'test_policy_ug_off_campus': policy_ug_off_campus,\n",
    "                  'test_policy_grad_research': policy_grad_research, 'test_policy_grad_other': policy_grad_other,\n",
    "                  'test_policy_staff_student': policy_staff_student,\n",
    "                  'test_policy_staff_non_student': policy_staff_non_student,\n",
    "                  'test_policy_staff_off_campus': policy_staff_off_campus,\n",
    "                  'test_policy': policies})\n",
    "\n",
    "    plotting_data['inf_yerr_low'] = plotting_data['inf'] - plotting_data['inf_low']\n",
    "    plotting_data['inf_yerr_high'] = plotting_data['inf_high'] - plotting_data['inf']\n",
    "    plotting_data['hosp_yerr_low'] = plotting_data['hosp'] - plotting_data['hosp_low']\n",
    "    plotting_data['hosp_yerr_high'] = plotting_data['hosp_high'] - plotting_data['hosp']\n",
    "    plotting_data['cornell_inf_yerr_low'] = plotting_data['cornell_inf'] - plotting_data['cornell_inf_low']\n",
    "    plotting_data['cornell_inf_yerr_high'] = plotting_data['cornell_inf_high'] - plotting_data['cornell_inf']\n",
    "    plotting_data['cornell_hosp_yerr_low'] = plotting_data['cornell_hosp'] - plotting_data['cornell_hosp_low']\n",
    "    plotting_data['cornell_hosp_yerr_high'] = plotting_data['cornell_hosp_high'] - plotting_data['cornell_hosp']\n",
    "    return plotting_data"
   ]
  },
  {
   "cell_type": "code",
   "execution_count": 8,
   "metadata": {
    "collapsed": true
   },
   "outputs": [],
   "source": [
    "def plot_policy_performance(plotting_data):\n",
    "    fig = plt.figure(figsize=(10,6))\n",
    "    ax = fig.add_subplot(111)\n",
    "    plt.errorbar(x='daily_tests', y='inf', yerr = [plotting_data['inf_yerr_low'],plotting_data['inf_yerr_high']], fmt='o', data=plotting_data, label='baseline')\n",
    "    plt.scatter(x=plotting_data['daily_tests'][7], y=plotting_data['inf'][7],c='orange',s=150,alpha=0.5, label='recommended policy')\n",
    "    # text_x = [300, -1000, -1250, -500, -500, 0, 0, -200, 0]\n",
    "    # text_y = [0, 1500, -1000, 1000, -1500, 500, 600, 450, -700]\n",
    "    # for index in range(len(text_x)):\n",
    "    #     plt.annotate(plotting_data['test_policy'][index], xy = (plotting_data['daily_tests'][index], plotting_data['inf'][index]), xycoords = 'data', xytext=(plotting_data['daily_tests'][index] + text_x[index], plotting_data['inf'][index] + text_y[index]), textcoords = 'data', arrowprops=dict(arrowstyle=\"->\", connectionstyle=\"arc3\"))\n",
    "    plt.title('Infections vs. Daily tests for various policies')\n",
    "    plt.ylabel('Infections')\n",
    "    plt.xlabel('Daily Tests')\n",
    "    plt.legend()\n",
    "    plt.show()\n",
    "\n",
    "    plt.figure(figsize=(10,6))\n",
    "    plt.errorbar(x='daily_tests', y='hosp', yerr = [plotting_data['hosp_yerr_low'],plotting_data['hosp_yerr_high']], fmt='o', data=plotting_data, label='baseline')\n",
    "    plt.scatter(x=plotting_data['daily_tests'][7], y=plotting_data['hosp'][7],c='orange',s=150,alpha=0.5, label='recommended policy')\n",
    "    # text_x = [300, -1000, -1250, -500, -500, 0, 0, -200, 0]\n",
    "    # text_y = [0, 15, -10, 12, -15, 7, 7, 4.5, -7]\n",
    "    # for index in range(len(text_x)):\n",
    "    #     plt.annotate(plotting_data['test_policy'][index], xy = (plotting_data['daily_tests'][index], plotting_data['hosp'][index]), xycoords = 'data', xytext=(plotting_data['daily_tests'][index] + text_x[index], plotting_data['hosp'][index] + text_y[index]), textcoords = 'data', arrowprops=dict(arrowstyle=\"->\", connectionstyle=\"arc3\"))\n",
    "    plt.title('Hospitalizations vs. Daily tests for various policies')\n",
    "    plt.ylabel('Hospitalizations')\n",
    "    plt.xlabel('Daily Tests')\n",
    "    plt.legend()\n",
    "    plt.show()\n",
    "\n",
    "    plt.figure(figsize=(10,6))\n",
    "    plt.errorbar(x='daily_tests', y='cornell_inf', yerr = [plotting_data['cornell_inf_yerr_low'],plotting_data['cornell_inf_yerr_high']], fmt='o', data=plotting_data, label='baseline')\n",
    "    plt.scatter(x=plotting_data['daily_tests'][7], y=plotting_data['cornell_inf'][7],c='orange',s=150,alpha=0.5, label='recommended policy')\n",
    "    # text_x = [300, -1000, -1250, -500, -500, 0, 0, -200, 0]\n",
    "    # text_y = [0, 1500, -1000, 1000, -1500, 500, 600, 450, -700]\n",
    "    # for index in range(len(text_x)):\n",
    "    #     plt.annotate(plotting_data['test_policy'][index], xy = (plotting_data['daily_tests'][index], plotting_data['cornell_inf'][index]), xycoords = 'data', xytext=(plotting_data['daily_tests'][index] + text_x[index], plotting_data['cornell_inf'][index] + text_y[index]), textcoords = 'data', arrowprops=dict(arrowstyle=\"->\", connectionstyle=\"arc3\"))\n",
    "    plt.title('Cornell Infections vs. Daily tests for various policies')\n",
    "    plt.ylabel('Cornell Infections')\n",
    "    plt.xlabel('Daily Tests')\n",
    "    plt.legend()\n",
    "    plt.show()\n",
    "\n",
    "\n",
    "    plt.figure(figsize=(10,6))\n",
    "    plt.errorbar(x='daily_tests', y='cornell_hosp', yerr = [plotting_data['cornell_hosp_yerr_low'],plotting_data['cornell_hosp_yerr_high']], fmt='o', data=plotting_data, label='baseline')\n",
    "    plt.scatter(x=plotting_data['daily_tests'][7], y=plotting_data['cornell_hosp'][7],c='orange',s=150,alpha=0.5, label='recommended policy')\n",
    "    # text_x = [300, -1000, -1250, -500, -500, 0, 0, -200, 0]\n",
    "    # text_y = [0, 15, -10, 12, -15, 7, 7, 4.5, -7]\n",
    "    # for index in range(len(text_x)):\n",
    "    #     plt.annotate(plotting_data['test_policy'][index], xy = (plotting_data['daily_tests'][index], plotting_data['cornell_hosp'][index]), xycoords = 'data', xytext=(plotting_data['daily_tests'][index] + text_x[index], plotting_data['cornell_hosp'][index] + text_y[index]), textcoords = 'data', arrowprops=dict(arrowstyle=\"->\", connectionstyle=\"arc3\"))\n",
    "    plt.title('Cornell Hospitalizations vs. Daily tests for various policies')\n",
    "    plt.ylabel('Cornell Hospitalizations')\n",
    "    plt.xlabel('Daily Tests')\n",
    "    plt.legend()\n",
    "    plt.show()"
   ]
  },
  {
   "cell_type": "markdown",
   "metadata": {},
   "source": [
    "## Testing evaluate_testing_policy "
   ]
  },
  {
   "cell_type": "code",
   "execution_count": 9,
   "metadata": {},
   "outputs": [
    {
     "name": "stdout",
     "output_type": "stream",
     "text": [
      "Evaluating this policy:  [0.14285714285714285, 0.14285714285714285, 0.14285714285714285, 0.14285714285714285, 0.14285714285714285, 0.14285714285714285, 0.14285714285714285, 0]\n"
     ]
    }
   ],
   "source": [
    "testing_results = list()\n",
    "for policy in [[1/7,1/7,1/7,1/7,1/7,1/7,1/7,0]]:\n",
    "    print('Evaluating this policy: ', policy)\n",
    "    params_list = [ug_dorm_params.copy(), ug_off_campus_params.copy(), gs_research_params.copy(), gs_other_params.copy(), faculty_staff_student_params.copy(), faculty_staff_non_student_params.copy(), faculty_staff_off_campus_params.copy(), ithaca_community_params.copy()]\n",
    "    tests_per_day, inf_matrix, hosp_matrix = evaluate_testing_policy(params_list, interaction_matrix, group_names, policy, 112, 5)\n",
    "    testing_results.append({'test_policy': policy, 'tests_per_day': tests_per_day, 'inf_matrix': inf_matrix, 'hosp_matrix': hosp_matrix})"
   ]
  },
  {
   "cell_type": "code",
   "execution_count": 10,
   "metadata": {},
   "outputs": [
    {
     "data": {
      "text/html": [
       "<div>\n",
       "<style scoped>\n",
       "    .dataframe tbody tr th:only-of-type {\n",
       "        vertical-align: middle;\n",
       "    }\n",
       "\n",
       "    .dataframe tbody tr th {\n",
       "        vertical-align: top;\n",
       "    }\n",
       "\n",
       "    .dataframe thead th {\n",
       "        text-align: right;\n",
       "    }\n",
       "</style>\n",
       "<table border=\"1\" class=\"dataframe\">\n",
       "  <thead>\n",
       "    <tr style=\"text-align: right;\">\n",
       "      <th></th>\n",
       "      <th>daily_tests</th>\n",
       "      <th>inf</th>\n",
       "      <th>inf_low</th>\n",
       "      <th>inf_high</th>\n",
       "      <th>hosp</th>\n",
       "      <th>hosp_low</th>\n",
       "      <th>hosp_high</th>\n",
       "      <th>cornell_inf</th>\n",
       "      <th>cornell_inf_low</th>\n",
       "      <th>cornell_inf_high</th>\n",
       "      <th>...</th>\n",
       "      <th>test_policy_staff_off_campus</th>\n",
       "      <th>test_policy</th>\n",
       "      <th>inf_yerr_low</th>\n",
       "      <th>inf_yerr_high</th>\n",
       "      <th>hosp_yerr_low</th>\n",
       "      <th>hosp_yerr_high</th>\n",
       "      <th>cornell_inf_yerr_low</th>\n",
       "      <th>cornell_inf_yerr_high</th>\n",
       "      <th>cornell_hosp_yerr_low</th>\n",
       "      <th>cornell_hosp_yerr_high</th>\n",
       "    </tr>\n",
       "  </thead>\n",
       "  <tbody>\n",
       "    <tr>\n",
       "      <th>0</th>\n",
       "      <td>4841.714286</td>\n",
       "      <td>6317.0</td>\n",
       "      <td>6008.4</td>\n",
       "      <td>6969.8</td>\n",
       "      <td>70.614876</td>\n",
       "      <td>66.672683</td>\n",
       "      <td>76.304548</td>\n",
       "      <td>5763.0</td>\n",
       "      <td>5495.6</td>\n",
       "      <td>6462.2</td>\n",
       "      <td>...</td>\n",
       "      <td>1.0</td>\n",
       "      <td>[1,1,1,1,1,1,1.0]</td>\n",
       "      <td>308.6</td>\n",
       "      <td>652.8</td>\n",
       "      <td>3.942193</td>\n",
       "      <td>5.689672</td>\n",
       "      <td>267.4</td>\n",
       "      <td>699.2</td>\n",
       "      <td>3.179626</td>\n",
       "      <td>6.929647</td>\n",
       "    </tr>\n",
       "  </tbody>\n",
       "</table>\n",
       "<p>1 rows × 29 columns</p>\n",
       "</div>"
      ],
      "text/plain": [
       "   daily_tests     inf  inf_low  inf_high       hosp   hosp_low  hosp_high  \\\n",
       "0  4841.714286  6317.0   6008.4    6969.8  70.614876  66.672683  76.304548   \n",
       "\n",
       "   cornell_inf  cornell_inf_low  cornell_inf_high  ...  \\\n",
       "0       5763.0           5495.6            6462.2  ...   \n",
       "\n",
       "   test_policy_staff_off_campus        test_policy  inf_yerr_low  \\\n",
       "0                           1.0  [1,1,1,1,1,1,1.0]         308.6   \n",
       "\n",
       "   inf_yerr_high  hosp_yerr_low  hosp_yerr_high  cornell_inf_yerr_low  \\\n",
       "0          652.8       3.942193        5.689672                 267.4   \n",
       "\n",
       "   cornell_inf_yerr_high  cornell_hosp_yerr_low  cornell_hosp_yerr_high  \n",
       "0                  699.2               3.179626                6.929647  \n",
       "\n",
       "[1 rows x 29 columns]"
      ]
     },
     "execution_count": 10,
     "metadata": {},
     "output_type": "execute_result"
    }
   ],
   "source": [
    "plotting_data = generate_plotting_matrix(testing_results)\n",
    "plotting_data"
   ]
  },
  {
   "cell_type": "markdown",
   "metadata": {},
   "source": [
    "## Baseline Matrix"
   ]
  },
  {
   "cell_type": "code",
   "execution_count": 11,
   "metadata": {
    "collapsed": true
   },
   "outputs": [],
   "source": [
    "limited_policies = [[1/7,1/7,1/7,1/7,1/7,1/7,1/14,0],\n",
    "[2/7,1/7,1/7,1/7,1/7,1/7,1/30,0],\n",
    "[2/7,2/7,1/7,1/7,1/7,1/7,1/30,0],\n",
    "[2/7,1/7,2/7,1/7,1/7,1/7,1/30,0],\n",
    "[2/7,1/7,1/7,2/7,1/7,1/7,1/30,0],\n",
    "[2/7,1/7,1/7,1/7,2/7,1/7,1/30,0],\n",
    "[2/7,1/7,1/7,1/7,1/7,2/7,1/30,0],\n",
    "[2/7,2/7,1/7,2/7,1/7,1/7,1/30,0],\n",
    "[2/7,2/7,2/7,1/7,2/7,1/7,1/30,0],\n",
    "[2/7,2/7,1/7,2/7,2/7,1/7,1/30,0]]"
   ]
  },
  {
   "cell_type": "code",
   "execution_count": 12,
   "metadata": {},
   "outputs": [
    {
     "name": "stdout",
     "output_type": "stream",
     "text": [
      "Evaluating this policy:  [0.14285714285714285, 0.14285714285714285, 0.14285714285714285, 0.14285714285714285, 0.14285714285714285, 0.14285714285714285, 0.07142857142857142, 0]\n",
      "Evaluating this policy:  [0.2857142857142857, 0.14285714285714285, 0.14285714285714285, 0.14285714285714285, 0.14285714285714285, 0.14285714285714285, 0.03333333333333333, 0]\n",
      "Evaluating this policy:  [0.2857142857142857, 0.2857142857142857, 0.14285714285714285, 0.14285714285714285, 0.14285714285714285, 0.14285714285714285, 0.03333333333333333, 0]\n",
      "Evaluating this policy:  [0.2857142857142857, 0.14285714285714285, 0.2857142857142857, 0.14285714285714285, 0.14285714285714285, 0.14285714285714285, 0.03333333333333333, 0]\n",
      "Evaluating this policy:  [0.2857142857142857, 0.14285714285714285, 0.14285714285714285, 0.2857142857142857, 0.14285714285714285, 0.14285714285714285, 0.03333333333333333, 0]\n",
      "Evaluating this policy:  [0.2857142857142857, 0.14285714285714285, 0.14285714285714285, 0.14285714285714285, 0.2857142857142857, 0.14285714285714285, 0.03333333333333333, 0]\n",
      "Evaluating this policy:  [0.2857142857142857, 0.14285714285714285, 0.14285714285714285, 0.14285714285714285, 0.14285714285714285, 0.2857142857142857, 0.03333333333333333, 0]\n",
      "Evaluating this policy:  [0.2857142857142857, 0.2857142857142857, 0.14285714285714285, 0.2857142857142857, 0.14285714285714285, 0.14285714285714285, 0.03333333333333333, 0]\n",
      "Evaluating this policy:  [0.2857142857142857, 0.2857142857142857, 0.2857142857142857, 0.14285714285714285, 0.2857142857142857, 0.14285714285714285, 0.03333333333333333, 0]\n",
      "Evaluating this policy:  [0.2857142857142857, 0.2857142857142857, 0.14285714285714285, 0.2857142857142857, 0.2857142857142857, 0.14285714285714285, 0.03333333333333333, 0]\n"
     ]
    }
   ],
   "source": [
    "results_baseline = list()\n",
    "\n",
    "for policy in limited_policies:\n",
    "    print('Evaluating this policy: ', policy)\n",
    "    params_list = [ug_dorm_params.copy(), ug_off_campus_params.copy(), gs_research_params.copy(), gs_other_params.copy(), faculty_staff_student_params.copy(), faculty_staff_non_student_params.copy(), faculty_staff_off_campus_params.copy(), ithaca_community_params.copy()]\n",
    "    tests_per_day, inf_matrix, hosp_matrix = evaluate_testing_policy(params_list, interaction_matrix, group_names, policy, 112, 50)\n",
    "    results_baseline.append({'test_policy': policy, 'tests_per_day': tests_per_day, 'inf_matrix': inf_matrix, 'hosp_matrix': hosp_matrix})"
   ]
  },
  {
   "cell_type": "code",
   "execution_count": 15,
   "metadata": {},
   "outputs": [
    {
     "data": {
      "text/html": [
       "<div>\n",
       "<style scoped>\n",
       "    .dataframe tbody tr th:only-of-type {\n",
       "        vertical-align: middle;\n",
       "    }\n",
       "\n",
       "    .dataframe tbody tr th {\n",
       "        vertical-align: top;\n",
       "    }\n",
       "\n",
       "    .dataframe thead th {\n",
       "        text-align: right;\n",
       "    }\n",
       "</style>\n",
       "<table border=\"1\" class=\"dataframe\">\n",
       "  <thead>\n",
       "    <tr style=\"text-align: right;\">\n",
       "      <th></th>\n",
       "      <th>daily_tests</th>\n",
       "      <th>inf</th>\n",
       "      <th>inf_low</th>\n",
       "      <th>inf_high</th>\n",
       "      <th>hosp</th>\n",
       "      <th>hosp_low</th>\n",
       "      <th>hosp_high</th>\n",
       "      <th>cornell_inf</th>\n",
       "      <th>cornell_inf_low</th>\n",
       "      <th>cornell_inf_high</th>\n",
       "      <th>...</th>\n",
       "      <th>test_policy_staff_off_campus</th>\n",
       "      <th>test_policy</th>\n",
       "      <th>inf_yerr_low</th>\n",
       "      <th>inf_yerr_high</th>\n",
       "      <th>hosp_yerr_low</th>\n",
       "      <th>hosp_yerr_high</th>\n",
       "      <th>cornell_inf_yerr_low</th>\n",
       "      <th>cornell_inf_yerr_high</th>\n",
       "      <th>cornell_hosp_yerr_low</th>\n",
       "      <th>cornell_hosp_yerr_high</th>\n",
       "    </tr>\n",
       "  </thead>\n",
       "  <tbody>\n",
       "    <tr>\n",
       "      <th>0</th>\n",
       "      <td>4500.428571</td>\n",
       "      <td>6981.0</td>\n",
       "      <td>5899.7</td>\n",
       "      <td>7679.5</td>\n",
       "      <td>75.947980</td>\n",
       "      <td>64.582096</td>\n",
       "      <td>84.385141</td>\n",
       "      <td>6433.0</td>\n",
       "      <td>5432.9</td>\n",
       "      <td>7062.1</td>\n",
       "      <td>...</td>\n",
       "      <td>0.500000</td>\n",
       "      <td>[1,1,1,1,1,1,0.23]</td>\n",
       "      <td>1081.3</td>\n",
       "      <td>698.5</td>\n",
       "      <td>11.365883</td>\n",
       "      <td>8.437161</td>\n",
       "      <td>1000.1</td>\n",
       "      <td>629.1</td>\n",
       "      <td>9.397991</td>\n",
       "      <td>6.457574</td>\n",
       "    </tr>\n",
       "    <tr>\n",
       "      <th>1</th>\n",
       "      <td>5306.980952</td>\n",
       "      <td>2279.5</td>\n",
       "      <td>1861.6</td>\n",
       "      <td>2740.2</td>\n",
       "      <td>28.285322</td>\n",
       "      <td>23.923406</td>\n",
       "      <td>33.922852</td>\n",
       "      <td>1934.0</td>\n",
       "      <td>1545.6</td>\n",
       "      <td>2314.5</td>\n",
       "      <td>...</td>\n",
       "      <td>0.233333</td>\n",
       "      <td>[2,1,1,1,1,1,0.23]</td>\n",
       "      <td>417.9</td>\n",
       "      <td>460.7</td>\n",
       "      <td>4.361916</td>\n",
       "      <td>5.637531</td>\n",
       "      <td>388.4</td>\n",
       "      <td>380.5</td>\n",
       "      <td>3.703730</td>\n",
       "      <td>3.648980</td>\n",
       "    </tr>\n",
       "    <tr>\n",
       "      <th>2</th>\n",
       "      <td>6467.409524</td>\n",
       "      <td>1402.5</td>\n",
       "      <td>1095.9</td>\n",
       "      <td>1710.3</td>\n",
       "      <td>19.453424</td>\n",
       "      <td>15.898088</td>\n",
       "      <td>22.124985</td>\n",
       "      <td>1085.0</td>\n",
       "      <td>792.6</td>\n",
       "      <td>1369.1</td>\n",
       "      <td>...</td>\n",
       "      <td>0.233333</td>\n",
       "      <td>[2,2,1,1,1,1,0.23]</td>\n",
       "      <td>306.6</td>\n",
       "      <td>307.8</td>\n",
       "      <td>3.555335</td>\n",
       "      <td>2.671561</td>\n",
       "      <td>292.4</td>\n",
       "      <td>284.1</td>\n",
       "      <td>2.610178</td>\n",
       "      <td>2.790302</td>\n",
       "    </tr>\n",
       "    <tr>\n",
       "      <th>3</th>\n",
       "      <td>5827.695238</td>\n",
       "      <td>2287.5</td>\n",
       "      <td>1829.7</td>\n",
       "      <td>2502.0</td>\n",
       "      <td>27.923283</td>\n",
       "      <td>23.743273</td>\n",
       "      <td>31.352044</td>\n",
       "      <td>1947.0</td>\n",
       "      <td>1510.9</td>\n",
       "      <td>2187.4</td>\n",
       "      <td>...</td>\n",
       "      <td>0.233333</td>\n",
       "      <td>[2,1,2,1,1,1,0.23]</td>\n",
       "      <td>457.8</td>\n",
       "      <td>214.5</td>\n",
       "      <td>4.180010</td>\n",
       "      <td>3.428761</td>\n",
       "      <td>436.1</td>\n",
       "      <td>240.4</td>\n",
       "      <td>3.928907</td>\n",
       "      <td>2.764938</td>\n",
       "    </tr>\n",
       "    <tr>\n",
       "      <th>4</th>\n",
       "      <td>6009.980952</td>\n",
       "      <td>2048.0</td>\n",
       "      <td>1759.3</td>\n",
       "      <td>2566.2</td>\n",
       "      <td>26.042338</td>\n",
       "      <td>22.240637</td>\n",
       "      <td>32.995521</td>\n",
       "      <td>1709.0</td>\n",
       "      <td>1442.8</td>\n",
       "      <td>2163.9</td>\n",
       "      <td>...</td>\n",
       "      <td>0.233333</td>\n",
       "      <td>[2,1,1,2,1,1,0.23]</td>\n",
       "      <td>288.7</td>\n",
       "      <td>518.2</td>\n",
       "      <td>3.801701</td>\n",
       "      <td>6.953184</td>\n",
       "      <td>266.2</td>\n",
       "      <td>454.9</td>\n",
       "      <td>3.009126</td>\n",
       "      <td>4.845271</td>\n",
       "    </tr>\n",
       "    <tr>\n",
       "      <th>5</th>\n",
       "      <td>5820.980952</td>\n",
       "      <td>2118.5</td>\n",
       "      <td>1805.9</td>\n",
       "      <td>2503.6</td>\n",
       "      <td>27.077219</td>\n",
       "      <td>23.502958</td>\n",
       "      <td>30.346059</td>\n",
       "      <td>1792.5</td>\n",
       "      <td>1518.5</td>\n",
       "      <td>2120.0</td>\n",
       "      <td>...</td>\n",
       "      <td>0.233333</td>\n",
       "      <td>[2,1,1,1,2,1,0.23]</td>\n",
       "      <td>312.6</td>\n",
       "      <td>385.1</td>\n",
       "      <td>3.574261</td>\n",
       "      <td>3.268840</td>\n",
       "      <td>274.0</td>\n",
       "      <td>327.5</td>\n",
       "      <td>3.004438</td>\n",
       "      <td>2.755574</td>\n",
       "    </tr>\n",
       "    <tr>\n",
       "      <th>6</th>\n",
       "      <td>5579.409524</td>\n",
       "      <td>2318.5</td>\n",
       "      <td>1821.8</td>\n",
       "      <td>2595.5</td>\n",
       "      <td>29.171103</td>\n",
       "      <td>24.180482</td>\n",
       "      <td>32.364334</td>\n",
       "      <td>1961.5</td>\n",
       "      <td>1508.8</td>\n",
       "      <td>2223.1</td>\n",
       "      <td>...</td>\n",
       "      <td>0.233333</td>\n",
       "      <td>[2,1,1,1,1,2,0.23]</td>\n",
       "      <td>496.7</td>\n",
       "      <td>277.0</td>\n",
       "      <td>4.990621</td>\n",
       "      <td>3.193231</td>\n",
       "      <td>452.7</td>\n",
       "      <td>261.6</td>\n",
       "      <td>3.986511</td>\n",
       "      <td>2.874927</td>\n",
       "    </tr>\n",
       "    <tr>\n",
       "      <th>7</th>\n",
       "      <td>7170.409524</td>\n",
       "      <td>1148.0</td>\n",
       "      <td>949.7</td>\n",
       "      <td>1466.9</td>\n",
       "      <td>16.524436</td>\n",
       "      <td>14.145359</td>\n",
       "      <td>20.817051</td>\n",
       "      <td>867.5</td>\n",
       "      <td>669.4</td>\n",
       "      <td>1122.3</td>\n",
       "      <td>...</td>\n",
       "      <td>0.233333</td>\n",
       "      <td>[2,2,1,2,1,1,0.23]</td>\n",
       "      <td>198.3</td>\n",
       "      <td>318.9</td>\n",
       "      <td>2.379077</td>\n",
       "      <td>4.292615</td>\n",
       "      <td>198.1</td>\n",
       "      <td>254.8</td>\n",
       "      <td>2.198396</td>\n",
       "      <td>2.639917</td>\n",
       "    </tr>\n",
       "    <tr>\n",
       "      <th>8</th>\n",
       "      <td>7502.123810</td>\n",
       "      <td>1233.5</td>\n",
       "      <td>962.0</td>\n",
       "      <td>1509.5</td>\n",
       "      <td>17.131446</td>\n",
       "      <td>14.361273</td>\n",
       "      <td>19.813497</td>\n",
       "      <td>953.5</td>\n",
       "      <td>680.0</td>\n",
       "      <td>1224.8</td>\n",
       "      <td>...</td>\n",
       "      <td>0.233333</td>\n",
       "      <td>[2,2,2,1,2,1,0.23]</td>\n",
       "      <td>271.5</td>\n",
       "      <td>276.0</td>\n",
       "      <td>2.770173</td>\n",
       "      <td>2.682051</td>\n",
       "      <td>273.5</td>\n",
       "      <td>271.3</td>\n",
       "      <td>2.484875</td>\n",
       "      <td>2.055855</td>\n",
       "    </tr>\n",
       "    <tr>\n",
       "      <th>9</th>\n",
       "      <td>7684.409524</td>\n",
       "      <td>1099.0</td>\n",
       "      <td>882.3</td>\n",
       "      <td>1335.7</td>\n",
       "      <td>16.208260</td>\n",
       "      <td>13.905392</td>\n",
       "      <td>19.111958</td>\n",
       "      <td>799.5</td>\n",
       "      <td>605.2</td>\n",
       "      <td>1054.4</td>\n",
       "      <td>...</td>\n",
       "      <td>0.233333</td>\n",
       "      <td>[2,2,1,2,2,1,0.23]</td>\n",
       "      <td>216.7</td>\n",
       "      <td>236.7</td>\n",
       "      <td>2.302868</td>\n",
       "      <td>2.903698</td>\n",
       "      <td>194.3</td>\n",
       "      <td>254.9</td>\n",
       "      <td>1.888375</td>\n",
       "      <td>2.478344</td>\n",
       "    </tr>\n",
       "  </tbody>\n",
       "</table>\n",
       "<p>10 rows × 29 columns</p>\n",
       "</div>"
      ],
      "text/plain": [
       "   daily_tests     inf  inf_low  inf_high       hosp   hosp_low  hosp_high  \\\n",
       "0  4500.428571  6981.0   5899.7    7679.5  75.947980  64.582096  84.385141   \n",
       "1  5306.980952  2279.5   1861.6    2740.2  28.285322  23.923406  33.922852   \n",
       "2  6467.409524  1402.5   1095.9    1710.3  19.453424  15.898088  22.124985   \n",
       "3  5827.695238  2287.5   1829.7    2502.0  27.923283  23.743273  31.352044   \n",
       "4  6009.980952  2048.0   1759.3    2566.2  26.042338  22.240637  32.995521   \n",
       "5  5820.980952  2118.5   1805.9    2503.6  27.077219  23.502958  30.346059   \n",
       "6  5579.409524  2318.5   1821.8    2595.5  29.171103  24.180482  32.364334   \n",
       "7  7170.409524  1148.0    949.7    1466.9  16.524436  14.145359  20.817051   \n",
       "8  7502.123810  1233.5    962.0    1509.5  17.131446  14.361273  19.813497   \n",
       "9  7684.409524  1099.0    882.3    1335.7  16.208260  13.905392  19.111958   \n",
       "\n",
       "   cornell_inf  cornell_inf_low  cornell_inf_high  ...  \\\n",
       "0       6433.0           5432.9            7062.1  ...   \n",
       "1       1934.0           1545.6            2314.5  ...   \n",
       "2       1085.0            792.6            1369.1  ...   \n",
       "3       1947.0           1510.9            2187.4  ...   \n",
       "4       1709.0           1442.8            2163.9  ...   \n",
       "5       1792.5           1518.5            2120.0  ...   \n",
       "6       1961.5           1508.8            2223.1  ...   \n",
       "7        867.5            669.4            1122.3  ...   \n",
       "8        953.5            680.0            1224.8  ...   \n",
       "9        799.5            605.2            1054.4  ...   \n",
       "\n",
       "   test_policy_staff_off_campus         test_policy  inf_yerr_low  \\\n",
       "0                      0.500000  [1,1,1,1,1,1,0.23]        1081.3   \n",
       "1                      0.233333  [2,1,1,1,1,1,0.23]         417.9   \n",
       "2                      0.233333  [2,2,1,1,1,1,0.23]         306.6   \n",
       "3                      0.233333  [2,1,2,1,1,1,0.23]         457.8   \n",
       "4                      0.233333  [2,1,1,2,1,1,0.23]         288.7   \n",
       "5                      0.233333  [2,1,1,1,2,1,0.23]         312.6   \n",
       "6                      0.233333  [2,1,1,1,1,2,0.23]         496.7   \n",
       "7                      0.233333  [2,2,1,2,1,1,0.23]         198.3   \n",
       "8                      0.233333  [2,2,2,1,2,1,0.23]         271.5   \n",
       "9                      0.233333  [2,2,1,2,2,1,0.23]         216.7   \n",
       "\n",
       "   inf_yerr_high  hosp_yerr_low  hosp_yerr_high  cornell_inf_yerr_low  \\\n",
       "0          698.5      11.365883        8.437161                1000.1   \n",
       "1          460.7       4.361916        5.637531                 388.4   \n",
       "2          307.8       3.555335        2.671561                 292.4   \n",
       "3          214.5       4.180010        3.428761                 436.1   \n",
       "4          518.2       3.801701        6.953184                 266.2   \n",
       "5          385.1       3.574261        3.268840                 274.0   \n",
       "6          277.0       4.990621        3.193231                 452.7   \n",
       "7          318.9       2.379077        4.292615                 198.1   \n",
       "8          276.0       2.770173        2.682051                 273.5   \n",
       "9          236.7       2.302868        2.903698                 194.3   \n",
       "\n",
       "   cornell_inf_yerr_high  cornell_hosp_yerr_low  cornell_hosp_yerr_high  \n",
       "0                  629.1               9.397991                6.457574  \n",
       "1                  380.5               3.703730                3.648980  \n",
       "2                  284.1               2.610178                2.790302  \n",
       "3                  240.4               3.928907                2.764938  \n",
       "4                  454.9               3.009126                4.845271  \n",
       "5                  327.5               3.004438                2.755574  \n",
       "6                  261.6               3.986511                2.874927  \n",
       "7                  254.8               2.198396                2.639917  \n",
       "8                  271.3               2.484875                2.055855  \n",
       "9                  254.9               1.888375                2.478344  \n",
       "\n",
       "[10 rows x 29 columns]"
      ]
     },
     "execution_count": 15,
     "metadata": {},
     "output_type": "execute_result"
    }
   ],
   "source": [
    "plotting_data = generate_plotting_matrix(results_baseline)\n",
    "plotting_data"
   ]
  },
  {
   "cell_type": "code",
   "execution_count": 17,
   "metadata": {},
   "outputs": [
    {
     "data": {
      "image/png": "[encoded data removed]",
      "text/plain": [
       "<Figure size 720x432 with 1 Axes>"
      ]
     },
     "metadata": {
      "needs_background": "light"
     },
     "output_type": "display_data"
    },
    {
     "data": {
      "image/png": "[encoded data removed]",
      "text/plain": [
       "<Figure size 720x432 with 1 Axes>"
      ]
     },
     "metadata": {
      "needs_background": "light"
     },
     "output_type": "display_data"
    },
    {
     "data": {
      "image/png": "[encoded data removed]",
      "text/plain": [
       "<Figure size 720x432 with 1 Axes>"
      ]
     },
     "metadata": {
      "needs_background": "light"
     },
     "output_type": "display_data"
    },
    {
     "data": {
      "image/png": "[encoded data removed]",
      "text/plain": [
       "<Figure size 720x432 with 1 Axes>"
      ]
     },
     "metadata": {
      "needs_background": "light"
     },
     "output_type": "display_data"
    }
   ],
   "source": [
    "plot_policy_performance(plotting_data)"
   ]
  },
  {
   "cell_type": "markdown",
   "metadata": {},
   "source": [
    "## Increasing Contacts between faculty/staff and Ithaca"
   ]
  },
  {
   "cell_type": "code",
   "execution_count": 9,
   "metadata": {},
   "outputs": [
    {
     "name": "stdout",
     "output_type": "stream",
     "text": [
      "Evaluating this policy:  [0.14285714285714285, 0.14285714285714285, 0.14285714285714285, 0.14285714285714285, 0.14285714285714285, 0.14285714285714285, 0.07142857142857142, 0]\n",
      "Evaluating this policy:  [0.2857142857142857, 0.14285714285714285, 0.14285714285714285, 0.14285714285714285, 0.14285714285714285, 0.14285714285714285, 0.03333333333333333, 0]\n",
      "Evaluating this policy:  [0.2857142857142857, 0.2857142857142857, 0.14285714285714285, 0.14285714285714285, 0.14285714285714285, 0.14285714285714285, 0.03333333333333333, 0]\n",
      "Evaluating this policy:  [0.2857142857142857, 0.14285714285714285, 0.2857142857142857, 0.14285714285714285, 0.14285714285714285, 0.14285714285714285, 0.03333333333333333, 0]\n",
      "Evaluating this policy:  [0.2857142857142857, 0.14285714285714285, 0.14285714285714285, 0.2857142857142857, 0.14285714285714285, 0.14285714285714285, 0.03333333333333333, 0]\n",
      "Evaluating this policy:  [0.2857142857142857, 0.14285714285714285, 0.14285714285714285, 0.14285714285714285, 0.2857142857142857, 0.14285714285714285, 0.03333333333333333, 0]\n",
      "Evaluating this policy:  [0.2857142857142857, 0.14285714285714285, 0.14285714285714285, 0.14285714285714285, 0.14285714285714285, 0.2857142857142857, 0.03333333333333333, 0]\n",
      "Evaluating this policy:  [0.2857142857142857, 0.2857142857142857, 0.14285714285714285, 0.2857142857142857, 0.14285714285714285, 0.14285714285714285, 0.03333333333333333, 0]\n",
      "Evaluating this policy:  [0.2857142857142857, 0.2857142857142857, 0.2857142857142857, 0.14285714285714285, 0.2857142857142857, 0.14285714285714285, 0.03333333333333333, 0]\n"
     ]
    }
   ],
   "source": [
    "interaction_matrix_v2 = np.array([[12.5,4,0.1,0.1,1,0.05,0.05,0.1],\n",
    "                               [3.41,8,0.1,0.1,1,0.05,0.05,0.2],\n",
    "                               [0.19,0.22,4,0.1,1.2,0.05,0.2,1.8],\n",
    "                               [0.14,0.17,0.07,9,1,0.05,0.05,0.2],\n",
    "                               [1.92,2.26,1.22,1.37,1,0.15,0.3,3],\n",
    "                               [0.18,0.21,0.1,0.13,0.28,1.8,0.2,3],\n",
    "                               [0.07,0.09,0.15,0.05,0.23,0.08,1.8,3],\n",
    "                               [0.011,0.026,0.106,0.016,0.174,0.092,0.231,3.5]])\n",
    "\n",
    "results_faculty_ithaca = list()\n",
    "\n",
    "for policy in limited_policies:\n",
    "    print('Evaluating this policy: ', policy)\n",
    "    params_list = [ug_dorm_params.copy(), ug_off_campus_params.copy(), gs_research_params.copy(), gs_other_params.copy(), faculty_staff_student_params.copy(), faculty_staff_non_student_params.copy(), faculty_staff_off_campus_params.copy(), ithaca_community_params.copy()]\n",
    "    tests_per_day, inf_matrix, hosp_matrix = evaluate_testing_policy(params_list, interaction_matrix_v2, group_names, policy, 112, 50)\n",
    "    results_faculty_ithaca.append({'test_policy': policy, 'tests_per_day': tests_per_day, 'inf_matrix': inf_matrix, 'hosp_matrix': hosp_matrix})"
   ]
  },
  {
   "cell_type": "code",
   "execution_count": 27,
   "metadata": {
    "collapsed": true
   },
   "outputs": [],
   "source": [
    "plotting_data = generate_plotting_matrix(results_faculty_ithaca)"
   ]
  },
  {
   "cell_type": "code",
   "execution_count": 28,
   "metadata": {},
   "outputs": [
    {
     "data": {
      "image/png": "[encoded data removed]",
      "text/plain": [
       "<Figure size 720x432 with 1 Axes>"
      ]
     },
     "metadata": {
      "needs_background": "light"
     },
     "output_type": "display_data"
    },
    {
     "data": {
      "image/png": "[encoded data removed]",
      "text/plain": [
       "<Figure size 720x432 with 1 Axes>"
      ]
     },
     "metadata": {
      "needs_background": "light"
     },
     "output_type": "display_data"
    },
    {
     "data": {
      "image/png": "[encoded data removed]",
      "text/plain": [
       "<Figure size 720x432 with 1 Axes>"
      ]
     },
     "metadata": {
      "needs_background": "light"
     },
     "output_type": "display_data"
    },
    {
     "data": {
      "image/png": "[encoded data removed]",
      "text/plain": [
       "<Figure size 720x432 with 1 Axes>"
      ]
     },
     "metadata": {
      "needs_background": "light"
     },
     "output_type": "display_data"
    }
   ],
   "source": [
    "plot_policy_performance(plotting_data)"
   ]
  },
  {
   "cell_type": "markdown",
   "metadata": {},
   "source": [
    "## Increasing contacts between faculty/staff and Ithaca even more"
   ]
  },
  {
   "cell_type": "code",
   "execution_count": null,
   "metadata": {},
   "outputs": [
    {
     "name": "stdout",
     "output_type": "stream",
     "text": [
      "Evaluating this policy:  [0.14285714285714285, 0.14285714285714285, 0.14285714285714285, 0.14285714285714285, 0.14285714285714285, 0.14285714285714285, 0.07142857142857142, 0]\n",
      "Evaluating this policy:  [0.2857142857142857, 0.14285714285714285, 0.14285714285714285, 0.14285714285714285, 0.14285714285714285, 0.14285714285714285, 0.03333333333333333, 0]\n"
     ]
    }
   ],
   "source": [
    "interaction_matrix_v3 = np.array([[12.5,4,0.1,0.1,1,0.05,0.05,0.1],\n",
    "                               [3.41,8,0.1,0.1,1,0.05,0.05,0.2],\n",
    "                               [0.19,0.22,4,0.1,1.2,0.05,0.2,1.8],\n",
    "                               [0.14,0.17,0.07,9,1,0.05,0.05,0.2],\n",
    "                               [1.92,2.26,1.22,1.37,1,0.15,0.3,4.5],\n",
    "                               [0.18,0.21,0.1,0.13,0.28,1.8,0.2,4.5],\n",
    "                               [0.07,0.09,0.15,0.05,0.23,0.08,1.8,4.5],\n",
    "                               [0.011,0.026,0.106,0.016,0.261,0.138,0.347,3.5]])\n",
    "\n",
    "results_faculty_ithaca_3x = list()\n",
    "\n",
    "for policy in limited_policies:\n",
    "    print('Evaluating this policy: ', policy)\n",
    "    params_list = [ug_dorm_params.copy(), ug_off_campus_params.copy(), gs_research_params.copy(), gs_other_params.copy(), faculty_staff_student_params.copy(), faculty_staff_non_student_params.copy(), faculty_staff_off_campus_params.copy(), ithaca_community_params.copy()]\n",
    "    tests_per_day, inf_matrix, hosp_matrix = evaluate_testing_policy(params_list, interaction_matrix_v3, group_names, policy, 112, 50)\n",
    "    results_faculty_ithaca_3x.append({'test_policy': policy, 'tests_per_day': tests_per_day, 'inf_matrix': inf_matrix, 'hosp_matrix': hosp_matrix})"
   ]
  },
  {
   "cell_type": "markdown",
   "metadata": {},
   "source": [
    "## Increasing Student->Student contact rates by 30%"
   ]
  },
  {
   "cell_type": "code",
   "execution_count": 20,
   "metadata": {},
   "outputs": [
    {
     "name": "stdout",
     "output_type": "stream",
     "text": [
      "Evaluating this policy:  [0.14285714285714285, 0.14285714285714285, 0.14285714285714285, 0.14285714285714285, 0.14285714285714285, 0.14285714285714285, 0.07142857142857142, 0]\n",
      "Evaluating this policy:  [0.2857142857142857, 0.14285714285714285, 0.14285714285714285, 0.14285714285714285, 0.14285714285714285, 0.14285714285714285, 0.03333333333333333, 0]\n",
      "Evaluating this policy:  [0.2857142857142857, 0.2857142857142857, 0.14285714285714285, 0.14285714285714285, 0.14285714285714285, 0.14285714285714285, 0.03333333333333333, 0]\n",
      "Evaluating this policy:  [0.2857142857142857, 0.14285714285714285, 0.2857142857142857, 0.14285714285714285, 0.14285714285714285, 0.14285714285714285, 0.03333333333333333, 0]\n",
      "Evaluating this policy:  [0.2857142857142857, 0.14285714285714285, 0.14285714285714285, 0.2857142857142857, 0.14285714285714285, 0.14285714285714285, 0.03333333333333333, 0]\n",
      "Evaluating this policy:  [0.2857142857142857, 0.14285714285714285, 0.14285714285714285, 0.14285714285714285, 0.2857142857142857, 0.14285714285714285, 0.03333333333333333, 0]\n",
      "Evaluating this policy:  [0.2857142857142857, 0.14285714285714285, 0.14285714285714285, 0.14285714285714285, 0.14285714285714285, 0.2857142857142857, 0.03333333333333333, 0]\n",
      "Evaluating this policy:  [0.2857142857142857, 0.2857142857142857, 0.14285714285714285, 0.2857142857142857, 0.14285714285714285, 0.14285714285714285, 0.03333333333333333, 0]\n",
      "Evaluating this policy:  [0.2857142857142857, 0.2857142857142857, 0.2857142857142857, 0.14285714285714285, 0.2857142857142857, 0.14285714285714285, 0.03333333333333333, 0]\n"
     ]
    }
   ],
   "source": [
    "interaction_matrix_v4 = np.array([[16.25,5.2,0.1,0.1,1,0.05,0.05,0.1],\n",
    "                               [4.43,10.4,0.1,0.1,1,0.05,0.05,0.2],\n",
    "                               [0.19,0.22,4,0.1,1.2,0.05,0.2,1.8],\n",
    "                               [0.14,0.17,0.07,11.7,1,0.05,0.05,0.2],\n",
    "                               [1.92,2.26,1.22,1.37,1,0.15,0.3,4.5],\n",
    "                               [0.18,0.21,0.1,0.13,0.28,1.8,0.2,4.5],\n",
    "                               [0.07,0.09,0.15,0.05,0.23,0.08,1.8,4.5],\n",
    "                               [0.011,0.026,0.106,0.016,0.261,0.138,0.347,3.5]])\n",
    "\n",
    "results_students_30 = list()\n",
    "\n",
    "for policy in limited_policies:\n",
    "    print('Evaluating this policy: ', policy)\n",
    "    params_list = [ug_dorm_params.copy(), ug_off_campus_params.copy(), gs_research_params.copy(), gs_other_params.copy(), faculty_staff_student_params.copy(), faculty_staff_non_student_params.copy(), faculty_staff_off_campus_params.copy(), ithaca_community_params.copy()]\n",
    "    tests_per_day, inf_matrix, hosp_matrix = evaluate_testing_policy(params_list, interaction_matrix_v4, group_names, policy, 112, 50)\n",
    "    results_students_30.append({'test_policy': policy, 'tests_per_day': tests_per_day, 'inf_matrix': inf_matrix, 'hosp_matrix': hosp_matrix})"
   ]
  }
 ],
 "metadata": {
  "kernelspec": {
   "display_name": "IPython (Python 3)",
   "language": "python",
   "name": "python3"
  },
  "language_info": {
   "codemirror_mode": {
    "name": "ipython",
    "version": 3
   },
   "file_extension": ".py",
   "mimetype": "text/x-python",
   "name": "python",
   "nbconvert_exporter": "python",
   "pygments_lexer": "ipython3",
   "version": "3.6.2"
  }
 },
 "nbformat": 4,
 "nbformat_minor": 4
}
