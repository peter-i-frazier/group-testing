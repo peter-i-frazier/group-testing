{
 "cells": [
  {
   "cell_type": "code",
   "execution_count": 31,
   "metadata": {},
   "outputs": [],
   "source": [
    "import sys\n",
    "import os\n",
    "import numpy as np\n",
    "module_path = os.path.abspath(os.path.join('..'))\n",
    "if module_path not in sys.path:\n",
    "    sys.path.append(module_path + \"/src/simulations_v2\")\n",
    "from load_params import load_multigroup_params, load_params\n",
    "from multi_group_simulation import MultiGroupSimulation\n",
    "from stochastic_simulation import StochasticSimulation"
   ]
  },
  {
   "cell_type": "code",
   "execution_count": 32,
   "metadata": {},
   "outputs": [],
   "source": [
    "grp_params, grp_names, interactions_mtx = \\\n",
    "    load_multigroup_params(\"../src/simulations_v2/params/quarantine_analysis/aug9quarantine/mandatory_quarantine/mandatory_quarantine_pessimistic.yaml\")"
   ]
  },
  {
   "cell_type": "code",
   "execution_count": 33,
   "metadata": {},
   "outputs": [],
   "source": [
    "interactions_mtx = 1.3 * interactions_mtx\n",
    "\n",
    "for index, params in enumerate(grp_params):\n",
    "    params['expected_contacts_per_day'] = interactions_mtx[index, index]"
   ]
  },
  {
   "cell_type": "code",
   "execution_count": 34,
   "metadata": {},
   "outputs": [],
   "source": [
    "sim = MultiGroupSimulation(grp_params, interactions_mtx, grp_names)"
   ]
  },
  {
   "cell_type": "code",
   "execution_count": 35,
   "metadata": {},
   "outputs": [],
   "source": [
    "num_trajectories = 200\n",
    "num_groups = 4\n",
    "# group 0: non-quarantined students already in Ithaca; \n",
    "# group 1: faculty / staff\n",
    "# group 2: Ithaca community\n",
    "# group 3: self-quarantined students; \n",
    "\n",
    "free_and_infectious = np.zeros((num_trajectories, num_groups))\n",
    "QS = np.zeros((num_trajectories, num_groups))\n",
    "QI = np.zeros((num_trajectories, num_groups))\n",
    "\n",
    "for i in range(num_trajectories):\n",
    "    sim.reset_initial_state()\n",
    "    for _ in range(14):\n",
    "        sim.step()\n",
    "    \n",
    "    for j in range(num_groups):\n",
    "        free_and_infectious[i, j] = sim.get_free_infectious(j)\n",
    "        QS[i, j] = sim.sims[j].QS\n",
    "        QI[i, j] = sim.sims[j].QI"
   ]
  },
  {
   "cell_type": "code",
   "execution_count": 36,
   "metadata": {},
   "outputs": [
    {
     "name": "stdout",
     "output_type": "stream",
     "text": [
      "free-and-infectious:  [11.18  11.415 65.215 13.24 ]\n"
     ]
    }
   ],
   "source": [
    "print(\"free-and-infectious: \", np.mean(free_and_infectious, axis=0))"
   ]
  },
  {
   "cell_type": "code",
   "execution_count": 37,
   "metadata": {},
   "outputs": [
    {
     "name": "stdout",
     "output_type": "stream",
     "text": [
      "prevalence: [0.0027355  0.00111008 0.00105185 0.00353255]\n"
     ]
    }
   ],
   "source": [
    "populations = [sim.sims[j].pop_size for j in range(num_groups)]\n",
    "print(\"prevalence:\", np.mean(free_and_infectious, axis=0) / populations)"
   ]
  },
  {
   "cell_type": "code",
   "execution_count": 38,
   "metadata": {},
   "outputs": [
    {
     "name": "stdout",
     "output_type": "stream",
     "text": [
      "QS:  [ 37.44   61.335 340.445  82.845]\n"
     ]
    }
   ],
   "source": [
    "print(\"QS: \", np.mean(QS, axis=0))"
   ]
  },
  {
   "cell_type": "code",
   "execution_count": 39,
   "metadata": {},
   "outputs": [
    {
     "name": "stdout",
     "output_type": "stream",
     "text": [
      "QI:  [ 5.25   8.89  66.835 12.53 ]\n"
     ]
    }
   ],
   "source": [
    "print(\"QI: \", np.mean(QI, axis=0))"
   ]
  },
  {
   "cell_type": "code",
   "execution_count": 40,
   "metadata": {},
   "outputs": [],
   "source": [
    "grp_params, grp_names, interactions_mtx = \\\n",
    "    load_multigroup_params(\"../src/simulations_v2/params/quarantine_analysis/aug9quarantine/mandatory_quarantine/mandatory_quarantine_optimistic.yaml\")\n",
    "\n",
    "interactions_mtx = 0.7 * interactions_mtx\n",
    "\n",
    "for index, params in enumerate(grp_params):\n",
    "    params['expected_contacts_per_day'] = interactions_mtx[index, index]\n",
    "    \n",
    "sim = MultiGroupSimulation(grp_params, interactions_mtx, grp_names)"
   ]
  },
  {
   "cell_type": "code",
   "execution_count": 41,
   "metadata": {},
   "outputs": [],
   "source": [
    "num_trajectories = 200\n",
    "num_groups = 4\n",
    "# group 0: non-quarantined students already in Ithaca; \n",
    "# group 1: faculty / staff\n",
    "# group 2: Ithaca community\n",
    "# group 3: self-quarantined students; \n",
    "\n",
    "free_and_infectious_opt = np.zeros((num_trajectories, num_groups))\n",
    "QS_opt = np.zeros((num_trajectories, num_groups))\n",
    "QI_opt = np.zeros((num_trajectories, num_groups))\n",
    "\n",
    "for i in range(num_trajectories):\n",
    "    sim.reset_initial_state()\n",
    "    for _ in range(14):\n",
    "        sim.step()\n",
    "    \n",
    "    for j in range(num_groups):\n",
    "        free_and_infectious_opt[i, j] = sim.get_free_infectious(j)\n",
    "        QS_opt[i, j] = sim.sims[j].QS\n",
    "        QI_opt[i, j] = sim.sims[j].QI"
   ]
  },
  {
   "cell_type": "code",
   "execution_count": 42,
   "metadata": {},
   "outputs": [
    {
     "name": "stdout",
     "output_type": "stream",
     "text": [
      "free-and-infectious:  [ 4.705  7.065 34.63   5.08 ]\n"
     ]
    }
   ],
   "source": [
    "print(\"free-and-infectious: \", np.mean(free_and_infectious_opt, axis=0))"
   ]
  },
  {
   "cell_type": "code",
   "execution_count": 43,
   "metadata": {},
   "outputs": [
    {
     "name": "stdout",
     "output_type": "stream",
     "text": [
      "prevalence: [0.00115121 0.00068706 0.00055855 0.00135539]\n"
     ]
    }
   ],
   "source": [
    "populations = [sim.sims[j].pop_size for j in range(num_groups)]\n",
    "print(\"prevalence:\", np.mean(free_and_infectious_opt, axis=0) / populations)"
   ]
  },
  {
   "cell_type": "code",
   "execution_count": 44,
   "metadata": {},
   "outputs": [
    {
     "name": "stdout",
     "output_type": "stream",
     "text": [
      "QS:  [ 7.86  16.935 93.03  16.635]\n"
     ]
    }
   ],
   "source": [
    "print(\"QS: \", np.mean(QS_opt, axis=0))"
   ]
  },
  {
   "cell_type": "code",
   "execution_count": 45,
   "metadata": {},
   "outputs": [
    {
     "name": "stdout",
     "output_type": "stream",
     "text": [
      "QI:  [ 3.1    7.105 52.435  6.935]\n"
     ]
    }
   ],
   "source": [
    "print(\"QI: \", np.mean(QI_opt, axis=0))"
   ]
  },
  {
   "cell_type": "code",
   "execution_count": null,
   "metadata": {},
   "outputs": [],
   "source": []
  },
  {
   "cell_type": "code",
   "execution_count": null,
   "metadata": {},
   "outputs": [],
   "source": []
  },
  {
   "cell_type": "code",
   "execution_count": null,
   "metadata": {},
   "outputs": [],
   "source": []
  }
 ],
 "metadata": {
  "kernelspec": {
   "display_name": "Python 3",
   "language": "python",
   "name": "python3"
  },
  "language_info": {
   "codemirror_mode": {
    "name": "ipython",
    "version": 3
   },
   "file_extension": ".py",
   "mimetype": "text/x-python",
   "name": "python",
   "nbconvert_exporter": "python",
   "pygments_lexer": "ipython3",
   "version": "3.6.10"
  },
  "toc": {
   "base_numbering": 1,
   "nav_menu": {},
   "number_sections": false,
   "sideBar": true,
   "skip_h1_title": false,
   "title_cell": "Table of Contents",
   "title_sidebar": "Contents",
   "toc_cell": false,
   "toc_position": {},
   "toc_section_display": true,
   "toc_window_display": false
  }
 },
 "nbformat": 4,
 "nbformat_minor": 2
}
