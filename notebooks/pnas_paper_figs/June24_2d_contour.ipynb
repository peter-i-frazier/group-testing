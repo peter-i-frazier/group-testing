{
 "cells": [
  {
   "cell_type": "code",
   "execution_count": 1,
   "metadata": {},
   "outputs": [],
   "source": [
    "import sys\n",
    "import os\n",
    "import numpy as np\n",
    "import multiprocessing\n",
    "import dill\n",
    "import matplotlib.pyplot as plt\n",
    "import pandas as pd\n",
    "import numpy as np\n",
    "\n",
    "\n",
    "from util_functions import *\n",
    "from uncertainty_analysis import *\n",
    "from sim_helper_functions import *\n",
    "\n",
    "from scipy.stats import norm\n",
    "\n",
    "\n",
    "\n",
    "module_path = os.path.abspath(os.path.join('../..'))\n",
    "if module_path not in sys.path:\n",
    "    sys.path.append(module_path + \"/src/simulations_v2\")\n",
    "from load_params import load_params\n",
    "\n",
    "from multi_group_simulation import MultiGroupSimulation"
   ]
  },
  {
   "cell_type": "code",
   "execution_count": 2,
   "metadata": {},
   "outputs": [],
   "source": [
    "NPOINTS = 13\n",
    "MULT_UB = 3\n",
    "MULT_LB = 1"
   ]
  },
  {
   "cell_type": "code",
   "execution_count": 3,
   "metadata": {},
   "outputs": [],
   "source": [
    "# load Latin Hypercube Sampling results; change to the directory on your machine\n",
    "lhs_output_sim_files = []\n",
    "for i in range(2000):\n",
    "    #fname = '/home/jmc678/covid_data/group-testing/notebooks/apr_29_scenarios/point_{}.dill'.format(i)\n",
    "    fname = '/home/yz685/group-testing/notebooks/apr_29_scenarios/point_{}.dill'.format(i)\n",
    "    lhs_output_sim_files.append(fname)\n",
    "\n",
    "scenario_data = load_sim_output(lhs_output_sim_files)\n",
    "res_results = residential_regression(scenario_data)\n",
    "res_pessimistic = calculate_pessimistic_scenario(res_results)\n",
    "centre = get_centre_point()\n"
   ]
  },
  {
   "cell_type": "code",
   "execution_count": null,
   "metadata": {},
   "outputs": [],
   "source": []
  },
  {
   "cell_type": "markdown",
   "metadata": {},
   "source": [
    "The following function computes the new pessimistic configuration from the hyperplane calculation. It returns $\\gamma$ and $x_{pess}$.\n",
    "\n",
    "$$\n",
    "\\gamma = 1.645 \\frac{\\sqrt{c^T\\Sigma c}\\sqrt{c^T\\Sigma^3c}}{c^T\\Sigma^2c} \n",
    "= 1.645\\frac{\\sqrt{\\sum_ic_i^2\\sigma_i^2}{\\sqrt{\\sum_ic_i^2\\sigma_i^6}}}{\\sum_ic_i^2\\sigma_i^4}.\n",
    "$$\n",
    "\n",
    "$$\n",
    "x_{pess} = \\mu +  1.645 \\frac{\\sqrt{c^T\\Sigma c}\\sqrt{c^T\\Sigma^3c}}{c^T\\Sigma^2c}\\frac{\\Sigma c}{\\sqrt{c^T\\Sigma c}} = \\mu +  1.645 \\frac{\\sqrt{c^T\\Sigma^3c}\\Sigma c}{c^T\\Sigma^2c}.\n",
    "$$\n",
    "\n",
    "One can directly compare $\\gamma$ with 1.96 to see how differently the two pessimistic configurations proceed in the pessimistic direction.\n",
    "\n",
    "The size of $\\Sigma$ is proportional to the ranges $[LB, UB]$ we defined. Note that though the powers of $\\Sigma$ cancel out in $\\gamma$, i.e., we can use the range widths (or half-widths) as a proxy when calculating $\\gamma$, the pessimistic direction vector $\\frac{\\Sigma c}{\\sqrt{c^T\\Sigma c}}$ does depend on the absolute size of $\\Sigma$, and therefore depends on our assumption about the number of standard deviations in $[LB, UB]$."
   ]
  },
  {
   "cell_type": "code",
   "execution_count": 4,
   "metadata": {},
   "outputs": [],
   "source": [
    "# compute c and Sigma c\n",
    "\n",
    "# should we add a constant dimension when doing the projection?  I think no, but maybe it makes sense\n",
    "params = list(set(res_results.params.keys()) - set(['const']))\n",
    "\n",
    "sd_dict = dict()\n",
    "for param in params:\n",
    "    sd_dict[param] = (PARAM_BOUNDS[param][1] - PARAM_BOUNDS[param][0])/(2*1.96)\n",
    "\n",
    "sigma = np.array([sd_dict[param] for param in params])\n",
    "Sigma_c = np.array([res_results.params[param] * sd_dict[param]**2 for param in params])\n",
    "c = np.array([res_results.params[param] for param in params])\n",
    "mu = np.array([centre[param] for param in params])"
   ]
  },
  {
   "cell_type": "code",
   "execution_count": 5,
   "metadata": {},
   "outputs": [],
   "source": [
    "# compute orthogonal projection matrix\n",
    "\n",
    "c_tilde = c / np.linalg.norm(c)\n",
    "\n",
    "c_tilde_Sigma_c = sum([c_tilde[i] * sigma[i] **2 * c[i] for i in range(12)])\n",
    "\n",
    "d = Sigma_c - c_tilde_Sigma_c * c_tilde\n",
    "\n",
    "d_tilde = d/np.linalg.norm(d)"
   ]
  },
  {
   "cell_type": "code",
   "execution_count": 6,
   "metadata": {},
   "outputs": [],
   "source": [
    "B = np.matrix([ d_tilde, c_tilde])"
   ]
  },
  {
   "cell_type": "code",
   "execution_count": 7,
   "metadata": {},
   "outputs": [
    {
     "data": {
      "text/plain": [
       "(2, 12)"
      ]
     },
     "execution_count": 7,
     "metadata": {},
     "output_type": "execute_result"
    }
   ],
   "source": [
    "B.shape"
   ]
  },
  {
   "cell_type": "code",
   "execution_count": 8,
   "metadata": {},
   "outputs": [
    {
     "data": {
      "text/plain": [
       "(12,)"
      ]
     },
     "execution_count": 8,
     "metadata": {},
     "output_type": "execute_result"
    }
   ],
   "source": [
    "mu.shape"
   ]
  },
  {
   "cell_type": "code",
   "execution_count": 9,
   "metadata": {},
   "outputs": [
    {
     "data": {
      "text/plain": [
       "array([[ 0.1 ],\n",
       "       [ 1.  ],\n",
       "       [12.  ],\n",
       "       [ 2.  ],\n",
       "       [ 1.5 ],\n",
       "       [ 2.5 ],\n",
       "       [ 3.  ],\n",
       "       [ 1.  ],\n",
       "       [ 1.  ],\n",
       "       [ 0.6 ],\n",
       "       [ 0.36],\n",
       "       [ 1.  ]])"
      ]
     },
     "execution_count": 9,
     "metadata": {},
     "output_type": "execute_result"
    }
   ],
   "source": [
    "mu.reshape(12,1)"
   ]
  },
  {
   "cell_type": "code",
   "execution_count": 10,
   "metadata": {},
   "outputs": [],
   "source": [
    "new_mu = np.array(B * mu.reshape(12,1))\n",
    "Sigma = np.diag([sigma[i]**2 for i in range(12)])\n",
    "new_Sigma = B * Sigma * B.T"
   ]
  },
  {
   "cell_type": "code",
   "execution_count": 11,
   "metadata": {},
   "outputs": [
    {
     "data": {
      "text/plain": [
       "array([[ 2.52508167],\n",
       "       [-0.20688908]])"
      ]
     },
     "execution_count": 11,
     "metadata": {},
     "output_type": "execute_result"
    }
   ],
   "source": [
    "new_mu"
   ]
  },
  {
   "cell_type": "code",
   "execution_count": 12,
   "metadata": {},
   "outputs": [],
   "source": [
    "from scipy.stats import multivariate_normal\n",
    "\n",
    "rv = multivariate_normal(new_mu.reshape(2,), new_Sigma)\n",
    "\n",
    "x_scale = 1.5\n",
    "x_array = np.array([new_mu[0] + x_scale * grid_point for grid_point in np.linspace(-1,1,101)])\n",
    "\n",
    "y_scale = 1\n",
    "y_array = np.array([new_mu[1] + y_scale * grid_point for grid_point in np.linspace(-1,1,101)])\n",
    "\n",
    "X,Y = np.meshgrid(x_array, y_array)\n",
    "\n",
    "pos = np.dstack((X,Y))\n",
    "Z = rv.pdf(pos)\n",
    "#Z=rv.cdf(pos)"
   ]
  },
  {
   "cell_type": "markdown",
   "metadata": {},
   "source": [
    "$y_{pess} = \\mu + \\Phi^{-1}(q)\\frac{\\Sigma c}{\\sqrt{c^T\\Sigma c}} = \\mu + \\Phi^{-1}(q) \\frac{\\|\\Sigma c\\|_2}{\\sqrt{c^T\\Sigma c}} \\frac{\\Sigma c}{\\|\\Sigma c\\|_2}=\\mu + \\Phi^{-1}(q) \\frac{\\|\\Sigma c\\|_2}{\\sqrt{c^T\\Sigma c}} \\cdot proj\\_Sigma\\_c$"
   ]
  },
  {
   "cell_type": "code",
   "execution_count": 13,
   "metadata": {},
   "outputs": [],
   "source": [
    "proj_c_tilde = B * c_tilde.reshape(12,1)\n",
    "proj_Sigma_c = B * Sigma_c.reshape(12,1) / np.linalg.norm(Sigma_c)\n",
    "Sigma_c_slope = proj_Sigma_c[1][0,0] / proj_Sigma_c[0][0,0]\n",
    "\n",
    "\n",
    "c_Sigma_c = sum([c_tilde[i] * sigma[i] **2 * c[i] for i in range(12)]) * np.linalg.norm(c)\n",
    "q=0.99\n",
    "pess_mult = norm.ppf(q)*np.linalg.norm(Sigma_c)/np.sqrt(c_Sigma_c)\n",
    "\n",
    "\n",
    "pess_point = new_mu + pess_mult * proj_Sigma_c"
   ]
  },
  {
   "cell_type": "code",
   "execution_count": 14,
   "metadata": {},
   "outputs": [
    {
     "data": {
      "text/plain": [
       "array([3.74533982, 0.16342321])"
      ]
     },
     "execution_count": 14,
     "metadata": {},
     "output_type": "execute_result"
    }
   ],
   "source": [
    "pess_point=np.array(pess_point).reshape(2,)\n",
    "pess_point"
   ]
  },
  {
   "cell_type": "code",
   "execution_count": 15,
   "metadata": {},
   "outputs": [
    {
     "data": {
      "text/plain": [
       "0.13035419629916664"
      ]
     },
     "execution_count": 15,
     "metadata": {},
     "output_type": "execute_result"
    }
   ],
   "source": [
    "rv.pdf(pess_point)\n",
    "# this is the bivariate normal density at the pessimistic point"
   ]
  },
  {
   "cell_type": "code",
   "execution_count": 18,
   "metadata": {},
   "outputs": [
    {
     "data": {
      "image/png": "[encoded data removed]",
      "text/plain": [
       "<Figure size 720x576 with 1 Axes>"
      ]
     },
     "metadata": {
      "needs_background": "light"
     },
     "output_type": "display_data"
    }
   ],
   "source": [
    "from matplotlib.ticker import FuncFormatter\n",
    "\n",
    "plt.figure(figsize=(10,8))\n",
    "\n",
    "\n",
    "levels = [rv.pdf(pess_point), 0.3, 0.7, 1.1, 1.5, 1.9]\n",
    "\n",
    "\n",
    "CS = plt.contour(X, Y, Z, levels=levels)\n",
    "fmt_func = lambda x,pos: \"{:1.3f}\".format(x) # replace by function mapping density to cumulative density\n",
    "\n",
    "\n",
    "\n",
    "plt.clabel(CS, inline=1, fontsize=10, fmt=FuncFormatter(fmt_func))\n",
    "\n",
    "\n",
    "mult = 0.1\n",
    "plt.quiver([new_mu[0]] * 2, [new_mu[1]] * 2, [mult * proj_c_tilde[0][0,0], mult * proj_Sigma_c[0][0,0]], \n",
    "           [mult * proj_c_tilde[1][0,0], mult * proj_Sigma_c[1][0,0]],color=['r','b'], scale=1, scale_units='width')\n",
    "plt.plot(x_array, Sigma_c_slope*(x_array-new_mu[0])+new_mu[1], '--')\n",
    "plt.vlines(new_mu[0], -1, 0.75, 'r', '--')\n",
    "plt.hlines(pess_point[1], 1, 4, 'g')\n",
    "plt.annotate(r'$c$', (2.45, 0.5))\n",
    "plt.annotate(r'$\\Sigma c$', (2.9, -0.15))\n",
    "\n",
    "\n",
    "plt.plot([pess_point[0]], [pess_point[1]], marker='o', markersize=7, color=\"red\")\n",
    "plt.annotate(r'$x_{pess}$', (pess_point[0], pess_point[1]+0.05))\n",
    "\n",
    "\n",
    "# TODO: Ideally, we would want the contours to be labeled with cumulative density values;\n",
    "\n",
    "plt.show()"
   ]
  },
  {
   "cell_type": "code",
   "execution_count": 58,
   "metadata": {},
   "outputs": [],
   "source": [
    "proj_c_tilde = B * c_tilde.reshape(12,1)"
   ]
  },
  {
   "cell_type": "code",
   "execution_count": 26,
   "metadata": {},
   "outputs": [],
   "source": [
    "proj_Sigma_c = B * Sigma_c.reshape(12,1) / np.linalg.norm(Sigma_c)"
   ]
  },
  {
   "cell_type": "code",
   "execution_count": 68,
   "metadata": {},
   "outputs": [
    {
     "data": {
      "text/plain": [
       "matrix([[1.00000000e+00],\n",
       "        [5.89805982e-17]])"
      ]
     },
     "execution_count": 68,
     "metadata": {},
     "output_type": "execute_result"
    }
   ],
   "source": [
    "proj_c_tilde"
   ]
  },
  {
   "cell_type": "code",
   "execution_count": 69,
   "metadata": {},
   "outputs": [
    {
     "data": {
      "text/plain": [
       "matrix([[0.29039313],\n",
       "        [0.95690743]])"
      ]
     },
     "execution_count": 69,
     "metadata": {},
     "output_type": "execute_result"
    }
   ],
   "source": [
    "proj_Sigma_c"
   ]
  },
  {
   "cell_type": "code",
   "execution_count": null,
   "metadata": {},
   "outputs": [],
   "source": [
    "params_order"
   ]
  },
  {
   "cell_type": "code",
   "execution_count": 4,
   "metadata": {},
   "outputs": [],
   "source": [
    "def calculate_pessimistic_scenario_hyperplane(results, q=0.95, beta=1.96):\n",
    "    # the keys in dict(results.params) specify whether this is for residential\n",
    "    # or virtual vs. residential\n",
    "    lr_results = dict(results.params)\n",
    "    sd_dict = dict()\n",
    "    pess_direction = dict()\n",
    "    params = set(lr_results.keys()) - set(['const'])\n",
    "    centre_infections = lr_results['const']\n",
    "    \n",
    "    invquantile = norm.ppf(q)\n",
    "    \n",
    "    for param in params:\n",
    "        sd_dict[param] = (PARAM_BOUNDS[param][1] - PARAM_BOUNDS[param][0])/(2*beta)\n",
    "        centre_infections += np.mean(PARAM_BOUNDS[param]) * lr_results[param]\n",
    "    \n",
    "    sum_squares_Sigma_1 = 0\n",
    "    sum_squares_Sigma_2 = 0\n",
    "    sum_squares_Sigma_3 = 0\n",
    "    \n",
    "    for param in params:\n",
    "        sum_squares_Sigma_1 += (lr_results[param]*sd_dict[param]) ** 2\n",
    "        sum_squares_Sigma_2 += (lr_results[param]* sd_dict[param]**2) ** 2\n",
    "        sum_squares_Sigma_3 += (lr_results[param]* sd_dict[param]**3) ** 2\n",
    "    \n",
    "    gamma = invquantile * np.sqrt(sum_squares_Sigma_1 * sum_squares_Sigma_3) / sum_squares_Sigma_2\n",
    "    \n",
    "    print('square root of c^T Sigma c = {}'.format(np.sqrt(sum_squares_Sigma_1)))\n",
    "    \n",
    "    for param in params:\n",
    "        pess_direction[param] = lr_results[param]*(sd_dict[param])**2 / np.sqrt(sum_squares_Sigma_1)\n",
    "    print('pessimistic direction {}'.format(pess_direction))\n",
    "    \n",
    "    \n",
    "    # calculate pessimistic scenario based on available params\n",
    "    pess_scenario = dict()\n",
    "    old_pess_scenario = dict()\n",
    "    \n",
    "    # @Alyf see here: pessimistic scenario from magic paragraph\n",
    "    mp_pess_scenario = dict()\n",
    "    for param in params:\n",
    "        pess_scenario[param] = np.mean(PARAM_BOUNDS[param]) + gamma * pess_direction[param]\n",
    "        old_pess_scenario[param] = np.mean(PARAM_BOUNDS[param]) + beta * pess_direction[param]\n",
    "        mp_pess_scenario[param] = np.mean(PARAM_BOUNDS[param]) + invquantile * pess_direction[param]\n",
    "    \n",
    "    # add default virtual params if not present\n",
    "    default_virtual_param_vals = {param:(PARAM_BOUNDS[param][1] + PARAM_BOUNDS[param][0])/2 for param in ADDITIONAL_VIRTUAL_PARAMS}\n",
    "    for virtual_param, val in default_virtual_param_vals.items():\n",
    "        if virtual_param not in params:\n",
    "            pess_scenario[virtual_param] = val\n",
    "\n",
    "    return gamma, pess_direction, mp_pess_scenario, pess_scenario, old_pess_scenario, centre_infections, np.sqrt(sum_squares_Sigma_1)"
   ]
  },
  {
   "cell_type": "code",
   "execution_count": 5,
   "metadata": {},
   "outputs": [
    {
     "name": "stdout",
     "output_type": "stream",
     "text": [
      "square root of c^T Sigma c = 457.90949409819103\n",
      "pessimistic direction {'Sy_time': -0.0012947192984487984, 'R0': 0.5232711930770081, 'ID_time': 0.051102142940969236, 'test_sensitivity': -0.040285520207408304, 'ct_testing_ratio': -0.08117944214759011, 'daily_self_report_prob': -0.006941788198258758, 'test_noncompliance': 0.002637356803922309, 'asymp_prob_mult': 0.07765805188268869, 'ct_mult': -0.09375898267056981, 'inital_prev_mult': 0.026212744870253674, 'outside_inf_mult': 0.012315513821857017, 'E_time': -0.01117046688015883}\n"
     ]
    }
   ],
   "source": [
    "gamma, pess_direction, mp_pess, new_pess, old_pess, centre_infections, sqrt_csc = calculate_pessimistic_scenario_hyperplane(res_results)"
   ]
  },
  {
   "cell_type": "code",
   "execution_count": 6,
   "metadata": {},
   "outputs": [
    {
     "data": {
      "text/plain": [
       "{'Sy_time': 11.997870376266063,\n",
       " 'R0': 3.3607045198119407,\n",
       " 'ID_time': 3.084055545161446,\n",
       " 'test_sensitivity': 0.5337362159732177,\n",
       " 'ct_testing_ratio': 0.8664717001496391,\n",
       " 'daily_self_report_prob': 0.3485817745045651,\n",
       " 'test_noncompliance': 0.10433806590449676,\n",
       " 'asymp_prob_mult': 1.1277361283012262,\n",
       " 'ct_mult': 1.345780197295033,\n",
       " 'inital_prev_mult': 1.0431161284721904,\n",
       " 'outside_inf_mult': 1.0202572175776525,\n",
       " 'E_time': 1.9816262170374295}"
      ]
     },
     "execution_count": 6,
     "metadata": {},
     "output_type": "execute_result"
    }
   ],
   "source": [
    "# Pessmistic scenario from June 22 calculation (magic paragraph)\n",
    "mp_pess"
   ]
  },
  {
   "cell_type": "code",
   "execution_count": 7,
   "metadata": {},
   "outputs": [
    {
     "name": "stdout",
     "output_type": "stream",
     "text": [
      "PARAMETER                      Old_Pess (mult=1.96)           Halfspace_Pess (mult=2.21)     MP_Pess (mult=1.645)          \n",
      "Sy_time                        11.99746235017504              11.997142688574325             11.997870376266063            \n",
      "R0                             3.525611538430936              3.6548053392710704             3.3607045198119407            \n",
      "ID_time                        3.1001602001642996             3.1127771379299682             3.084055545161446             \n",
      "test_sensitivity               0.5210403803934798             0.5110940283999521             0.5337362159732177            \n",
      "ct_testing_ratio               0.8408882933907234             0.8208453771746467             0.8664717001496391            \n",
      "daily_self_report_prob         0.34639409513141284            0.34468019225690805            0.3485817745045651            \n",
      "test_noncompliance             0.10516921933568774            0.10582037337240568            0.10433806590449676           \n",
      "asymp_prob_mult                1.1522097816900698             1.1713832791447414             1.1277361283012262            \n",
      "ct_mult                        1.3162323939656833             1.2930836338306444             1.345780197295033             \n",
      "inital_prev_mult               1.0513769799456971             1.0578488136431092             1.0431161284721904            \n",
      "outside_inf_mult               1.0241384070908397             1.0271790637541443             1.0202572175776525            \n",
      "E_time                         1.9781058849148887             1.9753479362785031             1.9816262170374295            \n"
     ]
    }
   ],
   "source": [
    "# print and compare current pessimistic value and new pessimistic value\n",
    "\n",
    "print (\"{:<30} {:<30} {:<30} {:<30}\".format('PARAMETER', 'Old_Pess (mult=1.96)', 'Halfspace_Pess (mult=2.21)', 'MP_Pess (mult=1.645)'))\n",
    "  \n",
    "for param, old_pess_value in old_pess.items():\n",
    "    print (\"{:<30} {:<30} {:<30} {:<30}\".format(param, old_pess_value, new_pess[param], mp_pess[param]))"
   ]
  },
  {
   "cell_type": "code",
   "execution_count": 11,
   "metadata": {},
   "outputs": [
    {
     "name": "stdout",
     "output_type": "stream",
     "text": [
      "1.0672271230385169 outside_inf_mult\n",
      "0.0029487844905898442 Sy_time\n",
      "71.37230974915639 test_sensitivity\n",
      "46.37072726658484 ct_testing_ratio\n",
      "4.593778128051371 ID_time\n",
      "214.07350820235644 R0\n",
      "4.894288431536393 test_noncompliance\n",
      "4.324923568830988 daily_self_report_prob\n",
      "4.834780737833667 inital_prev_mult\n",
      "44.30011137205822 asymp_prob_mult\n",
      "61.85539077634875 ct_mult\n",
      "0.2194999579049594 E_time\n"
     ]
    }
   ],
   "source": [
    "lr_results = dict(res_results.params)\n",
    "params = set(lr_results.keys()) - set(['const'])\n",
    "\n",
    "c_sq_norm = 0\n",
    "pessdir_sq_norm = 0\n",
    "dot_prod = 0\n",
    "\n",
    "for param in params:\n",
    "    c_sq_norm += lr_results[param]**2\n",
    "    pessdir_sq_norm += pess_direction[param]**2\n",
    "    dot_prod += lr_results[param] * pess_direction[param]\n",
    "    print(lr_results[param] * pess_direction[param], param)\n",
    "\n",
    "c_norm = np.sqrt(c_sq_norm)\n",
    "pessdir_norm = np.sqrt(pessdir_sq_norm)\n",
    "\n",
    "cosine = dot_prod / (c_norm * pessdir_norm)"
   ]
  },
  {
   "cell_type": "code",
   "execution_count": 9,
   "metadata": {},
   "outputs": [
    {
     "data": {
      "text/plain": [
       "0.2903931304473415"
      ]
     },
     "execution_count": 9,
     "metadata": {},
     "output_type": "execute_result"
    }
   ],
   "source": [
    "cosine"
   ]
  },
  {
   "cell_type": "code",
   "execution_count": 30,
   "metadata": {},
   "outputs": [
    {
     "data": {
      "text/plain": [
       "419.58972196656873"
      ]
     },
     "execution_count": 30,
     "metadata": {},
     "output_type": "execute_result"
    }
   ],
   "source": [
    "centre_infections"
   ]
  },
  {
   "cell_type": "code",
   "execution_count": 32,
   "metadata": {},
   "outputs": [],
   "source": [
    "\n",
    "\n",
    "\n",
    "alphas = np.linspace(0.01, 0.99, num=99)\n",
    "\n",
    "\n",
    "quantiles = []\n",
    "pess_infections = []\n",
    "\n",
    "for alpha in alphas:\n",
    "    invcdf_alpha = norm.ppf(alpha)\n",
    "    \n",
    "    quantile_alpha = centre_infections + invcdf_alpha * sqrt_csc\n",
    "    pess_infection_alpha = centre_infections + invcdf_alpha * sqrt_csc * 1.34\n",
    "    \n",
    "    quantiles.append(quantile_alpha)\n",
    "    pess_infections.append(pess_infection_alpha)"
   ]
  },
  {
   "cell_type": "code",
   "execution_count": 47,
   "metadata": {},
   "outputs": [
    {
     "data": {
      "text/plain": [
       "(2507.4930070395185, 3217.3801239643217)"
      ]
     },
     "execution_count": 47,
     "metadata": {},
     "output_type": "execute_result"
    }
   ],
   "source": [
    "quantiles[-1], pess_infections[-1]"
   ]
  },
  {
   "cell_type": "code",
   "execution_count": 44,
   "metadata": {},
   "outputs": [
    {
     "data": {
      "text/plain": [
       "<matplotlib.legend.Legend at 0x7f7f446fc2d0>"
      ]
     },
     "execution_count": 44,
     "metadata": {},
     "output_type": "execute_result"
    },
    {
     "data": {
      "image/png": "[encoded data removed]",
      "text/plain": [
       "<Figure size 576x432 with 1 Axes>"
      ]
     },
     "metadata": {
      "needs_background": "light"
     },
     "output_type": "display_data"
    }
   ],
   "source": [
    "plt.figure(figsize=(8,6))\n",
    "plt.plot(alphas[49:], quantiles[49:], label=r'$\\alpha$-quantile under the prior')\n",
    "plt.plot(alphas[49:], pess_infections[49:], label=r'infections under x_pess($\\alpha$)')\n",
    "plt.title(r'$\\alpha$-quantile under the prior and infections under x_pess($\\alpha$)')\n",
    "plt.xlabel(r'$\\alpha$')\n",
    "plt.ylabel('Number of infections')\n",
    "plt.legend()"
   ]
  },
  {
   "cell_type": "code",
   "execution_count": 6,
   "metadata": {},
   "outputs": [
    {
     "data": {
      "text/plain": [
       "2.207092840079398"
      ]
     },
     "execution_count": 6,
     "metadata": {},
     "output_type": "execute_result"
    }
   ],
   "source": [
    "# compare this to 1.96 (old)\n",
    "gamma"
   ]
  },
  {
   "cell_type": "markdown",
   "metadata": {},
   "source": [
    "Now we print the new_pess and old_pess values;\n",
    "we can confirm the old_pess align with the ones computed using the old calculate_pessimistic_scenario(), which justifies including beta as a parameter"
   ]
  },
  {
   "cell_type": "code",
   "execution_count": 15,
   "metadata": {},
   "outputs": [
    {
     "name": "stdout",
     "output_type": "stream",
     "text": [
      "PARAMETER                      Old_Pess (old_gamma=1.96)      New_Pess (new_gamma=2.21)      Pessimistic_direction         \n",
      "ID_time                        3.1001602001642996             3.1127871737977273             0.05110214294096922           \n",
      "ct_mult                        1.3162323939656833             1.2930652206546571             -0.09375898267056981          \n",
      "R0                             3.525611538430936              3.654908103660069              0.5232711930770082            \n",
      "outside_inf_mult               1.0241384070908397             1.0271814823781196             0.012315513821857015          \n",
      "daily_self_report_prob         0.34639409513141284            0.3446788289702754             -0.006941788198258757         \n",
      "E_time                         1.9781058849148887             1.9753457425284573             -0.011170466880158828         \n",
      "asymp_prob_mult                1.1522097816900698             1.1713985302847967             0.0776580518826887            \n",
      "test_sensitivity               0.5210403803934798             0.5110861167913553             -0.0402855202074083           \n",
      "ct_testing_ratio               0.8408882933907234             0.8208294344744143             -0.0811794421475901           \n",
      "test_noncompliance             0.10516921933568774            0.10582089131867162            0.002637356803922309          \n",
      "inital_prev_mult               1.0513769799456971             1.0578539615219649             0.026212744870253667          \n",
      "Sy_time                        11.99746235017504              11.99714243430648              -0.0012947192984487984        \n"
     ]
    }
   ],
   "source": [
    "# print and compare current pessimistic value and new pessimistic value\n",
    "\n",
    "print (\"{:<30} {:<30} {:<30} {:<30}\".format('PARAMETER', 'Old_Pess (old_gamma=1.96)', 'New_Pess (new_gamma=2.21)', 'Pessimistic_direction'))\n",
    "  \n",
    "for param, old_pess_value in old_pess.items():\n",
    "    print (\"{:<30} {:<30} {:<30} {:<30}\".format(param, old_pess_value, new_pess[param], pess_direction[param]))"
   ]
  },
  {
   "cell_type": "code",
   "execution_count": null,
   "metadata": {},
   "outputs": [],
   "source": []
  }
 ],
 "metadata": {
  "kernelspec": {
   "display_name": "Python 3",
   "language": "python",
   "name": "python3"
  },
  "language_info": {
   "codemirror_mode": {
    "name": "ipython",
    "version": 3
   },
   "file_extension": ".py",
   "mimetype": "text/x-python",
   "name": "python",
   "nbconvert_exporter": "python",
   "pygments_lexer": "ipython3",
   "version": "3.7.6"
  }
 },
 "nbformat": 4,
 "nbformat_minor": 4
}
