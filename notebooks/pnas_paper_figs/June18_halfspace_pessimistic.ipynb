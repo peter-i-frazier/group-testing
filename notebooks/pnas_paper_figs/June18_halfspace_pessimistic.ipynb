{
 "cells": [
  {
   "cell_type": "code",
   "execution_count": 1,
   "metadata": {},
   "outputs": [],
   "source": [
    "import sys\n",
    "import os\n",
    "import numpy as np\n",
    "import multiprocessing\n",
    "import dill\n",
    "import matplotlib.pyplot as plt\n",
    "import pandas as pd\n",
    "import numpy as np\n",
    "\n",
    "\n",
    "from util_functions import *\n",
    "from uncertainty_analysis import *\n",
    "from sim_helper_functions import *\n",
    "\n",
    "\n",
    "module_path = os.path.abspath(os.path.join('../..'))\n",
    "if module_path not in sys.path:\n",
    "    sys.path.append(module_path + \"/src/simulations_v2\")\n",
    "from load_params import load_params\n",
    "\n",
    "from multi_group_simulation import MultiGroupSimulation"
   ]
  },
  {
   "cell_type": "code",
   "execution_count": 2,
   "metadata": {},
   "outputs": [],
   "source": [
    "NPOINTS = 13\n",
    "MULT_UB = 3\n",
    "MULT_LB = 1"
   ]
  },
  {
   "cell_type": "code",
   "execution_count": 3,
   "metadata": {},
   "outputs": [
    {
     "ename": "PermissionError",
     "evalue": "[Errno 13] Permission denied: '/home/jmc678/covid_data/group-testing/notebooks/apr_29_scenarios/point_0.dill'",
     "output_type": "error",
     "traceback": [
      "\u001b[0;31m---------------------------------------------------------------------------\u001b[0m",
      "\u001b[0;31mPermissionError\u001b[0m                           Traceback (most recent call last)",
      "\u001b[0;32m<ipython-input-3-41c8f8423f13>\u001b[0m in \u001b[0;36m<module>\u001b[0;34m\u001b[0m\n\u001b[1;32m      4\u001b[0m     \u001b[0mlhs_output_sim_files\u001b[0m\u001b[0;34m.\u001b[0m\u001b[0mappend\u001b[0m\u001b[0;34m(\u001b[0m\u001b[0mfname\u001b[0m\u001b[0;34m)\u001b[0m\u001b[0;34m\u001b[0m\u001b[0;34m\u001b[0m\u001b[0m\n\u001b[1;32m      5\u001b[0m \u001b[0;34m\u001b[0m\u001b[0m\n\u001b[0;32m----> 6\u001b[0;31m \u001b[0mscenario_data\u001b[0m \u001b[0;34m=\u001b[0m \u001b[0mload_sim_output\u001b[0m\u001b[0;34m(\u001b[0m\u001b[0mlhs_output_sim_files\u001b[0m\u001b[0;34m)\u001b[0m\u001b[0;34m\u001b[0m\u001b[0;34m\u001b[0m\u001b[0m\n\u001b[0m\u001b[1;32m      7\u001b[0m \u001b[0mres_results\u001b[0m \u001b[0;34m=\u001b[0m \u001b[0mresidential_regression\u001b[0m\u001b[0;34m(\u001b[0m\u001b[0mscenario_data\u001b[0m\u001b[0;34m)\u001b[0m\u001b[0;34m\u001b[0m\u001b[0;34m\u001b[0m\u001b[0m\n\u001b[1;32m      8\u001b[0m \u001b[0mres_pessimistic\u001b[0m \u001b[0;34m=\u001b[0m \u001b[0mcalculate_pessimistic_scenario\u001b[0m\u001b[0;34m(\u001b[0m\u001b[0mres_results\u001b[0m\u001b[0;34m)\u001b[0m\u001b[0;34m\u001b[0m\u001b[0;34m\u001b[0m\u001b[0m\n",
      "\u001b[0;32m~/group-testing/notebooks/pnas_paper_figs/uncertainty_analysis.py\u001b[0m in \u001b[0;36mload_sim_output\u001b[0;34m(sim_output_files)\u001b[0m\n\u001b[1;32m    215\u001b[0m \u001b[0;34m\u001b[0m\u001b[0m\n\u001b[1;32m    216\u001b[0m     \u001b[0;32mfor\u001b[0m \u001b[0mfname\u001b[0m \u001b[0;32min\u001b[0m \u001b[0msim_output_files\u001b[0m\u001b[0;34m:\u001b[0m\u001b[0;34m\u001b[0m\u001b[0;34m\u001b[0m\u001b[0m\n\u001b[0;32m--> 217\u001b[0;31m         \u001b[0;32mwith\u001b[0m \u001b[0mopen\u001b[0m\u001b[0;34m(\u001b[0m\u001b[0mfname\u001b[0m\u001b[0;34m,\u001b[0m \u001b[0;34m'rb'\u001b[0m\u001b[0;34m)\u001b[0m \u001b[0;32mas\u001b[0m \u001b[0mfhandle\u001b[0m\u001b[0;34m:\u001b[0m\u001b[0;34m\u001b[0m\u001b[0;34m\u001b[0m\u001b[0m\n\u001b[0m\u001b[1;32m    218\u001b[0m             \u001b[0;34m[\u001b[0m\u001b[0muncertainty_point\u001b[0m\u001b[0;34m,\u001b[0m \u001b[0mres_inf_matrix\u001b[0m\u001b[0;34m,\u001b[0m \u001b[0mres_hosp_matrix\u001b[0m\u001b[0;34m,\u001b[0m \u001b[0mvirtual_inf_matrix\u001b[0m\u001b[0;34m,\u001b[0m \u001b[0mvirtual_hosp_matrix\u001b[0m\u001b[0;34m]\u001b[0m \u001b[0;34m=\u001b[0m \u001b[0mdill\u001b[0m\u001b[0;34m.\u001b[0m\u001b[0mload\u001b[0m\u001b[0;34m(\u001b[0m\u001b[0mfhandle\u001b[0m\u001b[0;34m)\u001b[0m\u001b[0;34m\u001b[0m\u001b[0;34m\u001b[0m\u001b[0m\n\u001b[1;32m    219\u001b[0m \u001b[0;34m\u001b[0m\u001b[0m\n",
      "\u001b[0;31mPermissionError\u001b[0m: [Errno 13] Permission denied: '/home/jmc678/covid_data/group-testing/notebooks/apr_29_scenarios/point_0.dill'"
     ]
    }
   ],
   "source": [
    "lhs_output_sim_files = []\n",
    "for i in range(2000):\n",
    "    fname = '/home/jmc678/covid_data/group-testing/notebooks/apr_29_scenarios/point_{}.dill'.format(i)\n",
    "    lhs_output_sim_files.append(fname)\n",
    "\n",
    "scenario_data = load_sim_output(lhs_output_sim_files)\n",
    "res_results = residential_regression(scenario_data)\n",
    "res_pessimistic = calculate_pessimistic_scenario(res_results)\n",
    "centre = get_centre_point()\n"
   ]
  },
  {
   "cell_type": "markdown",
   "metadata": {},
   "source": [
    "The following function computes the new pessimistic configuration from the hyperplane calculation. It returns $\\gamma$ and $x_{pess}$.\n",
    "\n",
    "$$\n",
    "\\gamma = 1.645 \\frac{\\sqrt{c^T\\Sigma c}\\sqrt{c^T\\Sigma^3c}}{c^T\\Sigma^2c} \n",
    "= 1.645\\frac{\\sqrt{\\sum_ic_i^2\\sigma_i^2}{\\sqrt{\\sum_ic_i^2\\sigma_i^6}}}{\\sum_ic_i^2\\sigma_i^4}.\n",
    "$$\n",
    "\n",
    "$$\n",
    "x_{pess} = \\mu +  1.645 \\frac{\\sqrt{c^T\\Sigma c}\\sqrt{c^T\\Sigma^3c}}{c^T\\Sigma^2c}\\frac{\\Sigma c}{\\sqrt{c^T\\Sigma c}} = \\mu +  1.645 \\frac{\\sqrt{c^T\\Sigma^3c}\\Sigma c}{c^T\\Sigma^2c}.\n",
    "$$\n",
    "\n",
    "One can directly compare $\\gamma$ with 1.96 to see how differently the two pessimistic configurations proceed in the pessimistic direction."
   ]
  },
  {
   "cell_type": "code",
   "execution_count": null,
   "metadata": {},
   "outputs": [],
   "source": [
    "def calculate_pessimistic_scenario_hyperplane(results, invquantile = 1.645):\n",
    "    # the keys in dict(results.params) specify whether this is for residential\n",
    "    # or virtual vs. residential\n",
    "    lr_results = dict(results.params)\n",
    "    range_dict = dict()\n",
    "    pess_direction = dict()\n",
    "    params = set(lr_results.keys()) - set(['const'])\n",
    "    for param in params:\n",
    "        range_dict[param] = (PARAM_BOUNDS[param][1] - PARAM_BOUNDS[param][0])/2\n",
    "\n",
    "    \n",
    "    sum_squares_Sigma_1 = 0\n",
    "    sum_squares_Sigma_2 = 0\n",
    "    sum_squares_Sigma_3 = 0\n",
    "    \n",
    "    for param in params:\n",
    "        sum_squares_Sigma_1 += (lr_results[param]*range_dict[param]) ** 2\n",
    "        sum_squares_Sigma_2 += (lr_results[param]* range_dict[param]**2) ** 2\n",
    "        sum_squares_Sigma_3 += (lr_results[param]* range_dict[param]**3) ** 2\n",
    "    \n",
    "    gamma = invquantile * np.sqrt(sum_squares_Sigma_1 * sum_squares_Sigma_3) / sum_squares_Sigma_2\n",
    "    \n",
    "    for param in params:\n",
    "        pess_direction[param] = lr_results[param]*(range_dict[param])**2 / np.sqrt(sum_squares_Sigma_1)\n",
    "    \n",
    "    # calculate pessimistic scenario based on available params\n",
    "    pess_scenario = dict()\n",
    "    for param in params:\n",
    "        pess_scenario[param] = np.mean(PARAM_BOUNDS[param]) + gamma * pess_direction[param]\n",
    "    \n",
    "    # add default virtual params if not present\n",
    "    default_virtual_param_vals = {param:(PARAM_BOUNDS[param][1] + PARAM_BOUNDS[param][0])/2 for param in ADDITIONAL_VIRTUAL_PARAMS}\n",
    "    for virtual_param, val in default_virtual_param_vals.items():\n",
    "        if virtual_param not in params:\n",
    "            pess_scenario[virtual_param] = val\n",
    "\n",
    "    return gamma, pess_scenario"
   ]
  }
 ],
 "metadata": {
  "kernelspec": {
   "display_name": "Python 3",
   "language": "python",
   "name": "python3"
  },
  "language_info": {
   "codemirror_mode": {
    "name": "ipython",
    "version": 3
   },
   "file_extension": ".py",
   "mimetype": "text/x-python",
   "name": "python",
   "nbconvert_exporter": "python",
   "pygments_lexer": "ipython3",
   "version": "3.7.6"
  }
 },
 "nbformat": 4,
 "nbformat_minor": 4
}
