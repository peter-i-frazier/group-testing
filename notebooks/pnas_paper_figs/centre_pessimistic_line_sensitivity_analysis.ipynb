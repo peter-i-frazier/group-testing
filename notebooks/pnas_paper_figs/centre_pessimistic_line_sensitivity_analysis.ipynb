{
 "cells": [
  {
   "cell_type": "code",
   "execution_count": 1,
   "metadata": {},
   "outputs": [],
   "source": [
    "import sys\n",
    "import os\n",
    "import numpy as np\n",
    "import multiprocessing\n",
    "import dill\n",
    "import matplotlib.pyplot as plt\n",
    "import pandas as pd\n",
    "import numpy as np\n",
    "\n",
    "\n",
    "from util_functions import *\n",
    "from uncertainty_analysis import *\n",
    "from sim_helper_functions import *"
   ]
  },
  {
   "cell_type": "code",
   "execution_count": 2,
   "metadata": {
    "collapsed": true
   },
   "outputs": [],
   "source": [
    "lhs_output_sim_files = []\n",
    "for i in range(200):\n",
    "    fname = '/home/jmc678/covid_data/group-testing/notebooks/apr_21_scenarios/point_{}.dill'.format(i)\n",
    "    lhs_output_sim_files.append(fname)\n"
   ]
  },
  {
   "cell_type": "code",
   "execution_count": 3,
   "metadata": {
    "collapsed": true
   },
   "outputs": [],
   "source": [
    "scenario_data = load_lhs_output(lhs_output_sim_files)\n",
    "res_results = residential_regression(scenario_data)\n",
    "res_pessimistic = calculate_pessimistic_scenario(res_results)\n",
    "centre = get_centre_point()"
   ]
  },
  {
   "cell_type": "code",
   "execution_count": 4,
   "metadata": {},
   "outputs": [
    {
     "name": "stdout",
     "output_type": "stream",
     "text": [
      "./centre_pessimistic_line_sensitivity_analysis_1620142087\n"
     ]
    }
   ],
   "source": [
    "folder_name = \"./centre_pessimistic_line_sensitivity_analysis_{}\".format(get_timestamp())\n",
    "os.mkdir(folder_name)\n",
    "print(folder_name)"
   ]
  },
  {
   "cell_type": "code",
   "execution_count": 5,
   "metadata": {
    "scrolled": false
   },
   "outputs": [
    {
     "name": "stdout",
     "output_type": "stream",
     "text": [
      "launched 10 processes\n",
      "running sim with id 4, nreps 10, T 112, filename ./centre_pessimistic_line_sensitivity_analysis_1620142087/mult_-0.33333333333333337.dill, run_only_residential True\n",
      "running residential sim with id 4\n",
      "running sim with id 9, nreps 10, T 112, filename ./centre_pessimistic_line_sensitivity_analysis_1620142087/mult_0.7777777777777777.dill, run_only_residential True\n",
      "running sim with id 5, nreps 10, T 112, filename ./centre_pessimistic_line_sensitivity_analysis_1620142087/mult_-0.11111111111111116.dill, run_only_residential True\n",
      "running residential sim with id 9\n",
      "running residential sim with id 5\n",
      "running sim with id 6, nreps 10, T 112, filename ./centre_pessimistic_line_sensitivity_analysis_1620142087/mult_0.11111111111111116.dill, run_only_residential True\n",
      "running residential sim with id 6\n",
      "running sim with id 1, nreps 10, T 112, filename ./centre_pessimistic_line_sensitivity_analysis_1620142087/mult_-1.0.dill, run_only_residential True\n",
      "running residential sim with id 1\n",
      "running sim with id 8, nreps 10, T 112, filename ./centre_pessimistic_line_sensitivity_analysis_1620142087/mult_0.5555555555555554.dill, run_only_residential True\n",
      "running residential sim with id 8\n",
      "running sim with id 3, nreps 10, T 112, filename ./centre_pessimistic_line_sensitivity_analysis_1620142087/mult_-0.5555555555555556.dill, run_only_residential True\n",
      "running residential sim with id 3\n",
      "running sim with id 7, nreps 10, T 112, filename ./centre_pessimistic_line_sensitivity_analysis_1620142087/mult_0.33333333333333326.dill, run_only_residential True\n",
      "running residential sim with id 7\n",
      "running sim with id 2, nreps 10, T 112, filename ./centre_pessimistic_line_sensitivity_analysis_1620142087/mult_-0.7777777777777778.dill, run_only_residential True\n",
      "running sim with id 10, nreps 10, T 112, filename ./centre_pessimistic_line_sensitivity_analysis_1620142087/mult_1.0.dill, run_only_residential True\n",
      "running residential sim with id 2\n",
      "running residential sim with id 10\n",
      "done running processes\n"
     ]
    }
   ],
   "source": [
    "\n",
    "direction = {}\n",
    "for param in centre:\n",
    "    direction[param] = res_pessimistic[param] - centre[param]\n",
    "\n",
    "points_on_line = []\n",
    "fnames = []\n",
    "mults = np.linspace(-1,1,10)\n",
    "for mult in mults:\n",
    "    point = {}\n",
    "    for param in centre:\n",
    "        point[param] = centre[param] + mult * direction[param]\n",
    "    points_on_line.append(point)\n",
    "    fname = folder_name + \"/mult_{}.dill\".format(mult)\n",
    "    fnames.append(fname)\n",
    "\n",
    "run_sims_new_process(points_on_line, fnames, nreps=10)\n",
    "\n"
   ]
  },
  {
   "cell_type": "code",
   "execution_count": 14,
   "metadata": {},
   "outputs": [
    {
     "name": "stdout",
     "output_type": "stream",
     "text": [
      "['./centre_pessimistic_line_sensitivity_analysis_1620142087/mult_-1.0.dill', './centre_pessimistic_line_sensitivity_analysis_1620142087/mult_-0.7777777777777778.dill', './centre_pessimistic_line_sensitivity_analysis_1620142087/mult_-0.5555555555555556.dill', './centre_pessimistic_line_sensitivity_analysis_1620142087/mult_-0.33333333333333337.dill', './centre_pessimistic_line_sensitivity_analysis_1620142087/mult_-0.11111111111111116.dill', './centre_pessimistic_line_sensitivity_analysis_1620142087/mult_0.11111111111111116.dill', './centre_pessimistic_line_sensitivity_analysis_1620142087/mult_0.33333333333333326.dill', './centre_pessimistic_line_sensitivity_analysis_1620142087/mult_0.5555555555555554.dill', './centre_pessimistic_line_sensitivity_analysis_1620142087/mult_0.7777777777777777.dill', './centre_pessimistic_line_sensitivity_analysis_1620142087/mult_1.0.dill']\n"
     ]
    }
   ],
   "source": [
    "print(fnames)"
   ]
  },
  {
   "cell_type": "code",
   "execution_count": 4,
   "metadata": {
    "collapsed": true
   },
   "outputs": [],
   "source": [
    "fnames = ['./centre_pessimistic_line_sensitivity_analysis_1620142087/mult_-1.0.dill', './centre_pessimistic_line_sensitivity_analysis_1620142087/mult_-0.7777777777777778.dill', './centre_pessimistic_line_sensitivity_analysis_1620142087/mult_-0.5555555555555556.dill', './centre_pessimistic_line_sensitivity_analysis_1620142087/mult_-0.33333333333333337.dill', './centre_pessimistic_line_sensitivity_analysis_1620142087/mult_-0.11111111111111116.dill', './centre_pessimistic_line_sensitivity_analysis_1620142087/mult_0.11111111111111116.dill', './centre_pessimistic_line_sensitivity_analysis_1620142087/mult_0.33333333333333326.dill', './centre_pessimistic_line_sensitivity_analysis_1620142087/mult_0.5555555555555554.dill', './centre_pessimistic_line_sensitivity_analysis_1620142087/mult_0.7777777777777777.dill', './centre_pessimistic_line_sensitivity_analysis_1620142087/mult_1.0.dill']\n"
   ]
  },
  {
   "cell_type": "code",
   "execution_count": 5,
   "metadata": {},
   "outputs": [],
   "source": [
    "sim_results = load_lhs_output(fnames)"
   ]
  },
  {
   "cell_type": "code",
   "execution_count": 6,
   "metadata": {},
   "outputs": [],
   "source": [
    "import dill\n",
    "with open(fnames[0], 'rb') as handle:\n",
    "    [uncertainty_point, res_inf_matrix, res_hosp_matrix, virtual_inf_matrix, virtual_hosp_matrix] = dill.load(handle)"
   ]
  },
  {
   "cell_type": "code",
   "execution_count": 9,
   "metadata": {},
   "outputs": [
    {
     "name": "stdout",
     "output_type": "stream",
     "text": [
      "None\n"
     ]
    }
   ],
   "source": [
    "print(virtual_inf_matrix)"
   ]
  },
  {
   "cell_type": "code",
   "execution_count": 7,
   "metadata": {},
   "outputs": [
    {
     "data": {
      "text/plain": [
       "(array([102.4, 124. , 143.2]), array([137.1, 157.5, 176.2]))"
      ]
     },
     "execution_count": 7,
     "metadata": {},
     "output_type": "execute_result"
    }
   ],
   "source": [
    "get_stats(res_inf_matrix)"
   ]
  },
  {
   "cell_type": "code",
   "execution_count": 10,
   "metadata": {},
   "outputs": [
    {
     "ename": "AttributeError",
     "evalue": "'dict' object has no attribute '__type__'",
     "output_type": "error",
     "traceback": [
      "\u001b[0;31m---------------------------------------------------------------------------\u001b[0m",
      "\u001b[0;31mAttributeError\u001b[0m                            Traceback (most recent call last)",
      "\u001b[0;32m<ipython-input-10-15337aee8c02>\u001b[0m in \u001b[0;36m<module>\u001b[0;34m()\u001b[0m\n\u001b[0;32m----> 1\u001b[0;31m \u001b[0muncertainty_point\u001b[0m\u001b[0;34m.\u001b[0m\u001b[0m__type__\u001b[0m\u001b[0;34m\u001b[0m\u001b[0m\n\u001b[0m",
      "\u001b[0;31mAttributeError\u001b[0m: 'dict' object has no attribute '__type__'"
     ]
    }
   ],
   "source": [
    "uncertainty_point.__type__"
   ]
  },
  {
   "cell_type": "code",
   "execution_count": 13,
   "metadata": {},
   "outputs": [
    {
     "data": {
      "text/plain": [
       "True"
      ]
     },
     "execution_count": 13,
     "metadata": {},
     "output_type": "execute_result"
    }
   ],
   "source": [
    "type(uncertainty_point) == dict"
   ]
  },
  {
   "cell_type": "code",
   "execution_count": 9,
   "metadata": {},
   "outputs": [
    {
     "data": {
      "text/plain": [
       "{'E_time': 1.9787256740281651,\n",
       " 'ID_time': 3.1100634117391577,\n",
       " 'R0': 1.4773008668026781,\n",
       " 'Sy_time': 11.896007095448951,\n",
       " 'asymp_prob_mult': 0.8462747557429471,\n",
       " 'ct_mult': 1.698220849288854,\n",
       " 'ct_testing_ratio': 1.1575183106500413,\n",
       " 'daily_self_report_prob': 0.36909240085631084,\n",
       " 'inital_prev_mult': 1.0325417255840628,\n",
       " 'intermittent_non-compliance': 0.5,\n",
       " 'outside_inf_mult': 0.970333109792306,\n",
       " 'test_noncompliance': 0.09597570258236213,\n",
       " 'test_sensitivity': 0.6743563848433932,\n",
       " 'virtual_noncompliance': 0.5,\n",
       " 'virtual_pop_size': 0.5,\n",
       " 'virtual_r0_mult': 1.4999999999999998}"
      ]
     },
     "execution_count": 9,
     "metadata": {},
     "output_type": "execute_result"
    }
   ],
   "source": [
    "uncertainty_point"
   ]
  },
  {
   "cell_type": "code",
   "execution_count": 6,
   "metadata": {},
   "outputs": [
    {
     "data": {
      "text/html": [
       "<div>\n",
       "<style scoped>\n",
       "    .dataframe tbody tr th:only-of-type {\n",
       "        vertical-align: middle;\n",
       "    }\n",
       "\n",
       "    .dataframe tbody tr th {\n",
       "        vertical-align: top;\n",
       "    }\n",
       "\n",
       "    .dataframe thead th {\n",
       "        text-align: right;\n",
       "    }\n",
       "</style>\n",
       "<table border=\"1\" class=\"dataframe\">\n",
       "  <thead>\n",
       "    <tr style=\"text-align: right;\">\n",
       "      <th></th>\n",
       "      <th>asymp_prob_mult</th>\n",
       "      <th>inital_prev_mult</th>\n",
       "      <th>R0</th>\n",
       "      <th>outside_inf_mult</th>\n",
       "      <th>daily_self_report_prob</th>\n",
       "      <th>ct_mult</th>\n",
       "      <th>ct_testing_ratio</th>\n",
       "      <th>test_sensitivity</th>\n",
       "      <th>test_noncompliance</th>\n",
       "      <th>E_time</th>\n",
       "      <th>...</th>\n",
       "      <th>res_cornell_inf_90</th>\n",
       "      <th>res_ithaca_inf_10</th>\n",
       "      <th>res_ithaca_inf_50</th>\n",
       "      <th>res_ithaca_inf_90</th>\n",
       "      <th>vir_cornell_inf_10</th>\n",
       "      <th>vir_cornell_inf_50</th>\n",
       "      <th>vir_cornell_inf_90</th>\n",
       "      <th>vir_ithaca_inf_10</th>\n",
       "      <th>vir_ithaca_inf_50</th>\n",
       "      <th>vir_ithaca_inf_90</th>\n",
       "    </tr>\n",
       "  </thead>\n",
       "  <tbody>\n",
       "    <tr>\n",
       "      <th>0</th>\n",
       "      <td>0.846275</td>\n",
       "      <td>1.032542</td>\n",
       "      <td>1.477301</td>\n",
       "      <td>0.970333</td>\n",
       "      <td>0.369092</td>\n",
       "      <td>1.698221</td>\n",
       "      <td>1.157518</td>\n",
       "      <td>0.674356</td>\n",
       "      <td>0.095976</td>\n",
       "      <td>1.978726</td>\n",
       "      <td>...</td>\n",
       "      <td>143.2</td>\n",
       "      <td>137.1</td>\n",
       "      <td>157.5</td>\n",
       "      <td>176.2</td>\n",
       "      <td>NaN</td>\n",
       "      <td>NaN</td>\n",
       "      <td>NaN</td>\n",
       "      <td>NaN</td>\n",
       "      <td>NaN</td>\n",
       "      <td>NaN</td>\n",
       "    </tr>\n",
       "    <tr>\n",
       "      <th>1</th>\n",
       "      <td>0.880436</td>\n",
       "      <td>1.025310</td>\n",
       "      <td>1.704567</td>\n",
       "      <td>0.976926</td>\n",
       "      <td>0.367072</td>\n",
       "      <td>1.654172</td>\n",
       "      <td>1.122514</td>\n",
       "      <td>0.657833</td>\n",
       "      <td>0.096870</td>\n",
       "      <td>1.983453</td>\n",
       "      <td>...</td>\n",
       "      <td>140.8</td>\n",
       "      <td>148.6</td>\n",
       "      <td>159.0</td>\n",
       "      <td>186.5</td>\n",
       "      <td>NaN</td>\n",
       "      <td>NaN</td>\n",
       "      <td>NaN</td>\n",
       "      <td>NaN</td>\n",
       "      <td>NaN</td>\n",
       "      <td>NaN</td>\n",
       "    </tr>\n",
       "    <tr>\n",
       "      <th>2</th>\n",
       "      <td>0.914597</td>\n",
       "      <td>1.018079</td>\n",
       "      <td>1.931834</td>\n",
       "      <td>0.983518</td>\n",
       "      <td>0.365051</td>\n",
       "      <td>1.610123</td>\n",
       "      <td>1.087510</td>\n",
       "      <td>0.641309</td>\n",
       "      <td>0.097764</td>\n",
       "      <td>1.988181</td>\n",
       "      <td>...</td>\n",
       "      <td>170.2</td>\n",
       "      <td>154.9</td>\n",
       "      <td>171.5</td>\n",
       "      <td>186.2</td>\n",
       "      <td>NaN</td>\n",
       "      <td>NaN</td>\n",
       "      <td>NaN</td>\n",
       "      <td>NaN</td>\n",
       "      <td>NaN</td>\n",
       "      <td>NaN</td>\n",
       "    </tr>\n",
       "    <tr>\n",
       "      <th>3</th>\n",
       "      <td>0.948758</td>\n",
       "      <td>1.010847</td>\n",
       "      <td>2.159100</td>\n",
       "      <td>0.990111</td>\n",
       "      <td>0.363031</td>\n",
       "      <td>1.566074</td>\n",
       "      <td>1.052506</td>\n",
       "      <td>0.624785</td>\n",
       "      <td>0.098659</td>\n",
       "      <td>1.992909</td>\n",
       "      <td>...</td>\n",
       "      <td>170.2</td>\n",
       "      <td>163.0</td>\n",
       "      <td>174.0</td>\n",
       "      <td>186.6</td>\n",
       "      <td>NaN</td>\n",
       "      <td>NaN</td>\n",
       "      <td>NaN</td>\n",
       "      <td>NaN</td>\n",
       "      <td>NaN</td>\n",
       "      <td>NaN</td>\n",
       "    </tr>\n",
       "    <tr>\n",
       "      <th>4</th>\n",
       "      <td>0.982919</td>\n",
       "      <td>1.003616</td>\n",
       "      <td>2.386367</td>\n",
       "      <td>0.996704</td>\n",
       "      <td>0.361010</td>\n",
       "      <td>1.522025</td>\n",
       "      <td>1.017502</td>\n",
       "      <td>0.608262</td>\n",
       "      <td>0.099553</td>\n",
       "      <td>1.997636</td>\n",
       "      <td>...</td>\n",
       "      <td>211.1</td>\n",
       "      <td>163.9</td>\n",
       "      <td>180.5</td>\n",
       "      <td>214.0</td>\n",
       "      <td>NaN</td>\n",
       "      <td>NaN</td>\n",
       "      <td>NaN</td>\n",
       "      <td>NaN</td>\n",
       "      <td>NaN</td>\n",
       "      <td>NaN</td>\n",
       "    </tr>\n",
       "    <tr>\n",
       "      <th>5</th>\n",
       "      <td>1.017081</td>\n",
       "      <td>0.996384</td>\n",
       "      <td>2.613633</td>\n",
       "      <td>1.003296</td>\n",
       "      <td>0.358990</td>\n",
       "      <td>1.477975</td>\n",
       "      <td>0.982498</td>\n",
       "      <td>0.591738</td>\n",
       "      <td>0.100447</td>\n",
       "      <td>2.002364</td>\n",
       "      <td>...</td>\n",
       "      <td>227.5</td>\n",
       "      <td>170.9</td>\n",
       "      <td>185.0</td>\n",
       "      <td>209.6</td>\n",
       "      <td>NaN</td>\n",
       "      <td>NaN</td>\n",
       "      <td>NaN</td>\n",
       "      <td>NaN</td>\n",
       "      <td>NaN</td>\n",
       "      <td>NaN</td>\n",
       "    </tr>\n",
       "    <tr>\n",
       "      <th>6</th>\n",
       "      <td>1.051242</td>\n",
       "      <td>0.989153</td>\n",
       "      <td>2.840900</td>\n",
       "      <td>1.009889</td>\n",
       "      <td>0.356969</td>\n",
       "      <td>1.433926</td>\n",
       "      <td>0.947494</td>\n",
       "      <td>0.575215</td>\n",
       "      <td>0.101341</td>\n",
       "      <td>2.007091</td>\n",
       "      <td>...</td>\n",
       "      <td>335.0</td>\n",
       "      <td>195.5</td>\n",
       "      <td>209.5</td>\n",
       "      <td>251.0</td>\n",
       "      <td>NaN</td>\n",
       "      <td>NaN</td>\n",
       "      <td>NaN</td>\n",
       "      <td>NaN</td>\n",
       "      <td>NaN</td>\n",
       "      <td>NaN</td>\n",
       "    </tr>\n",
       "    <tr>\n",
       "      <th>7</th>\n",
       "      <td>1.085403</td>\n",
       "      <td>0.981921</td>\n",
       "      <td>3.068166</td>\n",
       "      <td>1.016482</td>\n",
       "      <td>0.354949</td>\n",
       "      <td>1.389877</td>\n",
       "      <td>0.912490</td>\n",
       "      <td>0.558691</td>\n",
       "      <td>0.102236</td>\n",
       "      <td>2.011819</td>\n",
       "      <td>...</td>\n",
       "      <td>396.4</td>\n",
       "      <td>204.3</td>\n",
       "      <td>245.5</td>\n",
       "      <td>265.0</td>\n",
       "      <td>NaN</td>\n",
       "      <td>NaN</td>\n",
       "      <td>NaN</td>\n",
       "      <td>NaN</td>\n",
       "      <td>NaN</td>\n",
       "      <td>NaN</td>\n",
       "    </tr>\n",
       "    <tr>\n",
       "      <th>8</th>\n",
       "      <td>1.119564</td>\n",
       "      <td>0.974690</td>\n",
       "      <td>3.295433</td>\n",
       "      <td>1.023074</td>\n",
       "      <td>0.352928</td>\n",
       "      <td>1.345828</td>\n",
       "      <td>0.877486</td>\n",
       "      <td>0.542167</td>\n",
       "      <td>0.103130</td>\n",
       "      <td>2.016547</td>\n",
       "      <td>...</td>\n",
       "      <td>544.8</td>\n",
       "      <td>210.5</td>\n",
       "      <td>253.5</td>\n",
       "      <td>281.0</td>\n",
       "      <td>NaN</td>\n",
       "      <td>NaN</td>\n",
       "      <td>NaN</td>\n",
       "      <td>NaN</td>\n",
       "      <td>NaN</td>\n",
       "      <td>NaN</td>\n",
       "    </tr>\n",
       "    <tr>\n",
       "      <th>9</th>\n",
       "      <td>1.153725</td>\n",
       "      <td>0.967458</td>\n",
       "      <td>3.522699</td>\n",
       "      <td>1.029667</td>\n",
       "      <td>0.350908</td>\n",
       "      <td>1.301779</td>\n",
       "      <td>0.842482</td>\n",
       "      <td>0.525644</td>\n",
       "      <td>0.104024</td>\n",
       "      <td>2.021274</td>\n",
       "      <td>...</td>\n",
       "      <td>1409.8</td>\n",
       "      <td>263.9</td>\n",
       "      <td>302.5</td>\n",
       "      <td>351.2</td>\n",
       "      <td>NaN</td>\n",
       "      <td>NaN</td>\n",
       "      <td>NaN</td>\n",
       "      <td>NaN</td>\n",
       "      <td>NaN</td>\n",
       "      <td>NaN</td>\n",
       "    </tr>\n",
       "  </tbody>\n",
       "</table>\n",
       "<p>10 rows × 28 columns</p>\n",
       "</div>"
      ],
      "text/plain": [
       "   asymp_prob_mult  inital_prev_mult        R0  outside_inf_mult  \\\n",
       "0         0.846275          1.032542  1.477301          0.970333   \n",
       "1         0.880436          1.025310  1.704567          0.976926   \n",
       "2         0.914597          1.018079  1.931834          0.983518   \n",
       "3         0.948758          1.010847  2.159100          0.990111   \n",
       "4         0.982919          1.003616  2.386367          0.996704   \n",
       "5         1.017081          0.996384  2.613633          1.003296   \n",
       "6         1.051242          0.989153  2.840900          1.009889   \n",
       "7         1.085403          0.981921  3.068166          1.016482   \n",
       "8         1.119564          0.974690  3.295433          1.023074   \n",
       "9         1.153725          0.967458  3.522699          1.029667   \n",
       "\n",
       "   daily_self_report_prob   ct_mult  ct_testing_ratio  test_sensitivity  \\\n",
       "0                0.369092  1.698221          1.157518          0.674356   \n",
       "1                0.367072  1.654172          1.122514          0.657833   \n",
       "2                0.365051  1.610123          1.087510          0.641309   \n",
       "3                0.363031  1.566074          1.052506          0.624785   \n",
       "4                0.361010  1.522025          1.017502          0.608262   \n",
       "5                0.358990  1.477975          0.982498          0.591738   \n",
       "6                0.356969  1.433926          0.947494          0.575215   \n",
       "7                0.354949  1.389877          0.912490          0.558691   \n",
       "8                0.352928  1.345828          0.877486          0.542167   \n",
       "9                0.350908  1.301779          0.842482          0.525644   \n",
       "\n",
       "   test_noncompliance    E_time  ...  res_cornell_inf_90  res_ithaca_inf_10  \\\n",
       "0            0.095976  1.978726  ...               143.2              137.1   \n",
       "1            0.096870  1.983453  ...               140.8              148.6   \n",
       "2            0.097764  1.988181  ...               170.2              154.9   \n",
       "3            0.098659  1.992909  ...               170.2              163.0   \n",
       "4            0.099553  1.997636  ...               211.1              163.9   \n",
       "5            0.100447  2.002364  ...               227.5              170.9   \n",
       "6            0.101341  2.007091  ...               335.0              195.5   \n",
       "7            0.102236  2.011819  ...               396.4              204.3   \n",
       "8            0.103130  2.016547  ...               544.8              210.5   \n",
       "9            0.104024  2.021274  ...              1409.8              263.9   \n",
       "\n",
       "   res_ithaca_inf_50  res_ithaca_inf_90  vir_cornell_inf_10  \\\n",
       "0              157.5              176.2                 NaN   \n",
       "1              159.0              186.5                 NaN   \n",
       "2              171.5              186.2                 NaN   \n",
       "3              174.0              186.6                 NaN   \n",
       "4              180.5              214.0                 NaN   \n",
       "5              185.0              209.6                 NaN   \n",
       "6              209.5              251.0                 NaN   \n",
       "7              245.5              265.0                 NaN   \n",
       "8              253.5              281.0                 NaN   \n",
       "9              302.5              351.2                 NaN   \n",
       "\n",
       "   vir_cornell_inf_50  vir_cornell_inf_90  vir_ithaca_inf_10  \\\n",
       "0                 NaN                 NaN                NaN   \n",
       "1                 NaN                 NaN                NaN   \n",
       "2                 NaN                 NaN                NaN   \n",
       "3                 NaN                 NaN                NaN   \n",
       "4                 NaN                 NaN                NaN   \n",
       "5                 NaN                 NaN                NaN   \n",
       "6                 NaN                 NaN                NaN   \n",
       "7                 NaN                 NaN                NaN   \n",
       "8                 NaN                 NaN                NaN   \n",
       "9                 NaN                 NaN                NaN   \n",
       "\n",
       "   vir_ithaca_inf_50  vir_ithaca_inf_90  \n",
       "0                NaN                NaN  \n",
       "1                NaN                NaN  \n",
       "2                NaN                NaN  \n",
       "3                NaN                NaN  \n",
       "4                NaN                NaN  \n",
       "5                NaN                NaN  \n",
       "6                NaN                NaN  \n",
       "7                NaN                NaN  \n",
       "8                NaN                NaN  \n",
       "9                NaN                NaN  \n",
       "\n",
       "[10 rows x 28 columns]"
      ]
     },
     "execution_count": 6,
     "metadata": {},
     "output_type": "execute_result"
    }
   ],
   "source": [
    "sim_results"
   ]
  },
  {
   "cell_type": "code",
   "execution_count": null,
   "metadata": {
    "collapsed": true
   },
   "outputs": [],
   "source": []
  }
 ],
 "metadata": {
  "kernelspec": {
   "display_name": "Python 3",
   "language": "python",
   "name": "python3"
  },
  "language_info": {
   "codemirror_mode": {
    "name": "ipython",
    "version": 3
   },
   "file_extension": ".py",
   "mimetype": "text/x-python",
   "name": "python",
   "nbconvert_exporter": "python",
   "pygments_lexer": "ipython3",
   "version": "3.6.3"
  }
 },
 "nbformat": 4,
 "nbformat_minor": 2
}
