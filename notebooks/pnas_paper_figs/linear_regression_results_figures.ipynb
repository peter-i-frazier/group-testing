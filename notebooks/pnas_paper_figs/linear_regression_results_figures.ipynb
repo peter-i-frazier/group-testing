{
 "cells": [
  {
   "cell_type": "code",
   "execution_count": 1,
   "metadata": {
    "collapsed": true
   },
   "outputs": [],
   "source": [
    "import sys\n",
    "import os\n",
    "import numpy as np\n",
    "import multiprocessing\n",
    "import dill\n",
    "import matplotlib.pyplot as plt\n",
    "import pandas as pd\n",
    "\n",
    "module_path = os.path.abspath(os.path.join('..'))\n",
    "if module_path not in sys.path:\n",
    "    sys.path.append(module_path + \"/../src/simulations_v2\")\n",
    "    sys.path.append(module_path + \"/..\")\n",
    "from load_params import load_params\n",
    "\n",
    "from multi_group_simulation import MultiGroupSimulation"
   ]
  },
  {
   "cell_type": "code",
   "execution_count": 2,
   "metadata": {
    "collapsed": true
   },
   "outputs": [],
   "source": [
    "from util_functions import *\n",
    "from uncertainty_analysis import *\n",
    "from sim_helper_functions import *"
   ]
  },
  {
   "cell_type": "code",
   "execution_count": 3,
   "metadata": {
    "collapsed": true
   },
   "outputs": [],
   "source": [
    "lhs_output_sim_files = []\n",
    "for i in range(2000):\n",
    "    fname = '/home/aaj54/group-testing/notebooks/apr_29_scenarios/point_{}.dill'.format(i)\n",
    "    lhs_output_sim_files.append(fname)"
   ]
  },
  {
   "cell_type": "code",
   "execution_count": 4,
   "metadata": {
    "collapsed": true
   },
   "outputs": [],
   "source": [
    "scenario_data = load_sim_output(lhs_output_sim_files)\n",
    "res_results = residential_regression(scenario_data)\n",
    "res_pessimistic = calculate_pessimistic_scenario(res_results)"
   ]
  },
  {
   "cell_type": "code",
   "execution_count": 5,
   "metadata": {
    "collapsed": true
   },
   "outputs": [],
   "source": [
    "results_summary = res_results.summary()\n",
    "results_as_html = results_summary.tables[1].as_html()\n",
    "lr_summary_df = pd.read_html(results_as_html, header=0, index_col=0)[0]\n",
    "\n",
    "coef_normalized = list()\n",
    "for param, value in dict(lr_summary_df['coef']).items():\n",
    "    if param == 'const':\n",
    "        coef_normalized.append(value)\n",
    "        continue\n",
    "    param_range = PARAM_BOUNDS[param][1] - PARAM_BOUNDS[param][0]\n",
    "    coef_normalized.append(value * param_range)\n",
    "lr_summary_df['coef*range'] = coef_normalized"
   ]
  },
  {
   "cell_type": "code",
   "execution_count": 6,
   "metadata": {},
   "outputs": [
    {
     "data": {
      "text/html": [
       "<div>\n",
       "<style scoped>\n",
       "    .dataframe tbody tr th:only-of-type {\n",
       "        vertical-align: middle;\n",
       "    }\n",
       "\n",
       "    .dataframe tbody tr th {\n",
       "        vertical-align: top;\n",
       "    }\n",
       "\n",
       "    .dataframe thead th {\n",
       "        text-align: right;\n",
       "    }\n",
       "</style>\n",
       "<table border=\"1\" class=\"dataframe\">\n",
       "  <thead>\n",
       "    <tr style=\"text-align: right;\">\n",
       "      <th></th>\n",
       "      <th>coef</th>\n",
       "      <th>std err</th>\n",
       "      <th>P&gt;|t|</th>\n",
       "      <th>coef*range</th>\n",
       "    </tr>\n",
       "  </thead>\n",
       "  <tbody>\n",
       "    <tr>\n",
       "      <th>const</th>\n",
       "      <td>1014.7</td>\n",
       "      <td>429.2</td>\n",
       "      <td>0.0</td>\n",
       "      <td>1014.7</td>\n",
       "    </tr>\n",
       "    <tr>\n",
       "      <th>asymp_prob_mult</th>\n",
       "      <td>570.5</td>\n",
       "      <td>61.0</td>\n",
       "      <td>0.0</td>\n",
       "      <td>558.3</td>\n",
       "    </tr>\n",
       "    <tr>\n",
       "      <th>inital_prev_mult</th>\n",
       "      <td>184.4</td>\n",
       "      <td>59.8</td>\n",
       "      <td>0.0</td>\n",
       "      <td>184.4</td>\n",
       "    </tr>\n",
       "    <tr>\n",
       "      <th>R0</th>\n",
       "      <td>409.1</td>\n",
       "      <td>19.9</td>\n",
       "      <td>0.0</td>\n",
       "      <td>1227.3</td>\n",
       "    </tr>\n",
       "    <tr>\n",
       "      <th>outside_inf_mult</th>\n",
       "      <td>86.7</td>\n",
       "      <td>59.5</td>\n",
       "      <td>0.1</td>\n",
       "      <td>86.7</td>\n",
       "    </tr>\n",
       "    <tr>\n",
       "      <th>daily_self_report_prob</th>\n",
       "      <td>-623.0</td>\n",
       "      <td>213.0</td>\n",
       "      <td>0.0</td>\n",
       "      <td>-174.4</td>\n",
       "    </tr>\n",
       "    <tr>\n",
       "      <th>ct_mult</th>\n",
       "      <td>-659.7</td>\n",
       "      <td>59.6</td>\n",
       "      <td>0.0</td>\n",
       "      <td>-659.7</td>\n",
       "    </tr>\n",
       "    <tr>\n",
       "      <th>ct_testing_ratio</th>\n",
       "      <td>-571.2</td>\n",
       "      <td>59.6</td>\n",
       "      <td>0.0</td>\n",
       "      <td>-571.2</td>\n",
       "    </tr>\n",
       "    <tr>\n",
       "      <th>test_sensitivity</th>\n",
       "      <td>-1771.7</td>\n",
       "      <td>149.2</td>\n",
       "      <td>0.0</td>\n",
       "      <td>-708.7</td>\n",
       "    </tr>\n",
       "    <tr>\n",
       "      <th>test_noncompliance</th>\n",
       "      <td>1855.8</td>\n",
       "      <td>596.4</td>\n",
       "      <td>0.0</td>\n",
       "      <td>185.6</td>\n",
       "    </tr>\n",
       "    <tr>\n",
       "      <th>E_time</th>\n",
       "      <td>-19.6</td>\n",
       "      <td>29.8</td>\n",
       "      <td>0.5</td>\n",
       "      <td>-39.3</td>\n",
       "    </tr>\n",
       "    <tr>\n",
       "      <th>ID_time</th>\n",
       "      <td>89.9</td>\n",
       "      <td>29.8</td>\n",
       "      <td>0.0</td>\n",
       "      <td>179.8</td>\n",
       "    </tr>\n",
       "    <tr>\n",
       "      <th>Sy_time</th>\n",
       "      <td>-2.3</td>\n",
       "      <td>29.8</td>\n",
       "      <td>0.9</td>\n",
       "      <td>-4.6</td>\n",
       "    </tr>\n",
       "  </tbody>\n",
       "</table>\n",
       "</div>"
      ],
      "text/plain": [
       "                          coef  std err  P>|t|  coef*range\n",
       "const                   1014.7    429.2    0.0      1014.7\n",
       "asymp_prob_mult          570.5     61.0    0.0       558.3\n",
       "inital_prev_mult         184.4     59.8    0.0       184.4\n",
       "R0                       409.1     19.9    0.0      1227.3\n",
       "outside_inf_mult          86.7     59.5    0.1        86.7\n",
       "daily_self_report_prob  -623.0    213.0    0.0      -174.4\n",
       "ct_mult                 -659.7     59.6    0.0      -659.7\n",
       "ct_testing_ratio        -571.2     59.6    0.0      -571.2\n",
       "test_sensitivity       -1771.7    149.2    0.0      -708.7\n",
       "test_noncompliance      1855.8    596.4    0.0       185.6\n",
       "E_time                   -19.6     29.8    0.5       -39.3\n",
       "ID_time                   89.9     29.8    0.0       179.8\n",
       "Sy_time                   -2.3     29.8    0.9        -4.6"
      ]
     },
     "execution_count": 6,
     "metadata": {},
     "output_type": "execute_result"
    }
   ],
   "source": [
    "# lr_summary_df.columns\n",
    "lr_summary_df[['coef', 'std err', 'P>|t|', 'coef*range']].round(1)"
   ]
  },
  {
   "cell_type": "code",
   "execution_count": 7,
   "metadata": {},
   "outputs": [
    {
     "data": {
      "image/png": "[encoded data removed]",
      "text/plain": [
       "<Figure size 720x432 with 1 Axes>"
      ]
     },
     "metadata": {
      "needs_background": "light"
     },
     "output_type": "display_data"
    }
   ],
   "source": [
    "plt.figure(figsize=(10,6))\n",
    "plt.bar(lr_summary_df.index[1:], np.abs(lr_summary_df['coef*range'])[1:])\n",
    "plt.ylabel('|coef * range|')\n",
    "plt.xlabel('Feature')\n",
    "plt.xticks(rotation = 90)\n",
    "plt.show()"
   ]
  },
  {
   "cell_type": "code",
   "execution_count": 8,
   "metadata": {
    "collapsed": true
   },
   "outputs": [],
   "source": [
    "def normalize_param(param_name, value):\n",
    "    lower_bound = PARAM_BOUNDS[param_name][0]\n",
    "    upper_bound = PARAM_BOUNDS[param_name][1]\n",
    "    return (value - lower_bound) / (upper_bound - lower_bound)"
   ]
  },
  {
   "cell_type": "code",
   "execution_count": 9,
   "metadata": {},
   "outputs": [
    {
     "data": {
      "image/png": "[encoded data removed]",
      "text/plain": [
       "<Figure size 720x432 with 1 Axes>"
      ]
     },
     "metadata": {
      "needs_background": "light"
     },
     "output_type": "display_data"
    }
   ],
   "source": [
    "plt.figure(figsize=(10,6))\n",
    "label = True\n",
    "\n",
    "for index, param in enumerate(UNCERTAINTY_PARAMS_LIST[:12]):\n",
    "    plt.plot([index, index], [0,1], color='navy', alpha=0.5)\n",
    "    if label == True:\n",
    "        plt.scatter(index, normalize_param(param, res_pessimistic[param]), color='red', label='Pessimistic (New)', s=50)\n",
    "        label = False\n",
    "    else:\n",
    "        plt.scatter(index, normalize_param(param, res_pessimistic[param]), color='red', s=50)\n",
    "\n",
    "plt.axhline(0.5, color='black', ls='--')\n",
    "\n",
    "plt.xticks(list(range(len(UNCERTAINTY_PARAMS_LIST[:12]))), ['Asymp Prob Mult', 'Initial Prev Mult', 'R0', 'Outside Inf Mult',\n",
    "                                          'Daily Self Report Prob', 'Contact Tracing Mult', 'Contact Trace Testing Ratio',\n",
    "                                          'Test Sensitivity', 'Test Noncompliance', 'E time', 'ID time', 'Sy time'])\n",
    "plt.xticks(rotation = 90)\n",
    "plt.yticks([0,0.5,1], ['Lower Bound', 'Center', 'Upper Bound'])\n",
    "\n",
    "plt.xlabel('Parameter')\n",
    "plt.ylabel('Value')\n",
    "\n",
    "plt.legend(loc='upper right')\n",
    "plt.show()"
   ]
  },
  {
   "cell_type": "code",
   "execution_count": 10,
   "metadata": {},
   "outputs": [
    {
     "data": {
      "text/plain": [
       "({'ct_testing_ratio': 0.8408882933907234,\n",
       "  'outside_inf_mult': 1.0241384070908397,\n",
       "  'E_time': 1.9781058849148887,\n",
       "  'ct_mult': 1.3162323939656833,\n",
       "  'ID_time': 3.1001602001642996,\n",
       "  'R0': 3.525611538430936,\n",
       "  'daily_self_report_prob': 0.34639409513141284,\n",
       "  'test_noncompliance': 0.10516921933568774,\n",
       "  'asymp_prob_mult': 1.1522097816900698,\n",
       "  'Sy_time': 11.99746235017504,\n",
       "  'test_sensitivity': 0.5210403803934798,\n",
       "  'inital_prev_mult': 1.0513769799456971,\n",
       "  'virtual_noncompliance': 0.5,\n",
       "  'intermittent_non-compliance': 0.5,\n",
       "  'virtual_r0_mult': 1.2349999999999999,\n",
       "  'virtual_pop_size': 0.5},\n",
       " {'asymp_prob_mult': (0.5106382978723404, 1.4893617021276595),\n",
       "  'inital_prev_mult': (0.5, 1.5),\n",
       "  'R0': (1, 4),\n",
       "  'outside_inf_mult': (0.5, 1.5),\n",
       "  'daily_self_report_prob': (0.22, 0.5),\n",
       "  'ct_mult': (1, 2),\n",
       "  'ct_testing_ratio': (0.5, 1.5),\n",
       "  'test_sensitivity': (0.4, 0.8),\n",
       "  'test_noncompliance': (0.05, 0.15),\n",
       "  'E_time': (1, 3),\n",
       "  'ID_time': (2, 4),\n",
       "  'Sy_time': (11, 13),\n",
       "  'virtual_noncompliance': (0.25, 0.75),\n",
       "  'intermittent_non-compliance': (0.25, 0.75),\n",
       "  'virtual_r0_mult': (0.97, 1.5),\n",
       "  'virtual_pop_size': (0, 1)})"
      ]
     },
     "execution_count": 10,
     "metadata": {},
     "output_type": "execute_result"
    }
   ],
   "source": [
    "res_pessimistic, PARAM_BOUNDS"
   ]
  }
 ],
 "metadata": {
  "kernelspec": {
   "display_name": "Python 3",
   "language": "python",
   "name": "python3"
  },
  "language_info": {
   "codemirror_mode": {
    "name": "ipython",
    "version": 3
   },
   "file_extension": ".py",
   "mimetype": "text/x-python",
   "name": "python",
   "nbconvert_exporter": "python",
   "pygments_lexer": "ipython3",
   "version": "3.6.3"
  }
 },
 "nbformat": 4,
 "nbformat_minor": 4
}
