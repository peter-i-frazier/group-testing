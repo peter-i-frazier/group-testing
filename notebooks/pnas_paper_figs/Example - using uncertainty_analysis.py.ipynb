{
 "cells": [
  {
   "cell_type": "code",
   "execution_count": 1,
   "metadata": {
    "collapsed": true
   },
   "outputs": [],
   "source": [
    "import sys\n",
    "import os\n",
    "import numpy as np\n",
    "import multiprocessing\n",
    "import dill\n",
    "import matplotlib.pyplot as plt\n",
    "import pandas as pd\n",
    "\n",
    "module_path = os.path.abspath(os.path.join('..'))\n",
    "if module_path not in sys.path:\n",
    "    sys.path.append(module_path + \"/../src/simulations_v2\")\n",
    "    sys.path.append(module_path + \"/..\")\n",
    "from load_params import load_params\n",
    "\n",
    "from multi_group_simulation import MultiGroupSimulation"
   ]
  },
  {
   "cell_type": "code",
   "execution_count": 2,
   "metadata": {},
   "outputs": [],
   "source": [
    "from util_functions import *\n",
    "from uncertainty_analysis import *"
   ]
  },
  {
   "cell_type": "code",
   "execution_count": 3,
   "metadata": {},
   "outputs": [],
   "source": [
    "lhs_output_sim_files = []\n",
    "for i in range(200):\n",
    "    fname = '/home/jmc678/covid_data/group-testing/notebooks/apr_21_scenarios/point_{}.dill'.format(i)\n",
    "    lhs_output_sim_files.append(fname)\n"
   ]
  },
  {
   "cell_type": "code",
   "execution_count": 4,
   "metadata": {},
   "outputs": [],
   "source": [
    "scenario_data = load_lhs_output(lhs_output_sim_files)"
   ]
  },
  {
   "cell_type": "code",
   "execution_count": 9,
   "metadata": {
    "collapsed": true
   },
   "outputs": [],
   "source": [
    "res_results = residential_regression(scenario_data)"
   ]
  },
  {
   "cell_type": "code",
   "execution_count": 10,
   "metadata": {},
   "outputs": [
    {
     "data": {
      "text/html": [
       "<table class=\"simpletable\">\n",
       "<caption>OLS Regression Results</caption>\n",
       "<tr>\n",
       "  <th>Dep. Variable:</th>            <td>y</td>        <th>  R-squared:         </th> <td>   0.511</td>\n",
       "</tr>\n",
       "<tr>\n",
       "  <th>Model:</th>                   <td>OLS</td>       <th>  Adj. R-squared:    </th> <td>   0.480</td>\n",
       "</tr>\n",
       "<tr>\n",
       "  <th>Method:</th>             <td>Least Squares</td>  <th>  F-statistic:       </th> <td>   16.30</td>\n",
       "</tr>\n",
       "<tr>\n",
       "  <th>Date:</th>             <td>Sun, 02 May 2021</td> <th>  Prob (F-statistic):</th> <td>2.21e-23</td>\n",
       "</tr>\n",
       "<tr>\n",
       "  <th>Time:</th>                 <td>18:26:09</td>     <th>  Log-Likelihood:    </th> <td> -1631.0</td>\n",
       "</tr>\n",
       "<tr>\n",
       "  <th>No. Observations:</th>      <td>   200</td>      <th>  AIC:               </th> <td>   3288.</td>\n",
       "</tr>\n",
       "<tr>\n",
       "  <th>Df Residuals:</th>          <td>   187</td>      <th>  BIC:               </th> <td>   3331.</td>\n",
       "</tr>\n",
       "<tr>\n",
       "  <th>Df Model:</th>              <td>    12</td>      <th>                     </th>     <td> </td>   \n",
       "</tr>\n",
       "<tr>\n",
       "  <th>Covariance Type:</th>      <td>nonrobust</td>    <th>                     </th>     <td> </td>   \n",
       "</tr>\n",
       "</table>\n",
       "<table class=\"simpletable\">\n",
       "<tr>\n",
       "             <td></td>               <th>coef</th>     <th>std err</th>      <th>t</th>      <th>P>|t|</th>  <th>[0.025</th>    <th>0.975]</th>  \n",
       "</tr>\n",
       "<tr>\n",
       "  <th>const</th>                  <td>  995.8849</td> <td> 1513.837</td> <td>    0.658</td> <td> 0.511</td> <td>-1990.509</td> <td> 3982.278</td>\n",
       "</tr>\n",
       "<tr>\n",
       "  <th>asymp_prob_mult</th>        <td>  941.9148</td> <td>  229.475</td> <td>    4.105</td> <td> 0.000</td> <td>  489.222</td> <td> 1394.607</td>\n",
       "</tr>\n",
       "<tr>\n",
       "  <th>inital_prev_mult</th>       <td> -190.9972</td> <td>  229.833</td> <td>   -0.831</td> <td> 0.407</td> <td> -644.397</td> <td>  262.402</td>\n",
       "</tr>\n",
       "<tr>\n",
       "  <th>R0</th>                     <td>  666.9477</td> <td>   76.599</td> <td>    8.707</td> <td> 0.000</td> <td>  515.839</td> <td>  818.057</td>\n",
       "</tr>\n",
       "<tr>\n",
       "  <th>outside_inf_mult</th>       <td>  174.1239</td> <td>  224.662</td> <td>    0.775</td> <td> 0.439</td> <td> -269.074</td> <td>  617.322</td>\n",
       "</tr>\n",
       "<tr>\n",
       "  <th>daily_self_report_prob</th> <td> -680.6892</td> <td>  771.987</td> <td>   -0.882</td> <td> 0.379</td> <td>-2203.612</td> <td>  842.234</td>\n",
       "</tr>\n",
       "<tr>\n",
       "  <th>ct_mult</th>                <td>-1163.4178</td> <td>  235.061</td> <td>   -4.949</td> <td> 0.000</td> <td>-1627.130</td> <td> -699.705</td>\n",
       "</tr>\n",
       "<tr>\n",
       "  <th>ct_testing_ratio</th>       <td> -924.5224</td> <td>  223.899</td> <td>   -4.129</td> <td> 0.000</td> <td>-1366.215</td> <td> -482.830</td>\n",
       "</tr>\n",
       "<tr>\n",
       "  <th>test_sensitivity</th>       <td>-2727.6250</td> <td>  549.398</td> <td>   -4.965</td> <td> 0.000</td> <td>-3811.439</td> <td>-1643.811</td>\n",
       "</tr>\n",
       "<tr>\n",
       "  <th>test_noncompliance</th>     <td> 2361.9812</td> <td> 2214.006</td> <td>    1.067</td> <td> 0.287</td> <td>-2005.657</td> <td> 6729.619</td>\n",
       "</tr>\n",
       "<tr>\n",
       "  <th>E_time</th>                 <td>   31.2164</td> <td>  110.004</td> <td>    0.284</td> <td> 0.777</td> <td> -185.792</td> <td>  248.225</td>\n",
       "</tr>\n",
       "<tr>\n",
       "  <th>ID_time</th>                <td> -161.4988</td> <td>  109.711</td> <td>   -1.472</td> <td> 0.143</td> <td> -377.929</td> <td>   54.932</td>\n",
       "</tr>\n",
       "<tr>\n",
       "  <th>Sy_time</th>                <td>  152.5914</td> <td>  109.064</td> <td>    1.399</td> <td> 0.163</td> <td>  -62.563</td> <td>  367.746</td>\n",
       "</tr>\n",
       "</table>\n",
       "<table class=\"simpletable\">\n",
       "<tr>\n",
       "  <th>Omnibus:</th>       <td>121.377</td> <th>  Durbin-Watson:     </th> <td>   1.908</td> \n",
       "</tr>\n",
       "<tr>\n",
       "  <th>Prob(Omnibus):</th> <td> 0.000</td>  <th>  Jarque-Bera (JB):  </th> <td> 737.245</td> \n",
       "</tr>\n",
       "<tr>\n",
       "  <th>Skew:</th>          <td> 2.359</td>  <th>  Prob(JB):          </th> <td>8.11e-161</td>\n",
       "</tr>\n",
       "<tr>\n",
       "  <th>Kurtosis:</th>      <td>11.137</td>  <th>  Cond. No.          </th> <td>    471.</td> \n",
       "</tr>\n",
       "</table><br/><br/>Notes:<br/>[1] Standard Errors assume that the covariance matrix of the errors is correctly specified."
      ],
      "text/plain": [
       "<class 'statsmodels.iolib.summary.Summary'>\n",
       "\"\"\"\n",
       "                            OLS Regression Results                            \n",
       "==============================================================================\n",
       "Dep. Variable:                      y   R-squared:                       0.511\n",
       "Model:                            OLS   Adj. R-squared:                  0.480\n",
       "Method:                 Least Squares   F-statistic:                     16.30\n",
       "Date:                Sun, 02 May 2021   Prob (F-statistic):           2.21e-23\n",
       "Time:                        18:26:09   Log-Likelihood:                -1631.0\n",
       "No. Observations:                 200   AIC:                             3288.\n",
       "Df Residuals:                     187   BIC:                             3331.\n",
       "Df Model:                          12                                         \n",
       "Covariance Type:            nonrobust                                         \n",
       "==========================================================================================\n",
       "                             coef    std err          t      P>|t|      [0.025      0.975]\n",
       "------------------------------------------------------------------------------------------\n",
       "const                    995.8849   1513.837      0.658      0.511   -1990.509    3982.278\n",
       "asymp_prob_mult          941.9148    229.475      4.105      0.000     489.222    1394.607\n",
       "inital_prev_mult        -190.9972    229.833     -0.831      0.407    -644.397     262.402\n",
       "R0                       666.9477     76.599      8.707      0.000     515.839     818.057\n",
       "outside_inf_mult         174.1239    224.662      0.775      0.439    -269.074     617.322\n",
       "daily_self_report_prob  -680.6892    771.987     -0.882      0.379   -2203.612     842.234\n",
       "ct_mult                -1163.4178    235.061     -4.949      0.000   -1627.130    -699.705\n",
       "ct_testing_ratio        -924.5224    223.899     -4.129      0.000   -1366.215    -482.830\n",
       "test_sensitivity       -2727.6250    549.398     -4.965      0.000   -3811.439   -1643.811\n",
       "test_noncompliance      2361.9812   2214.006      1.067      0.287   -2005.657    6729.619\n",
       "E_time                    31.2164    110.004      0.284      0.777    -185.792     248.225\n",
       "ID_time                 -161.4988    109.711     -1.472      0.143    -377.929      54.932\n",
       "Sy_time                  152.5914    109.064      1.399      0.163     -62.563     367.746\n",
       "==============================================================================\n",
       "Omnibus:                      121.377   Durbin-Watson:                   1.908\n",
       "Prob(Omnibus):                  0.000   Jarque-Bera (JB):              737.245\n",
       "Skew:                           2.359   Prob(JB):                    8.11e-161\n",
       "Kurtosis:                      11.137   Cond. No.                         471.\n",
       "==============================================================================\n",
       "\n",
       "Notes:\n",
       "[1] Standard Errors assume that the covariance matrix of the errors is correctly specified.\n",
       "\"\"\""
      ]
     },
     "execution_count": 10,
     "metadata": {},
     "output_type": "execute_result"
    }
   ],
   "source": [
    "res_results.summary()"
   ]
  },
  {
   "cell_type": "code",
   "execution_count": 11,
   "metadata": {
    "collapsed": true
   },
   "outputs": [],
   "source": [
    "res_pessimistic = calculate_pessimistic_scenario(res_results)"
   ]
  },
  {
   "cell_type": "code",
   "execution_count": 12,
   "metadata": {},
   "outputs": [
    {
     "data": {
      "text/plain": [
       "{'E_time': 2.021274325971835,\n",
       " 'ID_time': 2.8899365882608423,\n",
       " 'R0': 3.5226991331973214,\n",
       " 'Sy_time': 12.103992904551049,\n",
       " 'asymp_prob_mult': 1.153725244257053,\n",
       " 'ct_mult': 1.301779150711146,\n",
       " 'ct_testing_ratio': 0.8424816893499588,\n",
       " 'daily_self_report_prob': 0.35090759914368913,\n",
       " 'inital_prev_mult': 0.9674582744159371,\n",
       " 'outside_inf_mult': 1.029666890207694,\n",
       " 'test_noncompliance': 0.10402429741763787,\n",
       " 'test_sensitivity': 0.525643615156607}"
      ]
     },
     "execution_count": 12,
     "metadata": {},
     "output_type": "execute_result"
    }
   ],
   "source": [
    "res_pessimistic"
   ]
  },
  {
   "cell_type": "code",
   "execution_count": 13,
   "metadata": {},
   "outputs": [
    {
     "data": {
      "text/plain": [
       "{'E_time': 31.216355132759304,\n",
       " 'ID_time': -161.49882033965602,\n",
       " 'R0': 666.9476600965037,\n",
       " 'Sy_time': 152.59141201702113,\n",
       " 'asymp_prob_mult': 941.914796119896,\n",
       " 'const': 995.8848735869229,\n",
       " 'ct_mult': -1163.4178087352684,\n",
       " 'ct_testing_ratio': -924.5223621512193,\n",
       " 'daily_self_report_prob': -680.6892412118273,\n",
       " 'inital_prev_mult': -190.99717919331772,\n",
       " 'outside_inf_mult': 174.12390533716615,\n",
       " 'test_noncompliance': 2361.98124471991,\n",
       " 'test_sensitivity': -2727.6249770879012}"
      ]
     },
     "execution_count": 13,
     "metadata": {},
     "output_type": "execute_result"
    }
   ],
   "source": [
    "dict(res_results.params)"
   ]
  },
  {
   "cell_type": "code",
   "execution_count": 14,
   "metadata": {
    "collapsed": true
   },
   "outputs": [],
   "source": [
    "virt_vs_res_results = virtual_vs_residential_regression(scenario_data)"
   ]
  },
  {
   "cell_type": "code",
   "execution_count": 18,
   "metadata": {},
   "outputs": [
    {
     "data": {
      "text/html": [
       "<table class=\"simpletable\">\n",
       "<caption>OLS Regression Results</caption>\n",
       "<tr>\n",
       "  <th>Dep. Variable:</th>            <td>y</td>        <th>  R-squared:         </th> <td>   0.788</td>\n",
       "</tr>\n",
       "<tr>\n",
       "  <th>Model:</th>                   <td>OLS</td>       <th>  Adj. R-squared:    </th> <td>   0.770</td>\n",
       "</tr>\n",
       "<tr>\n",
       "  <th>Method:</th>             <td>Least Squares</td>  <th>  F-statistic:       </th> <td>   42.54</td>\n",
       "</tr>\n",
       "<tr>\n",
       "  <th>Date:</th>             <td>Sun, 02 May 2021</td> <th>  Prob (F-statistic):</th> <td>6.09e-53</td>\n",
       "</tr>\n",
       "<tr>\n",
       "  <th>Time:</th>                 <td>18:27:06</td>     <th>  Log-Likelihood:    </th> <td> -1718.5</td>\n",
       "</tr>\n",
       "<tr>\n",
       "  <th>No. Observations:</th>      <td>   200</td>      <th>  AIC:               </th> <td>   3471.</td>\n",
       "</tr>\n",
       "<tr>\n",
       "  <th>Df Residuals:</th>          <td>   183</td>      <th>  BIC:               </th> <td>   3527.</td>\n",
       "</tr>\n",
       "<tr>\n",
       "  <th>Df Model:</th>              <td>    16</td>      <th>                     </th>     <td> </td>   \n",
       "</tr>\n",
       "<tr>\n",
       "  <th>Covariance Type:</th>      <td>nonrobust</td>    <th>                     </th>     <td> </td>   \n",
       "</tr>\n",
       "</table>\n",
       "<table class=\"simpletable\">\n",
       "<tr>\n",
       "               <td></td>                  <th>coef</th>     <th>std err</th>      <th>t</th>      <th>P>|t|</th>  <th>[0.025</th>    <th>0.975]</th>  \n",
       "</tr>\n",
       "<tr>\n",
       "  <th>const</th>                       <td> 1.729e+04</td> <td> 2460.769</td> <td>    7.024</td> <td> 0.000</td> <td> 1.24e+04</td> <td> 2.21e+04</td>\n",
       "</tr>\n",
       "<tr>\n",
       "  <th>asymp_prob_mult</th>             <td>-4122.0772</td> <td>  361.994</td> <td>  -11.387</td> <td> 0.000</td> <td>-4836.296</td> <td>-3407.858</td>\n",
       "</tr>\n",
       "<tr>\n",
       "  <th>inital_prev_mult</th>            <td>  420.7727</td> <td>  361.868</td> <td>    1.163</td> <td> 0.246</td> <td> -293.197</td> <td> 1134.742</td>\n",
       "</tr>\n",
       "<tr>\n",
       "  <th>R0</th>                          <td>-2276.7187</td> <td>  120.322</td> <td>  -18.922</td> <td> 0.000</td> <td>-2514.115</td> <td>-2039.322</td>\n",
       "</tr>\n",
       "<tr>\n",
       "  <th>outside_inf_mult</th>            <td>  -93.4250</td> <td>  354.677</td> <td>   -0.263</td> <td> 0.793</td> <td> -793.207</td> <td>  606.357</td>\n",
       "</tr>\n",
       "<tr>\n",
       "  <th>daily_self_report_prob</th>      <td> 1788.4518</td> <td> 1221.172</td> <td>    1.465</td> <td> 0.145</td> <td> -620.936</td> <td> 4197.840</td>\n",
       "</tr>\n",
       "<tr>\n",
       "  <th>ct_mult</th>                     <td>  444.6141</td> <td>  369.384</td> <td>    1.204</td> <td> 0.230</td> <td> -284.184</td> <td> 1173.412</td>\n",
       "</tr>\n",
       "<tr>\n",
       "  <th>ct_testing_ratio</th>            <td>  180.4051</td> <td>  359.169</td> <td>    0.502</td> <td> 0.616</td> <td> -528.239</td> <td>  889.049</td>\n",
       "</tr>\n",
       "<tr>\n",
       "  <th>test_sensitivity</th>            <td> -511.4082</td> <td>  878.268</td> <td>   -0.582</td> <td> 0.561</td> <td>-2244.242</td> <td> 1221.426</td>\n",
       "</tr>\n",
       "<tr>\n",
       "  <th>test_noncompliance</th>          <td> 1734.4675</td> <td> 3507.732</td> <td>    0.494</td> <td> 0.622</td> <td>-5186.330</td> <td> 8655.265</td>\n",
       "</tr>\n",
       "<tr>\n",
       "  <th>E_time</th>                      <td>  194.2156</td> <td>  175.202</td> <td>    1.109</td> <td> 0.269</td> <td> -151.460</td> <td>  539.891</td>\n",
       "</tr>\n",
       "<tr>\n",
       "  <th>ID_time</th>                     <td> -589.8021</td> <td>  173.052</td> <td>   -3.408</td> <td> 0.001</td> <td> -931.235</td> <td> -248.369</td>\n",
       "</tr>\n",
       "<tr>\n",
       "  <th>Sy_time</th>                     <td>   -5.7650</td> <td>  174.184</td> <td>   -0.033</td> <td> 0.974</td> <td> -349.431</td> <td>  337.901</td>\n",
       "</tr>\n",
       "<tr>\n",
       "  <th>virtual_noncompliance</th>       <td>-2774.9114</td> <td>  695.872</td> <td>   -3.988</td> <td> 0.000</td> <td>-4147.874</td> <td>-1401.948</td>\n",
       "</tr>\n",
       "<tr>\n",
       "  <th>intermittent_non-compliance</th> <td>-1654.8418</td> <td>  698.749</td> <td>   -2.368</td> <td> 0.019</td> <td>-3033.482</td> <td> -276.202</td>\n",
       "</tr>\n",
       "<tr>\n",
       "  <th>virtual_r0_mult</th>             <td>-6225.3427</td> <td>  645.328</td> <td>   -9.647</td> <td> 0.000</td> <td>-7498.583</td> <td>-4952.102</td>\n",
       "</tr>\n",
       "<tr>\n",
       "  <th>virtual_pop_size</th>            <td>-1513.9535</td> <td>  344.713</td> <td>   -4.392</td> <td> 0.000</td> <td>-2194.076</td> <td> -833.831</td>\n",
       "</tr>\n",
       "</table>\n",
       "<table class=\"simpletable\">\n",
       "<tr>\n",
       "  <th>Omnibus:</th>       <td> 6.125</td> <th>  Durbin-Watson:     </th> <td>   2.162</td>\n",
       "</tr>\n",
       "<tr>\n",
       "  <th>Prob(Omnibus):</th> <td> 0.047</td> <th>  Jarque-Bera (JB):  </th> <td>   6.116</td>\n",
       "</tr>\n",
       "<tr>\n",
       "  <th>Skew:</th>          <td> 0.428</td> <th>  Prob(JB):          </th> <td>  0.0470</td>\n",
       "</tr>\n",
       "<tr>\n",
       "  <th>Kurtosis:</th>      <td> 2.999</td> <th>  Cond. No.          </th> <td>    480.</td>\n",
       "</tr>\n",
       "</table><br/><br/>Notes:<br/>[1] Standard Errors assume that the covariance matrix of the errors is correctly specified."
      ],
      "text/plain": [
       "<class 'statsmodels.iolib.summary.Summary'>\n",
       "\"\"\"\n",
       "                            OLS Regression Results                            \n",
       "==============================================================================\n",
       "Dep. Variable:                      y   R-squared:                       0.788\n",
       "Model:                            OLS   Adj. R-squared:                  0.770\n",
       "Method:                 Least Squares   F-statistic:                     42.54\n",
       "Date:                Sun, 02 May 2021   Prob (F-statistic):           6.09e-53\n",
       "Time:                        18:27:06   Log-Likelihood:                -1718.5\n",
       "No. Observations:                 200   AIC:                             3471.\n",
       "Df Residuals:                     183   BIC:                             3527.\n",
       "Df Model:                          16                                         \n",
       "Covariance Type:            nonrobust                                         \n",
       "===============================================================================================\n",
       "                                  coef    std err          t      P>|t|      [0.025      0.975]\n",
       "-----------------------------------------------------------------------------------------------\n",
       "const                        1.729e+04   2460.769      7.024      0.000    1.24e+04    2.21e+04\n",
       "asymp_prob_mult             -4122.0772    361.994    -11.387      0.000   -4836.296   -3407.858\n",
       "inital_prev_mult              420.7727    361.868      1.163      0.246    -293.197    1134.742\n",
       "R0                          -2276.7187    120.322    -18.922      0.000   -2514.115   -2039.322\n",
       "outside_inf_mult              -93.4250    354.677     -0.263      0.793    -793.207     606.357\n",
       "daily_self_report_prob       1788.4518   1221.172      1.465      0.145    -620.936    4197.840\n",
       "ct_mult                       444.6141    369.384      1.204      0.230    -284.184    1173.412\n",
       "ct_testing_ratio              180.4051    359.169      0.502      0.616    -528.239     889.049\n",
       "test_sensitivity             -511.4082    878.268     -0.582      0.561   -2244.242    1221.426\n",
       "test_noncompliance           1734.4675   3507.732      0.494      0.622   -5186.330    8655.265\n",
       "E_time                        194.2156    175.202      1.109      0.269    -151.460     539.891\n",
       "ID_time                      -589.8021    173.052     -3.408      0.001    -931.235    -248.369\n",
       "Sy_time                        -5.7650    174.184     -0.033      0.974    -349.431     337.901\n",
       "virtual_noncompliance       -2774.9114    695.872     -3.988      0.000   -4147.874   -1401.948\n",
       "intermittent_non-compliance -1654.8418    698.749     -2.368      0.019   -3033.482    -276.202\n",
       "virtual_r0_mult             -6225.3427    645.328     -9.647      0.000   -7498.583   -4952.102\n",
       "virtual_pop_size            -1513.9535    344.713     -4.392      0.000   -2194.076    -833.831\n",
       "==============================================================================\n",
       "Omnibus:                        6.125   Durbin-Watson:                   2.162\n",
       "Prob(Omnibus):                  0.047   Jarque-Bera (JB):                6.116\n",
       "Skew:                           0.428   Prob(JB):                       0.0470\n",
       "Kurtosis:                       2.999   Cond. No.                         480.\n",
       "==============================================================================\n",
       "\n",
       "Notes:\n",
       "[1] Standard Errors assume that the covariance matrix of the errors is correctly specified.\n",
       "\"\"\""
      ]
     },
     "execution_count": 18,
     "metadata": {},
     "output_type": "execute_result"
    }
   ],
   "source": [
    "virt_vs_res_results.summary()"
   ]
  },
  {
   "cell_type": "code",
   "execution_count": 15,
   "metadata": {
    "collapsed": true
   },
   "outputs": [],
   "source": [
    "virt_vs_res_pessimistic = calculate_pessimistic_scenario(virt_vs_res_results)"
   ]
  },
  {
   "cell_type": "code",
   "execution_count": 16,
   "metadata": {},
   "outputs": [
    {
     "data": {
      "text/plain": [
       "{'E_time': 2.043159993791207,\n",
       " 'ID_time': 2.8689299019804015,\n",
       " 'R0': 1.3616149681306806,\n",
       " 'Sy_time': 11.998718868163856,\n",
       " 'asymp_prob_mult': 0.7806319548370115,\n",
       " 'ct_mult': 1.5247013395096995,\n",
       " 'ct_testing_ratio': 1.010022731786669,\n",
       " 'daily_self_report_prob': 0.36778987698697435,\n",
       " 'inital_prev_mult': 1.0233767873526034,\n",
       " 'intermittent_non-compliance': 0.47701556692561853,\n",
       " 'outside_inf_mult': 0.9948096024135403,\n",
       " 'test_noncompliance': 0.10096361481792024,\n",
       " 'test_sensitivity': 0.5954540469397249,\n",
       " 'virtual_noncompliance': 0.4614586933807975,\n",
       " 'virtual_pop_size': 0.41588957567659135,\n",
       " 'virtual_r0_mult': 1.137847876209457}"
      ]
     },
     "execution_count": 16,
     "metadata": {},
     "output_type": "execute_result"
    }
   ],
   "source": [
    "virt_vs_res_pessimistic"
   ]
  },
  {
   "cell_type": "code",
   "execution_count": 17,
   "metadata": {},
   "outputs": [
    {
     "data": {
      "text/plain": [
       "{'E_time': 194.21558805216029,\n",
       " 'ID_time': -589.802127546107,\n",
       " 'R0': -2276.7186716048423,\n",
       " 'Sy_time': -5.764963130734117,\n",
       " 'asymp_prob_mult': -4122.077185186229,\n",
       " 'const': 17285.340422527137,\n",
       " 'ct_mult': 444.6140749473185,\n",
       " 'ct_testing_ratio': 180.40509989448478,\n",
       " 'daily_self_report_prob': 1788.451794840404,\n",
       " 'inital_prev_mult': 420.77267428904577,\n",
       " 'intermittent_non-compliance': -1654.8418267830125,\n",
       " 'outside_inf_mult': -93.42504768238814,\n",
       " 'test_noncompliance': 1734.4675203014722,\n",
       " 'test_sensitivity': -511.4081753173949,\n",
       " 'virtual_noncompliance': -2774.911438795265,\n",
       " 'virtual_pop_size': -1513.953463507275,\n",
       " 'virtual_r0_mult': -6225.34266655264}"
      ]
     },
     "execution_count": 17,
     "metadata": {},
     "output_type": "execute_result"
    }
   ],
   "source": [
    "dict(virt_vs_res_results.params)"
   ]
  },
  {
   "cell_type": "code",
   "execution_count": null,
   "metadata": {
    "collapsed": true
   },
   "outputs": [],
   "source": []
  }
 ],
 "metadata": {
  "kernelspec": {
   "display_name": "Python 3",
   "language": "python",
   "name": "python3"
  },
  "language_info": {
   "codemirror_mode": {
    "name": "ipython",
    "version": 3
   },
   "file_extension": ".py",
   "mimetype": "text/x-python",
   "name": "python",
   "nbconvert_exporter": "python",
   "pygments_lexer": "ipython3",
   "version": "3.6.3"
  }
 },
 "nbformat": 4,
 "nbformat_minor": 2
}
