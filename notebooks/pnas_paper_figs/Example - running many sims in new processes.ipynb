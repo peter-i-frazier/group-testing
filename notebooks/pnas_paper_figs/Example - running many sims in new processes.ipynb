{
 "cells": [
  {
   "cell_type": "code",
   "execution_count": 1,
   "metadata": {
    "collapsed": true
   },
   "outputs": [],
   "source": [
    "import sys\n",
    "import os\n",
    "import numpy as np\n",
    "import multiprocessing\n",
    "import dill\n",
    "import matplotlib.pyplot as plt\n",
    "import pandas as pd\n",
    "\n",
    "module_path = os.path.abspath(os.path.join('..'))\n",
    "if module_path not in sys.path:\n",
    "    sys.path.append(module_path + \"/../src/simulations_v2\")\n",
    "    sys.path.append(module_path + \"/..\")\n",
    "from load_params import load_params\n",
    "\n",
    "from multi_group_simulation import MultiGroupSimulation"
   ]
  },
  {
   "cell_type": "code",
   "execution_count": 2,
   "metadata": {
    "collapsed": true
   },
   "outputs": [],
   "source": [
    "from util_functions import *\n",
    "from uncertainty_analysis import *\n",
    "from sim_helper_functions import *"
   ]
  },
  {
   "cell_type": "code",
   "execution_count": 3,
   "metadata": {
    "collapsed": true
   },
   "outputs": [],
   "source": [
    "lhs_output_sim_files = []\n",
    "for i in range(200):\n",
    "    fname = '/home/jmc678/covid_data/group-testing/notebooks/apr_21_scenarios/point_{}.dill'.format(i)\n",
    "    lhs_output_sim_files.append(fname)\n"
   ]
  },
  {
   "cell_type": "code",
   "execution_count": 4,
   "metadata": {
    "collapsed": true
   },
   "outputs": [],
   "source": [
    "scenario_data = load_lhs_output(lhs_output_sim_files)\n",
    "res_results = residential_regression(scenario_data)\n",
    "res_pessimistic = calculate_pessimistic_scenario(res_results)"
   ]
  },
  {
   "cell_type": "code",
   "execution_count": 5,
   "metadata": {
    "collapsed": true
   },
   "outputs": [],
   "source": [
    "centre = get_centre_point()"
   ]
  },
  {
   "cell_type": "code",
   "execution_count": 6,
   "metadata": {},
   "outputs": [
    {
     "name": "stdout",
     "output_type": "stream",
     "text": [
      "launched 2 processes\n",
      "running sim with id 1, nreps 2, T 112\n",
      "running residential sim with id 1\n",
      "running sim with id 2, nreps 2, T 112\n",
      "running residential sim with id 2\n",
      "running virtual sim with id 1\n",
      "running virtual sim with id 2\n",
      "done running processes\n"
     ]
    }
   ],
   "source": [
    "run_sims_new_process([centre, res_pessimistic], [\"centre_ex.dill_nreps2\", \"res_pessimistic_ex_nreps2.dill\"], nreps=2)"
   ]
  },
  {
   "cell_type": "code",
   "execution_count": null,
   "metadata": {
    "collapsed": true
   },
   "outputs": [],
   "source": []
  }
 ],
 "metadata": {
  "kernelspec": {
   "display_name": "Python 3",
   "language": "python",
   "name": "python3"
  },
  "language_info": {
   "codemirror_mode": {
    "name": "ipython",
    "version": 3
   },
   "file_extension": ".py",
   "mimetype": "text/x-python",
   "name": "python",
   "nbconvert_exporter": "python",
   "pygments_lexer": "ipython3",
   "version": "3.6.3"
  }
 },
 "nbformat": 4,
 "nbformat_minor": 2
}
