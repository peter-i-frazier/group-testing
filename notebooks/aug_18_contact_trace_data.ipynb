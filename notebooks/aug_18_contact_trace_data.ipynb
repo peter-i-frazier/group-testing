{
 "cells": [
  {
   "cell_type": "code",
   "execution_count": 22,
   "metadata": {
    "collapsed": true
   },
   "outputs": [],
   "source": [
    "import numpy as np\n",
    "\n",
    "def sample_contact_data(nsamples, bin_p, pois_lambda):\n",
    "    samples = []\n",
    "    for _ in range(nsamples):\n",
    "        n_contacts = 1 + np.random.poisson(pois_lambda)\n",
    "        n_seen = np.random.binomial(n_contacts-1, bin_p)\n",
    "        index_case_seen = np.random.binomial(1, bin_p)\n",
    "        \n",
    "        samples.append((n_seen, index_case_seen))\n",
    "    return samples\n",
    "\n",
    "def estimate_params(samples):\n",
    "    \n",
    "    bin_p_hat = np.mean([s[1] for s in samples])\n",
    "    \n",
    "    pois_lambda_hat = sum([s[0] for s in samples]) / sum([s[1] for s in samples])\n",
    "    \n",
    "    return bin_p_hat, pois_lambda_hat\n",
    "    \n",
    "    "
   ]
  },
  {
   "cell_type": "code",
   "execution_count": 33,
   "metadata": {},
   "outputs": [
    {
     "name": "stdout",
     "output_type": "stream",
     "text": [
      "bin_p_hat = 0.779\n",
      "pois_lambda_hat = 10.178433889602054\n"
     ]
    }
   ],
   "source": [
    "nsamples = 1000\n",
    "bin_p = .8\n",
    "pois_lambda = 10\n",
    "\n",
    "est = estimate_params(sample_contact_data(nsamples, bin_p, pois_lambda))\n",
    "print(\"bin_p_hat = {}\".format(est[0]))\n",
    "print(\"pois_lambda_hat = {}\".format(est[1]))"
   ]
  }
 ],
 "metadata": {
  "kernelspec": {
   "display_name": "Python 3",
   "language": "python",
   "name": "python3"
  },
  "language_info": {
   "codemirror_mode": {
    "name": "ipython",
    "version": 3
   },
   "file_extension": ".py",
   "mimetype": "text/x-python",
   "name": "python",
   "nbconvert_exporter": "python",
   "pygments_lexer": "ipython3",
   "version": "3.6.3"
  }
 },
 "nbformat": 4,
 "nbformat_minor": 2
}
