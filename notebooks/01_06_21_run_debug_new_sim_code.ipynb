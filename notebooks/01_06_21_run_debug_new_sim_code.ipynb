{
 "cells": [
  {
   "cell_type": "code",
   "execution_count": 1,
   "metadata": {
    "collapsed": true
   },
   "outputs": [],
   "source": [
    "import sys\n",
    "import os\n",
    "import numpy as np\n",
    "module_path = os.path.abspath(os.path.join('..'))\n",
    "if module_path not in sys.path:\n",
    "    sys.path.append(module_path + \"/src/multi_agent_sim\")\n",
    "from multi_agent_sim import MultiAgentSim"
   ]
  },
  {
   "cell_type": "code",
   "execution_count": 2,
   "metadata": {
    "collapsed": true
   },
   "outputs": [],
   "source": [
    "\n",
    "social_network_params_high_var = {\n",
    "    'location_vec_dim': 2,\n",
    "    'network_gamma': 3,\n",
    "    'daily_contacts_distn_type': 'negative_binomial',\n",
    "    'neg_bin_r': 2,\n",
    "    'neg_bin_p_hyperparams': (2,3),\n",
    "}\n",
    "\n",
    "n_agents = 1000\n",
    "expected_total_outside_infs = 5\n",
    "time_horizon = 7 * 12\n",
    "main_params = {\n",
    "    'n_agents': n_agents,\n",
    "    'use_contact_tracing': True,\n",
    "    'use_adaptive_testing': True,\n",
    "    'use_surveillance_testing': True\n",
    "}\n",
    "\n",
    "\n",
    "infection_dynamics_params = {\n",
    "    'forward_gen_alpha': 8,\n",
    "    'forward_gen_beta_hyperparams': (5,5),\n",
    "    'detectability_curve_type': 'optimistic',\n",
    "    'self_reporting_multiplier': 0.8,\n",
    "    'self_reporting_delay': 3,\n",
    "    'init_infection_rate': 0,\n",
    "    'use_deterministic_infection_counts': True,\n",
    "    'disc_gamma_transmission_mult': 1,\n",
    "    'outside_infection_rate': expected_total_outside_infs / (n_agents * time_horizon)\n",
    "}\n",
    "\n",
    "ct_params = {\n",
    "    'ct_recall_window': 4,\n",
    "    'ct_delay_distribution': [1/3,1/3,1/3], # uniform over 0, 1, 2 days delay\n",
    "    'ct_recall_rate': 0.5,\n",
    "    'min_delay_between_traces': 14\n",
    "}\n",
    "\n",
    "at_params = {\n",
    "    'at_delay_distribution': [1/3,1/3,1/3],\n",
    "    'at_net_size_contact_multiplier': 10,\n",
    "    'at_recall_rate': 0.9\n",
    "}\n",
    "\n",
    "st_params = {\n",
    "    'st_testing_window': 3,\n",
    "    'st_missed_test_rate': 0.1\n",
    "}\n",
    "\n",
    "def init_high_var_sim(R0):\n",
    "    social_network_params_high_var['neg_bin_r'] = R0 / 0.9\n",
    "    return MultiAgentSim(main_params, infection_dynamics_params, social_network_params_high_var, \n",
    "                         ct_params, at_params, st_params)\n",
    "\n",
    "neg_bin_r = 2\n",
    "social_network_params_low_var = {\n",
    "    'location_vec_dim': 2,\n",
    "    'network_gamma': 3,\n",
    "    'daily_contacts_distn_type': 'negative_binomial',\n",
    "    'neg_bin_r': neg_bin_r,\n",
    "    'neg_bin_p_hyperparams': (5,6)\n",
    "}\n",
    "\n",
    "# avg close contacts / day = 2 * 5 / (6-1)\n",
    "\n",
    "def init_low_var_sim(R0):\n",
    "    infection_dynamics_params['disc_gamma_transmission_mult'] = R0 / neg_bin_r\n",
    "    return MultiAgentSim(main_params, infection_dynamics_params, social_network_params_low_var, \n",
    "                         ct_params, at_params, st_params)"
   ]
  },
  {
   "cell_type": "code",
   "execution_count": 3,
   "metadata": {
    "collapsed": true
   },
   "outputs": [],
   "source": [
    "def sample_trajectory(R0, at_multiplier, st_testing_window, \n",
    "                      use_adaptive_testing = True, use_surveillance_testing = True):\n",
    "    st_params['st_testing_window'] = st_testing_window\n",
    "    at_params['at_net_size_contact_multiplier'] = at_multiplier\n",
    "    main_params['use_adaptive_testing'] = use_adaptive_testing\n",
    "    main_params['use_surveillance_testing'] = use_surveillance_testing\n",
    "    sim = init_low_var_sim(R0)\n",
    "    infection_counts = [len(sim.infection.get_cum_infected_agent_ids())]\n",
    "    init_infection_counts = infection_counts[0]\n",
    "    for _ in range(time_horizon):\n",
    "        sim.step()\n",
    "        infection_counts.append(len(sim.infection.get_cum_infected_agent_ids()))\n",
    "    total_tests = sim.get_total_tests()\n",
    "    return total_tests, infection_counts, init_infection_counts, infection_counts[-1]"
   ]
  },
  {
   "cell_type": "code",
   "execution_count": 4,
   "metadata": {
    "collapsed": true
   },
   "outputs": [],
   "source": [
    "from multiprocessing import Process\n",
    "import pickle\n",
    "\n",
    "\n",
    "def sim_target_f(R0, at_mult, st_window, use_at, use_st, ntrajectories, pickle_file_loc):\n",
    "    results = [sample_trajectory(R0, at_mult, st_window, use_at, use_st) for _ in range(ntrajectories)]\n",
    "    pickle.dump(results, open(pickle_file_loc, \"wb\"))\n",
    "\n",
    "def run_sims_new_process(R0, at_mult, st_window, use_at, use_st, ntrajectories, pickle_file_loc):\n",
    "    p = Process(target = sim_target_f, args = (R0, at_mult, st_window, use_at, use_st, ntrajectories, pickle_file_loc))\n",
    "    p.start()\n",
    "    return p\n",
    "\n",
    "\n"
   ]
  },
  {
   "cell_type": "code",
   "execution_count": null,
   "metadata": {
    "scrolled": false
   },
   "outputs": [
    {
     "name": "stdout",
     "output_type": "stream",
     "text": [
      "launched dict_values([<Process(Process-271, started)>, <Process(Process-272, started)>, <Process(Process-273, started)>, <Process(Process-274, started)>, <Process(Process-275, started)>, <Process(Process-276, started)>, <Process(Process-277, started)>, <Process(Process-278, started)>, <Process(Process-279, started)>, <Process(Process-280, started)>, <Process(Process-281, started)>, <Process(Process-282, started)>, <Process(Process-283, started)>, <Process(Process-284, started)>, <Process(Process-285, started)>, <Process(Process-286, started)>, <Process(Process-287, started)>, <Process(Process-288, started)>, <Process(Process-289, started)>, <Process(Process-290, started)>, <Process(Process-291, started)>, <Process(Process-292, started)>, <Process(Process-293, started)>, <Process(Process-294, started)>, <Process(Process-295, started)>, <Process(Process-296, started)>, <Process(Process-297, started)>, <Process(Process-298, started)>, <Process(Process-299, started)>, <Process(Process-300, started)>, <Process(Process-301, started)>, <Process(Process-302, started)>, <Process(Process-303, started)>, <Process(Process-304, started)>, <Process(Process-305, started)>, <Process(Process-306, started)>, <Process(Process-307, started)>, <Process(Process-308, started)>, <Process(Process-309, started)>, <Process(Process-310, started)>, <Process(Process-311, started)>, <Process(Process-312, started)>, <Process(Process-313, started)>, <Process(Process-314, started)>, <Process(Process-315, started)>, <Process(Process-316, started)>, <Process(Process-317, started)>, <Process(Process-318, started)>, <Process(Process-319, started)>, <Process(Process-320, started)>, <Process(Process-321, started)>, <Process(Process-322, started)>, <Process(Process-323, started)>, <Process(Process-324, started)>, <Process(Process-325, started)>, <Process(Process-326, started)>, <Process(Process-327, started)>, <Process(Process-328, started)>, <Process(Process-329, started)>, <Process(Process-330, started)>, <Process(Process-331, started)>, <Process(Process-332, started)>, <Process(Process-333, started)>, <Process(Process-334, started)>, <Process(Process-335, started)>, <Process(Process-336, started)>, <Process(Process-337, started)>, <Process(Process-338, started)>, <Process(Process-339, started)>, <Process(Process-340, started)>, <Process(Process-341, started)>, <Process(Process-342, started)>, <Process(Process-343, started)>, <Process(Process-344, started)>, <Process(Process-345, started)>, <Process(Process-346, started)>, <Process(Process-347, started)>, <Process(Process-348, started)>, <Process(Process-349, started)>, <Process(Process-350, started)>, <Process(Process-351, started)>, <Process(Process-352, started)>, <Process(Process-353, started)>, <Process(Process-354, started)>, <Process(Process-355, started)>, <Process(Process-356, started)>, <Process(Process-357, started)>, <Process(Process-358, started)>, <Process(Process-359, started)>, <Process(Process-360, started)>, <Process(Process-361, started)>, <Process(Process-362, started)>, <Process(Process-363, started)>, <Process(Process-364, started)>, <Process(Process-365, started)>, <Process(Process-366, started)>, <Process(Process-367, started)>, <Process(Process-368, started)>, <Process(Process-369, started)>, <Process(Process-370, started)>, <Process(Process-371, started)>, <Process(Process-372, started)>, <Process(Process-373, started)>, <Process(Process-374, started)>, <Process(Process-375, started)>, <Process(Process-376, started)>, <Process(Process-377, started)>, <Process(Process-378, started)>, <Process(Process-379, started)>, <Process(Process-380, started)>, <Process(Process-381, started)>, <Process(Process-382, started)>, <Process(Process-383, started)>, <Process(Process-384, started)>, <Process(Process-385, started)>, <Process(Process-386, started)>, <Process(Process-387, started)>, <Process(Process-388, started)>, <Process(Process-389, started)>, <Process(Process-390, started)>, <Process(Process-391, started)>, <Process(Process-392, started)>, <Process(Process-393, started)>, <Process(Process-394, started)>, <Process(Process-395, started)>, <Process(Process-396, started)>, <Process(Process-397, started)>, <Process(Process-398, started)>, <Process(Process-399, started)>, <Process(Process-400, started)>, <Process(Process-401, started)>, <Process(Process-402, started)>, <Process(Process-403, started)>, <Process(Process-404, started)>, <Process(Process-405, started)>, <Process(Process-406, started)>, <Process(Process-407, started)>, <Process(Process-408, started)>, <Process(Process-409, started)>, <Process(Process-410, started)>, <Process(Process-411, started)>, <Process(Process-412, started)>, <Process(Process-413, started)>, <Process(Process-414, started)>, <Process(Process-415, started)>, <Process(Process-416, started)>, <Process(Process-417, started)>, <Process(Process-418, started)>, <Process(Process-419, started)>, <Process(Process-420, started)>, <Process(Process-421, started)>, <Process(Process-422, started)>, <Process(Process-423, started)>, <Process(Process-424, started)>, <Process(Process-425, started)>, <Process(Process-426, started)>, <Process(Process-427, started)>, <Process(Process-428, started)>, <Process(Process-429, started)>, <Process(Process-430, started)>, <Process(Process-431, started)>, <Process(Process-432, started)>, <Process(Process-433, started)>, <Process(Process-434, started)>, <Process(Process-435, started)>, <Process(Process-436, started)>, <Process(Process-437, started)>, <Process(Process-438, started)>, <Process(Process-439, started)>, <Process(Process-440, started)>, <Process(Process-441, started)>, <Process(Process-442, started)>, <Process(Process-443, started)>, <Process(Process-444, started)>, <Process(Process-445, started)>, <Process(Process-446, started)>, <Process(Process-447, started)>, <Process(Process-448, started)>, <Process(Process-449, started)>, <Process(Process-450, started)>, <Process(Process-451, started)>, <Process(Process-452, started)>, <Process(Process-453, started)>, <Process(Process-454, started)>, <Process(Process-455, started)>, <Process(Process-456, started)>, <Process(Process-457, started)>, <Process(Process-458, started)>, <Process(Process-459, started)>, <Process(Process-460, started)>, <Process(Process-461, started)>, <Process(Process-462, started)>, <Process(Process-463, started)>, <Process(Process-464, started)>, <Process(Process-465, started)>, <Process(Process-466, started)>, <Process(Process-467, started)>, <Process(Process-468, started)>, <Process(Process-469, started)>, <Process(Process-470, started)>, <Process(Process-471, started)>, <Process(Process-472, started)>, <Process(Process-473, started)>, <Process(Process-474, started)>, <Process(Process-475, started)>, <Process(Process-476, started)>, <Process(Process-477, started)>, <Process(Process-478, started)>, <Process(Process-479, started)>, <Process(Process-480, started)>, <Process(Process-481, started)>, <Process(Process-482, started)>, <Process(Process-483, started)>, <Process(Process-484, started)>, <Process(Process-485, started)>, <Process(Process-486, started)>, <Process(Process-487, started)>, <Process(Process-488, started)>, <Process(Process-489, started)>, <Process(Process-490, started)>, <Process(Process-491, started)>, <Process(Process-492, started)>, <Process(Process-493, started)>, <Process(Process-494, started)>, <Process(Process-495, started)>, <Process(Process-496, started)>, <Process(Process-497, started)>, <Process(Process-498, started)>, <Process(Process-499, started)>, <Process(Process-500, started)>, <Process(Process-501, started)>, <Process(Process-502, started)>, <Process(Process-503, started)>, <Process(Process-504, started)>, <Process(Process-505, started)>, <Process(Process-506, started)>, <Process(Process-507, started)>, <Process(Process-508, started)>, <Process(Process-509, started)>, <Process(Process-510, started)>, <Process(Process-511, started)>, <Process(Process-512, started)>, <Process(Process-513, started)>, <Process(Process-514, started)>, <Process(Process-515, started)>, <Process(Process-516, started)>, <Process(Process-517, started)>, <Process(Process-518, started)>, <Process(Process-519, started)>, <Process(Process-520, started)>, <Process(Process-521, started)>, <Process(Process-522, started)>, <Process(Process-523, started)>, <Process(Process-524, started)>, <Process(Process-525, started)>, <Process(Process-526, started)>, <Process(Process-527, started)>, <Process(Process-528, started)>, <Process(Process-529, started)>, <Process(Process-530, started)>, <Process(Process-531, started)>, <Process(Process-532, started)>, <Process(Process-533, started)>, <Process(Process-534, started)>, <Process(Process-535, started)>, <Process(Process-536, started)>, <Process(Process-537, started)>, <Process(Process-538, started)>, <Process(Process-539, started)>, <Process(Process-540, started)>]) processes\n"
     ]
    },
    {
     "name": "stderr",
     "output_type": "stream",
     "text": [
      "Process Process-440:\n",
      "Traceback (most recent call last):\n",
      "  File \"/home/jmc678/anaconda3/lib/python3.6/multiprocessing/process.py\", line 258, in _bootstrap\n",
      "    self.run()\n",
      "  File \"/home/jmc678/anaconda3/lib/python3.6/multiprocessing/process.py\", line 93, in run\n",
      "    self._target(*self._args, **self._kwargs)\n",
      "  File \"<ipython-input-4-c181455b1441>\", line 6, in sim_target_f\n",
      "    results = [sample_trajectory(R0, at_mult, st_window, use_at, use_st) for _ in range(ntrajectories)]\n",
      "  File \"<ipython-input-4-c181455b1441>\", line 6, in <listcomp>\n",
      "    results = [sample_trajectory(R0, at_mult, st_window, use_at, use_st) for _ in range(ntrajectories)]\n",
      "  File \"/home/jmc678/covid_data/group-testing/src/multi_agent_sim/multi_agent_sim.py\", line 86, in step\n",
      "    self.at.trigger_adaptive_test(agent_id, self.curr_day)\n",
      "  File \"<ipython-input-3-80d590b9f95b>\", line 11, in sample_trajectory\n",
      "    sim.step()\n",
      "  File \"/home/jmc678/covid_data/group-testing/src/multi_agent_sim/adaptive_testing.py\", line 34, in trigger_adaptive_test\n",
      "    closest_agents = self.social_network.get_n_closest_agents(agent_id, net_size)\n",
      "  File \"/home/jmc678/covid_data/group-testing/src/multi_agent_sim/social_network.py\", line 60, in get_n_closest_agents\n",
      "    if similarity >= nth_largest:\n",
      "UnboundLocalError: local variable 'nth_largest' referenced before assignment\n",
      "Process Process-380:\n",
      "Traceback (most recent call last):\n",
      "  File \"/home/jmc678/anaconda3/lib/python3.6/multiprocessing/process.py\", line 258, in _bootstrap\n",
      "    self.run()\n",
      "  File \"/home/jmc678/anaconda3/lib/python3.6/multiprocessing/process.py\", line 93, in run\n",
      "    self._target(*self._args, **self._kwargs)\n",
      "  File \"<ipython-input-4-c181455b1441>\", line 6, in sim_target_f\n",
      "    results = [sample_trajectory(R0, at_mult, st_window, use_at, use_st) for _ in range(ntrajectories)]\n",
      "  File \"<ipython-input-4-c181455b1441>\", line 6, in <listcomp>\n",
      "    results = [sample_trajectory(R0, at_mult, st_window, use_at, use_st) for _ in range(ntrajectories)]\n",
      "  File \"<ipython-input-3-80d590b9f95b>\", line 11, in sample_trajectory\n",
      "    sim.step()\n",
      "  File \"/home/jmc678/covid_data/group-testing/src/multi_agent_sim/multi_agent_sim.py\", line 86, in step\n",
      "    self.at.trigger_adaptive_test(agent_id, self.curr_day)\n",
      "  File \"/home/jmc678/covid_data/group-testing/src/multi_agent_sim/adaptive_testing.py\", line 34, in trigger_adaptive_test\n",
      "    closest_agents = self.social_network.get_n_closest_agents(agent_id, net_size)\n",
      "  File \"/home/jmc678/covid_data/group-testing/src/multi_agent_sim/social_network.py\", line 60, in get_n_closest_agents\n",
      "    if similarity >= nth_largest:\n",
      "UnboundLocalError: local variable 'nth_largest' referenced before assignment\n"
     ]
    }
   ],
   "source": [
    "R0s_to_try = [1, 1.5, 2, 2.5, 3, 3.5, 4, 4.5, 5]\n",
    "\n",
    "at_mults = [4,8,12,16]\n",
    "\n",
    "st_freqs = [4,7,10,14, 18, 21]\n",
    "\n",
    "output_dir = \"jan_07_multiagent_sims/\"\n",
    "\n",
    "def run_many_simulations(R0s_to_try, at_mults, st_freqs, output_dir):\n",
    "\n",
    "    adaptive_test_policies = []\n",
    "\n",
    "    surveillance_test_policies = []\n",
    "\n",
    "    no_use = 1\n",
    "\n",
    "    for st_freq in st_freqs:\n",
    "        surveillance_test_policies.append((no_use, st_freq, False, True))\n",
    "        for at_mult in at_mults:\n",
    "            adaptive_test_policies.append((at_mult, st_freq, True, True))\n",
    "\n",
    "\n",
    "    ntrajectories = 250\n",
    "\n",
    "    sim_ps = {}\n",
    "\n",
    "    from datetime import datetime\n",
    "\n",
    "    all_policies = adaptive_test_policies + surveillance_test_policies\n",
    "\n",
    "\n",
    "\n",
    "    for R0 in R0s_to_try:\n",
    "        for policy in all_policies:\n",
    "            at_mult, st_window, use_at, use_st = policy\n",
    "            sim_ps[(R0, policy)] = run_sims_new_process(R0, at_mult, st_window, \n",
    "                                                        use_at, use_st, ntrajectories, \n",
    "                                                        output_dir + str((R0, policy)) + \".pickle\")\n",
    "\n",
    "    print(\"launched {} processes\".format(sim_ps.values()))\n",
    "    for p in sim_ps.values():\n",
    "        p.join()\n",
    "        \n",
    "run_many_simulations(R0s_to_try, at_mults, st_freqs, output_dir)"
   ]
  },
  {
   "cell_type": "code",
   "execution_count": null,
   "metadata": {
    "collapsed": true
   },
   "outputs": [],
   "source": []
  }
 ],
 "metadata": {
  "kernelspec": {
   "display_name": "Python 3",
   "language": "python",
   "name": "python3"
  },
  "language_info": {
   "codemirror_mode": {
    "name": "ipython",
    "version": 3
   },
   "file_extension": ".py",
   "mimetype": "text/x-python",
   "name": "python",
   "nbconvert_exporter": "python",
   "pygments_lexer": "ipython3",
   "version": "3.6.3"
  }
 },
 "nbformat": 4,
 "nbformat_minor": 2
}
