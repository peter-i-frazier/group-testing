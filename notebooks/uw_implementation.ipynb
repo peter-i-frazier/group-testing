{
 "cells": [
  {
   "cell_type": "code",
   "execution_count": 21,
   "metadata": {},
   "outputs": [],
   "source": [
    "import sys\n",
    "import os\n",
    "import numpy as np\n",
    "module_path = os.path.abspath(os.path.join('..'))\n",
    "if module_path not in sys.path:\n",
    "    sys.path.append(module_path + \"/src/simulations_v2\")\n",
    "from load_params import load_multigroup_params\n",
    "from multi_group_simulation import MultiGroupSimulation\n",
    "import matplotlib.pyplot as plt"
   ]
  },
  {
   "cell_type": "markdown",
   "metadata": {},
   "source": [
    "## from july_15_tompkins_sims.ipynb"
   ]
  },
  {
   "cell_type": "code",
   "execution_count": 11,
   "metadata": {},
   "outputs": [
    {
     "name": "stderr",
     "output_type": "stream",
     "text": [
      "/Users/stevewangen/projects/COVID/cornell_reopening/src/simulations_v2/load_params.py:64: YAMLLoadWarning: calling yaml.load() without Loader=... is deprecated, as the default Loader is unsafe. Please read https://msg.pyyaml.org/load for full details.\n",
      "  params = yaml.load(f)\n",
      "/Users/stevewangen/projects/COVID/cornell_reopening/src/simulations_v2/load_params.py:136: YAMLLoadWarning: calling yaml.load() without Loader=... is deprecated, as the default Loader is unsafe. Please read https://msg.pyyaml.org/load for full details.\n",
      "  params = yaml.load(f)\n",
      "/Users/stevewangen/projects/COVID/cornell_reopening/src/simulations_v2/load_params.py:45: YAMLLoadWarning: calling yaml.load() without Loader=... is deprecated, as the default Loader is unsafe. Please read https://msg.pyyaml.org/load for full details.\n",
      "  age_sev_params = yaml.load(f)\n"
     ]
    }
   ],
   "source": [
    "# Load parameters from yaml\n",
    "\n",
    "grp_params, grp_names, interactions_mtx = \\\n",
    "    load_multigroup_params(\"../src/simulations_v2/params/multigroup/tompkins_vs_cornell.yaml\")"
   ]
  },
  {
   "cell_type": "code",
   "execution_count": 12,
   "metadata": {},
   "outputs": [],
   "source": [
    "# initialize a multi-group (school and community) simulation using the read in parameters\n",
    "\n",
    "multigrp_sim = MultiGroupSimulation(grp_params, interactions_mtx, grp_names)"
   ]
  },
  {
   "cell_type": "code",
   "execution_count": 13,
   "metadata": {},
   "outputs": [],
   "source": [
    "# Step through the multi-group simulation\n",
    "\n",
    "num_trajectories = 100\n",
    "sim_dfs_group_0 = []\n",
    "sim_dfs_group_1 = []\n",
    "for _ in range(num_trajectories):\n",
    "    multigrp_sim.reset_initial_state()\n",
    "    for _ in range(112):\n",
    "        multigrp_sim.step()\n",
    "    sim_dfs_group_0.append(multigrp_sim.sims[0].sim_df)\n",
    "    sim_dfs_group_1.append(multigrp_sim.sims[1].sim_df)\n"
   ]
  },
  {
   "cell_type": "code",
   "execution_count": 22,
   "metadata": {},
   "outputs": [],
   "source": [
    "# Plot infections in each group\n",
    "\n",
    "def get_popsize(df):\n",
    "    cols = df.columns\n",
    "    subdf = df[[col for col in cols if 'cumulative' not in col]]\n",
    "    return subdf.sum(axis=1).iloc[0]\n",
    "\n",
    "\n",
    "def add_df_plot(df, label, color):\n",
    "    popsize = get_popsize(df)\n",
    "    df[['S', 'QS']].apply(lambda x: (popsize - sum(x)) / popsize * 100, axis=1) \\\n",
    "                        .plot(label=label, alpha=0.1, linewidth=10, color=color)\n",
    "    \n",
    "#sim_dfs_group_0 = []\n",
    "#sim_dfs_group_1 = []\n",
    "\n",
    "\n",
    "def plot_infections(group_0, group_1):\n",
    "    add_df_plot(group_0[0], label=\"Tompkins Community\", color='blue')\n",
    "    for df0 in group_0[1:]:\n",
    "        add_df_plot(df0, label='', color='blue')\n",
    "\n",
    "    add_df_plot(group_1[0], label=\"Cornell Community\", color='red')\n",
    "    for df1 in group_1[1:]:\n",
    "        add_df_plot(df1, label='', color='red')\n",
    "\n",
    "    plt.title(\"Infection trajectory\")\n",
    "    plt.legend(loc='best')"
   ]
  },
  {
   "cell_type": "code",
   "execution_count": 23,
   "metadata": {
    "scrolled": true
   },
   "outputs": [
    {
     "data": {
      "image/png": "[encoded data removed]",
      "text/plain": [
       "<Figure size 432x288 with 1 Axes>"
      ]
     },
     "metadata": {
      "needs_background": "light"
     },
     "output_type": "display_data"
    }
   ],
   "source": [
    "plot_infections(sim_dfs_group_0, sim_dfs_group_1)"
   ]
  },
  {
   "cell_type": "markdown",
   "metadata": {},
   "source": [
    "## from june_9_sample_path_severity_distribution.ipynb\n",
    "Trying to get Figures 1 and 2 output from above simulation run\n",
    "\n",
    "Need to figure out how output from above sim (sim_dfs_group_X) maps to 'dfs' object below, which is otherwise read in from results file (which I am unable to produce at this point)."
   ]
  },
  {
   "cell_type": "code",
   "execution_count": 6,
   "metadata": {
    "scrolled": false
   },
   "outputs": [
    {
     "ename": "NameError",
     "evalue": "name 'output' is not defined",
     "output_type": "error",
     "traceback": [
      "\u001b[0;31m---------------------------------------------------------------------------\u001b[0m",
      "\u001b[0;31mNameError\u001b[0m                                 Traceback (most recent call last)",
      "\u001b[0;32m<ipython-input-6-737a16e47dba>\u001b[0m in \u001b[0;36m<module>\u001b[0;34m\u001b[0m\n\u001b[1;32m      1\u001b[0m \u001b[0;31m# what does DFS mean???\u001b[0m\u001b[0;34m\u001b[0m\u001b[0;34m\u001b[0m\u001b[0;34m\u001b[0m\u001b[0m\n\u001b[0;32m----> 2\u001b[0;31m \u001b[0mdfs\u001b[0m \u001b[0;34m=\u001b[0m \u001b[0moutput\u001b[0m\u001b[0;34m.\u001b[0m\u001b[0msim_results\u001b[0m\u001b[0;34m[\u001b[0m\u001b[0;34m'Nominal Parameters'\u001b[0m\u001b[0;34m]\u001b[0m\u001b[0;34m[\u001b[0m\u001b[0;34m(\u001b[0m\u001b[0;36m0.1\u001b[0m\u001b[0;34m,\u001b[0m\u001b[0;34m)\u001b[0m\u001b[0;34m]\u001b[0m\u001b[0;34m\u001b[0m\u001b[0;34m\u001b[0m\u001b[0m\n\u001b[0m",
      "\u001b[0;31mNameError\u001b[0m: name 'output' is not defined"
     ]
    }
   ],
   "source": [
    "# ???: what does DFS mean??? -sw\n",
    "dfs = output.sim_results['Nominal Parameters'][(0.1,)]"
   ]
  },
  {
   "cell_type": "code",
   "execution_count": 8,
   "metadata": {},
   "outputs": [],
   "source": [
    "def figure_01(dfs):\n",
    "        \n",
    "    '''\n",
    "    lifted from june_9_sample_path_severity_distribution.ipynb\n",
    "    \n",
    "    '''\n",
    "    \n",
    "    plt.figure(figsize=(15,9))\n",
    "    sample = dfs[0]\n",
    "\n",
    "    plt.plot(sample[cumulative_cols].sum(axis=1), linewidth=8.0, alpha=0.8, color='blue')\n",
    "    plt.plot(sample[recovered_cols].sum(axis=1), linewidth=4.0, alpha=0.6, color='red')\n",
    "    plt.plot(sample[active_cols].sum(axis=1), linewidth=4.0, alpha=0.6, color='purple')\n",
    "    plt.plot(sample[free_infectious].sum(axis=1), linewidth=2.5, alpha=0.5, color='green')\n",
    "    plt.xlabel(\"Day\", size=14)\n",
    "    plt.ylabel(\"Number of Active Infections\", size=14)\n",
    "    plt.title('Simulated COVID Progression under Nominal Parameters\\n (0.278% outside prevalence, 5-day testing)', size=18)\n",
    "    plt.legend(('Cumulative people with COVID', 'Recovered', 'Active', 'Free Infectious'), loc='best')\n",
    "    #sample_high"
   ]
  },
  {
   "cell_type": "code",
   "execution_count": 9,
   "metadata": {},
   "outputs": [],
   "source": [
    "def figure_02(dfs):\n",
    "    \n",
    "    '''\n",
    "    lifted from june_9_sample_path_severity_distribution.ipynb\n",
    "    \n",
    "    '''\n",
    "    \n",
    "    # ???: replace df_0 reference w/ dfs[0]? -sw\n",
    "    \n",
    "    sample = dfs[0]\n",
    "    df_0 = sample\n",
    "\n",
    "    # Metric: Area graph of the number of people in each severity state\n",
    "    plt.figure(figsize=(15,9))\n",
    "    y0 = list(df_0['severity_0'])\n",
    "    y1 = list(df_0['severity_1'])\n",
    "    y2 = list(df_0['severity_2'])\n",
    "    y3 = list(df_0['severity_3'])\n",
    "    x = list(range(len(list(df_0['severity_0']))))\n",
    "\n",
    "    plt.stackplot(x, y0,y1,y2,y3, labels=['Asymptomatic','Mild','Hospitalized','Critical Care'], alpha=0.7, colors=['grey', 'orange', 'blue', 'red']*10)\n",
    "    plt.legend(loc='upper left')\n",
    "    plt.title('Severity Distribution under Nominal Parameters\\n (0.278% outside prevalence, 5-day testing)', size=18)\n",
    "    plt.xlabel('Day', size=14)\n",
    "    plt.ylabel('Cumulative People in each severity class', size=14)\n",
    "\n",
    "    # print(list(df_0['severity_0']), list(df_0['severity_1']), list(df_0['severity_2']), list(df_0['severity_3']))\n",
    "    # print(list(range(len(list(df_0['severity_0'])))))"
   ]
  },
  {
   "cell_type": "code",
   "execution_count": null,
   "metadata": {},
   "outputs": [],
   "source": []
  }
 ],
 "metadata": {
  "kernelspec": {
   "display_name": "IPython (Python 3)",
   "language": "python",
   "name": "python3"
  },
  "language_info": {
   "codemirror_mode": {
    "name": "ipython",
    "version": 3
   },
   "file_extension": ".py",
   "mimetype": "text/x-python",
   "name": "python",
   "nbconvert_exporter": "python",
   "pygments_lexer": "ipython3",
   "version": "3.6.2"
  }
 },
 "nbformat": 4,
 "nbformat_minor": 4
}
