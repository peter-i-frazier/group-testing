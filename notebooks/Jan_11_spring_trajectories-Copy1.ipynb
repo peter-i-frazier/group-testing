{
 "cells": [
  {
   "cell_type": "code",
   "execution_count": 5,
   "metadata": {
    "collapsed": true
   },
   "outputs": [],
   "source": [
    "import sys\n",
    "import os\n",
    "import numpy as np\n",
    "import multiprocessing\n",
    "import dill\n",
    "import matplotlib.pyplot as plt\n",
    "import pandas as pd\n",
    "\n",
    "module_path = os.path.abspath(os.path.join('..'))\n",
    "if module_path not in sys.path:\n",
    "    sys.path.append(module_path + \"/src/simulations_v2\")\n",
    "from load_params import load_params\n",
    "\n",
    "from multi_group_simulation import MultiGroupSimulation"
   ]
  },
  {
   "cell_type": "code",
   "execution_count": 6,
   "metadata": {
    "collapsed": true
   },
   "outputs": [],
   "source": [
    "def get_cum_hosp(df):\n",
    "    return df[['severity_3', 'severity_2']].iloc[df.shape[0] - 1].sum()\n",
    "\n",
    "def get_cum_outside_infections(df):\n",
    "    return df['cumulative_outside_infections'].iloc[df.shape[0] - 1].sum()\n",
    "\n",
    "def get_cum_infections(df):\n",
    "    return df[['cumulative_mild', 'cumulative_severe']].iloc[df.shape[0] - 1].sum()\n",
    "\n",
    "def get_cum_inf_trajectory(df):\n",
    "    return np.sum(df[['cumulative_mild', 'cumulative_severe']], axis=1)\n",
    "\n",
    "def get_cum_hosp_trajectory(df):\n",
    "    return np.sum(df[['severity_3', 'severity_2']], axis=1)\n",
    "\n",
    "def total_infections(list_sim_dfs):\n",
    "    total = 0\n",
    "    for sim_df in list_sim_dfs:\n",
    "        total += get_cum_infections(sim_df)\n",
    "    return total\n",
    "\n",
    "def total_hosp(list_sim_dfs):\n",
    "    total = 0\n",
    "    for sim_df in list_sim_dfs:\n",
    "        total += get_cum_hosp(sim_df)\n",
    "    return total\n"
   ]
  },
  {
   "cell_type": "code",
   "execution_count": 3,
   "metadata": {
    "collapsed": true
   },
   "outputs": [],
   "source": []
  },
  {
   "cell_type": "code",
   "execution_count": 17,
   "metadata": {
    "collapsed": true
   },
   "outputs": [],
   "source": [
    "# Fall Semester Group Config\n",
    "\n",
    "# Loading group params\n",
    "base_directory = '../src/simulations_v2/params/jan4calibration/'\n",
    "\n",
    "ug_ga_params = load_params(base_directory + 'group_1_students_post_movein_private.yaml')[1]\n",
    "ug_other_params = load_params(base_directory + 'group_2_students_post_movein_private.yaml')[1]\n",
    "gs_params = load_params(base_directory + 'group_3_students_post_movein_private.yaml')[1]\n",
    "fs_params = load_params(base_directory + 'faculty_staff_post_movein_private.yaml')[1]\n",
    "#params_list = [ug_ga_params.copy(), ug_other_params.copy(), gs_params.copy(), fs_params.copy()]\n",
    "params_list = [ug_ga_params.copy(), ug_other_params.copy(), gs_params.copy()]"
   ]
  },
  {
   "cell_type": "code",
   "execution_count": 19,
   "metadata": {
    "collapsed": true
   },
   "outputs": [],
   "source": [
    "# Scaling of the interaction matrix is wrong, made up number of f/s -> f/s contact\n",
    "interaction_matrix = np.array([[161/125, 2/44, 0],\n",
    "                              [8/125, 7/44, 0],\n",
    "                              [0,0,1/15]])\n",
    "\n",
    "\n",
    "# adding population size\n",
    "params_list[0]['population_size'] = 3533\n",
    "params_list[1]['population_size'] = 8434\n",
    "params_list[2]['population_size'] = 6202\n",
    "#params_list[3]['population_size'] = 10000\n",
    "\n",
    "for idx in range(3):\n",
    "    params_list[idx]['daily_outside_infection_p'] *= 2\n",
    "    #params_list[idx]['test_protocol_QFNR'] = 0.25\n",
    "\n",
    "# Making up initial ID prevalence\n",
    "params_list[0]['initial_ID_prevalence'] = 1.95 * 2 / params_list[0]['population_size']\n",
    "params_list[1]['initial_ID_prevalence'] = 2.34 * 2 / params_list[1]['population_size']\n",
    "    \n",
    "group_names = ['UG (Greek, Athlete)', 'UG (other)', 'GS']#, 'Faculty/Staff']"
   ]
  },
  {
   "cell_type": "code",
   "execution_count": 22,
   "metadata": {
    "collapsed": true
   },
   "outputs": [],
   "source": [
    "from multiprocessing import Process\n",
    "import pickle\n",
    "\n",
    "\n",
    "def get_trajectories(transmission_p, n, T=12*7):\n",
    "    \n",
    "    for idx in range(3):\n",
    "        params_list[idx]['exposed_infection_p'] = transmission_p\n",
    "    \n",
    "    sim = MultiGroupSimulation(params_list, interaction_matrix, group_names)\n",
    "\n",
    "    inf_trajectories = list()\n",
    "    hosp_trajectories = list()\n",
    "    \n",
    "    for _ in range(n):\n",
    "        sim.run_new_trajectory(T)\n",
    "        group_results_inf = []\n",
    "        group_results_hosp = []\n",
    "        for group in sim.sims:\n",
    "            df = group.sim_df\n",
    "            group_results_inf.append(get_cum_inf_trajectory(df))\n",
    "            group_results_hosp.append(get_cum_hosp_trajectory(df))\n",
    "        inf_trajectories.append(group_results_inf)\n",
    "        hosp_trajectories.append(group_results_hosp)\n",
    "\n",
    "    return inf_trajectories, hosp_trajectories\n",
    "\n",
    "def sim_target_f(transmission_p, ntrajectories, pickle_file_loc):\n",
    "    results = get_trajectories(transmission_p, ntrajectories)\n",
    "    pickle.dump(results, open(pickle_file_loc, \"wb\"))\n",
    "\n",
    "def run_sims_new_process(transmission_p, ntrajectories, pickle_file_loc):\n",
    "    p = Process(target = sim_target_f, args = (transmission_p, ntrajectories, pickle_file_loc))\n",
    "    p.start()\n",
    "    return p\n",
    "\n",
    "\n"
   ]
  },
  {
   "cell_type": "code",
   "execution_count": null,
   "metadata": {
    "scrolled": false
   },
   "outputs": [
    {
     "name": "stdout",
     "output_type": "stream",
     "text": [
      "launched 26 processes\n"
     ]
    }
   ],
   "source": [
    "base_transmission_p = 0.26\n",
    "transmission_ps_to_try = [0.26 * x for x in np.arange(1,3.51, 0.1)]\n",
    "\n",
    "output_dir = \"jan_12_multigroup_sim_results/\"\n",
    "ntrajectories = 30\n",
    "\n",
    "processes = []\n",
    "\n",
    "for transmission_p in transmission_ps_to_try:\n",
    "    filename = output_dir + \"transmission_p_{}.pickle\".format(transmission_p)\n",
    "    p = run_sims_new_process(transmission_p, ntrajectories, filename)\n",
    "    processes.append(p)\n",
    "    \n",
    "print(\"launched {} processes\".format(len(processes)))\n",
    "for p in processes:\n",
    "    p.join()"
   ]
  },
  {
   "cell_type": "code",
   "execution_count": null,
   "metadata": {
    "collapsed": true
   },
   "outputs": [],
   "source": []
  }
 ],
 "metadata": {
  "kernelspec": {
   "display_name": "Python 3",
   "language": "python",
   "name": "python3"
  },
  "language_info": {
   "codemirror_mode": {
    "name": "ipython",
    "version": 3
   },
   "file_extension": ".py",
   "mimetype": "text/x-python",
   "name": "python",
   "nbconvert_exporter": "python",
   "pygments_lexer": "ipython3",
   "version": "3.6.3"
  }
 },
 "nbformat": 4,
 "nbformat_minor": 4
}
