{
 "cells": [
  {
   "cell_type": "code",
   "execution_count": 1,
   "metadata": {
    "collapsed": true
   },
   "outputs": [],
   "source": [
    "import sys\n",
    "import os\n",
    "import numpy as np\n",
    "module_path = os.path.abspath(os.path.join('..'))\n",
    "if module_path not in sys.path:\n",
    "    sys.path.append(module_path + \"/src/multi_agent_sim\")\n",
    "from multi_agent_sim import MultiAgentSim"
   ]
  },
  {
   "cell_type": "code",
   "execution_count": 2,
   "metadata": {
    "collapsed": true
   },
   "outputs": [],
   "source": [
    "infection_dynamics_params = {\n",
    "    'forward_gen_alpha': 8,\n",
    "    'forward_gen_beta_hyperparams': (5,5),\n",
    "    'detectability_curve_type': 'optimistic',\n",
    "    'self_reporting_multiplier': 0.8,\n",
    "    'self_reporting_delay': 3,\n",
    "    'init_infection_rate': 0.001,\n",
    "    'use_deterministic_infection_counts': True,\n",
    "}\n",
    "\n",
    "social_network_params_high_var = {\n",
    "    'location_vec_dim': 2,\n",
    "    'network_gamma': 3,\n",
    "    'daily_contacts_distn_type': 'negative_binomial',\n",
    "    'neg_bin_r': 2,\n",
    "    'neg_bin_p_hyperparams': (2,3),\n",
    "}\n",
    "\n",
    "n_agents = 1000\n",
    "main_params = {\n",
    "    'n_agents': 1000,\n",
    "    'use_contact_tracing': False,\n",
    "    'use_adaptive_testing': True,\n",
    "    'use_surveillance_testing': True\n",
    "}\n",
    "\n",
    "ct_params = {\n",
    "    'ct_recall_window': 8,\n",
    "    'ct_delay_distribution': [1/3,1/3,1/3], # uniform over 0, 1, 2 days delay\n",
    "    'ct_recall_rate': 0.5\n",
    "}\n",
    "\n",
    "at_params = {\n",
    "    'at_delay_distribution': [1/5] * 5,\n",
    "    'at_net_size_contact_multiplier': 10,\n",
    "    'at_recall_rate': 0.9\n",
    "}\n",
    "\n",
    "st_params = {\n",
    "    'st_testing_window': 3,\n",
    "    'st_missed_test_rate': 0.1\n",
    "}\n",
    "\n",
    "def init_high_var_sim(R0):\n",
    "    social_network_params_high_var['neg_bin_r'] = R0 / 0.9\n",
    "    return MultiAgentSim(main_params, infection_dynamics_params, social_network_params_high_var, \n",
    "                         ct_params, at_params, st_params)\n",
    "\n",
    "social_network_params_low_var = {\n",
    "    'location_vec_dim': 2,\n",
    "    'network_gamma': 3,\n",
    "    'daily_contacts_distn_type': 'negative_binomial',\n",
    "    'neg_bin_r': 2,\n",
    "    'neg_bin_p_hyperparams': (5,6),\n",
    "}\n",
    "\n",
    "def init_low_var_sim(R0):\n",
    "    social_network_params_low_var['neg_bin_r'] = R0 / 0.9\n",
    "    return MultiAgentSim(main_params, infection_dynamics_params, social_network_params_low_var, \n",
    "                         ct_params, at_params, st_params)"
   ]
  },
  {
   "cell_type": "code",
   "execution_count": 3,
   "metadata": {
    "collapsed": true
   },
   "outputs": [],
   "source": [
    "def sample_trajectory(R0, at_multiplier, st_testing_window):\n",
    "    st_params['st_testing_window'] = st_testing_window\n",
    "    at_params['at_net_size_contact_multiplier'] = at_multiplier\n",
    "    sim = init_low_var_sim(R0)\n",
    "    infection_counts = [len(sim.infection.get_cum_infected_agent_ids())]\n",
    "    init_infection_counts = infection_counts[0]\n",
    "    for _ in range(7*12):\n",
    "        sim.step()\n",
    "        infection_counts.append(len(sim.infection.get_cum_infected_agent_ids()))\n",
    "    total_tests = sim.get_total_tests()\n",
    "    return total_tests, infection_counts, init_infection_counts, infection_counts[-1]"
   ]
  },
  {
   "cell_type": "markdown",
   "metadata": {},
   "source": [
    "# look at R0 vs. at_multiplier"
   ]
  },
  {
   "cell_type": "code",
   "execution_count": null,
   "metadata": {
    "scrolled": true
   },
   "outputs": [
    {
     "name": "stdout",
     "output_type": "stream",
     "text": [
      "on pair (1.5, 2)\n",
      "Timestamp: 2020-11-18 16:43:11.275743\n",
      "\n",
      "on pair (1.5, 3)\n",
      "Timestamp: 2020-11-18 16:48:47.887299\n",
      "\n",
      "on pair (1.5, 4)\n",
      "Timestamp: 2020-11-18 16:54:17.656147\n",
      "\n",
      "on pair (1.5, 5)\n",
      "Timestamp: 2020-11-18 16:59:48.712552\n",
      "\n",
      "on pair (1.5, 6)\n",
      "Timestamp: 2020-11-18 17:05:19.287582\n",
      "\n",
      "on pair (1.5, 7)\n",
      "Timestamp: 2020-11-18 17:10:52.218329\n",
      "\n",
      "on pair (1.5, 8)\n",
      "Timestamp: 2020-11-18 17:16:23.342061\n",
      "\n",
      "on pair (2, 2)\n",
      "Timestamp: 2020-11-18 17:21:55.907999\n",
      "\n",
      "on pair (2, 3)\n",
      "Timestamp: 2020-11-18 17:27:31.065661\n",
      "\n",
      "on pair (2, 4)\n",
      "Timestamp: 2020-11-18 17:33:03.094912\n",
      "\n",
      "on pair (2, 5)\n",
      "Timestamp: 2020-11-18 17:38:36.525168\n",
      "\n",
      "on pair (2, 6)\n",
      "Timestamp: 2020-11-18 17:44:09.160968\n",
      "\n",
      "on pair (2, 7)\n",
      "Timestamp: 2020-11-18 17:49:41.210677\n",
      "\n",
      "on pair (2, 8)\n",
      "Timestamp: 2020-11-18 17:55:12.596024\n",
      "\n",
      "on pair (2.5, 2)\n",
      "Timestamp: 2020-11-18 18:00:42.652590\n",
      "\n",
      "on pair (2.5, 3)\n",
      "Timestamp: 2020-11-18 18:06:15.052556\n",
      "\n",
      "on pair (2.5, 4)\n",
      "Timestamp: 2020-11-18 18:11:46.372743\n",
      "\n",
      "on pair (2.5, 5)\n",
      "Timestamp: 2020-11-18 18:17:19.685858\n",
      "\n",
      "on pair (2.5, 6)\n",
      "Timestamp: 2020-11-18 18:22:50.484421\n",
      "\n",
      "on pair (2.5, 7)\n",
      "Timestamp: 2020-11-18 18:28:33.753068\n",
      "\n",
      "on pair (2.5, 8)\n",
      "Timestamp: 2020-11-18 18:34:29.797879\n",
      "\n",
      "on pair (3, 2)\n",
      "Timestamp: 2020-11-18 18:40:19.934831\n",
      "\n",
      "on pair (3, 3)\n",
      "Timestamp: 2020-11-18 18:45:52.972918\n",
      "\n",
      "on pair (3, 4)\n",
      "Timestamp: 2020-11-18 18:51:24.779133\n",
      "\n"
     ]
    }
   ],
   "source": [
    "R0s_to_try = [1.5, 2, 2.5, 3, 3.5]\n",
    "\n",
    "st_windows_to_try = [2, 3, 4, 5, 6, 7, 8]\n",
    "\n",
    "st_pareto_results = {}\n",
    "\n",
    "main_params['use_adaptive_testing'] = False\n",
    "main_params['use_contact_tracing'] = False\n",
    "\n",
    "ntrajectories = 20\n",
    "\n",
    "from datetime import datetime\n",
    "\n",
    "for R0 in R0s_to_try:\n",
    "    for st_window in st_windows_to_try:\n",
    "        print(\"on pair {}\".format((R0, st_window)))\n",
    "        print(\"Timestamp: {}\\n\".format(datetime.now()))\n",
    "        st_pareto_results[(R0, st_window)] = [sample_trajectory(R0, 1, st_window) for _ in range(ntrajectories)]"
   ]
  },
  {
   "cell_type": "markdown",
   "metadata": {},
   "source": [
    "# look at surveillance test pareto results"
   ]
  },
  {
   "cell_type": "code",
   "execution_count": 10,
   "metadata": {},
   "outputs": [
    {
     "data": {
      "text/plain": [
       "<matplotlib.collections.PathCollection at 0x7fce2b2a3048>"
      ]
     },
     "execution_count": 10,
     "metadata": {},
     "output_type": "execute_result"
    },
    {
     "data": {
      "image/png": "[encoded data removed]",
      "text/plain": [
       "<matplotlib.figure.Figure at 0x7fce2f5885f8>"
      ]
     },
     "metadata": {},
     "output_type": "display_data"
    }
   ],
   "source": [
    "tests = []\n",
    "infxns = []\n",
    "R0 = 1.5\n",
    "\n",
    "for st_window in st_windows_to_try:\n",
    "    results = st_pareto_results[(R0, st_window)]\n",
    "    avg_total_tests = np.mean([r[0] for r in results])\n",
    "    avg_total_infxns = np.mean([r[-1] for r in results])\n",
    "    tests.append(avg_total_tests)\n",
    "    infxns.append(avg_total_infxns)\n",
    "\n",
    "import matplotlib.pyplot as plt\n",
    "%matplotlib inline\n",
    "plt.scatter(tests, infxns)"
   ]
  },
  {
   "cell_type": "code",
   "execution_count": 11,
   "metadata": {
    "collapsed": true
   },
   "outputs": [],
   "source": [
    "import pickle\n",
    "pickle.dump(st_pareto_results, open(\"st_pareto_results.pickle\", \"wb\"))"
   ]
  },
  {
   "cell_type": "code",
   "execution_count": null,
   "metadata": {
    "collapsed": true
   },
   "outputs": [],
   "source": []
  }
 ],
 "metadata": {
  "kernelspec": {
   "display_name": "Python 3",
   "language": "python",
   "name": "python3"
  },
  "language_info": {
   "codemirror_mode": {
    "name": "ipython",
    "version": 3
   },
   "file_extension": ".py",
   "mimetype": "text/x-python",
   "name": "python",
   "nbconvert_exporter": "python",
   "pygments_lexer": "ipython3",
   "version": "3.6.3"
  }
 },
 "nbformat": 4,
 "nbformat_minor": 2
}
