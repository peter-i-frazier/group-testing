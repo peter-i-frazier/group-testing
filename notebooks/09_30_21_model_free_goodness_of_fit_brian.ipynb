{
 "cells": [
  {
   "cell_type": "code",
   "execution_count": null,
   "metadata": {},
   "outputs": [],
   "source": [
    "import sys\n",
    "import os\n",
    "import numpy as np\n",
    "module_path = os.path.abspath(os.path.join('..'))\n",
    "if module_path not in sys.path:\n",
    "    sys.path.append(module_path + \"/src/simulations_v2\")\n",
    "    sys.path.append(module_path + \"/src/simulations_v2/params/spring_2021_calibration/\")\n",
    "    sys.path.append(module_path + \"/notebooks/pnas_paper_figs/\")\n",
    "\n",
    "from multiprocessing import Process\n"
   ]
  },
  {
   "cell_type": "code",
   "execution_count": null,
   "metadata": {},
   "outputs": [],
   "source": [
    "!pip install pyDOE"
   ]
  },
  {
   "cell_type": "code",
   "execution_count": null,
   "metadata": {},
   "outputs": [],
   "source": [
    "from uncertainty_analysis import calculate_pessimistic_scenario, \\\n",
    "            load_sim_output, residential_regression, virtual_vs_residential_regression,\\\n",
    "            UNCERTAINTY_PARAMS_LIST\n",
    "\n",
    "from LHS_sim_code import *"
   ]
  },
  {
   "cell_type": "code",
   "execution_count": null,
   "metadata": {},
   "outputs": [],
   "source": [
    "quantiles = np.arange(0.05,1,0.05)\n",
    "quantiles"
   ]
  },
  {
   "cell_type": "code",
   "execution_count": null,
   "metadata": {},
   "outputs": [],
   "source": [
    "uncertainty_params_list = UNCERTAINTY_PARAMS_LIST"
   ]
  },
  {
   "cell_type": "code",
   "execution_count": null,
   "metadata": {},
   "outputs": [],
   "source": [
    "# 100 trajectories for each of 1000 configs sampled from the prior is stored under \n",
    "# notebooks/sept_29_prior_sims/"
   ]
  },
  {
   "cell_type": "code",
   "execution_count": null,
   "metadata": {},
   "outputs": [],
   "source": [
    "lhs_output_sim_files = []\n",
    "for i in range(2000):\n",
    "    #fname = '/home/jmc678/covid_data/group-testing/notebooks/apr_29_scenarios/point_{}.dill'.format(i)\n",
    "    \n",
    "    fname = '/Users/brianliu/GraduateSchool/Fall2021/MiscResearch/COVID/group-testing/notebooks/apr_29_scenarios/point_{}.dill'.format(i)\n",
    "    lhs_output_sim_files.append(fname)\n",
    "\n",
    "scenario_data = load_sim_output(lhs_output_sim_files)\n",
    "res_results = residential_regression(scenario_data)\n",
    "#res_results = virtual_vs_residential_regression(scenario_data)\n",
    "res_pessimistic = calculate_pessimistic_scenario(res_results)\n",
    "    "
   ]
  },
  {
   "cell_type": "code",
   "execution_count": null,
   "metadata": {},
   "outputs": [],
   "source": [
    "calculate_pessimistic_scenario(res_results, q = 0.95)"
   ]
  },
  {
   "cell_type": "code",
   "execution_count": null,
   "metadata": {},
   "outputs": [],
   "source": [
    "nsamples = 1000\n",
    "\n",
    "for q in quantiles:\n",
    "\n",
    "    processes = []\n",
    "    \n",
    "    pess_config = calculate_pessimistic_scenario(res_results, q = q)\n",
    "    param_input = [pess_config[key] for key in uncertainty_params_list]\n",
    "    \n",
    "    for i in range(nsamples):\n",
    "        p = run_new_process_residential_only(param_input, 'sept_30_linear_pess_sims/'+str(q)+'_quantile/trajectory_'+str(i)+'.dill', i)\n",
    "        processes.append(p)\n",
    "\n",
    "    print(\"launched {} processes\".format(len(processes)))\n",
    "    for p in processes:\n",
    "        p.join()"
   ]
  },
  {
   "cell_type": "markdown",
   "metadata": {},
   "source": [
    "### Processing Prior Sim"
   ]
  },
  {
   "cell_type": "code",
   "execution_count": null,
   "metadata": {},
   "outputs": [],
   "source": [
    "pd.set_option('display.max_columns', None)  "
   ]
  },
  {
   "cell_type": "code",
   "execution_count": null,
   "metadata": {},
   "outputs": [],
   "source": [
    "lhs_output_sim_files = []\n",
    "for i in range(999):\n",
    "    #fname = '/home/jmc678/covid_data/group-testing/notebooks/apr_29_scenarios/point_{}.dill'.format(i)\n",
    "    if i != 524:\n",
    "    \n",
    "        fname = '/Users/brianliu/GraduateSchool/Fall2021/MiscResearch/COVID/group-testing/notebooks/sept_29_prior_sims/point_{}.dill'.format(i)\n",
    "        lhs_output_sim_files.append(fname)\n",
    "\n",
    "\n",
    "scenario_data = load_sim_output(lhs_output_sim_files)\n",
    "res_results = residential_regression(scenario_data)\n"
   ]
  },
  {
   "cell_type": "code",
   "execution_count": null,
   "metadata": {},
   "outputs": [],
   "source": [
    "\n",
    "nsamples = 10\n",
    "quantiles = np.arange(0.05,1,0.05)\n",
    "\n",
    "for q in quantiles:\n",
    "    print(q)\n",
    "    pess_config = calculate_pessimistic_scenario(res_results, q = q)\n",
    "    param_input = [pess_config[key] for key in uncertainty_params_list]\n",
    "    process=[]\n",
    "    for i in range(nsamples):\n",
    "        p = run_new_process_residential_only(param_input, 'sept_29_prior_sims/'+str(q)+'_quantile/trajectory_'+str(i)+'.dill', i)\n",
    "        processes.append(p)\n",
    "    "
   ]
  },
  {
   "cell_type": "code",
   "execution_count": null,
   "metadata": {},
   "outputs": [],
   "source": [
    "for p in processes:\n",
    "        p.join()"
   ]
  },
  {
   "cell_type": "code",
   "execution_count": null,
   "metadata": {},
   "outputs": [],
   "source": []
  }
 ],
 "metadata": {
  "kernelspec": {
   "display_name": "Python 3",
   "language": "python",
   "name": "python3"
  },
  "language_info": {
   "codemirror_mode": {
    "name": "ipython",
    "version": 3
   },
   "file_extension": ".py",
   "mimetype": "text/x-python",
   "name": "python",
   "nbconvert_exporter": "python",
   "pygments_lexer": "ipython3",
   "version": "3.8.8"
  }
 },
 "nbformat": 4,
 "nbformat_minor": 2
}
