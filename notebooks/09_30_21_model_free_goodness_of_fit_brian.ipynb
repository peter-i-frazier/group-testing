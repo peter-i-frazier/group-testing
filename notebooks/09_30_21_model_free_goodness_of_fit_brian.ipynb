{
 "cells": [
  {
   "cell_type": "code",
   "execution_count": 10,
   "metadata": {},
   "outputs": [],
   "source": [
    "import sys\n",
    "import os\n",
    "import numpy as np\n",
    "module_path = os.path.abspath(os.path.join('..'))\n",
    "if module_path not in sys.path:\n",
    "    sys.path.append(module_path + \"/src/simulations_v2\")\n",
    "    sys.path.append(module_path + \"/src/simulations_v2/params/spring_2021_calibration/\")\n",
    "    sys.path.append(module_path + \"/notebooks/pnas_paper_figs/\")\n",
    "\n",
    "from multiprocessing import Process\n"
   ]
  },
  {
   "cell_type": "code",
   "execution_count": 2,
   "metadata": {},
   "outputs": [
    {
     "name": "stdout",
     "output_type": "stream",
     "text": [
      "Requirement already satisfied: pyDOE in /home/yz685/anaconda3/lib/python3.7/site-packages (0.3.8)\n",
      "Requirement already satisfied: scipy in /home/yz685/anaconda3/lib/python3.7/site-packages (from pyDOE) (1.4.1)\n",
      "Requirement already satisfied: numpy in /home/yz685/anaconda3/lib/python3.7/site-packages (from pyDOE) (1.18.1)\n"
     ]
    }
   ],
   "source": [
    "!pip install pyDOE"
   ]
  },
  {
   "cell_type": "code",
   "execution_count": 11,
   "metadata": {},
   "outputs": [],
   "source": [
    "from uncertainty_analysis import calculate_pessimistic_scenario, \\\n",
    "            load_sim_output, residential_regression, virtual_vs_residential_regression,\\\n",
    "            UNCERTAINTY_PARAMS_LIST\n",
    "\n",
    "from LHS_sim_code import *"
   ]
  },
  {
   "cell_type": "markdown",
   "metadata": {},
   "source": [
    "### Processing Prior Sim"
   ]
  },
  {
   "cell_type": "code",
   "execution_count": 12,
   "metadata": {},
   "outputs": [],
   "source": [
    "pd.set_option('display.max_columns', None)  "
   ]
  },
  {
   "cell_type": "code",
   "execution_count": 22,
   "metadata": {},
   "outputs": [],
   "source": [
    "prior_output_sim_files = []\n",
    "for i in range(1000):\n",
    "    #fname = '/home/jmc678/covid_data/group-testing/notebooks/apr_29_scenarios/point_{}.dill'.format(i)\n",
    "    if i != 524:\n",
    "    \n",
    "        #fname = '/Users/brianliu/GraduateSchool/Fall2021/MiscResearch/COVID/group-testing/notebooks/sept_29_prior_sims/point_{}.dill'.format(i)\n",
    "        fname = '/home/yz685/group-testing/notebooks/sept_29_prior_sims/point_{}.dill'.format(i)\n",
    "\n",
    "        prior_output_sim_files.append(fname)\n",
    "\n",
    "\n",
    "scenario_data = load_sim_output(prior_output_sim_files)\n",
    "#res_results = residential_regression(scenario_data)\n"
   ]
  },
  {
   "cell_type": "code",
   "execution_count": 14,
   "metadata": {},
   "outputs": [],
   "source": [
    "prior_median_outcomes = np.array(scenario_data['res_cornell_inf_50'])"
   ]
  },
  {
   "cell_type": "code",
   "execution_count": 60,
   "metadata": {},
   "outputs": [
    {
     "data": {
      "text/plain": [
       "999"
      ]
     },
     "execution_count": 60,
     "metadata": {},
     "output_type": "execute_result"
    }
   ],
   "source": [
    "len(prior_median_outcomes)"
   ]
  },
  {
   "cell_type": "code",
   "execution_count": 49,
   "metadata": {},
   "outputs": [
    {
     "data": {
      "text/plain": [
       "array([0.01, 0.05, 0.1 , 0.15, 0.2 , 0.25, 0.3 , 0.35, 0.4 , 0.45, 0.5 ,\n",
       "       0.55, 0.6 , 0.65, 0.7 , 0.75, 0.8 , 0.85, 0.9 , 0.95, 0.99])"
      ]
     },
     "execution_count": 49,
     "metadata": {},
     "output_type": "execute_result"
    }
   ],
   "source": [
    "quantiles = np.arange(0,1,0.05)\n",
    "quantiles[0] = 0.01\n",
    "quantiles = np.append(quantiles, np.array([0.99]))\n",
    "quantiles"
   ]
  },
  {
   "cell_type": "code",
   "execution_count": 51,
   "metadata": {},
   "outputs": [],
   "source": [
    "quantile_pess_sim_files = []\n",
    "\n",
    "for q in 100*quantiles:\n",
    "    \n",
    "    if len(str(int(q))) == 1:\n",
    "        quantile_str = '0' + str(int(q))\n",
    "    else:\n",
    "        quantile_str = str(int(q))\n",
    "    fname = '/home/yz685/group-testing/notebooks/sept_30_linear_pess_sims_20runs/'+quantile_str+'_quantile.dill'\n",
    "    quantile_pess_sim_files.append(fname)\n",
    "\n",
    "quantile_pess_scenario_data = load_sim_output(quantile_pess_sim_files)"
   ]
  },
  {
   "cell_type": "code",
   "execution_count": 52,
   "metadata": {},
   "outputs": [],
   "source": [
    "quantile_pess_median_outcomes = np.array(quantile_pess_scenario_data['res_cornell_inf_50'])"
   ]
  },
  {
   "cell_type": "code",
   "execution_count": 61,
   "metadata": {},
   "outputs": [
    {
     "data": {
      "text/plain": [
       "21"
      ]
     },
     "execution_count": 61,
     "metadata": {},
     "output_type": "execute_result"
    }
   ],
   "source": [
    "len(quantile_pess_median_outcomes)"
   ]
  },
  {
   "cell_type": "code",
   "execution_count": 53,
   "metadata": {},
   "outputs": [],
   "source": [
    "r = []\n",
    "\n",
    "for i in range(21):\n",
    "    r.append(sum(prior_median_outcomes < quantile_pess_median_outcomes[i]) / 999)"
   ]
  },
  {
   "cell_type": "code",
   "execution_count": 62,
   "metadata": {},
   "outputs": [
    {
     "data": {
      "text/plain": [
       "[0.03903903903903904,\n",
       " 0.1111111111111111,\n",
       " 0.12712712712712712,\n",
       " 0.18118118118118118,\n",
       " 0.2132132132132132,\n",
       " 0.35135135135135137,\n",
       " 0.2932932932932933,\n",
       " 0.3563563563563564,\n",
       " 0.36236236236236236,\n",
       " 0.43743743743743746,\n",
       " 0.5395395395395396,\n",
       " 0.5535535535535535,\n",
       " 0.5285285285285285,\n",
       " 0.6506506506506506,\n",
       " 0.7607607607607607,\n",
       " 0.7497497497497497,\n",
       " 0.8088088088088088,\n",
       " 0.8188188188188188,\n",
       " 0.8898898898898899,\n",
       " 0.9259259259259259,\n",
       " 0.98998998998999]"
      ]
     },
     "execution_count": 62,
     "metadata": {},
     "output_type": "execute_result"
    }
   ],
   "source": [
    "r"
   ]
  },
  {
   "cell_type": "code",
   "execution_count": 59,
   "metadata": {},
   "outputs": [
    {
     "data": {
      "text/plain": [
       "<matplotlib.legend.Legend at 0x7fb81e514f10>"
      ]
     },
     "execution_count": 59,
     "metadata": {},
     "output_type": "execute_result"
    },
    {
     "data": {
      "image/png": "[encoded data removed]",
      "text/plain": [
       "<Figure size 576x432 with 1 Axes>"
      ]
     },
     "metadata": {
      "needs_background": "light"
     },
     "output_type": "display_data"
    }
   ],
   "source": [
    "import matplotlib.pyplot as plt\n",
    "\n",
    "plt.figure(figsize=(8,6))\n",
    "plt.plot(quantiles, r, '-o', label = 'Empirical quantile of linear pessimistic scenario')\n",
    "plt.plot(quantiles, quantiles, '--', label = 'Identity function')\n",
    "plt.title('Empirical quantiles of linear pessimistic scenarios')\n",
    "plt.xlabel('Quantile of the linear pessimistic scenario')\n",
    "plt.ylabel('Empirical quantile of the linear pessimistic scenario')\n",
    "plt.legend()"
   ]
  },
  {
   "cell_type": "code",
   "execution_count": null,
   "metadata": {},
   "outputs": [],
   "source": []
  }
 ],
 "metadata": {
  "kernelspec": {
   "display_name": "Python 3",
   "language": "python",
   "name": "python3"
  },
  "language_info": {
   "codemirror_mode": {
    "name": "ipython",
    "version": 3
   },
   "file_extension": ".py",
   "mimetype": "text/x-python",
   "name": "python",
   "nbconvert_exporter": "python",
   "pygments_lexer": "ipython3",
   "version": "3.7.6"
  }
 },
 "nbformat": 4,
 "nbformat_minor": 2
}
