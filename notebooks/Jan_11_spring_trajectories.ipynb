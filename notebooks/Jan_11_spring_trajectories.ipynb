{
 "cells": [
  {
   "cell_type": "code",
   "execution_count": 5,
   "metadata": {
    "collapsed": true
   },
   "outputs": [],
   "source": [
    "import sys\n",
    "import os\n",
    "import numpy as np\n",
    "import multiprocessing\n",
    "import dill\n",
    "import matplotlib.pyplot as plt\n",
    "import pandas as pd\n",
    "\n",
    "module_path = os.path.abspath(os.path.join('..'))\n",
    "if module_path not in sys.path:\n",
    "    sys.path.append(module_path + \"/src/simulations_v2\")\n",
    "from load_params import load_params\n",
    "\n",
    "from multi_group_simulation import MultiGroupSimulation"
   ]
  },
  {
   "cell_type": "code",
   "execution_count": 35,
   "metadata": {
    "collapsed": true
   },
   "outputs": [],
   "source": [
    "def get_cum_hosp(df):\n",
    "    return df[['severity_3', 'severity_2']].iloc[df.shape[0] - 1].sum()\n",
    "\n",
    "def get_cum_outside_infections(df):\n",
    "    return df['cumulative_outside_infections'].iloc[df.shape[0] - 1].sum()\n",
    "\n",
    "def get_cum_infections(df):\n",
    "    return df[['cumulative_mild', 'cumulative_severe']].iloc[df.shape[0] - 1].sum()\n",
    "\n",
    "def get_cum_inf_trajectory(df):\n",
    "    return np.sum(df[['cumulative_mild', 'cumulative_severe']], axis=1)\n",
    "\n",
    "def get_cum_hosp_trajectory(df):\n",
    "    return np.sum(df[['severity_3', 'severity_2']], axis=1)\n",
    "\n",
    "def total_infections(list_sim_dfs):\n",
    "    total = 0\n",
    "    for sim_df in list_sim_dfs:\n",
    "        total += get_cum_infections(sim_df)\n",
    "    return total\n",
    "\n",
    "def total_hosp(list_sim_dfs):\n",
    "    total = 0\n",
    "    for sim_df in list_sim_dfs:\n",
    "        total += get_cum_hosp(sim_df)\n",
    "    return total\n"
   ]
  },
  {
   "cell_type": "code",
   "execution_count": 3,
   "metadata": {
    "collapsed": true
   },
   "outputs": [],
   "source": []
  },
  {
   "cell_type": "code",
   "execution_count": 17,
   "metadata": {
    "collapsed": true
   },
   "outputs": [],
   "source": [
    "# Fall Semester Group Config\n",
    "\n",
    "# Loading group params\n",
    "base_directory = '../src/simulations_v2/params/jan4calibration/'\n",
    "\n",
    "ug_ga_params = load_params(base_directory + 'group_1_students_post_movein_private.yaml')[1]\n",
    "ug_other_params = load_params(base_directory + 'group_2_students_post_movein_private.yaml')[1]\n",
    "gs_params = load_params(base_directory + 'group_3_students_post_movein_private.yaml')[1]\n",
    "fs_params = load_params(base_directory + 'faculty_staff_post_movein_private.yaml')[1]\n",
    "#params_list = [ug_ga_params.copy(), ug_other_params.copy(), gs_params.copy(), fs_params.copy()]\n",
    "params_list = [ug_ga_params.copy(), ug_other_params.copy(), gs_params.copy()]"
   ]
  },
  {
   "cell_type": "code",
   "execution_count": 19,
   "metadata": {
    "collapsed": true
   },
   "outputs": [],
   "source": [
    "# Scaling of the interaction matrix is wrong, made up number of f/s -> f/s contact\n",
    "interaction_matrix = np.array([[161/125, 2/44, 0],\n",
    "                              [8/125, 7/44, 0],\n",
    "                              [0,0,1/15]])\n",
    "\n",
    "\n",
    "# adding population size\n",
    "params_list[0]['population_size'] = 3533\n",
    "params_list[1]['population_size'] = 8434\n",
    "params_list[2]['population_size'] = 6202\n",
    "#params_list[3]['population_size'] = 10000\n",
    "\n",
    "for idx in range(3):\n",
    "    params_list[idx]['daily_outside_infection_p'] *= 2\n",
    "    #params_list[idx]['test_protocol_QFNR'] = 0.25\n",
    "\n",
    "# Making up initial ID prevalence\n",
    "params_list[0]['initial_ID_prevalence'] = 1.95 * 2 / params_list[0]['population_size']\n",
    "params_list[1]['initial_ID_prevalence'] = 2.34 * 2 / params_list[1]['population_size']\n",
    "    \n",
    "group_names = ['UG (Greek, Athlete)', 'UG (other)', 'GS']#, 'Faculty/Staff']"
   ]
  },
  {
   "cell_type": "code",
   "execution_count": 32,
   "metadata": {
    "collapsed": true
   },
   "outputs": [],
   "source": [
    "from multiprocessing import Process\n",
    "import pickle\n",
    "\n",
    "\n",
    "def get_trajectories(transmission_p, n, T=19*7):\n",
    "    \n",
    "    for idx in range(3):\n",
    "        params_list[idx]['exposed_infection_p'] = transmission_p\n",
    "    \n",
    "    sim = MultiGroupSimulation(params_list, interaction_matrix, group_names)\n",
    "\n",
    "    inf_trajectories = list()\n",
    "    hosp_trajectories = list()\n",
    "    \n",
    "    for _ in range(n):\n",
    "        sim.run_new_trajectory(T)\n",
    "        group_results_inf = []\n",
    "        group_results_hosp = []\n",
    "        for group in sim.sims:\n",
    "            df = group.sim_df\n",
    "            group_results_inf.append(get_cum_infections(df))\n",
    "            group_results_hosp.append(get_cum_hosp(df))\n",
    "        inf_trajectories.append(group_results_inf)\n",
    "        hosp_trajectories.append(group_results_hosp)\n",
    "\n",
    "    return inf_trajectories, hosp_trajectories\n",
    "\n",
    "def sim_target_f(transmission_p, ntrajectories, pickle_file_loc):\n",
    "    results = get_trajectories(transmission_p, ntrajectories)\n",
    "    pickle.dump(results, open(pickle_file_loc, \"wb\"))\n",
    "\n",
    "def run_sims_new_process(transmission_p, ntrajectories, pickle_file_loc):\n",
    "    p = Process(target = sim_target_f, args = (transmission_p, ntrajectories, pickle_file_loc))\n",
    "    p.start()\n",
    "    return p\n",
    "\n",
    "\n"
   ]
  },
  {
   "cell_type": "code",
   "execution_count": 33,
   "metadata": {
    "scrolled": false
   },
   "outputs": [
    {
     "name": "stdout",
     "output_type": "stream",
     "text": [
      "launched 26 processes\n"
     ]
    }
   ],
   "source": [
    "base_transmission_p = 0.26\n",
    "transmission_ps_to_try = [0.26 * x for x in np.arange(1,3.51, 0.1)]\n",
    "\n",
    "output_dir = \"jan_12_multigroup_sim_results/\"\n",
    "ntrajectories = 30\n",
    "\n",
    "processes = []\n",
    "\n",
    "for transmission_p in transmission_ps_to_try:\n",
    "    filename = output_dir + \"transmission_p_{}.pickle\".format(transmission_p)\n",
    "    p = run_sims_new_process(transmission_p, ntrajectories, filename)\n",
    "    processes.append(p)\n",
    "    \n",
    "print(\"launched {} processes\".format(len(processes)))\n",
    "for p in processes:\n",
    "    p.join()"
   ]
  },
  {
   "cell_type": "code",
   "execution_count": 51,
   "metadata": {},
   "outputs": [
    {
     "name": "stdout",
     "output_type": "stream",
     "text": [
      "Loaded 26 simulation results\n"
     ]
    }
   ],
   "source": [
    "\n",
    "def extract_sim_properties(fname):\n",
    "    subname = fname.split('transmission_p_')[-1]\n",
    "    subname = subname.split('.pickle')[0]\n",
    "    return float(subname)\n",
    "\n",
    "def load_sim_output(fname):\n",
    "    with open(fname, \"rb\") as handle:\n",
    "        sim_output = pickle.load(handle)\n",
    "    return sim_output\n",
    "\n",
    "def load_sim_outputs(sim_output_dir):\n",
    "    sim_pickle_files = [sim_output_dir + '/' + file for  file in os.listdir(sim_output_dir) if '.pickle' in file]\n",
    "\n",
    "    sim_outputs = {}\n",
    "    for fname in sim_pickle_files:\n",
    "        transmission_p = extract_sim_properties(fname)\n",
    "        sim_output = load_sim_output(fname)\n",
    "        sim_outputs[transmission_p] = sim_output\n",
    "\n",
    "    print(\"Loaded {} simulation results\".format(len(sim_outputs)))\n",
    "    return sim_outputs\n",
    "\n",
    "sim_outputs = load_sim_outputs('./jan_12_multigroup_sim_results/')"
   ]
  },
  {
   "cell_type": "code",
   "execution_count": 28,
   "metadata": {},
   "outputs": [
    {
     "data": {
      "text/plain": [
       "3"
      ]
     },
     "execution_count": 28,
     "metadata": {},
     "output_type": "execute_result"
    }
   ],
   "source": [
    "len(sim_outputs[0.26][0][0])"
   ]
  },
  {
   "cell_type": "code",
   "execution_count": 52,
   "metadata": {
    "scrolled": false
   },
   "outputs": [],
   "source": [
    "def get_avg_infxns_by_group(sim_output):\n",
    "    infxns = sim_output[0]\n",
    "    infxns_by_group = {idx:0 for idx in range(3)}\n",
    "    for trajectory_data in infxns:\n",
    "        for idx in range(3):\n",
    "            infxns_by_group[idx] += trajectory_data[idx] / (len(infxns) * params_list[idx]['population_size'])\n",
    "    return infxns_by_group\n",
    "\n",
    "\n",
    "def get_avg_hosps_by_group(sim_output):\n",
    "    infxns = sim_output[1]\n",
    "    infxns_by_group = {idx:0 for idx in range(3)}\n",
    "    for trajectory_data in infxns:\n",
    "        for idx in range(3):\n",
    "            infxns_by_group[idx] += trajectory_data[idx] / (len(infxns) * params_list[idx]['population_size'])\n",
    "    return infxns_by_group\n",
    "\n",
    "\n",
    "avg_infxns_by_transmission_p = {}\n",
    "avg_hosps_by_transmission_p = {}\n",
    "for t_p in sim_outputs:\n",
    "    avg_infxns_by_transmission_p[t_p] = get_avg_infxns_by_group(sim_outputs[t_p])\n",
    "    avg_hosps_by_transmission_p[t_p] = get_avg_hosps_by_group(sim_outputs[t_p])"
   ]
  },
  {
   "cell_type": "code",
   "execution_count": 53,
   "metadata": {},
   "outputs": [
    {
     "data": {
      "image/png": "[encoded data removed]",
      "text/plain": [
       "<matplotlib.figure.Figure at 0x7fe407c038d0>"
      ]
     },
     "metadata": {},
     "output_type": "display_data"
    }
   ],
   "source": [
    "import matplotlib.pyplot as plt\n",
    "%matplotlib inline\n",
    "\n",
    "group_labels={0: 'UG Greek/Athlete', 1:'UG Other', 2:'Grad'}\n",
    "\n",
    "plt.figure(figsize=(10,6))\n",
    "for groupidx in range(3):\n",
    "    group_infxns = []\n",
    "    for t_p in transmission_ps_to_try:\n",
    "        group_infxns.append(avg_infxns_by_transmission_p[t_p][groupidx] * 100)\n",
    "    plt.plot([100 * t_p / 0.26 for t_p in transmission_ps_to_try], \n",
    "             group_infxns, marker='o', label=group_labels[groupidx])\n",
    "plt.legend(loc='best')\n",
    "plt.xlabel('Percentage Increase to Nominal Transmission')\n",
    "plt.ylabel('Average Percentage of Group Infected\\n over 19-week Semester')\n",
    "plt.show()"
   ]
  },
  {
   "cell_type": "markdown",
   "metadata": {},
   "source": [
    "# use 3/7 surveillance testing"
   ]
  },
  {
   "cell_type": "code",
   "execution_count": 48,
   "metadata": {},
   "outputs": [
    {
     "name": "stdout",
     "output_type": "stream",
     "text": [
      "launched 26 processes\n"
     ]
    }
   ],
   "source": [
    "base_transmission_p = 0.26\n",
    "transmission_ps_to_try = [0.26 * x for x in np.arange(1,3.51, 0.1)]\n",
    "\n",
    "output_dir = \"jan_12_multigroup_sim_results_higher_surveillance/\"\n",
    "params_list[0]['test_population_fraction'] *= 1.5\n",
    "ntrajectories = 30\n",
    "\n",
    "processes = []\n",
    "\n",
    "for transmission_p in transmission_ps_to_try:\n",
    "    filename = output_dir + \"transmission_p_{}.pickle\".format(transmission_p)\n",
    "    p = run_sims_new_process(transmission_p, ntrajectories, filename)\n",
    "    processes.append(p)\n",
    "    \n",
    "print(\"launched {} processes\".format(len(processes)))\n",
    "for p in processes:\n",
    "    p.join()"
   ]
  },
  {
   "cell_type": "code",
   "execution_count": 54,
   "metadata": {},
   "outputs": [
    {
     "name": "stdout",
     "output_type": "stream",
     "text": [
      "Loaded 26 simulation results\n"
     ]
    },
    {
     "data": {
      "image/png": "[encoded data removed]",
      "text/plain": [
       "<matplotlib.figure.Figure at 0x7fe3c528b160>"
      ]
     },
     "metadata": {},
     "output_type": "display_data"
    }
   ],
   "source": [
    "sim_outputs = load_sim_outputs('./jan_12_multigroup_sim_results_higher_surveillance/')\n",
    "avg_infxns_by_transmission_p = {}\n",
    "avg_hosps_by_transmission_p = {}\n",
    "for t_p in sim_outputs:\n",
    "    avg_infxns_by_transmission_p[t_p] = get_avg_infxns_by_group(sim_outputs[t_p])\n",
    "    avg_hosps_by_transmission_p[t_p] = get_avg_hosps_by_group(sim_outputs[t_p])\n",
    "plt.figure(figsize=(10,6))\n",
    "for groupidx in range(3):\n",
    "    group_infxns = []\n",
    "    for t_p in transmission_ps_to_try:\n",
    "        group_infxns.append(avg_infxns_by_transmission_p[t_p][groupidx] * 100)\n",
    "    plt.plot([100 * t_p / 0.26 for t_p in transmission_ps_to_try], \n",
    "             group_infxns, marker='o', label=group_labels[groupidx])\n",
    "plt.legend(loc='best')\n",
    "plt.xlabel('Percentage Increase to Nominal Transmission')\n",
    "plt.ylabel('Average Percentage of Group Infected\\n over 19-week Semester')\n",
    "plt.show()"
   ]
  },
  {
   "cell_type": "code",
   "execution_count": null,
   "metadata": {
    "collapsed": true
   },
   "outputs": [],
   "source": []
  }
 ],
 "metadata": {
  "kernelspec": {
   "display_name": "Python 3",
   "language": "python",
   "name": "python3"
  },
  "language_info": {
   "codemirror_mode": {
    "name": "ipython",
    "version": 3
   },
   "file_extension": ".py",
   "mimetype": "text/x-python",
   "name": "python",
   "nbconvert_exporter": "python",
   "pygments_lexer": "ipython3",
   "version": "3.6.3"
  }
 },
 "nbformat": 4,
 "nbformat_minor": 4
}
