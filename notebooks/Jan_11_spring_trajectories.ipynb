{
 "cells": [
  {
   "cell_type": "code",
   "execution_count": 1,
   "metadata": {},
   "outputs": [],
   "source": [
    "import sys\n",
    "import os\n",
    "import numpy as np\n",
    "import multiprocessing\n",
    "import dill\n",
    "import matplotlib.pyplot as plt\n",
    "import pandas as pd\n",
    "\n",
    "module_path = os.path.abspath(os.path.join('..'))\n",
    "if module_path not in sys.path:\n",
    "    sys.path.append(module_path + \"/src/simulations_v2\")\n",
    "from load_params import load_params\n",
    "\n",
    "from multi_group_simulation import MultiGroupSimulation"
   ]
  },
  {
   "cell_type": "code",
   "execution_count": 2,
   "metadata": {},
   "outputs": [],
   "source": [
    "def get_cum_hosp(df):\n",
    "    return df[['severity_3', 'severity_2']].iloc[df.shape[0] - 1].sum()\n",
    "\n",
    "def get_cum_outside_infections(df):\n",
    "    return df['cumulative_outside_infections'].iloc[df.shape[0] - 1].sum()\n",
    "\n",
    "def get_cum_infections(df):\n",
    "    return df[['cumulative_mild', 'cumulative_severe']].iloc[df.shape[0] - 1].sum()\n",
    "\n",
    "def get_cum_inf_trajectory(df):\n",
    "    return np.sum(df[['cumulative_mild', 'cumulative_severe']], axis=1)\n",
    "\n",
    "def get_cum_hosp_trajectory(df):\n",
    "    return np.sum(df[['severity_3', 'severity_2']], axis=1)\n",
    "\n",
    "def total_infections(list_sim_dfs):\n",
    "    total = 0\n",
    "    for sim_df in list_sim_dfs:\n",
    "        total += get_cum_infections(sim_df)\n",
    "    return total\n",
    "\n",
    "def total_hosp(list_sim_dfs):\n",
    "    total = 0\n",
    "    for sim_df in list_sim_dfs:\n",
    "        total += get_cum_hosp(sim_df)\n",
    "    return total\n"
   ]
  },
  {
   "cell_type": "code",
   "execution_count": 3,
   "metadata": {},
   "outputs": [],
   "source": [
    "def get_trajectories(params_list, interaction_matrix, group_names, test_policy, T, n):\n",
    "    assert len(params_list) == len(test_policy)\n",
    "    \n",
    "    for index, params in enumerate(params_list):\n",
    "        params['expected_contacts_per_day'] = interaction_matrix[index, index]\n",
    "        params['test_population_fraction'] = test_policy[index]\n",
    "\n",
    "    sim = MultiGroupSimulation(params_list, interaction_matrix, group_names)\n",
    "\n",
    "    inf_trajectories = list()\n",
    "    hosp_trajectories = list()\n",
    "    \n",
    "    for _ in range(n):\n",
    "        sim.run_new_trajectory(T)\n",
    "        for group in sim.sims:\n",
    "            df = group.sim_df\n",
    "            inf_trajectories.append(get_cum_inf_trajectory(df))\n",
    "            hosp_trajectories.append(get_cum_hosp_trajectory(df))\n",
    "\n",
    "    return inf_trajectories, hosp_trajectories"
   ]
  },
  {
   "cell_type": "code",
   "execution_count": 4,
   "metadata": {},
   "outputs": [
    {
     "name": "stderr",
     "output_type": "stream",
     "text": [
      "/home/aaj54/group-testing/src/simulations_v2/load_params.py:136: YAMLLoadWarning: calling yaml.load() without Loader=... is deprecated, as the default Loader is unsafe. Please read https://msg.pyyaml.org/load for full details.\n",
      "  params = yaml.load(f)\n",
      "/home/aaj54/group-testing/src/simulations_v2/load_params.py:45: YAMLLoadWarning: calling yaml.load() without Loader=... is deprecated, as the default Loader is unsafe. Please read https://msg.pyyaml.org/load for full details.\n",
      "  age_sev_params = yaml.load(f)\n"
     ]
    }
   ],
   "source": [
    "# Fall Semester Group Config\n",
    "\n",
    "# Loading group params\n",
    "base_directory = '../src/simulations_v2/params/jan4calibration/'\n",
    "\n",
    "ug_ga_params = load_params(base_directory + 'group_1_students_post_movein_private.yaml')[1]\n",
    "ug_other_params = load_params(base_directory + 'group_2_students_post_movein_private.yaml')[1]\n",
    "gs_params = load_params(base_directory + 'group_3_students_post_movein_private.yaml')[1]\n",
    "fs_params = load_params(base_directory + 'faculty_staff_post_movein_private.yaml')[1]\n",
    "params_list = [ug_ga_params.copy(), ug_other_params.copy(), gs_params.copy(), fs_params.copy()]"
   ]
  },
  {
   "cell_type": "code",
   "execution_count": 5,
   "metadata": {},
   "outputs": [],
   "source": [
    "# Scaling of the interaction matrix is wrong, made up number of f/s -> f/s contact\n",
    "interaction_matrix = np.array([[161/125, 2/44, 0,0],\n",
    "                              [8/125, 7/44, 0,0],\n",
    "                              [0,0,1/15,0],\n",
    "                              [0,0,0,1]])\n",
    "\n",
    "# Transmission prob: 0.3\n",
    "\n",
    "# Making up initial ID prevalence\n",
    "id_prevalence = 0.01\n",
    "for params in params_list:\n",
    "    params['initial_ID_prevalence'] = id_prevalence\n",
    "\n",
    "# adding population size\n",
    "params_list[0]['population_size'] = 3533\n",
    "params_list[1]['population_size'] = 8434\n",
    "params_list[2]['population_size'] = 6202\n",
    "params_list[3]['population_size'] = 10000\n",
    "\n",
    "group_names = ['UG (Greek, Athlete)', 'UG (other)', 'GS', 'Faculty/Staff']"
   ]
  },
  {
   "cell_type": "code",
   "execution_count": 6,
   "metadata": {},
   "outputs": [],
   "source": [
    "np.random.seed(2022)\n",
    "test_policy = [2/7,2/7,1/7,1/7]\n",
    "\n",
    "inf_trajs, hosp_trajs = get_trajectories(params_list, interaction_matrix, group_names, test_policy, 112, 5)"
   ]
  },
  {
   "cell_type": "code",
   "execution_count": 21,
   "metadata": {},
   "outputs": [
    {
     "data": {
      "text/plain": [
       "{'severity_prevalence': array([0.47808584, 0.50907724, 0.00940271, 0.00343422]),\n",
       " 'max_time_exposed': 7,\n",
       " 'exposed_time_function': <function analysis_helpers.poisson_waiting_function.<locals>.<lambda>(n)>,\n",
       " 'max_time_ID': 8,\n",
       " 'ID_time_function': <function analysis_helpers.poisson_waiting_function.<locals>.<lambda>(n)>,\n",
       " 'max_time_SyID_mild': 20,\n",
       " 'SyID_mild_time_function': <function analysis_helpers.poisson_waiting_function.<locals>.<lambda>(n)>,\n",
       " 'max_time_SyID_severe': 20,\n",
       " 'SyID_severe_time_function': <function analysis_helpers.poisson_waiting_function.<locals>.<lambda>(n)>,\n",
       " 'mild_symptoms_daily_self_report_p': 0,\n",
       " 'cases_isolated_per_contact': 1.329,\n",
       " 'cases_quarantined_per_contact': 3.304,\n",
       " 'contact_trace_testing_frac': 1,\n",
       " 'contact_tracing_delay': 1,\n",
       " 'sample_QI_exit_function': <function analysis_helpers.binomial_exit_function.<locals>.<lambda>(n)>,\n",
       " 'sample_QS_exit_function': <function analysis_helpers.binomial_exit_function.<locals>.<lambda>(n)>,\n",
       " 'daily_outside_infection_p': 1.42e-05,\n",
       " 'days_between_tests': 1,\n",
       " 'expected_contacts_per_day': 19.32,\n",
       " 'exposed_infection_p': 0.017,\n",
       " 'initial_ID_prevalence': 0.01,\n",
       " 'perform_contact_tracing': True,\n",
       " 'population_size': 0,\n",
       " 'severe_symptoms_daily_self_report_p': 0.18,\n",
       " 'test_population_fraction': 0.2857142857142857,\n",
       " 'test_protocol_QFNR': 0.43,\n",
       " 'test_protocol_QFPR': 0,\n",
       " 'use_asymptomatic_testing': True,\n",
       " 'max_time_pre_ID': 4,\n",
       " 'pre_ID_time_function': <function analysis_helpers.poisson_waiting_function.<locals>.<lambda>(n)>,\n",
       " 'initial_E_count': 0,\n",
       " 'initial_pre_ID_count': 0,\n",
       " 'initial_ID_count': 0,\n",
       " 'initial_SyID_mild_count': 0,\n",
       " 'initial_SyID_severe_count': 0,\n",
       " 'pre_ID_state': 'detectable',\n",
       " 'mild_severity_levels': 1}"
      ]
     },
     "execution_count": 21,
     "metadata": {},
     "output_type": "execute_result"
    }
   ],
   "source": [
    "params_list[0]"
   ]
  }
 ],
 "metadata": {
  "kernelspec": {
   "display_name": "Python 3",
   "language": "python",
   "name": "python3"
  },
  "language_info": {
   "codemirror_mode": {
    "name": "ipython",
    "version": 3
   },
   "file_extension": ".py",
   "mimetype": "text/x-python",
   "name": "python",
   "nbconvert_exporter": "python",
   "pygments_lexer": "ipython3",
   "version": "3.7.6"
  }
 },
 "nbformat": 4,
 "nbformat_minor": 4
}
