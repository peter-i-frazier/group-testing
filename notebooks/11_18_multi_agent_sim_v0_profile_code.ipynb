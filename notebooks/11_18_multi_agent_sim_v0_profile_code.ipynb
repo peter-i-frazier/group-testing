{
 "cells": [
  {
   "cell_type": "code",
   "execution_count": 1,
   "metadata": {
    "collapsed": true
   },
   "outputs": [],
   "source": [
    "import sys\n",
    "import os\n",
    "import numpy as np\n",
    "module_path = os.path.abspath(os.path.join('..'))\n",
    "if module_path not in sys.path:\n",
    "    sys.path.append(module_path + \"/src/multi_agent_sim\")\n",
    "from multi_agent_sim import MultiAgentSim"
   ]
  },
  {
   "cell_type": "code",
   "execution_count": 2,
   "metadata": {
    "collapsed": true
   },
   "outputs": [],
   "source": [
    "infection_dynamics_params = {\n",
    "    'forward_gen_alpha': 8,\n",
    "    'forward_gen_beta_hyperparams': (5,5),\n",
    "    'detectability_curve_type': 'optimistic',\n",
    "    'self_reporting_multiplier': 0.8,\n",
    "    'self_reporting_delay': 3,\n",
    "    'init_infection_rate': 0.001,\n",
    "    'use_deterministic_infection_counts': True,\n",
    "}\n",
    "\n",
    "social_network_params_high_var = {\n",
    "    'location_vec_dim': 2,\n",
    "    'network_gamma': 3,\n",
    "    'daily_contacts_distn_type': 'negative_binomial',\n",
    "    'neg_bin_r': 2,\n",
    "    'neg_bin_p_hyperparams': (2,3),\n",
    "}\n",
    "\n",
    "n_agents = 3000\n",
    "main_params = {\n",
    "    'n_agents': 3000,\n",
    "    'use_contact_tracing': False,\n",
    "    'use_adaptive_testing': True,\n",
    "    'use_surveillance_testing': True\n",
    "}\n",
    "\n",
    "ct_params = {\n",
    "    'ct_recall_window': 8,\n",
    "    'ct_delay_distribution': [1/3,1/3,1/3], # uniform over 0, 1, 2 days delay\n",
    "    'ct_recall_rate': 0.5\n",
    "}\n",
    "\n",
    "at_params = {\n",
    "    'at_delay_distribution': [1/5] * 5,\n",
    "    'at_net_size_contact_multiplier': 10,\n",
    "    'at_recall_rate': 0.9\n",
    "}\n",
    "\n",
    "st_params = {\n",
    "    'st_testing_window': 3,\n",
    "    'st_missed_test_rate': 0.1\n",
    "}\n",
    "\n",
    "def init_high_var_sim(R0):\n",
    "    social_network_params_high_var['neg_bin_r'] = R0 / 0.9\n",
    "    return MultiAgentSim(main_params, infection_dynamics_params, social_network_params_high_var, \n",
    "                         ct_params, at_params, st_params)\n",
    "\n",
    "social_network_params_low_var = {\n",
    "    'location_vec_dim': 2,\n",
    "    'network_gamma': 3,\n",
    "    'daily_contacts_distn_type': 'negative_binomial',\n",
    "    'neg_bin_r': 2,\n",
    "    'neg_bin_p_hyperparams': (5,6),\n",
    "}\n",
    "\n",
    "def init_low_var_sim(R0):\n",
    "    social_network_params_low_var['neg_bin_r'] = R0 / 0.9\n",
    "    return MultiAgentSim(main_params, infection_dynamics_params, social_network_params_low_var, \n",
    "                         ct_params, at_params, st_params)"
   ]
  },
  {
   "cell_type": "code",
   "execution_count": 3,
   "metadata": {
    "collapsed": true
   },
   "outputs": [],
   "source": [
    "def sample_trajectory(R0, at_multiplier, st_testing_window):\n",
    "    st_params['st_testing_window'] = st_testing_window\n",
    "    at_params['at_net_size_contact_multiplier'] = at_multiplier\n",
    "    sim = init_low_var_sim(R0)\n",
    "    infection_counts = [len(sim.infection.get_cum_infected_agent_ids())]\n",
    "    init_infection_counts = infection_counts[0]\n",
    "    for _ in range(7*12):\n",
    "        sim.step()\n",
    "        infection_counts.append(len(sim.infection.get_cum_infected_agent_ids()))\n",
    "    total_tests = sim.get_total_tests()\n",
    "    return total_tests, infection_counts, init_infection_counts, infection_counts[-1]"
   ]
  },
  {
   "cell_type": "code",
   "execution_count": 6,
   "metadata": {},
   "outputs": [
    {
     "name": "stdout",
     "output_type": "stream",
     "text": [
      "         22115 function calls in 0.019 seconds\n",
      "\n",
      "   Ordered by: standard name\n",
      "\n",
      "   ncalls  tottime  percall  cumtime  percall filename:lineno(function)\n",
      "        4    0.000    0.000    0.000    0.000 <__array_function__ internals>:2(count_nonzero)\n",
      "        4    0.000    0.000    0.000    0.000 <__array_function__ internals>:2(cumsum)\n",
      "        4    0.000    0.000    0.000    0.000 <__array_function__ internals>:2(prod)\n",
      "        4    0.000    0.000    0.000    0.000 <__array_function__ internals>:2(unique)\n",
      "        1    0.000    0.000    0.019    0.019 <string>:1(<module>)\n",
      "        8    0.000    0.000    0.000    0.000 _asarray.py:88(asanyarray)\n",
      "        8    0.000    0.000    0.000    0.000 _weakrefset.py:70(__contains__)\n",
      "        4    0.000    0.000    0.000    0.000 abc.py:178(__instancecheck__)\n",
      "        1    0.000    0.000    0.000    0.000 adaptive_testing.py:46(step_adaptive_tests)\n",
      "     9941    0.002    0.000    0.003    0.000 agent.py:10(get_param)\n",
      "        4    0.000    0.000    0.000    0.000 arraysetops.py:138(_unpack_tuple)\n",
      "        4    0.000    0.000    0.000    0.000 arraysetops.py:146(_unique_dispatcher)\n",
      "        4    0.000    0.000    0.000    0.000 arraysetops.py:151(unique)\n",
      "        4    0.000    0.000    0.000    0.000 arraysetops.py:297(_unique1d)\n",
      "       12    0.000    0.000    0.000    0.000 defmatrix.py:169(__array_finalize__)\n",
      "        4    0.000    0.000    0.000    0.000 defmatrix.py:191(__getitem__)\n",
      "        4    0.000    0.000    0.000    0.000 defmatrix.py:937(T)\n",
      "        4    0.000    0.000    0.000    0.000 fromnumeric.py:2354(_cumsum_dispatcher)\n",
      "        4    0.000    0.000    0.000    0.000 fromnumeric.py:2358(cumsum)\n",
      "        4    0.000    0.000    0.000    0.000 fromnumeric.py:2787(_prod_dispatcher)\n",
      "        4    0.000    0.000    0.000    0.000 fromnumeric.py:2792(prod)\n",
      "        4    0.000    0.000    0.000    0.000 fromnumeric.py:55(_wrapfunc)\n",
      "        4    0.000    0.000    0.000    0.000 fromnumeric.py:73(_wrapreduction)\n",
      "        4    0.000    0.000    0.000    0.000 fromnumeric.py:74(<dictcomp>)\n",
      "        8    0.000    0.000    0.000    0.000 getlimits.py:365(__new__)\n",
      "      903    0.001    0.000    0.001    0.000 infection_dynamics.py:101(sample_test_result)\n",
      "        1    0.000    0.000    0.002    0.002 infection_dynamics.py:132(get_infected_agent_ids)\n",
      "        1    0.001    0.001    0.002    0.002 infection_dynamics.py:133(<listcomp>)\n",
      "        4    0.000    0.000    0.000    0.000 infection_dynamics.py:61(sample_transmissions)\n",
      "        4    0.000    0.000    0.000    0.000 infection_dynamics.py:73(<listcomp>)\n",
      "        1    0.000    0.000    0.000    0.000 infection_dynamics.py:76(sample_self_reports)\n",
      "        1    0.000    0.000    0.000    0.000 infection_dynamics.py:96(sample_self_report_isolations)\n",
      "        1    0.000    0.000    0.000    0.000 infection_dynamics.py:98(<listcomp>)\n",
      "        1    0.000    0.000    0.019    0.019 multi_agent_sim.py:34(step)\n",
      "        8    0.000    0.000    0.000    0.000 numeric.py:1782(isscalar)\n",
      "        4    0.000    0.000    0.000    0.000 numeric.py:405(_count_nonzero_dispatcher)\n",
      "        4    0.000    0.000    0.000    0.000 numeric.py:409(count_nonzero)\n",
      "        8    0.000    0.000    0.000    0.000 numerictypes.py:293(issubclass_)\n",
      "        4    0.000    0.000    0.000    0.000 numerictypes.py:365(issubdtype)\n",
      "        1    0.001    0.001    0.002    0.002 quarantine_manager.py:22(step_isolation_removals)\n",
      "        4    0.000    0.000    0.000    0.000 quarantine_manager.py:7(is_agent_isolated)\n",
      "        4    0.000    0.000    0.005    0.001 social_network.py:64(sample_contacts)\n",
      "        1    0.003    0.003    0.010    0.010 surveillance_testing.py:24(step_surveillance_tests)\n",
      "        1    0.000    0.000    0.019    0.019 {built-in method builtins.exec}\n",
      "        8    0.000    0.000    0.000    0.000 {built-in method builtins.getattr}\n",
      "       28    0.000    0.000    0.000    0.000 {built-in method builtins.isinstance}\n",
      "       12    0.000    0.000    0.000    0.000 {built-in method builtins.issubclass}\n",
      "       12    0.000    0.000    0.000    0.000 {built-in method builtins.len}\n",
      "        4    0.000    0.000    0.000    0.000 {built-in method builtins.min}\n",
      "        4    0.003    0.001    0.003    0.001 {built-in method builtins.sum}\n",
      "        1    0.000    0.000    0.000    0.000 {built-in method math.exp}\n",
      "       12    0.000    0.000    0.000    0.000 {built-in method numpy.array}\n",
      "        4    0.000    0.000    0.000    0.000 {built-in method numpy.core._multiarray_umath.count_nonzero}\n",
      "       16    0.000    0.000    0.000    0.000 {built-in method numpy.core._multiarray_umath.implement_array_function}\n",
      "        4    0.000    0.000    0.000    0.000 {built-in method numpy.empty}\n",
      "        1    0.000    0.000    0.000    0.000 {method 'append' of 'list' objects}\n",
      "        4    0.000    0.000    0.000    0.000 {method 'argsort' of 'numpy.ndarray' objects}\n",
      "        4    0.002    0.000    0.002    0.001 {method 'choice' of 'numpy.random.mtrand.RandomState' objects}\n",
      "        4    0.000    0.000    0.000    0.000 {method 'cumsum' of 'numpy.ndarray' objects}\n",
      "        1    0.000    0.000    0.000    0.000 {method 'disable' of '_lsprof.Profiler' objects}\n",
      "        8    0.000    0.000    0.000    0.000 {method 'flatten' of 'numpy.ndarray' objects}\n",
      "     9949    0.001    0.000    0.001    0.000 {method 'get' of 'dict' objects}\n",
      "        6    0.000    0.000    0.000    0.000 {method 'items' of 'dict' objects}\n",
      "        4    0.000    0.000    0.000    0.000 {method 'negative_binomial' of 'numpy.random.mtrand.RandomState' objects}\n",
      "        4    0.000    0.000    0.000    0.000 {method 'reduce' of 'numpy.ufunc' objects}\n",
      "        4    0.000    0.000    0.000    0.000 {method 'transpose' of 'numpy.ndarray' objects}\n",
      "     1014    0.005    0.000    0.005    0.000 {method 'uniform' of 'numpy.random.mtrand.RandomState' objects}\n",
      "\n",
      "\n"
     ]
    }
   ],
   "source": [
    "import cProfile\n",
    "sim = init_low_var_sim(2)\n",
    "cProfile.run('sim.step()')"
   ]
  },
  {
   "cell_type": "markdown",
   "metadata": {},
   "source": [
    "# look at R0 vs. at_multiplier"
   ]
  },
  {
   "cell_type": "code",
   "execution_count": null,
   "metadata": {},
   "outputs": [
    {
     "name": "stdout",
     "output_type": "stream",
     "text": [
      "on pair (1.5, 2)\n"
     ]
    }
   ],
   "source": [
    "R0s_to_try = [1.5, 2] #[1, 1.5, 2, 2.5, 3, 3.5, 4]\n",
    "\n",
    "at_multipliers_to_try = [2,6,8] #[2, 4, 6, 8, 10, 12, 14]\n",
    "\n",
    "at_pareto_results = {}\n",
    "\n",
    "main_params['use_surveillance_testing'] = False\n",
    "main_params['use_contact_tracing'] = False\n",
    "\n",
    "ntrajectories = 10\n",
    "\n",
    "for R0 in R0s_to_try:\n",
    "    for mult in at_multipliers_to_try:\n",
    "        print(\"on pair {}\".format((R0, mult)))\n",
    "        at_pareto_results[(R0, mult)] = [sample_trajectory(R0, mult, 1) for _ in range(ntrajectories)]"
   ]
  },
  {
   "cell_type": "code",
   "execution_count": null,
   "metadata": {
    "collapsed": true
   },
   "outputs": [],
   "source": []
  }
 ],
 "metadata": {
  "kernelspec": {
   "display_name": "Python 3",
   "language": "python",
   "name": "python3"
  },
  "language_info": {
   "codemirror_mode": {
    "name": "ipython",
    "version": 3
   },
   "file_extension": ".py",
   "mimetype": "text/x-python",
   "name": "python",
   "nbconvert_exporter": "python",
   "pygments_lexer": "ipython3",
   "version": "3.6.3"
  }
 },
 "nbformat": 4,
 "nbformat_minor": 2
}
