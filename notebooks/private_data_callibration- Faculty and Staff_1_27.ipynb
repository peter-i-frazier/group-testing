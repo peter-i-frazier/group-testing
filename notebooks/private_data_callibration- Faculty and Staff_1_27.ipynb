{
 "cells": [
  {
   "cell_type": "code",
   "execution_count": 1,
   "metadata": {},
   "outputs": [],
   "source": [
    "import sys\n",
    "import os\n",
    "import numpy as np\n",
    "module_path = os.path.abspath(os.path.join('..'))\n",
    "if module_path not in sys.path:\n",
    "    sys.path.append(module_path + \"/src/simulations_v2\")\n",
    "from load_params import load_multigroup_params, load_params\n",
    "from multi_group_simulation import MultiGroupSimulation\n",
    "import datetime\n",
    "import pandas as pd\n",
    "from dynamic_population_sim_time_varying import DynamicPopulationSim"
   ]
  },
  {
   "cell_type": "code",
   "execution_count": 2,
   "metadata": {},
   "outputs": [],
   "source": [
    "import pprint\n"
   ]
  },
  {
   "cell_type": "code",
   "execution_count": 3,
   "metadata": {},
   "outputs": [
    {
     "name": "stderr",
     "output_type": "stream",
     "text": [
      "C:\\Users\\briliu\\Desktop\\Cornell Outside Infection\\group-testing-master/src/simulations_v2\\load_params.py:136: YAMLLoadWarning: calling yaml.load() without Loader=... is deprecated, as the default Loader is unsafe. Please read https://msg.pyyaml.org/load for full details.\n",
      "  params = yaml.load(f)\n",
      "C:\\Users\\briliu\\Desktop\\Cornell Outside Infection\\group-testing-master/src/simulations_v2\\load_params.py:45: YAMLLoadWarning: calling yaml.load() without Loader=... is deprecated, as the default Loader is unsafe. Please read https://msg.pyyaml.org/load for full details.\n",
      "  age_sev_params = yaml.load(f)\n"
     ]
    }
   ],
   "source": [
    "base_params_free = load_params('../src/simulations_v2/params/jan4calibration/faculty_staff_post_movein_private.yaml')[1]\n",
    "base_params_selfiso = load_params('../src/simulations_v2/params/quarantine_analysis/oct12quarantine/ug_self_iso.yaml')[1]\n",
    "base_params_post_movein = load_params('../src/simulations_v2/params/jan4calibration/faculty_staff_pre_semester_private.yaml')[1]"
   ]
  },
  {
   "cell_type": "code",
   "execution_count": 4,
   "metadata": {},
   "outputs": [
    {
     "data": {
      "text/plain": [
       "{'severity_prevalence': array([0.47808584, 0.50907724, 0.00940271, 0.00343422]),\n",
       " 'max_time_exposed': 7,\n",
       " 'exposed_time_function': <function analysis_helpers.poisson_waiting_function.<locals>.<lambda>(n)>,\n",
       " 'max_time_ID': 8,\n",
       " 'ID_time_function': <function analysis_helpers.poisson_waiting_function.<locals>.<lambda>(n)>,\n",
       " 'max_time_SyID_mild': 20,\n",
       " 'SyID_mild_time_function': <function analysis_helpers.poisson_waiting_function.<locals>.<lambda>(n)>,\n",
       " 'max_time_SyID_severe': 20,\n",
       " 'SyID_severe_time_function': <function analysis_helpers.poisson_waiting_function.<locals>.<lambda>(n)>,\n",
       " 'mild_symptoms_daily_self_report_p': 0,\n",
       " 'cases_isolated_per_contact': 0.255,\n",
       " 'cases_quarantined_per_contact': 2.5,\n",
       " 'contact_trace_testing_frac': 1,\n",
       " 'contact_tracing_delay': 1,\n",
       " 'sample_QI_exit_function': <function analysis_helpers.binomial_exit_function.<locals>.<lambda>(n)>,\n",
       " 'sample_QS_exit_function': <function analysis_helpers.binomial_exit_function.<locals>.<lambda>(n)>,\n",
       " 'daily_outside_infection_p': 2.2e-05,\n",
       " 'days_between_tests': 1,\n",
       " 'expected_contacts_per_day': 10,\n",
       " 'exposed_infection_p': 0.017,\n",
       " 'initial_ID_prevalence': 0,\n",
       " 'perform_contact_tracing': True,\n",
       " 'population_size': 10283,\n",
       " 'severe_symptoms_daily_self_report_p': 0.18,\n",
       " 'test_population_fraction': 0,\n",
       " 'test_protocol_QFNR': 0.4,\n",
       " 'test_protocol_QFPR': 0,\n",
       " 'use_asymptomatic_testing': True,\n",
       " 'max_time_pre_ID': 4,\n",
       " 'pre_ID_time_function': <function analysis_helpers.poisson_waiting_function.<locals>.<lambda>(n)>,\n",
       " 'initial_E_count': 0,\n",
       " 'initial_pre_ID_count': 0,\n",
       " 'initial_ID_count': 0,\n",
       " 'initial_SyID_mild_count': 0,\n",
       " 'initial_SyID_severe_count': 0,\n",
       " 'pre_ID_state': 'detectable',\n",
       " 'mild_severity_levels': 1}"
      ]
     },
     "execution_count": 4,
     "metadata": {},
     "output_type": "execute_result"
    }
   ],
   "source": [
    "base_params_post_movein"
   ]
  },
  {
   "cell_type": "code",
   "execution_count": 5,
   "metadata": {},
   "outputs": [
    {
     "name": "stdout",
     "output_type": "stream",
     "text": [
      "1\n"
     ]
    },
    {
     "data": {
      "text/html": [
       "<div>\n",
       "<style scoped>\n",
       "    .dataframe tbody tr th:only-of-type {\n",
       "        vertical-align: middle;\n",
       "    }\n",
       "\n",
       "    .dataframe tbody tr th {\n",
       "        vertical-align: top;\n",
       "    }\n",
       "\n",
       "    .dataframe thead th {\n",
       "        text-align: right;\n",
       "    }\n",
       "</style>\n",
       "<table border=\"1\" class=\"dataframe\">\n",
       "  <thead>\n",
       "    <tr style=\"text-align: right;\">\n",
       "      <th></th>\n",
       "      <th>week</th>\n",
       "      <th>new_weekly_cases</th>\n",
       "    </tr>\n",
       "  </thead>\n",
       "  <tbody>\n",
       "    <tr>\n",
       "      <th>0</th>\n",
       "      <td>34</td>\n",
       "      <td>0.000000</td>\n",
       "    </tr>\n",
       "    <tr>\n",
       "      <th>1</th>\n",
       "      <td>35</td>\n",
       "      <td>0.000000</td>\n",
       "    </tr>\n",
       "    <tr>\n",
       "      <th>2</th>\n",
       "      <td>36</td>\n",
       "      <td>0.000000</td>\n",
       "    </tr>\n",
       "    <tr>\n",
       "      <th>3</th>\n",
       "      <td>37</td>\n",
       "      <td>0.000000</td>\n",
       "    </tr>\n",
       "    <tr>\n",
       "      <th>4</th>\n",
       "      <td>38</td>\n",
       "      <td>0.000014</td>\n",
       "    </tr>\n",
       "    <tr>\n",
       "      <th>5</th>\n",
       "      <td>39</td>\n",
       "      <td>0.000000</td>\n",
       "    </tr>\n",
       "    <tr>\n",
       "      <th>6</th>\n",
       "      <td>40</td>\n",
       "      <td>0.000000</td>\n",
       "    </tr>\n",
       "    <tr>\n",
       "      <th>7</th>\n",
       "      <td>41</td>\n",
       "      <td>0.000056</td>\n",
       "    </tr>\n",
       "    <tr>\n",
       "      <th>8</th>\n",
       "      <td>42</td>\n",
       "      <td>0.000097</td>\n",
       "    </tr>\n",
       "    <tr>\n",
       "      <th>9</th>\n",
       "      <td>43</td>\n",
       "      <td>0.000014</td>\n",
       "    </tr>\n",
       "    <tr>\n",
       "      <th>10</th>\n",
       "      <td>44</td>\n",
       "      <td>0.000125</td>\n",
       "    </tr>\n",
       "    <tr>\n",
       "      <th>11</th>\n",
       "      <td>45</td>\n",
       "      <td>0.000083</td>\n",
       "    </tr>\n",
       "    <tr>\n",
       "      <th>12</th>\n",
       "      <td>46</td>\n",
       "      <td>0.000125</td>\n",
       "    </tr>\n",
       "    <tr>\n",
       "      <th>13</th>\n",
       "      <td>47</td>\n",
       "      <td>0.000194</td>\n",
       "    </tr>\n",
       "    <tr>\n",
       "      <th>14</th>\n",
       "      <td>48</td>\n",
       "      <td>0.000167</td>\n",
       "    </tr>\n",
       "    <tr>\n",
       "      <th>15</th>\n",
       "      <td>49</td>\n",
       "      <td>0.000320</td>\n",
       "    </tr>\n",
       "    <tr>\n",
       "      <th>16</th>\n",
       "      <td>50</td>\n",
       "      <td>0.000306</td>\n",
       "    </tr>\n",
       "    <tr>\n",
       "      <th>17</th>\n",
       "      <td>51</td>\n",
       "      <td>0.000264</td>\n",
       "    </tr>\n",
       "    <tr>\n",
       "      <th>18</th>\n",
       "      <td>52</td>\n",
       "      <td>0.000320</td>\n",
       "    </tr>\n",
       "    <tr>\n",
       "      <th>19</th>\n",
       "      <td>53</td>\n",
       "      <td>0.000167</td>\n",
       "    </tr>\n",
       "    <tr>\n",
       "      <th>20</th>\n",
       "      <td>1</td>\n",
       "      <td>0.000306</td>\n",
       "    </tr>\n",
       "  </tbody>\n",
       "</table>\n",
       "</div>"
      ],
      "text/plain": [
       "    week  new_weekly_cases\n",
       "0     34          0.000000\n",
       "1     35          0.000000\n",
       "2     36          0.000000\n",
       "3     37          0.000000\n",
       "4     38          0.000014\n",
       "5     39          0.000000\n",
       "6     40          0.000000\n",
       "7     41          0.000056\n",
       "8     42          0.000097\n",
       "9     43          0.000014\n",
       "10    44          0.000125\n",
       "11    45          0.000083\n",
       "12    46          0.000125\n",
       "13    47          0.000194\n",
       "14    48          0.000167\n",
       "15    49          0.000320\n",
       "16    50          0.000306\n",
       "17    51          0.000264\n",
       "18    52          0.000320\n",
       "19    53          0.000167\n",
       "20     1          0.000306"
      ]
     },
     "execution_count": 5,
     "metadata": {},
     "output_type": "execute_result"
    }
   ],
   "source": [
    "outside_infection_week = pd.read_csv('outside_infection_staff.csv')\n",
    "outside_infection_week = outside_infection_week.drop('Unnamed: 0', axis = 1)\n",
    "\n",
    "weeks = list(outside_infection_week['week'].values)\n",
    "cases = [0,\n",
    "0,\n",
    "0,\n",
    "0,\n",
    "1,\n",
    "0,\n",
    "0,\n",
    "4,\n",
    "7,\n",
    "1,\n",
    "9,\n",
    "6,\n",
    "9,\n",
    "14,\n",
    "12,\n",
    "23,\n",
    "22,\n",
    "19,\n",
    "23,\n",
    "12]\n",
    "\n",
    "# quick patch since last week is january\n",
    "import datetime\n",
    "print(datetime.datetime(2021,1,4).isocalendar()[1])\n",
    "\n",
    "weeks.append(1)\n",
    "cases.append(22)\n",
    "outside_infection_week = pd.DataFrame(np.column_stack((weeks,cases)), columns = ['week','new_weekly_cases'])\n",
    "outside_infection_week['new_weekly_cases'] = outside_infection_week['new_weekly_cases']/(7*(10283))\n",
    "outside_infection_week"
   ]
  },
  {
   "cell_type": "code",
   "execution_count": 6,
   "metadata": {},
   "outputs": [],
   "source": [
    "from analysis_helpers import binomial_exit_function\n",
    "base_params_selfiso['population_size'] = 0\n",
    "base_params_free['population_size'] = 10283 \n",
    "base_params_free['test_population_fraction'] = 0 \n",
    "base_params_free['test_protocol_QFNR'] =.43\n",
    "# data analysis shows 106 non-\"arrival\" positives during movein period\n",
    "# 33 of these were found b/c of symptoms or surveillance\n",
    "#base_params_free['cases_isolated_per_contact'] = (106 - 33) / 33 \n",
    "base_params_post_movein['test_population_fraction'] =0.098 #weighted average for students, weighted average for faculty and staff\n",
    "base_params_free['test_protocol_QFNR'] = .43\n",
    "base_params_free['daily_outside_infection_p'] = 0\n",
    "base_params_free['sample_QI_exit_function'] = binomial_exit_function(0)\n",
    "base_params_post_movein['sample_QI_exit_function'] = binomial_exit_function(0)\n",
    "\n",
    "init_pop_count = 10283\n",
    "new_population_counts = [int(count) for count in \"\"\"0\n",
    "0\n",
    "0\n",
    "0\n",
    "0\n",
    "0\n",
    "0\n",
    "0\n",
    "0\n",
    "0\n",
    "0\n",
    "0\n",
    "0\n",
    "0\n",
    "0\n",
    "0\n",
    "0\n",
    "0\"\"\".split('\\n')]\n",
    "\n",
    "movein_contact_matrix = np.matrix(\n",
    "    [[base_params_free['expected_contacts_per_day'], 0],\n",
    "    [0, base_params_selfiso['expected_contacts_per_day']]])\n",
    "\n",
    "\n",
    "def init_movein_sim(transmissions_per_contact, isolations_per_trace=None, outside_infection_week = None):\n",
    "    avg_init_cases = 0\n",
    "    infxn_prob = avg_init_cases / (sum(new_population_counts) + init_pop_count)\n",
    "    base_params = base_params_free.copy()\n",
    "    init_exposed =  np.random.binomial(init_pop_count, infxn_prob)\n",
    "    base_params['initial_E_count'] = init_exposed\n",
    "    base_params['exposed_infection_p'] = transmissions_per_contact\n",
    "    base_params_post_movein['exposed_infection_p'] = transmissions_per_contact\n",
    "    base_params_post_movein['outside_infection_p_array'] = outside_infection_week\n",
    "    \n",
    "    if isolations_per_trace != None:\n",
    "        base_params_free['cases_isolated_per_contact'] = isolations_per_trace\n",
    "        base_params_post_movein['cases_isolated_per_contact']=isolations_per_trace\n",
    "    free_group_population_dynamics = {}\n",
    "    movein_time_horizon = 18 # 8/16 through 9/2\n",
    "    new_case_exposed_rate = 1\n",
    "    for t in range(movein_time_horizon):\n",
    "        new_pop = new_population_counts[t]\n",
    "        new_cases = np.random.binomial(new_pop, infxn_prob)\n",
    "        new_exposed = np.random.binomial(new_cases, new_case_exposed_rate)\n",
    "        free_group_population_dynamics[t] = {'S': new_pop - new_exposed, 'E': new_exposed, 'ID': new_cases- new_exposed}\n",
    "        \n",
    "    dynamic_pop_sim = DynamicPopulationSim(\n",
    "        base_params,\n",
    "        base_params_selfiso,\n",
    "        base_params_post_movein,\n",
    "        movein_contact_matrix,\n",
    "        movein_time_horizon,\n",
    "        free_group_population_dynamics,\n",
    "        {}\n",
    "    )\n",
    "    return dynamic_pop_sim"
   ]
  },
  {
   "cell_type": "code",
   "execution_count": 7,
   "metadata": {},
   "outputs": [
    {
     "data": {
      "text/plain": [
       "148"
      ]
     },
     "execution_count": 7,
     "metadata": {},
     "output_type": "execute_result"
    }
   ],
   "source": [
    "#private\n",
    "\n",
    "actuals = pd.read_csv('https://raw.githubusercontent.com/peter-i-frazier/group-testing/master/src/simulations_v2/params/jan4calibration/actual_counts_group_4_extended_period.csv')\n",
    "actual_counts = actuals['cum_case_count']\n",
    "len(actual_counts)\n",
    "\n"
   ]
  },
  {
   "cell_type": "code",
   "execution_count": 8,
   "metadata": {},
   "outputs": [
    {
     "data": {
      "text/plain": [
       "0        0\n",
       "1        0\n",
       "2        0\n",
       "3        0\n",
       "4        0\n",
       "      ... \n",
       "143    222\n",
       "144    236\n",
       "145    237\n",
       "146    244\n",
       "147    246\n",
       "Name: cum_case_count, Length: 148, dtype: int64"
      ]
     },
     "execution_count": 8,
     "metadata": {},
     "output_type": "execute_result"
    }
   ],
   "source": [
    "actual_counts"
   ]
  },
  {
   "cell_type": "code",
   "execution_count": 9,
   "metadata": {},
   "outputs": [
    {
     "data": {
      "text/plain": [
       "Text(0.5, 1.0, 'Faculty and Staff Case Counts')"
      ]
     },
     "execution_count": 9,
     "metadata": {},
     "output_type": "execute_result"
    },
    {
     "data": {
      "image/png": "[encoded data removed]",
      "text/plain": [
       "<Figure size 432x288 with 1 Axes>"
      ]
     },
     "metadata": {
      "needs_background": "light"
     },
     "output_type": "display_data"
    }
   ],
   "source": [
    "#subtract to center 0,0\n",
    "\n",
    "import matplotlib.pyplot as plt\n",
    "%matplotlib inline\n",
    "plt.plot(range(len(actual_counts)), actual_counts)\n",
    "plt.xlabel('Day Since 8/16')\n",
    "plt.ylabel('Cumulative Case Count')\n",
    "plt.title('Faculty and Staff Case Counts')"
   ]
  },
  {
   "cell_type": "code",
   "execution_count": 10,
   "metadata": {},
   "outputs": [
    {
     "data": {
      "text/plain": [
       "148"
      ]
     },
     "execution_count": 10,
     "metadata": {},
     "output_type": "execute_result"
    }
   ],
   "source": [
    "## Evaluating the simulator off a _ day horizon\n",
    "\n",
    "len(actual_counts)"
   ]
  },
  {
   "cell_type": "code",
   "execution_count": 11,
   "metadata": {},
   "outputs": [],
   "source": [
    "import pandas as pd\n",
    "\n",
    "def sample_movein_trajectory(transmission_p, isos_per_trace=None,outside_infection_week = None):\n",
    "    dynamic_pop_sim = init_movein_sim(transmission_p, isos_per_trace,outside_infection_week)\n",
    "    # for each day\n",
    "    for i in range(len(actual_counts)-1):\n",
    "        dynamic_pop_sim.step()\n",
    "    movein_df = dynamic_pop_sim.movein_sim.sims[0].sim_df\n",
    "    post_movein_df = dynamic_pop_sim.post_movein_sim.sim_df\n",
    "\n",
    "    \n",
    "    post_movein_df.index = range(movein_df.shape[0]-1, post_movein_df.shape[0] + movein_df.shape[0] -1)\n",
    "    df = pd.concat([movein_df, post_movein_df[1:]])\n",
    "\n",
    "    return list(df['QI'])\n",
    "\n",
    "def sample_trajectories(transmission_p, ntrajectories, isos_per_trace=None, outside_infection_week = None):\n",
    "    trajectories = []\n",
    "    for _ in range(ntrajectories):\n",
    "        t = sample_movein_trajectory(transmission_p, isos_per_trace,outside_infection_week)\n",
    "        trajectories.append(t)\n",
    "    return trajectories\n",
    "\n",
    "\n",
    "from math import sqrt\n",
    "\n",
    "def score_trajectories(trajectories):\n",
    "    avg_\n",
    "    \n",
    "    \n",
    "    \n",
    "    errors = []\n",
    "    for t in trajectories:\n",
    "        error = 0\n",
    "        for a, b in zip(t, actual_counts):\n",
    "            error += (a-b)**2\n",
    "        errors.append(np.log(sqrt(error / len(t))))\n",
    "    return np.mean(errors)\n",
    "\n",
    "def score_trajectories1(trajectories):\n",
    "    errors = []\n",
    "    for t in trajectories:\n",
    "        error = 0\n",
    "        for a, b in zip(t, actual_counts):\n",
    "            error += (a-b)**2\n",
    "        errors.append(error / len(t))\n",
    "    return np.log(np.sqrt(np.mean(errors)))\n",
    "\n",
    "def score_trajectories_avg(trajectories):\n",
    "    sse = 0\n",
    "    avg_traj = np.mean(trajectories,axis = 0)\n",
    "    for i in range(0,len(avg_traj)):\n",
    "        sse = sse + (avg_traj[i] - actual_counts[i])**2\n",
    "    return np.log( np.sqrt(sse/len(avg_traj)))"
   ]
  },
  {
   "cell_type": "code",
   "execution_count": 12,
   "metadata": {},
   "outputs": [],
   "source": [
    "import matplotlib.pyplot as plt\n",
    "%matplotlib inline\n",
    "\n",
    "def plot_trajectories(trajs, title):\n",
    "    plt.figure(figsize=(10,6))\n",
    "    label='Simulated Case Counts'\n",
    "    for t in trajs:\n",
    "        plt.plot(range(len(t)), t, color='blue', alpha=0.5, label=label)\n",
    "        label=None\n",
    "    plt.plot(range(len(actual_counts)), actual_counts, color='red', linewidth=3, \n",
    "             alpha=0.7, label='Observed Case Counts')\n",
    "    plt.xlabel(\"Days Since 8/16\")\n",
    "    plt.ylabel('Cumulative Counts')\n",
    "    plt.legend(loc='best')\n",
    "    plt.title(title)\n",
    "    plt.show()"
   ]
  },
  {
   "cell_type": "raw",
   "metadata": {
    "scrolled": true
   },
   "source": [
    "import gc\n",
    "transmission_ps = [0.0025,0.005,0.0075,0.01,0.0125,0.015, 0.0175, 0.02, 0.0225, 0.025, 0.0275 , 0.03,.0325, 0.035, 0.0375, 0.04, 0.0425, 0.045, 0.0475, 0.05]\n",
    "results = {}\n",
    "scores = {}\n",
    "ntrajectories = 25\n",
    "df_results = []\n",
    "for transmission_p in transmission_ps:\n",
    "    gc.collect()\n",
    "    trajs = sample_trajectories(transmission_p, ntrajectories,None,outside_infection_week)\n",
    "    results[transmission_p] = trajs\n",
    "    score = score_trajectories_avg(trajs)\n",
    "    scores[transmission_p] = score\n",
    "    plot_trajectories(trajs, \"transmission_p = {}\".format(transmission_p))\n",
    "    df_results.append([transmission_p,score])\n"
   ]
  },
  {
   "cell_type": "code",
   "execution_count": 13,
   "metadata": {},
   "outputs": [],
   "source": [
    "import multiprocessing as mp\n",
    "import gc\n",
    "from joblib import Parallel, delayed\n",
    "import multiprocessing\n",
    "\n",
    "inputs = np.arange(0.001,.03,.001)\n",
    "def processInput(i):\n",
    "    gc.collect()\n",
    "    trajectories = sample_trajectories(i,400,None,outside_infection_week)\n",
    "    score = score_trajectories_avg(trajectories)\n",
    "    return score\n",
    "\n",
    "num_cores = multiprocessing.cpu_count()\n",
    "results = Parallel(n_jobs=num_cores)(delayed(processInput)(i) for i in inputs)"
   ]
  },
  {
   "cell_type": "code",
   "execution_count": 49,
   "metadata": {},
   "outputs": [
    {
     "data": {
      "text/plain": [
       "[4.440534174042731,\n",
       " 4.430385779242621,\n",
       " 4.416962394599766,\n",
       " 4.40467878997624,\n",
       " 4.387901983883397,\n",
       " 4.372555820594741,\n",
       " 4.337370593369568,\n",
       " 4.313090538967777,\n",
       " 4.270355266851488,\n",
       " 4.209392109241423,\n",
       " 4.126323255039669,\n",
       " 4.042951868199858,\n",
       " 3.7815938985642763,\n",
       " 3.45717939268174,\n",
       " 2.676329546461861,\n",
       " 3.3574212096742073,\n",
       " 4.275091825703226,\n",
       " 4.919734943306405,\n",
       " 5.472940053690251,\n",
       " 5.965135155696468,\n",
       " 6.448630394826836,\n",
       " 6.806881374165339,\n",
       " 7.141160479738499,\n",
       " 7.38391336180088,\n",
       " 7.552368082877664,\n",
       " 7.68231500167771,\n",
       " 7.794226298693251,\n",
       " 7.873729548032357,\n",
       " 7.887215028443565,\n",
       " 7.952024830627427,\n",
       " 7.990166594961838,\n",
       " 8.01520574559845,\n",
       " 8.05691379941067,\n",
       " 8.082212192784441,\n",
       " 8.119610526613156,\n",
       " 8.143053114108579,\n",
       " 8.17630135480099,\n",
       " 8.193928950256728,\n",
       " 8.222760437226405]"
      ]
     },
     "execution_count": 49,
     "metadata": {},
     "output_type": "execute_result"
    }
   ],
   "source": [
    "results"
   ]
  },
  {
   "cell_type": "code",
   "execution_count": 50,
   "metadata": {},
   "outputs": [],
   "source": [
    "non_log = []\n",
    "for i in results:\n",
    "    non_log.append(np.exp(i))"
   ]
  },
  {
   "cell_type": "code",
   "execution_count": 51,
   "metadata": {},
   "outputs": [
    {
     "data": {
      "text/plain": [
       "array([0.001, 0.002, 0.003, 0.004, 0.005, 0.006, 0.007, 0.008, 0.009,\n",
       "       0.01 , 0.011, 0.012, 0.013, 0.014, 0.015, 0.016, 0.017, 0.018,\n",
       "       0.019, 0.02 , 0.021, 0.022, 0.023, 0.024, 0.025, 0.026, 0.027,\n",
       "       0.028, 0.029, 0.03 , 0.031, 0.032, 0.033, 0.034, 0.035, 0.036,\n",
       "       0.037, 0.038, 0.039])"
      ]
     },
     "execution_count": 51,
     "metadata": {},
     "output_type": "execute_result"
    }
   ],
   "source": [
    "inputs = np.array(inputs)\n",
    "inputs"
   ]
  },
  {
   "cell_type": "code",
   "execution_count": 52,
   "metadata": {},
   "outputs": [
    {
     "data": {
      "text/plain": [
       "Text(0.5, 1.0, 'Faculty and Staff Callibration')"
      ]
     },
     "execution_count": 52,
     "metadata": {},
     "output_type": "execute_result"
    },
    {
     "data": {
      "image/png": "[encoded data removed]",
      "text/plain": [
       "<Figure size 432x288 with 1 Axes>"
      ]
     },
     "metadata": {
      "needs_background": "light"
     },
     "output_type": "display_data"
    }
   ],
   "source": [
    "plt.plot(10*inputs,non_log)\n",
    "plt.scatter(10*inputs,non_log)\n",
    "plt.xlabel('Daily Transmission Rate')\n",
    "plt.ylabel('RMSE')\n",
    "plt.title('Faculty and Staff Callibration')"
   ]
  },
  {
   "cell_type": "code",
   "execution_count": 47,
   "metadata": {},
   "outputs": [
    {
     "ename": "NameError",
     "evalue": "name 'ntrajectories' is not defined",
     "output_type": "error",
     "traceback": [
      "\u001b[1;31m---------------------------------------------------------------------------\u001b[0m",
      "\u001b[1;31mNameError\u001b[0m                                 Traceback (most recent call last)",
      "\u001b[1;32m<ipython-input-47-79ec4b5083b6>\u001b[0m in \u001b[0;36m<module>\u001b[1;34m\u001b[0m\n\u001b[1;32m----> 1\u001b[1;33m \u001b[0mtrajs\u001b[0m \u001b[1;33m=\u001b[0m \u001b[0msample_trajectories\u001b[0m\u001b[1;33m(\u001b[0m\u001b[1;36m0.015\u001b[0m\u001b[1;33m,\u001b[0m \u001b[0mntrajectories\u001b[0m\u001b[1;33m,\u001b[0m\u001b[1;32mNone\u001b[0m\u001b[1;33m,\u001b[0m\u001b[0moutside_infection_week\u001b[0m\u001b[1;33m)\u001b[0m\u001b[1;33m\u001b[0m\u001b[1;33m\u001b[0m\u001b[0m\n\u001b[0m",
      "\u001b[1;31mNameError\u001b[0m: name 'ntrajectories' is not defined"
     ]
    }
   ],
   "source": [
    "trajs = sample_trajectories(0.015, ntrajectories,None,outside_infection_week)\n"
   ]
  },
  {
   "cell_type": "code",
   "execution_count": 29,
   "metadata": {},
   "outputs": [
    {
     "data": {
      "image/png": "[encoded data removed]",
      "text/plain": [
       "<Figure size 720x432 with 1 Axes>"
      ]
     },
     "metadata": {
      "needs_background": "light"
     },
     "output_type": "display_data"
    }
   ],
   "source": [
    "results[transmission_p] = trajs\n",
    "score = score_trajectories_avg(trajs)\n",
    "scores[transmission_p] = score\n",
    "plot_trajectories(trajs, title = 'Daily Transmission Rate = 0.15')\n"
   ]
  },
  {
   "cell_type": "code",
   "execution_count": null,
   "metadata": {},
   "outputs": [],
   "source": []
  }
 ],
 "metadata": {
  "kernelspec": {
   "display_name": "Python 3",
   "language": "python",
   "name": "python3"
  },
  "language_info": {
   "codemirror_mode": {
    "name": "ipython",
    "version": 3
   },
   "file_extension": ".py",
   "mimetype": "text/x-python",
   "name": "python",
   "nbconvert_exporter": "python",
   "pygments_lexer": "ipython3",
   "version": "3.8.3"
  }
 },
 "nbformat": 4,
 "nbformat_minor": 2
}
