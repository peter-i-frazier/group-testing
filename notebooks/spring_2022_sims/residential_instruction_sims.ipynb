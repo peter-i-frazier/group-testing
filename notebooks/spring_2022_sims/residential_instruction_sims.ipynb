{
 "cells": [
  {
   "cell_type": "code",
   "execution_count": 1,
   "metadata": {},
   "outputs": [],
   "source": [
    "import sys\n",
    "import os\n",
    "import numpy as np\n",
    "import multiprocessing\n",
    "import pickle\n",
    "import matplotlib.pyplot as plt\n",
    "import matplotlib.dates as mdates\n",
    "import pandas as pd\n",
    "import numpy as np\n",
    "from statsmodels.api import OLS, add_constant\n",
    "import time\n",
    "from scipy.stats import norm\n",
    "import datetime as dt\n",
    "\n",
    "module_path = os.path.abspath(os.path.join('.'))\n",
    "sys.path.append(module_path + \"/../../notebooks/vax_sims/\")\n",
    "from vax_sims_LHS_samples import *\n",
    "from plot_utils import *\n",
    "sys.path.append(module_path + \"/../../src/simulations_v2\")\n",
    "from multi_group_simulation import MultiGroupSimulation"
   ]
  },
  {
   "cell_type": "code",
   "execution_count": 2,
   "metadata": {},
   "outputs": [],
   "source": [
    "UNCERTAINTY_PARAMS = ['vax_susc_mult', 'vax_transmission_mult', 'contacts_per_day_mult', 'outside_infection_rate_mult',\n",
    "                      'cases_isolated_per_contact_trace', 'initial_ID_prevalence']\n",
    "\n",
    "UNCERTAINTY_PARAM_RANGES = {\n",
    "    'vax_susc_mult': (0.097608, 0.941192), # 0.5194 +/- 1.96 * 0.2152\n",
    "    'vax_transmission_mult': (0.25, 1),\n",
    "    'contacts_per_day_mult': (0.9,2.7),\n",
    "    'outside_infection_rate_mult': (1, 5),\n",
    "    'cases_isolated_per_contact_trace': (0.5,1.5),\n",
    "    'initial_ID_prevalence': (0.003, 0.0054)\n",
    "}\n",
    "\n",
    "def load_posterior_df():\n",
    "    df = pd.read_csv('../vax_sims/posterior_csvs/21_10_08_14:44_posteriors.csv')\n",
    "    return df\n",
    "\n",
    "df = load_posterior_df()\n",
    "MLE_point = list(df.sort_values('posterior', ascending=False).head(1)[UNCERTAINTY_PARAMS].iloc[0])"
   ]
  },
  {
   "cell_type": "code",
   "execution_count": 5,
   "metadata": {},
   "outputs": [],
   "source": [
    "group_params = load_params(\"../vax_sims/vax_sim_nominal_params/ug_greek_athlete_nominal.yaml\")[1]\n",
    "\n",
    "group_params['daily_outside_infection_p'] = group_params['daily_outside_infection_p'] * MLE_point[3] * 10\n",
    "group_params['cases_isolated_per_contact'] *= MLE_point[4]\n",
    "\n",
    "high_contact_params = group_params.copy()\n",
    "low_contact_params = group_params.copy()\n",
    "\n",
    "# For now GA/UG other components only\n",
    "contact_matrix = np.matrix([[0.736, 0.023], [.028, .148]]) * 10\n",
    "\n",
    "vax_susc_mult = MLE_point[0]\n",
    "vax_trans_mult = MLE_point[1]\n",
    "\n",
    "omicron_multiplier = 5\n",
    "social_distance_multiplier = 1\n",
    "contact_matrix = contact_matrix * vax_susc_mult * vax_trans_mult * MLE_point[2] * omicron_multiplier * social_distance_multiplier\n",
    "\n",
    "high_contact_params['expected_contacts_per_day'] = contact_matrix[0,0]\n",
    "low_contact_params['expected_contacts_per_day'] = contact_matrix[1,1]\n",
    "\n",
    "high_contact_params['initial_ID_prevalence'] = 0.04\n",
    "low_contact_params['initial_ID_prevalence'] = 0.04\n",
    "\n",
    "# 66% of (3533+8434) ~= 8018\n",
    "high_contact_params['population_size'] = 3533\n",
    "low_contact_params['population_size'] = 8434\n",
    "# Arbitrary testing policy\n",
    "high_contact_params['test_population_fraction'] = 3/7\n",
    "low_contact_params['test_population_fraction'] = 3/7"
   ]
  },
  {
   "cell_type": "code",
   "execution_count": 6,
   "metadata": {},
   "outputs": [],
   "source": [
    "sim = MultiGroupSimulation([high_contact_params, low_contact_params], contact_matrix)"
   ]
  },
  {
   "cell_type": "code",
   "execution_count": 9,
   "metadata": {},
   "outputs": [],
   "source": [
    "sim_results = list()\n",
    "for _ in range(100):\n",
    "    sim_results.append(sim.run_new_trajectory(112)[1])"
   ]
  },
  {
   "cell_type": "code",
   "execution_count": null,
   "metadata": {},
   "outputs": [],
   "source": [
    "pickle.dump(sim_results, open('UG_virtual_sim_results.p', 'wb'))"
   ]
  }
 ],
 "metadata": {
  "kernelspec": {
   "display_name": "Python 3",
   "language": "python",
   "name": "python3"
  },
  "language_info": {
   "codemirror_mode": {
    "name": "ipython",
    "version": 3
   },
   "file_extension": ".py",
   "mimetype": "text/x-python",
   "name": "python",
   "nbconvert_exporter": "python",
   "pygments_lexer": "ipython3",
   "version": "3.7.6"
  }
 },
 "nbformat": 4,
 "nbformat_minor": 4
}
