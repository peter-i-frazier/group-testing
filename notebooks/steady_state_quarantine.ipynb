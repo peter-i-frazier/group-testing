{
 "cells": [
  {
   "cell_type": "markdown",
   "metadata": {},
   "source": [
    "# Finding Steady State Quarantine Requirements"
   ]
  },
  {
   "cell_type": "code",
   "execution_count": 1,
   "metadata": {},
   "outputs": [],
   "source": [
    "import sys\n",
    "import os\n",
    "import numpy as np\n",
    "import multiprocessing\n",
    "import dill\n",
    "import matplotlib.pyplot as plt\n",
    "import pandas as pd\n",
    "\n",
    "module_path = os.path.abspath(os.path.join('..'))\n",
    "if module_path not in sys.path:\n",
    "    sys.path.append(module_path + \"/src/simulations_v2\")\n",
    "from load_params import load_params\n",
    "\n",
    "from multi_group_simulation import MultiGroupSimulation"
   ]
  },
  {
   "cell_type": "code",
   "execution_count": 2,
   "metadata": {},
   "outputs": [
    {
     "data": {
      "text/plain": [
       "'/Users/stevewangen/projects/COVID/uw_reopening'"
      ]
     },
     "execution_count": 2,
     "metadata": {},
     "output_type": "execute_result"
    }
   ],
   "source": [
    "module_path"
   ]
  },
  {
   "cell_type": "code",
   "execution_count": 2,
   "metadata": {},
   "outputs": [],
   "source": [
    "def get_cum_hosp(df):\n",
    "    return df[['severity_3', 'severity_2']].iloc[df.shape[0] - 1].sum()\n",
    "\n",
    "def get_cum_outside_infections(df):\n",
    "    return df['cumulative_outside_infections'].iloc[df.shape[0] - 1].sum()\n",
    "\n",
    "def get_cum_infections(df):\n",
    "    return df[['cumulative_mild', 'cumulative_severe']].iloc[df.shape[0] - 1].sum()\n",
    "\n",
    "def total_infections(list_sim_dfs):\n",
    "    total = 0\n",
    "    for sim_df in list_sim_dfs:\n",
    "        total += get_cum_infections(sim_df)\n",
    "    return total\n",
    "\n",
    "def total_hosp(list_sim_dfs):\n",
    "    total = 0\n",
    "    for sim_df in list_sim_dfs:\n",
    "        total += get_cum_hosp(sim_df)\n",
    "    return total\n",
    "\n",
    "def cornell_infections(list_sim_dfs):\n",
    "    total = 0\n",
    "    for sim_df in list_sim_dfs[:-1]:\n",
    "        total += get_cum_infections(sim_df)\n",
    "    return total\n",
    "\n",
    "def cornell_hosp(list_sim_dfs):\n",
    "    total = 0\n",
    "    for sim_df in list_sim_dfs[:-1]:\n",
    "        total += get_cum_hosp(sim_df)\n",
    "    return total"
   ]
  },
  {
   "cell_type": "code",
   "execution_count": 3,
   "metadata": {},
   "outputs": [],
   "source": [
    "def run_multigroup_sim(sim, T):\n",
    "    sim.run_new_trajectory(T)\n",
    "    list_dfs = list()\n",
    "    for sim_group in sim.sims:\n",
    "        list_dfs.append(sim_group.sim_df)\n",
    "    return list_dfs\n",
    "\n",
    "def run_multiple_trajectories(sim, T, n):\n",
    "    sim_results = list()\n",
    "    for _ in range(n):\n",
    "        result = run_multigroup_sim(sim, T)\n",
    "        sim_results.append(result)\n",
    "    return sim_results"
   ]
  },
  {
   "cell_type": "code",
   "execution_count": 4,
   "metadata": {},
   "outputs": [],
   "source": [
    "def evaluate_testing_policy(params_list, interaction_matrix, group_names, test_frac, T, n):\n",
    "    assert len(params_list) == len(test_frac)\n",
    "    \n",
    "    group_size = list()\n",
    "    tests_per_day = 0\n",
    "    \n",
    "    # set group based contacts per day, test frequency\n",
    "    for index, params in enumerate(params_list):\n",
    "        params['expected_contacts_per_day'] = interaction_matrix[index, index]\n",
    "        params['test_population_fraction'] = test_frac[index]\n",
    "        group_size.append(params['population_size'])\n",
    "        tests_per_day += group_size[-1] * test_frac[index]\n",
    "    \n",
    "    assert len(group_size) == len(test_frac)\n",
    "    \n",
    "    sim = MultiGroupSimulation(params_list, interaction_matrix, group_names)\n",
    "    sim_results = run_multiple_trajectories(sim, T, n)\n",
    "    return tests_per_day, sim_results"
   ]
  },
  {
   "cell_type": "code",
   "execution_count": 5,
   "metadata": {},
   "outputs": [],
   "source": [
    "policy = [2/7,2/7,1/7,2/7,2/7,1/7,1/30,0]"
   ]
  },
  {
   "cell_type": "code",
   "execution_count": 78,
   "metadata": {},
   "outputs": [
    {
     "name": "stderr",
     "output_type": "stream",
     "text": [
      "/home/aaj54/group-testing/src/simulations_v2/load_params.py:136: YAMLLoadWarning: calling yaml.load() without Loader=... is deprecated, as the default Loader is unsafe. Please read https://msg.pyyaml.org/load for full details.\n",
      "  params = yaml.load(f)\n",
      "/home/aaj54/group-testing/src/simulations_v2/load_params.py:45: YAMLLoadWarning: calling yaml.load() without Loader=... is deprecated, as the default Loader is unsafe. Please read https://msg.pyyaml.org/load for full details.\n",
      "  age_sev_params = yaml.load(f)\n"
     ]
    },
    {
     "data": {
      "text/plain": [
       "(1190.5714285714284, 4902.714285714285)"
      ]
     },
     "execution_count": 78,
     "metadata": {},
     "output_type": "execute_result"
    }
   ],
   "source": [
    "base_directory = '../src/simulations_v2/params/baseline_testing/steady_state/nominal/'\n",
    "\n",
    "ug_dorm_params = load_params(base_directory + 'ug_dorm.yaml')[1]\n",
    "ug_off_campus_params = load_params(base_directory + 'ug_off_campus.yaml')[1]\n",
    "gs_research_params = load_params(base_directory + 'grad_research.yaml')[1]\n",
    "gs_other_params = load_params(base_directory + 'grad_other.yaml')[1]\n",
    "\n",
    "ug_high_tests_per_day = ug_dorm_params['population_size'] * policy[0]\n",
    "\n",
    "student_tests_per_day = 0\n",
    "student_tests_per_day += ug_dorm_params['population_size'] * policy[0]\n",
    "student_tests_per_day += ug_off_campus_params['population_size'] * policy[1]\n",
    "student_tests_per_day += gs_research_params['population_size'] * policy[2]\n",
    "student_tests_per_day += gs_other_params['population_size'] * policy[3]\n",
    "ug_high_tests_per_day, student_tests_per_day"
   ]
  },
  {
   "cell_type": "markdown",
   "metadata": {},
   "source": [
    "## Nominal"
   ]
  },
  {
   "cell_type": "code",
   "execution_count": 6,
   "metadata": {},
   "outputs": [
    {
     "name": "stderr",
     "output_type": "stream",
     "text": [
      "/home/aaj54/group-testing/src/simulations_v2/load_params.py:136: YAMLLoadWarning: calling yaml.load() without Loader=... is deprecated, as the default Loader is unsafe. Please read https://msg.pyyaml.org/load for full details.\n",
      "  params = yaml.load(f)\n",
      "/home/aaj54/group-testing/src/simulations_v2/load_params.py:45: YAMLLoadWarning: calling yaml.load() without Loader=... is deprecated, as the default Loader is unsafe. Please read https://msg.pyyaml.org/load for full details.\n",
      "  age_sev_params = yaml.load(f)\n"
     ]
    }
   ],
   "source": [
    "base_directory = '../src/simulations_v2/params/baseline_testing/steady_state/nominal/'\n",
    "\n",
    "ug_dorm_params = load_params(base_directory + 'ug_dorm.yaml')[1]\n",
    "ug_off_campus_params = load_params(base_directory + 'ug_off_campus.yaml')[1]\n",
    "gs_research_params = load_params(base_directory + 'grad_research.yaml')[1]\n",
    "gs_other_params = load_params(base_directory + 'grad_other.yaml')[1]\n",
    "faculty_staff_student_params = load_params(base_directory + 'faculty_staff_student_same_age.yaml')[1]\n",
    "faculty_staff_non_student_params = load_params(base_directory + 'faculty_staff_non_student_same_age.yaml')[1]\n",
    "faculty_staff_off_campus_params = load_params(base_directory + 'faculty_staff_off_campus_same_age.yaml')[1]\n",
    "ithaca_community_params = load_params(base_directory + 'ithaca_community.yaml')[1]"
   ]
  },
  {
   "cell_type": "code",
   "execution_count": 7,
   "metadata": {},
   "outputs": [],
   "source": [
    "interaction_matrix = np.array([[12.5,4,0.1,0.1,1,0.05,0.05,0.1],\n",
    "                               [3.41,8,0.1,0.1,1,0.05,0.05,0.2],\n",
    "                               [0.19,0.22,4,0.1,1.2,0.05,0.2,1.8],\n",
    "                               [0.14,0.17,0.07,9,1,0.05,0.05,0.2],\n",
    "                               [1.92,2.26,1.22,1.37,1,0.15,0.3,1.56],\n",
    "                               [0.18,0.21,0.1,0.13,0.28,1.8,0.2,1.56],\n",
    "                               [0.07,0.09,0.15,0.05,0.23,0.08,1.8,1.56],\n",
    "                               [0.011,0.026,0.106,0.016,0.091,0.048,0.12,3.5]])\n",
    "\n",
    "group_names = ['UG (campus)', 'UG (off campus)', 'GS (research)', 'GS (other)', 'Faculty/Staff (student facing)', 'Faculty/Staff (non student facing)', 'Faculty/Staff (off campus)', 'Ithaca Community']"
   ]
  },
  {
   "cell_type": "code",
   "execution_count": 8,
   "metadata": {},
   "outputs": [],
   "source": [
    "params_list = [ug_dorm_params.copy(), ug_off_campus_params.copy(), gs_research_params.copy(), gs_other_params.copy(), faculty_staff_student_params.copy(), faculty_staff_non_student_params.copy(), faculty_staff_off_campus_params.copy(), ithaca_community_params.copy()]\n",
    "tests_per_day_nominal, sim_results_nominal = evaluate_testing_policy(params_list, interaction_matrix, group_names, policy, 112, 50)"
   ]
  },
  {
   "cell_type": "markdown",
   "metadata": {},
   "source": [
    "## Optimistic"
   ]
  },
  {
   "cell_type": "code",
   "execution_count": 9,
   "metadata": {},
   "outputs": [],
   "source": [
    "base_directory = '../src/simulations_v2/params/baseline_testing/steady_state/optimistic/'\n",
    "\n",
    "ug_dorm_params = load_params(base_directory + 'ug_dorm.yaml')[1]\n",
    "ug_off_campus_params = load_params(base_directory + 'ug_off_campus.yaml')[1]\n",
    "gs_research_params = load_params(base_directory + 'grad_research.yaml')[1]\n",
    "gs_other_params = load_params(base_directory + 'grad_other.yaml')[1]\n",
    "faculty_staff_student_params = load_params(base_directory + 'faculty_staff_student_same_age.yaml')[1]\n",
    "faculty_staff_non_student_params = load_params(base_directory + 'faculty_staff_non_student_same_age.yaml')[1]\n",
    "faculty_staff_off_campus_params = load_params(base_directory + 'faculty_staff_off_campus_same_age.yaml')[1]\n",
    "ithaca_community_params = load_params(base_directory + 'ithaca_community.yaml')[1]"
   ]
  },
  {
   "cell_type": "code",
   "execution_count": 10,
   "metadata": {},
   "outputs": [],
   "source": [
    "interaction_matrix = np.array([[12.5,4,0.1,0.1,1,0.05,0.05,0.1],\n",
    "                               [3.41,8,0.1,0.1,1,0.05,0.05,0.2],\n",
    "                               [0.19,0.22,4,0.1,1.2,0.05,0.2,1.8],\n",
    "                               [0.14,0.17,0.07,9,1,0.05,0.05,0.2],\n",
    "                               [1.92,2.26,1.22,1.37,1,0.15,0.3,1.56],\n",
    "                               [0.18,0.21,0.1,0.13,0.28,1.8,0.2,1.56],\n",
    "                               [0.07,0.09,0.15,0.05,0.23,0.08,1.8,1.56],\n",
    "                               [0.011,0.026,0.106,0.016,0.091,0.048,0.12,3.5]])\n",
    "\n",
    "group_names = ['UG (campus)', 'UG (off campus)', 'GS (research)', 'GS (other)', 'Faculty/Staff (student facing)', 'Faculty/Staff (non student facing)', 'Faculty/Staff (off campus)', 'Ithaca Community']"
   ]
  },
  {
   "cell_type": "code",
   "execution_count": 11,
   "metadata": {},
   "outputs": [],
   "source": [
    "params_list = [ug_dorm_params.copy(), ug_off_campus_params.copy(), gs_research_params.copy(), gs_other_params.copy(), faculty_staff_student_params.copy(), faculty_staff_non_student_params.copy(), faculty_staff_off_campus_params.copy(), ithaca_community_params.copy()]\n",
    "tests_per_day_optimistic, sim_results_optimistic = evaluate_testing_policy(params_list, 0.7*interaction_matrix, group_names, policy, 112, 50)"
   ]
  },
  {
   "cell_type": "markdown",
   "metadata": {},
   "source": [
    "## Pessimistic "
   ]
  },
  {
   "cell_type": "code",
   "execution_count": 12,
   "metadata": {},
   "outputs": [],
   "source": [
    "base_directory = '../src/simulations_v2/params/baseline_testing/steady_state/pessimistic/'\n",
    "\n",
    "ug_dorm_params = load_params(base_directory + 'ug_dorm.yaml')[1]\n",
    "ug_off_campus_params = load_params(base_directory + 'ug_off_campus.yaml')[1]\n",
    "gs_research_params = load_params(base_directory + 'grad_research.yaml')[1]\n",
    "gs_other_params = load_params(base_directory + 'grad_other.yaml')[1]\n",
    "faculty_staff_student_params = load_params(base_directory + 'faculty_staff_student_same_age.yaml')[1]\n",
    "faculty_staff_non_student_params = load_params(base_directory + 'faculty_staff_non_student_same_age.yaml')[1]\n",
    "faculty_staff_off_campus_params = load_params(base_directory + 'faculty_staff_off_campus_same_age.yaml')[1]\n",
    "ithaca_community_params = load_params(base_directory + 'ithaca_community.yaml')[1]"
   ]
  },
  {
   "cell_type": "code",
   "execution_count": 13,
   "metadata": {},
   "outputs": [],
   "source": [
    "interaction_matrix = np.array([[12.5,4,0.1,0.1,1,0.05,0.05,0.1],\n",
    "                               [3.41,8,0.1,0.1,1,0.05,0.05,0.2],\n",
    "                               [0.19,0.22,4,0.1,1.2,0.05,0.2,1.8],\n",
    "                               [0.14,0.17,0.07,9,1,0.05,0.05,0.2],\n",
    "                               [1.92,2.26,1.22,1.37,1,0.15,0.3,1.56],\n",
    "                               [0.18,0.21,0.1,0.13,0.28,1.8,0.2,1.56],\n",
    "                               [0.07,0.09,0.15,0.05,0.23,0.08,1.8,1.56],\n",
    "                               [0.011,0.026,0.106,0.016,0.091,0.048,0.12,3.5]])\n",
    "\n",
    "group_names = ['UG (campus)', 'UG (off campus)', 'GS (research)', 'GS (other)', 'Faculty/Staff (student facing)', 'Faculty/Staff (non student facing)', 'Faculty/Staff (off campus)', 'Ithaca Community']"
   ]
  },
  {
   "cell_type": "code",
   "execution_count": 14,
   "metadata": {},
   "outputs": [],
   "source": [
    "params_list = [ug_dorm_params.copy(), ug_off_campus_params.copy(), gs_research_params.copy(), gs_other_params.copy(), faculty_staff_student_params.copy(), faculty_staff_non_student_params.copy(), faculty_staff_off_campus_params.copy(), ithaca_community_params.copy()]\n",
    "tests_per_day_pessimistic, sim_results_pessimistic = evaluate_testing_policy(params_list, 1.3*interaction_matrix, group_names, policy, 112, 50)"
   ]
  },
  {
   "cell_type": "markdown",
   "metadata": {},
   "source": [
    "## Exporting optimistic, nominal, pessimistic sim results "
   ]
  },
  {
   "cell_type": "code",
   "execution_count": null,
   "metadata": {},
   "outputs": [],
   "source": [
    "import dill\n",
    "with open('aug_10_sim_results_optimistic.dill', 'wb') as file:\n",
    "    dill.dump(sim_results_optimistic, file)\n",
    "    file.close()\n",
    "with open('aug_10_sim_results_nominal.dill', 'wb') as file:\n",
    "    dill.dump(sim_results_nominal, file)\n",
    "    file.close()\n",
    "with open('aug_10_sim_results_pessimistic.dill', 'wb') as file:\n",
    "    dill.dump(sim_results_pessimistic, file)\n",
    "    file.close()"
   ]
  },
  {
   "cell_type": "code",
   "execution_count": 80,
   "metadata": {},
   "outputs": [
    {
     "data": {
      "text/plain": [
       "(68.638, 125.638, 74.03, 49.332)"
      ]
     },
     "execution_count": 80,
     "metadata": {},
     "output_type": "execute_result"
    }
   ],
   "source": [
    "FP_isolation_nominal = student_tests_per_day * 14 * 0.001\n",
    "isolation_student_nominal = list()\n",
    "quarantine_student_nominal = list()\n",
    "quarantine_ug_high_nominal = list()\n",
    "\n",
    "for sim in sim_results_nominal:\n",
    "    quarantine_ug_high_nominal.append(np.array(sim[0].tail(112-28)['QS'].tolist()) - (ug_high_tests_per_day * 14 * 0.001))\n",
    "\n",
    "    quarantine_student = -1 * FP_isolation_nominal * (student_tests_per_day - ug_high_tests_per_day) / student_tests_per_day\n",
    "    quarantine_student += np.array(sim[1].tail(112-28)['QS'].tolist())\n",
    "    quarantine_student += np.array(sim[2].tail(112-28)['QS'].tolist())\n",
    "    quarantine_student += np.array(sim[3].tail(112-28)['QS'].tolist())\n",
    "    quarantine_student_nominal.append(quarantine_student)\n",
    "\n",
    "    isolation_student = np.array(sim[0].tail(112-28)['QI'].tolist()) + FP_isolation_nominal\n",
    "    isolation_student += np.array(sim[1].tail(112-28)['QI'].tolist())\n",
    "    isolation_student += np.array(sim[2].tail(112-28)['QI'].tolist())\n",
    "    isolation_student += np.array(sim[3].tail(112-28)['QI'].tolist())\n",
    "    isolation_student_nominal.append(isolation_student)\n",
    "\n",
    "isolation_student_nominal = np.concatenate(isolation_student_nominal)\n",
    "quarantine_student_nominal = np.concatenate(quarantine_student_nominal)\n",
    "quarantine_student_nominal[quarantine_student_nominal<0] = 0\n",
    "quarantine_ug_high_nominal = np.concatenate(quarantine_ug_high_nominal)\n",
    "FP_isolation_nominal, np.median(isolation_student_nominal), np.median(quarantine_student_nominal), np.median(quarantine_ug_high_nominal)"
   ]
  },
  {
   "cell_type": "code",
   "execution_count": 81,
   "metadata": {},
   "outputs": [
    {
     "data": {
      "text/plain": [
       "(68.638, 79.638, 1.029999999999994, 1.3320000000000007)"
      ]
     },
     "execution_count": 81,
     "metadata": {},
     "output_type": "execute_result"
    }
   ],
   "source": [
    "FP_isolation_optimistic = student_tests_per_day * 14 * 0.001\n",
    "isolation_student_optimistic = list()\n",
    "quarantine_student_optimistic = list()\n",
    "quarantine_ug_high_optimistic = list()\n",
    "\n",
    "for sim in sim_results_optimistic:\n",
    "    quarantine_ug_high_optimistic.append(np.array(sim[0].tail(112-28)['QS'].tolist()) - (ug_high_tests_per_day * 14 * 0.001))\n",
    "\n",
    "    quarantine_student = -1 * FP_isolation_optimistic * (student_tests_per_day - ug_high_tests_per_day) / student_tests_per_day\n",
    "    quarantine_student += np.array(sim[1].tail(112-28)['QS'].tolist())\n",
    "    quarantine_student += np.array(sim[2].tail(112-28)['QS'].tolist())\n",
    "    quarantine_student += np.array(sim[3].tail(112-28)['QS'].tolist())\n",
    "    quarantine_student_optimistic.append(quarantine_student)\n",
    "\n",
    "    isolation_student = np.array(sim[0].tail(112-28)['QI'].tolist()) + FP_isolation_optimistic\n",
    "    isolation_student += np.array(sim[1].tail(112-28)['QI'].tolist())\n",
    "    isolation_student += np.array(sim[2].tail(112-28)['QI'].tolist())\n",
    "    isolation_student += np.array(sim[3].tail(112-28)['QI'].tolist())\n",
    "    isolation_student_optimistic.append(isolation_student)\n",
    "\n",
    "isolation_student_optimistic = np.concatenate(isolation_student_optimistic)\n",
    "quarantine_student_optimistic = np.concatenate(quarantine_student_optimistic)\n",
    "quarantine_student_optimistic[quarantine_student_optimistic<0] = 0\n",
    "quarantine_ug_high_optimistic = np.concatenate(quarantine_ug_high_optimistic)\n",
    "FP_isolation_optimistic, np.median(isolation_student_optimistic), np.median(quarantine_student_optimistic), np.median(quarantine_ug_high_optimistic)"
   ]
  },
  {
   "cell_type": "code",
   "execution_count": 82,
   "metadata": {},
   "outputs": [
    {
     "data": {
      "text/plain": [
       "(68.638, 506.63800000000003, 944.03, 585.332)"
      ]
     },
     "execution_count": 82,
     "metadata": {},
     "output_type": "execute_result"
    }
   ],
   "source": [
    "FP_isolation_pessimistic = student_tests_per_day * 14 * 0.001\n",
    "isolation_student_pessimistic = list()\n",
    "quarantine_student_pessimistic = list()\n",
    "quarantine_ug_high_pessimistic = list()\n",
    "\n",
    "for sim in sim_results_pessimistic:\n",
    "    quarantine_ug_high_pessimistic.append(np.array(sim[0].tail(112-28)['QS'].tolist()) - (ug_high_tests_per_day * 14 * 0.001))\n",
    "\n",
    "    quarantine_student = -1 * FP_isolation_pessimistic * (student_tests_per_day - ug_high_tests_per_day) / student_tests_per_day\n",
    "    quarantine_student += np.array(sim[1].tail(112-28)['QS'].tolist())\n",
    "    quarantine_student += np.array(sim[2].tail(112-28)['QS'].tolist())\n",
    "    quarantine_student += np.array(sim[3].tail(112-28)['QS'].tolist())\n",
    "    quarantine_student_pessimistic.append(quarantine_student)\n",
    "\n",
    "    isolation_student = np.array(sim[0].tail(112-28)['QI'].tolist()) + FP_isolation_pessimistic\n",
    "    isolation_student += np.array(sim[1].tail(112-28)['QI'].tolist())\n",
    "    isolation_student += np.array(sim[2].tail(112-28)['QI'].tolist())\n",
    "    isolation_student += np.array(sim[3].tail(112-28)['QI'].tolist())\n",
    "    isolation_student_pessimistic.append(isolation_student)\n",
    "\n",
    "isolation_student_pessimistic = np.concatenate(isolation_student_pessimistic)\n",
    "quarantine_student_pessimistic = np.concatenate(quarantine_student_pessimistic)\n",
    "quarantine_student_pessimistic[quarantine_student_pessimistic<0] = 0\n",
    "quarantine_ug_high_pessimistic = np.concatenate(quarantine_ug_high_pessimistic)\n",
    "FP_isolation_pessimistic, np.median(isolation_student_pessimistic), np.median(quarantine_student_pessimistic), np.median(quarantine_ug_high_pessimistic)"
   ]
  },
  {
   "cell_type": "code",
   "execution_count": 74,
   "metadata": {},
   "outputs": [
    {
     "data": {
      "text/plain": [
       "96"
      ]
     },
     "execution_count": 74,
     "metadata": {},
     "output_type": "execute_result"
    }
   ],
   "source": [
    "# np.array(sim_results_nominal[0][0].tail(112-28)['QS'].tolist()) + np.array(sim_results_nominal[0][1].tail(112-28)['QS'].tolist())\n",
    "sim_results_nominal[0][0].tail(112-28)['cumulative_mild'].tolist()[-1]\n",
    "# isolation_student_nominal.shape"
   ]
  },
  {
   "cell_type": "markdown",
   "metadata": {},
   "source": [
    "## Making Distribution Graphs"
   ]
  },
  {
   "cell_type": "markdown",
   "metadata": {},
   "source": [
    "## Isolations (all students)"
   ]
  },
  {
   "cell_type": "code",
   "execution_count": 83,
   "metadata": {},
   "outputs": [
    {
     "data": {
      "image/png": "[encoded data removed]",
      "text/plain": [
       "<Figure size 720x432 with 1 Axes>"
      ]
     },
     "metadata": {
      "needs_background": "light"
     },
     "output_type": "display_data"
    }
   ],
   "source": [
    "import matplotlib.pyplot as plt\n",
    "import seaborn as sns\n",
    "\n",
    "plt.figure(figsize=(10,6))\n",
    "\n",
    "sns.distplot(isolation_student_optimistic, hist=False, rug=False, label='Optimistic')\n",
    "sns.distplot(isolation_student_nominal, hist=False, rug=False, label='Nominal')\n",
    "sns.distplot(isolation_student_pessimistic, hist=False, rug=False, label='Pessimistic')\n",
    "plt.title('Distribution of Steady-state Isolations across all students')\n",
    "plt.xlabel('Number of Isolated Students')\n",
    "plt.show()"
   ]
  },
  {
   "cell_type": "markdown",
   "metadata": {},
   "source": [
    "## Quarantines for UG High only"
   ]
  },
  {
   "cell_type": "code",
   "execution_count": 84,
   "metadata": {},
   "outputs": [
    {
     "data": {
      "image/png": "[encoded data removed]",
      "text/plain": [
       "<Figure size 720x432 with 1 Axes>"
      ]
     },
     "metadata": {
      "needs_background": "light"
     },
     "output_type": "display_data"
    }
   ],
   "source": [
    "import matplotlib.pyplot as plt\n",
    "import seaborn as sns\n",
    "\n",
    "plt.figure(figsize=(10,6))\n",
    "\n",
    "sns.distplot(quarantine_ug_high_optimistic, hist=False, rug=False, label='Optimistic')\n",
    "sns.distplot(quarantine_ug_high_nominal, hist=False, rug=False, label='Nominal')\n",
    "sns.distplot(quarantine_ug_high_pessimistic, hist=False, rug=False, label='Pessimistic')\n",
    "plt.title('Distribution of Steady-state Quarantines for Undergrads in Dorms, Fraternaties and Sororities')\n",
    "plt.xlabel('Number of Quarantined Students')\n",
    "plt.show()"
   ]
  },
  {
   "cell_type": "markdown",
   "metadata": {},
   "source": [
    "## Quarantines for all other students"
   ]
  },
  {
   "cell_type": "code",
   "execution_count": 86,
   "metadata": {},
   "outputs": [
    {
     "data": {
      "image/png": "[encoded data removed]",
      "text/plain": [
       "<Figure size 720x432 with 1 Axes>"
      ]
     },
     "metadata": {
      "needs_background": "light"
     },
     "output_type": "display_data"
    }
   ],
   "source": [
    "import matplotlib.pyplot as plt\n",
    "import seaborn as sns\n",
    "\n",
    "plt.figure(figsize=(10,6))\n",
    "\n",
    "sns.distplot(quarantine_student_optimistic, hist=False, rug=False, label='Optimistic')\n",
    "sns.distplot(quarantine_student_nominal, hist=False, rug=False, label='Nominal')\n",
    "sns.distplot(quarantine_student_pessimistic, hist=False, rug=False, label='Pessimistic')\n",
    "plt.title('Distribution of Steady-state Quarantines for all other students')\n",
    "plt.xlabel('Number of Quarantined Students')\n",
    "plt.show()"
   ]
  },
  {
   "cell_type": "code",
   "execution_count": 100,
   "metadata": {},
   "outputs": [
    {
     "data": {
      "text/plain": [
       "(4.456480952380949, 79.34091904761904, 949.6507142857145)"
      ]
     },
     "execution_count": 100,
     "metadata": {},
     "output_type": "execute_result"
    }
   ],
   "source": [
    "# np.mean(isolation_student_optimistic), np.mean(isolation_student_nominal), np.mean(isolation_student_pessimistic)\n",
    "# np.mean(quarantine_ug_high_optimistic), np.mean(quarantine_ug_high_nominal), np.mean(quarantine_ug_high_pessimistic)\n",
    "np.mean(quarantine_student_optimistic), np.mean(quarantine_student_nominal), np.mean(quarantine_student_pessimistic)"
   ]
  },
  {
   "cell_type": "code",
   "execution_count": 103,
   "metadata": {},
   "outputs": [
    {
     "data": {
      "text/plain": [
       "(13.029999999999994, 135.03, 1402.03)"
      ]
     },
     "execution_count": 103,
     "metadata": {},
     "output_type": "execute_result"
    }
   ],
   "source": [
    "# np.quantile(isolation_student_optimistic, 0.9), np.quantile(isolation_student_nominal, 0.9), np.quantile(isolation_student_pessimistic, 0.9)\n",
    "# np.quantile(quarantine_ug_high_optimistic, 0.9), np.quantile(quarantine_ug_high_nominal, 0.9), np.quantile(quarantine_ug_high_pessimistic, 0.9)\n",
    "np.quantile(quarantine_student_optimistic, 0.9), np.quantile(quarantine_student_nominal, 0.9), np.quantile(quarantine_student_pessimistic, 0.9)"
   ]
  },
  {
   "cell_type": "code",
   "execution_count": 75,
   "metadata": {},
   "outputs": [
    {
     "data": {
      "text/plain": [
       "[4445,\n",
       " 4283,\n",
       " 3761,\n",
       " 4673,\n",
       " 3723,\n",
       " 4038,\n",
       " 4511,\n",
       " 3990,\n",
       " 3862,\n",
       " 4611,\n",
       " 4977,\n",
       " 4540,\n",
       " 4742,\n",
       " 3743,\n",
       " 4773,\n",
       " 4037,\n",
       " 3561,\n",
       " 3949,\n",
       " 4198,\n",
       " 4605,\n",
       " 4226,\n",
       " 4258,\n",
       " 5013,\n",
       " 3494,\n",
       " 4138,\n",
       " 3914,\n",
       " 4358,\n",
       " 3885,\n",
       " 3766,\n",
       " 3871,\n",
       " 3919,\n",
       " 4718,\n",
       " 4370,\n",
       " 4070,\n",
       " 4798,\n",
       " 4214,\n",
       " 3939,\n",
       " 3903,\n",
       " 3814,\n",
       " 3584,\n",
       " 4306,\n",
       " 3746,\n",
       " 4251,\n",
       " 4525,\n",
       " 4502,\n",
       " 3613,\n",
       " 3836,\n",
       " 4596,\n",
       " 4409,\n",
       " 3978]"
      ]
     },
     "execution_count": 75,
     "metadata": {},
     "output_type": "execute_result"
    }
   ],
   "source": [
    "# Pessimistic Total Infections\n",
    "total_infections = list()\n",
    "for sim in sim_results_pessimistic:\n",
    "    scenario_total_infections = 0\n",
    "    for i in range(7):\n",
    "        scenario_total_infections += sim[i]['cumulative_mild'].tolist()[-1] + sim[i]['cumulative_severe'].tolist()[-1]\n",
    "    total_infections.append(scenario_total_infections)\n",
    "total_infections"
   ]
  },
  {
   "cell_type": "code",
   "execution_count": 94,
   "metadata": {},
   "outputs": [
    {
     "data": {
      "text/plain": [
       "68.638"
      ]
     },
     "execution_count": 94,
     "metadata": {},
     "output_type": "execute_result"
    }
   ],
   "source": [
    "np.min(total_infections), np.max(total_infections)\n",
    "FP_isolation_optimistic"
   ]
  },
  {
   "cell_type": "code",
   "execution_count": null,
   "metadata": {},
   "outputs": [],
   "source": []
  }
 ],
 "metadata": {
  "kernelspec": {
   "display_name": "IPython (Python 3)",
   "language": "python",
   "name": "python3"
  },
  "language_info": {
   "codemirror_mode": {
    "name": "ipython",
    "version": 3
   },
   "file_extension": ".py",
   "mimetype": "text/x-python",
   "name": "python",
   "nbconvert_exporter": "python",
   "pygments_lexer": "ipython3",
   "version": "3.6.2"
  }
 },
 "nbformat": 4,
 "nbformat_minor": 4
}
