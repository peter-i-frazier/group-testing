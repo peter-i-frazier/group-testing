{
 "cells": [
  {
   "cell_type": "code",
   "execution_count": 1,
   "metadata": {},
   "outputs": [],
   "source": [
    "import sys\n",
    "import os\n",
    "import numpy as np\n",
    "import multiprocessing\n",
    "import dill\n",
    "import matplotlib.pyplot as plt\n",
    "import pandas as pd\n",
    "\n",
    "module_path = os.path.abspath(os.path.join('..'))\n",
    "if module_path not in sys.path:\n",
    "    sys.path.append(module_path + \"/src/simulations_v2\")\n",
    "from load_params import load_params\n",
    "\n",
    "from multi_group_simulation import MultiGroupSimulation"
   ]
  },
  {
   "cell_type": "markdown",
   "metadata": {},
   "source": [
    "## Importing Params, setting up group sim"
   ]
  },
  {
   "cell_type": "code",
   "execution_count": 2,
   "metadata": {},
   "outputs": [
    {
     "name": "stderr",
     "output_type": "stream",
     "text": [
      "/Users/stevewangen/projects/COVID/uw_reopening/src/simulations_v2/load_params.py:132: YAMLLoadWarning: calling yaml.load() without Loader=... is deprecated, as the default Loader is unsafe. Please read https://msg.pyyaml.org/load for full details.\n",
      "  params = yaml.load(f)\n",
      "/Users/stevewangen/projects/COVID/uw_reopening/src/simulations_v2/load_params.py:46: YAMLLoadWarning: calling yaml.load() without Loader=... is deprecated, as the default Loader is unsafe. Please read https://msg.pyyaml.org/load for full details.\n",
      "  age_sev_params = yaml.load(f)\n"
     ]
    }
   ],
   "source": [
    "ug_dorm_params = load_params('../src/simulations_v2/params/baseline_testing/august_5/ug_dorm.yaml')[1]\n",
    "ug_off_campus_params = load_params('../src/simulations_v2/params/baseline_testing/august_5/ug_off_campus.yaml')[1]\n",
    "gs_research_params = load_params('../src/simulations_v2/params/baseline_testing/august_5/grad_research.yaml')[1]\n",
    "gs_other_params = load_params('../src/simulations_v2/params/baseline_testing/august_5/grad_other.yaml')[1]\n",
    "faculty_staff_student_params = load_params('../src/simulations_v2/params/baseline_testing/august_5/faculty_staff_student_same_age.yaml')[1]\n",
    "faculty_staff_non_student_params = load_params('../src/simulations_v2/params/baseline_testing/august_5/faculty_staff_non_student_same_age.yaml')[1]\n",
    "faculty_staff_off_campus_params = load_params('../src/simulations_v2/params/baseline_testing/august_5/faculty_staff_off_campus_same_age.yaml')[1]\n",
    "ithaca_community_params = load_params('../src/simulations_v2/params/baseline_testing/august_5/ithaca_community.yaml')[1]"
   ]
  },
  {
   "cell_type": "code",
   "execution_count": 3,
   "metadata": {},
   "outputs": [],
   "source": [
    "interaction_matrix = np.array([[12.5,4,0.1,0.1,1,0.05,0.05,0.1],\n",
    "                               [3.41,8,0.1,0.1,1,0.05,0.05,0.2],\n",
    "                               [0.19,0.22,4,0.1,1.2,0.05,0.2,1.8],\n",
    "                               [0.14,0.17,0.07,9,1,0.05,0.05,0.2],\n",
    "                               [1.92,2.26,1.22,1.37,1,0.15,0.3,1.56],\n",
    "                               [0.18,0.21,0.1,0.13,0.28,1.8,0.2,1.56],\n",
    "                               [0.07,0.09,0.15,0.05,0.23,0.08,1.8,1.56],\n",
    "                               [0.011,0.026,0.106,0.016,0.091,0.048,0.12,3.5]])\n",
    "\n",
    "group_names = ['UG (campus)', 'UG (off campus)', 'GS (research)', 'GS (other)', 'Faculty/Staff (student facing)', 'Faculty/Staff (non student facing)', 'Faculty/Staff (off campus)', 'Ithaca Community']"
   ]
  },
  {
   "cell_type": "code",
   "execution_count": 4,
   "metadata": {},
   "outputs": [
    {
     "data": {
      "text/plain": [
       "[1.23]"
      ]
     },
     "execution_count": 4,
     "metadata": {},
     "output_type": "execute_result"
    }
   ],
   "source": [
    "list(map(float, ['1.23']))"
   ]
  },
  {
   "cell_type": "code",
   "execution_count": 5,
   "metadata": {},
   "outputs": [],
   "source": [
    "lockdown_matrix_str = \\\n",
    "\"\"\"6.25\t2\t0.05\t0.05\t0\t0\t0\t0.02\n",
    "1.70\t4\t0.05\t0.05\t0\t0\t0\t0.04\n",
    "0.09\t0.11\t2\t0.05\t0\t0\t0\t0.36\n",
    "0.07\t0.08\t0.04\t4.5\t0\t0\t0\t0.04\n",
    "0.00\t0.00\t0.00\t0.00\t0.5\t0.075\t0.15\t0.78\n",
    "0.00\t0.00\t0.00\t0.00\t0.14\t0.9\t0.1\t0.78\n",
    "0.00\t0.00\t0.00\t0.00\t0.11\t0.04\t0.9\t0.78\n",
    "0.002\t0.005\t0.021\t0.003\t0.045\t0.024\t0.060\t3.5\"\"\"\n",
    "\n",
    "lockdown_matrix = np.array([[float(entry) for entry in line.split('\\t')] for line in lockdown_matrix_str.split('\\n')])"
   ]
  },
  {
   "cell_type": "code",
   "execution_count": 6,
   "metadata": {},
   "outputs": [],
   "source": [
    "def get_cum_hosp(df):\n",
    "    return df[['severity_3', 'severity_2']].iloc[df.shape[0] - 1].sum()\n",
    "\n",
    "def get_cum_outside_infections(df):\n",
    "    return df['cumulative_outside_infections'].iloc[df.shape[0] - 1].sum()\n",
    "\n",
    "def get_cum_infections(df):\n",
    "    return df[['cumulative_mild', 'cumulative_severe']].iloc[df.shape[0] - 1].sum()\n",
    "\n",
    "def total_infections(list_sim_dfs):\n",
    "    total = 0\n",
    "    for sim_df in list_sim_dfs:\n",
    "        total += get_cum_infections(sim_df)\n",
    "    return total\n",
    "\n",
    "def total_hosp(list_sim_dfs):\n",
    "    total = 0\n",
    "    for sim_df in list_sim_dfs:\n",
    "        total += get_cum_hosp(sim_df)\n",
    "    return total\n",
    "\n",
    "def cornell_infections(list_sim_dfs):\n",
    "    total = 0\n",
    "    for sim_df in list_sim_dfs[:-1]:\n",
    "        total += get_cum_infections(sim_df)\n",
    "    return total\n",
    "\n",
    "def cornell_hosp(list_sim_dfs):\n",
    "    total = 0\n",
    "    for sim_df in list_sim_dfs[:-1]:\n",
    "        total += get_cum_hosp(sim_df)\n",
    "    return total"
   ]
  },
  {
   "cell_type": "code",
   "execution_count": 7,
   "metadata": {},
   "outputs": [],
   "source": [
    "def run_multigroup_sim(sim, T):\n",
    "    lockdown_statuses, sim_df = sim.run_new_trajectory(112)\n",
    "    popsize = sim.get_total_population()\n",
    "    infection_counts = sim_df[['S', 'QS']].apply(lambda x: (popsize - sum(x)) / popsize * 100, axis=1)\n",
    "    inf_list = list()\n",
    "    hosp_list = list()\n",
    "    for group in sim.sims:\n",
    "        df = group.sim_df\n",
    "        inf_list.append(get_cum_infections(df))\n",
    "        hosp_list.append(get_cum_hosp(df))\n",
    "    return inf_list, hosp_list, lockdown_statuses, list(infection_counts)\n",
    "\n",
    "def run_multiple_trajectories(sim, T, n):\n",
    "    inf_matrix = list()\n",
    "    hosp_matrix = list()\n",
    "    lockdown_trajectories = []\n",
    "    infection_trajectories = []\n",
    "    for _ in range(n):\n",
    "        inf, hosp, lockdowns, infections = run_multigroup_sim(sim, T)\n",
    "        inf_matrix.append(inf)\n",
    "        hosp_matrix.append(hosp)\n",
    "        lockdown_trajectories.append(lockdowns)\n",
    "        infection_trajectories.append(infections)\n",
    "    return inf_matrix, hosp_matrix, lockdown_trajectories, infection_trajectories"
   ]
  },
  {
   "cell_type": "code",
   "execution_count": 8,
   "metadata": {},
   "outputs": [],
   "source": [
    "def evaluate_testing_policy(params_list, interaction_matrix, group_names, test_frac, T, n,\n",
    "                           post_lockdown_matrix, new_cases_threshold, new_cases_time_window):\n",
    "    assert len(params_list) == len(test_frac)\n",
    "    sim = MultiGroupSimulation(params_list, interaction_matrix, group_names)\n",
    "\n",
    "    sim.configure_lockdown(post_lockdown_matrix, new_cases_threshold, new_cases_time_window)\n",
    "    \n",
    "    inf_matrix, hosp_matrix, lockdown_trajectories, infection_trajectories = run_multiple_trajectories(sim, T, n)\n",
    "    \n",
    "    return [any(lockdowns) for lockdowns in lockdown_trajectories], [infs[-1] for infs in infection_trajectories]"
   ]
  },
  {
   "cell_type": "markdown",
   "metadata": {},
   "source": [
    "Note total population is 95892"
   ]
  },
  {
   "cell_type": "code",
   "execution_count": 9,
   "metadata": {},
   "outputs": [],
   "source": [
    "def get_params_list_copy():\n",
    "    return [ug_dorm_params.copy(), \n",
    "            ug_off_campus_params.copy(), \n",
    "            gs_research_params.copy(), \n",
    "            gs_other_params.copy(), \n",
    "            faculty_staff_student_params.copy(), \n",
    "            faculty_staff_non_student_params.copy(), \n",
    "            faculty_staff_off_campus_params.copy(), \n",
    "            ithaca_community_params.copy()]"
   ]
  },
  {
   "cell_type": "code",
   "execution_count": 10,
   "metadata": {},
   "outputs": [],
   "source": [
    "def simulate_lockdown(contact_multiplier, infections_thresh, infections_window, nreps=10):\n",
    "    simulation_population = 95892\n",
    "    new_cases_thresh = infections_thresh / simulation_population\n",
    "    test_policy = [2/7,2/7,1/7,2/7,2/7,1/7,1/30,0]\n",
    "    \n",
    "    return evaluate_testing_policy(get_params_list_copy(),\n",
    "                                      interaction_matrix * contact_multiplier,\n",
    "                                      group_names,\n",
    "                                      test_policy,\n",
    "                                      112,\n",
    "                                      nreps,\n",
    "                                      lockdown_matrix,\n",
    "                                       new_cases_thresh,\n",
    "                                       infections_window)"
   ]
  },
  {
   "cell_type": "code",
   "execution_count": 17,
   "metadata": {},
   "outputs": [
    {
     "ename": "TypeError",
     "evalue": "configure_lockdown() missing 5 required positional arguments: 'self', 'post_lockdown_interaction_matrix', 'new_case_sims_list', 'new_cases_threshold', and 'new_cases_time_window'",
     "output_type": "error",
     "traceback": [
      "\u001b[0;31m---------------------------------------------------------------------------\u001b[0m",
      "\u001b[0;31mTypeError\u001b[0m                                 Traceback (most recent call last)",
      "\u001b[0;32m<ipython-input-17-894c8e60d180>\u001b[0m in \u001b[0;36m<module>\u001b[0;34m\u001b[0m\n\u001b[0;32m----> 1\u001b[0;31m \u001b[0mdir\u001b[0m\u001b[0;34m(\u001b[0m\u001b[0mMultiGroupSimulation\u001b[0m\u001b[0;34m.\u001b[0m\u001b[0mconfigure_lockdown\u001b[0m\u001b[0;34m(\u001b[0m\u001b[0;34m)\u001b[0m\u001b[0;34m)\u001b[0m\u001b[0;34m\u001b[0m\u001b[0m\n\u001b[0m",
      "\u001b[0;31mTypeError\u001b[0m: configure_lockdown() missing 5 required positional arguments: 'self', 'post_lockdown_interaction_matrix', 'new_case_sims_list', 'new_cases_threshold', and 'new_cases_time_window'"
     ]
    }
   ],
   "source": [
    "dir(MultiGroupSimulation.configure_lockdown())"
   ]
  },
  {
   "cell_type": "code",
   "execution_count": 11,
   "metadata": {
    "scrolled": true
   },
   "outputs": [
    {
     "ename": "TypeError",
     "evalue": "configure_lockdown() missing 1 required positional argument: 'new_cases_time_window'",
     "output_type": "error",
     "traceback": [
      "\u001b[0;31m---------------------------------------------------------------------------\u001b[0m",
      "\u001b[0;31mTypeError\u001b[0m                                 Traceback (most recent call last)",
      "\u001b[0;32m<ipython-input-11-1be1c1e80f6c>\u001b[0m in \u001b[0;36m<module>\u001b[0;34m\u001b[0m\n\u001b[1;32m      1\u001b[0m \u001b[0;32mimport\u001b[0m \u001b[0mtime\u001b[0m\u001b[0;34m\u001b[0m\u001b[0m\n\u001b[1;32m      2\u001b[0m \u001b[0mstart\u001b[0m \u001b[0;34m=\u001b[0m \u001b[0mtime\u001b[0m\u001b[0;34m.\u001b[0m\u001b[0mtime\u001b[0m\u001b[0;34m(\u001b[0m\u001b[0;34m)\u001b[0m\u001b[0;34m\u001b[0m\u001b[0m\n\u001b[0;32m----> 3\u001b[0;31m \u001b[0mlockdowns\u001b[0m\u001b[0;34m,\u001b[0m \u001b[0mfinal_infections\u001b[0m \u001b[0;34m=\u001b[0m \u001b[0msimulate_lockdown\u001b[0m\u001b[0;34m(\u001b[0m\u001b[0;36m1\u001b[0m\u001b[0;34m,\u001b[0m \u001b[0;36m1000\u001b[0m\u001b[0;34m,\u001b[0m \u001b[0;36m7\u001b[0m\u001b[0;34m)\u001b[0m\u001b[0;34m\u001b[0m\u001b[0m\n\u001b[0m\u001b[1;32m      4\u001b[0m \u001b[0mend\u001b[0m \u001b[0;34m=\u001b[0m \u001b[0mtime\u001b[0m\u001b[0;34m.\u001b[0m\u001b[0mtime\u001b[0m\u001b[0;34m(\u001b[0m\u001b[0;34m)\u001b[0m\u001b[0;34m\u001b[0m\u001b[0m\n\u001b[1;32m      5\u001b[0m \u001b[0mprint\u001b[0m\u001b[0;34m(\u001b[0m\u001b[0;34m\"elapsed time {:.2f}\"\u001b[0m\u001b[0;34m.\u001b[0m\u001b[0mformat\u001b[0m\u001b[0;34m(\u001b[0m\u001b[0mend\u001b[0m\u001b[0;34m-\u001b[0m\u001b[0mstart\u001b[0m\u001b[0;34m)\u001b[0m\u001b[0;34m)\u001b[0m\u001b[0;34m\u001b[0m\u001b[0m\n",
      "\u001b[0;32m<ipython-input-10-9d85281ee980>\u001b[0m in \u001b[0;36msimulate_lockdown\u001b[0;34m(contact_multiplier, infections_thresh, infections_window, nreps)\u001b[0m\n\u001b[1;32m     12\u001b[0m                                       \u001b[0mlockdown_matrix\u001b[0m\u001b[0;34m,\u001b[0m\u001b[0;34m\u001b[0m\u001b[0m\n\u001b[1;32m     13\u001b[0m                                        \u001b[0mnew_cases_thresh\u001b[0m\u001b[0;34m,\u001b[0m\u001b[0;34m\u001b[0m\u001b[0m\n\u001b[0;32m---> 14\u001b[0;31m                                        infections_window)\n\u001b[0m",
      "\u001b[0;32m<ipython-input-8-9395c849a930>\u001b[0m in \u001b[0;36mevaluate_testing_policy\u001b[0;34m(params_list, interaction_matrix, group_names, test_frac, T, n, post_lockdown_matrix, new_cases_threshold, new_cases_time_window)\u001b[0m\n\u001b[1;32m      4\u001b[0m     \u001b[0msim\u001b[0m \u001b[0;34m=\u001b[0m \u001b[0mMultiGroupSimulation\u001b[0m\u001b[0;34m(\u001b[0m\u001b[0mparams_list\u001b[0m\u001b[0;34m,\u001b[0m \u001b[0minteraction_matrix\u001b[0m\u001b[0;34m,\u001b[0m \u001b[0mgroup_names\u001b[0m\u001b[0;34m)\u001b[0m\u001b[0;34m\u001b[0m\u001b[0m\n\u001b[1;32m      5\u001b[0m \u001b[0;34m\u001b[0m\u001b[0m\n\u001b[0;32m----> 6\u001b[0;31m     \u001b[0msim\u001b[0m\u001b[0;34m.\u001b[0m\u001b[0mconfigure_lockdown\u001b[0m\u001b[0;34m(\u001b[0m\u001b[0mpost_lockdown_matrix\u001b[0m\u001b[0;34m,\u001b[0m \u001b[0mnew_cases_threshold\u001b[0m\u001b[0;34m,\u001b[0m \u001b[0mnew_cases_time_window\u001b[0m\u001b[0;34m)\u001b[0m\u001b[0;34m\u001b[0m\u001b[0m\n\u001b[0m\u001b[1;32m      7\u001b[0m \u001b[0;34m\u001b[0m\u001b[0m\n\u001b[1;32m      8\u001b[0m     \u001b[0minf_matrix\u001b[0m\u001b[0;34m,\u001b[0m \u001b[0mhosp_matrix\u001b[0m\u001b[0;34m,\u001b[0m \u001b[0mlockdown_trajectories\u001b[0m\u001b[0;34m,\u001b[0m \u001b[0minfection_trajectories\u001b[0m \u001b[0;34m=\u001b[0m \u001b[0mrun_multiple_trajectories\u001b[0m\u001b[0;34m(\u001b[0m\u001b[0msim\u001b[0m\u001b[0;34m,\u001b[0m \u001b[0mT\u001b[0m\u001b[0;34m,\u001b[0m \u001b[0mn\u001b[0m\u001b[0;34m)\u001b[0m\u001b[0;34m\u001b[0m\u001b[0m\n",
      "\u001b[0;31mTypeError\u001b[0m: configure_lockdown() missing 1 required positional argument: 'new_cases_time_window'"
     ]
    }
   ],
   "source": [
    "import time\n",
    "start = time.time()\n",
    "lockdowns, final_infections = simulate_lockdown(1, 1000, 7)\n",
    "end = time.time()\n",
    "print(\"elapsed time {:.2f}\".format(end-start))"
   ]
  },
  {
   "cell_type": "code",
   "execution_count": 14,
   "metadata": {},
   "outputs": [
    {
     "data": {
      "text/plain": [
       "[False, False, False, False, False, False, False, False, False, False]"
      ]
     },
     "execution_count": 14,
     "metadata": {},
     "output_type": "execute_result"
    }
   ],
   "source": [
    "lockdowns"
   ]
  },
  {
   "cell_type": "code",
   "execution_count": 15,
   "metadata": {},
   "outputs": [
    {
     "data": {
      "text/plain": [
       "[1.3223209443957784,\n",
       " 0.7842155758561715,\n",
       " 1.2952071079964962,\n",
       " 1.2733074709047678,\n",
       " 0.9562841530054645,\n",
       " 1.3463062612105285,\n",
       " 1.0407541817878447,\n",
       " 0.990697868435323,\n",
       " 1.0397113419263337,\n",
       " 1.1909231218454095]"
      ]
     },
     "execution_count": 15,
     "metadata": {},
     "output_type": "execute_result"
    }
   ],
   "source": [
    "final_infections"
   ]
  },
  {
   "cell_type": "code",
   "execution_count": 37,
   "metadata": {},
   "outputs": [
    {
     "name": "stdout",
     "output_type": "stream",
     "text": [
      "elapsed time on mult 1 was 73.00 seconds\n",
      "elapsed time on mult 1.2 was 72.78 seconds\n",
      "elapsed time on mult 1.4 was 72.85 seconds\n",
      "elapsed time on mult 1.6 was 73.26 seconds\n",
      "elapsed time on mult 1.8 was 72.95 seconds\n",
      "elapsed time on mult 2 was 72.93 seconds\n",
      "elapsed time on mult 2.2 was 72.86 seconds\n",
      "elapsed time on mult 2.4 was 72.90 seconds\n",
      "elapsed time on mult 2.6 was 73.09 seconds\n",
      "elapsed time on mult 2.8 was 73.16 seconds\n",
      "elapsed time on mult 3 was 76.51 seconds\n"
     ]
    }
   ],
   "source": [
    "lockdowns_by_mult = {}\n",
    "infections_by_mult = {}\n",
    "start = time.time()\n",
    "for mult in [1,1.2,1.4,1.6,1.8,2, 2.2, 2.4, 2.6, 2.8, 3]:\n",
    "    lockdowns, final_infections = simulate_lockdown(mult, 1000, 14)\n",
    "    lockdowns_by_mult[mult] = lockdowns\n",
    "    infections_by_mult[mult] = final_infections\n",
    "    end = time.time()\n",
    "    print(\"elapsed time on mult {} was {:.2f} seconds\".format(mult, end-start))\n",
    "    start = end"
   ]
  },
  {
   "cell_type": "code",
   "execution_count": 38,
   "metadata": {
    "collapsed": true
   },
   "outputs": [],
   "source": [
    "mults = []\n",
    "avg_lockdowns = []\n",
    "avg_infections = []\n",
    "\n",
    "for mult in lockdowns_by_mult:\n",
    "    mults.append(mult)\n",
    "    avg_lockdowns.append(np.mean(lockdowns_by_mult[mult]))\n",
    "    avg_infections.append(np.mean(infections_by_mult[mult]))"
   ]
  },
  {
   "cell_type": "code",
   "execution_count": 40,
   "metadata": {},
   "outputs": [
    {
     "data": {
      "text/plain": [
       "Text(0.5,1,'Lockdown probability for lockdown triggered by \\n1000 infections observed in 14-day period ')"
      ]
     },
     "execution_count": 40,
     "metadata": {},
     "output_type": "execute_result"
    },
    {
     "data": {
      "image/png": "[encoded data removed]",
      "text/plain": [
       "<matplotlib.figure.Figure at 0x7f0ef52126d8>"
      ]
     },
     "metadata": {},
     "output_type": "display_data"
    }
   ],
   "source": [
    "import matplotlib.pyplot as plt\n",
    "%matplotlib inline\n",
    "\n",
    "plt.plot(mults, [100 * l for l in avg_lockdowns])\n",
    "plt.xlabel(\"Contact matrix multiplier\")\n",
    "plt.ylabel(\"Probability of lockdown\")\n",
    "plt.title(\"Lockdown probability for lockdown triggered by \\n1000 infections observed in 14-day period \")"
   ]
  },
  {
   "cell_type": "code",
   "execution_count": 41,
   "metadata": {},
   "outputs": [
    {
     "data": {
      "text/plain": [
       "Text(0.5,1,'Average infections for lockdown triggered by \\n1000 infections observed in 14-day period')"
      ]
     },
     "execution_count": 41,
     "metadata": {},
     "output_type": "execute_result"
    },
    {
     "data": {
      "image/png": "[encoded data removed]",
      "text/plain": [
       "<matplotlib.figure.Figure at 0x7f0ecb668828>"
      ]
     },
     "metadata": {},
     "output_type": "display_data"
    }
   ],
   "source": [
    "plt.plot(mults, avg_infections)\n",
    "plt.xlabel(\"Contact matrix multiplier\")\n",
    "plt.ylabel(\"Average total infections\")\n",
    "plt.title(\"Average infections for lockdown triggered by \\n1000 infections observed in 14-day period\")"
   ]
  },
  {
   "cell_type": "code",
   "execution_count": null,
   "metadata": {
    "collapsed": true
   },
   "outputs": [],
   "source": []
  },
  {
   "cell_type": "code",
   "execution_count": null,
   "metadata": {
    "collapsed": true
   },
   "outputs": [],
   "source": []
  },
  {
   "cell_type": "code",
   "execution_count": 28,
   "metadata": {},
   "outputs": [
    {
     "data": {
      "text/plain": [
       "Text(0.5,1,'Lockdown probability for lockdown triggered by \\n1000 infections observed in 7-day period ')"
      ]
     },
     "execution_count": 28,
     "metadata": {},
     "output_type": "execute_result"
    },
    {
     "data": {
      "image/png": "[encoded data removed]",
      "text/plain": [
       "<matplotlib.figure.Figure at 0x7f0ef50a5eb8>"
      ]
     },
     "metadata": {},
     "output_type": "display_data"
    }
   ],
   "source": [
    "import matplotlib.pyplot as plt\n",
    "%matplotlib inline\n",
    "\n",
    "plt.plot(mults, [100 * l for l in avg_lockdowns])\n",
    "plt.xlabel(\"Contact matrix multiplier\")\n",
    "plt.ylabel(\"Probability of lockdown\")\n",
    "plt.title(\"Lockdown probability for lockdown triggered by \\n1000 infections observed in 7-day period \")"
   ]
  },
  {
   "cell_type": "code",
   "execution_count": 29,
   "metadata": {},
   "outputs": [
    {
     "data": {
      "text/plain": [
       "Text(0.5,1,'Lockdown probability for lockdown triggered by \\n1000 infections observed in 7-day period')"
      ]
     },
     "execution_count": 29,
     "metadata": {},
     "output_type": "execute_result"
    },
    {
     "data": {
      "image/png": "[encoded data removed]",
      "text/plain": [
       "<matplotlib.figure.Figure at 0x7f0ef510e208>"
      ]
     },
     "metadata": {},
     "output_type": "display_data"
    }
   ],
   "source": [
    "plt.plot(mults, avg_infections)\n",
    "plt.xlabel(\"Contact matrix multiplier\")\n",
    "plt.ylabel(\"Average total infections\")\n",
    "plt.title(\"Lockdown probability for lockdown triggered by \\n1000 infections observed in 7-day period\")"
   ]
  },
  {
   "cell_type": "code",
   "execution_count": null,
   "metadata": {
    "collapsed": true
   },
   "outputs": [],
   "source": []
  }
 ],
 "metadata": {
  "kernelspec": {
   "display_name": "IPython (Python 3)",
   "language": "python",
   "name": "python3"
  },
  "language_info": {
   "codemirror_mode": {
    "name": "ipython",
    "version": 3
   },
   "file_extension": ".py",
   "mimetype": "text/x-python",
   "name": "python",
   "nbconvert_exporter": "python",
   "pygments_lexer": "ipython3",
   "version": "3.6.2"
  }
 },
 "nbformat": 4,
 "nbformat_minor": 4
}
