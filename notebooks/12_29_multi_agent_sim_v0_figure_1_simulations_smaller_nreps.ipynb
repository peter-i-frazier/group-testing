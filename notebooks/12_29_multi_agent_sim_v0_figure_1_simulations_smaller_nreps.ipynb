{
 "cells": [
  {
   "cell_type": "code",
   "execution_count": 1,
   "metadata": {
    "collapsed": true
   },
   "outputs": [],
   "source": [
    "import sys\n",
    "import os\n",
    "import numpy as np\n",
    "module_path = os.path.abspath(os.path.join('..'))\n",
    "if module_path not in sys.path:\n",
    "    sys.path.append(module_path + \"/src/multi_agent_sim\")\n",
    "from multi_agent_sim import MultiAgentSim"
   ]
  },
  {
   "cell_type": "code",
   "execution_count": 2,
   "metadata": {
    "collapsed": true
   },
   "outputs": [],
   "source": [
    "\n",
    "social_network_params_high_var = {\n",
    "    'location_vec_dim': 2,\n",
    "    'network_gamma': 3,\n",
    "    'daily_contacts_distn_type': 'negative_binomial',\n",
    "    'neg_bin_r': 2,\n",
    "    'neg_bin_p_hyperparams': (2,3),\n",
    "}\n",
    "\n",
    "n_agents = 1000\n",
    "expected_total_outside_infs = 5\n",
    "time_horizon = 7 * 12\n",
    "main_params = {\n",
    "    'n_agents': n_agents,\n",
    "    'use_contact_tracing': True,\n",
    "    'use_adaptive_testing': True,\n",
    "    'use_surveillance_testing': True\n",
    "}\n",
    "\n",
    "infection_dynamics_params = {\n",
    "    'forward_gen_alpha': 8,\n",
    "    'forward_gen_beta_hyperparams': (5,5),\n",
    "    'detectability_curve_type': 'optimistic',\n",
    "    'self_reporting_multiplier': 0.8,\n",
    "    'self_reporting_delay': 3,\n",
    "    'init_infection_rate': 0,\n",
    "    'use_deterministic_infection_counts': True,\n",
    "    'outside_infection_rate': expected_total_outside_infs / (n_agents * time_horizon)\n",
    "}\n",
    "\n",
    "ct_params = {\n",
    "    'ct_recall_window': 8,\n",
    "    'ct_delay_distribution': [1/3,1/3,1/3], # uniform over 0, 1, 2 days delay\n",
    "    'ct_recall_rate': 0.5\n",
    "}\n",
    "\n",
    "at_params = {\n",
    "    'at_delay_distribution': [1/5] * 5,\n",
    "    'at_net_size_contact_multiplier': 10,\n",
    "    'at_recall_rate': 0.9\n",
    "}\n",
    "\n",
    "st_params = {\n",
    "    'st_testing_window': 3,\n",
    "    'st_missed_test_rate': 0.1\n",
    "}\n",
    "\n",
    "def init_high_var_sim(R0):\n",
    "    social_network_params_high_var['neg_bin_r'] = R0 / 0.9\n",
    "    return MultiAgentSim(main_params, infection_dynamics_params, social_network_params_high_var, \n",
    "                         ct_params, at_params, st_params)\n",
    "\n",
    "social_network_params_low_var = {\n",
    "    'location_vec_dim': 2,\n",
    "    'network_gamma': 3,\n",
    "    'daily_contacts_distn_type': 'negative_binomial',\n",
    "    'neg_bin_r': 2,\n",
    "    'neg_bin_p_hyperparams': (5,6),\n",
    "}\n",
    "\n",
    "def init_low_var_sim(R0):\n",
    "    social_network_params_low_var['neg_bin_r'] = R0 / 0.9\n",
    "    return MultiAgentSim(main_params, infection_dynamics_params, social_network_params_low_var, \n",
    "                         ct_params, at_params, st_params)"
   ]
  },
  {
   "cell_type": "code",
   "execution_count": 3,
   "metadata": {
    "collapsed": true
   },
   "outputs": [],
   "source": [
    "def sample_trajectory(R0, at_multiplier, st_testing_window, \n",
    "                      use_adaptive_testing = True, use_surveillance_testing = True):\n",
    "    st_params['st_testing_window'] = st_testing_window\n",
    "    at_params['at_net_size_contact_multiplier'] = at_multiplier\n",
    "    main_params['use_adaptive_testing'] = use_adaptive_testing\n",
    "    main_params['use_surveillance_testing'] = use_surveillance_testing\n",
    "    sim = init_low_var_sim(R0)\n",
    "    infection_counts = [len(sim.infection.get_cum_infected_agent_ids())]\n",
    "    init_infection_counts = infection_counts[0]\n",
    "    for _ in range(7*12):\n",
    "        sim.step()\n",
    "        infection_counts.append(len(sim.infection.get_cum_infected_agent_ids()))\n",
    "    total_tests = sim.get_total_tests()\n",
    "    return total_tests, infection_counts, init_infection_counts, infection_counts[-1]"
   ]
  },
  {
   "cell_type": "markdown",
   "metadata": {},
   "source": [
    "# Test the simulation runs"
   ]
  },
  {
   "cell_type": "code",
   "execution_count": 7,
   "metadata": {
    "collapsed": true
   },
   "outputs": [],
   "source": [
    "R0 = 4\n",
    "\n",
    "at_mult, st_window, use_at, use_st = (1, 7, False, True)\n",
    "results = [sample_trajectory(R0, at_mult, st_window, use_at, use_st) for _ in range(1)]"
   ]
  },
  {
   "cell_type": "code",
   "execution_count": 8,
   "metadata": {},
   "outputs": [
    {
     "data": {
      "text/plain": [
       "[(10767,\n",
       "  [0,\n",
       "   0,\n",
       "   0,\n",
       "   0,\n",
       "   0,\n",
       "   0,\n",
       "   0,\n",
       "   1,\n",
       "   1,\n",
       "   1,\n",
       "   1,\n",
       "   1,\n",
       "   1,\n",
       "   1,\n",
       "   1,\n",
       "   1,\n",
       "   1,\n",
       "   1,\n",
       "   1,\n",
       "   2,\n",
       "   2,\n",
       "   2,\n",
       "   2,\n",
       "   2,\n",
       "   2,\n",
       "   2,\n",
       "   2,\n",
       "   2,\n",
       "   2,\n",
       "   2,\n",
       "   2,\n",
       "   2,\n",
       "   2,\n",
       "   2,\n",
       "   2,\n",
       "   2,\n",
       "   2,\n",
       "   2,\n",
       "   2,\n",
       "   3,\n",
       "   3,\n",
       "   4,\n",
       "   4,\n",
       "   6,\n",
       "   7,\n",
       "   10,\n",
       "   14,\n",
       "   26,\n",
       "   31,\n",
       "   42,\n",
       "   49,\n",
       "   51,\n",
       "   57,\n",
       "   59,\n",
       "   62,\n",
       "   64,\n",
       "   64,\n",
       "   64,\n",
       "   64,\n",
       "   64,\n",
       "   64,\n",
       "   64,\n",
       "   64,\n",
       "   64,\n",
       "   64,\n",
       "   65,\n",
       "   65,\n",
       "   65,\n",
       "   65,\n",
       "   65,\n",
       "   66,\n",
       "   66,\n",
       "   68,\n",
       "   69,\n",
       "   69,\n",
       "   69,\n",
       "   69,\n",
       "   70,\n",
       "   70,\n",
       "   71,\n",
       "   71,\n",
       "   71,\n",
       "   74,\n",
       "   75,\n",
       "   75],\n",
       "  0,\n",
       "  75)]"
      ]
     },
     "execution_count": 8,
     "metadata": {},
     "output_type": "execute_result"
    }
   ],
   "source": [
    "results"
   ]
  },
  {
   "cell_type": "markdown",
   "metadata": {},
   "source": [
    "# Description:\n",
    "Have (maybe one or two) nominal adaptive testing protocol, and 1-2 nominal surveillance testing protocol, and 1-2 nominal contact trace only protocols, and simulate all of them over multiple R0 values, & record total infections as well as total test usage\n",
    "\n",
    "sample_trajectory (defined above) lets us sample a single trajectory for a particular value of at_multiplier, of st_testing_window"
   ]
  },
  {
   "cell_type": "code",
   "execution_count": null,
   "metadata": {
    "scrolled": true
   },
   "outputs": [
    {
     "name": "stdout",
     "output_type": "stream",
     "text": [
      "on R0 1\n",
      "\n",
      "on policy (8, 4, True, True)\n",
      "\n",
      "Timestamp: 2020-12-29 13:35:25.718955\n",
      "\n",
      "on policy (12, 7, True, True)\n",
      "\n",
      "Timestamp: 2020-12-29 13:36:01.649246\n",
      "\n",
      "on policy (1, 4, False, True)\n",
      "\n",
      "Timestamp: 2020-12-29 13:36:36.952087\n"
     ]
    }
   ],
   "source": [
    "R0s_to_try = [1, 1.5, 2, 2.5, 3]#, 3.5, 4]\n",
    "\n",
    "adaptive_test_policies = [(8, 4, True, True), \n",
    "                          #(8, 7, True, True), (12, 4, True, True), \n",
    "                          (12, 7, True, True)]\n",
    "no_use = 1\n",
    "surveillance_test_policies = [(no_use, 4, False, True), (no_use, 7, False, True)]\n",
    "contact_trace_policy = [(no_use, no_use, False, False)]\n",
    "\n",
    "all_policies = adaptive_test_policies + surveillance_test_policies + contact_trace_policy\n",
    "\n",
    "ntrajectories = 2\n",
    "\n",
    "sim_results = {}\n",
    "\n",
    "from datetime import datetime\n",
    "\n",
    "for R0 in R0s_to_try:\n",
    "    print(\"on R0 {}\\n\".format(R0))\n",
    "    for policy in all_policies:\n",
    "        at_mult, st_window, use_at, use_st = policy\n",
    "        print(\"on policy {}\\n\".format(policy))\n",
    "        print(\"Timestamp: {}\\n\".format(datetime.now()))\n",
    "        sim_results[(R0, policy)] = [sample_trajectory(R0, at_mult, st_window, use_at, use_st) for _ in range(ntrajectories)]\n"
   ]
  },
  {
   "cell_type": "code",
   "execution_count": 5,
   "metadata": {},
   "outputs": [
    {
     "data": {
      "text/plain": [
       "25"
      ]
     },
     "execution_count": 5,
     "metadata": {},
     "output_type": "execute_result"
    }
   ],
   "source": [
    "len(sim_results)"
   ]
  },
  {
   "cell_type": "markdown",
   "metadata": {
    "collapsed": true
   },
   "source": [
    "# Plot average infections"
   ]
  },
  {
   "cell_type": "code",
   "execution_count": 8,
   "metadata": {
    "scrolled": true
   },
   "outputs": [
    {
     "data": {
      "text/plain": [
       "(0,\n",
       " [0,\n",
       "  0,\n",
       "  0,\n",
       "  0,\n",
       "  0,\n",
       "  0,\n",
       "  0,\n",
       "  0,\n",
       "  0,\n",
       "  0,\n",
       "  0,\n",
       "  0,\n",
       "  0,\n",
       "  0,\n",
       "  1,\n",
       "  1,\n",
       "  2,\n",
       "  2,\n",
       "  3,\n",
       "  3,\n",
       "  5,\n",
       "  5,\n",
       "  6,\n",
       "  7,\n",
       "  9,\n",
       "  9,\n",
       "  13,\n",
       "  16,\n",
       "  23,\n",
       "  25,\n",
       "  27,\n",
       "  31,\n",
       "  35,\n",
       "  41,\n",
       "  45,\n",
       "  48,\n",
       "  54,\n",
       "  59,\n",
       "  63,\n",
       "  67,\n",
       "  72,\n",
       "  74,\n",
       "  77,\n",
       "  78,\n",
       "  81,\n",
       "  86,\n",
       "  92,\n",
       "  95,\n",
       "  99,\n",
       "  101,\n",
       "  107,\n",
       "  111,\n",
       "  116,\n",
       "  122,\n",
       "  133,\n",
       "  140,\n",
       "  147,\n",
       "  154,\n",
       "  159,\n",
       "  161,\n",
       "  162,\n",
       "  165,\n",
       "  167,\n",
       "  170,\n",
       "  170,\n",
       "  174,\n",
       "  176,\n",
       "  178,\n",
       "  178,\n",
       "  182,\n",
       "  184,\n",
       "  186,\n",
       "  188,\n",
       "  193,\n",
       "  206,\n",
       "  212,\n",
       "  213,\n",
       "  214,\n",
       "  216,\n",
       "  222,\n",
       "  223,\n",
       "  228,\n",
       "  229,\n",
       "  230,\n",
       "  232],\n",
       " 0,\n",
       " 232)"
      ]
     },
     "execution_count": 8,
     "metadata": {},
     "output_type": "execute_result"
    }
   ],
   "source": [
    "sim_results[(3, (1,1,False,False))][0]"
   ]
  },
  {
   "cell_type": "code",
   "execution_count": 9,
   "metadata": {
    "collapsed": true
   },
   "outputs": [],
   "source": [
    "avg_infxns_by_policy = {policy:[] for policy in all_policies}\n",
    "\n",
    "for policy in all_policies:\n",
    "    for R0 in R0s_to_try:\n",
    "        avg_infxns = np.mean([r[-1] for r in sim_results[(R0, policy)]])\n",
    "        avg_infxns_by_policy[policy].append(avg_infxns)"
   ]
  },
  {
   "cell_type": "code",
   "execution_count": 10,
   "metadata": {},
   "outputs": [
    {
     "data": {
      "text/plain": [
       "[(8, 4, True, True),\n",
       " (12, 7, True, True),\n",
       " (1, 4, False, True),\n",
       " (1, 7, False, True),\n",
       " (1, 1, False, False)]"
      ]
     },
     "execution_count": 10,
     "metadata": {},
     "output_type": "execute_result"
    }
   ],
   "source": [
    "all_policies"
   ]
  },
  {
   "cell_type": "code",
   "execution_count": 11,
   "metadata": {},
   "outputs": [
    {
     "data": {
      "image/png": "[encoded data removed]",
      "text/plain": [
       "<matplotlib.figure.Figure at 0x7f551e672cf8>"
      ]
     },
     "metadata": {},
     "output_type": "display_data"
    }
   ],
   "source": [
    "import matplotlib.pyplot as plt\n",
    "%matplotlib inline\n",
    "\n",
    "policy_names = {\n",
    "    (8,4,True,True): \"Adaptive + Surveillance Testing 1\",\n",
    "    (12,7,True,True): \"Adaptive + Surveillance Testing 2\",\n",
    "    (1,4, False, True): \"Surveillance Testing 1\",\n",
    "    (1,7,False, True): \"Surveillance Testing 2\",\n",
    "    (1,1,False,False): \"Contact Tracing Only\"\n",
    "}\n",
    "\n",
    "plt.figure(figsize=(10,6))\n",
    "\n",
    "for policy in all_policies:\n",
    "    plt.plot(R0s_to_try, avg_infxns_by_policy[policy], label=policy_names[policy])\n",
    "\n",
    "plt.legend(loc='best')\n",
    "plt.show()"
   ]
  },
  {
   "cell_type": "markdown",
   "metadata": {},
   "source": [
    "# Plot test usage"
   ]
  },
  {
   "cell_type": "code",
   "execution_count": 1,
   "metadata": {},
   "outputs": [
    {
     "ename": "NameError",
     "evalue": "name 'all_policies' is not defined",
     "output_type": "error",
     "traceback": [
      "\u001b[0;31m---------------------------------------------------------------------------\u001b[0m",
      "\u001b[0;31mNameError\u001b[0m                                 Traceback (most recent call last)",
      "\u001b[0;32m<ipython-input-1-3b1db5065753>\u001b[0m in \u001b[0;36m<module>\u001b[0;34m()\u001b[0m\n\u001b[0;32m----> 1\u001b[0;31m \u001b[0mavg_test_usage_by_policy\u001b[0m \u001b[0;34m=\u001b[0m \u001b[0;34m{\u001b[0m\u001b[0mpolicy\u001b[0m\u001b[0;34m:\u001b[0m\u001b[0;34m[\u001b[0m\u001b[0;34m]\u001b[0m \u001b[0;32mfor\u001b[0m \u001b[0mpolicy\u001b[0m \u001b[0;32min\u001b[0m \u001b[0mall_policies\u001b[0m\u001b[0;34m}\u001b[0m\u001b[0;34m\u001b[0m\u001b[0m\n\u001b[0m\u001b[1;32m      2\u001b[0m \u001b[0;34m\u001b[0m\u001b[0m\n\u001b[1;32m      3\u001b[0m \u001b[0;32mfor\u001b[0m \u001b[0mpolicy\u001b[0m \u001b[0;32min\u001b[0m \u001b[0mall_policies\u001b[0m\u001b[0;34m:\u001b[0m\u001b[0;34m\u001b[0m\u001b[0m\n\u001b[1;32m      4\u001b[0m     \u001b[0;32mfor\u001b[0m \u001b[0mR0\u001b[0m \u001b[0;32min\u001b[0m \u001b[0mR0s_to_try\u001b[0m\u001b[0;34m:\u001b[0m\u001b[0;34m\u001b[0m\u001b[0m\n\u001b[1;32m      5\u001b[0m         \u001b[0mavg_tests\u001b[0m \u001b[0;34m=\u001b[0m \u001b[0mnp\u001b[0m\u001b[0;34m.\u001b[0m\u001b[0mmean\u001b[0m\u001b[0;34m(\u001b[0m\u001b[0;34m[\u001b[0m\u001b[0mr\u001b[0m\u001b[0;34m[\u001b[0m\u001b[0;36m0\u001b[0m\u001b[0;34m]\u001b[0m \u001b[0;32mfor\u001b[0m \u001b[0mr\u001b[0m \u001b[0;32min\u001b[0m \u001b[0msim_results\u001b[0m\u001b[0;34m[\u001b[0m\u001b[0;34m(\u001b[0m\u001b[0mR0\u001b[0m\u001b[0;34m,\u001b[0m \u001b[0mpolicy\u001b[0m\u001b[0;34m)\u001b[0m\u001b[0;34m]\u001b[0m\u001b[0;34m]\u001b[0m\u001b[0;34m)\u001b[0m\u001b[0;34m\u001b[0m\u001b[0m\n",
      "\u001b[0;31mNameError\u001b[0m: name 'all_policies' is not defined"
     ]
    }
   ],
   "source": [
    "avg_test_usage_by_policy = {policy:[] for policy in all_policies}\n",
    "\n",
    "for policy in all_policies:\n",
    "    for R0 in R0s_to_try:\n",
    "        avg_tests = np.mean([r[0] for r in sim_results[(R0, policy)]])\n",
    "        avg_test_usage_by_policy[policy].append(avg_tests)"
   ]
  },
  {
   "cell_type": "code",
   "execution_count": 2,
   "metadata": {},
   "outputs": [
    {
     "ename": "NameError",
     "evalue": "name 'plt' is not defined",
     "output_type": "error",
     "traceback": [
      "\u001b[0;31m---------------------------------------------------------------------------\u001b[0m",
      "\u001b[0;31mNameError\u001b[0m                                 Traceback (most recent call last)",
      "\u001b[0;32m<ipython-input-2-c51c61b958cd>\u001b[0m in \u001b[0;36m<module>\u001b[0;34m()\u001b[0m\n\u001b[0;32m----> 1\u001b[0;31m \u001b[0mplt\u001b[0m\u001b[0;34m.\u001b[0m\u001b[0mfigure\u001b[0m\u001b[0;34m(\u001b[0m\u001b[0mfigsize\u001b[0m\u001b[0;34m=\u001b[0m\u001b[0;34m(\u001b[0m\u001b[0;36m10\u001b[0m\u001b[0;34m,\u001b[0m\u001b[0;36m6\u001b[0m\u001b[0;34m)\u001b[0m\u001b[0;34m)\u001b[0m\u001b[0;34m\u001b[0m\u001b[0m\n\u001b[0m\u001b[1;32m      2\u001b[0m \u001b[0;34m\u001b[0m\u001b[0m\n\u001b[1;32m      3\u001b[0m \u001b[0;32mfor\u001b[0m \u001b[0mpolicy\u001b[0m \u001b[0;32min\u001b[0m \u001b[0mall_policies\u001b[0m\u001b[0;34m:\u001b[0m\u001b[0;34m\u001b[0m\u001b[0m\n\u001b[1;32m      4\u001b[0m     \u001b[0mplt\u001b[0m\u001b[0;34m.\u001b[0m\u001b[0mplot\u001b[0m\u001b[0;34m(\u001b[0m\u001b[0mR0s_to_try\u001b[0m\u001b[0;34m,\u001b[0m \u001b[0mavg_test_usage_by_policy\u001b[0m\u001b[0;34m[\u001b[0m\u001b[0mpolicy\u001b[0m\u001b[0;34m]\u001b[0m\u001b[0;34m,\u001b[0m \u001b[0mlabel\u001b[0m\u001b[0;34m=\u001b[0m\u001b[0mpolicy_names\u001b[0m\u001b[0;34m[\u001b[0m\u001b[0mpolicy\u001b[0m\u001b[0;34m]\u001b[0m\u001b[0;34m)\u001b[0m\u001b[0;34m\u001b[0m\u001b[0m\n\u001b[1;32m      5\u001b[0m \u001b[0;34m\u001b[0m\u001b[0m\n",
      "\u001b[0;31mNameError\u001b[0m: name 'plt' is not defined"
     ]
    }
   ],
   "source": [
    "plt.figure(figsize=(10,6))\n",
    "\n",
    "for policy in all_policies:\n",
    "    plt.plot(R0s_to_try, avg_test_usage_by_policy[policy], label=policy_names[policy])\n",
    "\n",
    "plt.legend(loc='best')\n",
    "plt.show()"
   ]
  },
  {
   "cell_type": "code",
   "execution_count": null,
   "metadata": {
    "collapsed": true
   },
   "outputs": [],
   "source": []
  }
 ],
 "metadata": {
  "kernelspec": {
   "display_name": "Python 3",
   "language": "python",
   "name": "python3"
  },
  "language_info": {
   "codemirror_mode": {
    "name": "ipython",
    "version": 3
   },
   "file_extension": ".py",
   "mimetype": "text/x-python",
   "name": "python",
   "nbconvert_exporter": "python",
   "pygments_lexer": "ipython3",
   "version": "3.6.3"
  }
 },
 "nbformat": 4,
 "nbformat_minor": 2
}
