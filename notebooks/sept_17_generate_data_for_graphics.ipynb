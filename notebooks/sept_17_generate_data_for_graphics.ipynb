{
 "cells": [
  {
   "cell_type": "code",
   "execution_count": 1,
   "metadata": {},
   "outputs": [],
   "source": [
    "import sys\n",
    "import os\n",
    "import numpy as np\n",
    "module_path = os.path.abspath(os.path.join('..'))\n",
    "if module_path not in sys.path:\n",
    "    sys.path.append(module_path + \"/src/agent_based_sim\")\n",
    "from multi_agent_sim import MultiAgentSim"
   ]
  },
  {
   "cell_type": "code",
   "execution_count": 15,
   "metadata": {
    "collapsed": true
   },
   "outputs": [],
   "source": [
    "sim = MultiAgentSim(n_agents=100, init_infection_p = 0.02, record_dataset=True)"
   ]
  },
  {
   "cell_type": "code",
   "execution_count": 16,
   "metadata": {
    "collapsed": true
   },
   "outputs": [],
   "source": [
    "for _ in range(20):\n",
    "    sim.step()"
   ]
  },
  {
   "cell_type": "code",
   "execution_count": 17,
   "metadata": {},
   "outputs": [
    {
     "data": {
      "text/plain": [
       "{0: {29: {46, 59, 91}, 42: {43, 91, 94}, 44: {31}},\n",
       " 1: {29: {18, 41, 42, 69, 78, 99},\n",
       "  42: {20, 22, 49, 56, 74, 98},\n",
       "  44: {66, 92, 99}},\n",
       " 2: {29: {27, 31, 71, 73, 78}, 42: {13, 28, 34, 80}, 44: set()},\n",
       " 3: {29: {7, 11, 17, 21, 24, 32, 34, 38, 39, 48, 59, 67, 69, 71, 72, 78, 96},\n",
       "  42: {49},\n",
       "  44: {6, 33, 49, 52}},\n",
       " 4: {29: {2, 3, 4, 27, 41, 42, 45, 48, 62, 78}, 42: set(), 44: {71, 78}},\n",
       " 5: {27: {28}, 44: {17}, 71: {80}},\n",
       " 6: {27: {5, 39, 73, 85}, 71: {28, 52}},\n",
       " 7: {27: {17}, 71: {57}},\n",
       " 8: {},\n",
       " 9: {},\n",
       " 10: {},\n",
       " 11: {},\n",
       " 12: {},\n",
       " 13: {},\n",
       " 14: {},\n",
       " 15: {},\n",
       " 16: {},\n",
       " 17: {},\n",
       " 18: {},\n",
       " 19: {}}"
      ]
     },
     "execution_count": 17,
     "metadata": {},
     "output_type": "execute_result"
    }
   ],
   "source": [
    "sim.recorded_contacts"
   ]
  },
  {
   "cell_type": "code",
   "execution_count": 18,
   "metadata": {
    "scrolled": false
   },
   "outputs": [
    {
     "data": {
      "text/plain": [
       "{0: {},\n",
       " 1: {},\n",
       " 2: {},\n",
       " 3: {},\n",
       " 4: {},\n",
       " 5: {29: True, 42: True},\n",
       " 6: {29: True, 42: True, 44: True},\n",
       " 7: {29: True, 42: True, 44: True},\n",
       " 8: {27: True, 29: True, 42: True, 44: True, 71: True},\n",
       " 9: {27: True, 29: True, 42: True, 44: True, 71: True},\n",
       " 10: {27: True, 29: True, 42: True, 44: True, 71: True},\n",
       " 11: {27: True, 29: True, 42: True, 44: True, 71: True},\n",
       " 12: {27: True, 29: True, 42: True, 44: True, 71: True},\n",
       " 13: {27: True, 29: True, 42: True, 44: True, 71: True},\n",
       " 14: {27: True, 29: True, 42: True, 44: True, 71: True},\n",
       " 15: {27: True, 29: True, 42: True, 44: True, 71: True},\n",
       " 16: {27: True, 29: True, 42: True, 44: True, 71: True},\n",
       " 17: {27: True, 29: True, 42: True, 44: True, 71: True},\n",
       " 18: {27: True, 29: True, 42: True, 44: True, 71: True},\n",
       " 19: {27: True, 29: True, 42: True, 44: True, 71: True}}"
      ]
     },
     "execution_count": 18,
     "metadata": {},
     "output_type": "execute_result"
    }
   ],
   "source": [
    "sim.recorded_isolation_statuses"
   ]
  },
  {
   "cell_type": "code",
   "execution_count": null,
   "metadata": {
    "collapsed": true
   },
   "outputs": [],
   "source": [
    "def run_trajectories(nb_r_multiplier, nreps=5, max_infections=200, \n",
    "                     use_testing=True, use_contact_trace=True, use_adaptive_testing=True):\n",
    "\n",
    "    T = 12 * 7\n",
    "    max_infections = 200\n",
    "    infection_counts = {}\n",
    "    for rep in range(nreps):\n",
    "        sim = MultiAgentSim(n_agents=1000, init_infection_p = 0.005, nb_r_multiplier = nb_r_multiplier,\n",
    "                           use_contact_trace=use_contact_trace, use_testing=use_testing,\n",
    "                           use_adaptive_testing=use_adaptive_testing)\n",
    "        infection_counts[rep] = [len(sim.get_infected_agents())]\n",
    "        for t in range(T):\n",
    "            sim.step()\n",
    "            infection_counts[rep].append(len(sim.get_infected_agents()))\n",
    "            if infection_counts[rep][-1] >= max_infections:\n",
    "                break\n",
    "        print(\"done rep # {}\".format(rep))\n",
    "    return infection_counts"
   ]
  }
 ],
 "metadata": {
  "kernelspec": {
   "display_name": "Python 3",
   "language": "python",
   "name": "python3"
  },
  "language_info": {
   "codemirror_mode": {
    "name": "ipython",
    "version": 3
   },
   "file_extension": ".py",
   "mimetype": "text/x-python",
   "name": "python",
   "nbconvert_exporter": "python",
   "pygments_lexer": "ipython3",
   "version": "3.6.3"
  }
 },
 "nbformat": 4,
 "nbformat_minor": 2
}
