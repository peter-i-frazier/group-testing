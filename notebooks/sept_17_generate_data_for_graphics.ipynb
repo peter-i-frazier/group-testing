{
 "cells": [
  {
   "cell_type": "code",
   "execution_count": null,
   "metadata": {},
   "outputs": [],
   "source": [
    "import sys\n",
    "import os\n",
    "import numpy as np\n",
    "module_path = os.path.abspath(os.path.join('..'))\n",
    "if module_path not in sys.path:\n",
    "    sys.path.append(module_path + \"/src/agent_based_sim\")\n",
    "from multi_agent_sim import MultiAgentSim"
   ]
  },
  {
   "cell_type": "code",
   "execution_count": null,
   "metadata": {},
   "outputs": [],
   "source": [
    "sim = MultiAgentSim(n_agents=1000, init_infection_p = 0.02, record_dataset=True, contact_tracing_recall_rate=0.5,\n",
    "                   use_norm_over_innerprod=True, agent_dimensionality=True, normalize_agent_vector=False)"
   ]
  },
  {
   "cell_type": "code",
   "execution_count": null,
   "metadata": {},
   "outputs": [],
   "source": [
    "for _ in range(20):\n",
    "    sim.step()"
   ]
  },
  {
   "cell_type": "code",
   "execution_count": 14,
   "metadata": {},
   "outputs": [
    {
     "data": {
      "text/plain": [
       "0.5"
      ]
     },
     "execution_count": 14,
     "metadata": {},
     "output_type": "execute_result"
    }
   ],
   "source": [
    "sim.testing.contact_trace_recall_rate"
   ]
  },
  {
   "cell_type": "code",
   "execution_count": 15,
   "metadata": {},
   "outputs": [
    {
     "data": {
      "text/plain": [
       "{0: {6: {38, 54, 71, 83, 85, 94}, 7: {17, 39, 45, 91}, 73: {25, 26, 78, 87}},\n",
       " 1: {6: {51}, 7: {40, 42, 47, 64, 72, 92}, 73: {15, 28, 90, 96}},\n",
       " 2: {6: {35, 82, 91, 97}, 7: {29, 39, 59}, 73: {21, 76, 88}},\n",
       " 3: {6: {38, 58, 69, 82, 93}, 7: set(), 73: {51, 59, 92}},\n",
       " 4: {6: set(), 7: {17, 24, 46, 66}, 73: {45}},\n",
       " 5: {7: set(), 73: {47, 69}},\n",
       " 6: {7: {16, 34, 39, 61, 62}, 73: {19}},\n",
       " 7: {7: {33}, 34: {12}, 39: set(), 73: {70}},\n",
       " 8: {7: {0, 1, 8, 25, 28, 34, 57, 72, 82, 92},\n",
       "  34: {20, 31, 76, 95},\n",
       "  39: {20},\n",
       "  70: {61, 79, 85, 98},\n",
       "  73: {11, 18, 28, 69}},\n",
       " 9: {7: {5, 10, 14, 19, 54, 61, 74, 90, 97},\n",
       "  34: {11, 95},\n",
       "  39: set(),\n",
       "  57: set(),\n",
       "  70: {9, 43, 49},\n",
       "  73: {54, 68, 69, 87}},\n",
       " 10: {7: {38, 84},\n",
       "  19: {22, 57, 60, 64, 91},\n",
       "  34: {59},\n",
       "  39: set(),\n",
       "  54: {5, 19, 57, 68, 80, 91, 96},\n",
       "  57: {7, 30, 49, 60, 62, 81},\n",
       "  70: {31, 34},\n",
       "  73: {18, 25, 45, 47, 50, 65, 88}},\n",
       " 11: {7: {16, 32, 65, 74, 78, 92},\n",
       "  19: {36},\n",
       "  39: set(),\n",
       "  54: {46},\n",
       "  57: {41, 63},\n",
       "  70: {14, 22, 23, 25, 32, 33, 37, 38, 45, 57, 86, 92},\n",
       "  73: {12, 30, 49, 59, 61, 63, 72, 77, 87, 88}},\n",
       " 12: {19: set(), 37: {85}, 57: set(), 70: {60}, 77: {13, 72, 82}},\n",
       " 13: {37: {41, 65}, 77: set()},\n",
       " 14: {37: {28, 48, 82, 99}, 77: set()},\n",
       " 15: {37: {83, 86}},\n",
       " 16: {37: {52, 67}},\n",
       " 17: {37: {78, 84}},\n",
       " 18: {57: set()},\n",
       " 19: {57: set()}}"
      ]
     },
     "execution_count": 15,
     "metadata": {},
     "output_type": "execute_result"
    }
   ],
   "source": [
    "sim.recorded_contacts"
   ]
  },
  {
   "cell_type": "code",
   "execution_count": 10,
   "metadata": {
    "scrolled": false
   },
   "outputs": [
    {
     "data": {
      "text/plain": [
       "{0: {},\n",
       " 1: {},\n",
       " 2: {},\n",
       " 3: {},\n",
       " 4: {27: True, 28: True, 34: True, 62: True, 66: True, 84: True},\n",
       " 5: {27: True, 28: True, 84: True},\n",
       " 6: {2: True,\n",
       "  8: True,\n",
       "  15: True,\n",
       "  28: True,\n",
       "  30: True,\n",
       "  31: True,\n",
       "  32: True,\n",
       "  33: True,\n",
       "  40: True,\n",
       "  53: True,\n",
       "  66: True,\n",
       "  69: True,\n",
       "  72: True,\n",
       "  73: True,\n",
       "  79: True,\n",
       "  84: True,\n",
       "  86: True,\n",
       "  88: True},\n",
       " 7: {28: True, 30: True, 32: True, 33: True, 40: True, 84: True, 86: True},\n",
       " 8: {5: True,\n",
       "  14: True,\n",
       "  27: True,\n",
       "  28: True,\n",
       "  40: True,\n",
       "  62: True,\n",
       "  63: True,\n",
       "  66: True,\n",
       "  80: True,\n",
       "  84: True,\n",
       "  86: True},\n",
       " 9: {5: True, 27: True, 28: True, 40: True, 62: True, 84: True, 86: True},\n",
       " 10: {28: True,\n",
       "  32: True,\n",
       "  33: True,\n",
       "  40: True,\n",
       "  44: True,\n",
       "  61: True,\n",
       "  69: True,\n",
       "  72: True,\n",
       "  78: True,\n",
       "  84: True,\n",
       "  86: True},\n",
       " 11: {2: True,\n",
       "  3: True,\n",
       "  8: True,\n",
       "  11: True,\n",
       "  16: True,\n",
       "  27: True,\n",
       "  28: True,\n",
       "  40: True,\n",
       "  46: True,\n",
       "  49: True,\n",
       "  59: True,\n",
       "  66: True,\n",
       "  80: True,\n",
       "  81: True,\n",
       "  84: True,\n",
       "  86: True,\n",
       "  88: True},\n",
       " 12: {28: True, 40: True, 49: True, 81: True, 84: True, 86: True, 88: True},\n",
       " 13: {8: True,\n",
       "  28: True,\n",
       "  33: True,\n",
       "  40: True,\n",
       "  72: True,\n",
       "  75: True,\n",
       "  84: True,\n",
       "  86: True,\n",
       "  93: True},\n",
       " 14: {3: True,\n",
       "  11: True,\n",
       "  28: True,\n",
       "  40: True,\n",
       "  44: True,\n",
       "  55: True,\n",
       "  62: True,\n",
       "  63: True,\n",
       "  66: True,\n",
       "  80: True,\n",
       "  84: True,\n",
       "  86: True},\n",
       " 15: {28: True, 40: True, 55: True, 62: True, 80: True, 84: True, 86: True},\n",
       " 16: {28: True, 40: True, 84: True, 86: True},\n",
       " 17: {28: True, 40: True, 75: True, 84: True, 86: True},\n",
       " 18: {28: True, 40: True, 84: True, 86: True},\n",
       " 19: {28: True, 40: True, 84: True, 86: True}}"
      ]
     },
     "execution_count": 10,
     "metadata": {},
     "output_type": "execute_result"
    }
   ],
   "source": [
    "sim.recorded_isolation_statuses"
   ]
  },
  {
   "cell_type": "code",
   "execution_count": null,
   "metadata": {
    "collapsed": true
   },
   "outputs": [],
   "source": [
    "def run_trajectories(nb_r_multiplier, nreps=5, max_infections=200, \n",
    "                     use_testing=True, use_contact_trace=True, use_adaptive_testing=True):\n",
    "\n",
    "    T = 12 * 7\n",
    "    max_infections = 200\n",
    "    infection_counts = {}\n",
    "    for rep in range(nreps):\n",
    "        sim = MultiAgentSim(n_agents=1000, init_infection_p = 0.005, nb_r_multiplier = nb_r_multiplier,\n",
    "                           use_contact_trace=use_contact_trace, use_testing=use_testing,\n",
    "                           use_adaptive_testing=use_adaptive_testing)\n",
    "        infection_counts[rep] = [len(sim.get_infected_agents())]\n",
    "        for t in range(T):\n",
    "            sim.step()\n",
    "            infection_counts[rep].append(len(sim.get_infected_agents()))\n",
    "            if infection_counts[rep][-1] >= max_infections:\n",
    "                break\n",
    "        print(\"done rep # {}\".format(rep))\n",
    "    return infection_counts"
   ]
  }
 ],
 "metadata": {
  "kernelspec": {
   "display_name": "Python 3",
   "language": "python",
   "name": "python3"
  }
 },
 "nbformat": 4,
 "nbformat_minor": 2
}
