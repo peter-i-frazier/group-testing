{
 "cells": [
  {
   "cell_type": "code",
   "execution_count": 1,
   "metadata": {
    "collapsed": true
   },
   "outputs": [],
   "source": [
    "import sys\n",
    "import os\n",
    "import numpy as np\n",
    "import multiprocessing\n",
    "import dill\n",
    "import matplotlib.pyplot as plt\n",
    "import pandas as pd\n",
    "\n",
    "module_path = os.path.abspath(os.path.join('..'))\n",
    "if module_path not in sys.path:\n",
    "    sys.path.append(module_path + \"/src/simulations_v2\")\n",
    "from load_params import load_params\n",
    "\n",
    "from multi_group_simulation import MultiGroupSimulation"
   ]
  },
  {
   "cell_type": "code",
   "execution_count": 2,
   "metadata": {
    "collapsed": true
   },
   "outputs": [],
   "source": [
    "ug_dorm_params = load_params('../src/simulations_v2/params/baseline_testing/steady_state/nominal/ug_dorm.yaml')[1]\n",
    "ug_off_campus_params = load_params('../src/simulations_v2/params/baseline_testing/steady_state/nominal/ug_off_campus.yaml')[1]\n",
    "gs_research_params = load_params('../src/simulations_v2/params/baseline_testing/steady_state/nominal/grad_research.yaml')[1]\n",
    "gs_other_params = load_params('../src/simulations_v2/params/baseline_testing/steady_state/nominal/grad_other.yaml')[1]\n",
    "faculty_staff_student_params = load_params('../src/simulations_v2/params/baseline_testing/steady_state/nominal/faculty_staff_student_same_age.yaml')[1]\n",
    "faculty_staff_non_student_params = load_params('../src/simulations_v2/params/baseline_testing/steady_state/nominal/faculty_staff_non_student_same_age.yaml')[1]\n",
    "faculty_staff_off_campus_params = load_params('../src/simulations_v2/params/baseline_testing/steady_state/nominal/faculty_staff_off_campus_same_age.yaml')[1]\n",
    "ithaca_community_params = load_params('../src/simulations_v2/params/baseline_testing/steady_state/nominal/ithaca_community.yaml')[1]"
   ]
  },
  {
   "cell_type": "code",
   "execution_count": null,
   "metadata": {
    "collapsed": true
   },
   "outputs": [],
   "source": []
  }
 ],
 "metadata": {
  "kernelspec": {
   "display_name": "Python 3",
   "language": "python",
   "name": "python3"
  },
  "language_info": {
   "codemirror_mode": {
    "name": "ipython",
    "version": 3
   },
   "file_extension": ".py",
   "mimetype": "text/x-python",
   "name": "python",
   "nbconvert_exporter": "python",
   "pygments_lexer": "ipython3",
   "version": "3.6.3"
  }
 },
 "nbformat": 4,
 "nbformat_minor": 2
}
