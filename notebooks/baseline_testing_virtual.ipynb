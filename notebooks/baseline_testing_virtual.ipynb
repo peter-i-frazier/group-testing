{
 "cells": [
  {
   "cell_type": "markdown",
   "metadata": {},
   "source": [
    "# Notebook for running multi-group sim with 8 groups for Cornell re-open"
   ]
  },
  {
   "cell_type": "code",
   "execution_count": 1,
   "metadata": {},
   "outputs": [],
   "source": [
    "import sys\n",
    "import os\n",
    "import numpy as np\n",
    "import multiprocessing\n",
    "import dill\n",
    "import matplotlib.pyplot as plt\n",
    "import pandas as pd\n",
    "\n",
    "module_path = os.path.abspath(os.path.join('..'))\n",
    "if module_path not in sys.path:\n",
    "    sys.path.append(module_path + \"/src/simulations_v2\")\n",
    "from load_params import load_params\n",
    "\n",
    "from multi_group_simulation import MultiGroupSimulation"
   ]
  },
  {
   "cell_type": "markdown",
   "metadata": {},
   "source": [
    "## Importing Params, setting up group sim"
   ]
  },
  {
   "cell_type": "code",
   "execution_count": 2,
   "metadata": {},
   "outputs": [
    {
     "name": "stderr",
     "output_type": "stream",
     "text": [
      "/Users/stevewangen/projects/COVID/uw_reopening/src/simulations_v2/load_params.py:132: YAMLLoadWarning: calling yaml.load() without Loader=... is deprecated, as the default Loader is unsafe. Please read https://msg.pyyaml.org/load for full details.\n",
      "  params = yaml.load(f)\n",
      "/Users/stevewangen/projects/COVID/uw_reopening/src/simulations_v2/load_params.py:46: YAMLLoadWarning: calling yaml.load() without Loader=... is deprecated, as the default Loader is unsafe. Please read https://msg.pyyaml.org/load for full details.\n",
      "  age_sev_params = yaml.load(f)\n"
     ]
    }
   ],
   "source": [
    "# ug_dorm_params = load_params('../src/simulations_v2/params/baseline_testing/virtual_instruction/ug_dorm_virtual.yaml')[1]\n",
    "# ug_off_campus_params = load_params('../src/simulations_v2/params/baseline_testing/virtual_instruction/ug_off_campus_virtual.yaml')[1]\n",
    "gs_research_params = load_params('../src/simulations_v2/params/baseline_testing/virtual_instruction/grad_research_virtual.yaml')[1]\n",
    "# gs_other_params = load_params('../src/simulations_v2/params/baseline_testing/virtual_instruction/grad_other_virtual.yaml')[1]\n",
    "faculty_staff_student_params = load_params('../src/simulations_v2/params/baseline_testing/virtual_instruction/faculty_staff_student_same_age_virtual.yaml')[1]\n",
    "faculty_staff_non_student_params = load_params('../src/simulations_v2/params/baseline_testing/virtual_instruction/faculty_staff_non_student_same_age_virtual.yaml')[1]\n",
    "faculty_staff_off_campus_params = load_params('../src/simulations_v2/params/baseline_testing/virtual_instruction/faculty_staff_off_campus_same_age_virtual.yaml')[1]\n",
    "ithaca_community_params = load_params('../src/simulations_v2/params/baseline_testing/virtual_instruction/ithaca_community_virtual.yaml')[1]\n",
    "\n",
    "\n",
    "ug_off_campus_unmonitored_params = load_params('../src/simulations_v2/params/baseline_testing/virtual_instruction/ug_off_campus_unmonitored_virtual.yaml')[1]\n",
    "ug_off_campus_compliant_params = load_params('../src/simulations_v2/params/baseline_testing/virtual_instruction/ug_off_campus_compliant_virtual.yaml')[1]\n",
    "gs_other_unmonitored_params = load_params('../src/simulations_v2/params/baseline_testing/virtual_instruction/grad_other_unmonitored_virtual.yaml')[1]\n",
    "gs_other_compliant_params = load_params('../src/simulations_v2/params/baseline_testing/virtual_instruction/grad_other_compliant_virtual.yaml')[1]\n",
    "\n",
    "\n",
    "\n"
   ]
  },
  {
   "cell_type": "code",
   "execution_count": 3,
   "metadata": {},
   "outputs": [],
   "source": [
    "# interaction_matrix = np.array([[0.0,0.0,0.0,0.0,0.0,0.0,0.0,0.0],\n",
    "#                                [0.00,8,0.1,0.1,0.05,0.05,0.05,1],\n",
    "#                                [0.00,0.22,4,0.1,1.2,0.05,0.2,1.8],\n",
    "#                                [0.00,0.24,0.11,7,0.05,0.05,0.05,1.8],\n",
    "#                                [0.00,0.05,0.53,0.02,1,0.15,0.3,1.56],\n",
    "#                                [0.00,0.09,0.04,0.04,0.28,1.8,0.2,1.56],\n",
    "#                                [0.00,0.04,0.07,0.02,0.23,0.08,1.8,1.56],\n",
    "#                                [0.000,0.056,0.046,0.042,0.091,0.048,0.12,3.5]])\n",
    "\n",
    "# UG 11.41, GS 9\n",
    "interaction_matrix = np.array([[9.128, 2.282, 0.1, 0.1, 0.1, 0.05, 0.05, 0.05, 1],\n",
    "                               [9.128, 2.282, 0.1, 0.1, 0.1, 0.05, 0.05, 0.05, 1],\n",
    "                               [0.17, 0.0435, 4, 0.1, 0.1, 1.2, 0.05, 0.2, 1.8],\n",
    "                               [0.19, 0.05, 0.11, 7.2, 1.8, 0.05, 0.05, 0.05, 1],\n",
    "                               [0.19, 0.05, 0.11, 7.2, 1.8, 0.05, 0.05, 0.05, 1],\n",
    "                               [0.04, 0.01, 0.53, 0.02, 0.00, 1, 0.15, 0.3, 1.56],\n",
    "                               [0.07, 0.02, 0.04, 0.03, 0.01, 0.28, 1.8, 0.2, 1.56],\n",
    "                               [0.03, 0.01, 0.07, 0.01, 0.00, 0.23, 0.08, 1.8, 1.56],\n",
    "                               [0.045, 0.011, 0.046, 0.034, 0.008, 0.091, 0.048, 0.12, 3.5]\n",
    "                              ])\n",
    "# UG 11.0814, GS 8.7408\n",
    "# interaction_matrix = np.array([[8.8651, 2.2163, 0.1, 0.1, 0.1, 0.05, 0.05, 0.05, 1],\n",
    "#                                [8.8651, 2.2163, 0.1, 0.1, 0.1, 0.05, 0.05, 0.05, 1],\n",
    "#                                [0.17, 0.0435, 4, 0.1, 0.1, 1.2, 0.05, 0.2, 1.8],\n",
    "#                                [0.19, 0.05, 0.11, 6.9926, 1.7482, 0.05, 0.05, 0.05, 1],\n",
    "#                                [0.19, 0.05, 0.11, 6.9926, 1.7482, 0.05, 0.05, 0.05, 1],\n",
    "#                                [0.04, 0.01, 0.53, 0.02, 0.00, 1, 0.15, 0.3, 1.56],\n",
    "#                                [0.07, 0.02, 0.04, 0.03, 0.01, 0.28, 1.8, 0.2, 1.56],\n",
    "#                                [0.03, 0.01, 0.07, 0.01, 0.00, 0.23, 0.08, 1.8, 1.56],\n",
    "#                                [0.045, 0.011, 0.046, 0.034, 0.008, 0.091, 0.048, 0.12, 3.5]\n",
    "#                               ])\n",
    "\n",
    "# group_names = ['UG (campus)', 'UG (off campus)', 'GS (research)', 'GS (other)', 'Faculty/Staff (student facing)', 'Faculty/Staff (non student facing)', 'Faculty/Staff (off campus)', 'Ithaca Community']\n",
    "group_names = ['UGlow unmonitored', 'UGlow compiant' 'GSresearch', 'GSclass unmonitored', 'GSclass compliant', 'FSstudent', 'FSnostudent', 'FSoff', 'Ithaca']\n",
    "\n"
   ]
  },
  {
   "cell_type": "code",
   "execution_count": 4,
   "metadata": {},
   "outputs": [],
   "source": [
    "def get_cum_hosp(df):\n",
    "    return df[['severity_3', 'severity_2']].iloc[df.shape[0] - 1].sum()\n",
    "\n",
    "def get_cum_outside_infections(df):\n",
    "    return df['cumulative_outside_infections'].iloc[df.shape[0] - 1].sum()\n",
    "\n",
    "def get_cum_infections(df):\n",
    "    return df[['cumulative_mild', 'cumulative_severe']].iloc[df.shape[0] - 1].sum()\n",
    "\n",
    "def total_infections(list_sim_dfs):\n",
    "    total = 0\n",
    "    for sim_df in list_sim_dfs:\n",
    "        total += get_cum_infections(sim_df)\n",
    "    return total\n",
    "\n",
    "def total_hosp(list_sim_dfs):\n",
    "    total = 0\n",
    "    for sim_df in list_sim_dfs:\n",
    "        total += get_cum_hosp(sim_df)\n",
    "    return total\n",
    "\n",
    "def cornell_infections(list_sim_dfs):\n",
    "    total = 0\n",
    "    for sim_df in list_sim_dfs[:-1]:\n",
    "        total += get_cum_infections(sim_df)\n",
    "    return total\n",
    "\n",
    "def cornell_hosp(list_sim_dfs):\n",
    "    total = 0\n",
    "    for sim_df in list_sim_dfs[:-1]:\n",
    "        total += get_cum_hosp(sim_df)\n",
    "    return total"
   ]
  },
  {
   "cell_type": "code",
   "execution_count": 5,
   "metadata": {},
   "outputs": [],
   "source": [
    "def run_multigroup_sim(sim, T):\n",
    "    sim.run_new_trajectory(112)\n",
    "    inf_list = list()\n",
    "    hosp_list = list()\n",
    "    for group in sim.sims:\n",
    "        df = group.sim_df\n",
    "        inf_list.append(get_cum_infections(df))\n",
    "        hosp_list.append(get_cum_hosp(df))\n",
    "    return inf_list, hosp_list\n",
    "\n",
    "def run_multiple_trajectories(sim, T, n):\n",
    "    inf_matrix = list()\n",
    "    hosp_matrix = list()\n",
    "    for _ in range(n):\n",
    "        result = run_multigroup_sim(sim, T)\n",
    "        inf_matrix.append(result[0])\n",
    "        hosp_matrix.append(result[1])\n",
    "    return inf_matrix, hosp_matrix"
   ]
  },
  {
   "cell_type": "code",
   "execution_count": 6,
   "metadata": {},
   "outputs": [],
   "source": [
    "def evaluate_testing_policy(params_list, interaction_matrix, group_names, test_frac, T, n):\n",
    "    assert len(params_list) == len(test_frac)\n",
    "    \n",
    "    group_size = list()\n",
    "    tests_per_day = 0\n",
    "    \n",
    "    # set group based contacts per day, test frequency\n",
    "    for index, params in enumerate(params_list):\n",
    "        params['expected_contacts_per_day'] = interaction_matrix[index, index]\n",
    "        params['test_population_fraction'] = test_frac[index]\n",
    "        group_size.append(params['population_size'])\n",
    "        tests_per_day += group_size[-1] * test_frac[index]\n",
    "    \n",
    "    assert len(group_size) == len(test_frac)\n",
    "    \n",
    "    sim = MultiGroupSimulation(params_list, interaction_matrix, group_names)\n",
    "    inf_matrix, hosp_matrix = run_multiple_trajectories(sim, T, n)\n",
    "    return tests_per_day, inf_matrix, hosp_matrix"
   ]
  },
  {
   "cell_type": "code",
   "execution_count": 7,
   "metadata": {},
   "outputs": [],
   "source": [
    "def generate_plotting_matrix(results_list):\n",
    "    daily_tests = list()\n",
    "    inf = list()\n",
    "    inf_low = list()\n",
    "    inf_high = list()\n",
    "    hosp = list()\n",
    "    hosp_low = list()\n",
    "    hosp_high = list()\n",
    "    cornell_inf = list()\n",
    "    cornell_inf_low = list()\n",
    "    cornell_inf_high = list()\n",
    "    cornell_hosp = list()\n",
    "    cornell_hosp_low = list()\n",
    "    cornell_hosp_high = list()\n",
    "    ithaca_inf = list()\n",
    "    \n",
    "    ithaca_inf_low = list()\n",
    "    ithaca_inf_high = list()\n",
    "    ithaca_hosp = list()\n",
    "    ithaca_hosp_low = list()\n",
    "    ithaca_hosp_high = list()\n",
    "\n",
    "\n",
    "    policy_ug_off_campus_unmonitored = list()\n",
    "    policy_ug_off_campus_compliant = list()\n",
    "    policy_grad_research = list()\n",
    "    policy_grad_other_unmonitored = list()\n",
    "    policy_grad_other_compliant = list()\n",
    "    policy_staff_student = list()\n",
    "    policy_staff_non_student = list()\n",
    "    policy_staff_off_campus = list()\n",
    "    \n",
    "    policies = list()\n",
    "    \n",
    "    for policy_dict in results_list:\n",
    "        daily_tests.append(policy_dict['tests_per_day'])\n",
    "        inf.append(np.quantile(np.sum(policy_dict['inf_matrix'], axis=1), 0.5, axis=0))\n",
    "        inf_low.append(np.quantile(np.sum(policy_dict['inf_matrix'], axis=1), 0.1, axis=0))\n",
    "        inf_high.append(np.quantile(np.sum(policy_dict['inf_matrix'], axis=1), 0.9, axis=0))\n",
    "        hosp.append(np.quantile(np.sum(policy_dict['hosp_matrix'], axis=1), 0.5, axis=0))\n",
    "        hosp_low.append(np.quantile(np.sum(policy_dict['hosp_matrix'], axis=1), 0.1, axis=0))\n",
    "        hosp_high.append(np.quantile(np.sum(policy_dict['hosp_matrix'], axis=1), 0.9, axis=0))\n",
    "        \n",
    "       \n",
    "\n",
    "        cornell_inf.append(np.quantile(np.sum(np.array(policy_dict['inf_matrix'])[:,:-1], axis=1), 0.5, axis=0))\n",
    "        cornell_inf_low.append(np.quantile(np.sum(np.array(policy_dict['inf_matrix'])[:,:-1], axis=1), 0.1, axis=0))\n",
    "        cornell_inf_high.append(np.quantile(np.sum(np.array(policy_dict['inf_matrix'])[:,:-1], axis=1), 0.9, axis=0))\n",
    "        cornell_hosp.append(np.quantile(np.sum(np.array(policy_dict['hosp_matrix'])[:,:-1], axis=1), 0.5, axis=0))\n",
    "        cornell_hosp_low.append(np.quantile(np.sum(np.array(policy_dict['hosp_matrix'])[:,:-1], axis=1), 0.1, axis=0))\n",
    "        cornell_hosp_high.append(np.quantile(np.sum(np.array(policy_dict['hosp_matrix'])[:,:-1], axis=1), 0.9, axis=0))\n",
    "        \n",
    "        \n",
    "        \n",
    "        ithaca_inf.append(np.quantile(np.sum(np.array(policy_dict['inf_matrix'])[:,-1][:,None], axis=1), 0.5, axis=0))\n",
    "        ithaca_inf_low.append(np.quantile(np.sum(np.array(policy_dict['inf_matrix'])[:,-1][:,None], axis=1), 0.1, axis=0))\n",
    "        ithaca_inf_high.append(np.quantile(np.sum(np.array(policy_dict['inf_matrix'])[:,-1][:,None], axis=1), 0.9, axis=0))\n",
    "        ithaca_hosp.append(np.quantile(np.sum(np.array(policy_dict['hosp_matrix'])[:,-1][:,None], axis=1), 0.5, axis=0))\n",
    "        ithaca_hosp_low.append(np.quantile(np.sum(np.array(policy_dict['hosp_matrix'])[:,-1][:,None], axis=1), 0.1, axis=0))\n",
    "        ithaca_hosp_high.append(np.quantile(np.sum(np.array(policy_dict['hosp_matrix'])[:,-1][:,None], axis=1), 0.9, axis=0))\n",
    "        \n",
    "        policy_ug_off_campus_unmonitored.append(int(policy_dict['test_policy'][0]*7))\n",
    "        policy_ug_off_campus_compliant.append(int(policy_dict['test_policy'][1]*7))\n",
    "        policy_grad_research.append(int(policy_dict['test_policy'][2]*7))\n",
    "        policy_grad_other_unmonitored.append(int(policy_dict['test_policy'][3]*7))\n",
    "        policy_grad_other_compliant.append(int(policy_dict['test_policy'][4]*7))\n",
    "        policy_staff_student.append(int(policy_dict['test_policy'][5]*7))\n",
    "        policy_staff_non_student.append(int(policy_dict['test_policy'][6]*7))\n",
    "        policy_staff_off_campus.append(policy_dict['test_policy'][7]*7)\n",
    "              \n",
    "        \n",
    "        test_policy_string = '['\n",
    "        for frequency in policy_dict['test_policy'][:-2]:\n",
    "            test_policy_string += str(int(frequency * 7)) + ','\n",
    "        test_policy_string += str(np.round(policy[-2] * 7, 2))\n",
    "        test_policy_string += ']'\n",
    "        policies.append(test_policy_string)\n",
    "        \n",
    "    plotting_data = pd.DataFrame({'daily_tests': daily_tests, 'inf': inf, 'inf_low': inf_low, 'inf_high': inf_high, 'hosp': hosp,\n",
    "                  'hosp_low': hosp_low, 'hosp_high': hosp_high, 'cornell_inf': cornell_inf, 'cornell_inf_low': cornell_inf_low,\n",
    "                  'cornell_inf_high': cornell_inf_high, 'cornell_hosp': cornell_hosp, 'cornell_hosp_low': cornell_hosp_low,\n",
    "                  'cornell_hosp_high': cornell_hosp_high,'ithaca_inf': ithaca_inf, 'ithaca_inf_low': ithaca_inf_low,\n",
    "                  'ithaca_inf_high': ithaca_inf_high, 'ithaca_hosp': ithaca_hosp, 'ithaca_hosp_low': ithaca_hosp_low,\n",
    "                  'ithaca_hosp_high': ithaca_hosp_high,\n",
    "                                  \n",
    "                  'test_policy_ug_off_campus_unmonitored': policy_ug_off_campus_unmonitored,\n",
    "                  'test_policy_ug_off_campus_compliant': policy_ug_off_campus_compliant,               \n",
    "                  'test_policy_grad_research': policy_grad_research, \n",
    "                  'test_policy_grad_other_unmonitored': policy_grad_other_unmonitored,\n",
    "                  'test_policy_grad_other_compliant': policy_grad_other_compliant,               \n",
    "                  'test_policy_staff_student': policy_staff_student,\n",
    "                  'test_policy_staff_non_student': policy_staff_non_student,\n",
    "                  'test_policy_staff_off_campus': policy_staff_off_campus,\n",
    "                  'test_policy': policies})\n",
    "\n",
    "    \n",
    "    plotting_data['inf_yerr_low'] = plotting_data['inf'] - plotting_data['inf_low']\n",
    "    plotting_data['inf_yerr_high'] = plotting_data['inf_high'] - plotting_data['inf']\n",
    "    plotting_data['hosp_yerr_low'] = plotting_data['hosp'] - plotting_data['hosp_low']\n",
    "    plotting_data['hosp_yerr_high'] = plotting_data['hosp_high'] - plotting_data['hosp']\n",
    "    \n",
    "    plotting_data['cornell_inf_yerr_low'] = plotting_data['cornell_inf'] - plotting_data['cornell_inf_low']\n",
    "    plotting_data['cornell_inf_yerr_high'] = plotting_data['cornell_inf_high'] - plotting_data['cornell_inf']\n",
    "    plotting_data['cornell_hosp_yerr_low'] = plotting_data['cornell_hosp'] - plotting_data['cornell_hosp_low']\n",
    "    plotting_data['cornell_hosp_yerr_high'] = plotting_data['cornell_hosp_high'] - plotting_data['cornell_hosp']\n",
    "    \n",
    "    plotting_data['ithaca_inf_yerr_low'] = plotting_data['ithaca_inf'] - plotting_data['ithaca_inf_low']\n",
    "    plotting_data['ithaca_inf_yerr_high'] = plotting_data['ithaca_inf_high'] - plotting_data['ithaca_inf']\n",
    "    plotting_data['ithaca_hosp_yerr_low'] = plotting_data['ithaca_hosp'] - plotting_data['ithaca_hosp_low']\n",
    "    plotting_data['ithaca_hosp_yerr_high'] = plotting_data['ithaca_hosp_high'] - plotting_data['ithaca_hosp']\n",
    "    \n",
    "    return plotting_data"
   ]
  },
  {
   "cell_type": "code",
   "execution_count": 8,
   "metadata": {},
   "outputs": [],
   "source": [
    "def plot_policy_performance(plotting_data):\n",
    "    fig = plt.figure(figsize=(10,6))\n",
    "    ax = fig.add_subplot(111)\n",
    "    plt.errorbar(x='daily_tests', y='inf', yerr = [plotting_data.head(9)['inf_yerr_low'],plotting_data.head(9)['inf_yerr_high']], fmt='o', data=plotting_data.head(9), label='baseline')\n",
    "    plt.title('Infections vs. Daily tests for various policies')\n",
    "    plt.ylabel('Infections')\n",
    "    plt.xlabel('Daily Tests')\n",
    "    plt.legend()\n",
    "    plt.show()\n",
    "\n",
    "    plt.figure(figsize=(10,6))\n",
    "    plt.errorbar(x='daily_tests', y='hosp', yerr = [plotting_data.head(9)['hosp_yerr_low'],plotting_data.head(9)['hosp_yerr_high']], fmt='o', data=plotting_data.head(9), label='baseline')\n",
    "    plt.title('Hospitalizations vs. Daily tests for various policies')\n",
    "    plt.ylabel('Hospitalizations')\n",
    "    plt.xlabel('Daily Tests')\n",
    "    plt.legend()\n",
    "    plt.show()\n",
    "\n",
    "    plt.figure(figsize=(10,6))\n",
    "    plt.errorbar(x='daily_tests', y='cornell_inf', yerr = [plotting_data.head(9)['cornell_inf_yerr_low'],plotting_data.head(9)['cornell_inf_yerr_high']], fmt='o', data=plotting_data.head(9), label='baseline')\n",
    "    plt.title('Cornell Infections vs. Daily tests for various policies')\n",
    "    plt.ylabel('Cornell Infections')\n",
    "    plt.xlabel('Daily Tests')\n",
    "    plt.legend()\n",
    "    plt.show()\n",
    "\n",
    "\n",
    "    plt.figure(figsize=(10,6))\n",
    "    plt.errorbar(x='daily_tests', y='cornell_hosp', yerr = [plotting_data.head(9)['cornell_hosp_yerr_low'],plotting_data.head(9)['cornell_hosp_yerr_high']], fmt='o', data=plotting_data.head(9), label='baseline')\n",
    "    plt.title('Cornell Hospitalizations vs. Daily tests for various policies')\n",
    "    plt.ylabel('Cornell Hospitalizations')\n",
    "    plt.xlabel('Daily Tests')\n",
    "    plt.legend()\n",
    "    plt.show()\n",
    "    \n",
    "    \n",
    "    plt.figure(figsize=(10,6))\n",
    "    plt.errorbar(x='daily_tests', y='ithaca_inf', yerr = [plotting_data.head(9)['ithaca_inf_yerr_low'],plotting_data.head(9)['ithaca_inf_yerr_high']], fmt='o', data=plotting_data.head(9), label='baseline')\n",
    "    plt.title('Great Ithaca Infections vs. Daily tests for various policies')\n",
    "    plt.ylabel('Great Ithaca Infections')\n",
    "    plt.xlabel('Daily Tests')\n",
    "    plt.legend()\n",
    "    plt.show()\n",
    "\n",
    "\n",
    "    plt.figure(figsize=(10,6))\n",
    "    plt.errorbar(x='daily_tests', y='ithaca_hosp', yerr = [plotting_data.head(9)['ithaca_hosp_yerr_low'],plotting_data.head(9)['ithaca_hosp_yerr_high']], fmt='o', data=plotting_data.head(9), label='baseline')\n",
    "    plt.title('Great Ithaca Hospitalizations vs. Daily tests for various policies')\n",
    "    plt.ylabel('Great Ithaca Hospitalizations')\n",
    "    plt.xlabel('Daily Tests')\n",
    "    plt.legend()\n",
    "    plt.show()"
   ]
  },
  {
   "cell_type": "markdown",
   "metadata": {},
   "source": [
    "## Testing evaluate_testing_policy "
   ]
  },
  {
   "cell_type": "code",
   "execution_count": 60,
   "metadata": {},
   "outputs": [],
   "source": [
    "# testing_results = list()\n",
    "# for policy in [[0, 2/7,1/7,0,2/7, 1/7,1/7,1/30, 0]]:\n",
    "#     print('Evaluating this policy: ', policy)\n",
    "#     params_list = [ug_off_campus_unmonitored_params.copy(), ug_off_campus_compliant_params.copy(), gs_research_params.copy(), gs_other_unmonitored_params.copy(), gs_other_compliant_params.copy(), faculty_staff_student_params.copy(), faculty_staff_non_student_params.copy(), faculty_staff_off_campus_params.copy(), ithaca_community_params.copy()]\n",
    "#     tests_per_day, inf_matrix, hosp_matrix = evaluate_testing_policy(params_list, interaction_matrix, group_names, policy, 112, 5)    \n",
    "#     testing_results.append({'test_policy': policy, 'tests_per_day': tests_per_day, 'inf_matrix': inf_matrix, 'hosp_matrix': hosp_matrix})"
   ]
  },
  {
   "cell_type": "code",
   "execution_count": 61,
   "metadata": {},
   "outputs": [],
   "source": [
    "# plotting_data = generate_plotting_matrix(testing_results)\n",
    "# plotting_data"
   ]
  },
  {
   "cell_type": "code",
   "execution_count": 62,
   "metadata": {},
   "outputs": [],
   "source": [
    "# plot_policy_performance(plotting_data)"
   ]
  },
  {
   "cell_type": "code",
   "execution_count": null,
   "metadata": {},
   "outputs": [],
   "source": []
  },
  {
   "cell_type": "code",
   "execution_count": null,
   "metadata": {},
   "outputs": [],
   "source": []
  },
  {
   "cell_type": "code",
   "execution_count": null,
   "metadata": {},
   "outputs": [],
   "source": []
  },
  {
   "cell_type": "code",
   "execution_count": null,
   "metadata": {},
   "outputs": [],
   "source": []
  },
  {
   "cell_type": "code",
   "execution_count": null,
   "metadata": {},
   "outputs": [],
   "source": []
  },
  {
   "cell_type": "code",
   "execution_count": null,
   "metadata": {},
   "outputs": [],
   "source": []
  },
  {
   "cell_type": "code",
   "execution_count": null,
   "metadata": {},
   "outputs": [],
   "source": []
  },
  {
   "cell_type": "code",
   "execution_count": null,
   "metadata": {},
   "outputs": [],
   "source": []
  },
  {
   "cell_type": "code",
   "execution_count": null,
   "metadata": {},
   "outputs": [],
   "source": []
  },
  {
   "cell_type": "code",
   "execution_count": null,
   "metadata": {},
   "outputs": [],
   "source": []
  },
  {
   "cell_type": "markdown",
   "metadata": {},
   "source": [
    "## Virtual (change contact rate for unmonitored * 0.9712)"
   ]
  },
  {
   "cell_type": "code",
   "execution_count": 338,
   "metadata": {},
   "outputs": [
    {
     "name": "stdout",
     "output_type": "stream",
     "text": [
      "Evaluating this policy:  [0, 0.2857142857142857, 0.14285714285714285, 0, 0.2857142857142857, 0.2857142857142857, 0.14285714285714285, 0.03333333333333333, 0]\n"
     ]
    }
   ],
   "source": [
    "limited_policies = [[0, 2/7,1/7,0,2/7, 2/7,1/7,1/30, 0]]\n",
    "\n",
    "interaction_matrix_v3 = np.array([[8.8651, 2.2163, 0.1, 0.1, 0.1, 0.05, 0.05, 0.05, 1],\n",
    "                                [8.8651, 2.2163, 0.1, 0.1, 0.1, 0.05, 0.05, 0.05, 1],\n",
    "                                [0.17, 0.0435, 4, 0.1, 0.1, 1.2, 0.05, 0.2, 1.8],\n",
    "                                [0.19, 0.05, 0.11, 6.9926, 1.7482, 0.05, 0.05, 0.05, 1],\n",
    "                                [0.19, 0.05, 0.11, 6.9926, 1.7482, 0.05, 0.05, 0.05, 1],\n",
    "                                [0.04, 0.01, 0.53, 0.02, 0.00, 1, 0.15, 0.3, 1.56],\n",
    "                                [0.07, 0.02, 0.04, 0.03, 0.01, 0.28, 1.8, 0.2, 1.56],\n",
    "                                [0.03, 0.01, 0.07, 0.01, 0.00, 0.23, 0.08, 1.8, 1.56],\n",
    "                                [0.045, 0.011, 0.046, 0.034, 0.008, 0.091, 0.048, 0.12, 3.5]\n",
    "                               ])\n",
    "\n",
    "virtual_2 = list()\n",
    "\n",
    "for policy in limited_policies:\n",
    "    print('Evaluating this policy: ', policy)\n",
    "#     params_list = [ug_dorm_params.copy(), ug_off_campus_params.copy(), gs_research_params.copy(), gs_other_params.copy(), faculty_staff_student_params.copy(), faculty_staff_non_student_params.copy(), faculty_staff_off_campus_params.copy(), ithaca_community_params.copy()]\n",
    "    params_list = [ug_off_campus_unmonitored_params.copy(), ug_off_campus_compliant_params.copy(), gs_research_params.copy(), gs_other_unmonitored_params.copy(), gs_other_compliant_params.copy(), faculty_staff_student_params.copy(), faculty_staff_non_student_params.copy(), faculty_staff_off_campus_params.copy(), ithaca_community_params.copy()]\n",
    "    tests_per_day, inf_matrix, hosp_matrix = evaluate_testing_policy(params_list, interaction_matrix_v3, group_names, policy, 112, 50)\n",
    "    virtual_2.append({'test_policy': policy, 'tests_per_day': tests_per_day, 'inf_matrix': inf_matrix, 'hosp_matrix': hosp_matrix})"
   ]
  },
  {
   "cell_type": "code",
   "execution_count": 339,
   "metadata": {},
   "outputs": [],
   "source": [
    "plotting_data_2 = generate_plotting_matrix(virtual_2)"
   ]
  },
  {
   "cell_type": "code",
   "execution_count": 234,
   "metadata": {},
   "outputs": [],
   "source": [
    "# plot_policy_performance(plotting_data_2)"
   ]
  },
  {
   "cell_type": "code",
   "execution_count": 297,
   "metadata": {},
   "outputs": [],
   "source": [
    "# virtual_2"
   ]
  },
  {
   "cell_type": "code",
   "execution_count": null,
   "metadata": {},
   "outputs": [],
   "source": []
  },
  {
   "cell_type": "markdown",
   "metadata": {},
   "source": [
    "## Virtual, less compliant (change contact rate for unmonitored * 1.0629)"
   ]
  },
  {
   "cell_type": "code",
   "execution_count": 340,
   "metadata": {},
   "outputs": [
    {
     "name": "stdout",
     "output_type": "stream",
     "text": [
      "Evaluating this policy:  [0, 0.2857142857142857, 0.14285714285714285, 0, 0.2857142857142857, 0.2857142857142857, 0.14285714285714285, 0.03333333333333333, 0]\n"
     ]
    }
   ],
   "source": [
    "limited_policies = [[0, 2/7,1/7,0,2/7, 2/7,1/7,1/30, 0]]\n",
    "\n",
    "interaction_matrix_v4 = np.array([[9.7022, 2.4255, 0.1, 0.1, 0.1, 0.05, 0.05, 0.05, 1],\n",
    "                                [9.7022, 2.4255, 0.1, 0.1, 0.1, 0.05, 0.05, 0.05, 1],\n",
    "                                [0.17, 0.0435, 4, 0.1, 0.1, 1.2, 0.05, 0.2, 1.8],\n",
    "                                [0.19, 0.05, 0.11, 7.6529, 1.9132, 0.05, 0.05, 0.05, 1],\n",
    "                                [0.19, 0.05, 0.11, 7.6529, 1.9132, 0.05, 0.05, 0.05, 1],\n",
    "                                [0.04, 0.01, 0.53, 0.02, 0.00, 1, 0.15, 0.3, 1.56],\n",
    "                                [0.07, 0.02, 0.04, 0.03, 0.01, 0.28, 1.8, 0.2, 1.56],\n",
    "                                [0.03, 0.01, 0.07, 0.01, 0.00, 0.23, 0.08, 1.8, 1.56],\n",
    "                                [0.045, 0.011, 0.046, 0.034, 0.008, 0.091, 0.048, 0.12, 3.5]\n",
    "                               ])\n",
    "\n",
    "virtual_3 = list()\n",
    "\n",
    "for policy in limited_policies:\n",
    "    print('Evaluating this policy: ', policy)\n",
    "#     params_list = [ug_dorm_params.copy(), ug_off_campus_params.copy(), gs_research_params.copy(), gs_other_params.copy(), faculty_staff_student_params.copy(), faculty_staff_non_student_params.copy(), faculty_staff_off_campus_params.copy(), ithaca_community_params.copy()]\n",
    "    params_list = [ug_off_campus_unmonitored_params.copy(), ug_off_campus_compliant_params.copy(), gs_research_params.copy(), gs_other_unmonitored_params.copy(), gs_other_compliant_params.copy(), faculty_staff_student_params.copy(), faculty_staff_non_student_params.copy(), faculty_staff_off_campus_params.copy(), ithaca_community_params.copy()]\n",
    "    tests_per_day, inf_matrix, hosp_matrix = evaluate_testing_policy(params_list, interaction_matrix_v4, group_names, policy, 112, 50)\n",
    "    virtual_3.append({'test_policy': policy, 'tests_per_day': tests_per_day, 'inf_matrix': inf_matrix, 'hosp_matrix': hosp_matrix})"
   ]
  },
  {
   "cell_type": "code",
   "execution_count": 341,
   "metadata": {},
   "outputs": [],
   "source": [
    "plotting_data_3 = generate_plotting_matrix(virtual_3)"
   ]
  },
  {
   "cell_type": "code",
   "execution_count": 233,
   "metadata": {},
   "outputs": [],
   "source": [
    "# plot_policy_performance(plotting_data_3)"
   ]
  },
  {
   "cell_type": "code",
   "execution_count": 298,
   "metadata": {},
   "outputs": [],
   "source": [
    "# virtual_3"
   ]
  },
  {
   "cell_type": "code",
   "execution_count": null,
   "metadata": {},
   "outputs": [],
   "source": []
  },
  {
   "cell_type": "code",
   "execution_count": null,
   "metadata": {},
   "outputs": [],
   "source": []
  },
  {
   "cell_type": "markdown",
   "metadata": {},
   "source": [
    "## Residential"
   ]
  },
  {
   "cell_type": "code",
   "execution_count": 242,
   "metadata": {},
   "outputs": [],
   "source": [
    "ug_dorm_params = load_params('../src/simulations_v2/params/baseline_testing/august_5/ug_dorm.yaml')[1]\n",
    "ug_off_campus_params = load_params('../src/simulations_v2/params/baseline_testing/august_5/ug_off_campus.yaml')[1]\n",
    "gs_research_params = load_params('../src/simulations_v2/params/baseline_testing/august_5/grad_research.yaml')[1]\n",
    "gs_other_params = load_params('../src/simulations_v2/params/baseline_testing/august_5/grad_other.yaml')[1]\n",
    "faculty_staff_student_params = load_params('../src/simulations_v2/params/baseline_testing/august_5/faculty_staff_student_same_age.yaml')[1]\n",
    "faculty_staff_non_student_params = load_params('../src/simulations_v2/params/baseline_testing/august_5/faculty_staff_non_student_same_age.yaml')[1]\n",
    "faculty_staff_off_campus_params = load_params('../src/simulations_v2/params/baseline_testing/august_5/faculty_staff_off_campus_same_age.yaml')[1]\n",
    "ithaca_community_params = load_params('../src/simulations_v2/params/baseline_testing/august_5/ithaca_community.yaml')[1]"
   ]
  },
  {
   "cell_type": "code",
   "execution_count": 243,
   "metadata": {},
   "outputs": [],
   "source": [
    "limited_policies = [[2/7,2/7,1/7,2/7,2/7,1/7,1/30,0]]\n",
    "\n",
    "interaction_matrix_v5 = np.array([[12.5,4,0.1,0.1,1,0.05,0.05,0.1],\n",
    "                               [3.41,8,0.1,0.1,1,0.05,0.05,0.2],\n",
    "                               [0.19,0.22,4,0.1,1.2,0.05,0.2,1.8],\n",
    "                               [0.14,0.17,0.07,9,1,0.05,0.05,0.2],\n",
    "                               [1.92,2.26,1.22,1.37,1,0.15,0.3,1.56],\n",
    "                               [0.18,0.21,0.1,0.13,0.28,1.8,0.2,1.56],\n",
    "                               [0.07,0.09,0.15,0.05,0.23,0.08,1.8,1.56],\n",
    "                               [0.011,0.026,0.106,0.016,0.091,0.048,0.12,3.5]])\n",
    "\n",
    "group_names = ['UG (campus)', 'UG (off campus)', 'GS (research)', 'GS (other)', 'Faculty/Staff (student facing)', 'Faculty/Staff (non student facing)', 'Faculty/Staff (off campus)', 'Ithaca Community']"
   ]
  },
  {
   "cell_type": "code",
   "execution_count": 244,
   "metadata": {},
   "outputs": [
    {
     "name": "stdout",
     "output_type": "stream",
     "text": [
      "Evaluating this policy:  [0.2857142857142857, 0.2857142857142857, 0.14285714285714285, 0.2857142857142857, 0.14285714285714285, 0.14285714285714285, 0.03333333333333333, 0]\n"
     ]
    }
   ],
   "source": [
    "inperson_1 = list()\n",
    "for policy in limited_policies:\n",
    "    print('Evaluating this policy: ', policy)\n",
    "    params_list = [ug_dorm_params.copy(), ug_off_campus_params.copy(), gs_research_params.copy(), gs_other_params.copy(), faculty_staff_student_params.copy(), faculty_staff_non_student_params.copy(), faculty_staff_off_campus_params.copy(), ithaca_community_params.copy()]\n",
    "    tests_per_day, inf_matrix, hosp_matrix = evaluate_testing_policy(params_list, interaction_matrix_v5, group_names, policy, 112, 50)\n",
    "    inperson_1.append({'test_policy': policy, 'tests_per_day': tests_per_day, 'inf_matrix': inf_matrix, 'hosp_matrix': hosp_matrix})"
   ]
  },
  {
   "cell_type": "code",
   "execution_count": 245,
   "metadata": {},
   "outputs": [],
   "source": [
    "plotting_data_4 = generate_plotting_matrix(inperson_1)"
   ]
  },
  {
   "cell_type": "code",
   "execution_count": 232,
   "metadata": {},
   "outputs": [],
   "source": [
    "# plot_policy_performance(plotting_data_4)"
   ]
  },
  {
   "cell_type": "code",
   "execution_count": 299,
   "metadata": {},
   "outputs": [],
   "source": [
    "# inperson_1"
   ]
  },
  {
   "cell_type": "code",
   "execution_count": null,
   "metadata": {},
   "outputs": [],
   "source": []
  },
  {
   "cell_type": "code",
   "execution_count": null,
   "metadata": {},
   "outputs": [],
   "source": []
  },
  {
   "cell_type": "markdown",
   "metadata": {},
   "source": [
    "## Residential, less compliant (residential * 1.2143)"
   ]
  },
  {
   "cell_type": "code",
   "execution_count": 246,
   "metadata": {},
   "outputs": [],
   "source": [
    "interaction_matrix_v6 = np.array([[15.1788,4.8572,0.1,0.1,1,0.05,0.05,0.1],\n",
    "                               [4.14,9.7144,0.1,0.1,1,0.05,0.05,0.2],\n",
    "                               [0.19,0.22,4,0.1,1.2,0.05,0.2,1.8],\n",
    "                               [0.14,0.17,0.07,10.9287,1,0.05,0.05,0.2],\n",
    "                               [1.92,2.26,1.22,1.37,1,0.15,0.3,1.56],\n",
    "                               [0.18,0.21,0.1,0.13,0.28,1.8,0.2,1.56],\n",
    "                               [0.07,0.09,0.15,0.05,0.23,0.08,1.8,1.56],\n",
    "                               [0.011,0.026,0.106,0.016,0.091,0.048,0.12,3.5]])\n",
    "\n",
    "group_names = ['UG (campus)', 'UG (off campus)', 'GS (research)', 'GS (other)', 'Faculty/Staff (student facing)', 'Faculty/Staff (non student facing)', 'Faculty/Staff (off campus)', 'Ithaca Community']"
   ]
  },
  {
   "cell_type": "code",
   "execution_count": 247,
   "metadata": {},
   "outputs": [
    {
     "name": "stdout",
     "output_type": "stream",
     "text": [
      "Evaluating this policy:  [0.2857142857142857, 0.2857142857142857, 0.14285714285714285, 0.2857142857142857, 0.14285714285714285, 0.14285714285714285, 0.03333333333333333, 0]\n"
     ]
    }
   ],
   "source": [
    "inperson_2 = list()\n",
    "for policy in [[2/7,2/7,1/7,2/7,2/7,1/7,1/30,0]]:\n",
    "    print('Evaluating this policy: ', policy)\n",
    "    params_list = [ug_dorm_params.copy(), ug_off_campus_params.copy(), gs_research_params.copy(), gs_other_params.copy(), faculty_staff_student_params.copy(), faculty_staff_non_student_params.copy(), faculty_staff_off_campus_params.copy(), ithaca_community_params.copy()]\n",
    "    tests_per_day, inf_matrix, hosp_matrix = evaluate_testing_policy(params_list, interaction_matrix_v6, group_names, policy, 112, 50)\n",
    "    inperson_2.append({'test_policy': policy, 'tests_per_day': tests_per_day, 'inf_matrix': inf_matrix, 'hosp_matrix': hosp_matrix})"
   ]
  },
  {
   "cell_type": "code",
   "execution_count": 248,
   "metadata": {},
   "outputs": [],
   "source": [
    "plotting_data_5 = generate_plotting_matrix(inperson_2)"
   ]
  },
  {
   "cell_type": "code",
   "execution_count": 231,
   "metadata": {},
   "outputs": [],
   "source": [
    "# plot_policy_performance(plotting_data_5)"
   ]
  },
  {
   "cell_type": "code",
   "execution_count": null,
   "metadata": {},
   "outputs": [],
   "source": []
  },
  {
   "cell_type": "code",
   "execution_count": 300,
   "metadata": {},
   "outputs": [],
   "source": []
  },
  {
   "cell_type": "code",
   "execution_count": 293,
   "metadata": {},
   "outputs": [],
   "source": [
    "# inperson_2[0]['inf_matrix']"
   ]
  },
  {
   "cell_type": "code",
   "execution_count": null,
   "metadata": {},
   "outputs": [],
   "source": []
  },
  {
   "cell_type": "code",
   "execution_count": 294,
   "metadata": {},
   "outputs": [],
   "source": [
    "# ug_dorm_inf=np.array(inperson_2[0]['inf_matrix'])[:,0]\n",
    "# ug_off_campus_inf = np.array(inperson_2[0]['inf_matrix'])[:,1]"
   ]
  },
  {
   "cell_type": "code",
   "execution_count": 295,
   "metadata": {},
   "outputs": [],
   "source": [
    "# ug_dorm_inf"
   ]
  },
  {
   "cell_type": "code",
   "execution_count": 296,
   "metadata": {},
   "outputs": [],
   "source": [
    "# ug_off_campus_inf"
   ]
  },
  {
   "cell_type": "code",
   "execution_count": null,
   "metadata": {},
   "outputs": [],
   "source": []
  },
  {
   "cell_type": "code",
   "execution_count": 100,
   "metadata": {},
   "outputs": [],
   "source": []
  },
  {
   "cell_type": "code",
   "execution_count": null,
   "metadata": {},
   "outputs": [],
   "source": []
  },
  {
   "cell_type": "code",
   "execution_count": null,
   "metadata": {},
   "outputs": [],
   "source": []
  },
  {
   "cell_type": "code",
   "execution_count": 358,
   "metadata": {},
   "outputs": [],
   "source": [
    "plotting_data_2['name'] = 'Virtual'\n",
    "plotting_data_3['name'] = 'Virtual, less compliant'\n",
    "plotting_data_4['name'] = 'Residential'\n",
    "plotting_data_5['name'] = 'Residential, less compliant'"
   ]
  },
  {
   "cell_type": "code",
   "execution_count": 362,
   "metadata": {},
   "outputs": [
    {
     "data": {
      "image/png": "[encoded data removed]",
      "text/plain": [
       "<Figure size 720x432 with 1 Axes>"
      ]
     },
     "metadata": {
      "needs_background": "light"
     },
     "output_type": "display_data"
    },
    {
     "data": {
      "image/png": "[encoded data removed]",
      "text/plain": [
       "<Figure size 720x432 with 1 Axes>"
      ]
     },
     "metadata": {
      "needs_background": "light"
     },
     "output_type": "display_data"
    },
    {
     "data": {
      "image/png": "[encoded data removed]",
      "text/plain": [
       "<Figure size 720x432 with 1 Axes>"
      ]
     },
     "metadata": {
      "needs_background": "light"
     },
     "output_type": "display_data"
    },
    {
     "data": {
      "image/png": "[encoded data removed]",
      "text/plain": [
       "<Figure size 720x432 with 1 Axes>"
      ]
     },
     "metadata": {
      "needs_background": "light"
     },
     "output_type": "display_data"
    }
   ],
   "source": [
    "fig = plt.figure(figsize=(10,6))\n",
    "ax = fig.add_subplot(111)\n",
    "\n",
    "plt.errorbar(x='name', y='cornell_inf', yerr = [plotting_data_2['cornell_inf_yerr_low'],plotting_data_2['cornell_inf_yerr_high']], fmt='o', color='b',data=plotting_data_2)\n",
    "plt.errorbar(x='name', y='cornell_inf', yerr = [plotting_data_3['cornell_inf_yerr_low'],plotting_data_3['cornell_inf_yerr_high']], fmt='o', color='b',data=plotting_data_3)\n",
    "plt.errorbar(x='name', y='cornell_inf', yerr = [plotting_data_4['cornell_inf_yerr_low'],plotting_data_4['cornell_inf_yerr_high']], fmt='o', color='b',data=plotting_data_4)\n",
    "plt.errorbar(x='name', y='cornell_inf', yerr = [plotting_data_5['cornell_inf_yerr_low'],plotting_data_5['cornell_inf_yerr_high']], fmt='o', color='b',data=plotting_data_5)\n",
    "\n",
    "plt.title('Cornell Infections')\n",
    "plt.ylabel('Infections')\n",
    "plt.xlabel('Scenarios')\n",
    "plt.ylim(0, 7000)\n",
    "plt.show()\n",
    "\n",
    "\n",
    "fig = plt.figure(figsize=(10,6))\n",
    "ax = fig.add_subplot(111)\n",
    "\n",
    "plt.errorbar(x='name', y='cornell_hosp', yerr = [plotting_data_2['cornell_hosp_yerr_low'],plotting_data_2['cornell_hosp_yerr_high']], fmt='o', color='b', data=plotting_data_2)\n",
    "plt.errorbar(x='name', y='cornell_hosp', yerr = [plotting_data_3['cornell_hosp_yerr_low'],plotting_data_3['cornell_hosp_yerr_high']], fmt='o', color='b',data=plotting_data_3)\n",
    "plt.errorbar(x='name', y='cornell_hosp', yerr = [plotting_data_4['cornell_hosp_yerr_low'],plotting_data_4['cornell_hosp_yerr_high']], fmt='o', color='b',data=plotting_data_4)\n",
    "plt.errorbar(x='name', y='cornell_hosp', yerr = [plotting_data_5['cornell_hosp_yerr_low'],plotting_data_5['cornell_hosp_yerr_high']], fmt='o', color='b',data=plotting_data_5)\n",
    "\n",
    "plt.title('Cornell Hospitalizations')\n",
    "plt.ylabel('Hospitalizations')\n",
    "plt.xlabel('Scenarios')\n",
    "plt.ylim(0, 60)\n",
    "plt.show()\n",
    "\n",
    "\n",
    "\n",
    "fig = plt.figure(figsize=(10,6))\n",
    "ax = fig.add_subplot(111)\n",
    "\n",
    "plt.errorbar(x='name', y='ithaca_inf', yerr = [plotting_data_2['ithaca_inf_yerr_low'],plotting_data_2['ithaca_inf_yerr_high']], fmt='o', color='b',data=plotting_data_2)\n",
    "plt.errorbar(x='name', y='ithaca_inf', yerr = [plotting_data_3['ithaca_inf_yerr_low'],plotting_data_3['ithaca_inf_yerr_high']], fmt='o', color='b',data=plotting_data_3)\n",
    "plt.errorbar(x='name', y='ithaca_inf', yerr = [plotting_data_4['ithaca_inf_yerr_low'],plotting_data_4['ithaca_inf_yerr_high']], fmt='o', color='b',data=plotting_data_4)\n",
    "plt.errorbar(x='name', y='ithaca_inf', yerr = [plotting_data_5['ithaca_inf_yerr_low'],plotting_data_5['ithaca_inf_yerr_high']], fmt='o', color='b',data=plotting_data_5)\n",
    "\n",
    "plt.title('Greater Ithaca Infections')\n",
    "plt.ylabel('Infections')\n",
    "plt.xlabel('Scenarios')\n",
    "plt.ylim(0, 2000)\n",
    "plt.show()\n",
    "\n",
    "\n",
    "fig = plt.figure(figsize=(10,6))\n",
    "ax = fig.add_subplot(111)\n",
    "\n",
    "plt.errorbar(x='name', y='ithaca_hosp', yerr = [plotting_data_2['ithaca_hosp_yerr_low'],plotting_data_2['ithaca_hosp_yerr_high']], fmt='o', color='b',data=plotting_data_2)\n",
    "plt.errorbar(x='name', y='ithaca_hosp', yerr = [plotting_data_3['ithaca_hosp_yerr_low'],plotting_data_3['ithaca_hosp_yerr_high']], fmt='o', color='b',data=plotting_data_3)\n",
    "plt.errorbar(x='name', y='ithaca_hosp', yerr = [plotting_data_4['ithaca_hosp_yerr_low'],plotting_data_4['ithaca_hosp_yerr_high']], fmt='o', color='b',data=plotting_data_4)\n",
    "plt.errorbar(x='name', y='ithaca_hosp', yerr = [plotting_data_5['ithaca_hosp_yerr_low'],plotting_data_5['ithaca_hosp_yerr_high']], fmt='o', color='b',data=plotting_data_5)\n",
    "\n",
    "plt.title('Greater Ithaca Hospitalizations')\n",
    "plt.ylabel('Hospitalizations')\n",
    "plt.xlabel('Scenarios')\n",
    "plt.ylim(0, 40)\n",
    "plt.show()"
   ]
  },
  {
   "cell_type": "code",
   "execution_count": 316,
   "metadata": {},
   "outputs": [],
   "source": []
  },
  {
   "cell_type": "code",
   "execution_count": null,
   "metadata": {},
   "outputs": [],
   "source": []
  },
  {
   "cell_type": "code",
   "execution_count": null,
   "metadata": {},
   "outputs": [],
   "source": []
  },
  {
   "cell_type": "code",
   "execution_count": null,
   "metadata": {},
   "outputs": [],
   "source": []
  },
  {
   "cell_type": "code",
   "execution_count": null,
   "metadata": {},
   "outputs": [],
   "source": []
  },
  {
   "cell_type": "code",
   "execution_count": null,
   "metadata": {},
   "outputs": [],
   "source": []
  },
  {
   "cell_type": "code",
   "execution_count": 249,
   "metadata": {},
   "outputs": [],
   "source": [
    "import seaborn as sns"
   ]
  },
  {
   "cell_type": "code",
   "execution_count": 349,
   "metadata": {},
   "outputs": [],
   "source": [
    "inperson_cornell_nom_inf = np.sum(np.array(inperson_1[0]['inf_matrix'])[:,:-1], axis=1)\n",
    "inperson_cornell_less_inf = np.sum(np.array(inperson_2[0]['inf_matrix'])[:,:-1], axis=1)\n",
    "inperson_cornell_nom_hosp = np.sum(np.array(inperson_1[0]['hosp_matrix'])[:,:-1], axis=1)\n",
    "inperson_cornell_less_hosp = np.sum(np.array(inperson_2[0]['hosp_matrix'])[:,:-1], axis=1)\n",
    "virtual_cornell_nom_inf = np.sum(np.array(virtual_2[0]['inf_matrix'])[:,:-1], axis=1)\n",
    "virtual_cornell_less_inf = np.sum(np.array(virtual_3[0]['inf_matrix'])[:,:-1], axis=1)\n",
    "virtual_cornell_nom_hosp = np.sum(np.array(virtual_2[0]['hosp_matrix'])[:,:-1], axis=1)\n",
    "virtual_cornell_less_hosp = np.sum(np.array(virtual_3[0]['hosp_matrix'])[:,:-1], axis=1)\n",
    "\n",
    "inperson_ithaca_nom_inf = np.array(inperson_1[0]['inf_matrix'])[:,-1]\n",
    "inperson_ithaca_less_inf = np.array(inperson_2[0]['inf_matrix'])[:,-1]\n",
    "inperson_ithaca_nom_hosp = np.array(inperson_1[0]['hosp_matrix'])[:,-1]\n",
    "inperson_ithaca_less_hosp = np.array(inperson_2[0]['hosp_matrix'])[:,-1]\n",
    "virtual_ithaca_nom_inf = np.array(virtual_2[0]['inf_matrix'])[:,-1]\n",
    "virtual_ithaca_less_inf = np.array(virtual_3[0]['inf_matrix'])[:,-1]\n",
    "virtual_ithaca_nom_hosp = np.array(virtual_2[0]['hosp_matrix'])[:,-1]\n",
    "virtual_ithaca_less_hosp = np.array(virtual_3[0]['hosp_matrix'])[:,-1]"
   ]
  },
  {
   "cell_type": "code",
   "execution_count": null,
   "metadata": {},
   "outputs": [],
   "source": []
  },
  {
   "cell_type": "code",
   "execution_count": 350,
   "metadata": {},
   "outputs": [
    {
     "name": "stdout",
     "output_type": "stream",
     "text": [
      "877.72\n",
      "8.732945569933994\n",
      "285.22\n",
      "8.013338487142319\n"
     ]
    }
   ],
   "source": [
    "print(np.mean(inperson_cornell_nom_inf))\n",
    "print(np.mean(inperson_cornell_nom_hosp))\n",
    "print(np.mean(inperson_ithaca_nom_inf))\n",
    "print(np.mean(inperson_ithaca_nom_hosp))"
   ]
  },
  {
   "cell_type": "code",
   "execution_count": 351,
   "metadata": {},
   "outputs": [
    {
     "name": "stdout",
     "output_type": "stream",
     "text": [
      "1856.18\n",
      "17.570369647476724\n",
      "333.84\n",
      "9.318575337333474\n"
     ]
    }
   ],
   "source": [
    "print(np.mean(inperson_cornell_less_inf))\n",
    "print(np.mean(inperson_cornell_less_hosp))\n",
    "print(np.mean(inperson_ithaca_less_inf))\n",
    "print(np.mean(inperson_ithaca_less_hosp))"
   ]
  },
  {
   "cell_type": "code",
   "execution_count": 352,
   "metadata": {},
   "outputs": [
    {
     "name": "stdout",
     "output_type": "stream",
     "text": [
      "5348.92\n",
      "44.992556478039916\n",
      "943.44\n",
      "26.401678387241578\n"
     ]
    }
   ],
   "source": [
    "print(np.mean(virtual_cornell_nom_inf))\n",
    "print(np.mean(virtual_cornell_nom_hosp))\n",
    "print(np.mean(virtual_ithaca_nom_inf))\n",
    "print(np.mean(virtual_ithaca_nom_hosp))"
   ]
  },
  {
   "cell_type": "code",
   "execution_count": 353,
   "metadata": {},
   "outputs": [
    {
     "name": "stdout",
     "output_type": "stream",
     "text": [
      "6311.74\n",
      "53.18238812295574\n",
      "1112.46\n",
      "31.332210588838667\n"
     ]
    }
   ],
   "source": [
    "print(np.mean(virtual_cornell_less_inf))\n",
    "print(np.mean(virtual_cornell_less_hosp))\n",
    "print(np.mean(virtual_ithaca_less_inf))\n",
    "print(np.mean(virtual_ithaca_less_hosp))"
   ]
  },
  {
   "cell_type": "code",
   "execution_count": null,
   "metadata": {},
   "outputs": [],
   "source": []
  },
  {
   "cell_type": "code",
   "execution_count": 369,
   "metadata": {},
   "outputs": [
    {
     "data": {
      "image/png": "[encoded data removed]",
      "text/plain": [
       "<Figure size 720x432 with 1 Axes>"
      ]
     },
     "metadata": {
      "needs_background": "light"
     },
     "output_type": "display_data"
    }
   ],
   "source": [
    "plt.figure(figsize=(10,6))\n",
    "df1 = pd.DataFrame({'Virtual': virtual_cornell_nom_inf})\n",
    "df2 = pd.DataFrame({'Virtual, less compliant': virtual_cornell_less_inf}) \n",
    "df3 = pd.DataFrame({'Residential': inperson_cornell_nom_inf})\n",
    "df4 = pd.DataFrame({'Residential, less compliant': inperson_cornell_less_inf})\n",
    " \n",
    "ax = sns.boxplot(data=pd.concat([df1, df2, df3, df4], ignore_index=True), whis=np.inf, color='white')\n",
    "ax = sns.swarmplot(data = pd.concat([df1, df2, df3, df4], ignore_index=True), color='b')\n",
    "ax.set(ylabel='Infections')\n",
    "ax.set_title('Infections in Cornell')\n",
    "plt.ylim(0, 7000)\n",
    "plt.show()"
   ]
  },
  {
   "cell_type": "code",
   "execution_count": 374,
   "metadata": {},
   "outputs": [
    {
     "data": {
      "image/png": "[encoded data removed]",
      "text/plain": [
       "<Figure size 720x432 with 1 Axes>"
      ]
     },
     "metadata": {
      "needs_background": "light"
     },
     "output_type": "display_data"
    }
   ],
   "source": [
    "plt.figure(figsize=(10,6))\n",
    "df1 = pd.DataFrame({'Virtual': virtual_cornell_nom_hosp})\n",
    "df2 = pd.DataFrame({'Virtual, less compliant': virtual_cornell_less_hosp}) \n",
    "df3 = pd.DataFrame({'Residential': inperson_cornell_nom_hosp})\n",
    "df4 = pd.DataFrame({'Residential, less compliant': inperson_cornell_less_hosp})\n",
    " \n",
    "ax = sns.boxplot(data=pd.concat([df1, df2, df3, df4], ignore_index=True), whis=np.inf, color='white')\n",
    "ax = sns.swarmplot(data = pd.concat([df1, df2, df3, df4], ignore_index=True), color='b')\n",
    "ax.set(ylabel='Hospitalizations')\n",
    "ax.set_title('Hospitalizations in Cornell')\n",
    "plt.ylim(0, 60)\n",
    "plt.show()"
   ]
  },
  {
   "cell_type": "code",
   "execution_count": 371,
   "metadata": {},
   "outputs": [
    {
     "data": {
      "image/png": "[encoded data removed]",
      "text/plain": [
       "<Figure size 720x432 with 1 Axes>"
      ]
     },
     "metadata": {
      "needs_background": "light"
     },
     "output_type": "display_data"
    }
   ],
   "source": [
    "plt.figure(figsize=(10,6))\n",
    "df1 = pd.DataFrame({'Virtual': virtual_ithaca_nom_inf})\n",
    "df2 = pd.DataFrame({'Virtual, less compliant': virtual_ithaca_less_inf}) \n",
    "df3 = pd.DataFrame({'Residential': inperson_ithaca_nom_inf})\n",
    "df4 = pd.DataFrame({'Residential, less compliant': inperson_ithaca_less_inf})\n",
    " \n",
    "ax = sns.boxplot(data=pd.concat([df1, df2, df3, df4], ignore_index=True), whis=np.inf, color='white')\n",
    "ax = sns.swarmplot(data = pd.concat([df1, df2, df3, df4], ignore_index=True), color='b')\n",
    "ax.set(ylabel='Infections')\n",
    "ax.set_title('Infections in Greater Ithaca')\n",
    "plt.ylim(0, 2000)\n",
    "plt.show()"
   ]
  },
  {
   "cell_type": "code",
   "execution_count": 372,
   "metadata": {},
   "outputs": [
    {
     "data": {
      "image/png": "[encoded data removed]",
      "text/plain": [
       "<Figure size 720x432 with 1 Axes>"
      ]
     },
     "metadata": {
      "needs_background": "light"
     },
     "output_type": "display_data"
    }
   ],
   "source": [
    "plt.figure(figsize=(10,6))\n",
    "df1 = pd.DataFrame({'Virtual': virtual_ithaca_nom_hosp})\n",
    "df2 = pd.DataFrame({'Virtual, less compliant': virtual_ithaca_less_hosp}) \n",
    "df3 = pd.DataFrame({'Residential': inperson_ithaca_nom_hosp})\n",
    "df4 = pd.DataFrame({'Residential, less compliant': inperson_ithaca_less_hosp})\n",
    " \n",
    "ax = sns.boxplot(data=pd.concat([df1, df2, df3, df4], ignore_index=True), whis=np.inf, color='white')\n",
    "ax = sns.swarmplot(data = pd.concat([df1, df2, df3, df4], ignore_index=True), color='b')\n",
    "ax.set(ylabel='Hospitalizations')\n",
    "ax.set_title('Hospitalizations in Greater Ithaca')\n",
    "plt.ylim(0, 60)\n",
    "plt.show()"
   ]
  },
  {
   "cell_type": "code",
   "execution_count": null,
   "metadata": {},
   "outputs": [],
   "source": []
  },
  {
   "cell_type": "code",
   "execution_count": null,
   "metadata": {},
   "outputs": [],
   "source": []
  },
  {
   "cell_type": "code",
   "execution_count": null,
   "metadata": {},
   "outputs": [],
   "source": []
  },
  {
   "cell_type": "code",
   "execution_count": null,
   "metadata": {},
   "outputs": [],
   "source": []
  },
  {
   "cell_type": "code",
   "execution_count": null,
   "metadata": {},
   "outputs": [],
   "source": []
  },
  {
   "cell_type": "code",
   "execution_count": 377,
   "metadata": {},
   "outputs": [],
   "source": [
    "# points = pd.DataFrame({'In-person nominal': inperson_ithaca_nom_hosp, 'In-person less responsible': inperson_ithaca_less_hosp})\n",
    "# flatui = [\"#34495e\", \"#2ecc71\"]\n",
    "# ax = sns.swarmplot(data = points, palette=sns.color_palette(flatui))\n",
    "# ax.set(ylabel='Hospitalizations')\n",
    "# ax.set_title('Hospitalizations for In-person Instruction')\n",
    "\n"
   ]
  },
  {
   "cell_type": "code",
   "execution_count": 376,
   "metadata": {},
   "outputs": [],
   "source": [
    "# points = pd.DataFrame({'Virtual nominal': virtual_ithaca_nom_inf, 'Virtual less responsible': virtual_ithaca_less_inf})\n",
    "# ax = sns.swarmplot(data = points)\n",
    "# sns.boxplot(data=points, whis=np.inf, color='white')\n",
    "# ax.set(ylabel='Infections')\n",
    "# ax.set_title('Infections for Virtual Instruction')"
   ]
  },
  {
   "cell_type": "code",
   "execution_count": 375,
   "metadata": {},
   "outputs": [],
   "source": [
    "# points = pd.DataFrame({'Virtual nominal': virtual_ithaca_nom_hosp, 'Virtual less responsible': virtual_ithaca_less_hosp})\n",
    "# flatui = [\"#34495e\", \"#2ecc71\"]\n",
    "# ax = sns.swarmplot(data = points, palette=sns.color_palette(flatui))\n",
    "# sns.boxplot(data=points, whis=np.inf, color='white')\n",
    "# ax.set(ylabel='Hospitalizations')\n",
    "# ax.set_title('Hospitalizations for Virtual Instruction')"
   ]
  },
  {
   "cell_type": "code",
   "execution_count": 132,
   "metadata": {},
   "outputs": [],
   "source": []
  },
  {
   "cell_type": "code",
   "execution_count": 133,
   "metadata": {},
   "outputs": [],
   "source": []
  },
  {
   "cell_type": "code",
   "execution_count": null,
   "metadata": {},
   "outputs": [],
   "source": []
  },
  {
   "cell_type": "code",
   "execution_count": null,
   "metadata": {},
   "outputs": [],
   "source": []
  }
 ],
 "metadata": {
  "kernelspec": {
   "display_name": "IPython (Python 3)",
   "language": "python",
   "name": "python3"
  },
  "language_info": {
   "codemirror_mode": {
    "name": "ipython",
    "version": 3
   },
   "file_extension": ".py",
   "mimetype": "text/x-python",
   "name": "python",
   "nbconvert_exporter": "python",
   "pygments_lexer": "ipython3",
   "version": "3.6.2"
  }
 },
 "nbformat": 4,
 "nbformat_minor": 4
}
