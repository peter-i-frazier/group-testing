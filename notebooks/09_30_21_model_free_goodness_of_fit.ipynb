{
 "cells": [
  {
   "cell_type": "code",
   "execution_count": 1,
   "metadata": {},
   "outputs": [],
   "source": [
    "import sys\n",
    "import os\n",
    "import numpy as np\n",
    "module_path = os.path.abspath(os.path.join('..'))\n",
    "if module_path not in sys.path:\n",
    "    sys.path.append(module_path + \"/src/simulations_v2\")\n",
    "    sys.path.append(module_path + \"/src/simulations_v2/params/spring_2021_calibration/\")\n",
    "    sys.path.append(module_path + \"/notebooks/pnas_paper_figs/\")"
   ]
  },
  {
   "cell_type": "code",
   "execution_count": 7,
   "metadata": {},
   "outputs": [
    {
     "data": {
      "text/plain": [
       "array([0.05, 0.1 , 0.15, 0.2 , 0.25, 0.3 , 0.35, 0.4 , 0.45, 0.5 , 0.55,\n",
       "       0.6 , 0.65, 0.7 , 0.75, 0.8 , 0.85, 0.9 , 0.95])"
      ]
     },
     "execution_count": 7,
     "metadata": {},
     "output_type": "execute_result"
    }
   ],
   "source": [
    "from uncertainty_analysis import calculate_pessimistic_scenario, load_sim_output, virtual_vs_residential_regression\n",
    "\n",
    "quantiles = np.arange(0.05,1,0.05)\n",
    "quantiles"
   ]
  },
  {
   "cell_type": "code",
   "execution_count": 8,
   "metadata": {},
   "outputs": [],
   "source": [
    "lhs_output_sim_files = []\n",
    "for i in range(2000):\n",
    "    fname = '/home/jmc678/covid_data/group-testing/notebooks/apr_29_scenarios/point_{}.dill'.format(i)\n",
    "    lhs_output_sim_files.append(fname)\n",
    "\n",
    "scenario_data = load_sim_output(lhs_output_sim_files)\n",
    "# res_results = residential_regression(scenario_data)\n",
    "res_results = virtual_vs_residential_regression(scenario_data)\n",
    "res_pessimistic = calculate_pessimistic_scenario(res_results)\n",
    "    "
   ]
  },
  {
   "cell_type": "code",
   "execution_count": null,
   "metadata": {},
   "outputs": [],
   "source": [
    "q = 0.7\n",
    "pess_scenario = calculate_pessimistic_scenario"
   ]
  }
 ],
 "metadata": {
  "kernelspec": {
   "display_name": "Python 3",
   "language": "python",
   "name": "python3"
  },
  "language_info": {
   "codemirror_mode": {
    "name": "ipython",
    "version": 3
   },
   "file_extension": ".py",
   "mimetype": "text/x-python",
   "name": "python",
   "nbconvert_exporter": "python",
   "pygments_lexer": "ipython3",
   "version": "3.6.3"
  }
 },
 "nbformat": 4,
 "nbformat_minor": 2
}
